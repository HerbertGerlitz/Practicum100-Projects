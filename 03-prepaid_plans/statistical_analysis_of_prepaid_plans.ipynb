{
 "cells": [
  {
   "cell_type": "markdown",
   "metadata": {},
   "source": [
    "# Analysis of Prepaid Plans"
   ]
  },
  {
   "cell_type": "markdown",
   "metadata": {},
   "source": [
    "The telecom operator Megaline offers its clients two prepaid plans: Surf and Ultimate. <br> The commercial department wants to know which of the plans brings in more revenue in order to adjust the advertising budget. There is data on 500 Megaline clients: Who the clients are, where they're from, which plan they use, and the number of calls they made and text messages they sent in 2018. <br> The goal is to analyse the clients' behavior and to determine which prepaid plan brings in more revenue."
   ]
  },
  {
   "cell_type": "markdown",
   "metadata": {},
   "source": [
    "Information about the prepaid plans:\n",
    "<br> <br>\n",
    "Surf:\n",
    "- Monthly charge: 20 Dollars\n",
    "- 500 monthly minutes, 50 texts, and 15 GB of data\n",
    "- After exceeding the package limits:\n",
    "- 1 minute: 3 cents\n",
    "- 1 text message: 3 cents\n",
    "- 1 GB of data: 10 Dollars\n",
    "\n",
    "Ultimate:\n",
    "- Monthly charge: 70 Dollars\n",
    "- 3000 monthly minutes, 1000 text messages, and 30 GB of data\n",
    "- After exceeding the package limits:\n",
    "- 1 minute: 1 cent\n",
    "- 1 text message: 1 cent\n",
    "- 1 GB of data: 7 Dollars\n",
    "\n",
    "Note: <br>\n",
    "Megaline rounds seconds up to minutes, and megabytes to gigabytes. For calls, each individual call is rounded up: even if the call lasted just one second, it will be counted as one minute. For web traffic, individual web sessions are not rounded up. Instead, the total for the month is rounded up. If someone uses 1025 megabytes this month, they will be charged for 2 gigabytes."
   ]
  },
  {
   "cell_type": "markdown",
   "metadata": {},
   "source": [
    "# Table of Contents\n",
    "\n",
    "- 1) [Open the data file and study the general information](#1)\n",
    "<br> <br>\n",
    "- 2) [Prepare the data](#2)\n",
    "<br> <br>\n",
    "    - 2.1) [Overview of the data and conversion of data types](#2.1)\n",
    "    - 2.2) [Find and eliminate errors](#2.2)\n",
    "    - 2.3) [Create table for analysis](#2.3)\n",
    "<br> <br>\n",
    "- 3) [Analysis](#3)\n",
    "<br> <br>\n",
    "    - 3.1) [Before removing outliers](#3.1)\n",
    "        - 3.1.1) [Call minutes per month](#3.1.1)\n",
    "        - 3.1.2) [Text messages per month](#3.1.2)\n",
    "        - 3.1.3) [Data volume per month](#3.1.3)\n",
    "    - 3.2) [After removing outliers](#3.2)\n",
    "        - 3.2.1) [Call minutes per month](#3.2.1)\n",
    "        - 3.2.2) [Text messages per month](#3.2.2)\n",
    "        - 3.2.3) [Data volume per month](#3.2.3)\n",
    "<br> <br>\n",
    "- 4) [Test the hypotheses](#4)\n",
    "<br> <br>\n",
    "    - 4.1) [Hypothesis 1: The average revenue from users of Ultimate and Surf calling plans differs.](#4.1)\n",
    "    - 4.2) [Hypothesis 2: The average revenue from users in NY-NJ area is different from that of the users from other regions.](#4.2)\n",
    "<br> <br>\n",
    "- 5) [Overall conclusion](#5)    "
   ]
  },
  {
   "cell_type": "markdown",
   "metadata": {},
   "source": [
    "<a id=\"1\"></a>"
   ]
  },
  {
   "cell_type": "markdown",
   "metadata": {},
   "source": [
    "## 1) Open the data file and study the general information"
   ]
  },
  {
   "cell_type": "code",
   "execution_count": 1,
   "metadata": {},
   "outputs": [],
   "source": [
    "# import libraries\n",
    "import pandas as pd\n",
    "import numpy as np\n",
    "from scipy import stats as st\n",
    "import matplotlib.pyplot as plt\n",
    "from scipy.stats import mannwhitneyu\n",
    "import sys\n",
    "import warnings\n",
    "if not sys.warnoptions:\n",
    "       warnings.simplefilter(\"ignore\")"
   ]
  },
  {
   "cell_type": "code",
   "execution_count": 2,
   "metadata": {},
   "outputs": [],
   "source": [
    "# read csv files\n",
    "try:\n",
    "    df_calls = pd.read_csv('C:/Users/Herbert/Documents/Practicum100/datasets/sda/megaline_calls.csv')\n",
    "    df_internet = pd.read_csv('C:/Users/Herbert/Documents/Practicum100/datasets/sda/megaline_internet.csv')\n",
    "    df_messages = pd.read_csv('C:/Users/Herbert/Documents/Practicum100/datasets/sda/megaline_messages.csv')\n",
    "    df_plans = pd.read_csv('C:/Users/Herbert/Documents/Practicum100/datasets/sda/megaline_plans.csv')\n",
    "    df_users = pd.read_csv('C:/Users/Herbert/Documents/Practicum100/datasets/sda/megaline_users.csv')\n",
    "except:\n",
    "    print(\"Couldn't read csv files.\")"
   ]
  },
  {
   "cell_type": "markdown",
   "metadata": {},
   "source": [
    "Print head and info of every table:"
   ]
  },
  {
   "cell_type": "code",
   "execution_count": 3,
   "metadata": {},
   "outputs": [
    {
     "data": {
      "text/html": [
       "<div>\n",
       "<style scoped>\n",
       "    .dataframe tbody tr th:only-of-type {\n",
       "        vertical-align: middle;\n",
       "    }\n",
       "\n",
       "    .dataframe tbody tr th {\n",
       "        vertical-align: top;\n",
       "    }\n",
       "\n",
       "    .dataframe thead th {\n",
       "        text-align: right;\n",
       "    }\n",
       "</style>\n",
       "<table border=\"1\" class=\"dataframe\">\n",
       "  <thead>\n",
       "    <tr style=\"text-align: right;\">\n",
       "      <th></th>\n",
       "      <th>id</th>\n",
       "      <th>user_id</th>\n",
       "      <th>call_date</th>\n",
       "      <th>duration</th>\n",
       "    </tr>\n",
       "  </thead>\n",
       "  <tbody>\n",
       "    <tr>\n",
       "      <td>0</td>\n",
       "      <td>1000_93</td>\n",
       "      <td>1000</td>\n",
       "      <td>2018-12-27</td>\n",
       "      <td>8.52</td>\n",
       "    </tr>\n",
       "    <tr>\n",
       "      <td>1</td>\n",
       "      <td>1000_145</td>\n",
       "      <td>1000</td>\n",
       "      <td>2018-12-27</td>\n",
       "      <td>13.66</td>\n",
       "    </tr>\n",
       "    <tr>\n",
       "      <td>2</td>\n",
       "      <td>1000_247</td>\n",
       "      <td>1000</td>\n",
       "      <td>2018-12-27</td>\n",
       "      <td>14.48</td>\n",
       "    </tr>\n",
       "    <tr>\n",
       "      <td>3</td>\n",
       "      <td>1000_309</td>\n",
       "      <td>1000</td>\n",
       "      <td>2018-12-28</td>\n",
       "      <td>5.76</td>\n",
       "    </tr>\n",
       "    <tr>\n",
       "      <td>4</td>\n",
       "      <td>1000_380</td>\n",
       "      <td>1000</td>\n",
       "      <td>2018-12-30</td>\n",
       "      <td>4.22</td>\n",
       "    </tr>\n",
       "  </tbody>\n",
       "</table>\n",
       "</div>"
      ],
      "text/plain": [
       "         id  user_id   call_date  duration\n",
       "0   1000_93     1000  2018-12-27      8.52\n",
       "1  1000_145     1000  2018-12-27     13.66\n",
       "2  1000_247     1000  2018-12-27     14.48\n",
       "3  1000_309     1000  2018-12-28      5.76\n",
       "4  1000_380     1000  2018-12-30      4.22"
      ]
     },
     "execution_count": 3,
     "metadata": {},
     "output_type": "execute_result"
    }
   ],
   "source": [
    "df_calls.head()"
   ]
  },
  {
   "cell_type": "code",
   "execution_count": 4,
   "metadata": {},
   "outputs": [
    {
     "name": "stdout",
     "output_type": "stream",
     "text": [
      "<class 'pandas.core.frame.DataFrame'>\n",
      "RangeIndex: 137735 entries, 0 to 137734\n",
      "Data columns (total 4 columns):\n",
      "id           137735 non-null object\n",
      "user_id      137735 non-null int64\n",
      "call_date    137735 non-null object\n",
      "duration     137735 non-null float64\n",
      "dtypes: float64(1), int64(1), object(2)\n",
      "memory usage: 4.2+ MB\n"
     ]
    }
   ],
   "source": [
    "df_calls.info()"
   ]
  },
  {
   "cell_type": "code",
   "execution_count": 5,
   "metadata": {},
   "outputs": [
    {
     "data": {
      "text/html": [
       "<div>\n",
       "<style scoped>\n",
       "    .dataframe tbody tr th:only-of-type {\n",
       "        vertical-align: middle;\n",
       "    }\n",
       "\n",
       "    .dataframe tbody tr th {\n",
       "        vertical-align: top;\n",
       "    }\n",
       "\n",
       "    .dataframe thead th {\n",
       "        text-align: right;\n",
       "    }\n",
       "</style>\n",
       "<table border=\"1\" class=\"dataframe\">\n",
       "  <thead>\n",
       "    <tr style=\"text-align: right;\">\n",
       "      <th></th>\n",
       "      <th>id</th>\n",
       "      <th>user_id</th>\n",
       "      <th>session_date</th>\n",
       "      <th>mb_used</th>\n",
       "    </tr>\n",
       "  </thead>\n",
       "  <tbody>\n",
       "    <tr>\n",
       "      <td>0</td>\n",
       "      <td>1000_13</td>\n",
       "      <td>1000</td>\n",
       "      <td>2018-12-29</td>\n",
       "      <td>89.86</td>\n",
       "    </tr>\n",
       "    <tr>\n",
       "      <td>1</td>\n",
       "      <td>1000_204</td>\n",
       "      <td>1000</td>\n",
       "      <td>2018-12-31</td>\n",
       "      <td>0.00</td>\n",
       "    </tr>\n",
       "    <tr>\n",
       "      <td>2</td>\n",
       "      <td>1000_379</td>\n",
       "      <td>1000</td>\n",
       "      <td>2018-12-28</td>\n",
       "      <td>660.40</td>\n",
       "    </tr>\n",
       "    <tr>\n",
       "      <td>3</td>\n",
       "      <td>1000_413</td>\n",
       "      <td>1000</td>\n",
       "      <td>2018-12-26</td>\n",
       "      <td>270.99</td>\n",
       "    </tr>\n",
       "    <tr>\n",
       "      <td>4</td>\n",
       "      <td>1000_442</td>\n",
       "      <td>1000</td>\n",
       "      <td>2018-12-27</td>\n",
       "      <td>880.22</td>\n",
       "    </tr>\n",
       "  </tbody>\n",
       "</table>\n",
       "</div>"
      ],
      "text/plain": [
       "         id  user_id session_date  mb_used\n",
       "0   1000_13     1000   2018-12-29    89.86\n",
       "1  1000_204     1000   2018-12-31     0.00\n",
       "2  1000_379     1000   2018-12-28   660.40\n",
       "3  1000_413     1000   2018-12-26   270.99\n",
       "4  1000_442     1000   2018-12-27   880.22"
      ]
     },
     "execution_count": 5,
     "metadata": {},
     "output_type": "execute_result"
    }
   ],
   "source": [
    "df_internet.head()"
   ]
  },
  {
   "cell_type": "code",
   "execution_count": 6,
   "metadata": {},
   "outputs": [
    {
     "name": "stdout",
     "output_type": "stream",
     "text": [
      "<class 'pandas.core.frame.DataFrame'>\n",
      "RangeIndex: 104825 entries, 0 to 104824\n",
      "Data columns (total 4 columns):\n",
      "id              104825 non-null object\n",
      "user_id         104825 non-null int64\n",
      "session_date    104825 non-null object\n",
      "mb_used         104825 non-null float64\n",
      "dtypes: float64(1), int64(1), object(2)\n",
      "memory usage: 3.2+ MB\n"
     ]
    }
   ],
   "source": [
    "df_internet.info()"
   ]
  },
  {
   "cell_type": "code",
   "execution_count": 7,
   "metadata": {},
   "outputs": [
    {
     "data": {
      "text/html": [
       "<div>\n",
       "<style scoped>\n",
       "    .dataframe tbody tr th:only-of-type {\n",
       "        vertical-align: middle;\n",
       "    }\n",
       "\n",
       "    .dataframe tbody tr th {\n",
       "        vertical-align: top;\n",
       "    }\n",
       "\n",
       "    .dataframe thead th {\n",
       "        text-align: right;\n",
       "    }\n",
       "</style>\n",
       "<table border=\"1\" class=\"dataframe\">\n",
       "  <thead>\n",
       "    <tr style=\"text-align: right;\">\n",
       "      <th></th>\n",
       "      <th>id</th>\n",
       "      <th>user_id</th>\n",
       "      <th>message_date</th>\n",
       "    </tr>\n",
       "  </thead>\n",
       "  <tbody>\n",
       "    <tr>\n",
       "      <td>0</td>\n",
       "      <td>1000_125</td>\n",
       "      <td>1000</td>\n",
       "      <td>2018-12-27</td>\n",
       "    </tr>\n",
       "    <tr>\n",
       "      <td>1</td>\n",
       "      <td>1000_160</td>\n",
       "      <td>1000</td>\n",
       "      <td>2018-12-31</td>\n",
       "    </tr>\n",
       "    <tr>\n",
       "      <td>2</td>\n",
       "      <td>1000_223</td>\n",
       "      <td>1000</td>\n",
       "      <td>2018-12-31</td>\n",
       "    </tr>\n",
       "    <tr>\n",
       "      <td>3</td>\n",
       "      <td>1000_251</td>\n",
       "      <td>1000</td>\n",
       "      <td>2018-12-27</td>\n",
       "    </tr>\n",
       "    <tr>\n",
       "      <td>4</td>\n",
       "      <td>1000_255</td>\n",
       "      <td>1000</td>\n",
       "      <td>2018-12-26</td>\n",
       "    </tr>\n",
       "  </tbody>\n",
       "</table>\n",
       "</div>"
      ],
      "text/plain": [
       "         id  user_id message_date\n",
       "0  1000_125     1000   2018-12-27\n",
       "1  1000_160     1000   2018-12-31\n",
       "2  1000_223     1000   2018-12-31\n",
       "3  1000_251     1000   2018-12-27\n",
       "4  1000_255     1000   2018-12-26"
      ]
     },
     "execution_count": 7,
     "metadata": {},
     "output_type": "execute_result"
    }
   ],
   "source": [
    "df_messages.head()"
   ]
  },
  {
   "cell_type": "code",
   "execution_count": 8,
   "metadata": {},
   "outputs": [
    {
     "name": "stdout",
     "output_type": "stream",
     "text": [
      "<class 'pandas.core.frame.DataFrame'>\n",
      "RangeIndex: 76051 entries, 0 to 76050\n",
      "Data columns (total 3 columns):\n",
      "id              76051 non-null object\n",
      "user_id         76051 non-null int64\n",
      "message_date    76051 non-null object\n",
      "dtypes: int64(1), object(2)\n",
      "memory usage: 1.7+ MB\n"
     ]
    }
   ],
   "source": [
    "df_messages.info()"
   ]
  },
  {
   "cell_type": "code",
   "execution_count": 9,
   "metadata": {},
   "outputs": [
    {
     "data": {
      "text/html": [
       "<div>\n",
       "<style scoped>\n",
       "    .dataframe tbody tr th:only-of-type {\n",
       "        vertical-align: middle;\n",
       "    }\n",
       "\n",
       "    .dataframe tbody tr th {\n",
       "        vertical-align: top;\n",
       "    }\n",
       "\n",
       "    .dataframe thead th {\n",
       "        text-align: right;\n",
       "    }\n",
       "</style>\n",
       "<table border=\"1\" class=\"dataframe\">\n",
       "  <thead>\n",
       "    <tr style=\"text-align: right;\">\n",
       "      <th></th>\n",
       "      <th>messages_included</th>\n",
       "      <th>mb_per_month_included</th>\n",
       "      <th>minutes_included</th>\n",
       "      <th>usd_monthly_pay</th>\n",
       "      <th>usd_per_gb</th>\n",
       "      <th>usd_per_message</th>\n",
       "      <th>usd_per_minute</th>\n",
       "      <th>plan_name</th>\n",
       "    </tr>\n",
       "  </thead>\n",
       "  <tbody>\n",
       "    <tr>\n",
       "      <td>0</td>\n",
       "      <td>50</td>\n",
       "      <td>15360</td>\n",
       "      <td>500</td>\n",
       "      <td>20</td>\n",
       "      <td>10</td>\n",
       "      <td>0.03</td>\n",
       "      <td>0.03</td>\n",
       "      <td>surf</td>\n",
       "    </tr>\n",
       "    <tr>\n",
       "      <td>1</td>\n",
       "      <td>1000</td>\n",
       "      <td>30720</td>\n",
       "      <td>3000</td>\n",
       "      <td>70</td>\n",
       "      <td>7</td>\n",
       "      <td>0.01</td>\n",
       "      <td>0.01</td>\n",
       "      <td>ultimate</td>\n",
       "    </tr>\n",
       "  </tbody>\n",
       "</table>\n",
       "</div>"
      ],
      "text/plain": [
       "   messages_included  mb_per_month_included  minutes_included  \\\n",
       "0                 50                  15360               500   \n",
       "1               1000                  30720              3000   \n",
       "\n",
       "   usd_monthly_pay  usd_per_gb  usd_per_message  usd_per_minute plan_name  \n",
       "0               20          10             0.03            0.03      surf  \n",
       "1               70           7             0.01            0.01  ultimate  "
      ]
     },
     "execution_count": 9,
     "metadata": {},
     "output_type": "execute_result"
    }
   ],
   "source": [
    "df_plans.head()"
   ]
  },
  {
   "cell_type": "code",
   "execution_count": 10,
   "metadata": {},
   "outputs": [
    {
     "name": "stdout",
     "output_type": "stream",
     "text": [
      "<class 'pandas.core.frame.DataFrame'>\n",
      "RangeIndex: 2 entries, 0 to 1\n",
      "Data columns (total 8 columns):\n",
      "messages_included        2 non-null int64\n",
      "mb_per_month_included    2 non-null int64\n",
      "minutes_included         2 non-null int64\n",
      "usd_monthly_pay          2 non-null int64\n",
      "usd_per_gb               2 non-null int64\n",
      "usd_per_message          2 non-null float64\n",
      "usd_per_minute           2 non-null float64\n",
      "plan_name                2 non-null object\n",
      "dtypes: float64(2), int64(5), object(1)\n",
      "memory usage: 256.0+ bytes\n"
     ]
    }
   ],
   "source": [
    "df_plans.info()"
   ]
  },
  {
   "cell_type": "code",
   "execution_count": 11,
   "metadata": {},
   "outputs": [
    {
     "data": {
      "text/html": [
       "<div>\n",
       "<style scoped>\n",
       "    .dataframe tbody tr th:only-of-type {\n",
       "        vertical-align: middle;\n",
       "    }\n",
       "\n",
       "    .dataframe tbody tr th {\n",
       "        vertical-align: top;\n",
       "    }\n",
       "\n",
       "    .dataframe thead th {\n",
       "        text-align: right;\n",
       "    }\n",
       "</style>\n",
       "<table border=\"1\" class=\"dataframe\">\n",
       "  <thead>\n",
       "    <tr style=\"text-align: right;\">\n",
       "      <th></th>\n",
       "      <th>user_id</th>\n",
       "      <th>first_name</th>\n",
       "      <th>last_name</th>\n",
       "      <th>age</th>\n",
       "      <th>city</th>\n",
       "      <th>reg_date</th>\n",
       "      <th>plan</th>\n",
       "      <th>churn_date</th>\n",
       "    </tr>\n",
       "  </thead>\n",
       "  <tbody>\n",
       "    <tr>\n",
       "      <td>0</td>\n",
       "      <td>1000</td>\n",
       "      <td>Anamaria</td>\n",
       "      <td>Bauer</td>\n",
       "      <td>45</td>\n",
       "      <td>Atlanta-Sandy Springs-Roswell, GA MSA</td>\n",
       "      <td>2018-12-24</td>\n",
       "      <td>ultimate</td>\n",
       "      <td>NaN</td>\n",
       "    </tr>\n",
       "    <tr>\n",
       "      <td>1</td>\n",
       "      <td>1001</td>\n",
       "      <td>Mickey</td>\n",
       "      <td>Wilkerson</td>\n",
       "      <td>28</td>\n",
       "      <td>Seattle-Tacoma-Bellevue, WA MSA</td>\n",
       "      <td>2018-08-13</td>\n",
       "      <td>surf</td>\n",
       "      <td>NaN</td>\n",
       "    </tr>\n",
       "    <tr>\n",
       "      <td>2</td>\n",
       "      <td>1002</td>\n",
       "      <td>Carlee</td>\n",
       "      <td>Hoffman</td>\n",
       "      <td>36</td>\n",
       "      <td>Las Vegas-Henderson-Paradise, NV MSA</td>\n",
       "      <td>2018-10-21</td>\n",
       "      <td>surf</td>\n",
       "      <td>NaN</td>\n",
       "    </tr>\n",
       "    <tr>\n",
       "      <td>3</td>\n",
       "      <td>1003</td>\n",
       "      <td>Reynaldo</td>\n",
       "      <td>Jenkins</td>\n",
       "      <td>52</td>\n",
       "      <td>Tulsa, OK MSA</td>\n",
       "      <td>2018-01-28</td>\n",
       "      <td>surf</td>\n",
       "      <td>NaN</td>\n",
       "    </tr>\n",
       "    <tr>\n",
       "      <td>4</td>\n",
       "      <td>1004</td>\n",
       "      <td>Leonila</td>\n",
       "      <td>Thompson</td>\n",
       "      <td>40</td>\n",
       "      <td>Seattle-Tacoma-Bellevue, WA MSA</td>\n",
       "      <td>2018-05-23</td>\n",
       "      <td>surf</td>\n",
       "      <td>NaN</td>\n",
       "    </tr>\n",
       "  </tbody>\n",
       "</table>\n",
       "</div>"
      ],
      "text/plain": [
       "   user_id first_name  last_name  age                                   city  \\\n",
       "0     1000   Anamaria      Bauer   45  Atlanta-Sandy Springs-Roswell, GA MSA   \n",
       "1     1001     Mickey  Wilkerson   28        Seattle-Tacoma-Bellevue, WA MSA   \n",
       "2     1002     Carlee    Hoffman   36   Las Vegas-Henderson-Paradise, NV MSA   \n",
       "3     1003   Reynaldo    Jenkins   52                          Tulsa, OK MSA   \n",
       "4     1004    Leonila   Thompson   40        Seattle-Tacoma-Bellevue, WA MSA   \n",
       "\n",
       "     reg_date      plan churn_date  \n",
       "0  2018-12-24  ultimate        NaN  \n",
       "1  2018-08-13      surf        NaN  \n",
       "2  2018-10-21      surf        NaN  \n",
       "3  2018-01-28      surf        NaN  \n",
       "4  2018-05-23      surf        NaN  "
      ]
     },
     "execution_count": 11,
     "metadata": {},
     "output_type": "execute_result"
    }
   ],
   "source": [
    "df_users.head()"
   ]
  },
  {
   "cell_type": "code",
   "execution_count": 12,
   "metadata": {},
   "outputs": [
    {
     "name": "stdout",
     "output_type": "stream",
     "text": [
      "<class 'pandas.core.frame.DataFrame'>\n",
      "RangeIndex: 500 entries, 0 to 499\n",
      "Data columns (total 8 columns):\n",
      "user_id       500 non-null int64\n",
      "first_name    500 non-null object\n",
      "last_name     500 non-null object\n",
      "age           500 non-null int64\n",
      "city          500 non-null object\n",
      "reg_date      500 non-null object\n",
      "plan          500 non-null object\n",
      "churn_date    34 non-null object\n",
      "dtypes: int64(2), object(6)\n",
      "memory usage: 31.4+ KB\n"
     ]
    }
   ],
   "source": [
    "df_users.info()"
   ]
  },
  {
   "cell_type": "markdown",
   "metadata": {},
   "source": [
    "### Conclusion"
   ]
  },
  {
   "cell_type": "markdown",
   "metadata": {},
   "source": [
    "We have five tables. <br>\n",
    "The three tables 'df_calls', 'df_internet' and 'df_messages' show the duration time of phone calls, the used volume of data and the message IDs for every phone call, month with internet access and message the costumers had. The table 'df_plans' shows the conditions of the two possible prepaid plans. Many informations - also the 'user_id' - of the costumers can be found in the table 'df_users'. <br>\n",
    "Besides the table 'df_plans', the other four tables have all the column 'user_id' which is the connection column for the tables. Only table 'df_users' has missing values; only in the column 'churn_date'. In that column the missing value means that the costumer has used the service at the moment the data has been retrieved. <br>\n",
    "The columns in the float64 data type have minutes, megabytes or dollars as units."
   ]
  },
  {
   "cell_type": "markdown",
   "metadata": {},
   "source": [
    "<a id=\"2\"></a>"
   ]
  },
  {
   "cell_type": "markdown",
   "metadata": {},
   "source": [
    "## 2) Prepare the data"
   ]
  },
  {
   "cell_type": "markdown",
   "metadata": {},
   "source": [
    "<a id=\"2.1\"></a>"
   ]
  },
  {
   "cell_type": "markdown",
   "metadata": {},
   "source": [
    "### 2.1) Overview of the data and conversion of data types"
   ]
  },
  {
   "cell_type": "markdown",
   "metadata": {},
   "source": [
    "###### table df_calls"
   ]
  },
  {
   "cell_type": "code",
   "execution_count": 13,
   "metadata": {},
   "outputs": [],
   "source": [
    "###### table df_calls\n",
    "\n",
    "\n",
    "# transform the data type of the column 'call_date' to Datetime64\n",
    "df_calls['call_date'] = pd.to_datetime(df_calls['call_date'], format='%Y-%m-%d')"
   ]
  },
  {
   "cell_type": "code",
   "execution_count": 14,
   "metadata": {},
   "outputs": [
    {
     "name": "stdout",
     "output_type": "stream",
     "text": [
      "There are 0 duplicates in the table 'df_calls'.\n"
     ]
    }
   ],
   "source": [
    "# search for duplicates\n",
    "print(\"There are {} duplicates in the table 'df_calls'.\".format(df_calls.duplicated(subset=['id']).sum()))"
   ]
  },
  {
   "cell_type": "code",
   "execution_count": 15,
   "metadata": {},
   "outputs": [],
   "source": [
    "# add column 'call_month' which tells us the month of the call date\n",
    "df_calls['month'] = df_calls['call_date'].dt.month"
   ]
  },
  {
   "cell_type": "code",
   "execution_count": 16,
   "metadata": {},
   "outputs": [],
   "source": [
    "# round up numbers in the column 'duration' since the prepaid plans are rounding up minutes\n",
    "df_calls['duration'] = df_calls['duration'].apply(np.ceil)"
   ]
  },
  {
   "cell_type": "code",
   "execution_count": 17,
   "metadata": {},
   "outputs": [
    {
     "name": "stdout",
     "output_type": "stream",
     "text": [
      "The minimum value for duration is 0.0 and\n",
      "the maximum value for duration is 38.0.\n",
      "19.5% of all calls have a duration of 0 seconds.\n"
     ]
    }
   ],
   "source": [
    "# overview of duration values\n",
    "print(\"The minimum value for duration is {} and\".format(df_calls['duration'].min()))\n",
    "print(\"the maximum value for duration is {}.\".format(df_calls['duration'].max()))\n",
    "print(\"{:.1%} of all calls have a duration of 0 seconds.\" \\\n",
    "      .format(len(df_calls[df_calls['duration'] == 0])/ len(df_calls)))"
   ]
  },
  {
   "cell_type": "markdown",
   "metadata": {},
   "source": [
    "The calls with a duration of 0 seconds might be missed calls. Since the percentage of these missed calls is very high, I leave them in the table."
   ]
  },
  {
   "cell_type": "code",
   "execution_count": 18,
   "metadata": {},
   "outputs": [],
   "source": [
    "# I create the new column 'is_missed' that has 1 as value when the call might be missed (duration = 0) and the value\n",
    "# 0 when the call wasn't missed (duration > 0).\n",
    "\n",
    "for i in range(len(df_calls)):\n",
    "    if df_calls.loc[i, 'duration'] == 0:\n",
    "        df_calls.loc[i, 'is_missed'] = 1\n",
    "    else:\n",
    "        df_calls.loc[i, 'is_missed'] = 0"
   ]
  },
  {
   "cell_type": "code",
   "execution_count": 19,
   "metadata": {},
   "outputs": [
    {
     "name": "stdout",
     "output_type": "stream",
     "text": [
      "The earliest date is 2018-01-15 00:00:00\n",
      "The latest date is 2018-12-31 00:00:00\n"
     ]
    }
   ],
   "source": [
    "# overview of call dates\n",
    "print(\"The earliest date is\", df_calls['call_date'].min())\n",
    "print(\"The latest date is\", df_calls['call_date'].max())"
   ]
  },
  {
   "cell_type": "code",
   "execution_count": 20,
   "metadata": {},
   "outputs": [],
   "source": [
    "# Now, there are only integers in the column 'duration', so we change this column to int32 data type.\n",
    "try:\n",
    "    df_calls['duration'] = df_calls['duration'].astype(int)\n",
    "except:\n",
    "    print(\"Couldn't transform the column 'duration' into int32 data type.\")"
   ]
  },
  {
   "cell_type": "code",
   "execution_count": 21,
   "metadata": {},
   "outputs": [
    {
     "data": {
      "text/html": [
       "<div>\n",
       "<style scoped>\n",
       "    .dataframe tbody tr th:only-of-type {\n",
       "        vertical-align: middle;\n",
       "    }\n",
       "\n",
       "    .dataframe tbody tr th {\n",
       "        vertical-align: top;\n",
       "    }\n",
       "\n",
       "    .dataframe thead th {\n",
       "        text-align: right;\n",
       "    }\n",
       "</style>\n",
       "<table border=\"1\" class=\"dataframe\">\n",
       "  <thead>\n",
       "    <tr style=\"text-align: right;\">\n",
       "      <th></th>\n",
       "      <th>id</th>\n",
       "      <th>user_id</th>\n",
       "      <th>call_date</th>\n",
       "      <th>duration</th>\n",
       "      <th>month</th>\n",
       "      <th>is_missed</th>\n",
       "    </tr>\n",
       "  </thead>\n",
       "  <tbody>\n",
       "    <tr>\n",
       "      <td>0</td>\n",
       "      <td>1000_93</td>\n",
       "      <td>1000</td>\n",
       "      <td>2018-12-27</td>\n",
       "      <td>9</td>\n",
       "      <td>12</td>\n",
       "      <td>0.0</td>\n",
       "    </tr>\n",
       "    <tr>\n",
       "      <td>1</td>\n",
       "      <td>1000_145</td>\n",
       "      <td>1000</td>\n",
       "      <td>2018-12-27</td>\n",
       "      <td>14</td>\n",
       "      <td>12</td>\n",
       "      <td>0.0</td>\n",
       "    </tr>\n",
       "    <tr>\n",
       "      <td>2</td>\n",
       "      <td>1000_247</td>\n",
       "      <td>1000</td>\n",
       "      <td>2018-12-27</td>\n",
       "      <td>15</td>\n",
       "      <td>12</td>\n",
       "      <td>0.0</td>\n",
       "    </tr>\n",
       "    <tr>\n",
       "      <td>3</td>\n",
       "      <td>1000_309</td>\n",
       "      <td>1000</td>\n",
       "      <td>2018-12-28</td>\n",
       "      <td>6</td>\n",
       "      <td>12</td>\n",
       "      <td>0.0</td>\n",
       "    </tr>\n",
       "    <tr>\n",
       "      <td>4</td>\n",
       "      <td>1000_380</td>\n",
       "      <td>1000</td>\n",
       "      <td>2018-12-30</td>\n",
       "      <td>5</td>\n",
       "      <td>12</td>\n",
       "      <td>0.0</td>\n",
       "    </tr>\n",
       "  </tbody>\n",
       "</table>\n",
       "</div>"
      ],
      "text/plain": [
       "         id  user_id  call_date  duration  month  is_missed\n",
       "0   1000_93     1000 2018-12-27         9     12        0.0\n",
       "1  1000_145     1000 2018-12-27        14     12        0.0\n",
       "2  1000_247     1000 2018-12-27        15     12        0.0\n",
       "3  1000_309     1000 2018-12-28         6     12        0.0\n",
       "4  1000_380     1000 2018-12-30         5     12        0.0"
      ]
     },
     "execution_count": 21,
     "metadata": {},
     "output_type": "execute_result"
    }
   ],
   "source": [
    "df_calls.head()"
   ]
  },
  {
   "cell_type": "code",
   "execution_count": 22,
   "metadata": {},
   "outputs": [
    {
     "name": "stdout",
     "output_type": "stream",
     "text": [
      "<class 'pandas.core.frame.DataFrame'>\n",
      "RangeIndex: 137735 entries, 0 to 137734\n",
      "Data columns (total 6 columns):\n",
      "id           137735 non-null object\n",
      "user_id      137735 non-null int64\n",
      "call_date    137735 non-null datetime64[ns]\n",
      "duration     137735 non-null int32\n",
      "month        137735 non-null int64\n",
      "is_missed    137735 non-null float64\n",
      "dtypes: datetime64[ns](1), float64(1), int32(1), int64(2), object(1)\n",
      "memory usage: 5.8+ MB\n"
     ]
    }
   ],
   "source": [
    "df_calls.info()"
   ]
  },
  {
   "cell_type": "markdown",
   "metadata": {},
   "source": [
    "###### table df_internet"
   ]
  },
  {
   "cell_type": "code",
   "execution_count": 23,
   "metadata": {},
   "outputs": [],
   "source": [
    "###### table df_internet\n",
    "\n",
    "\n",
    "# transform the data type of the column 'session_date' to Datetime64\n",
    "df_internet['session_date'] = pd.to_datetime(df_internet['session_date'], format='%Y-%m-%d')"
   ]
  },
  {
   "cell_type": "code",
   "execution_count": 24,
   "metadata": {},
   "outputs": [
    {
     "name": "stdout",
     "output_type": "stream",
     "text": [
      "There are 0 duplicates in the table 'df_internet'.\n"
     ]
    }
   ],
   "source": [
    "# search for duplicates\n",
    "print(\"There are {} duplicates in the table 'df_internet'.\".format(df_internet.duplicated(subset=['id']).sum()))"
   ]
  },
  {
   "cell_type": "code",
   "execution_count": 25,
   "metadata": {},
   "outputs": [],
   "source": [
    "# add column 'session_month' which tells us the month of the session date.\n",
    "df_internet['month'] = df_internet['session_date'].dt.month"
   ]
  },
  {
   "cell_type": "code",
   "execution_count": 26,
   "metadata": {},
   "outputs": [
    {
     "name": "stdout",
     "output_type": "stream",
     "text": [
      "The minimum value for 'mb_used' is 0.0 MB and\n",
      "the maximum value for 'mb_used' is 1693.47 MB.\n",
      "13.1% of all sessions have a data volume of 0 MB.\n"
     ]
    }
   ],
   "source": [
    "# overview of 'mb_used' values\n",
    "print(\"The minimum value for 'mb_used' is {} MB and\".format(df_internet['mb_used'].min()))\n",
    "print(\"the maximum value for 'mb_used' is {} MB.\".format(df_internet['mb_used'].max()))\n",
    "print(\"{:.1%} of all sessions have a data volume of 0 MB.\" \\\n",
    "      .format(len(df_internet[df_internet['mb_used'] == 0])/ len(df_internet)))"
   ]
  },
  {
   "cell_type": "markdown",
   "metadata": {},
   "source": [
    "The sessions with 0 MB might be sessions that used a so small amount of data that the system counted them as 0.00 MB.\n",
    "Since the percentage of these sessions is very high, I leave them in the table."
   ]
  },
  {
   "cell_type": "code",
   "execution_count": 27,
   "metadata": {},
   "outputs": [
    {
     "name": "stdout",
     "output_type": "stream",
     "text": [
      "The earliest date is 2018-01-15 00:00:00\n",
      "The latest date is 2018-12-31 00:00:00\n"
     ]
    }
   ],
   "source": [
    "# overview of session dates\n",
    "print(\"The earliest date is\", df_internet['session_date'].min())\n",
    "print(\"The latest date is\", df_internet['session_date'].max())"
   ]
  },
  {
   "cell_type": "markdown",
   "metadata": {},
   "source": [
    "Both dates correspond exactly to those minimum and maximum dates from the table 'df_calls'."
   ]
  },
  {
   "cell_type": "code",
   "execution_count": 28,
   "metadata": {},
   "outputs": [
    {
     "data": {
      "text/html": [
       "<div>\n",
       "<style scoped>\n",
       "    .dataframe tbody tr th:only-of-type {\n",
       "        vertical-align: middle;\n",
       "    }\n",
       "\n",
       "    .dataframe tbody tr th {\n",
       "        vertical-align: top;\n",
       "    }\n",
       "\n",
       "    .dataframe thead th {\n",
       "        text-align: right;\n",
       "    }\n",
       "</style>\n",
       "<table border=\"1\" class=\"dataframe\">\n",
       "  <thead>\n",
       "    <tr style=\"text-align: right;\">\n",
       "      <th></th>\n",
       "      <th>id</th>\n",
       "      <th>user_id</th>\n",
       "      <th>session_date</th>\n",
       "      <th>mb_used</th>\n",
       "      <th>month</th>\n",
       "    </tr>\n",
       "  </thead>\n",
       "  <tbody>\n",
       "    <tr>\n",
       "      <td>0</td>\n",
       "      <td>1000_13</td>\n",
       "      <td>1000</td>\n",
       "      <td>2018-12-29</td>\n",
       "      <td>89.86</td>\n",
       "      <td>12</td>\n",
       "    </tr>\n",
       "    <tr>\n",
       "      <td>1</td>\n",
       "      <td>1000_204</td>\n",
       "      <td>1000</td>\n",
       "      <td>2018-12-31</td>\n",
       "      <td>0.00</td>\n",
       "      <td>12</td>\n",
       "    </tr>\n",
       "    <tr>\n",
       "      <td>2</td>\n",
       "      <td>1000_379</td>\n",
       "      <td>1000</td>\n",
       "      <td>2018-12-28</td>\n",
       "      <td>660.40</td>\n",
       "      <td>12</td>\n",
       "    </tr>\n",
       "    <tr>\n",
       "      <td>3</td>\n",
       "      <td>1000_413</td>\n",
       "      <td>1000</td>\n",
       "      <td>2018-12-26</td>\n",
       "      <td>270.99</td>\n",
       "      <td>12</td>\n",
       "    </tr>\n",
       "    <tr>\n",
       "      <td>4</td>\n",
       "      <td>1000_442</td>\n",
       "      <td>1000</td>\n",
       "      <td>2018-12-27</td>\n",
       "      <td>880.22</td>\n",
       "      <td>12</td>\n",
       "    </tr>\n",
       "  </tbody>\n",
       "</table>\n",
       "</div>"
      ],
      "text/plain": [
       "         id  user_id session_date  mb_used  month\n",
       "0   1000_13     1000   2018-12-29    89.86     12\n",
       "1  1000_204     1000   2018-12-31     0.00     12\n",
       "2  1000_379     1000   2018-12-28   660.40     12\n",
       "3  1000_413     1000   2018-12-26   270.99     12\n",
       "4  1000_442     1000   2018-12-27   880.22     12"
      ]
     },
     "execution_count": 28,
     "metadata": {},
     "output_type": "execute_result"
    }
   ],
   "source": [
    "df_internet.head()"
   ]
  },
  {
   "cell_type": "code",
   "execution_count": 29,
   "metadata": {},
   "outputs": [
    {
     "name": "stdout",
     "output_type": "stream",
     "text": [
      "<class 'pandas.core.frame.DataFrame'>\n",
      "RangeIndex: 104825 entries, 0 to 104824\n",
      "Data columns (total 5 columns):\n",
      "id              104825 non-null object\n",
      "user_id         104825 non-null int64\n",
      "session_date    104825 non-null datetime64[ns]\n",
      "mb_used         104825 non-null float64\n",
      "month           104825 non-null int64\n",
      "dtypes: datetime64[ns](1), float64(1), int64(2), object(1)\n",
      "memory usage: 4.0+ MB\n"
     ]
    }
   ],
   "source": [
    "df_internet.info()"
   ]
  },
  {
   "cell_type": "markdown",
   "metadata": {},
   "source": [
    "###### table df_messages"
   ]
  },
  {
   "cell_type": "code",
   "execution_count": 30,
   "metadata": {},
   "outputs": [],
   "source": [
    "###### table df_messages\n",
    "\n",
    "\n",
    "# transform the data type of the column 'message_date' to Datetime64\n",
    "df_messages['message_date'] = pd.to_datetime(df_messages['message_date'], format='%Y-%m-%d')"
   ]
  },
  {
   "cell_type": "code",
   "execution_count": 31,
   "metadata": {},
   "outputs": [
    {
     "name": "stdout",
     "output_type": "stream",
     "text": [
      "There are 0 duplicates in the table 'df_messages'.\n"
     ]
    }
   ],
   "source": [
    "# search for duplicates\n",
    "print(\"There are {} duplicates in the table 'df_messages'.\".format(df_messages.duplicated(subset=['id']).sum()))"
   ]
  },
  {
   "cell_type": "code",
   "execution_count": 32,
   "metadata": {},
   "outputs": [],
   "source": [
    "# add column 'message_month' which tells us the month of the message date.\n",
    "df_messages['month'] = df_messages['message_date'].dt.month"
   ]
  },
  {
   "cell_type": "code",
   "execution_count": 33,
   "metadata": {},
   "outputs": [
    {
     "name": "stdout",
     "output_type": "stream",
     "text": [
      "The earliest date is 2018-01-15 00:00:00\n",
      "The latest date is 2018-12-31 00:00:00\n"
     ]
    }
   ],
   "source": [
    "# overview of message dates\n",
    "print(\"The earliest date is\", df_messages['message_date'].min())\n",
    "print(\"The latest date is\", df_messages['message_date'].max())"
   ]
  },
  {
   "cell_type": "markdown",
   "metadata": {},
   "source": [
    "So all three tables with messages, data volumes and call durations have the same earliest and latest date, that means all captured dates are in the year 2018, between the 2018-01-15 and the 2018-12-31."
   ]
  },
  {
   "cell_type": "code",
   "execution_count": 34,
   "metadata": {},
   "outputs": [
    {
     "data": {
      "text/html": [
       "<div>\n",
       "<style scoped>\n",
       "    .dataframe tbody tr th:only-of-type {\n",
       "        vertical-align: middle;\n",
       "    }\n",
       "\n",
       "    .dataframe tbody tr th {\n",
       "        vertical-align: top;\n",
       "    }\n",
       "\n",
       "    .dataframe thead th {\n",
       "        text-align: right;\n",
       "    }\n",
       "</style>\n",
       "<table border=\"1\" class=\"dataframe\">\n",
       "  <thead>\n",
       "    <tr style=\"text-align: right;\">\n",
       "      <th></th>\n",
       "      <th>id</th>\n",
       "      <th>user_id</th>\n",
       "      <th>message_date</th>\n",
       "      <th>month</th>\n",
       "    </tr>\n",
       "  </thead>\n",
       "  <tbody>\n",
       "    <tr>\n",
       "      <td>0</td>\n",
       "      <td>1000_125</td>\n",
       "      <td>1000</td>\n",
       "      <td>2018-12-27</td>\n",
       "      <td>12</td>\n",
       "    </tr>\n",
       "    <tr>\n",
       "      <td>1</td>\n",
       "      <td>1000_160</td>\n",
       "      <td>1000</td>\n",
       "      <td>2018-12-31</td>\n",
       "      <td>12</td>\n",
       "    </tr>\n",
       "    <tr>\n",
       "      <td>2</td>\n",
       "      <td>1000_223</td>\n",
       "      <td>1000</td>\n",
       "      <td>2018-12-31</td>\n",
       "      <td>12</td>\n",
       "    </tr>\n",
       "    <tr>\n",
       "      <td>3</td>\n",
       "      <td>1000_251</td>\n",
       "      <td>1000</td>\n",
       "      <td>2018-12-27</td>\n",
       "      <td>12</td>\n",
       "    </tr>\n",
       "    <tr>\n",
       "      <td>4</td>\n",
       "      <td>1000_255</td>\n",
       "      <td>1000</td>\n",
       "      <td>2018-12-26</td>\n",
       "      <td>12</td>\n",
       "    </tr>\n",
       "  </tbody>\n",
       "</table>\n",
       "</div>"
      ],
      "text/plain": [
       "         id  user_id message_date  month\n",
       "0  1000_125     1000   2018-12-27     12\n",
       "1  1000_160     1000   2018-12-31     12\n",
       "2  1000_223     1000   2018-12-31     12\n",
       "3  1000_251     1000   2018-12-27     12\n",
       "4  1000_255     1000   2018-12-26     12"
      ]
     },
     "execution_count": 34,
     "metadata": {},
     "output_type": "execute_result"
    }
   ],
   "source": [
    "df_messages.head()"
   ]
  },
  {
   "cell_type": "code",
   "execution_count": 35,
   "metadata": {},
   "outputs": [
    {
     "name": "stdout",
     "output_type": "stream",
     "text": [
      "<class 'pandas.core.frame.DataFrame'>\n",
      "RangeIndex: 76051 entries, 0 to 76050\n",
      "Data columns (total 4 columns):\n",
      "id              76051 non-null object\n",
      "user_id         76051 non-null int64\n",
      "message_date    76051 non-null datetime64[ns]\n",
      "month           76051 non-null int64\n",
      "dtypes: datetime64[ns](1), int64(2), object(1)\n",
      "memory usage: 2.3+ MB\n"
     ]
    }
   ],
   "source": [
    "df_messages.info()"
   ]
  },
  {
   "cell_type": "markdown",
   "metadata": {},
   "source": [
    "###### table 'df_users'"
   ]
  },
  {
   "cell_type": "code",
   "execution_count": 36,
   "metadata": {},
   "outputs": [
    {
     "data": {
      "text/html": [
       "<div>\n",
       "<style scoped>\n",
       "    .dataframe tbody tr th:only-of-type {\n",
       "        vertical-align: middle;\n",
       "    }\n",
       "\n",
       "    .dataframe tbody tr th {\n",
       "        vertical-align: top;\n",
       "    }\n",
       "\n",
       "    .dataframe thead th {\n",
       "        text-align: right;\n",
       "    }\n",
       "</style>\n",
       "<table border=\"1\" class=\"dataframe\">\n",
       "  <thead>\n",
       "    <tr style=\"text-align: right;\">\n",
       "      <th></th>\n",
       "      <th>user_id</th>\n",
       "      <th>first_name</th>\n",
       "      <th>last_name</th>\n",
       "      <th>age</th>\n",
       "      <th>city</th>\n",
       "      <th>reg_date</th>\n",
       "      <th>plan</th>\n",
       "      <th>churn_date</th>\n",
       "    </tr>\n",
       "  </thead>\n",
       "  <tbody>\n",
       "    <tr>\n",
       "      <td>0</td>\n",
       "      <td>1000</td>\n",
       "      <td>Anamaria</td>\n",
       "      <td>Bauer</td>\n",
       "      <td>45</td>\n",
       "      <td>Atlanta-Sandy Springs-Roswell, GA MSA</td>\n",
       "      <td>2018-12-24</td>\n",
       "      <td>ultimate</td>\n",
       "      <td>NaN</td>\n",
       "    </tr>\n",
       "    <tr>\n",
       "      <td>1</td>\n",
       "      <td>1001</td>\n",
       "      <td>Mickey</td>\n",
       "      <td>Wilkerson</td>\n",
       "      <td>28</td>\n",
       "      <td>Seattle-Tacoma-Bellevue, WA MSA</td>\n",
       "      <td>2018-08-13</td>\n",
       "      <td>surf</td>\n",
       "      <td>NaN</td>\n",
       "    </tr>\n",
       "    <tr>\n",
       "      <td>2</td>\n",
       "      <td>1002</td>\n",
       "      <td>Carlee</td>\n",
       "      <td>Hoffman</td>\n",
       "      <td>36</td>\n",
       "      <td>Las Vegas-Henderson-Paradise, NV MSA</td>\n",
       "      <td>2018-10-21</td>\n",
       "      <td>surf</td>\n",
       "      <td>NaN</td>\n",
       "    </tr>\n",
       "    <tr>\n",
       "      <td>3</td>\n",
       "      <td>1003</td>\n",
       "      <td>Reynaldo</td>\n",
       "      <td>Jenkins</td>\n",
       "      <td>52</td>\n",
       "      <td>Tulsa, OK MSA</td>\n",
       "      <td>2018-01-28</td>\n",
       "      <td>surf</td>\n",
       "      <td>NaN</td>\n",
       "    </tr>\n",
       "    <tr>\n",
       "      <td>4</td>\n",
       "      <td>1004</td>\n",
       "      <td>Leonila</td>\n",
       "      <td>Thompson</td>\n",
       "      <td>40</td>\n",
       "      <td>Seattle-Tacoma-Bellevue, WA MSA</td>\n",
       "      <td>2018-05-23</td>\n",
       "      <td>surf</td>\n",
       "      <td>NaN</td>\n",
       "    </tr>\n",
       "  </tbody>\n",
       "</table>\n",
       "</div>"
      ],
      "text/plain": [
       "   user_id first_name  last_name  age                                   city  \\\n",
       "0     1000   Anamaria      Bauer   45  Atlanta-Sandy Springs-Roswell, GA MSA   \n",
       "1     1001     Mickey  Wilkerson   28        Seattle-Tacoma-Bellevue, WA MSA   \n",
       "2     1002     Carlee    Hoffman   36   Las Vegas-Henderson-Paradise, NV MSA   \n",
       "3     1003   Reynaldo    Jenkins   52                          Tulsa, OK MSA   \n",
       "4     1004    Leonila   Thompson   40        Seattle-Tacoma-Bellevue, WA MSA   \n",
       "\n",
       "     reg_date      plan churn_date  \n",
       "0  2018-12-24  ultimate        NaN  \n",
       "1  2018-08-13      surf        NaN  \n",
       "2  2018-10-21      surf        NaN  \n",
       "3  2018-01-28      surf        NaN  \n",
       "4  2018-05-23      surf        NaN  "
      ]
     },
     "execution_count": 36,
     "metadata": {},
     "output_type": "execute_result"
    }
   ],
   "source": [
    "###### table 'df_users'\n",
    "\n",
    "\n",
    "df_users.head()"
   ]
  },
  {
   "cell_type": "code",
   "execution_count": 37,
   "metadata": {},
   "outputs": [],
   "source": [
    "# transform the data type of the columns 'reg_date' and 'churn_date' to Datetime64\n",
    "df_users['reg_date'] = pd.to_datetime(df_users['reg_date'], format='%Y-%m-%d')\n",
    "df_users['churn_date'] = pd.to_datetime(df_users['churn_date'], format='%Y-%m-%d')"
   ]
  },
  {
   "cell_type": "code",
   "execution_count": 38,
   "metadata": {},
   "outputs": [
    {
     "name": "stdout",
     "output_type": "stream",
     "text": [
      "There are 0 duplicates in the table 'df_users'.\n",
      "There are 0 costumers that are registrated multiple times in the table 'df_users'.\n"
     ]
    }
   ],
   "source": [
    "# search for duplicates\n",
    "print(\"There are {} duplicates in the table 'df_users'.\".format(df_users.duplicated(subset=['user_id']).sum()))\n",
    "df_users_drop = df_users.drop(columns=['user_id'])\n",
    "print(\"There are {} costumers that are registrated multiple times in the table 'df_users'.\" \\\n",
    ".format(df_users_drop.duplicated().sum()))"
   ]
  },
  {
   "cell_type": "code",
   "execution_count": 39,
   "metadata": {},
   "outputs": [
    {
     "name": "stdout",
     "output_type": "stream",
     "text": [
      "The smallest age is 18\n",
      "The biggest age is 75\n",
      "\n",
      "The number of costumers using ultimate is 161\n",
      "The number of costumers using surf is 339\n",
      "As expected, both values sum up to 500 customers.\n",
      "\n",
      "The earliest registration date is 2018-01-01 00:00:00\n",
      "The latest registration date is 2018-12-31 00:00:00\n",
      "\n",
      "The earliest chrun date is 2018-07-31 00:00:00\n",
      "The latest churn date is 2018-12-31 00:00:00\n"
     ]
    }
   ],
   "source": [
    "# overview for values\n",
    "print(\"The smallest age is\", df_users['age'].min())\n",
    "print(\"The biggest age is\", df_users['age'].max())\n",
    "print()\n",
    "print(\"The number of costumers using ultimate is\", len(df_users[df_users['plan'] == 'ultimate']))\n",
    "print(\"The number of costumers using surf is\", len(df_users[df_users['plan'] == 'surf']))\n",
    "print(\"As expected, both values sum up to {} customers.\".format(len(df_users[df_users['plan'] == 'ultimate']) + \\\n",
    "                                                                len(df_users[df_users['plan'] == 'surf'])))\n",
    "print()\n",
    "print(\"The earliest registration date is\", df_users['reg_date'].min())\n",
    "print(\"The latest registration date is\", df_users['reg_date'].max())\n",
    "print()\n",
    "print(\"The earliest chrun date is\", df_users['churn_date'].min())\n",
    "print(\"The latest churn date is\", df_users['churn_date'].max())"
   ]
  },
  {
   "cell_type": "markdown",
   "metadata": {},
   "source": [
    "Churn_date — the date the user stopped using the service. <br>\n",
    "If the value is missing, the calling plan has being used when the data was retrieved.\n",
    "Since the latest date is 2018-12-31 in all our DataFrames, we can set the missing values for 'churn_date' with a date\n",
    "that is after that date (here: 2019-12-31) since we only analyse data that has been collected until 2018-12-31 and\n",
    "since I suppose the churn date to be the last day where the service can be used.\n",
    "Later, when determining service usages after churn dates, the date 2019-12-31 ensures that no data will\n",
    "be wrongly deleted."
   ]
  },
  {
   "cell_type": "code",
   "execution_count": 40,
   "metadata": {},
   "outputs": [],
   "source": [
    "# filling in missing values\n",
    "df_users = df_users.fillna('2019-12-31')\n",
    "# transform to datetime format\n",
    "df_users['churn_date'] = pd.to_datetime(df_users['churn_date'], format='%Y-%m-%d')"
   ]
  },
  {
   "cell_type": "code",
   "execution_count": 41,
   "metadata": {},
   "outputs": [],
   "source": [
    "# Later for creating the table that is need for the analysis, it's helpful to have some columns containing day and\n",
    "# month of registration dates and churn dates.\n",
    "\n",
    "# add columns\n",
    "df_users['reg_month'] = df_users['reg_date'].dt.month\n",
    "df_users['reg_day'] = df_users['reg_date'].dt.day\n",
    "df_users['churn_month'] = df_users['churn_date'].dt.month\n",
    "df_users['churn_day'] = df_users['churn_date'].dt.day"
   ]
  },
  {
   "cell_type": "code",
   "execution_count": 42,
   "metadata": {},
   "outputs": [
    {
     "data": {
      "text/html": [
       "<div>\n",
       "<style scoped>\n",
       "    .dataframe tbody tr th:only-of-type {\n",
       "        vertical-align: middle;\n",
       "    }\n",
       "\n",
       "    .dataframe tbody tr th {\n",
       "        vertical-align: top;\n",
       "    }\n",
       "\n",
       "    .dataframe thead th {\n",
       "        text-align: right;\n",
       "    }\n",
       "</style>\n",
       "<table border=\"1\" class=\"dataframe\">\n",
       "  <thead>\n",
       "    <tr style=\"text-align: right;\">\n",
       "      <th></th>\n",
       "      <th>user_id</th>\n",
       "      <th>first_name</th>\n",
       "      <th>last_name</th>\n",
       "      <th>age</th>\n",
       "      <th>city</th>\n",
       "      <th>reg_date</th>\n",
       "      <th>plan</th>\n",
       "      <th>churn_date</th>\n",
       "      <th>reg_month</th>\n",
       "      <th>reg_day</th>\n",
       "      <th>churn_month</th>\n",
       "      <th>churn_day</th>\n",
       "    </tr>\n",
       "  </thead>\n",
       "  <tbody>\n",
       "    <tr>\n",
       "      <td>0</td>\n",
       "      <td>1000</td>\n",
       "      <td>Anamaria</td>\n",
       "      <td>Bauer</td>\n",
       "      <td>45</td>\n",
       "      <td>Atlanta-Sandy Springs-Roswell, GA MSA</td>\n",
       "      <td>2018-12-24</td>\n",
       "      <td>ultimate</td>\n",
       "      <td>2019-12-31</td>\n",
       "      <td>12</td>\n",
       "      <td>24</td>\n",
       "      <td>12</td>\n",
       "      <td>31</td>\n",
       "    </tr>\n",
       "    <tr>\n",
       "      <td>1</td>\n",
       "      <td>1001</td>\n",
       "      <td>Mickey</td>\n",
       "      <td>Wilkerson</td>\n",
       "      <td>28</td>\n",
       "      <td>Seattle-Tacoma-Bellevue, WA MSA</td>\n",
       "      <td>2018-08-13</td>\n",
       "      <td>surf</td>\n",
       "      <td>2019-12-31</td>\n",
       "      <td>8</td>\n",
       "      <td>13</td>\n",
       "      <td>12</td>\n",
       "      <td>31</td>\n",
       "    </tr>\n",
       "    <tr>\n",
       "      <td>2</td>\n",
       "      <td>1002</td>\n",
       "      <td>Carlee</td>\n",
       "      <td>Hoffman</td>\n",
       "      <td>36</td>\n",
       "      <td>Las Vegas-Henderson-Paradise, NV MSA</td>\n",
       "      <td>2018-10-21</td>\n",
       "      <td>surf</td>\n",
       "      <td>2019-12-31</td>\n",
       "      <td>10</td>\n",
       "      <td>21</td>\n",
       "      <td>12</td>\n",
       "      <td>31</td>\n",
       "    </tr>\n",
       "    <tr>\n",
       "      <td>3</td>\n",
       "      <td>1003</td>\n",
       "      <td>Reynaldo</td>\n",
       "      <td>Jenkins</td>\n",
       "      <td>52</td>\n",
       "      <td>Tulsa, OK MSA</td>\n",
       "      <td>2018-01-28</td>\n",
       "      <td>surf</td>\n",
       "      <td>2019-12-31</td>\n",
       "      <td>1</td>\n",
       "      <td>28</td>\n",
       "      <td>12</td>\n",
       "      <td>31</td>\n",
       "    </tr>\n",
       "    <tr>\n",
       "      <td>4</td>\n",
       "      <td>1004</td>\n",
       "      <td>Leonila</td>\n",
       "      <td>Thompson</td>\n",
       "      <td>40</td>\n",
       "      <td>Seattle-Tacoma-Bellevue, WA MSA</td>\n",
       "      <td>2018-05-23</td>\n",
       "      <td>surf</td>\n",
       "      <td>2019-12-31</td>\n",
       "      <td>5</td>\n",
       "      <td>23</td>\n",
       "      <td>12</td>\n",
       "      <td>31</td>\n",
       "    </tr>\n",
       "  </tbody>\n",
       "</table>\n",
       "</div>"
      ],
      "text/plain": [
       "   user_id first_name  last_name  age                                   city  \\\n",
       "0     1000   Anamaria      Bauer   45  Atlanta-Sandy Springs-Roswell, GA MSA   \n",
       "1     1001     Mickey  Wilkerson   28        Seattle-Tacoma-Bellevue, WA MSA   \n",
       "2     1002     Carlee    Hoffman   36   Las Vegas-Henderson-Paradise, NV MSA   \n",
       "3     1003   Reynaldo    Jenkins   52                          Tulsa, OK MSA   \n",
       "4     1004    Leonila   Thompson   40        Seattle-Tacoma-Bellevue, WA MSA   \n",
       "\n",
       "    reg_date      plan churn_date  reg_month  reg_day  churn_month  churn_day  \n",
       "0 2018-12-24  ultimate 2019-12-31         12       24           12         31  \n",
       "1 2018-08-13      surf 2019-12-31          8       13           12         31  \n",
       "2 2018-10-21      surf 2019-12-31         10       21           12         31  \n",
       "3 2018-01-28      surf 2019-12-31          1       28           12         31  \n",
       "4 2018-05-23      surf 2019-12-31          5       23           12         31  "
      ]
     },
     "execution_count": 42,
     "metadata": {},
     "output_type": "execute_result"
    }
   ],
   "source": [
    "df_users.head()"
   ]
  },
  {
   "cell_type": "code",
   "execution_count": 43,
   "metadata": {
    "scrolled": false
   },
   "outputs": [
    {
     "name": "stdout",
     "output_type": "stream",
     "text": [
      "<class 'pandas.core.frame.DataFrame'>\n",
      "RangeIndex: 500 entries, 0 to 499\n",
      "Data columns (total 12 columns):\n",
      "user_id        500 non-null int64\n",
      "first_name     500 non-null object\n",
      "last_name      500 non-null object\n",
      "age            500 non-null int64\n",
      "city           500 non-null object\n",
      "reg_date       500 non-null datetime64[ns]\n",
      "plan           500 non-null object\n",
      "churn_date     500 non-null datetime64[ns]\n",
      "reg_month      500 non-null int64\n",
      "reg_day        500 non-null int64\n",
      "churn_month    500 non-null int64\n",
      "churn_day      500 non-null int64\n",
      "dtypes: datetime64[ns](2), int64(6), object(4)\n",
      "memory usage: 47.0+ KB\n"
     ]
    }
   ],
   "source": [
    "df_users.info()"
   ]
  },
  {
   "cell_type": "markdown",
   "metadata": {},
   "source": [
    "#### Conclusion"
   ]
  },
  {
   "cell_type": "markdown",
   "metadata": {},
   "source": [
    "For all tables, I couldn't find any duplicates. <br>\n",
    "All dates that are included in the tables had values between 1. january 2018 and 31. december 2018. For my analysis, I've filled the missing values in 'churn_date' with 2019-12-31 since the missing value means that the customer used the service at least till the end of the moment when the data was received, I've replaced them by a later date (2019-12-31). <br>\n",
    "The call duration values in the table df_calls I've rounded up since for calculating the revenues we only need the rounded up minutes. In this table I've also added a column 'is_missed' so in the analysis I can use it when deciding whether to accept calls that might be missed (duration = 0). <br>\n",
    "The values of df_internet in the column 'mb_used' I've not rounded up since we sum the sessions up for every month for determining the revenue. <br>\n",
    "The maximum and minimum values for age and registration dates and churn dates are inconspicuous. <br>\n",
    "I've transformed all date strings into Datetime data types. The user_id values are integers."
   ]
  },
  {
   "cell_type": "markdown",
   "metadata": {},
   "source": [
    "<a id=\"2.2\"></a>"
   ]
  },
  {
   "cell_type": "markdown",
   "metadata": {},
   "source": [
    "### 2.2) Find and eliminate errors"
   ]
  },
  {
   "cell_type": "markdown",
   "metadata": {},
   "source": [
    "###### Delete usages after churn date and before registration"
   ]
  },
  {
   "cell_type": "markdown",
   "metadata": {},
   "source": [
    "I will delete all rows in the tables df_calls, df_internet and df_messages that have dates before registration date or after churn date."
   ]
  },
  {
   "cell_type": "code",
   "execution_count": 44,
   "metadata": {},
   "outputs": [
    {
     "name": "stdout",
     "output_type": "stream",
     "text": [
      "0.0    500\n",
      "Name: test, dtype: int64\n"
     ]
    }
   ],
   "source": [
    "# In order to see that the index in df_users is exactly the integer in user_id minus 1000, I create a test column in\n",
    "# df_users that should have only 0 as values since the for loop substracts one more for an index that increased about 1.\n",
    "# Value counts in the test column:\n",
    "\n",
    "# see that the index in df_users is exactly the integer in id_user minus 1000. For that, create test column in df_users:\n",
    "subtrahend = 1000\n",
    "for i in range(len(df_users)):\n",
    "    df_users.loc[i, 'test'] = df_users.loc[i, 'user_id'] - subtrahend\n",
    "    subtrahend += 1\n",
    "subtrahend = 1000\n",
    "\n",
    "# print the value counts of that test column\n",
    "print(df_users['test'].value_counts())\n",
    "\n",
    "# delete that test column\n",
    "df_users = df_users.drop(columns=['test'])"
   ]
  },
  {
   "cell_type": "markdown",
   "metadata": {},
   "source": [
    "That test column was important for checking that my for-loops are right. These loops determine the erroneous rows in our three DataFrames regarding their dates by adding a column named 'is_date_error'. The value 1 means that this row has a erroneous date."
   ]
  },
  {
   "cell_type": "code",
   "execution_count": 45,
   "metadata": {},
   "outputs": [
    {
     "name": "stdout",
     "output_type": "stream",
     "text": [
      "Value counts of the row 'is_date_error' in table df_calls:\n",
      "\n",
      "0.0    134774\n",
      "1.0      2961\n",
      "Name: is_date_error, dtype: int64\n"
     ]
    }
   ],
   "source": [
    "# All these if-cases ensure that the value for 'is_date_error' is 1 when the service usage was before registration date or\n",
    "# after churn date\n",
    "# the latest date for all registrated usages in df_calls, df_internet and df_messages was 2018-12-31; so there will be no\n",
    "# faults for the cases with the filled missing values: 'smaller than 2019-12-31'\n",
    "\n",
    "for i in range(len(df_calls)):\n",
    "    user_id = df_calls.loc[i, 'user_id']\n",
    "    index = user_id - 1000\n",
    "    if df_calls.loc[i, 'call_date'] < df_users.loc[index, 'reg_date'] or \\\n",
    "       df_calls.loc[i, 'call_date'] > df_users.loc[index, 'churn_date']:\n",
    "        df_calls.loc[i, 'is_date_error'] = 1\n",
    "    else:\n",
    "        df_calls.loc[i, 'is_date_error'] = 0\n",
    "\n",
    "print(\"Value counts of the row 'is_date_error' in table df_calls:\")\n",
    "print()\n",
    "print(df_calls['is_date_error'].value_counts())"
   ]
  },
  {
   "cell_type": "code",
   "execution_count": 46,
   "metadata": {},
   "outputs": [
    {
     "name": "stdout",
     "output_type": "stream",
     "text": [
      "Value counts of the row 'is_date_error' in table df_messages:\n",
      "\n",
      "0.0    74460\n",
      "1.0     1591\n",
      "Name: is_date_error, dtype: int64\n"
     ]
    }
   ],
   "source": [
    "for i in range(len(df_messages)):\n",
    "    user_id = df_messages.loc[i, 'user_id']\n",
    "    index = user_id - 1000\n",
    "    if df_messages.loc[i, 'message_date'] < df_users.loc[index, 'reg_date'] or \\\n",
    "       df_messages.loc[i, 'message_date'] > df_users.loc[index, 'churn_date']:\n",
    "        df_messages.loc[i, 'is_date_error'] = 1\n",
    "    else:\n",
    "        df_messages.loc[i, 'is_date_error'] = 0\n",
    "\n",
    "print(\"Value counts of the row 'is_date_error' in table df_messages:\")\n",
    "print()\n",
    "print(df_messages['is_date_error'].value_counts())"
   ]
  },
  {
   "cell_type": "code",
   "execution_count": 47,
   "metadata": {},
   "outputs": [
    {
     "name": "stdout",
     "output_type": "stream",
     "text": [
      "Value counts of the row 'is_date_error' in table df_internet:\n",
      "\n",
      "0.0    102362\n",
      "1.0      2463\n",
      "Name: is_date_error, dtype: int64\n"
     ]
    }
   ],
   "source": [
    "for i in range(len(df_internet)):\n",
    "    user_id = df_internet.loc[i, 'user_id']\n",
    "    index = user_id - 1000\n",
    "    if df_internet.loc[i, 'session_date'] < df_users.loc[index, 'reg_date'] or \\\n",
    "       df_internet.loc[i, 'session_date'] > df_users.loc[index, 'churn_date']:\n",
    "        df_internet.loc[i, 'is_date_error'] = 1\n",
    "    else:\n",
    "        df_internet.loc[i, 'is_date_error'] = 0\n",
    "\n",
    "print(\"Value counts of the row 'is_date_error' in table df_internet:\")\n",
    "print()\n",
    "print(df_internet['is_date_error'].value_counts())"
   ]
  },
  {
   "cell_type": "code",
   "execution_count": 48,
   "metadata": {},
   "outputs": [],
   "source": [
    "# After having found the erroneous rows I delete them\n",
    "\n",
    "df_calls = df_calls[df_calls['is_date_error'] == 0]\n",
    "df_messages = df_messages[df_messages['is_date_error'] == 0]\n",
    "df_internet = df_internet[df_internet['is_date_error'] == 0]"
   ]
  },
  {
   "cell_type": "markdown",
   "metadata": {},
   "source": [
    "#### Conclusion"
   ]
  },
  {
   "cell_type": "markdown",
   "metadata": {},
   "source": [
    "I filtered the three tables df_internet, df_calls and df_messages: It is not possible to use the service before registration date and after churn date, so I checked the date of every row in the three tables. When this error is true, then the added column 'is_date_error' has a value of 1. When looking at its value counts, overall, for every table the quote of erroneous rows is approximatelly 2-3%. These rows are deleted."
   ]
  },
  {
   "cell_type": "markdown",
   "metadata": {},
   "source": [
    "<a id=\"2.3\"></a>"
   ]
  },
  {
   "cell_type": "markdown",
   "metadata": {},
   "source": [
    "### 2.3) Create table for analysis"
   ]
  },
  {
   "cell_type": "code",
   "execution_count": 49,
   "metadata": {},
   "outputs": [],
   "source": [
    "###### Build a DataFrame\n",
    "\n",
    "# Create df with a length of 12 and the values 1-12 as months in the column 'month'\n",
    "df = pd.DataFrame(index=[0,1,2,3,4,5,6,7,8,9,10,11], columns=['month'], data=[1,2,3,4,5,6,7,8,9,10,11,12])\n",
    "\n",
    "# All these months correspond to the first user ID\n",
    "df['user_id'] = 1000\n",
    "\n",
    "# sort the columns\n",
    "df = df[['user_id', 'month']]\n",
    "\n",
    "# I need all months for every user\n",
    "df = pd.concat([df]*500,ignore_index=True)\n",
    "\n",
    "# After 12 rows, when the month starts with 1 again, the user ID increases with 1, so I have all months for all 500 users\n",
    "# in my DataFrame (= 500*12 = 6000 rows)\n",
    "user_id = 1000\n",
    "for i in range(len(df)):\n",
    "    if df.loc[i, 'month'] < 12:\n",
    "        df.loc[i, 'user_id'] = user_id\n",
    "    else:\n",
    "        df.loc[i, 'user_id'] = user_id\n",
    "        user_id += 1\n",
    "\n",
    "# outer merge to have all informations for every user; the number of rows won't change\n",
    "df = df.merge(df_users, on='user_id', how='outer')"
   ]
  },
  {
   "cell_type": "code",
   "execution_count": 50,
   "metadata": {},
   "outputs": [],
   "source": [
    "###### create pivot tables with user_id and month as index\n",
    "\n",
    "# With reset_index method I get a table with multiple months for each user (like my created DataFrame)\n",
    "\n",
    "# sum up all call durations for users per month\n",
    "pivot_call = df_calls.pivot_table(index=['user_id', 'month'], values='duration', aggfunc='sum')\n",
    "pivot_call = pivot_call.reset_index()\n",
    "pivot_call.columns = ['user_id', 'month', 'call_duration']"
   ]
  },
  {
   "cell_type": "code",
   "execution_count": 51,
   "metadata": {},
   "outputs": [],
   "source": [
    "# count amount of calls for users per month. The \"columns='is_missed'\" parameter creates two columns for 1 (call is missed)\n",
    "# and 0 (call is not missed), so I drop the column with 1 and I have only the numbers that are not missed calls\n",
    "pivot_call_count = df_calls.pivot_table(index=['user_id', 'month'], values='call_date', columns='is_missed', aggfunc='count')\n",
    "pivot_call_count = pivot_call_count.reset_index()\n",
    "pivot_call_count = pivot_call_count.drop(columns=[1.0])\n",
    "pivot_call_count.columns = ['user_id', 'month', 'call_count']"
   ]
  },
  {
   "cell_type": "code",
   "execution_count": 52,
   "metadata": {},
   "outputs": [],
   "source": [
    "# count the number of messages for users per month\n",
    "pivot_message = df_messages.pivot_table(index=['user_id', 'month'], values='message_date', aggfunc='count')\n",
    "pivot_message = pivot_message.reset_index()\n",
    "pivot_message.columns= ['user_id', 'month', 'message_count']"
   ]
  },
  {
   "cell_type": "code",
   "execution_count": 53,
   "metadata": {},
   "outputs": [],
   "source": [
    "# sum up all internet sessions for users per month\n",
    "pivot_internet = df_internet.pivot_table(index=['user_id', 'month'], values='mb_used', aggfunc='sum')\n",
    "pivot_internet = pivot_internet.reset_index()\n",
    "pivot_internet['gb_used'] = pivot_internet['mb_used']  / 1024\n",
    "pivot_internet['gb_used'] = pivot_internet['gb_used'].apply(np.ceil)\n",
    "pivot_internet.columns= ['user_id', 'month', 'mb_used', 'gb_used']"
   ]
  },
  {
   "cell_type": "code",
   "execution_count": 54,
   "metadata": {},
   "outputs": [],
   "source": [
    "###### outer merge these pivot tables with my created DataFrame. For not losing any rows, the merge is on ['user_id', 'month']\n",
    "\n",
    "df = df.merge(pivot_call, on=['user_id', 'month'], how='outer')\n",
    "df = df.merge(pivot_call_count, on=['user_id', 'month'], how='outer')\n",
    "df = df.merge(pivot_message, on=['user_id', 'month'], how='outer')\n",
    "df = df.merge(pivot_internet, on=['user_id', 'month'], how='outer')"
   ]
  },
  {
   "cell_type": "code",
   "execution_count": 55,
   "metadata": {},
   "outputs": [],
   "source": [
    "###### I sort out those rows (months) that are temporally not completely covered by the prepaid plans\n",
    "\n",
    "# The months with registrations after the first day of the month are excluded\n",
    "# (example: if reg_date is 2018-11-02, then november is excluded)\n",
    "\n",
    "# The months with churn days before the last day of the months are excluded\n",
    "# (example: if churn_date is 2018-01-30, then january is excluded)\n",
    "\n",
    "# The months before registration month and after churn month are excluded\n",
    "\n",
    "# The three if-cases for the churn months cover up the time lenghts of the individual months (example: February 28 days)\n",
    "for i in range(len(df)):\n",
    "    if df.loc[i, 'month'] == df.loc[i, 'reg_month'] and df.loc[i, 'reg_day'] > 1:\n",
    "        df = df.drop([i])\n",
    "    elif df.loc[i, 'month'] == df.loc[i, 'churn_month'] and df.loc[i, 'month'] in [4, 6, 9, 11] and \\\n",
    "        df.loc[i, 'churn_day'] < 30:\n",
    "        df = df.drop([i])\n",
    "    elif df.loc[i, 'month'] == df.loc[i, 'churn_month'] and df.loc[i, 'month'] in [1, 3, 5, 7, 8, 10, 12] and \\\n",
    "        df.loc[i, 'churn_day'] < 31:\n",
    "        df = df.drop([i])\n",
    "    elif df.loc[i, 'month'] == df.loc[i, 'churn_month'] and df.loc[i, 'month'] == 2 and \\\n",
    "        df.loc[i, 'churn_day'] < 28:\n",
    "        df = df.drop([i])\n",
    "    elif df.loc[i, 'month'] < df.loc[i, 'reg_month']:\n",
    "        df = df.drop([i])\n",
    "    elif df.loc[i, 'month'] > df.loc[i, 'churn_month']:\n",
    "        df = df.drop([i])\n",
    "    else:\n",
    "        pass"
   ]
  },
  {
   "cell_type": "code",
   "execution_count": 56,
   "metadata": {},
   "outputs": [
    {
     "name": "stdout",
     "output_type": "stream",
     "text": [
      "Before filling missing values:\n",
      "\n",
      "The value 0 is 0 times in call_count, 0 times in call_duration, 0 times in gb_used and 0 times in message_count.\n",
      "\n",
      "So, the missing values correspond to 0 since the pivot tables couldn't find any sum or count for these rows.\n",
      "\n",
      "DataFrame's info before filling missing values:\n",
      "\n",
      "<class 'pandas.core.frame.DataFrame'>\n",
      "Int64Index: 2805 entries, 20 to 5999\n",
      "Data columns (total 18 columns):\n",
      "user_id          2805 non-null int64\n",
      "month            2805 non-null int64\n",
      "first_name       2805 non-null object\n",
      "last_name        2805 non-null object\n",
      "age              2805 non-null int64\n",
      "city             2805 non-null object\n",
      "reg_date         2805 non-null datetime64[ns]\n",
      "plan             2805 non-null object\n",
      "churn_date       2805 non-null datetime64[ns]\n",
      "reg_month        2805 non-null int64\n",
      "reg_day          2805 non-null int64\n",
      "churn_month      2805 non-null int64\n",
      "churn_day        2805 non-null int64\n",
      "call_duration    1968 non-null float64\n",
      "call_count       1968 non-null float64\n",
      "message_count    1572 non-null float64\n",
      "mb_used          1986 non-null float64\n",
      "gb_used          1986 non-null float64\n",
      "dtypes: datetime64[ns](2), float64(5), int64(7), object(4)\n",
      "memory usage: 496.4+ KB\n",
      "\n"
     ]
    }
   ],
   "source": [
    "###### Filling missing values\n",
    "\n",
    "# We have missing values for the calculated columns 'message_count', 'call_count', 'call_duration', 'mb_used' and 'gb_used'\n",
    "# All the missing values in these columns means that the service wasn't used at that month by that customer\n",
    "# For the Histograms it makes sense to fill them with 0 since no used service is a part of the customer's behaviour\n",
    "\n",
    "print(\"Before filling missing values:\")\n",
    "print()\n",
    "print(\"The value 0 is {} times in call_count, {} times in call_duration, {} times in gb_used and {} times in message_count.\" \\\n",
    "      .format(len(df[df['call_count'] == 0]),len(df[df['call_duration'] == 0]),len(df[df['gb_used'] == 0]), \\\n",
    "              len(df[df['message_count'] == 0])))\n",
    "print()\n",
    "print(\"So, the missing values correspond to 0 since the pivot tables couldn't find any sum or count for these rows.\")\n",
    "print()\n",
    "print(\"DataFrame's info before filling missing values:\")\n",
    "print()\n",
    "df.info()\n",
    "print()\n",
    "\n",
    "df = df.fillna(0)"
   ]
  },
  {
   "cell_type": "code",
   "execution_count": 57,
   "metadata": {},
   "outputs": [],
   "source": [
    "####### convert floats into integer data types\n",
    "try:\n",
    "    df['gb_used'] = df['gb_used'].astype('int')\n",
    "except:\n",
    "    print(\"Could not transform into int data type.\")\n",
    "try:\n",
    "    df['call_duration'] = df['call_duration'].astype('int')\n",
    "except:\n",
    "    print(\"Could not transform into int data type.\")\n",
    "try:\n",
    "    df['call_count'] = df['call_count'].astype('int')\n",
    "except:\n",
    "    print(\"Could not transform into int data type.\")\n",
    "try:\n",
    "    df['message_count'] = df['message_count'].astype('int')\n",
    "except:\n",
    "    print(\"Could not transform into int data type.\")"
   ]
  },
  {
   "cell_type": "code",
   "execution_count": 58,
   "metadata": {},
   "outputs": [],
   "source": [
    "###### calculate the revenues for every month\n",
    "    \n",
    "# I create three columns: 'minutes_over', 'messages_over' and 'data_over'\n",
    "# These columns are 0 if the limits of the plan are not reached; otherwise they show the corresponding value for paying extra\n",
    "\n",
    "# reset index\n",
    "df = df.reset_index(drop=True)"
   ]
  },
  {
   "cell_type": "code",
   "execution_count": 59,
   "metadata": {},
   "outputs": [],
   "source": [
    "# minutes over plan\n",
    "for i in range(len(df)):\n",
    "    if df.loc[i, 'plan'] == 'surf':\n",
    "        if df.loc[i, 'call_duration'] > 500:\n",
    "            df.loc[i, 'minutes_over'] = df.loc[i, 'call_duration'] - 500\n",
    "        else:\n",
    "            df.loc[i, 'minutes_over'] = 0\n",
    "    else:\n",
    "        if df.loc[i, 'call_duration'] > 3000:\n",
    "            df.loc[i, 'minutes_over'] = df.loc[i, 'call_duration'] - 3000\n",
    "        else:\n",
    "            df.loc[i, 'minutes_over'] = 0"
   ]
  },
  {
   "cell_type": "code",
   "execution_count": 60,
   "metadata": {},
   "outputs": [],
   "source": [
    "# messages over plan\n",
    "for i in range(len(df)):\n",
    "    if df.loc[i, 'plan'] == 'surf':\n",
    "        if df.loc[i, 'message_count'] > 50:\n",
    "            df.loc[i, 'messages_over'] = df.loc[i, 'message_count'] - 50\n",
    "        else:\n",
    "            df.loc[i, 'messages_over'] = 0\n",
    "    else:\n",
    "        if df.loc[i, 'message_count'] > 1000:\n",
    "            df.loc[i, 'messages_over'] = df.loc[i, 'message_count'] - 1000\n",
    "        else:\n",
    "            df.loc[i, 'messages_over'] = 0"
   ]
  },
  {
   "cell_type": "code",
   "execution_count": 61,
   "metadata": {},
   "outputs": [],
   "source": [
    "# data volume over plan\n",
    "for i in range(len(df)):\n",
    "    if df.loc[i, 'plan'] == 'surf':\n",
    "        if df.loc[i, 'gb_used'] > 15:\n",
    "            df.loc[i, 'data_over'] = df.loc[i, 'gb_used'] - 15\n",
    "        else:\n",
    "            df.loc[i, 'data_over'] = 0\n",
    "    else:\n",
    "        if df.loc[i, 'gb_used'] > 30:\n",
    "            df.loc[i, 'data_over'] = df.loc[i, 'gb_used'] - 30\n",
    "        else:\n",
    "            df.loc[i, 'data_over'] = 0    "
   ]
  },
  {
   "cell_type": "code",
   "execution_count": 62,
   "metadata": {},
   "outputs": [],
   "source": [
    "# for every plan and every month calculate the revenue corresponding to the prepaid plans\n",
    "for i in range(len(df)):\n",
    "    if df.loc[i, 'plan'] == 'surf':\n",
    "        df.loc[i, 'revenue'] = 20 + df.loc[i, 'minutes_over']*0.03 + df.loc[i, 'messages_over']*0.03 + \\\n",
    "                                    df.loc[i, 'data_over']*10\n",
    "    else:\n",
    "        df.loc[i, 'revenue'] = 70 + df.loc[i, 'minutes_over']*0.01 + df.loc[i, 'messages_over']*0.01 + \\\n",
    "                                    df.loc[i, 'data_over']*7"
   ]
  },
  {
   "cell_type": "code",
   "execution_count": 63,
   "metadata": {},
   "outputs": [],
   "source": [
    "# drop the unnecessary columns\n",
    "df = df.drop(columns=['first_name', 'last_name', 'churn_month', 'churn_day', 'reg_day', 'age', \\\n",
    "                      'reg_month', 'minutes_over', 'messages_over', 'data_over', 'reg_date', 'churn_date'])"
   ]
  },
  {
   "cell_type": "markdown",
   "metadata": {},
   "source": [
    "After filling missing values, the column 'city' is important for testing the hypotheses."
   ]
  },
  {
   "cell_type": "code",
   "execution_count": 64,
   "metadata": {},
   "outputs": [
    {
     "data": {
      "text/html": [
       "<div>\n",
       "<style scoped>\n",
       "    .dataframe tbody tr th:only-of-type {\n",
       "        vertical-align: middle;\n",
       "    }\n",
       "\n",
       "    .dataframe tbody tr th {\n",
       "        vertical-align: top;\n",
       "    }\n",
       "\n",
       "    .dataframe thead th {\n",
       "        text-align: right;\n",
       "    }\n",
       "</style>\n",
       "<table border=\"1\" class=\"dataframe\">\n",
       "  <thead>\n",
       "    <tr style=\"text-align: right;\">\n",
       "      <th></th>\n",
       "      <th>user_id</th>\n",
       "      <th>month</th>\n",
       "      <th>city</th>\n",
       "      <th>plan</th>\n",
       "      <th>call_duration</th>\n",
       "      <th>call_count</th>\n",
       "      <th>message_count</th>\n",
       "      <th>mb_used</th>\n",
       "      <th>gb_used</th>\n",
       "      <th>revenue</th>\n",
       "    </tr>\n",
       "  </thead>\n",
       "  <tbody>\n",
       "    <tr>\n",
       "      <td>0</td>\n",
       "      <td>1001</td>\n",
       "      <td>9</td>\n",
       "      <td>Seattle-Tacoma-Bellevue, WA MSA</td>\n",
       "      <td>surf</td>\n",
       "      <td>315</td>\n",
       "      <td>38</td>\n",
       "      <td>44</td>\n",
       "      <td>13314.82</td>\n",
       "      <td>14</td>\n",
       "      <td>20.00</td>\n",
       "    </tr>\n",
       "    <tr>\n",
       "      <td>1</td>\n",
       "      <td>1001</td>\n",
       "      <td>10</td>\n",
       "      <td>Seattle-Tacoma-Bellevue, WA MSA</td>\n",
       "      <td>surf</td>\n",
       "      <td>393</td>\n",
       "      <td>47</td>\n",
       "      <td>53</td>\n",
       "      <td>22330.49</td>\n",
       "      <td>22</td>\n",
       "      <td>90.09</td>\n",
       "    </tr>\n",
       "    <tr>\n",
       "      <td>2</td>\n",
       "      <td>1001</td>\n",
       "      <td>11</td>\n",
       "      <td>Seattle-Tacoma-Bellevue, WA MSA</td>\n",
       "      <td>surf</td>\n",
       "      <td>426</td>\n",
       "      <td>49</td>\n",
       "      <td>36</td>\n",
       "      <td>18504.30</td>\n",
       "      <td>19</td>\n",
       "      <td>60.00</td>\n",
       "    </tr>\n",
       "    <tr>\n",
       "      <td>3</td>\n",
       "      <td>1001</td>\n",
       "      <td>12</td>\n",
       "      <td>Seattle-Tacoma-Bellevue, WA MSA</td>\n",
       "      <td>surf</td>\n",
       "      <td>412</td>\n",
       "      <td>46</td>\n",
       "      <td>44</td>\n",
       "      <td>19369.18</td>\n",
       "      <td>19</td>\n",
       "      <td>60.00</td>\n",
       "    </tr>\n",
       "    <tr>\n",
       "      <td>4</td>\n",
       "      <td>1002</td>\n",
       "      <td>11</td>\n",
       "      <td>Las Vegas-Henderson-Paradise, NV MSA</td>\n",
       "      <td>surf</td>\n",
       "      <td>386</td>\n",
       "      <td>48</td>\n",
       "      <td>32</td>\n",
       "      <td>19345.08</td>\n",
       "      <td>19</td>\n",
       "      <td>60.00</td>\n",
       "    </tr>\n",
       "  </tbody>\n",
       "</table>\n",
       "</div>"
      ],
      "text/plain": [
       "   user_id  month                                  city  plan  call_duration  \\\n",
       "0     1001      9       Seattle-Tacoma-Bellevue, WA MSA  surf            315   \n",
       "1     1001     10       Seattle-Tacoma-Bellevue, WA MSA  surf            393   \n",
       "2     1001     11       Seattle-Tacoma-Bellevue, WA MSA  surf            426   \n",
       "3     1001     12       Seattle-Tacoma-Bellevue, WA MSA  surf            412   \n",
       "4     1002     11  Las Vegas-Henderson-Paradise, NV MSA  surf            386   \n",
       "\n",
       "   call_count  message_count   mb_used  gb_used  revenue  \n",
       "0          38             44  13314.82       14    20.00  \n",
       "1          47             53  22330.49       22    90.09  \n",
       "2          49             36  18504.30       19    60.00  \n",
       "3          46             44  19369.18       19    60.00  \n",
       "4          48             32  19345.08       19    60.00  "
      ]
     },
     "execution_count": 64,
     "metadata": {},
     "output_type": "execute_result"
    }
   ],
   "source": [
    "# show the table and its infos\n",
    "df.head()"
   ]
  },
  {
   "cell_type": "code",
   "execution_count": 65,
   "metadata": {},
   "outputs": [
    {
     "name": "stdout",
     "output_type": "stream",
     "text": [
      "<class 'pandas.core.frame.DataFrame'>\n",
      "RangeIndex: 2805 entries, 0 to 2804\n",
      "Data columns (total 10 columns):\n",
      "user_id          2805 non-null int64\n",
      "month            2805 non-null int64\n",
      "city             2805 non-null object\n",
      "plan             2805 non-null object\n",
      "call_duration    2805 non-null int32\n",
      "call_count       2805 non-null int32\n",
      "message_count    2805 non-null int32\n",
      "mb_used          2805 non-null float64\n",
      "gb_used          2805 non-null int32\n",
      "revenue          2805 non-null float64\n",
      "dtypes: float64(2), int32(4), int64(2), object(2)\n",
      "memory usage: 175.4+ KB\n"
     ]
    }
   ],
   "source": [
    "df.info()"
   ]
  },
  {
   "cell_type": "markdown",
   "metadata": {},
   "source": [
    "#### Conclusion"
   ]
  },
  {
   "cell_type": "markdown",
   "metadata": {},
   "source": [
    "The logic in this chapter was to allow every month for every user and then to delete those months (rows) that are not appropriate. <br>\n",
    "When there are some months where the user only could use the service for a half of a month, then this would be an unrepresentative month; I deleted those months where the user couldn't use the service or only fractionally could use the service. <br>\n",
    "I found that all missing values were unequal 0, so they are all higher than 0. This means that for the missing values the pivot tables couldn't find any sum or count. This means that different customers use none, one, two or three of the possible services (internet, calls and messages). These were filled with zeros as this is part of the customer's behaviour. <br>\n",
    "In the end, we have a table with all relevant informations and with 2805 rows."
   ]
  },
  {
   "cell_type": "markdown",
   "metadata": {},
   "source": [
    "<a id=\"3\"></a>"
   ]
  },
  {
   "cell_type": "markdown",
   "metadata": {},
   "source": [
    "## 3) Analysis"
   ]
  },
  {
   "cell_type": "markdown",
   "metadata": {},
   "source": [
    "Describe the customers' behavior. Find the minutes, texts, and volume of data the users of each plan require per month. <br>\n",
    "Calculate the mean, dispersion, and standard deviation. Plot histograms. <br>\n",
    "Describe the distributions."
   ]
  },
  {
   "cell_type": "markdown",
   "metadata": {},
   "source": [
    "<a id=\"3.1\"></a>"
   ]
  },
  {
   "cell_type": "markdown",
   "metadata": {},
   "source": [
    "### 3.1) Before removing outliers"
   ]
  },
  {
   "cell_type": "markdown",
   "metadata": {},
   "source": [
    "<a id=\"3.1.1\"></a>"
   ]
  },
  {
   "cell_type": "markdown",
   "metadata": {},
   "source": [
    "#### 3.1.1) Call minutes per month"
   ]
  },
  {
   "cell_type": "code",
   "execution_count": 66,
   "metadata": {},
   "outputs": [],
   "source": [
    "######## call minutes per month (column: call_duration)\n",
    "\n",
    "# list with both plans\n",
    "plans = df['plan'].value_counts().index\n",
    "\n",
    "# quote of call minutes that have a duration of 0 minutes for both plans\n",
    "surf_0min = len(df[(df['call_duration'] == 0)&(df['plan'] == 'surf')]) / len(df[df['plan'] == 'surf'])\n",
    "ult_0min =  len(df[(df['call_duration'] == 0)&(df['plan'] == 'ultimate')]) / len(df[df['plan'] == 'ultimate'])"
   ]
  },
  {
   "cell_type": "code",
   "execution_count": 67,
   "metadata": {},
   "outputs": [
    {
     "name": "stdout",
     "output_type": "stream",
     "text": [
      "#### Before removing months with 0 minutes\n",
      "\n"
     ]
    },
    {
     "data": {
      "image/png": "[encoded data removed]",
      "text/plain": [
       "<Figure size 432x288 with 1 Axes>"
      ]
     },
     "metadata": {
      "needs_background": "light"
     },
     "output_type": "display_data"
    }
   ],
   "source": [
    "#### Before removing months with 0 minutes\n",
    "\n",
    "print(\"#### Before removing months with 0 minutes\")\n",
    "print()\n",
    "\n",
    "# Histograms for both plans\n",
    "df[df['plan'] == 'surf']['call_duration'].hist(bins = 18, alpha = 0.5, label='surf')\n",
    "df[df['plan'] == 'ultimate']['call_duration'].hist(bins = 18, alpha = 0.7, label='ultimate')\n",
    "plt.title('Histograms for call minutes for both plans')\n",
    "plt.xlabel('call minutes per month')\n",
    "plt.ylabel('months')\n",
    "plt.legend(loc='best')\n",
    "plt.show()"
   ]
  },
  {
   "cell_type": "code",
   "execution_count": 68,
   "metadata": {},
   "outputs": [
    {
     "data": {
      "image/png": "[encoded data removed]",
      "text/plain": [
       "<Figure size 432x288 with 1 Axes>"
      ]
     },
     "metadata": {
      "needs_background": "light"
     },
     "output_type": "display_data"
    }
   ],
   "source": [
    "# create columns 'surf' and 'ultimate' for creating Box-and_whisker charts for both plans\n",
    "for plan in plans:\n",
    "    for i in range(len(df)):\n",
    "        if df.loc[i, 'plan'] == plan:\n",
    "            df.loc[i, plan] = df.loc[i, 'call_duration']\n",
    "\n",
    "# Boxplots for both plans\n",
    "df.boxplot(column=['surf', 'ultimate'])\n",
    "plt.title('Box-and-Whisker charts of the call minutes for both plans')\n",
    "plt.xlabel('plan')\n",
    "plt.ylabel('call minutes per month')\n",
    "plt.show()"
   ]
  },
  {
   "cell_type": "code",
   "execution_count": 69,
   "metadata": {},
   "outputs": [
    {
     "name": "stdout",
     "output_type": "stream",
     "text": [
      "The upper limit for outliers regarding the boxplots is 1302 for the surf plan\n",
      "and 1288 for ultimate plan.\n"
     ]
    }
   ],
   "source": [
    "# Calculate the upper limits for outliers regarding the boxplots\n",
    "Q1_surf = df['surf'].quantile(0.25)\n",
    "Q3_surf = df['surf'].quantile(0.75)\n",
    "Q1_ult = df['ultimate'].quantile(0.25)\n",
    "Q3_ult = df['ultimate'].quantile(0.75)\n",
    "print(\"The upper limit for outliers regarding the boxplots is {:.0f} for the surf plan\".format(Q3_surf+1.5*(Q3_surf-Q1_surf)))\n",
    "print(\"and {:.0f} for ultimate plan.\".format(Q3_ult+1.5*(Q3_ult-Q1_ult)))"
   ]
  },
  {
   "cell_type": "code",
   "execution_count": 70,
   "metadata": {},
   "outputs": [
    {
     "name": "stdout",
     "output_type": "stream",
     "text": [
      "Description for the plan 'surf':\n",
      "\n",
      "count    1896\n",
      "mean      325\n",
      "std       281\n",
      "min         0\n",
      "25%         0\n",
      "50%       332\n",
      "75%       521\n",
      "max      1510\n",
      "Name: surf, dtype: object\n",
      "\n",
      "Description for the plan 'ultimate':\n",
      "\n",
      "count     909\n",
      "mean      317\n",
      "std       287\n",
      "min         0\n",
      "25%         0\n",
      "50%       311\n",
      "75%       515\n",
      "max      1369\n",
      "Name: ultimate, dtype: object\n"
     ]
    }
   ],
   "source": [
    "# Imortant values for both plans\n",
    "print(\"Description for the plan 'surf':\")\n",
    "print()\n",
    "print(df['surf'].describe().apply(\"{:.0f}\".format))\n",
    "print()\n",
    "print(\"Description for the plan 'ultimate':\")\n",
    "print()\n",
    "print(df['ultimate'].describe().apply(\"{:.0f}\".format))"
   ]
  },
  {
   "cell_type": "code",
   "execution_count": 71,
   "metadata": {},
   "outputs": [
    {
     "name": "stdout",
     "output_type": "stream",
     "text": [
      "One can see in the Boxplots and Descriptions the lower quartile and the minimum for both plans is 0 minutes per month.\n",
      "29.4% of all months with surf plan and 30.8% of all months with ultimate plan have 0 call minutes.\n"
     ]
    }
   ],
   "source": [
    "print(\"One can see in the Boxplots and Descriptions the lower quartile and the minimum for both plans is 0 minutes per month.\")\n",
    "print(\"{:.1%} of all months with surf plan and {:.1%} of all months with ultimate plan have 0 call minutes.\". \\\n",
    "      format(surf_0min, ult_0min))"
   ]
  },
  {
   "cell_type": "markdown",
   "metadata": {},
   "source": [
    "This means that there are some customers that don't use the call service for both plans."
   ]
  },
  {
   "cell_type": "code",
   "execution_count": 72,
   "metadata": {},
   "outputs": [],
   "source": [
    "# Since these percentages are very high and since I want to see the customer's behaviour for those using the service,\n",
    "# I filter the months with a call duration of 0 minutes.\n",
    "\n",
    "df_minutes_filtered = df[df['call_duration'] > 0]"
   ]
  },
  {
   "cell_type": "markdown",
   "metadata": {},
   "source": [
    "Let's plot the histograms again:"
   ]
  },
  {
   "cell_type": "code",
   "execution_count": 73,
   "metadata": {},
   "outputs": [
    {
     "name": "stdout",
     "output_type": "stream",
     "text": [
      "#### After removing months with 0 minutes\n",
      "\n"
     ]
    },
    {
     "data": {
      "image/png": "[encoded data removed]",
      "text/plain": [
       "<Figure size 432x288 with 1 Axes>"
      ]
     },
     "metadata": {
      "needs_background": "light"
     },
     "output_type": "display_data"
    }
   ],
   "source": [
    "#### After removing months with 0 minutes\n",
    "\n",
    "\n",
    "print(\"#### After removing months with 0 minutes\")\n",
    "print()\n",
    "\n",
    "# Histograms for both plans\n",
    "df_minutes_filtered[df_minutes_filtered['plan'] == 'surf']['call_duration'].hist(bins = 18, alpha = 0.5, label='surf')\n",
    "df_minutes_filtered[df_minutes_filtered['plan'] == 'ultimate']['call_duration'].hist(bins = 18, alpha = 0.7, label='ultimate')\n",
    "plt.title('Histograms for call minutes for both plans')\n",
    "plt.xlabel('call minutes per month')\n",
    "plt.ylabel('months')\n",
    "plt.legend(loc='best')\n",
    "plt.show()"
   ]
  },
  {
   "cell_type": "code",
   "execution_count": 74,
   "metadata": {},
   "outputs": [
    {
     "data": {
      "image/png": "[encoded data removed]",
      "text/plain": [
       "<Figure size 432x288 with 1 Axes>"
      ]
     },
     "metadata": {
      "needs_background": "light"
     },
     "output_type": "display_data"
    }
   ],
   "source": [
    "# Boxplots for both plans\n",
    "df_minutes_filtered.boxplot(column=['surf', 'ultimate'])\n",
    "plt.title('Box-and-Whisker charts of the call minutes for both plans')\n",
    "plt.xlabel('plan')\n",
    "plt.ylabel('call minutes per month')\n",
    "plt.show()"
   ]
  },
  {
   "cell_type": "code",
   "execution_count": 75,
   "metadata": {},
   "outputs": [
    {
     "name": "stdout",
     "output_type": "stream",
     "text": [
      "The upper limit for outliers regarding the boxplots is 1020 for the surf plan\n",
      "and 1008 for ultimate plan.\n"
     ]
    }
   ],
   "source": [
    "# Calculate the upper limits for outliers regarding the boxplots\n",
    "Q1_surf = df_minutes_filtered['surf'].quantile(0.25)\n",
    "Q3_surf = df_minutes_filtered['surf'].quantile(0.75)\n",
    "Q1_ult = df_minutes_filtered['ultimate'].quantile(0.25)\n",
    "Q3_ult = df_minutes_filtered['ultimate'].quantile(0.75)\n",
    "print(\"The upper limit for outliers regarding the boxplots is {:.0f} for the surf plan\".format(Q3_surf+1.5*(Q3_surf-Q1_surf)))\n",
    "print(\"and {:.0f} for ultimate plan.\".format(Q3_ult+1.5*(Q3_ult-Q1_ult)))"
   ]
  },
  {
   "cell_type": "code",
   "execution_count": 76,
   "metadata": {},
   "outputs": [
    {
     "name": "stdout",
     "output_type": "stream",
     "text": [
      "Description for the plan 'surf':\n",
      "\n",
      "count    1339\n",
      "mean      460\n",
      "std       222\n",
      "min         2\n",
      "25%       308\n",
      "50%       449\n",
      "75%       592\n",
      "max      1510\n",
      "Name: surf, dtype: object\n",
      "\n",
      "Description for the plan 'ultimate':\n",
      "\n",
      "count     629\n",
      "mean      458\n",
      "std       233\n",
      "min        12\n",
      "25%       298\n",
      "50%       444\n",
      "75%       582\n",
      "max      1369\n",
      "Name: ultimate, dtype: object\n"
     ]
    }
   ],
   "source": [
    "# Imortant values for both plans\n",
    "print(\"Description for the plan 'surf':\")\n",
    "print()\n",
    "print(df_minutes_filtered['surf'].describe().apply(\"{:.0f}\".format))\n",
    "print()\n",
    "print(\"Description for the plan 'ultimate':\")\n",
    "print()\n",
    "print(df_minutes_filtered['ultimate'].describe().apply(\"{:.0f}\".format))"
   ]
  },
  {
   "cell_type": "code",
   "execution_count": 77,
   "metadata": {},
   "outputs": [],
   "source": [
    "# The minimums and the lower quartiles are different. I will remove the upper outliers regarding the limit given\n",
    "# by the boxplot.\n",
    "\n",
    "df_minutes_surf = df_minutes_filtered[df_minutes_filtered['call_duration'] <= Q3_surf+1.5*(Q3_surf-Q1_surf)]\n",
    "df_minutes_ult = df_minutes_filtered[df_minutes_filtered['call_duration'] <= Q3_ult+1.5*(Q3_ult-Q1_ult)]"
   ]
  },
  {
   "cell_type": "markdown",
   "metadata": {},
   "source": [
    "<a id=\"3.1.2\"></a>"
   ]
  },
  {
   "cell_type": "markdown",
   "metadata": {},
   "source": [
    "#### 3.1.2) Text messages per month"
   ]
  },
  {
   "cell_type": "code",
   "execution_count": 78,
   "metadata": {},
   "outputs": [],
   "source": [
    "######## Text messages per month (column: message_count)\n",
    "\n",
    "# quote of months wit 0 messages for both plans\n",
    "surf_0mess = len(df[(df['message_count'] == 0)&(df['plan'] == 'surf')]) / len(df[df['plan'] == 'surf'])\n",
    "ult_0mess =  len(df[(df['message_count'] == 0)&(df['plan'] == 'ultimate')]) / len(df[df['plan'] == 'ultimate'])\n",
    "\n",
    "# drop columns 'surf' and 'ultimate' from analysis before\n",
    "df = df.drop(columns=['surf', 'ultimate'])"
   ]
  },
  {
   "cell_type": "code",
   "execution_count": 79,
   "metadata": {},
   "outputs": [
    {
     "name": "stdout",
     "output_type": "stream",
     "text": [
      "#### Before removing months with 0 messages\n",
      "\n"
     ]
    },
    {
     "data": {
      "image/png": "[encoded data removed]",
      "text/plain": [
       "<Figure size 432x288 with 1 Axes>"
      ]
     },
     "metadata": {
      "needs_background": "light"
     },
     "output_type": "display_data"
    }
   ],
   "source": [
    "#### Before removing months with 0 messages\n",
    "\n",
    "print(\"#### Before removing months with 0 messages\")\n",
    "print()\n",
    "\n",
    "# Histograms for both plans\n",
    "df[df['plan'] == 'surf']['message_count'].hist(bins = 18, alpha = 0.5, label='surf')\n",
    "df[df['plan'] == 'ultimate']['message_count'].hist(bins = 18, alpha = 0.7, label='ultimate')\n",
    "plt.title('Histograms of message count values for both plans')\n",
    "plt.xlabel('messages per month')\n",
    "plt.ylabel('months')\n",
    "plt.legend(loc='best')\n",
    "plt.show()"
   ]
  },
  {
   "cell_type": "code",
   "execution_count": 80,
   "metadata": {},
   "outputs": [
    {
     "data": {
      "image/png": "[encoded data removed]",
      "text/plain": [
       "<Figure size 432x288 with 1 Axes>"
      ]
     },
     "metadata": {
      "needs_background": "light"
     },
     "output_type": "display_data"
    }
   ],
   "source": [
    "# create columns 'surf' and 'ultimate' for creating Box-and_whisker charts for both plans\n",
    "for plan in plans:\n",
    "    for i in range(len(df)):\n",
    "        if df.loc[i, 'plan'] == plan:\n",
    "            df.loc[i, plan] = df.loc[i, 'message_count']\n",
    "\n",
    "# Boxplots for both plans\n",
    "df.boxplot(column=['surf', 'ultimate'])\n",
    "plt.title('Box-and-Whisker charts of message count values for both plans')\n",
    "plt.xlabel('plan')\n",
    "plt.ylabel('messages per month')\n",
    "plt.show()"
   ]
  },
  {
   "cell_type": "code",
   "execution_count": 81,
   "metadata": {},
   "outputs": [
    {
     "name": "stdout",
     "output_type": "stream",
     "text": [
      "The upper limit for outliers regarding the boxplots is 92 for the surf plan\n",
      "and 128 for ultimate plan.\n"
     ]
    }
   ],
   "source": [
    "# Calculate the upper limits for outliers regarding the boxplots\n",
    "Q1_surf = df['surf'].quantile(0.25)\n",
    "Q3_surf = df['surf'].quantile(0.75)\n",
    "Q1_ult = df['ultimate'].quantile(0.25)\n",
    "Q3_ult = df['ultimate'].quantile(0.75)\n",
    "print(\"The upper limit for outliers regarding the boxplots is {:.0f} for the surf plan\".format(Q3_surf+1.5*(Q3_surf-Q1_surf)))\n",
    "print(\"and {:.0f} for ultimate plan.\".format(Q3_ult+1.5*(Q3_ult-Q1_ult)))"
   ]
  },
  {
   "cell_type": "code",
   "execution_count": 82,
   "metadata": {},
   "outputs": [
    {
     "name": "stdout",
     "output_type": "stream",
     "text": [
      "Description for the plan 'surf':\n",
      "\n",
      "count    1896\n",
      "mean       23\n",
      "std        33\n",
      "min         0\n",
      "25%         0\n",
      "50%         8\n",
      "75%        37\n",
      "max       266\n",
      "Name: surf, dtype: object\n",
      "\n",
      "Description for the plan 'ultimate':\n",
      "\n",
      "count    909\n",
      "mean      28\n",
      "std       35\n",
      "min        0\n",
      "25%        0\n",
      "50%       11\n",
      "75%       51\n",
      "max      166\n",
      "Name: ultimate, dtype: object\n"
     ]
    }
   ],
   "source": [
    "# Imortant values for both plans\n",
    "print(\"Description for the plan 'surf':\")\n",
    "print()\n",
    "print(df['surf'].describe().apply(\"{:.0f}\".format))\n",
    "print()\n",
    "print(\"Description for the plan 'ultimate':\")\n",
    "print()\n",
    "print(df['ultimate'].describe().apply(\"{:.0f}\".format))"
   ]
  },
  {
   "cell_type": "code",
   "execution_count": 83,
   "metadata": {},
   "outputs": [
    {
     "name": "stdout",
     "output_type": "stream",
     "text": [
      "One can see in the Boxplots and Descriptions the lower quartile and the minimum for both plans is 0 messages per month.\n",
      "44.2% of all months with surf plan and 43.5% of all months with ultimate plan have 0 messages.\n",
      "This means that there are some customers that don't use the message service for both plans.\n"
     ]
    }
   ],
   "source": [
    "print(\"One can see in the Boxplots and Descriptions the lower quartile and the minimum for both plans is 0 messages per month.\")\n",
    "print(\"{:.1%} of all months with surf plan and {:.1%} of all months with ultimate plan have 0 messages.\". \\\n",
    "      format(surf_0mess, ult_0mess))\n",
    "print(\"This means that there are some customers that don't use the message service for both plans.\")"
   ]
  },
  {
   "cell_type": "code",
   "execution_count": 84,
   "metadata": {},
   "outputs": [],
   "source": [
    "# Since these percentages are very high and since I want to see the customer's behaviour for those using the service,\n",
    "# I filter the months with a 0 messages.\n",
    "\n",
    "df_messages_filtered = df[df['message_count'] > 0]"
   ]
  },
  {
   "cell_type": "markdown",
   "metadata": {},
   "source": [
    "Let's plot again the Histograms:"
   ]
  },
  {
   "cell_type": "code",
   "execution_count": 85,
   "metadata": {},
   "outputs": [
    {
     "name": "stdout",
     "output_type": "stream",
     "text": [
      "#### After removing months with 0 messages\n",
      "\n"
     ]
    },
    {
     "data": {
      "image/png": "[encoded data removed]",
      "text/plain": [
       "<Figure size 432x288 with 1 Axes>"
      ]
     },
     "metadata": {
      "needs_background": "light"
     },
     "output_type": "display_data"
    }
   ],
   "source": [
    "#### After removing months with 0 messages\n",
    "\n",
    "print(\"#### After removing months with 0 messages\")\n",
    "print()\n",
    "\n",
    "# Histograms for both plans\n",
    "df_messages_filtered[df_messages_filtered['plan'] == 'surf']['message_count'].hist(bins = 18, alpha = 0.5, label='surf')\n",
    "df_messages_filtered[df_messages_filtered['plan'] == 'ultimate']['message_count'].hist(bins = 18, alpha = 0.7, label='ultimate')\n",
    "plt.title('Histograms of message count values for both plans')\n",
    "plt.xlabel('messages per month')\n",
    "plt.ylabel('months')\n",
    "plt.legend(loc='best')\n",
    "plt.show()"
   ]
  },
  {
   "cell_type": "code",
   "execution_count": 86,
   "metadata": {},
   "outputs": [
    {
     "data": {
      "image/png": "[encoded data removed]",
      "text/plain": [
       "<Figure size 432x288 with 1 Axes>"
      ]
     },
     "metadata": {
      "needs_background": "light"
     },
     "output_type": "display_data"
    }
   ],
   "source": [
    "# Boxplots for both plans\n",
    "df_messages_filtered.boxplot(column=['surf', 'ultimate'])\n",
    "plt.title('Box-and-Whisker charts of message count values for both plans')\n",
    "plt.xlabel('plan')\n",
    "plt.ylabel('messages per month')\n",
    "plt.show()"
   ]
  },
  {
   "cell_type": "code",
   "execution_count": 87,
   "metadata": {},
   "outputs": [
    {
     "name": "stdout",
     "output_type": "stream",
     "text": [
      "The upper limit for outliers regarding the boxplots is 116 for the surf plan\n",
      "and 137 for ultimate plan.\n"
     ]
    }
   ],
   "source": [
    "# Calculate the upper limits for outliers regarding the boxplots\n",
    "Q1_surf = df_messages_filtered['surf'].quantile(0.25)\n",
    "Q3_surf = df_messages_filtered['surf'].quantile(0.75)\n",
    "Q1_ult = df_messages_filtered['ultimate'].quantile(0.25)\n",
    "Q3_ult = df_messages_filtered['ultimate'].quantile(0.75)\n",
    "print(\"The upper limit for outliers regarding the boxplots is {:.0f} for the surf plan\".format(Q3_surf+1.5*(Q3_surf-Q1_surf)))\n",
    "print(\"and {:.0f} for ultimate plan.\".format(Q3_ult+1.5*(Q3_ult-Q1_ult)))"
   ]
  },
  {
   "cell_type": "code",
   "execution_count": 88,
   "metadata": {},
   "outputs": [
    {
     "name": "stdout",
     "output_type": "stream",
     "text": [
      "Description for the plan 'surf':\n",
      "\n",
      "count    1058\n",
      "mean       42\n",
      "std        34\n",
      "min         1\n",
      "25%        18\n",
      "50%        34\n",
      "75%        57\n",
      "max       266\n",
      "Name: surf, dtype: object\n",
      "\n",
      "Description for the plan 'ultimate':\n",
      "\n",
      "count    514\n",
      "mean      49\n",
      "std       33\n",
      "min        1\n",
      "25%       23\n",
      "50%       44\n",
      "75%       69\n",
      "max      166\n",
      "Name: ultimate, dtype: object\n"
     ]
    }
   ],
   "source": [
    "# Imortant values for both plans\n",
    "print(\"Description for the plan 'surf':\")\n",
    "print()\n",
    "print(df_messages_filtered['surf'].describe().apply(\"{:.0f}\".format))\n",
    "print()\n",
    "print(\"Description for the plan 'ultimate':\")\n",
    "print()\n",
    "print(df_messages_filtered['ultimate'].describe().apply(\"{:.0f}\".format))"
   ]
  },
  {
   "cell_type": "code",
   "execution_count": 89,
   "metadata": {},
   "outputs": [],
   "source": [
    "# Now, the minimums and the lower quartiles are different. I will remove the upper outliers regarding the limit given\n",
    "# by the boxplot.\n",
    "\n",
    "df_messages_surf = df_messages_filtered[df_messages_filtered['message_count'] <= Q3_surf+1.5*(Q3_surf-Q1_surf)]\n",
    "df_messages_ult = df_messages_filtered[df_messages_filtered['message_count'] <= Q3_ult+1.5*(Q3_ult-Q1_ult)]"
   ]
  },
  {
   "cell_type": "markdown",
   "metadata": {},
   "source": [
    "<a id=\"3.1.3\"></a>"
   ]
  },
  {
   "cell_type": "markdown",
   "metadata": {},
   "source": [
    "#### 3.1.3) Data volume per month"
   ]
  },
  {
   "cell_type": "code",
   "execution_count": 90,
   "metadata": {},
   "outputs": [],
   "source": [
    "######## Data volume per month (column: gb_used)\n",
    "\n",
    "# quote of months with 0 GB used for both plans\n",
    "surf_0gb = len(df[(df['gb_used'] == 0)&(df['plan'] == 'surf')]) / len(df[df['plan'] == 'surf'])\n",
    "ult_0gb =  len(df[(df['gb_used'] == 0)&(df['plan'] == 'ultimate')]) / len(df[df['plan'] == 'ultimate'])\n",
    "\n",
    "# drop columns 'surf' and 'ultimate' from analysis before\n",
    "df = df.drop(columns=['surf', 'ultimate'])"
   ]
  },
  {
   "cell_type": "code",
   "execution_count": 91,
   "metadata": {},
   "outputs": [
    {
     "name": "stdout",
     "output_type": "stream",
     "text": [
      "#### Before removing months with 0 GB used\n",
      "\n"
     ]
    },
    {
     "data": {
      "image/png": "[encoded data removed]",
      "text/plain": [
       "<Figure size 432x288 with 1 Axes>"
      ]
     },
     "metadata": {
      "needs_background": "light"
     },
     "output_type": "display_data"
    }
   ],
   "source": [
    "#### Before removing months with 0 GB used\n",
    "\n",
    "print(\"#### Before removing months with 0 GB used\")\n",
    "print()\n",
    "\n",
    "# Histograms for both plans\n",
    "df[df['plan'] == 'surf']['gb_used'].hist(bins = 18, alpha = 0.5, label='surf')\n",
    "df[df['plan'] == 'ultimate']['gb_used'].hist(bins = 18, alpha = 0.7, label='ultimate')\n",
    "plt.title('Histograms of used data volumes for both plans')\n",
    "plt.xlabel('GB used per month')\n",
    "plt.ylabel('months')\n",
    "plt.legend(loc='best')\n",
    "plt.show()"
   ]
  },
  {
   "cell_type": "code",
   "execution_count": 92,
   "metadata": {},
   "outputs": [
    {
     "data": {
      "image/png": "[encoded data removed]",
      "text/plain": [
       "<Figure size 432x288 with 1 Axes>"
      ]
     },
     "metadata": {
      "needs_background": "light"
     },
     "output_type": "display_data"
    }
   ],
   "source": [
    "# create columns 'surf' and 'ultimate' for creating Box-and_whisker charts for both plans\n",
    "for plan in plans:\n",
    "    for i in range(len(df)):\n",
    "        if df.loc[i, 'plan'] == plan:\n",
    "            df.loc[i, plan] = df.loc[i, 'gb_used']\n",
    "\n",
    "# Boxplots for both plans\n",
    "df.boxplot(column=['surf', 'ultimate'])\n",
    "plt.title('Box-and-Whisker charts of used data volumes for both plans')\n",
    "plt.xlabel('plan')\n",
    "plt.ylabel('GB used per month')\n",
    "plt.show()"
   ]
  },
  {
   "cell_type": "code",
   "execution_count": 93,
   "metadata": {},
   "outputs": [
    {
     "name": "stdout",
     "output_type": "stream",
     "text": [
      "The upper limit for outliers regarding the boxplots is 50 for the surf plan\n",
      "and 50 for ultimate plan.\n"
     ]
    }
   ],
   "source": [
    "# Calculate the upper limits for outliers regarding the boxplots\n",
    "Q1_surf = df['surf'].quantile(0.25)\n",
    "Q3_surf = df['surf'].quantile(0.75)\n",
    "Q1_ult = df['ultimate'].quantile(0.25)\n",
    "Q3_ult = df['ultimate'].quantile(0.75)\n",
    "print(\"The upper limit for outliers regarding the boxplots is {:.0f} for the surf plan\".format(Q3_surf+1.5*(Q3_surf-Q1_surf)))\n",
    "print(\"and {:.0f} for ultimate plan.\".format(Q3_ult+1.5*(Q3_ult-Q1_ult)))"
   ]
  },
  {
   "cell_type": "code",
   "execution_count": 94,
   "metadata": {},
   "outputs": [
    {
     "name": "stdout",
     "output_type": "stream",
     "text": [
      "Description for the plan 'surf':\n",
      "\n",
      "count    1896\n",
      "mean       13\n",
      "std        10\n",
      "min         0\n",
      "25%         0\n",
      "50%        14\n",
      "75%        20\n",
      "max        70\n",
      "Name: surf, dtype: object\n",
      "\n",
      "Description for the plan 'ultimate':\n",
      "\n",
      "count    909\n",
      "mean      13\n",
      "std       10\n",
      "min        0\n",
      "25%        0\n",
      "50%       15\n",
      "75%       20\n",
      "max       46\n",
      "Name: ultimate, dtype: object\n"
     ]
    }
   ],
   "source": [
    "# Imortant values for both plans\n",
    "print(\"Description for the plan 'surf':\")\n",
    "print()\n",
    "print(df['surf'].describe().apply(\"{:.0f}\".format))\n",
    "print()\n",
    "print(\"Description for the plan 'ultimate':\")\n",
    "print()\n",
    "print(df['ultimate'].describe().apply(\"{:.0f}\".format))"
   ]
  },
  {
   "cell_type": "code",
   "execution_count": 95,
   "metadata": {},
   "outputs": [
    {
     "name": "stdout",
     "output_type": "stream",
     "text": [
      "One can see in the Boxplots and Descriptions the lower quartile and the minimum for both plans is 0 GB per month.\n",
      "28.5% of all months with surf plan and 30.6% of all months with ultimate plan have 0 GB of data volume.\n"
     ]
    }
   ],
   "source": [
    "print(\"One can see in the Boxplots and Descriptions the lower quartile and the minimum for both plans is 0 GB per month.\")\n",
    "print(\"{:.1%} of all months with surf plan and {:.1%} of all months with ultimate plan have 0 GB of data volume.\". \\\n",
    "      format(surf_0gb, ult_0gb))"
   ]
  },
  {
   "cell_type": "markdown",
   "metadata": {},
   "source": [
    "This means that there are some customers that don't use the Internet service for both plans. Since these percentages are very high and since I want to see the customer's behaviour for those using the service, I filter the months with 0 GB used."
   ]
  },
  {
   "cell_type": "code",
   "execution_count": 96,
   "metadata": {},
   "outputs": [],
   "source": [
    "# filter the months with 0 GB used\n",
    "\n",
    "df_internet_filtered = df[df['gb_used'] > 0]"
   ]
  },
  {
   "cell_type": "markdown",
   "metadata": {},
   "source": [
    "Let's plot again the Histograms:"
   ]
  },
  {
   "cell_type": "code",
   "execution_count": 97,
   "metadata": {},
   "outputs": [
    {
     "name": "stdout",
     "output_type": "stream",
     "text": [
      "#### After removing months with 0 GB used\n",
      "\n"
     ]
    },
    {
     "data": {
      "image/png": "[encoded data removed]",
      "text/plain": [
       "<Figure size 432x288 with 1 Axes>"
      ]
     },
     "metadata": {
      "needs_background": "light"
     },
     "output_type": "display_data"
    }
   ],
   "source": [
    "#### After removing months with 0 GB used\n",
    "\n",
    "print(\"#### After removing months with 0 GB used\")\n",
    "print()\n",
    "\n",
    "# Histograms for both plans\n",
    "df_internet_filtered[df_internet_filtered['plan'] == 'surf']['gb_used'].hist(bins = 18, alpha = 0.5, label='surf')\n",
    "df_internet_filtered[df_internet_filtered['plan'] == 'ultimate']['gb_used'].hist(bins = 18, alpha = 0.7, label='ultimate')\n",
    "plt.title('Histograms of used data volumes for both plans')\n",
    "plt.xlabel('GB used per month')\n",
    "plt.ylabel('months')\n",
    "plt.legend(loc='best')\n",
    "plt.show()"
   ]
  },
  {
   "cell_type": "code",
   "execution_count": 98,
   "metadata": {},
   "outputs": [
    {
     "data": {
      "image/png": "[encoded data removed]",
      "text/plain": [
       "<Figure size 432x288 with 1 Axes>"
      ]
     },
     "metadata": {
      "needs_background": "light"
     },
     "output_type": "display_data"
    }
   ],
   "source": [
    "# Boxplots for both plans\n",
    "df_internet_filtered.boxplot(column=['surf', 'ultimate'])\n",
    "plt.title('Box-and-Whisker charts of used data volumes for both plans')\n",
    "plt.xlabel('plan')\n",
    "plt.ylabel('GB used per month')\n",
    "plt.show()"
   ]
  },
  {
   "cell_type": "code",
   "execution_count": 99,
   "metadata": {},
   "outputs": [
    {
     "name": "stdout",
     "output_type": "stream",
     "text": [
      "The upper limit for outliers regarding the boxplots is 33 for the surf plan\n",
      "and 34 for ultimate plan.\n"
     ]
    }
   ],
   "source": [
    "# Calculate the upper limits for outliers regarding the boxplots\n",
    "Q1_surf = df_internet_filtered['surf'].quantile(0.25)\n",
    "Q3_surf = df_internet_filtered['surf'].quantile(0.75)\n",
    "Q1_ult = df_internet_filtered['ultimate'].quantile(0.25)\n",
    "Q3_ult = df_internet_filtered['ultimate'].quantile(0.75)\n",
    "print(\"The upper limit for outliers regarding the boxplots is {:.0f} for the surf plan\".format(Q3_surf+1.5*(Q3_surf-Q1_surf)))\n",
    "print(\"and {:.0f} for ultimate plan.\".format(Q3_ult+1.5*(Q3_ult-Q1_ult)))"
   ]
  },
  {
   "cell_type": "code",
   "execution_count": 100,
   "metadata": {},
   "outputs": [
    {
     "name": "stdout",
     "output_type": "stream",
     "text": [
      "Description for the plan 'surf':\n",
      "\n",
      "count    1355\n",
      "mean       18\n",
      "std         7\n",
      "min         1\n",
      "25%        13\n",
      "50%        17\n",
      "75%        21\n",
      "max        70\n",
      "Name: surf, dtype: object\n",
      "\n",
      "Description for the plan 'ultimate':\n",
      "\n",
      "count    631\n",
      "mean      18\n",
      "std        7\n",
      "min        1\n",
      "25%       14\n",
      "50%       18\n",
      "75%       22\n",
      "max       46\n",
      "Name: ultimate, dtype: object\n"
     ]
    }
   ],
   "source": [
    "# Imortant values for both plans\n",
    "print(\"Description for the plan 'surf':\")\n",
    "print()\n",
    "print(df_internet_filtered['surf'].describe().apply(\"{:.0f}\".format))\n",
    "print()\n",
    "print(\"Description for the plan 'ultimate':\")\n",
    "print()\n",
    "print(df_internet_filtered['ultimate'].describe().apply(\"{:.0f}\".format))"
   ]
  },
  {
   "cell_type": "code",
   "execution_count": 101,
   "metadata": {},
   "outputs": [
    {
     "name": "stdout",
     "output_type": "stream",
     "text": [
      "Now, the minimums and the lower quartiles are different. I will remove the upper outliers regarding the limit given\n",
      "by the boxplot.\n"
     ]
    }
   ],
   "source": [
    "print(\"Now, the minimums and the lower quartiles are different. I will remove the upper outliers regarding the limit given\")\n",
    "print(\"by the boxplot.\")\n",
    "\n",
    "df_internet_surf = df_internet_filtered[df_internet_filtered['gb_used'] <= Q3_surf+1.5*(Q3_surf-Q1_surf)]\n",
    "df_internet_ult = df_internet_filtered[df_internet_filtered['gb_used'] <= Q3_ult+1.5*(Q3_ult-Q1_ult)]"
   ]
  },
  {
   "cell_type": "markdown",
   "metadata": {},
   "source": [
    "#### Conclusion"
   ]
  },
  {
   "cell_type": "markdown",
   "metadata": {},
   "source": [
    "Since the used GBs and the call minutes and the message counts are all integers, I use common histograms for showing the distributions and use describe(), mean() or std() method for calculating the needed values. <br>\n",
    "\n",
    "For every parameter (call minutes, message counts and GB used) I found extraordinary high quotes of months where the customers didn't use the services:\n",
    "- Call minutes: 29.4% (surf) and 30.8% (ultimate)\n",
    "- Messages: 44.2% (surf) and 43.5% (ultimate)\n",
    "- Data volume: 28.5% (surf) and 30.6% (ultimate)\n",
    "\n",
    "The call and internet services have around 30% unused months and the message service even around 44%; there's not a significant difference between surf and ultimate prepaid plan. <br>\n",
    "Due to these high percentages of unused services I decided to filter them, so I get more readable histograms and can see better the distribution of those months where the services have been used. These histograms have been filtered ordinarily with the method of interquartile distances."
   ]
  },
  {
   "cell_type": "markdown",
   "metadata": {},
   "source": [
    "<a id=\"3.2\"></a>"
   ]
  },
  {
   "cell_type": "markdown",
   "metadata": {},
   "source": [
    "### 3.2) After removing outliers"
   ]
  },
  {
   "cell_type": "markdown",
   "metadata": {},
   "source": [
    "<a id=\"3.2.1\"></a>"
   ]
  },
  {
   "cell_type": "markdown",
   "metadata": {},
   "source": [
    "#### 3.2.1) Call minutes per month"
   ]
  },
  {
   "cell_type": "code",
   "execution_count": 102,
   "metadata": {},
   "outputs": [],
   "source": [
    "######## call minutes per month after removing outliers\n",
    "\n",
    "# important values\n",
    "surf_mean = df_minutes_surf['surf'].mean()\n",
    "ult_mean = df_minutes_ult['ultimate'].mean()\n",
    "surf_std = df_minutes_surf['surf'].std()\n",
    "ult_std = df_minutes_ult['ultimate'].std()"
   ]
  },
  {
   "cell_type": "code",
   "execution_count": 103,
   "metadata": {},
   "outputs": [
    {
     "data": {
      "image/png": "[encoded data removed]",
      "text/plain": [
       "<Figure size 432x288 with 1 Axes>"
      ]
     },
     "metadata": {
      "needs_background": "light"
     },
     "output_type": "display_data"
    }
   ],
   "source": [
    "# Histograms for both plans\n",
    "df_minutes_surf['surf'].hist(bins = 10, alpha = 0.5, label='surf')\n",
    "df_minutes_ult['ultimate'].hist(bins = 10, alpha = 0.7, label='ultimate')\n",
    "plt.title('Histograms for call minutes for both plans after removing the outliers')\n",
    "plt.xlabel('call minutes per month')\n",
    "plt.ylabel('months')\n",
    "plt.legend(loc='best')\n",
    "plt.show()"
   ]
  },
  {
   "cell_type": "code",
   "execution_count": 104,
   "metadata": {},
   "outputs": [
    {
     "name": "stdout",
     "output_type": "stream",
     "text": [
      "Surf mean: 445.3 minutes\n",
      "Ultimate mean: 437.2 minutes\n",
      "\n",
      "Surf standard deviation: 200.2 minutes\n",
      "Ultimate standard deviation: 202.3 minutes\n",
      "\n",
      "Surf dispersion: 160.6 minutes\n",
      "Ultimate dispersion: 161.7 minutes\n"
     ]
    }
   ],
   "source": [
    "# Calculate important values\n",
    "print(\"Surf mean: {:.1f} minutes\".format(surf_mean))\n",
    "print(\"Ultimate mean: {:.1f} minutes\".format(ult_mean))\n",
    "print()\n",
    "print(\"Surf standard deviation: {:.1f} minutes\".format(surf_std))\n",
    "print(\"Ultimate standard deviation: {:.1f} minutes\".format(ult_std))\n",
    "print()\n",
    "print(\"Surf dispersion: {:.1f} minutes\".format((df_minutes_surf['surf'] - surf_mean).abs().mean()))\n",
    "print(\"Ultimate dispersion: {:.1f} minutes\".format((df_minutes_ult['ultimate'] - ult_mean).abs().mean()))"
   ]
  },
  {
   "cell_type": "markdown",
   "metadata": {},
   "source": [
    "##### Conclusion"
   ]
  },
  {
   "cell_type": "markdown",
   "metadata": {},
   "source": [
    "Even though the number of users for the ultimate plan is smaller than the number of users for the other plan, the distributions of call minutes for both plans have means, standard deviations and dispersions that are very similar. <br>\n",
    "The distributions for both plans look normal distributed with their peaks located at approx. 400-500 minutes. <br>\n",
    "This range covers the limit for call minutes without to pay extra in surf plan: 500 minutes. <br>\n",
    "This estimated location for the peak is mirrored in the both calculated means for the plans. <br>\n",
    "On the left side where the call minutes tend to zero, the bars for both plans are higher than on the right side where the months with the most call minutes have around 1000 minutes. One can't observe a skewness in the distribution. The decreasing trend from the maximum is faster to the right side compared to the left side; this can be seen better for the ultimate histogram."
   ]
  },
  {
   "cell_type": "markdown",
   "metadata": {},
   "source": [
    "<a id=\"3.2.2\"></a>"
   ]
  },
  {
   "cell_type": "markdown",
   "metadata": {},
   "source": [
    "#### 3.2.2) Text messages per month"
   ]
  },
  {
   "cell_type": "code",
   "execution_count": 105,
   "metadata": {},
   "outputs": [],
   "source": [
    "######## Text messages per month after removing outliers\n",
    "\n",
    "# important values\n",
    "surf_mean = df_messages_surf['surf'].mean()\n",
    "ult_mean = df_messages_ult['ultimate'].mean()\n",
    "surf_std = df_messages_surf['surf'].std()\n",
    "ult_std = df_messages_ult['ultimate'].std()"
   ]
  },
  {
   "cell_type": "code",
   "execution_count": 106,
   "metadata": {},
   "outputs": [
    {
     "data": {
      "image/png": "[encoded data removed]",
      "text/plain": [
       "<Figure size 432x288 with 1 Axes>"
      ]
     },
     "metadata": {
      "needs_background": "light"
     },
     "output_type": "display_data"
    }
   ],
   "source": [
    "# Histograms for both plans\n",
    "df_messages_surf['surf'].hist(bins = 12, alpha = 0.5, label='surf')\n",
    "df_messages_ult['ultimate'].hist(bins = 12, alpha = 0.7, label='ultimate')\n",
    "plt.title('Histograms for message counts for both plans after removing the outliers')\n",
    "plt.xlabel('messages per month')\n",
    "plt.ylabel('months')\n",
    "plt.legend(loc='best')\n",
    "plt.show()"
   ]
  },
  {
   "cell_type": "code",
   "execution_count": 107,
   "metadata": {},
   "outputs": [
    {
     "name": "stdout",
     "output_type": "stream",
     "text": [
      "Surf mean: 37.2 messages\n",
      "Ultimate mean: 46.7 messages\n",
      "\n",
      "Surf standard deviation: 25.3 messages\n",
      "Ultimate standard deviation: 30.0 messages\n",
      "\n",
      "Surf dispersion: 20.4 messages\n",
      "Ultimate dispersion: 24.9 messages\n"
     ]
    }
   ],
   "source": [
    "# Calculate important values\n",
    "print(\"Surf mean: {:.1f} messages\".format(surf_mean))\n",
    "print(\"Ultimate mean: {:.1f} messages\".format(ult_mean))\n",
    "print()\n",
    "print(\"Surf standard deviation: {:.1f} messages\".format(surf_std))\n",
    "print(\"Ultimate standard deviation: {:.1f} messages\".format(ult_std))\n",
    "print()\n",
    "print(\"Surf dispersion: {:.1f} messages\".format((df_messages_surf['surf'] - surf_mean).abs().mean()))\n",
    "print(\"Ultimate dispersion: {:.1f} messages\".format((df_messages_ult['ultimate'] - ult_mean).abs().mean()))"
   ]
  },
  {
   "cell_type": "markdown",
   "metadata": {},
   "source": [
    "##### Conclusion"
   ]
  },
  {
   "cell_type": "markdown",
   "metadata": {},
   "source": [
    "The distribution of the surf histogram resembles a log-normal distribution. When considering the fact that the ultimate plan is covered by less customers, that both histograms show the same circumstance and that there's a litte peak at ca. 30 messages per month for the ultimate plan then one can reason that the ultimate histogram also tends to a log-normal distribution. Both highest bars are located between 20 and 35 messages per month. <br>\n",
    "\n",
    "Regarding both standard deviations the means for both plans are not in the vicinity of the limits given by the 1-sigma-interval, so it's questionable whether both means differ significantly. One can observe that the decreasing trend to the right begins at ca. 30 messages for the surf histogram, but at 70 messages for the ultimate histogram. <br> \n",
    "\n",
    "Regarding the fact that surf user have 50 free messages, this decreasing trend shows on the one hand, that customers of surf plan don't need many messages and on the other hand, that the quote of customers sending a moderate amount of messages is higher for the ultimate users than for the surf users."
   ]
  },
  {
   "cell_type": "markdown",
   "metadata": {},
   "source": [
    "<a id=\"3.2.3\"></a>"
   ]
  },
  {
   "cell_type": "markdown",
   "metadata": {},
   "source": [
    "#### 3.2.3) Data volume per month"
   ]
  },
  {
   "cell_type": "code",
   "execution_count": 108,
   "metadata": {},
   "outputs": [],
   "source": [
    "######## Data volumes per month after removing outliers\n",
    "\n",
    "# important values\n",
    "surf_mean = df_internet_surf['surf'].mean()\n",
    "ult_mean = df_internet_ult['ultimate'].mean()\n",
    "surf_std = df_internet_surf['surf'].std()\n",
    "ult_std = df_internet_ult['ultimate'].std()"
   ]
  },
  {
   "cell_type": "code",
   "execution_count": 109,
   "metadata": {},
   "outputs": [
    {
     "data": {
      "image/png": "[encoded data removed]",
      "text/plain": [
       "<Figure size 432x288 with 1 Axes>"
      ]
     },
     "metadata": {
      "needs_background": "light"
     },
     "output_type": "display_data"
    }
   ],
   "source": [
    "# Histograms for both plans\n",
    "df_internet_surf['surf'].hist(bins = 10, alpha = 0.5, label='surf')\n",
    "df_internet_ult['ultimate'].hist(bins = 10, alpha = 0.7, label='ultimate')\n",
    "plt.title('Histograms for Data volumes for both plans after removing the outliers')\n",
    "plt.xlabel('GB used per month')\n",
    "plt.ylabel('months')\n",
    "plt.legend(loc='best')\n",
    "plt.show()\n"
   ]
  },
  {
   "cell_type": "code",
   "execution_count": 110,
   "metadata": {},
   "outputs": [
    {
     "name": "stdout",
     "output_type": "stream",
     "text": [
      "Surf mean: 17.0 GB\n",
      "Ultimate mean: 17.6 GB\n",
      "\n",
      "Surf standard deviation: 6.3 GB\n",
      "Ultimate standard deviation: 6.1 GB\n",
      "\n",
      "Surf dispersion: 4.9 GB\n",
      "Ultimate dispersion: 4.7 GB\n"
     ]
    }
   ],
   "source": [
    "# Calculate important values\n",
    "print(\"Surf mean: {:.1f} GB\".format(surf_mean))\n",
    "print(\"Ultimate mean: {:.1f} GB\".format(ult_mean))\n",
    "print()\n",
    "print(\"Surf standard deviation: {:.1f} GB\".format(surf_std))\n",
    "print(\"Ultimate standard deviation: {:.1f} GB\".format(ult_std))\n",
    "print()\n",
    "print(\"Surf dispersion: {:.1f} GB\".format((df_internet_surf['surf'] - surf_mean).abs().mean()))\n",
    "print(\"Ultimate dispersion: {:.1f} GB\".format((df_internet_ult['ultimate'] - ult_mean).abs().mean()))"
   ]
  },
  {
   "cell_type": "markdown",
   "metadata": {},
   "source": [
    "##### Conclusion"
   ]
  },
  {
   "cell_type": "markdown",
   "metadata": {},
   "source": [
    "Both distributions look approximately normally distributed. <br>\n",
    "The decreasing trend is higher on the right side for surf and on the left side for ultimate. This shows that ultimate users like to use much internet since they have 30 GB without to pay more. Interestingly, the highest bar for surf users begins at an higher value than 15 GB whereas the limit for extra pay begins at 15 GB for these users; that explains the big decreasing trend on the right side. When looking at 0-5 GB, the quote of surf users is higher than for ultimate users. That shows that there are more ultimate users that use a moderate amount of internet. <br>\n",
    "Here again, all three values for mean, standard deviation and dispersion are very similar for both plans."
   ]
  },
  {
   "cell_type": "markdown",
   "metadata": {},
   "source": [
    "<a id=\"4\"></a>"
   ]
  },
  {
   "cell_type": "markdown",
   "metadata": {},
   "source": [
    "## 4) Test the hypotheses"
   ]
  },
  {
   "cell_type": "markdown",
   "metadata": {},
   "source": [
    "- Hypothesis 1: The average revenue from users of Ultimate and Surf calling plans differs.\n",
    "- Hypothesis 2: The average revenue from users in NY-NJ area is different from that of the users from other regions."
   ]
  },
  {
   "cell_type": "markdown",
   "metadata": {},
   "source": [
    "<a id=\"4.1\"></a>"
   ]
  },
  {
   "cell_type": "markdown",
   "metadata": {},
   "source": [
    "### 4.1) Hypothesis 1: The average revenue from users of Ultimate and Surf calling plans differs."
   ]
  },
  {
   "cell_type": "markdown",
   "metadata": {},
   "source": [
    "###### Prepare the data"
   ]
  },
  {
   "cell_type": "code",
   "execution_count": 111,
   "metadata": {},
   "outputs": [
    {
     "data": {
      "image/png": "[encoded data removed]",
      "text/plain": [
       "<Figure size 432x288 with 1 Axes>"
      ]
     },
     "metadata": {
      "needs_background": "light"
     },
     "output_type": "display_data"
    },
    {
     "data": {
      "image/png": "[encoded data removed]",
      "text/plain": [
       "<Figure size 432x288 with 1 Axes>"
      ]
     },
     "metadata": {
      "needs_background": "light"
     },
     "output_type": "display_data"
    }
   ],
   "source": [
    "# Histograms for surf plan\n",
    "df[df['plan'] == 'surf']['revenue'].hist(bins = 15, alpha = 0.5, label='surf')\n",
    "plt.title('Histogram for revenues (surf)')\n",
    "plt.xlabel('revenue per month')\n",
    "plt.ylabel('months')\n",
    "plt.legend(loc='best')\n",
    "plt.show()\n",
    "\n",
    "df[df['plan'] == 'surf']['revenue'].hist(bins = 15, alpha = 0.5, label='surf', range=(0, 300))\n",
    "plt.title('Histogram for revenues (surf) in range (0, 300)')\n",
    "plt.xlabel('revenue per month')\n",
    "plt.ylabel('months')\n",
    "plt.legend(loc='best')\n",
    "plt.show()"
   ]
  },
  {
   "cell_type": "code",
   "execution_count": 112,
   "metadata": {},
   "outputs": [
    {
     "name": "stdout",
     "output_type": "stream",
     "text": [
      "count    1896\n",
      "mean       52\n",
      "std        52\n",
      "min        20\n",
      "25%        20\n",
      "50%        23\n",
      "75%        70\n",
      "max       590\n",
      "Name: revenue, dtype: object\n",
      "\n",
      "Regarding the decreasing trend in the histogram showing the range (0, 300) I delete values bigger than\n",
      "200 Dollars.\n"
     ]
    }
   ],
   "source": [
    "# delete outliers\n",
    "\n",
    "print(df[df['plan'] == 'surf']['revenue'].describe().apply(\"{:.0f}\".format))\n",
    "print()\n",
    "print(\"Regarding the decreasing trend in the histogram showing the range (0, 300) I delete values bigger than\")\n",
    "print(\"200 Dollars.\")\n",
    "\n",
    "df_revenue_surf = df[(df['plan'] == 'surf') & (df['revenue'] <= 200)]"
   ]
  },
  {
   "cell_type": "code",
   "execution_count": 113,
   "metadata": {},
   "outputs": [
    {
     "data": {
      "image/png": "[encoded data removed]",
      "text/plain": [
       "<Figure size 432x288 with 1 Axes>"
      ]
     },
     "metadata": {
      "needs_background": "light"
     },
     "output_type": "display_data"
    },
    {
     "data": {
      "image/png": "[encoded data removed]",
      "text/plain": [
       "<Figure size 432x288 with 1 Axes>"
      ]
     },
     "metadata": {
      "needs_background": "light"
     },
     "output_type": "display_data"
    }
   ],
   "source": [
    "# Histograms for ultimate plan\n",
    "df[df['plan'] == 'ultimate']['revenue'].hist(bins = 15, alpha = 0.5, color='red', label='ultimate')\n",
    "plt.title('Histogram for revenues (ultimate)')\n",
    "plt.xlabel('revenue per month')\n",
    "plt.ylabel('months')\n",
    "plt.legend(loc='best')\n",
    "plt.show()\n",
    "\n",
    "df[df['plan'] == 'ultimate']['revenue'].hist(bins = 15, alpha = 0.5, color='red', label='ultimate')\n",
    "plt.ylim(0, 10)\n",
    "plt.title('Histogram for revenues (ultimate) in y-range (0, 10)')\n",
    "plt.xlabel('revenue per month')\n",
    "plt.ylabel('months')\n",
    "plt.legend(loc='best')\n",
    "plt.show()"
   ]
  },
  {
   "cell_type": "markdown",
   "metadata": {},
   "source": [
    "This histogram shows that the ultimate sample is not normal distributed and we have a two-sided test with two independent samples. The hypothesis is that the average revenues from the two samples differ significantly. That's why I do the Mann-Whitney U Test."
   ]
  },
  {
   "cell_type": "code",
   "execution_count": 114,
   "metadata": {},
   "outputs": [
    {
     "name": "stdout",
     "output_type": "stream",
     "text": [
      "count    909\n",
      "mean      72\n",
      "std       10\n",
      "min       70\n",
      "25%       70\n",
      "50%       70\n",
      "75%       70\n",
      "max      182\n",
      "Name: revenue, dtype: object\n",
      "\n",
      "Since there's no mathematical distribution where this distribution can be refered and since there are over 800 months\n",
      "for 70 Dollars and less than 10 months for each bigger revenue, there's no need to treat them as outliers.\n"
     ]
    }
   ],
   "source": [
    "# delete outliers\n",
    "\n",
    "print(df[df['plan'] == 'ultimate']['revenue'].describe().apply(\"{:.0f}\".format))\n",
    "print()\n",
    "print(\"Since there's no mathematical distribution where this distribution can be refered and since there are over 800 months\")\n",
    "print(\"for 70 Dollars and less than 10 months for each bigger revenue, there's no need to treat them as outliers.\")"
   ]
  },
  {
   "cell_type": "code",
   "execution_count": 115,
   "metadata": {
    "scrolled": false
   },
   "outputs": [],
   "source": [
    "df_revenue_ult = df[df['plan'] == 'ultimate']"
   ]
  },
  {
   "cell_type": "markdown",
   "metadata": {},
   "source": [
    "###### Test of Hypothesis 1\n",
    "\n",
    "The average revenue from users of Ultimate and Surf calling plans differs."
   ]
  },
  {
   "cell_type": "code",
   "execution_count": 116,
   "metadata": {},
   "outputs": [
    {
     "name": "stdout",
     "output_type": "stream",
     "text": [
      "Size of surf sample: 1849\n",
      "Size of ultimate sample: 909\n",
      "\n",
      "Revenue mean value for surf sample: 46.7\n",
      "Revenue mean value for ultimate sample: 71.8\n",
      "\n",
      "Null hypothesis: The average revenue from users of Ultimate and Surf calling plans doesn't differs significantly.\n",
      "\n",
      "Alternative hypothesis: The average revenue from users of Ultimate and Surf calling plans does differ significantly.\n",
      "\n",
      "p-value:  2.1207840433486805e-84\n",
      "\n",
      "We reject the null hypothesis.\n"
     ]
    }
   ],
   "source": [
    "### Check and adapt size of samples\n",
    "\n",
    "print(\"Size of surf sample:\", len(df_revenue_surf))\n",
    "print(\"Size of ultimate sample:\", len(df_revenue_ult))\n",
    "print()\n",
    "print(\"Revenue mean value for surf sample: {:.1f}\".format(df_revenue_surf['revenue'].mean()))\n",
    "print(\"Revenue mean value for ultimate sample: {:.1f}\".format(df_revenue_ult['revenue'].mean()))\n",
    "print()\n",
    "\n",
    "df_revenue_surf_sample = df_revenue_surf.sample(n = len(df_revenue_ult))\n",
    "\n",
    "print(\"Null hypothesis: The average revenue from users of Ultimate and Surf calling plans doesn't differs significantly.\")\n",
    "print()\n",
    "print(\"Alternative hypothesis: The average revenue from users of Ultimate and Surf calling plans does differ significantly.\")\n",
    "print()\n",
    "\n",
    "alpha = 0.05 # critical statistical significance level\n",
    "             # if the p-value is less than alpha, we reject the hypothesis\n",
    "\n",
    "u_statistic, p_value = st.mannwhitneyu(df_revenue_surf_sample['revenue'], df_revenue_ult['revenue'])\n",
    "\n",
    "print('p-value: ', p_value)\n",
    "print()\n",
    "\n",
    "if (p_value < alpha):\n",
    "        print(\"We reject the null hypothesis.\")\n",
    "else:\n",
    "        print(\"We can't reject the null hypothesis.\") "
   ]
  },
  {
   "cell_type": "markdown",
   "metadata": {},
   "source": [
    "<a id=\"4.2\"></a>"
   ]
  },
  {
   "cell_type": "markdown",
   "metadata": {},
   "source": [
    "### 4.2) Hypothesis 2: The average revenue from users in NY-NJ area is different from that of the users from other regions."
   ]
  },
  {
   "cell_type": "markdown",
   "metadata": {},
   "source": [
    "###### Prepare data"
   ]
  },
  {
   "cell_type": "code",
   "execution_count": 117,
   "metadata": {},
   "outputs": [],
   "source": [
    "###### create DataFrame with rows in area NJ-NY\n",
    "df_revenue_NY = df"
   ]
  },
  {
   "cell_type": "code",
   "execution_count": 118,
   "metadata": {},
   "outputs": [],
   "source": [
    "# I split the string in city with ' ' into words and take every word of the splitted string in an if-case:\n",
    "# if one possible string of NJ or NY is equal with the word, then this is the NY-NJ area we looked for an the for-loop\n",
    "# for the current string breaks. If the word is unequal, then the row will only be deleted, when every word in the\n",
    "# current string already has been checked; that's the case when the variable x has reached the length of the splitted string\n",
    "\n",
    "for i in range(len(df_revenue_NY)):\n",
    "    x = 0\n",
    "    for word in df_revenue_NY.loc[i, 'city'].split(' '):\n",
    "        if word == 'NY' or word == 'NJ' or word == 'NY-NJ' or word == 'NJ-NY' or word == 'New-York' or word == 'New-York,' \\\n",
    "          or word == 'New-Jearsy' or word == 'New-Jearsy,':\n",
    "            break\n",
    "        else:\n",
    "            x += 1\n",
    "            if x == len(df_revenue_NY.loc[i, 'city'].split(' ')):\n",
    "                df_revenue_NY = df_revenue_NY.drop([i])\n",
    "            else:\n",
    "                pass"
   ]
  },
  {
   "cell_type": "code",
   "execution_count": 119,
   "metadata": {},
   "outputs": [
    {
     "data": {
      "text/html": [
       "<div>\n",
       "<style scoped>\n",
       "    .dataframe tbody tr th:only-of-type {\n",
       "        vertical-align: middle;\n",
       "    }\n",
       "\n",
       "    .dataframe tbody tr th {\n",
       "        vertical-align: top;\n",
       "    }\n",
       "\n",
       "    .dataframe thead th {\n",
       "        text-align: right;\n",
       "    }\n",
       "</style>\n",
       "<table border=\"1\" class=\"dataframe\">\n",
       "  <thead>\n",
       "    <tr style=\"text-align: right;\">\n",
       "      <th></th>\n",
       "      <th>user_id</th>\n",
       "      <th>month</th>\n",
       "      <th>city</th>\n",
       "      <th>plan</th>\n",
       "      <th>call_duration</th>\n",
       "      <th>call_count</th>\n",
       "      <th>message_count</th>\n",
       "      <th>mb_used</th>\n",
       "      <th>gb_used</th>\n",
       "      <th>revenue</th>\n",
       "      <th>surf</th>\n",
       "      <th>ultimate</th>\n",
       "    </tr>\n",
       "  </thead>\n",
       "  <tbody>\n",
       "    <tr>\n",
       "      <td>409</td>\n",
       "      <td>1076</td>\n",
       "      <td>8</td>\n",
       "      <td>Buffalo-Cheektowaga, NY MSA</td>\n",
       "      <td>surf</td>\n",
       "      <td>395</td>\n",
       "      <td>44</td>\n",
       "      <td>156</td>\n",
       "      <td>25517.58</td>\n",
       "      <td>25</td>\n",
       "      <td>123.18</td>\n",
       "      <td>25.0</td>\n",
       "      <td>NaN</td>\n",
       "    </tr>\n",
       "    <tr>\n",
       "      <td>410</td>\n",
       "      <td>1076</td>\n",
       "      <td>9</td>\n",
       "      <td>Buffalo-Cheektowaga, NY MSA</td>\n",
       "      <td>surf</td>\n",
       "      <td>364</td>\n",
       "      <td>44</td>\n",
       "      <td>145</td>\n",
       "      <td>23134.42</td>\n",
       "      <td>23</td>\n",
       "      <td>102.85</td>\n",
       "      <td>23.0</td>\n",
       "      <td>NaN</td>\n",
       "    </tr>\n",
       "    <tr>\n",
       "      <td>411</td>\n",
       "      <td>1076</td>\n",
       "      <td>10</td>\n",
       "      <td>Buffalo-Cheektowaga, NY MSA</td>\n",
       "      <td>surf</td>\n",
       "      <td>315</td>\n",
       "      <td>39</td>\n",
       "      <td>159</td>\n",
       "      <td>21310.96</td>\n",
       "      <td>21</td>\n",
       "      <td>83.27</td>\n",
       "      <td>21.0</td>\n",
       "      <td>NaN</td>\n",
       "    </tr>\n",
       "    <tr>\n",
       "      <td>412</td>\n",
       "      <td>1076</td>\n",
       "      <td>11</td>\n",
       "      <td>Buffalo-Cheektowaga, NY MSA</td>\n",
       "      <td>surf</td>\n",
       "      <td>383</td>\n",
       "      <td>50</td>\n",
       "      <td>139</td>\n",
       "      <td>21318.64</td>\n",
       "      <td>21</td>\n",
       "      <td>82.67</td>\n",
       "      <td>21.0</td>\n",
       "      <td>NaN</td>\n",
       "    </tr>\n",
       "    <tr>\n",
       "      <td>413</td>\n",
       "      <td>1076</td>\n",
       "      <td>12</td>\n",
       "      <td>Buffalo-Cheektowaga, NY MSA</td>\n",
       "      <td>surf</td>\n",
       "      <td>395</td>\n",
       "      <td>46</td>\n",
       "      <td>132</td>\n",
       "      <td>15440.81</td>\n",
       "      <td>16</td>\n",
       "      <td>32.46</td>\n",
       "      <td>16.0</td>\n",
       "      <td>NaN</td>\n",
       "    </tr>\n",
       "  </tbody>\n",
       "</table>\n",
       "</div>"
      ],
      "text/plain": [
       "     user_id  month                         city  plan  call_duration  \\\n",
       "409     1076      8  Buffalo-Cheektowaga, NY MSA  surf            395   \n",
       "410     1076      9  Buffalo-Cheektowaga, NY MSA  surf            364   \n",
       "411     1076     10  Buffalo-Cheektowaga, NY MSA  surf            315   \n",
       "412     1076     11  Buffalo-Cheektowaga, NY MSA  surf            383   \n",
       "413     1076     12  Buffalo-Cheektowaga, NY MSA  surf            395   \n",
       "\n",
       "     call_count  message_count   mb_used  gb_used  revenue  surf  ultimate  \n",
       "409          44            156  25517.58       25   123.18  25.0       NaN  \n",
       "410          44            145  23134.42       23   102.85  23.0       NaN  \n",
       "411          39            159  21310.96       21    83.27  21.0       NaN  \n",
       "412          50            139  21318.64       21    82.67  21.0       NaN  \n",
       "413          46            132  15440.81       16    32.46  16.0       NaN  "
      ]
     },
     "execution_count": 119,
     "metadata": {},
     "output_type": "execute_result"
    }
   ],
   "source": [
    "# Here is the table's head for months with users from NY-NJ\n",
    "df_revenue_NY.head()"
   ]
  },
  {
   "cell_type": "code",
   "execution_count": 120,
   "metadata": {},
   "outputs": [],
   "source": [
    "####### create DataFrame with rows that are not in area NJ-NY\n",
    "df_revenue_not_NY = df"
   ]
  },
  {
   "cell_type": "code",
   "execution_count": 121,
   "metadata": {},
   "outputs": [],
   "source": [
    "# similar with the for-loop above, but negated\n",
    "for i in range(len(df_revenue_not_NY)):\n",
    "    for word in df_revenue_not_NY.loc[i, 'city'].split(' '):\n",
    "        if word == 'NY' or word == 'NJ' or word == 'NY-NJ' or word == 'NJ-NY' or word == 'New-York' or word == 'New-York,' \\\n",
    "          or word == 'New-Jearsy' or word == 'New-Jearsy,':\n",
    "            df_revenue_not_NY = df_revenue_not_NY.drop([i])\n",
    "            break\n",
    "        else:\n",
    "            pass"
   ]
  },
  {
   "cell_type": "code",
   "execution_count": 122,
   "metadata": {},
   "outputs": [
    {
     "data": {
      "text/html": [
       "<div>\n",
       "<style scoped>\n",
       "    .dataframe tbody tr th:only-of-type {\n",
       "        vertical-align: middle;\n",
       "    }\n",
       "\n",
       "    .dataframe tbody tr th {\n",
       "        vertical-align: top;\n",
       "    }\n",
       "\n",
       "    .dataframe thead th {\n",
       "        text-align: right;\n",
       "    }\n",
       "</style>\n",
       "<table border=\"1\" class=\"dataframe\">\n",
       "  <thead>\n",
       "    <tr style=\"text-align: right;\">\n",
       "      <th></th>\n",
       "      <th>user_id</th>\n",
       "      <th>month</th>\n",
       "      <th>city</th>\n",
       "      <th>plan</th>\n",
       "      <th>call_duration</th>\n",
       "      <th>call_count</th>\n",
       "      <th>message_count</th>\n",
       "      <th>mb_used</th>\n",
       "      <th>gb_used</th>\n",
       "      <th>revenue</th>\n",
       "      <th>surf</th>\n",
       "      <th>ultimate</th>\n",
       "    </tr>\n",
       "  </thead>\n",
       "  <tbody>\n",
       "    <tr>\n",
       "      <td>0</td>\n",
       "      <td>1001</td>\n",
       "      <td>9</td>\n",
       "      <td>Seattle-Tacoma-Bellevue, WA MSA</td>\n",
       "      <td>surf</td>\n",
       "      <td>315</td>\n",
       "      <td>38</td>\n",
       "      <td>44</td>\n",
       "      <td>13314.82</td>\n",
       "      <td>14</td>\n",
       "      <td>20.00</td>\n",
       "      <td>14.0</td>\n",
       "      <td>NaN</td>\n",
       "    </tr>\n",
       "    <tr>\n",
       "      <td>1</td>\n",
       "      <td>1001</td>\n",
       "      <td>10</td>\n",
       "      <td>Seattle-Tacoma-Bellevue, WA MSA</td>\n",
       "      <td>surf</td>\n",
       "      <td>393</td>\n",
       "      <td>47</td>\n",
       "      <td>53</td>\n",
       "      <td>22330.49</td>\n",
       "      <td>22</td>\n",
       "      <td>90.09</td>\n",
       "      <td>22.0</td>\n",
       "      <td>NaN</td>\n",
       "    </tr>\n",
       "    <tr>\n",
       "      <td>2</td>\n",
       "      <td>1001</td>\n",
       "      <td>11</td>\n",
       "      <td>Seattle-Tacoma-Bellevue, WA MSA</td>\n",
       "      <td>surf</td>\n",
       "      <td>426</td>\n",
       "      <td>49</td>\n",
       "      <td>36</td>\n",
       "      <td>18504.30</td>\n",
       "      <td>19</td>\n",
       "      <td>60.00</td>\n",
       "      <td>19.0</td>\n",
       "      <td>NaN</td>\n",
       "    </tr>\n",
       "    <tr>\n",
       "      <td>3</td>\n",
       "      <td>1001</td>\n",
       "      <td>12</td>\n",
       "      <td>Seattle-Tacoma-Bellevue, WA MSA</td>\n",
       "      <td>surf</td>\n",
       "      <td>412</td>\n",
       "      <td>46</td>\n",
       "      <td>44</td>\n",
       "      <td>19369.18</td>\n",
       "      <td>19</td>\n",
       "      <td>60.00</td>\n",
       "      <td>19.0</td>\n",
       "      <td>NaN</td>\n",
       "    </tr>\n",
       "    <tr>\n",
       "      <td>4</td>\n",
       "      <td>1002</td>\n",
       "      <td>11</td>\n",
       "      <td>Las Vegas-Henderson-Paradise, NV MSA</td>\n",
       "      <td>surf</td>\n",
       "      <td>386</td>\n",
       "      <td>48</td>\n",
       "      <td>32</td>\n",
       "      <td>19345.08</td>\n",
       "      <td>19</td>\n",
       "      <td>60.00</td>\n",
       "      <td>19.0</td>\n",
       "      <td>NaN</td>\n",
       "    </tr>\n",
       "  </tbody>\n",
       "</table>\n",
       "</div>"
      ],
      "text/plain": [
       "   user_id  month                                  city  plan  call_duration  \\\n",
       "0     1001      9       Seattle-Tacoma-Bellevue, WA MSA  surf            315   \n",
       "1     1001     10       Seattle-Tacoma-Bellevue, WA MSA  surf            393   \n",
       "2     1001     11       Seattle-Tacoma-Bellevue, WA MSA  surf            426   \n",
       "3     1001     12       Seattle-Tacoma-Bellevue, WA MSA  surf            412   \n",
       "4     1002     11  Las Vegas-Henderson-Paradise, NV MSA  surf            386   \n",
       "\n",
       "   call_count  message_count   mb_used  gb_used  revenue  surf  ultimate  \n",
       "0          38             44  13314.82       14    20.00  14.0       NaN  \n",
       "1          47             53  22330.49       22    90.09  22.0       NaN  \n",
       "2          49             36  18504.30       19    60.00  19.0       NaN  \n",
       "3          46             44  19369.18       19    60.00  19.0       NaN  \n",
       "4          48             32  19345.08       19    60.00  19.0       NaN  "
      ]
     },
     "execution_count": 122,
     "metadata": {},
     "output_type": "execute_result"
    }
   ],
   "source": [
    "# Here is the table's head for months with users from other areas\n",
    "df_revenue_not_NY.head()"
   ]
  },
  {
   "cell_type": "code",
   "execution_count": 123,
   "metadata": {},
   "outputs": [
    {
     "name": "stdout",
     "output_type": "stream",
     "text": [
      "Number of months in NY-NJ area: 35\n",
      "Number of months in other areas: 2770\n"
     ]
    }
   ],
   "source": [
    "print(\"Number of months in NY-NJ area:\", len(df_revenue_NY))\n",
    "print(\"Number of months in other areas:\", len(df_revenue_not_NY))"
   ]
  },
  {
   "cell_type": "code",
   "execution_count": 124,
   "metadata": {},
   "outputs": [
    {
     "data": {
      "image/png": "[encoded data removed]",
      "text/plain": [
       "<Figure size 432x288 with 1 Axes>"
      ]
     },
     "metadata": {
      "needs_background": "light"
     },
     "output_type": "display_data"
    }
   ],
   "source": [
    "# Histogram for NY area\n",
    "df_revenue_NY['revenue'].hist(bins = 8, alpha = 0.5, label='NY-NJ')\n",
    "plt.title('Histogram for revenues (NY-NJ)')\n",
    "plt.xlabel('revenue per month')\n",
    "plt.ylabel('months')\n",
    "plt.legend(loc='best')\n",
    "plt.show()"
   ]
  },
  {
   "cell_type": "code",
   "execution_count": 125,
   "metadata": {},
   "outputs": [
    {
     "data": {
      "image/png": "[encoded data removed]",
      "text/plain": [
       "<Figure size 432x288 with 1 Axes>"
      ]
     },
     "metadata": {
      "needs_background": "light"
     },
     "output_type": "display_data"
    }
   ],
   "source": [
    "# Histogram for other areas\n",
    "df_revenue_not_NY['revenue'].hist(bins = 8, alpha = 0.5, label='other areas', color='red')\n",
    "plt.title('Histogram for revenues (other areas)')\n",
    "plt.xlabel('revenue per month')\n",
    "plt.ylabel('months')\n",
    "plt.legend(loc='best')\n",
    "plt.show()"
   ]
  },
  {
   "cell_type": "markdown",
   "metadata": {},
   "source": [
    "This histogram shows that the NY-NJ sample is not normally distributed and we have again a two-sided test with two independent samples. We need again to do the Mann-Whitney U Test for checking if the two mean revenues differ significantly."
   ]
  },
  {
   "cell_type": "markdown",
   "metadata": {},
   "source": [
    "###### Test of Hypothesis 2\n",
    "\n",
    "The average revenue from users in NY-NJ area is different from that of the users from other regions."
   ]
  },
  {
   "cell_type": "code",
   "execution_count": 126,
   "metadata": {},
   "outputs": [
    {
     "name": "stdout",
     "output_type": "stream",
     "text": [
      "Size of NY-NJ sample: 35\n",
      "Size of sample for other areas: 2770\n",
      "\n",
      "Revenue mean value for NY-NJ sample: 63.6\n",
      "Revenue mean value for the sample in other areas: 58.4\n",
      "\n",
      "Null hypothesis: The average revenue from users in NY-NJ areas and other areas doesn't differ significantly.\n",
      "\n",
      "Alternative hypothesis: The average revenue from users in NY-NJ areas and other areas does differ significantly.\n",
      "\n",
      "p-value:  0.3408033267984808\n",
      "\n",
      "We can't reject the null hypothesis.\n"
     ]
    }
   ],
   "source": [
    "### Check and adapt size of samples\n",
    "\n",
    "print(\"Size of NY-NJ sample:\", len(df_revenue_NY))\n",
    "print(\"Size of sample for other areas:\", len(df_revenue_not_NY))\n",
    "print()\n",
    "print(\"Revenue mean value for NY-NJ sample: {:.1f}\".format(df_revenue_NY['revenue'].mean()))\n",
    "print(\"Revenue mean value for the sample in other areas: {:.1f}\".format(df_revenue_not_NY['revenue'].mean()))\n",
    "print()\n",
    "\n",
    "df_revenue_not_NY_sample = df_revenue_not_NY.sample(n = len(df_revenue_NY))\n",
    "\n",
    "print(\"Null hypothesis: The average revenue from users in NY-NJ areas and other areas doesn't differ significantly.\")\n",
    "print()\n",
    "print(\"Alternative hypothesis: The average revenue from users in NY-NJ areas and other areas does differ significantly.\")\n",
    "print()\n",
    "\n",
    "alpha = 0.05 # critical statistical significance level\n",
    "             # if the p-value is less than alpha, we reject the hypothesis\n",
    "\n",
    "u_statistic, p_value = st.mannwhitneyu(df_revenue_NY['revenue'], df_revenue_not_NY_sample['revenue'])\n",
    "\n",
    "print('p-value: ', p_value)\n",
    "print()\n",
    "\n",
    "if (p_value < alpha):\n",
    "        print(\"We reject the null hypothesis.\")\n",
    "else:\n",
    "        print(\"We can't reject the null hypothesis.\") "
   ]
  },
  {
   "cell_type": "markdown",
   "metadata": {},
   "source": [
    "### Conclusion"
   ]
  },
  {
   "cell_type": "markdown",
   "metadata": {},
   "source": [
    "For both hypothesis tests I determined samples with revenue distributions that were not clearly referable to a mathematical distribution. For both tests we had independent samples from different sizes and both tests were two-sided tests since the question was essentially if two means were statistical significantly equal. We needed a test for determining whether the two different distributions differ significantly or not. For that kind of question the Mann-Whitney U Test was appropriate. The significance level is set by 5% which is common for such hypothesis tests. <br>\n",
    "\n",
    "- Hypothesis 1: The average revenue from users of Ultimate and Surf calling plans differs.\n",
    "\n",
    "Revenue mean value for surf sample: 46.7 Dollars <br>\n",
    "Revenue mean value for ultimate sample: 71.8 Dollars <br>\n",
    "Here, the null hypothesis was rejected at a significance level of 5%. That means from a statistical point of view that the difference between the two revenue mean values is significant. My interpretation is that ultimate customers are in average ready to pay more for the service when they know which amount to pay every month since the service gives much data volume, messages and call minutes per month.\n",
    "\n",
    "- Hypothesis 2: The average revenue from users in NY-NJ area is different from that of the users from other regions.\n",
    "\n",
    "Revenue mean value for NY-NJ sample: 63.6 Dollars <br>\n",
    "Revenue mean value for the sample in other areas: 58.4 Dollars <br>\n",
    "Here, the null hypothesis wasn't rejected at a significance level of 5%. That means from a statistical point of view that the difference between the two revenue mean values is not significant. When looking at the Histograms for revenues in NY-NJ and in other areas in the section 'Prepare Data' then one can see that overall, both distributions look similar: We have many customers that pay substandardly much and some customers that raise the average revenue. That confirms what we found out from our hypothesis test."
   ]
  },
  {
   "cell_type": "markdown",
   "metadata": {},
   "source": [
    "<a id=\"5\"></a>"
   ]
  },
  {
   "cell_type": "markdown",
   "metadata": {},
   "source": [
    "## 5) Overall conclusion"
   ]
  },
  {
   "cell_type": "markdown",
   "metadata": {},
   "source": [
    "In the analysis I found that many customers don't use all services: <br>\n",
    "The call and internet services have around 30% unused months and the message service even around 44% and there's not a significant difference between surf and ultimate prepaid plan. <br>\n",
    "The analysis showed normal distributed histograms for call durations and data volumes whereas the histograms for message counts were not normal distributed; both for surf and ultimate plans. The range with the highest distribution for all three parameters mirrors the limits for these parameters where surf users need to pay extra; so the surf customers pay more attention to not overtax the limits. <br>\n",
    "When testing the hypotheses at a significance level of 5%, we found out that mean values for revenues don't depend significantly on the location of the customers, but they depend statistical significantly on the prepaid plan. The location statement was only tested for the area 'NY-NJ'; there may be other areas where the significance is bigger. The Mann-Whitney U Test stated out, that the higher mean value of 71.8 Dollars per month for ultimate users is significantly higher than the mean value of 46.7 Dollars per month for surf users. <br> <br>\n",
    "Overall, this means in average that the probability to take higher revenues is significantly higher when the customer purchases the Ultimate prepaid plan."
   ]
  },
  {
   "cell_type": "code",
   "execution_count": null,
   "metadata": {},
   "outputs": [],
   "source": []
  }
 ],
 "metadata": {
  "kernelspec": {
   "display_name": "Python 3",
   "language": "python",
   "name": "python3"
  },
  "language_info": {
   "codemirror_mode": {
    "name": "ipython",
    "version": 3
   },
   "file_extension": ".py",
   "mimetype": "text/x-python",
   "name": "python",
   "nbconvert_exporter": "python",
   "pygments_lexer": "ipython3",
   "version": "3.7.9"
  },
  "toc": {
   "base_numbering": 1,
   "nav_menu": {},
   "number_sections": true,
   "sideBar": true,
   "skip_h1_title": true,
   "title_cell": "Table of Contents",
   "title_sidebar": "Contents",
   "toc_cell": false,
   "toc_position": {
    "height": "calc(100% - 180px)",
    "left": "10px",
    "top": "150px",
    "width": "244.047px"
   },
   "toc_section_display": true,
   "toc_window_display": true
  },
  "varInspector": {
   "cols": {
    "lenName": 16,
    "lenType": 16,
    "lenVar": 40
   },
   "kernels_config": {
    "python": {
     "delete_cmd_postfix": "",
     "delete_cmd_prefix": "del ",
     "library": "var_list.py",
     "varRefreshCmd": "print(var_dic_list())"
    },
    "r": {
     "delete_cmd_postfix": ") ",
     "delete_cmd_prefix": "rm(",
     "library": "var_list.r",
     "varRefreshCmd": "cat(var_dic_list()) "
    }
   },
   "types_to_exclude": [
    "module",
    "function",
    "builtin_function_or_method",
    "instance",
    "_Feature"
   ],
   "window_display": false
  }
 },
 "nbformat": 4,
 "nbformat_minor": 2
}
