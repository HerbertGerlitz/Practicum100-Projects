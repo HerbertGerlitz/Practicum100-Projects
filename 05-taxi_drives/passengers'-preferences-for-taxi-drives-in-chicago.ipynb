{
 "cells": [
  {
   "cell_type": "markdown",
   "metadata": {},
   "source": [
    "# Passengers' Preferences for Taxi Drives in Chicago"
   ]
  },
  {
   "cell_type": "markdown",
   "metadata": {},
   "source": [
    "For the new ride-sharing company Zuber in Chicago we analyse the passengers' preferences and the impact of external factors on taxi rides. The given database is used for testing an hypothesis about the impact of weather on ride frequency. <br>\n",
    "Hypothesis: \"The average duration of rides from the Loop to O'Hare International Airport changes on rainy Saturdays.\""
   ]
  },
  {
   "cell_type": "markdown",
   "metadata": {},
   "source": [
    "In the previous steps of the project we retrieved data from a website and used SQL queries to get the table 'df_weather' <br>(Website: https://code.s3.yandex.net/data-analyst-eng/chicago_weather_2017.html). <br>\n",
    "For each hour, we retrieved the weather descriptions and broke all hours into two groups: 'Bad' if the description field contains the words 'rain' or 'storm'; else 'Good'. <br> These previous steps of retrieving data are explained in the first chapter."
   ]
  },
  {
   "cell_type": "markdown",
   "metadata": {},
   "source": [
    "# Table of Contents\n",
    "\n",
    "- 1) [Retrieve the Data (SQL)](#1)\n",
    "<br> <br>\n",
    "- 2) [Open the data file and study the general information](#2)\n",
    "<br> <br>\n",
    "    - 2.1) [Table 'df_comp'](#2.1)\n",
    "    - 2.2) [Table 'df_drop'](#2.2)\n",
    "    - 2.3) [Table 'df_weather'](#2.3)\n",
    "    <br> <br>\n",
    "- 3) [Prepare the data](#3)\n",
    "<br> <br>\n",
    "    - 3.1) [Replace the column names](#3.1)\n",
    "    - 3.2) [Convert the data types](#3.2)\n",
    "    - 3.3) [Check for duplicates](#3.3)\n",
    "    <br> <br>\n",
    "- 4) [Analysis](#4)\n",
    "<br> <br>\n",
    "    - 4.1) [Top 10 neighborhoods by number of dropoffs](#4.1)\n",
    "    - 4.2) [Taxi companies and number of rides](#4.2)\n",
    "    <br> <br>\n",
    "- 5) [Test of the hypothesis](#5)\n",
    "<br> <br>\n",
    "    - 5.1) [Prepare the data](#5.1)\n",
    "    - 5.2) [Test of the hypothesis](#5.2)\n",
    "    - 5.3) [Conclusion](#5.3)\n",
    "    <br> <br>\n",
    "- 6) [General conclusion](#6)"
   ]
  },
  {
   "cell_type": "markdown",
   "metadata": {},
   "source": [
    "<a id=\"1\"></a>"
   ]
  },
  {
   "cell_type": "markdown",
   "metadata": {},
   "source": [
    "## 1) Retrieve the Data (SQL)"
   ]
  },
  {
   "cell_type": "markdown",
   "metadata": {},
   "source": [
    "Overview of the data:"
   ]
  },
  {
   "attachments": {
    "Untitled_1_1585510727.png": {
     "image/png": "[encoded data removed]"
    }
   },
   "cell_type": "markdown",
   "metadata": {},
   "source": [
    "![Untitled_1_1585510727.png](attachment:Untitled_1_1585510727.png)"
   ]
  },
  {
   "cell_type": "markdown",
   "metadata": {},
   "source": [
    "**Step 1:** <br>\n",
    "Print the company names. Find the number of taxi rides for each taxi company for November 15-16, 2017 and print it, too. Sort the results by the number of taxi rides in descending order."
   ]
  },
  {
   "cell_type": "raw",
   "metadata": {},
   "source": [
    "SELECT\n",
    "    cabs.company_name AS company_name,\n",
    "    COUNT(trips.trip_id) AS trips_amount\n",
    "FROM\n",
    "    trips\n",
    "    INNER JOIN cabs ON trips.cab_id = cabs.cab_id\n",
    "WHERE\n",
    "    CAST(trips.start_ts AS date) = '2017-11-15'\n",
    "    OR CAST(trips.start_ts AS date) = '2017-11-16'\n",
    "GROUP BY\n",
    "    company_name\n",
    "ORDER BY\n",
    "    trips_amount DESC;"
   ]
  },
  {
   "cell_type": "markdown",
   "metadata": {},
   "source": [
    "**Step 2:** <br>\n",
    "Find the number of rides for every taxi company whose name contains the words \"Yellow\" or \"Blue\" for November 1-7, 2017. Group the results by the company names."
   ]
  },
  {
   "cell_type": "raw",
   "metadata": {},
   "source": [
    "SELECT\n",
    "    cabs.company_name AS company_name,\n",
    "    COUNT(trips.trip_id) AS trips_amount\n",
    "FROM\n",
    "    trips\n",
    "    INNER JOIN cabs ON trips.cab_id = cabs.cab_id\n",
    "WHERE\n",
    "    CAST(trips.start_ts AS date) >= '2017-11-01'\n",
    "    AND CAST(trips.start_ts AS date) <= '2017-11-07'\n",
    "    AND ( cabs.company_name LIKE '%Yellow%'\n",
    "          OR cabs.company_name LIKE '%Blue%')\n",
    "GROUP BY\n",
    "    company_name;"
   ]
  },
  {
   "cell_type": "markdown",
   "metadata": {},
   "source": [
    "**Step 3:** <br>\n",
    "Find the number of rides for the two companies Flash Cab and Taxi Affiliation Services. Join the rides for all other companies in the group \"Other\". Group the data by taxi company names and sort the result in descending order by number of rides."
   ]
  },
  {
   "cell_type": "raw",
   "metadata": {},
   "source": [
    "SELECT\n",
    "    CASE WHEN cabs.company_name NOT IN ('Flash Cab', 'Taxi Affiliation Services') THEN 'Other'\n",
    "    ELSE cabs.company_name END AS company,\n",
    "    COUNT(trips.trip_id) AS trips_amount\n",
    "FROM\n",
    "    trips\n",
    "    INNER JOIN cabs ON trips.cab_id = cabs.cab_id\n",
    "WHERE\n",
    "    CAST(trips.start_ts AS date) >= '2017-11-01'\n",
    "    AND CAST(trips.start_ts AS date) <= '2017-11-07'\n",
    "GROUP BY\n",
    "    company\n",
    "ORDER BY\n",
    "    trips_amount DESC;"
   ]
  },
  {
   "cell_type": "markdown",
   "metadata": {},
   "source": [
    "**Step 4:** <br>\n",
    "Retrieve the identifiers of the O'Hare and Loop neighborhoods from the neighborhoods table."
   ]
  },
  {
   "cell_type": "raw",
   "metadata": {},
   "source": [
    "SELECT\n",
    "    neighborhood_id,\n",
    "    name\n",
    "FROM\n",
    "    neighborhoods\n",
    "WHERE\n",
    "    name LIKE '%Hare' OR name LIKE 'Loop';"
   ]
  },
  {
   "cell_type": "markdown",
   "metadata": {},
   "source": [
    "**Step 5:** <br>\n",
    "For each hour, retrieve the weather condition records from the weather_records table. Break all hours into two groups: Bad if the description field contains the words rain or storm, and Good for others."
   ]
  },
  {
   "cell_type": "raw",
   "metadata": {},
   "source": [
    "SELECT\n",
    "    ts,\n",
    "    CASE WHEN description LIKE '%rain%' OR description LIKE '%storm%' THEN 'Bad'\n",
    "         WHEN description NOT LIKE '%rain%' AND description NOT LIKE '%storm%' THEN 'Good'\n",
    "    ELSE description END AS weather_conditions\n",
    "FROM\n",
    "    weather_records;"
   ]
  },
  {
   "cell_type": "markdown",
   "metadata": {},
   "source": [
    "**Step 6:** <br>\n",
    "Retrieve from the trips table all the rides that started in the Loop (pickup_location_id: 50) on a Saturday and ended at O'Hare (dropoff_location_id: 63). Get the weather conditions for each ride. Also, retrieve the duration of each ride. Ignore rides for which data on weather conditions is not available. Sort by trip_id."
   ]
  },
  {
   "cell_type": "raw",
   "metadata": {},
   "source": [
    "SELECT\n",
    "    trips.start_ts AS start_ts,\n",
    "    subq.weather_conditions AS weather_conditions,\n",
    "    trips.duration_seconds AS duration_seconds\n",
    "FROM\n",
    "    trips\n",
    "    INNER JOIN (\n",
    "        SELECT\n",
    "            ts,\n",
    "            CASE WHEN description LIKE '%rain%' OR description LIKE '%storm%' THEN 'Bad'\n",
    "                 WHEN description NOT LIKE '%rain%' AND description NOT LIKE '%storm%' THEN 'Good'\n",
    "            ELSE description END AS weather_conditions\n",
    "        FROM\n",
    "            weather_records ) AS subq ON subq.ts = trips.start_ts\n",
    "WHERE\n",
    "    trips.pickup_location_id = 50 AND trips.dropoff_location_id = 63\n",
    "    AND EXTRACT(ISODOW FROM trips.start_ts) = 6\n",
    "ORDER BY\n",
    "    trips.trip_id;"
   ]
  },
  {
   "cell_type": "markdown",
   "metadata": {},
   "source": [
    "The resulting table is saved as 'df_weather'."
   ]
  },
  {
   "cell_type": "markdown",
   "metadata": {},
   "source": [
    "<a id=\"2\"></a>"
   ]
  },
  {
   "cell_type": "markdown",
   "metadata": {},
   "source": [
    "## 2) Open the data file and study the general information"
   ]
  },
  {
   "cell_type": "markdown",
   "metadata": {},
   "source": [
    "<a id=\"2.1\"></a>"
   ]
  },
  {
   "cell_type": "markdown",
   "metadata": {},
   "source": [
    "### 2.1) Table 'df_comp'"
   ]
  },
  {
   "cell_type": "code",
   "execution_count": 1,
   "metadata": {},
   "outputs": [],
   "source": [
    "# import libraries\n",
    "import pandas as pd\n",
    "from scipy import stats as st\n",
    "from scipy.stats import levene\n",
    "from scipy.stats import mannwhitneyu\n",
    "import matplotlib.pyplot as plt\n",
    "from matplotlib import rcParams\n",
    "import numpy as np"
   ]
  },
  {
   "cell_type": "code",
   "execution_count": 2,
   "metadata": {},
   "outputs": [],
   "source": [
    "# read csv file\n",
    "try:\n",
    "    df_comp = pd.read_csv('C:/Users/Herbert/Documents/Practicum100/datasets/sql/project_sql_result_01.csv')\n",
    "except:\n",
    "    print(\"Couldn't read csv file.\")"
   ]
  },
  {
   "cell_type": "code",
   "execution_count": 3,
   "metadata": {},
   "outputs": [
    {
     "data": {
      "text/html": [
       "<div>\n",
       "<style scoped>\n",
       "    .dataframe tbody tr th:only-of-type {\n",
       "        vertical-align: middle;\n",
       "    }\n",
       "\n",
       "    .dataframe tbody tr th {\n",
       "        vertical-align: top;\n",
       "    }\n",
       "\n",
       "    .dataframe thead th {\n",
       "        text-align: right;\n",
       "    }\n",
       "</style>\n",
       "<table border=\"1\" class=\"dataframe\">\n",
       "  <thead>\n",
       "    <tr style=\"text-align: right;\">\n",
       "      <th></th>\n",
       "      <th>company_name</th>\n",
       "      <th>trips_amount</th>\n",
       "    </tr>\n",
       "  </thead>\n",
       "  <tbody>\n",
       "    <tr>\n",
       "      <td>0</td>\n",
       "      <td>Flash Cab</td>\n",
       "      <td>19558</td>\n",
       "    </tr>\n",
       "    <tr>\n",
       "      <td>1</td>\n",
       "      <td>Taxi Affiliation Services</td>\n",
       "      <td>11422</td>\n",
       "    </tr>\n",
       "    <tr>\n",
       "      <td>2</td>\n",
       "      <td>Medallion Leasin</td>\n",
       "      <td>10367</td>\n",
       "    </tr>\n",
       "    <tr>\n",
       "      <td>3</td>\n",
       "      <td>Yellow Cab</td>\n",
       "      <td>9888</td>\n",
       "    </tr>\n",
       "    <tr>\n",
       "      <td>4</td>\n",
       "      <td>Taxi Affiliation Service Yellow</td>\n",
       "      <td>9299</td>\n",
       "    </tr>\n",
       "  </tbody>\n",
       "</table>\n",
       "</div>"
      ],
      "text/plain": [
       "                      company_name  trips_amount\n",
       "0                        Flash Cab         19558\n",
       "1        Taxi Affiliation Services         11422\n",
       "2                 Medallion Leasin         10367\n",
       "3                       Yellow Cab          9888\n",
       "4  Taxi Affiliation Service Yellow          9299"
      ]
     },
     "execution_count": 3,
     "metadata": {},
     "output_type": "execute_result"
    }
   ],
   "source": [
    "df_comp.sort_values('trips_amount', ascending = False).head()"
   ]
  },
  {
   "cell_type": "code",
   "execution_count": 4,
   "metadata": {},
   "outputs": [
    {
     "name": "stdout",
     "output_type": "stream",
     "text": [
      "<class 'pandas.core.frame.DataFrame'>\n",
      "RangeIndex: 64 entries, 0 to 63\n",
      "Data columns (total 2 columns):\n",
      "company_name    64 non-null object\n",
      "trips_amount    64 non-null int64\n",
      "dtypes: int64(1), object(1)\n",
      "memory usage: 1.1+ KB\n"
     ]
    }
   ],
   "source": [
    "df_comp.info()"
   ]
  },
  {
   "cell_type": "markdown",
   "metadata": {},
   "source": [
    "#### Conclusion"
   ]
  },
  {
   "cell_type": "markdown",
   "metadata": {},
   "source": [
    "The table 'df_comp' has 64 rows and 2 columns which contain 64 company taxi names in object data type and 64 corresponding values for trip amounts in integer data type on November 15-16, 2017 in Chicago. As one can see in the table, the amounts vary from 2 to 19558. It stands out that the companies with very few companies have strange numbers in their names (e.g. '3556 - 36214 RC Andrews Cab'). In this table, we don't have missing values."
   ]
  },
  {
   "cell_type": "markdown",
   "metadata": {},
   "source": [
    "<a id=\"2.2\"></a>"
   ]
  },
  {
   "cell_type": "markdown",
   "metadata": {},
   "source": [
    "### 2.2) Table 'df_drop'"
   ]
  },
  {
   "cell_type": "code",
   "execution_count": 5,
   "metadata": {},
   "outputs": [],
   "source": [
    "# read csv file\n",
    "try:\n",
    "    df_drop = pd.read_csv('C:/Users/Herbert/Documents/Practicum100/datasets/sql/project_sql_result_04.csv')\n",
    "except:\n",
    "    print(\"Couldn't read csv file.\")"
   ]
  },
  {
   "cell_type": "code",
   "execution_count": 6,
   "metadata": {
    "scrolled": false
   },
   "outputs": [
    {
     "data": {
      "text/html": [
       "<div>\n",
       "<style scoped>\n",
       "    .dataframe tbody tr th:only-of-type {\n",
       "        vertical-align: middle;\n",
       "    }\n",
       "\n",
       "    .dataframe tbody tr th {\n",
       "        vertical-align: top;\n",
       "    }\n",
       "\n",
       "    .dataframe thead th {\n",
       "        text-align: right;\n",
       "    }\n",
       "</style>\n",
       "<table border=\"1\" class=\"dataframe\">\n",
       "  <thead>\n",
       "    <tr style=\"text-align: right;\">\n",
       "      <th></th>\n",
       "      <th>dropoff_location_name</th>\n",
       "      <th>average_trips</th>\n",
       "    </tr>\n",
       "  </thead>\n",
       "  <tbody>\n",
       "    <tr>\n",
       "      <td>0</td>\n",
       "      <td>Loop</td>\n",
       "      <td>10727.466667</td>\n",
       "    </tr>\n",
       "    <tr>\n",
       "      <td>1</td>\n",
       "      <td>River North</td>\n",
       "      <td>9523.666667</td>\n",
       "    </tr>\n",
       "    <tr>\n",
       "      <td>2</td>\n",
       "      <td>Streeterville</td>\n",
       "      <td>6664.666667</td>\n",
       "    </tr>\n",
       "    <tr>\n",
       "      <td>3</td>\n",
       "      <td>West Loop</td>\n",
       "      <td>5163.666667</td>\n",
       "    </tr>\n",
       "    <tr>\n",
       "      <td>4</td>\n",
       "      <td>O'Hare</td>\n",
       "      <td>2546.900000</td>\n",
       "    </tr>\n",
       "  </tbody>\n",
       "</table>\n",
       "</div>"
      ],
      "text/plain": [
       "  dropoff_location_name  average_trips\n",
       "0                  Loop   10727.466667\n",
       "1           River North    9523.666667\n",
       "2         Streeterville    6664.666667\n",
       "3             West Loop    5163.666667\n",
       "4                O'Hare    2546.900000"
      ]
     },
     "execution_count": 6,
     "metadata": {},
     "output_type": "execute_result"
    }
   ],
   "source": [
    "df_drop.sort_values('average_trips', ascending = False).head()"
   ]
  },
  {
   "cell_type": "code",
   "execution_count": 7,
   "metadata": {
    "scrolled": true
   },
   "outputs": [
    {
     "name": "stdout",
     "output_type": "stream",
     "text": [
      "<class 'pandas.core.frame.DataFrame'>\n",
      "RangeIndex: 94 entries, 0 to 93\n",
      "Data columns (total 2 columns):\n",
      "dropoff_location_name    94 non-null object\n",
      "average_trips            94 non-null float64\n",
      "dtypes: float64(1), object(1)\n",
      "memory usage: 1.6+ KB\n"
     ]
    }
   ],
   "source": [
    "df_drop.info()"
   ]
  },
  {
   "cell_type": "code",
   "execution_count": 8,
   "metadata": {},
   "outputs": [
    {
     "name": "stdout",
     "output_type": "stream",
     "text": [
      "The sum of the trips for all companies in 2 days: 137311\n",
      "\n",
      "The sum of the average trips for all dropoff locations: 56395.7\n",
      "\n",
      "Relation of these two values:\n",
      "137311 / 56395.7\n",
      "= 2.4\n"
     ]
    }
   ],
   "source": [
    "# The time period over which the average has been calculated is not given.\n",
    "# Let's compare the average trips summed up with the sum of the trips\n",
    "# in the table 'df_comp' which shows the trips amount for 2 days (November 15-16, 2017)\n",
    "\n",
    "\n",
    "# The sum of the trips for all companies in 2 days\n",
    "sum_trips = df_comp['trips_amount'].sum()\n",
    "# The sum of the average trips for all dropoff locations\n",
    "sum_avg_trips = df_drop['average_trips'].sum()\n",
    "# Relation of these 2 values\n",
    "relation_trips = sum_trips / sum_avg_trips\n",
    "\n",
    "\n",
    "print(\"The sum of the trips for all companies in 2 days:\", sum_trips)\n",
    "print()\n",
    "print(\"The sum of the average trips for all dropoff locations:\", '{:.1f}'.format(sum_avg_trips))\n",
    "print()\n",
    "print(\"Relation of these two values:\")\n",
    "print(sum_trips, '/', '{:.1f}'.format(sum_avg_trips))\n",
    "print('= {:.1f}'.format(relation_trips))"
   ]
  },
  {
   "cell_type": "markdown",
   "metadata": {},
   "source": [
    "#### Conclusion"
   ]
  },
  {
   "cell_type": "markdown",
   "metadata": {},
   "source": [
    "The table 'df_drop' has 94 rows and 2 columns. The column 'dropoff_location_name' shows neighborhoods where taxi rides ended in object data types and the column 'average_trips' gives the corresponding average number of trips for the dropoff locations in float data type. Here we can see again a great variation for the average number of trips taking values from 1.8 to 10727.46. There's no infomration given about the time period over which the average values have been calculated. Since the table 'df_comp' gives us trip amounts for 2 days and since the quote of the sum of the trips in the tables 'df_comp' and 'df_drop' is 2.4, we can assume that the average values in the table 'df_drop' are average values per day. In this table, we don't have missing values."
   ]
  },
  {
   "cell_type": "markdown",
   "metadata": {},
   "source": [
    "<a id=\"2.3\"></a>"
   ]
  },
  {
   "cell_type": "markdown",
   "metadata": {},
   "source": [
    "### 2.3) Table 'df_weather'"
   ]
  },
  {
   "cell_type": "code",
   "execution_count": 9,
   "metadata": {},
   "outputs": [],
   "source": [
    "# read csv file\n",
    "try:\n",
    "    df_weather = pd.read_csv('C:/Users/Herbert/Documents/Practicum100/datasets/sql/project_sql_result_07.csv')\n",
    "except:\n",
    "    print(\"Couldn't read csv file.\")"
   ]
  },
  {
   "cell_type": "code",
   "execution_count": 10,
   "metadata": {},
   "outputs": [
    {
     "data": {
      "text/html": [
       "<div>\n",
       "<style scoped>\n",
       "    .dataframe tbody tr th:only-of-type {\n",
       "        vertical-align: middle;\n",
       "    }\n",
       "\n",
       "    .dataframe tbody tr th {\n",
       "        vertical-align: top;\n",
       "    }\n",
       "\n",
       "    .dataframe thead th {\n",
       "        text-align: right;\n",
       "    }\n",
       "</style>\n",
       "<table border=\"1\" class=\"dataframe\">\n",
       "  <thead>\n",
       "    <tr style=\"text-align: right;\">\n",
       "      <th></th>\n",
       "      <th>start_ts</th>\n",
       "      <th>weather_conditions</th>\n",
       "      <th>duration_seconds</th>\n",
       "    </tr>\n",
       "  </thead>\n",
       "  <tbody>\n",
       "    <tr>\n",
       "      <td>354</td>\n",
       "      <td>2017-11-25 11:00:00</td>\n",
       "      <td>Good</td>\n",
       "      <td>7440.0</td>\n",
       "    </tr>\n",
       "    <tr>\n",
       "      <td>619</td>\n",
       "      <td>2017-11-25 14:00:00</td>\n",
       "      <td>Good</td>\n",
       "      <td>6420.0</td>\n",
       "    </tr>\n",
       "    <tr>\n",
       "      <td>276</td>\n",
       "      <td>2017-11-18 12:00:00</td>\n",
       "      <td>Bad</td>\n",
       "      <td>4980.0</td>\n",
       "    </tr>\n",
       "    <tr>\n",
       "      <td>583</td>\n",
       "      <td>2017-11-11 16:00:00</td>\n",
       "      <td>Good</td>\n",
       "      <td>4980.0</td>\n",
       "    </tr>\n",
       "    <tr>\n",
       "      <td>79</td>\n",
       "      <td>2017-11-11 15:00:00</td>\n",
       "      <td>Good</td>\n",
       "      <td>4800.0</td>\n",
       "    </tr>\n",
       "  </tbody>\n",
       "</table>\n",
       "</div>"
      ],
      "text/plain": [
       "                start_ts weather_conditions  duration_seconds\n",
       "354  2017-11-25 11:00:00               Good            7440.0\n",
       "619  2017-11-25 14:00:00               Good            6420.0\n",
       "276  2017-11-18 12:00:00                Bad            4980.0\n",
       "583  2017-11-11 16:00:00               Good            4980.0\n",
       "79   2017-11-11 15:00:00               Good            4800.0"
      ]
     },
     "execution_count": 10,
     "metadata": {},
     "output_type": "execute_result"
    }
   ],
   "source": [
    "df_weather.sort_values('duration_seconds', ascending = False).head()"
   ]
  },
  {
   "cell_type": "code",
   "execution_count": 11,
   "metadata": {},
   "outputs": [
    {
     "data": {
      "text/plain": [
       "Good    888\n",
       "Bad     180\n",
       "Name: weather_conditions, dtype: int64"
      ]
     },
     "execution_count": 11,
     "metadata": {},
     "output_type": "execute_result"
    }
   ],
   "source": [
    "df_weather['weather_conditions'].value_counts()"
   ]
  },
  {
   "cell_type": "code",
   "execution_count": 12,
   "metadata": {},
   "outputs": [
    {
     "name": "stdout",
     "output_type": "stream",
     "text": [
      "<class 'pandas.core.frame.DataFrame'>\n",
      "RangeIndex: 1068 entries, 0 to 1067\n",
      "Data columns (total 3 columns):\n",
      "start_ts              1068 non-null object\n",
      "weather_conditions    1068 non-null object\n",
      "duration_seconds      1068 non-null float64\n",
      "dtypes: float64(1), object(2)\n",
      "memory usage: 25.2+ KB\n"
     ]
    }
   ],
   "source": [
    "df_weather.info()"
   ]
  },
  {
   "cell_type": "markdown",
   "metadata": {},
   "source": [
    "#### Conclusion"
   ]
  },
  {
   "cell_type": "markdown",
   "metadata": {},
   "source": [
    "The table 'df_weather' has 3 columns and 1068 rows and contains data on rides from the Loop to O'Hare International Airport. The column 'start_ts' shows the pickup date and time for a certain taxi ride in object data type. The column 'weather_conditions' shows the weather condition at the moment the ride started in object data type; Here, for the sake of simplicity, the conditions are only divided into 2 groups: 'Good' and 'Bad'. We have more values for 'Good' (888) than for 'Bad' (180). The column 'duration_seconds' shows the ride duration in units of seconds in float data type. In the table one can see that some durations are given with 0 seconds.\n",
    "<br>\n",
    "Overall, there is not a single missing value in all 3 tables."
   ]
  },
  {
   "cell_type": "markdown",
   "metadata": {},
   "source": [
    "<a id=\"3\"></a>"
   ]
  },
  {
   "cell_type": "markdown",
   "metadata": {},
   "source": [
    "## 3) Prepare the data"
   ]
  },
  {
   "cell_type": "markdown",
   "metadata": {},
   "source": [
    "<a id=\"3.1\"></a>"
   ]
  },
  {
   "cell_type": "markdown",
   "metadata": {},
   "source": [
    "### 3.1) Replace the column names"
   ]
  },
  {
   "cell_type": "markdown",
   "metadata": {},
   "source": [
    "Since some columns have long names I will shorten these names."
   ]
  },
  {
   "cell_type": "code",
   "execution_count": 13,
   "metadata": {},
   "outputs": [
    {
     "data": {
      "text/html": [
       "<div>\n",
       "<style scoped>\n",
       "    .dataframe tbody tr th:only-of-type {\n",
       "        vertical-align: middle;\n",
       "    }\n",
       "\n",
       "    .dataframe tbody tr th {\n",
       "        vertical-align: top;\n",
       "    }\n",
       "\n",
       "    .dataframe thead th {\n",
       "        text-align: right;\n",
       "    }\n",
       "</style>\n",
       "<table border=\"1\" class=\"dataframe\">\n",
       "  <thead>\n",
       "    <tr style=\"text-align: right;\">\n",
       "      <th></th>\n",
       "      <th>company</th>\n",
       "      <th>trips</th>\n",
       "    </tr>\n",
       "  </thead>\n",
       "  <tbody>\n",
       "    <tr>\n",
       "      <td>0</td>\n",
       "      <td>Flash Cab</td>\n",
       "      <td>19558</td>\n",
       "    </tr>\n",
       "    <tr>\n",
       "      <td>1</td>\n",
       "      <td>Taxi Affiliation Services</td>\n",
       "      <td>11422</td>\n",
       "    </tr>\n",
       "    <tr>\n",
       "      <td>2</td>\n",
       "      <td>Medallion Leasin</td>\n",
       "      <td>10367</td>\n",
       "    </tr>\n",
       "    <tr>\n",
       "      <td>3</td>\n",
       "      <td>Yellow Cab</td>\n",
       "      <td>9888</td>\n",
       "    </tr>\n",
       "    <tr>\n",
       "      <td>4</td>\n",
       "      <td>Taxi Affiliation Service Yellow</td>\n",
       "      <td>9299</td>\n",
       "    </tr>\n",
       "  </tbody>\n",
       "</table>\n",
       "</div>"
      ],
      "text/plain": [
       "                           company  trips\n",
       "0                        Flash Cab  19558\n",
       "1        Taxi Affiliation Services  11422\n",
       "2                 Medallion Leasin  10367\n",
       "3                       Yellow Cab   9888\n",
       "4  Taxi Affiliation Service Yellow   9299"
      ]
     },
     "execution_count": 13,
     "metadata": {},
     "output_type": "execute_result"
    }
   ],
   "source": [
    "df_comp.columns = ['company', 'trips']\n",
    "\n",
    "df_comp.head()"
   ]
  },
  {
   "cell_type": "code",
   "execution_count": 14,
   "metadata": {},
   "outputs": [
    {
     "data": {
      "text/html": [
       "<div>\n",
       "<style scoped>\n",
       "    .dataframe tbody tr th:only-of-type {\n",
       "        vertical-align: middle;\n",
       "    }\n",
       "\n",
       "    .dataframe tbody tr th {\n",
       "        vertical-align: top;\n",
       "    }\n",
       "\n",
       "    .dataframe thead th {\n",
       "        text-align: right;\n",
       "    }\n",
       "</style>\n",
       "<table border=\"1\" class=\"dataframe\">\n",
       "  <thead>\n",
       "    <tr style=\"text-align: right;\">\n",
       "      <th></th>\n",
       "      <th>dropoff_loc</th>\n",
       "      <th>avg_trips</th>\n",
       "    </tr>\n",
       "  </thead>\n",
       "  <tbody>\n",
       "    <tr>\n",
       "      <td>0</td>\n",
       "      <td>Loop</td>\n",
       "      <td>10727.466667</td>\n",
       "    </tr>\n",
       "    <tr>\n",
       "      <td>1</td>\n",
       "      <td>River North</td>\n",
       "      <td>9523.666667</td>\n",
       "    </tr>\n",
       "    <tr>\n",
       "      <td>2</td>\n",
       "      <td>Streeterville</td>\n",
       "      <td>6664.666667</td>\n",
       "    </tr>\n",
       "    <tr>\n",
       "      <td>3</td>\n",
       "      <td>West Loop</td>\n",
       "      <td>5163.666667</td>\n",
       "    </tr>\n",
       "    <tr>\n",
       "      <td>4</td>\n",
       "      <td>O'Hare</td>\n",
       "      <td>2546.900000</td>\n",
       "    </tr>\n",
       "  </tbody>\n",
       "</table>\n",
       "</div>"
      ],
      "text/plain": [
       "     dropoff_loc     avg_trips\n",
       "0           Loop  10727.466667\n",
       "1    River North   9523.666667\n",
       "2  Streeterville   6664.666667\n",
       "3      West Loop   5163.666667\n",
       "4         O'Hare   2546.900000"
      ]
     },
     "execution_count": 14,
     "metadata": {},
     "output_type": "execute_result"
    }
   ],
   "source": [
    "df_drop.columns = ['dropoff_loc', 'avg_trips']\n",
    "\n",
    "df_drop.head()"
   ]
  },
  {
   "cell_type": "code",
   "execution_count": 15,
   "metadata": {},
   "outputs": [
    {
     "data": {
      "text/html": [
       "<div>\n",
       "<style scoped>\n",
       "    .dataframe tbody tr th:only-of-type {\n",
       "        vertical-align: middle;\n",
       "    }\n",
       "\n",
       "    .dataframe tbody tr th {\n",
       "        vertical-align: top;\n",
       "    }\n",
       "\n",
       "    .dataframe thead th {\n",
       "        text-align: right;\n",
       "    }\n",
       "</style>\n",
       "<table border=\"1\" class=\"dataframe\">\n",
       "  <thead>\n",
       "    <tr style=\"text-align: right;\">\n",
       "      <th></th>\n",
       "      <th>start_ts</th>\n",
       "      <th>weather</th>\n",
       "      <th>duration_sec</th>\n",
       "    </tr>\n",
       "  </thead>\n",
       "  <tbody>\n",
       "    <tr>\n",
       "      <td>0</td>\n",
       "      <td>2017-11-25 16:00:00</td>\n",
       "      <td>Good</td>\n",
       "      <td>2410.0</td>\n",
       "    </tr>\n",
       "    <tr>\n",
       "      <td>1</td>\n",
       "      <td>2017-11-25 14:00:00</td>\n",
       "      <td>Good</td>\n",
       "      <td>1920.0</td>\n",
       "    </tr>\n",
       "    <tr>\n",
       "      <td>2</td>\n",
       "      <td>2017-11-25 12:00:00</td>\n",
       "      <td>Good</td>\n",
       "      <td>1543.0</td>\n",
       "    </tr>\n",
       "    <tr>\n",
       "      <td>3</td>\n",
       "      <td>2017-11-04 10:00:00</td>\n",
       "      <td>Good</td>\n",
       "      <td>2512.0</td>\n",
       "    </tr>\n",
       "    <tr>\n",
       "      <td>4</td>\n",
       "      <td>2017-11-11 07:00:00</td>\n",
       "      <td>Good</td>\n",
       "      <td>1440.0</td>\n",
       "    </tr>\n",
       "  </tbody>\n",
       "</table>\n",
       "</div>"
      ],
      "text/plain": [
       "              start_ts weather  duration_sec\n",
       "0  2017-11-25 16:00:00    Good        2410.0\n",
       "1  2017-11-25 14:00:00    Good        1920.0\n",
       "2  2017-11-25 12:00:00    Good        1543.0\n",
       "3  2017-11-04 10:00:00    Good        2512.0\n",
       "4  2017-11-11 07:00:00    Good        1440.0"
      ]
     },
     "execution_count": 15,
     "metadata": {},
     "output_type": "execute_result"
    }
   ],
   "source": [
    "df_weather.columns = ['start_ts', 'weather', 'duration_sec']\n",
    "\n",
    "df_weather.head()"
   ]
  },
  {
   "cell_type": "markdown",
   "metadata": {},
   "source": [
    "<a id=\"3.2\"></a>"
   ]
  },
  {
   "cell_type": "markdown",
   "metadata": {},
   "source": [
    "### 3.2) Convert the data types"
   ]
  },
  {
   "cell_type": "code",
   "execution_count": 16,
   "metadata": {},
   "outputs": [
    {
     "name": "stdout",
     "output_type": "stream",
     "text": [
      "Transformed 'avg_trips' into integer data type.\n"
     ]
    }
   ],
   "source": [
    "# Since we have big values for average trips in the table 'df_drop'\n",
    "# I round the average number of trips\n",
    "df_drop['avg_trips'] = df_drop['avg_trips'].round(0)\n",
    "\n",
    "\n",
    "# I transform the numbers into integer data type\n",
    "try:\n",
    "    df_drop['avg_trips'] = df_drop['avg_trips'].astype('int64')\n",
    "    print(\"Transformed 'avg_trips' into integer data type.\")\n",
    "except:\n",
    "    print(\"Couldn't transform 'avg_trips' into integer data type.\")"
   ]
  },
  {
   "cell_type": "code",
   "execution_count": 17,
   "metadata": {},
   "outputs": [],
   "source": [
    "# The distance between the Loop to O'Hare International Airport is at least 27 kilometers by car.\n",
    "# That's the reason I delete all rows with ride durations under 10 minutes:\n",
    "\n",
    "df_weather = df_weather[df_weather['duration_sec'] >= 600]"
   ]
  },
  {
   "cell_type": "code",
   "execution_count": 18,
   "metadata": {},
   "outputs": [
    {
     "name": "stdout",
     "output_type": "stream",
     "text": [
      "Transformed 'duration_sec' into integer data type.\n"
     ]
    }
   ],
   "source": [
    "# Since we have big values for ride durations\n",
    "# we can round the duration values\n",
    "df_weather['duration_sec'] = df_weather['duration_sec'].round(0)\n",
    "\n",
    "\n",
    "# I transform the numbers into integer data type\n",
    "try:\n",
    "    df_weather['duration_sec'] = df_weather['duration_sec'].astype('int64')\n",
    "    print(\"Transformed 'duration_sec' into integer data type.\")\n",
    "except:\n",
    "    print(\"Couldn't transform 'duration_sec' into integer data type.\")"
   ]
  },
  {
   "cell_type": "code",
   "execution_count": 19,
   "metadata": {},
   "outputs": [],
   "source": [
    "# Tramsform the column 'start_ts' in the weather table into the datetime data type:\n",
    "\n",
    "df_weather['start_ts'] = pd.to_datetime(df_weather['start_ts'], format = '%Y-%m-%d %H:%M:%S')"
   ]
  },
  {
   "cell_type": "code",
   "execution_count": 20,
   "metadata": {},
   "outputs": [
    {
     "name": "stdout",
     "output_type": "stream",
     "text": [
      "<class 'pandas.core.frame.DataFrame'>\n",
      "Int64Index: 1058 entries, 0 to 1067\n",
      "Data columns (total 3 columns):\n",
      "start_ts        1058 non-null datetime64[ns]\n",
      "weather         1058 non-null object\n",
      "duration_sec    1058 non-null int64\n",
      "dtypes: datetime64[ns](1), int64(1), object(1)\n",
      "memory usage: 33.1+ KB\n"
     ]
    }
   ],
   "source": [
    "df_weather.info()"
   ]
  },
  {
   "cell_type": "code",
   "execution_count": 21,
   "metadata": {},
   "outputs": [
    {
     "name": "stdout",
     "output_type": "stream",
     "text": [
      "<class 'pandas.core.frame.DataFrame'>\n",
      "RangeIndex: 94 entries, 0 to 93\n",
      "Data columns (total 2 columns):\n",
      "dropoff_loc    94 non-null object\n",
      "avg_trips      94 non-null int64\n",
      "dtypes: int64(1), object(1)\n",
      "memory usage: 1.6+ KB\n"
     ]
    }
   ],
   "source": [
    "df_drop.info()"
   ]
  },
  {
   "cell_type": "code",
   "execution_count": 22,
   "metadata": {
    "scrolled": true
   },
   "outputs": [
    {
     "name": "stdout",
     "output_type": "stream",
     "text": [
      "<class 'pandas.core.frame.DataFrame'>\n",
      "RangeIndex: 64 entries, 0 to 63\n",
      "Data columns (total 2 columns):\n",
      "company    64 non-null object\n",
      "trips      64 non-null int64\n",
      "dtypes: int64(1), object(1)\n",
      "memory usage: 1.1+ KB\n"
     ]
    }
   ],
   "source": [
    "df_comp.info()"
   ]
  },
  {
   "cell_type": "markdown",
   "metadata": {},
   "source": [
    "#### Conclusion"
   ]
  },
  {
   "cell_type": "markdown",
   "metadata": {},
   "source": [
    "Since in our analysis we are interested in the top 10 locations in terms of dropoffs and since the values for average trips for these locations is in the range of thousands, rounding these values is not significant and we can transform these values into integer data type. We transform the row 'avg_trips' into integer data type. <br> <br> The timestamps in the column 'start_ts' of the table 'df_weather' have been transformed into the datetime data type applying the corresponding format. <br> <br> The table 'df_weather' gives us time durations for trips between the Loop and the O'Hare International Airport in Chicago. When searching for the distance between these two spots one has to cover by car - for example using Google Maps - the distance is at least 27 kilometers. Since we don't know exactly about the rides, we can at least delete all rides that are shorter than 10 minutes. The values in the column 'duration_sec' are rounded into whole seconds and they are transformed into integer data type."
   ]
  },
  {
   "cell_type": "markdown",
   "metadata": {},
   "source": [
    "<a id=\"3.3\"></a>"
   ]
  },
  {
   "cell_type": "markdown",
   "metadata": {},
   "source": [
    "### 3.3) Check for duplicates"
   ]
  },
  {
   "cell_type": "markdown",
   "metadata": {},
   "source": [
    "###### Table 'df_comp'"
   ]
  },
  {
   "cell_type": "code",
   "execution_count": 23,
   "metadata": {},
   "outputs": [
    {
     "name": "stdout",
     "output_type": "stream",
     "text": [
      "0\n"
     ]
    }
   ],
   "source": [
    "# number of duplicated company names\n",
    "\n",
    "print(df_comp['company'].duplicated().sum())"
   ]
  },
  {
   "cell_type": "code",
   "execution_count": 24,
   "metadata": {},
   "outputs": [
    {
     "data": {
      "text/html": [
       "<div>\n",
       "<style scoped>\n",
       "    .dataframe tbody tr th:only-of-type {\n",
       "        vertical-align: middle;\n",
       "    }\n",
       "\n",
       "    .dataframe tbody tr th {\n",
       "        vertical-align: top;\n",
       "    }\n",
       "\n",
       "    .dataframe thead th {\n",
       "        text-align: right;\n",
       "    }\n",
       "</style>\n",
       "<table border=\"1\" class=\"dataframe\">\n",
       "  <thead>\n",
       "    <tr style=\"text-align: right;\">\n",
       "      <th></th>\n",
       "      <th>company</th>\n",
       "      <th>trips</th>\n",
       "    </tr>\n",
       "  </thead>\n",
       "  <tbody>\n",
       "    <tr>\n",
       "      <td>59</td>\n",
       "      <td>4053 - 40193 Adwar H. Nikola</td>\n",
       "      <td>7</td>\n",
       "    </tr>\n",
       "    <tr>\n",
       "      <td>60</td>\n",
       "      <td>2733 - 74600 Benny Jona</td>\n",
       "      <td>7</td>\n",
       "    </tr>\n",
       "    <tr>\n",
       "      <td>61</td>\n",
       "      <td>5874 - 73628 Sergey Cab Corp.</td>\n",
       "      <td>5</td>\n",
       "    </tr>\n",
       "    <tr>\n",
       "      <td>62</td>\n",
       "      <td>2241 - 44667 - Felman Corp, Manuel Alonso</td>\n",
       "      <td>3</td>\n",
       "    </tr>\n",
       "    <tr>\n",
       "      <td>63</td>\n",
       "      <td>3556 - 36214 RC Andrews Cab</td>\n",
       "      <td>2</td>\n",
       "    </tr>\n",
       "  </tbody>\n",
       "</table>\n",
       "</div>"
      ],
      "text/plain": [
       "                                      company  trips\n",
       "59               4053 - 40193 Adwar H. Nikola      7\n",
       "60                    2733 - 74600 Benny Jona      7\n",
       "61              5874 - 73628 Sergey Cab Corp.      5\n",
       "62  2241 - 44667 - Felman Corp, Manuel Alonso      3\n",
       "63                3556 - 36214 RC Andrews Cab      2"
      ]
     },
     "execution_count": 24,
     "metadata": {},
     "output_type": "execute_result"
    }
   ],
   "source": [
    "# We can see that some companies have strange numbers and hyphens in their names\n",
    "\n",
    "df_comp.tail(5)"
   ]
  },
  {
   "cell_type": "code",
   "execution_count": 25,
   "metadata": {},
   "outputs": [],
   "source": [
    "# I remove all numbers and hyphens in the company names in order to find \n",
    "# duplicated company names\n",
    "\n",
    "\n",
    "# For every company name, I join all elements that are not digits\n",
    "# to an empty string. After that I replace all hyphens with an empty string.\n",
    "# I will create a second file since I don't want to change company names\n",
    "# in case I don't find duplicated company names:\n",
    "\n",
    "df_comp_2 = df_comp.copy()\n",
    "\n",
    "for i in range(len(df_comp_2)):\n",
    "    comp_name = df_comp_2.loc[i, 'company']\n",
    "    comp_name = ''.join(j for j in comp_name if not j.isdigit())\n",
    "    comp_name = comp_name.replace('-', '')\n",
    "    df_comp_2.loc[i, 'company'] = comp_name"
   ]
  },
  {
   "cell_type": "code",
   "execution_count": 26,
   "metadata": {},
   "outputs": [
    {
     "data": {
      "text/html": [
       "<div>\n",
       "<style scoped>\n",
       "    .dataframe tbody tr th:only-of-type {\n",
       "        vertical-align: middle;\n",
       "    }\n",
       "\n",
       "    .dataframe tbody tr th {\n",
       "        vertical-align: top;\n",
       "    }\n",
       "\n",
       "    .dataframe thead th {\n",
       "        text-align: right;\n",
       "    }\n",
       "</style>\n",
       "<table border=\"1\" class=\"dataframe\">\n",
       "  <thead>\n",
       "    <tr style=\"text-align: right;\">\n",
       "      <th></th>\n",
       "      <th>company</th>\n",
       "      <th>trips</th>\n",
       "    </tr>\n",
       "  </thead>\n",
       "  <tbody>\n",
       "    <tr>\n",
       "      <td>59</td>\n",
       "      <td>Adwar H. Nikola</td>\n",
       "      <td>7</td>\n",
       "    </tr>\n",
       "    <tr>\n",
       "      <td>60</td>\n",
       "      <td>Benny Jona</td>\n",
       "      <td>7</td>\n",
       "    </tr>\n",
       "    <tr>\n",
       "      <td>61</td>\n",
       "      <td>Sergey Cab Corp.</td>\n",
       "      <td>5</td>\n",
       "    </tr>\n",
       "    <tr>\n",
       "      <td>62</td>\n",
       "      <td>Felman Corp, Manuel Alonso</td>\n",
       "      <td>3</td>\n",
       "    </tr>\n",
       "    <tr>\n",
       "      <td>63</td>\n",
       "      <td>RC Andrews Cab</td>\n",
       "      <td>2</td>\n",
       "    </tr>\n",
       "  </tbody>\n",
       "</table>\n",
       "</div>"
      ],
      "text/plain": [
       "                           company  trips\n",
       "59                 Adwar H. Nikola      7\n",
       "60                      Benny Jona      7\n",
       "61                Sergey Cab Corp.      5\n",
       "62      Felman Corp, Manuel Alonso      3\n",
       "63                  RC Andrews Cab      2"
      ]
     },
     "execution_count": 26,
     "metadata": {},
     "output_type": "execute_result"
    }
   ],
   "source": [
    "# Check if strange number combinations in company names are deleted\n",
    "\n",
    "df_comp_2.tail(5)"
   ]
  },
  {
   "cell_type": "code",
   "execution_count": 27,
   "metadata": {},
   "outputs": [
    {
     "name": "stdout",
     "output_type": "stream",
     "text": [
      "0\n"
     ]
    }
   ],
   "source": [
    "# number of duplicated company names with company names\n",
    "# not containing strange number combinations\n",
    "\n",
    "print(df_comp_2['company'].duplicated().sum())"
   ]
  },
  {
   "cell_type": "markdown",
   "metadata": {},
   "source": [
    "Since I didn't find any duplicated company names after deleting all numbers and hyphens, we can use our table 'df_comp' with the original company names."
   ]
  },
  {
   "cell_type": "markdown",
   "metadata": {},
   "source": [
    "###### Table 'df_drop'"
   ]
  },
  {
   "cell_type": "code",
   "execution_count": 28,
   "metadata": {},
   "outputs": [
    {
     "data": {
      "text/html": [
       "<div>\n",
       "<style scoped>\n",
       "    .dataframe tbody tr th:only-of-type {\n",
       "        vertical-align: middle;\n",
       "    }\n",
       "\n",
       "    .dataframe tbody tr th {\n",
       "        vertical-align: top;\n",
       "    }\n",
       "\n",
       "    .dataframe thead th {\n",
       "        text-align: right;\n",
       "    }\n",
       "</style>\n",
       "<table border=\"1\" class=\"dataframe\">\n",
       "  <thead>\n",
       "    <tr style=\"text-align: right;\">\n",
       "      <th></th>\n",
       "      <th>dropoff_loc</th>\n",
       "      <th>avg_trips</th>\n",
       "    </tr>\n",
       "  </thead>\n",
       "  <tbody>\n",
       "    <tr>\n",
       "      <td>0</td>\n",
       "      <td>Loop</td>\n",
       "      <td>10727</td>\n",
       "    </tr>\n",
       "    <tr>\n",
       "      <td>1</td>\n",
       "      <td>River North</td>\n",
       "      <td>9524</td>\n",
       "    </tr>\n",
       "    <tr>\n",
       "      <td>2</td>\n",
       "      <td>Streeterville</td>\n",
       "      <td>6665</td>\n",
       "    </tr>\n",
       "    <tr>\n",
       "      <td>3</td>\n",
       "      <td>West Loop</td>\n",
       "      <td>5164</td>\n",
       "    </tr>\n",
       "    <tr>\n",
       "      <td>4</td>\n",
       "      <td>O'Hare</td>\n",
       "      <td>2547</td>\n",
       "    </tr>\n",
       "    <tr>\n",
       "      <td>5</td>\n",
       "      <td>Lake View</td>\n",
       "      <td>2421</td>\n",
       "    </tr>\n",
       "    <tr>\n",
       "      <td>6</td>\n",
       "      <td>Grant Park</td>\n",
       "      <td>2069</td>\n",
       "    </tr>\n",
       "    <tr>\n",
       "      <td>7</td>\n",
       "      <td>Museum Campus</td>\n",
       "      <td>1510</td>\n",
       "    </tr>\n",
       "    <tr>\n",
       "      <td>8</td>\n",
       "      <td>Gold Coast</td>\n",
       "      <td>1364</td>\n",
       "    </tr>\n",
       "    <tr>\n",
       "      <td>9</td>\n",
       "      <td>Sheffield &amp; DePaul</td>\n",
       "      <td>1260</td>\n",
       "    </tr>\n",
       "  </tbody>\n",
       "</table>\n",
       "</div>"
      ],
      "text/plain": [
       "          dropoff_loc  avg_trips\n",
       "0                Loop      10727\n",
       "1         River North       9524\n",
       "2       Streeterville       6665\n",
       "3           West Loop       5164\n",
       "4              O'Hare       2547\n",
       "5           Lake View       2421\n",
       "6          Grant Park       2069\n",
       "7       Museum Campus       1510\n",
       "8          Gold Coast       1364\n",
       "9  Sheffield & DePaul       1260"
      ]
     },
     "execution_count": 28,
     "metadata": {},
     "output_type": "execute_result"
    }
   ],
   "source": [
    "df_drop.sort_values('avg_trips', ascending = False).head(10)"
   ]
  },
  {
   "cell_type": "code",
   "execution_count": 29,
   "metadata": {},
   "outputs": [
    {
     "name": "stdout",
     "output_type": "stream",
     "text": [
      "0\n"
     ]
    }
   ],
   "source": [
    "# Check for duplicated dropoff location names\n",
    "\n",
    "print(df_drop['dropoff_loc'].duplicated().sum())"
   ]
  },
  {
   "cell_type": "markdown",
   "metadata": {},
   "source": [
    "###### Table 'df_weather'"
   ]
  },
  {
   "cell_type": "code",
   "execution_count": 30,
   "metadata": {},
   "outputs": [
    {
     "data": {
      "text/html": [
       "<div>\n",
       "<style scoped>\n",
       "    .dataframe tbody tr th:only-of-type {\n",
       "        vertical-align: middle;\n",
       "    }\n",
       "\n",
       "    .dataframe tbody tr th {\n",
       "        vertical-align: top;\n",
       "    }\n",
       "\n",
       "    .dataframe thead th {\n",
       "        text-align: right;\n",
       "    }\n",
       "</style>\n",
       "<table border=\"1\" class=\"dataframe\">\n",
       "  <thead>\n",
       "    <tr style=\"text-align: right;\">\n",
       "      <th></th>\n",
       "      <th>start_ts</th>\n",
       "      <th>weather</th>\n",
       "      <th>duration_sec</th>\n",
       "    </tr>\n",
       "  </thead>\n",
       "  <tbody>\n",
       "    <tr>\n",
       "      <td>0</td>\n",
       "      <td>2017-11-25 16:00:00</td>\n",
       "      <td>Good</td>\n",
       "      <td>2410</td>\n",
       "    </tr>\n",
       "    <tr>\n",
       "      <td>1</td>\n",
       "      <td>2017-11-25 14:00:00</td>\n",
       "      <td>Good</td>\n",
       "      <td>1920</td>\n",
       "    </tr>\n",
       "    <tr>\n",
       "      <td>2</td>\n",
       "      <td>2017-11-25 12:00:00</td>\n",
       "      <td>Good</td>\n",
       "      <td>1543</td>\n",
       "    </tr>\n",
       "    <tr>\n",
       "      <td>3</td>\n",
       "      <td>2017-11-04 10:00:00</td>\n",
       "      <td>Good</td>\n",
       "      <td>2512</td>\n",
       "    </tr>\n",
       "    <tr>\n",
       "      <td>4</td>\n",
       "      <td>2017-11-11 07:00:00</td>\n",
       "      <td>Good</td>\n",
       "      <td>1440</td>\n",
       "    </tr>\n",
       "  </tbody>\n",
       "</table>\n",
       "</div>"
      ],
      "text/plain": [
       "             start_ts weather  duration_sec\n",
       "0 2017-11-25 16:00:00    Good          2410\n",
       "1 2017-11-25 14:00:00    Good          1920\n",
       "2 2017-11-25 12:00:00    Good          1543\n",
       "3 2017-11-04 10:00:00    Good          2512\n",
       "4 2017-11-11 07:00:00    Good          1440"
      ]
     },
     "execution_count": 30,
     "metadata": {},
     "output_type": "execute_result"
    }
   ],
   "source": [
    "df_weather.head()"
   ]
  },
  {
   "cell_type": "code",
   "execution_count": 31,
   "metadata": {},
   "outputs": [
    {
     "name": "stdout",
     "output_type": "stream",
     "text": [
      "197\n"
     ]
    }
   ],
   "source": [
    "# number of duplicated rows\n",
    "\n",
    "print(df_weather.duplicated().sum())"
   ]
  },
  {
   "cell_type": "code",
   "execution_count": 32,
   "metadata": {},
   "outputs": [
    {
     "name": "stdout",
     "output_type": "stream",
     "text": [
      "Length of table 'df_weather' before deleting duplicates:\n",
      "1058\n",
      "\n",
      "Value counts of weather conditions before deleting duplicates:\n",
      "Good    880\n",
      "Bad     178\n",
      "Name: weather, dtype: int64\n"
     ]
    }
   ],
   "source": [
    "print(\"Length of table 'df_weather' before deleting duplicates:\")\n",
    "print(len(df_weather))\n",
    "print()\n",
    "print(\"Value counts of weather conditions before deleting duplicates:\")\n",
    "print(df_weather['weather'].value_counts())"
   ]
  },
  {
   "cell_type": "code",
   "execution_count": 33,
   "metadata": {},
   "outputs": [
    {
     "name": "stdout",
     "output_type": "stream",
     "text": [
      "Length of table 'df_weather' after deleting duplicates:\n",
      "861\n",
      "\n",
      "Value counts of weather conditions after deleting duplicates:\n",
      "Good    715\n",
      "Bad     146\n",
      "Name: weather, dtype: int64\n"
     ]
    }
   ],
   "source": [
    "print(\"Length of table 'df_weather' after deleting duplicates:\")\n",
    "print(len(df_weather.drop_duplicates()))\n",
    "print()\n",
    "print(\"Value counts of weather conditions after deleting duplicates:\")\n",
    "print(df_weather.drop_duplicates().loc[:, 'weather'].value_counts())"
   ]
  },
  {
   "cell_type": "markdown",
   "metadata": {},
   "source": [
    "Since the timestamps are rounded into whole hours,\n",
    "there are listed multiple rides for every hour.\n",
    "It's unlikely to be accurate to the second twice\n",
    "in the same hour."
   ]
  },
  {
   "cell_type": "code",
   "execution_count": 34,
   "metadata": {},
   "outputs": [],
   "source": [
    "# After deleting the duplicates, there are still enough rows\n",
    "# with 'good' and 'bad' weather conditions,\n",
    "# so I decide to delete these duplicates:\n",
    "\n",
    "df_weather = df_weather.drop_duplicates()"
   ]
  },
  {
   "cell_type": "code",
   "execution_count": 35,
   "metadata": {},
   "outputs": [
    {
     "name": "stdout",
     "output_type": "stream",
     "text": [
      "0    861\n",
      "Name: second, dtype: int64\n",
      "0    861\n",
      "Name: minute, dtype: int64\n"
     ]
    }
   ],
   "source": [
    "# Let's check if all timestamps are rounded to full hours\n",
    "\n",
    "# Add helping columns: 'second' and 'minute'; they show\n",
    "# the minute and second values from the timestamp 'start_ts'.\n",
    "# They should all have the value 0 as the only value\n",
    "\n",
    "df_weather['second'] = df_weather['start_ts'].dt.second\n",
    "df_weather['minute'] = df_weather['start_ts'].dt.minute\n",
    "\n",
    "print(df_weather['second'].value_counts())\n",
    "print(df_weather['minute'].value_counts())"
   ]
  },
  {
   "cell_type": "code",
   "execution_count": 36,
   "metadata": {},
   "outputs": [],
   "source": [
    "# All timestamps are rounded to full hours\n",
    "\n",
    "# We can remove the helping columns\n",
    "df_weather = df_weather.drop(columns = ['second', 'minute'])"
   ]
  },
  {
   "cell_type": "markdown",
   "metadata": {},
   "source": [
    "#### Conclusion"
   ]
  },
  {
   "cell_type": "markdown",
   "metadata": {},
   "source": [
    "In the table 'df_comp' we didn't find any duplicated companies. We have seen that some companies have strange number combinations in their names (like '5874 - 73628 Sergey Cab Corp.'). I wanted to see if there are duplicated company names when deleting these numbers. Since I still didn't find any duplicates, I left the original company names including the number combinations. <br> <br> Also the table 'df_drop' doesn't have any duplicated locations in the column 'dropoff_loc'. <br> <br> The only table containing duplicates is 'df_weather'. Here, all timestamps in the column 'start_ts' are rounded to full hours. The duplicates could be explained by the timestamps which are rounded to full hours and by the thousands of taxi rides every day. On the other hand, we have only a slice of all rides in the table: Only 1058. It's unlikely that two rides being accurate to the second are in one table. Since, after deleting the duplicates, we still have enough rows with the weather condition 'bad', we can delete the duplicates and use the data for the test of the hypothesis."
   ]
  },
  {
   "cell_type": "markdown",
   "metadata": {},
   "source": [
    "<a id=\"4\"></a>"
   ]
  },
  {
   "cell_type": "markdown",
   "metadata": {},
   "source": [
    "## 4) Analysis"
   ]
  },
  {
   "cell_type": "markdown",
   "metadata": {},
   "source": [
    "<a id=\"4.1\"></a>"
   ]
  },
  {
   "cell_type": "markdown",
   "metadata": {},
   "source": [
    "### 4.1) Top 10 neighborhoods by number of dropoffs"
   ]
  },
  {
   "cell_type": "code",
   "execution_count": 37,
   "metadata": {},
   "outputs": [],
   "source": [
    "# Let's show the top 10 most visited neighbourhoods in Chicago reached by taxi\n",
    "\n",
    "df_drop = df_drop.sort_values(by='avg_trips', ascending = False)"
   ]
  },
  {
   "cell_type": "code",
   "execution_count": 38,
   "metadata": {},
   "outputs": [
    {
     "data": {
      "text/html": [
       "<div>\n",
       "<style scoped>\n",
       "    .dataframe tbody tr th:only-of-type {\n",
       "        vertical-align: middle;\n",
       "    }\n",
       "\n",
       "    .dataframe tbody tr th {\n",
       "        vertical-align: top;\n",
       "    }\n",
       "\n",
       "    .dataframe thead th {\n",
       "        text-align: right;\n",
       "    }\n",
       "</style>\n",
       "<table border=\"1\" class=\"dataframe\">\n",
       "  <thead>\n",
       "    <tr style=\"text-align: right;\">\n",
       "      <th></th>\n",
       "      <th>dropoff_loc</th>\n",
       "      <th>avg_trips</th>\n",
       "    </tr>\n",
       "  </thead>\n",
       "  <tbody>\n",
       "    <tr>\n",
       "      <td>0</td>\n",
       "      <td>Loop</td>\n",
       "      <td>10727</td>\n",
       "    </tr>\n",
       "    <tr>\n",
       "      <td>1</td>\n",
       "      <td>River North</td>\n",
       "      <td>9524</td>\n",
       "    </tr>\n",
       "    <tr>\n",
       "      <td>2</td>\n",
       "      <td>Streeterville</td>\n",
       "      <td>6665</td>\n",
       "    </tr>\n",
       "    <tr>\n",
       "      <td>3</td>\n",
       "      <td>West Loop</td>\n",
       "      <td>5164</td>\n",
       "    </tr>\n",
       "    <tr>\n",
       "      <td>4</td>\n",
       "      <td>O'Hare</td>\n",
       "      <td>2547</td>\n",
       "    </tr>\n",
       "    <tr>\n",
       "      <td>5</td>\n",
       "      <td>Lake View</td>\n",
       "      <td>2421</td>\n",
       "    </tr>\n",
       "    <tr>\n",
       "      <td>6</td>\n",
       "      <td>Grant Park</td>\n",
       "      <td>2069</td>\n",
       "    </tr>\n",
       "    <tr>\n",
       "      <td>7</td>\n",
       "      <td>Museum Campus</td>\n",
       "      <td>1510</td>\n",
       "    </tr>\n",
       "    <tr>\n",
       "      <td>8</td>\n",
       "      <td>Gold Coast</td>\n",
       "      <td>1364</td>\n",
       "    </tr>\n",
       "    <tr>\n",
       "      <td>9</td>\n",
       "      <td>Sheffield &amp; DePaul</td>\n",
       "      <td>1260</td>\n",
       "    </tr>\n",
       "  </tbody>\n",
       "</table>\n",
       "</div>"
      ],
      "text/plain": [
       "          dropoff_loc  avg_trips\n",
       "0                Loop      10727\n",
       "1         River North       9524\n",
       "2       Streeterville       6665\n",
       "3           West Loop       5164\n",
       "4              O'Hare       2547\n",
       "5           Lake View       2421\n",
       "6          Grant Park       2069\n",
       "7       Museum Campus       1510\n",
       "8          Gold Coast       1364\n",
       "9  Sheffield & DePaul       1260"
      ]
     },
     "execution_count": 38,
     "metadata": {},
     "output_type": "execute_result"
    }
   ],
   "source": [
    "df_drop.head(10)"
   ]
  },
  {
   "cell_type": "code",
   "execution_count": 39,
   "metadata": {},
   "outputs": [
    {
     "data": {
      "image/png": "[encoded data removed]",
      "text/plain": [
       "<Figure size 1008x576 with 1 Axes>"
      ]
     },
     "metadata": {
      "needs_background": "light"
     },
     "output_type": "display_data"
    }
   ],
   "source": [
    "# From the table, one sees the condition for having the top ten locations\n",
    "df_top_10 = df_drop[df_drop['avg_trips'] >= 1260].set_index('dropoff_loc')\n",
    "df_top_10.columns = ['Average number of trips per day']\n",
    "\n",
    "# Let's create a bar chart\n",
    "\n",
    "# set figure size\n",
    "rcParams['figure.figsize'] = 14,8\n",
    "df_top_10.plot(kind='bar', legend = None)\n",
    "plt.ylabel('Average number of trips per day')\n",
    "plt.xlabel('Dropoff location')\n",
    "plt.title('The top 10 neighborhoods in Chicago by number of dropoffs')\n",
    "plt.xticks(rotation=45)\n",
    "plt.show()"
   ]
  },
  {
   "cell_type": "markdown",
   "metadata": {},
   "source": [
    "#### Conclusion"
   ]
  },
  {
   "cell_type": "markdown",
   "metadata": {},
   "source": [
    "The 4 neighbourhoods with the greatest average trips have over 5000 trips per day. These 4 neighbourhoods are all located very central in Chicago. With a bigger distance, the 5th and 6th top dropoff loations are the O'Hare Airport and Lake View, both having less than 3000 trips per day in average. In exception to these 2 locations, the dropoff locations being ranked 7 to 10 are central located in Chicago. That means, in exception of Lake View and O'Hare Airport, 8 of the top 10 dropoff locations are located in the vicinity of the Loop. This can be explained by the internationality of the Airport and the big area of Lake View."
   ]
  },
  {
   "cell_type": "markdown",
   "metadata": {},
   "source": [
    "<a id=\"4.2\"></a>"
   ]
  },
  {
   "cell_type": "markdown",
   "metadata": {},
   "source": [
    "### 4.2) Taxi companies and number of rides"
   ]
  },
  {
   "cell_type": "code",
   "execution_count": 40,
   "metadata": {},
   "outputs": [],
   "source": [
    "# sort values in table 'df_comp' by trip amounts\n",
    "df_comp = df_comp.sort_values('trips', ascending = False)"
   ]
  },
  {
   "cell_type": "code",
   "execution_count": 41,
   "metadata": {},
   "outputs": [
    {
     "data": {
      "text/plain": [
       "64"
      ]
     },
     "execution_count": 41,
     "metadata": {},
     "output_type": "execute_result"
    }
   ],
   "source": [
    "# Number of companies in our table\n",
    "len(df_comp)"
   ]
  },
  {
   "cell_type": "code",
   "execution_count": 42,
   "metadata": {},
   "outputs": [
    {
     "data": {
      "image/png": "[encoded data removed]",
      "text/plain": [
       "<Figure size 1008x576 with 1 Axes>"
      ]
     },
     "metadata": {
      "needs_background": "light"
     },
     "output_type": "display_data"
    }
   ],
   "source": [
    "# Bar chart of the top 10\n",
    "\n",
    "plt.bar(np.arange(10), df_comp.loc[0:9]['trips'])\n",
    "plt.xticks(np.arange(10), df_comp.loc[0:9]['company'], rotation = 45)\n",
    "plt.title('Number of trips on November 15-16, 2017 for different taxi companies in Chicago - Top 10 Bar Chart')\n",
    "plt.xlabel(\"Ranking of trip amounts\")\n",
    "plt.ylabel('Number of trips')\n",
    "plt.show()"
   ]
  },
  {
   "cell_type": "markdown",
   "metadata": {},
   "source": [
    "The bar chart above shows the top 10 taxi companies with the most rides counted on these two days. One can clearly see a leading company named \"Flash Cab\"."
   ]
  },
  {
   "cell_type": "code",
   "execution_count": 43,
   "metadata": {},
   "outputs": [
    {
     "data": {
      "image/png": "[encoded data removed]",
      "text/plain": [
       "<Figure size 1008x576 with 1 Axes>"
      ]
     },
     "metadata": {
      "needs_background": "light"
     },
     "output_type": "display_data"
    }
   ],
   "source": [
    "# Bar chart for the 20 smallest companies\n",
    "\n",
    "df_comp.loc[44:63]['trips'].plot(kind='bar', grid = True, legend = None)\n",
    "plt.title('The 20 taxi companies with the smallest number of trips on November 15-16, 2017 in Chicago')\n",
    "plt.xlabel(\"Ranking of trip amounts\")\n",
    "plt.ylabel('Number of trips')\n",
    "plt.show()"
   ]
  },
  {
   "cell_type": "code",
   "execution_count": 44,
   "metadata": {},
   "outputs": [
    {
     "data": {
      "image/png": "[encoded data removed]",
      "text/plain": [
       "<Figure size 1008x576 with 1 Axes>"
      ]
     },
     "metadata": {
      "needs_background": "light"
     },
     "output_type": "display_data"
    }
   ],
   "source": [
    "# Histogram\n",
    "\n",
    "df_comp['trips'].hist(bins = [0, 1250, 2500, 3750, 5000, 6250, 7500, 8750, 10000, 11250, 12500, 13750, 15000, \\\n",
    "                             16250, 17500, 18750, 20000], alpha = 0.8)\n",
    "plt.title('Distribution of companies having certain amounts of trips on November 15-16, 2017')\n",
    "plt.xlabel('Number of trips')\n",
    "plt.ylabel('Number of companies')\n",
    "plt.show()"
   ]
  },
  {
   "cell_type": "markdown",
   "metadata": {},
   "source": [
    "#### Conclusion"
   ]
  },
  {
   "cell_type": "markdown",
   "metadata": {},
   "source": [
    "In the bar chart showing the top 10 taxi companies in terms of trip amounts we can see that the market leader taxi company in Chicago (Flash Cab, 19558 trips) has a significant distance to the second biggest taxi company in Chicago (Taxi Affiliation Services, 11422). That means that 'Flash Cab' has counted around 71% more taxi trips than 'Taxi Affiliation Services'. One can observe that the top 10 taxi companies have more than 5000 trips. <br> <br> The bar chart including the smallest 20 companies shows that in total, 19 of 64 companies have counted not more than 25 trips in these two days. That means that there are multiple taxi companies having a very small market share in Chicago. It's likely that some of these small companies are private citizens offering taxi services for earning more money, for example: <br>\n",
    "60, 4053 - 40193 Adwar H. Nikola, 7 trips; <br>\n",
    "61, 2733 - 74600 Benny Jona, 7 trips.\n",
    "<br> <br>\n",
    "The Histogram showing the number of companies having certain amounts of trips reveals that 40 of 64 companies have less than 1250 trips on November 15-16, 2017; and 50 of 64 companies have less than 2500 trips on these two days. These observations lead to the assumption that the demand of taxis is very high in Chicago, so that even small companies and private citizens have many customers every day. That also means that there's existing a big competition between taxi companies for gaining a big market share in Chicago."
   ]
  },
  {
   "cell_type": "markdown",
   "metadata": {},
   "source": [
    "<a id=\"5\"></a>"
   ]
  },
  {
   "cell_type": "markdown",
   "metadata": {},
   "source": [
    "## 5) Test of the hypothesis"
   ]
  },
  {
   "cell_type": "markdown",
   "metadata": {},
   "source": [
    "Hypothesis: \"The average duration of rides from the Loop to O'Hare International Airport changes on rainy Saturdays.\""
   ]
  },
  {
   "cell_type": "markdown",
   "metadata": {},
   "source": [
    "<a id=\"5.1\"></a>"
   ]
  },
  {
   "cell_type": "markdown",
   "metadata": {},
   "source": [
    "### 5.1) Prepare the data"
   ]
  },
  {
   "cell_type": "code",
   "execution_count": 45,
   "metadata": {},
   "outputs": [
    {
     "name": "stdout",
     "output_type": "stream",
     "text": [
      "5    861\n",
      "Name: day_of_week, dtype: int64\n"
     ]
    }
   ],
   "source": [
    "# For the test, we need to add a column showing the day of the week of the ride:\n",
    "\n",
    "df_weather['day_of_week'] = df_weather['start_ts'].dt.weekday\n",
    "\n",
    "print(df_weather['day_of_week'].value_counts())"
   ]
  },
  {
   "cell_type": "code",
   "execution_count": 46,
   "metadata": {},
   "outputs": [],
   "source": [
    "# All dates in the weather table are on Saturdays,\n",
    "# so we can remove that column\n",
    "\n",
    "df_weather = df_weather.drop(columns = 'day_of_week')"
   ]
  },
  {
   "cell_type": "code",
   "execution_count": 47,
   "metadata": {},
   "outputs": [],
   "source": [
    "# divide the data frame into two data frames for each weather condition\n",
    "\n",
    "df_good = df_weather.query('weather == \"Good\"')\n",
    "df_bad = df_weather.query('weather == \"Bad\"')"
   ]
  },
  {
   "cell_type": "code",
   "execution_count": 48,
   "metadata": {},
   "outputs": [
    {
     "data": {
      "image/png": "[encoded data removed]",
      "text/plain": [
       "<Figure size 720x432 with 1 Axes>"
      ]
     },
     "metadata": {
      "needs_background": "light"
     },
     "output_type": "display_data"
    },
    {
     "data": {
      "image/png": "[encoded data removed]",
      "text/plain": [
       "<Figure size 720x432 with 1 Axes>"
      ]
     },
     "metadata": {
      "needs_background": "light"
     },
     "output_type": "display_data"
    }
   ],
   "source": [
    "# Histogram for good weather\n",
    "\n",
    "# set figure size\n",
    "rcParams['figure.figsize'] = 10,6\n",
    "\n",
    "df_good['duration_sec'].hist(bins = [500, 1000, 1500, 2000, 2500, 3000, 3500, 4000, 4500, 5000, 5500, 6000, 6500, 7000, 7500,  \\\n",
    "                                     8000], alpha = 0.8,  color = 'orange')\n",
    "plt.title('Histogram for ride durations on saturdays with good weather')\n",
    "plt.xlabel('ride durations in seconds')\n",
    "plt.ylabel('number of rides')\n",
    "plt.show()\n",
    "\n",
    "# Histogram for bad weather\n",
    "\n",
    "df_bad['duration_sec'].hist(bins = [500, 1000, 1500, 2000, 2500, 3000, 3500, 4000, 4500, 5000, 5500, 6000, 6500, 7000, 7500, \\\n",
    "                                    8000],alpha = 0.8, color = 'dodgerblue')\n",
    "plt.title('Histogram for ride durations on rainy saturdays')\n",
    "plt.xlabel('ride durations in seconds')\n",
    "plt.ylabel('number of rides')\n",
    "plt.show()"
   ]
  },
  {
   "cell_type": "markdown",
   "metadata": {},
   "source": [
    "<a id=\"5.2\"></a>"
   ]
  },
  {
   "cell_type": "markdown",
   "metadata": {},
   "source": [
    "### 5.2) Test of the hypothesis"
   ]
  },
  {
   "cell_type": "markdown",
   "metadata": {},
   "source": [
    "###### Check the equality of samples"
   ]
  },
  {
   "cell_type": "code",
   "execution_count": 49,
   "metadata": {},
   "outputs": [
    {
     "name": "stdout",
     "output_type": "stream",
     "text": [
      "#### Infos about samples\n",
      "\n",
      "Size of 'good weather' sample: 715\n",
      "Size of 'rainy weather' sample: 146\n",
      "\n",
      "Ride duration mean value for good weather: 2054 seconds\n",
      "Ride duration mean value for rainy weather: 2436 seconds\n",
      "\n",
      "Ride duration variance for good weather: 560637 seconds^2\n",
      "Ride duration variance for rainy weather: 520570 seconds^2\n",
      "\n",
      "\n",
      "#### Check equality of variances\n",
      "\n",
      "As one can see in the histograms above, we have significant deviations from normal distributions for ride durations.\n",
      "The distribution for good weather is exponentially and the distribution for rainy weather is right skewed.\n",
      "So, we use the Levene's test for checking equality of variances.\n",
      "\n",
      "Null hypothesis: Both samples are from populations with equal variances.\n",
      "Alternative hypothesis: Both samples are from populations with unequal variances.\n",
      "\n",
      "Critical statistical significance level: alpha = 5%; if the p-value is less than alpha, we reject the null hypothesis.\n",
      "\n",
      "p-value from levene test:  0.8862949928013623\n",
      "\n",
      "We can't reject the null hypothesis.\n",
      "\n",
      "So for the statistical test we can assume equal variances.\n"
     ]
    }
   ],
   "source": [
    "print(\"#### Infos about samples\")\n",
    "print()\n",
    "print(\"Size of 'good weather' sample:\", len(df_good))\n",
    "print(\"Size of 'rainy weather' sample:\", len(df_bad))\n",
    "print()\n",
    "print(\"Ride duration mean value for good weather: {:.0f} seconds\".format(df_good['duration_sec'].mean()))\n",
    "print(\"Ride duration mean value for rainy weather: {:.0f} seconds\".format(df_bad['duration_sec'].mean()))\n",
    "print()\n",
    "print(\"Ride duration variance for good weather: {:.0f} seconds^2\".format(df_good['duration_sec'].std()**2))\n",
    "print(\"Ride duration variance for rainy weather: {:.0f} seconds^2\".format(df_bad['duration_sec'].std()**2))\n",
    "print()\n",
    "print()\n",
    "print(\"#### Check equality of variances\")\n",
    "print()\n",
    "print(\"As one can see in the histograms above, we have significant deviations from normal distributions for ride durations.\")\n",
    "print(\"The distribution for good weather is exponentially and the distribution for rainy weather is right skewed.\")\n",
    "print(\"So, we use the Levene's test for checking equality of variances.\")\n",
    "print()\n",
    "print(\"Null hypothesis: Both samples are from populations with equal variances.\")\n",
    "print(\"Alternative hypothesis: Both samples are from populations with unequal variances.\")\n",
    "print()\n",
    "print(\"Critical statistical significance level: alpha = 5%; if the p-value is less than alpha, we reject the null hypothesis.\")\n",
    "print()\n",
    "\n",
    "alpha = 0.05\n",
    "stat, p_value_levene = levene(df_good['duration_sec'], df_bad['duration_sec'], center = 'median')\n",
    "\n",
    "print('p-value from levene test: ', p_value_levene)\n",
    "print()\n",
    "\n",
    "if (p_value_levene < alpha):\n",
    "        print(\"We reject the null hypothesis.\")\n",
    "else:\n",
    "        print(\"We can't reject the null hypothesis.\")\n",
    "print()\n",
    "print(\"So for the statistical test we can assume equal variances.\")"
   ]
  },
  {
   "cell_type": "markdown",
   "metadata": {},
   "source": [
    "###### Test of hypothesis"
   ]
  },
  {
   "cell_type": "code",
   "execution_count": 50,
   "metadata": {
    "scrolled": true
   },
   "outputs": [
    {
     "name": "stdout",
     "output_type": "stream",
     "text": [
      "We can assume equal variances. If we use the student-t-test, we would use a parametric\n",
      "test. For not-normal distributions we should change to a non-parametric test. We have a two-sided test for two\n",
      "independent samples which have significantly different sizes.\n",
      "That's why we use the Mann-Whitney-U-Test.\n",
      "\n",
      "We bring the samples in the same size.\n",
      "\n",
      "Null hypothesis:\n",
      "The average ride duration from the Loop to O'Hare International Airport doesn't change significantly on rainy saturdays.\n",
      "\n",
      "Alternative hypothesis:\n",
      "The average ride duration from the Loop to O'Hare International Airport changes significantly on rainy saturdays.\n",
      "\n",
      "Critical statistical significance level: alpha = 1%; if the p-value is less than alpha, we reject the null hypothesis.\n",
      "\n",
      "p-value from Mann-Whitney-U-Test:  8.513472364615353e-06\n",
      "\n",
      "We reject the null hypothesis.\n"
     ]
    }
   ],
   "source": [
    "print(\"We can assume equal variances. If we use the student-t-test, we would use a parametric\")\n",
    "print(\"test. For not-normal distributions we should change to a non-parametric test. We have a two-sided test for two\")\n",
    "print(\"independent samples which have significantly different sizes.\")\n",
    "print(\"That's why we use the Mann-Whitney-U-Test.\")\n",
    "\n",
    "print()\n",
    "print(\"We bring the samples in the same size.\")\n",
    "print()\n",
    "\n",
    "df_good_sample = df_good.sample(n = len(df_bad))\n",
    "\n",
    "print(\"Null hypothesis:\")\n",
    "print(\"The average ride duration from the Loop to O'Hare International Airport doesn't change significantly on rainy saturdays.\")\n",
    "print()\n",
    "print(\"Alternative hypothesis:\")\n",
    "print(\"The average ride duration from the Loop to O'Hare International Airport changes significantly on rainy saturdays.\")\n",
    "print()\n",
    "print(\"Critical statistical significance level: alpha = 1%; if the p-value is less than alpha, we reject the null hypothesis.\")\n",
    "print()\n",
    "\n",
    "alpha = 0.01\n",
    "u_statistic, p_value = st.mannwhitneyu(df_good_sample['duration_sec'],df_bad['duration_sec'])\n",
    "    \n",
    "print('p-value from Mann-Whitney-U-Test: ', p_value)\n",
    "print()\n",
    "\n",
    "if (p_value < alpha):\n",
    "        print(\"We reject the null hypothesis.\")\n",
    "else:\n",
    "        print(\"We can't reject the null hypothesis.\")"
   ]
  },
  {
   "cell_type": "markdown",
   "metadata": {},
   "source": [
    "<a id=\"5.3\"></a>"
   ]
  },
  {
   "cell_type": "markdown",
   "metadata": {},
   "source": [
    "### 5.3) Conclusion"
   ]
  },
  {
   "cell_type": "markdown",
   "metadata": {},
   "source": [
    "The Histogram for saturdays with good weather resembled an exponentially distribution whereas the histogram for saturdays with rainy weather resembled a right skewed distribution. For checking out the equality of the variances for the good-weather-sample and the rainy-weather-sample, I therefore used the Levene Test. This test results in not rejecting the hypothesis of equal variances. The important values for these 2 samples are calculated:\n",
    "<br> <br>\n",
    "Ride duration mean value for good weather: 2,054 seconds <br>\n",
    "Ride duration mean value for rainy weather: 2,436 seconds\n",
    "<br> <br>\n",
    "Ride duration variance for good weather: 560,637 seconds^2 <br>\n",
    "Ride duration variance for rainy weather: 520,570 seconds^2\n",
    "<br> <br>\n",
    "One can observe that the mean values are much smaller than the variance values. The mean value for rainy weather is around 20% higher than the one for good weather, the variance for good weather is around 7% higher than the one for rainy weather. This is the reason why the hypothesis test has a significance level of 1%. <br> <br>\n",
    "Since we have big variations from normality in our samples and since we have a two-sided test of independent samples of significantly different sizes, I used the Mann-Whitney-U-Test. Even though the significance level is set on 1%, we can reject the null hypothesis, that the average ride duration from the Loop to O'Hare International Airport doesn't change significantly on rainy saturdays. That means we can assume that the change in duration of rides on rainy saturdays is statistically significant."
   ]
  },
  {
   "cell_type": "markdown",
   "metadata": {},
   "source": [
    "<a id=\"6\"></a>"
   ]
  },
  {
   "cell_type": "markdown",
   "metadata": {},
   "source": [
    "## 6) General conclusion"
   ]
  },
  {
   "cell_type": "markdown",
   "metadata": {},
   "source": [
    "In the Analysis, we started with the top 10 neighborhoods of Chicago in terms of dropoffs. We observed that - besides the O'Hare International Airport - all locations are in the vicinity of the Loop. That means that the most demanded dropoff locations are located very central in Chicago. <br> <br>\n",
    "When looking at the trip amounts of 64 taxi companies in Chicago in November 15-16, 2017, we determined the market leader in Chicago: 'Flash Cab' with over 19,000 trips in these two days. We also found that 23 of the 64 companies have counted less than 30 trips - likely including private citizens offering taxi services. That means on the one hand a big demand of taxi services in Chicago and on the other hand a big competition in that business. <br> <br>\n",
    "Using the Mann-Whitney-U-Test with a significance level of 1%, we rejected the hypothesis 'The average ride duration from the Loop to O'Hare International Airport doesn't change significantly on rainy saturdays'. From a statistical point of view its alternative hypothesis - that the ride durations change on rainy saturdays - can be assumed. We take a look again at the mean values: <br> <br>\n",
    "Ride duration mean value for good weather: 2,054 seconds <br>\n",
    "Ride duration mean value for rainy weather: 2,436 seconds\n",
    "<br> <br>\n",
    "The result of the hypothesis test implies that the difference between these two mean values is statistically significant. It becomes more obvious when calculating their standard deviations; for example the one for good weather which results from the square root of 560,637 and is given by 749 seconds.\n",
    "<br> <br>\n",
    "We can see hints for improving taxi companies in Chicago: <br>\n",
    "- The company may focus on the most demanded dropoff locations and can make special offers regarding these locations\n",
    "- A look at the website of the market leader 'Flash Cab' points out a special offer: 'Preferred Airport Service': <br>\n",
    "\"Flash Cab affiliates serve both O’Hare and Midway airport by offering a comfortable and economical ride from your front door right to your terminal gate with plenty of trunk space.\" <br>\n",
    "Since the O'Hare Airport is many miles away from the center of Chicago, a good offer in that area may increase the number of trips."
   ]
  },
  {
   "cell_type": "code",
   "execution_count": null,
   "metadata": {},
   "outputs": [],
   "source": []
  }
 ],
 "metadata": {
  "ExecuteTimeLog": [
   {
    "duration": 966,
    "start_time": "2021-07-26T19:44:07.685Z"
   },
   {
    "duration": 17,
    "start_time": "2021-07-26T19:45:01.914Z"
   },
   {
    "duration": 19,
    "start_time": "2021-07-26T19:45:14.609Z"
   },
   {
    "duration": 11,
    "start_time": "2021-07-26T19:45:40.403Z"
   },
   {
    "duration": 6,
    "start_time": "2021-07-26T19:45:59.057Z"
   },
   {
    "duration": 14,
    "start_time": "2021-07-26T19:46:11.681Z"
   },
   {
    "duration": 17,
    "start_time": "2021-07-26T19:46:55.485Z"
   },
   {
    "duration": 16,
    "start_time": "2021-07-26T19:47:01.519Z"
   },
   {
    "duration": 17,
    "start_time": "2021-07-26T19:47:04.967Z"
   },
   {
    "duration": 14,
    "start_time": "2021-07-26T19:47:05.496Z"
   },
   {
    "duration": 15,
    "start_time": "2021-07-26T19:47:55.690Z"
   },
   {
    "duration": 14,
    "start_time": "2021-07-26T19:47:59.556Z"
   },
   {
    "duration": 8,
    "start_time": "2021-07-26T20:10:35.999Z"
   },
   {
    "duration": 9,
    "start_time": "2021-07-26T20:11:15.092Z"
   },
   {
    "duration": 25,
    "start_time": "2021-07-26T20:12:36.680Z"
   },
   {
    "duration": 14,
    "start_time": "2021-07-26T20:12:43.088Z"
   },
   {
    "duration": 8,
    "start_time": "2021-07-26T20:12:51.521Z"
   },
   {
    "duration": 7,
    "start_time": "2021-07-26T20:16:21.330Z"
   },
   {
    "duration": 8,
    "start_time": "2021-07-26T20:16:37.751Z"
   },
   {
    "duration": 489,
    "start_time": "2021-07-26T20:20:56.826Z"
   },
   {
    "duration": 416,
    "start_time": "2021-07-26T20:21:04.936Z"
   },
   {
    "duration": 14,
    "start_time": "2021-07-26T20:22:05.083Z"
   },
   {
    "duration": 14,
    "start_time": "2021-07-26T20:22:30.004Z"
   },
   {
    "duration": 13,
    "start_time": "2021-07-26T20:22:49.517Z"
   },
   {
    "duration": 14,
    "start_time": "2021-07-26T20:23:06.299Z"
   },
   {
    "duration": 14,
    "start_time": "2021-07-26T20:23:18.648Z"
   },
   {
    "duration": 15,
    "start_time": "2021-07-26T20:23:25.394Z"
   },
   {
    "duration": 14,
    "start_time": "2021-07-26T20:23:49.618Z"
   },
   {
    "duration": 18,
    "start_time": "2021-07-26T20:24:59.591Z"
   },
   {
    "duration": 24,
    "start_time": "2021-07-26T21:00:24.562Z"
   },
   {
    "duration": 210,
    "start_time": "2021-07-27T22:46:36.918Z"
   },
   {
    "duration": 169,
    "start_time": "2021-07-27T22:46:43.597Z"
   },
   {
    "duration": 505,
    "start_time": "2021-07-27T22:46:49.342Z"
   },
   {
    "duration": 18,
    "start_time": "2021-07-27T22:46:49.848Z"
   },
   {
    "duration": 15,
    "start_time": "2021-07-27T22:46:49.868Z"
   },
   {
    "duration": 5,
    "start_time": "2021-07-27T22:46:49.885Z"
   },
   {
    "duration": 17,
    "start_time": "2021-07-27T22:46:49.892Z"
   },
   {
    "duration": 10,
    "start_time": "2021-07-27T22:46:49.911Z"
   },
   {
    "duration": 6,
    "start_time": "2021-07-27T22:46:49.922Z"
   },
   {
    "duration": 28,
    "start_time": "2021-07-27T22:46:49.930Z"
   },
   {
    "duration": 10,
    "start_time": "2021-07-27T22:46:49.960Z"
   },
   {
    "duration": 5,
    "start_time": "2021-07-27T22:46:49.972Z"
   },
   {
    "duration": 11,
    "start_time": "2021-07-27T22:46:49.978Z"
   },
   {
    "duration": 7,
    "start_time": "2021-07-27T22:46:49.991Z"
   },
   {
    "duration": 7,
    "start_time": "2021-07-27T22:48:19.001Z"
   },
   {
    "duration": 2,
    "start_time": "2021-07-27T22:49:20.817Z"
   },
   {
    "duration": 17,
    "start_time": "2021-07-27T22:49:20.824Z"
   },
   {
    "duration": 11,
    "start_time": "2021-07-27T22:49:20.843Z"
   },
   {
    "duration": 7,
    "start_time": "2021-07-27T22:49:20.856Z"
   },
   {
    "duration": 17,
    "start_time": "2021-07-27T22:49:20.865Z"
   },
   {
    "duration": 10,
    "start_time": "2021-07-27T22:49:20.883Z"
   },
   {
    "duration": 6,
    "start_time": "2021-07-27T22:49:20.895Z"
   },
   {
    "duration": 29,
    "start_time": "2021-07-27T22:49:20.903Z"
   },
   {
    "duration": 11,
    "start_time": "2021-07-27T22:49:20.934Z"
   },
   {
    "duration": 5,
    "start_time": "2021-07-27T22:49:20.947Z"
   },
   {
    "duration": 10,
    "start_time": "2021-07-27T22:49:20.953Z"
   },
   {
    "duration": 7,
    "start_time": "2021-07-27T22:49:20.964Z"
   },
   {
    "duration": 7,
    "start_time": "2021-07-27T22:49:20.984Z"
   },
   {
    "duration": 7,
    "start_time": "2021-07-27T22:51:06.738Z"
   },
   {
    "duration": 195,
    "start_time": "2021-07-27T22:53:24.742Z"
   },
   {
    "duration": 4,
    "start_time": "2021-07-27T22:53:30.854Z"
   },
   {
    "duration": 9,
    "start_time": "2021-07-27T22:54:39.251Z"
   },
   {
    "duration": 6,
    "start_time": "2021-07-27T22:54:52.155Z"
   },
   {
    "duration": 4,
    "start_time": "2021-07-27T23:04:45.340Z"
   },
   {
    "duration": 3,
    "start_time": "2021-07-27T23:06:30.408Z"
   },
   {
    "duration": 7,
    "start_time": "2021-07-27T23:06:46.815Z"
   },
   {
    "duration": 8,
    "start_time": "2021-07-27T23:07:41.821Z"
   },
   {
    "duration": 29,
    "start_time": "2021-07-27T23:19:51.561Z"
   },
   {
    "duration": 27,
    "start_time": "2021-07-27T23:20:03.881Z"
   },
   {
    "duration": 8,
    "start_time": "2021-07-27T23:20:06.195Z"
   },
   {
    "duration": 28,
    "start_time": "2021-07-27T23:24:28.695Z"
   },
   {
    "duration": 8,
    "start_time": "2021-07-27T23:24:29.525Z"
   },
   {
    "duration": 26,
    "start_time": "2021-07-27T23:24:53.622Z"
   },
   {
    "duration": 8,
    "start_time": "2021-07-27T23:24:54.685Z"
   },
   {
    "duration": 27,
    "start_time": "2021-07-27T23:26:52.785Z"
   },
   {
    "duration": 7,
    "start_time": "2021-07-27T23:26:53.327Z"
   },
   {
    "duration": 4,
    "start_time": "2021-07-27T23:27:08.000Z"
   },
   {
    "duration": 7,
    "start_time": "2021-07-27T23:27:19.561Z"
   },
   {
    "duration": 3,
    "start_time": "2021-07-27T23:27:51.425Z"
   },
   {
    "duration": 17,
    "start_time": "2021-07-27T23:27:51.432Z"
   },
   {
    "duration": 21,
    "start_time": "2021-07-27T23:27:51.451Z"
   },
   {
    "duration": 6,
    "start_time": "2021-07-27T23:27:51.474Z"
   },
   {
    "duration": 26,
    "start_time": "2021-07-27T23:27:51.482Z"
   },
   {
    "duration": 21,
    "start_time": "2021-07-27T23:27:51.509Z"
   },
   {
    "duration": 7,
    "start_time": "2021-07-27T23:27:51.532Z"
   },
   {
    "duration": 40,
    "start_time": "2021-07-27T23:27:51.541Z"
   },
   {
    "duration": 10,
    "start_time": "2021-07-27T23:27:51.583Z"
   },
   {
    "duration": 5,
    "start_time": "2021-07-27T23:27:51.595Z"
   },
   {
    "duration": 5,
    "start_time": "2021-07-27T23:27:51.602Z"
   },
   {
    "duration": 9,
    "start_time": "2021-07-27T23:27:51.609Z"
   },
   {
    "duration": 8,
    "start_time": "2021-07-27T23:27:51.619Z"
   },
   {
    "duration": 8,
    "start_time": "2021-07-27T23:27:51.628Z"
   },
   {
    "duration": 5,
    "start_time": "2021-07-27T23:27:51.638Z"
   },
   {
    "duration": 9,
    "start_time": "2021-07-27T23:27:51.645Z"
   },
   {
    "duration": 26,
    "start_time": "2021-07-27T23:27:51.685Z"
   },
   {
    "duration": 10,
    "start_time": "2021-07-27T23:27:51.713Z"
   },
   {
    "duration": 4,
    "start_time": "2021-07-27T23:27:51.725Z"
   },
   {
    "duration": 3,
    "start_time": "2021-07-27T23:33:07.239Z"
   },
   {
    "duration": 17,
    "start_time": "2021-07-27T23:33:07.246Z"
   },
   {
    "duration": 12,
    "start_time": "2021-07-27T23:33:07.265Z"
   },
   {
    "duration": 6,
    "start_time": "2021-07-27T23:33:07.279Z"
   },
   {
    "duration": 17,
    "start_time": "2021-07-27T23:33:07.287Z"
   },
   {
    "duration": 13,
    "start_time": "2021-07-27T23:33:07.306Z"
   },
   {
    "duration": 6,
    "start_time": "2021-07-27T23:33:07.321Z"
   },
   {
    "duration": 30,
    "start_time": "2021-07-27T23:33:07.329Z"
   },
   {
    "duration": 10,
    "start_time": "2021-07-27T23:33:07.361Z"
   },
   {
    "duration": 5,
    "start_time": "2021-07-27T23:33:07.373Z"
   },
   {
    "duration": 7,
    "start_time": "2021-07-27T23:33:07.379Z"
   },
   {
    "duration": 6,
    "start_time": "2021-07-27T23:33:07.388Z"
   },
   {
    "duration": 7,
    "start_time": "2021-07-27T23:33:07.396Z"
   },
   {
    "duration": 8,
    "start_time": "2021-07-27T23:33:07.405Z"
   },
   {
    "duration": 7,
    "start_time": "2021-07-27T23:33:07.414Z"
   },
   {
    "duration": 7,
    "start_time": "2021-07-27T23:33:07.422Z"
   },
   {
    "duration": 26,
    "start_time": "2021-07-27T23:33:07.431Z"
   },
   {
    "duration": 6,
    "start_time": "2021-07-27T23:33:07.484Z"
   },
   {
    "duration": 6,
    "start_time": "2021-07-27T23:33:07.492Z"
   },
   {
    "duration": 4,
    "start_time": "2021-07-27T23:42:29.240Z"
   },
   {
    "duration": 7,
    "start_time": "2021-07-27T23:42:41.669Z"
   },
   {
    "duration": 7,
    "start_time": "2021-07-27T23:50:09.311Z"
   },
   {
    "duration": 4,
    "start_time": "2021-07-27T23:50:10.556Z"
   },
   {
    "duration": 8,
    "start_time": "2021-07-27T23:50:22.933Z"
   },
   {
    "duration": 4,
    "start_time": "2021-07-27T23:50:53.538Z"
   },
   {
    "duration": 5,
    "start_time": "2021-07-27T23:51:17.068Z"
   },
   {
    "duration": 3,
    "start_time": "2021-07-28T00:16:11.991Z"
   },
   {
    "duration": 18,
    "start_time": "2021-07-28T00:16:11.996Z"
   },
   {
    "duration": 11,
    "start_time": "2021-07-28T00:16:12.016Z"
   },
   {
    "duration": 7,
    "start_time": "2021-07-28T00:16:12.028Z"
   },
   {
    "duration": 19,
    "start_time": "2021-07-28T00:16:12.036Z"
   },
   {
    "duration": 11,
    "start_time": "2021-07-28T00:16:12.056Z"
   },
   {
    "duration": 5,
    "start_time": "2021-07-28T00:16:33.131Z"
   },
   {
    "duration": 4,
    "start_time": "2021-07-28T00:17:35.602Z"
   },
   {
    "duration": 4263,
    "start_time": "2021-07-28T00:52:25.797Z"
   },
   {
    "duration": 54,
    "start_time": "2021-07-28T00:54:38.982Z"
   },
   {
    "duration": 4293,
    "start_time": "2021-07-28T00:54:48.008Z"
   },
   {
    "duration": -27,
    "start_time": "2021-07-28T00:54:52.331Z"
   },
   {
    "duration": 3,
    "start_time": "2021-07-28T00:55:23.842Z"
   },
   {
    "duration": 17,
    "start_time": "2021-07-28T00:55:23.850Z"
   },
   {
    "duration": 13,
    "start_time": "2021-07-28T00:55:23.869Z"
   },
   {
    "duration": 6,
    "start_time": "2021-07-28T00:55:23.884Z"
   },
   {
    "duration": 18,
    "start_time": "2021-07-28T00:55:23.892Z"
   },
   {
    "duration": 12,
    "start_time": "2021-07-28T00:55:23.911Z"
   },
   {
    "duration": 8,
    "start_time": "2021-07-28T00:55:23.925Z"
   },
   {
    "duration": 52,
    "start_time": "2021-07-28T00:55:23.934Z"
   },
   {
    "duration": 12,
    "start_time": "2021-07-28T00:55:23.988Z"
   },
   {
    "duration": 5,
    "start_time": "2021-07-28T00:55:24.002Z"
   },
   {
    "duration": 8,
    "start_time": "2021-07-28T00:55:24.009Z"
   },
   {
    "duration": 9,
    "start_time": "2021-07-28T00:55:24.019Z"
   },
   {
    "duration": 9,
    "start_time": "2021-07-28T00:55:24.029Z"
   },
   {
    "duration": 10,
    "start_time": "2021-07-28T00:55:24.039Z"
   },
   {
    "duration": 42,
    "start_time": "2021-07-28T00:55:27.176Z"
   },
   {
    "duration": 9,
    "start_time": "2021-07-28T00:55:31.486Z"
   },
   {
    "duration": 3,
    "start_time": "2021-07-28T00:56:06.713Z"
   },
   {
    "duration": 17,
    "start_time": "2021-07-28T00:56:06.720Z"
   },
   {
    "duration": 11,
    "start_time": "2021-07-28T00:56:06.739Z"
   },
   {
    "duration": 5,
    "start_time": "2021-07-28T00:56:06.752Z"
   },
   {
    "duration": 18,
    "start_time": "2021-07-28T00:56:06.759Z"
   },
   {
    "duration": 11,
    "start_time": "2021-07-28T00:56:06.778Z"
   },
   {
    "duration": 7,
    "start_time": "2021-07-28T00:56:06.791Z"
   },
   {
    "duration": 41,
    "start_time": "2021-07-28T00:56:06.799Z"
   },
   {
    "duration": 11,
    "start_time": "2021-07-28T00:56:06.842Z"
   },
   {
    "duration": 6,
    "start_time": "2021-07-28T00:56:06.854Z"
   },
   {
    "duration": 8,
    "start_time": "2021-07-28T00:56:06.861Z"
   },
   {
    "duration": 8,
    "start_time": "2021-07-28T00:56:06.871Z"
   },
   {
    "duration": 8,
    "start_time": "2021-07-28T00:56:06.881Z"
   },
   {
    "duration": 8,
    "start_time": "2021-07-28T00:56:06.890Z"
   },
   {
    "duration": 5,
    "start_time": "2021-07-28T00:56:09.725Z"
   },
   {
    "duration": 9,
    "start_time": "2021-07-28T00:56:11.373Z"
   },
   {
    "duration": 6,
    "start_time": "2021-07-28T00:56:23.156Z"
   },
   {
    "duration": 2,
    "start_time": "2021-07-28T00:56:58.751Z"
   },
   {
    "duration": 16,
    "start_time": "2021-07-28T00:56:58.757Z"
   },
   {
    "duration": 12,
    "start_time": "2021-07-28T00:56:58.775Z"
   },
   {
    "duration": 5,
    "start_time": "2021-07-28T00:56:58.789Z"
   },
   {
    "duration": 19,
    "start_time": "2021-07-28T00:56:58.795Z"
   },
   {
    "duration": 11,
    "start_time": "2021-07-28T00:56:58.816Z"
   },
   {
    "duration": 6,
    "start_time": "2021-07-28T00:56:58.829Z"
   },
   {
    "duration": 40,
    "start_time": "2021-07-28T00:56:58.837Z"
   },
   {
    "duration": 10,
    "start_time": "2021-07-28T00:56:58.880Z"
   },
   {
    "duration": 7,
    "start_time": "2021-07-28T00:56:58.892Z"
   },
   {
    "duration": 6,
    "start_time": "2021-07-28T00:56:58.901Z"
   },
   {
    "duration": 8,
    "start_time": "2021-07-28T00:56:58.908Z"
   },
   {
    "duration": 7,
    "start_time": "2021-07-28T00:56:58.917Z"
   },
   {
    "duration": 9,
    "start_time": "2021-07-28T00:56:58.925Z"
   },
   {
    "duration": 4,
    "start_time": "2021-07-28T00:57:00.987Z"
   },
   {
    "duration": 5,
    "start_time": "2021-07-28T00:58:46.670Z"
   },
   {
    "duration": 4,
    "start_time": "2021-07-28T00:59:04.023Z"
   },
   {
    "duration": 5,
    "start_time": "2021-07-28T00:59:11.262Z"
   },
   {
    "duration": 5,
    "start_time": "2021-07-28T00:59:23.438Z"
   },
   {
    "duration": 5,
    "start_time": "2021-07-28T00:59:43.448Z"
   },
   {
    "duration": 5,
    "start_time": "2021-07-28T01:03:28.572Z"
   },
   {
    "duration": 5,
    "start_time": "2021-07-28T01:04:34.403Z"
   },
   {
    "duration": 3,
    "start_time": "2021-07-28T01:05:07.593Z"
   },
   {
    "duration": 4,
    "start_time": "2021-07-28T01:07:55.657Z"
   },
   {
    "duration": 3,
    "start_time": "2021-07-28T01:08:04.045Z"
   },
   {
    "duration": 19,
    "start_time": "2021-07-28T01:08:04.051Z"
   },
   {
    "duration": 12,
    "start_time": "2021-07-28T01:08:04.072Z"
   },
   {
    "duration": 6,
    "start_time": "2021-07-28T01:08:04.086Z"
   },
   {
    "duration": 18,
    "start_time": "2021-07-28T01:08:04.094Z"
   },
   {
    "duration": 10,
    "start_time": "2021-07-28T01:08:04.113Z"
   },
   {
    "duration": 5,
    "start_time": "2021-07-28T01:08:04.125Z"
   },
   {
    "duration": 40,
    "start_time": "2021-07-28T01:08:04.132Z"
   },
   {
    "duration": 10,
    "start_time": "2021-07-28T01:08:04.175Z"
   },
   {
    "duration": 5,
    "start_time": "2021-07-28T01:08:04.186Z"
   },
   {
    "duration": 11,
    "start_time": "2021-07-28T01:08:04.192Z"
   },
   {
    "duration": 5,
    "start_time": "2021-07-28T01:08:04.205Z"
   },
   {
    "duration": 8,
    "start_time": "2021-07-28T01:08:04.212Z"
   },
   {
    "duration": 7,
    "start_time": "2021-07-28T01:08:04.221Z"
   },
   {
    "duration": 4,
    "start_time": "2021-07-28T01:08:12.148Z"
   },
   {
    "duration": 8,
    "start_time": "2021-07-28T01:08:33.547Z"
   },
   {
    "duration": 3,
    "start_time": "2021-07-28T01:08:59.914Z"
   },
   {
    "duration": 18,
    "start_time": "2021-07-28T01:08:59.920Z"
   },
   {
    "duration": 11,
    "start_time": "2021-07-28T01:08:59.939Z"
   },
   {
    "duration": 6,
    "start_time": "2021-07-28T01:08:59.952Z"
   },
   {
    "duration": 17,
    "start_time": "2021-07-28T01:08:59.959Z"
   },
   {
    "duration": 11,
    "start_time": "2021-07-28T01:08:59.977Z"
   },
   {
    "duration": 6,
    "start_time": "2021-07-28T01:08:59.989Z"
   },
   {
    "duration": 44,
    "start_time": "2021-07-28T01:08:59.997Z"
   },
   {
    "duration": 11,
    "start_time": "2021-07-28T01:09:00.044Z"
   },
   {
    "duration": 5,
    "start_time": "2021-07-28T01:09:00.057Z"
   },
   {
    "duration": 8,
    "start_time": "2021-07-28T01:09:00.064Z"
   },
   {
    "duration": 10,
    "start_time": "2021-07-28T01:09:00.073Z"
   },
   {
    "duration": 11,
    "start_time": "2021-07-28T01:09:00.084Z"
   },
   {
    "duration": 10,
    "start_time": "2021-07-28T01:09:00.096Z"
   },
   {
    "duration": 4,
    "start_time": "2021-07-28T01:09:02.049Z"
   },
   {
    "duration": 5,
    "start_time": "2021-07-28T01:09:30.439Z"
   },
   {
    "duration": 5,
    "start_time": "2021-07-28T01:11:21.284Z"
   },
   {
    "duration": 1248,
    "start_time": "2021-07-28T01:20:09.428Z"
   },
   {
    "duration": 1308,
    "start_time": "2021-07-28T01:21:44.160Z"
   },
   {
    "duration": 6,
    "start_time": "2021-07-28T01:25:07.202Z"
   },
   {
    "duration": 12,
    "start_time": "2021-07-28T01:25:18.568Z"
   },
   {
    "duration": 6,
    "start_time": "2021-07-28T01:25:47.729Z"
   },
   {
    "duration": 3,
    "start_time": "2021-07-28T01:26:47.740Z"
   },
   {
    "duration": 3,
    "start_time": "2021-07-28T01:31:58.793Z"
   },
   {
    "duration": 11,
    "start_time": "2021-07-28T01:32:08.559Z"
   },
   {
    "duration": 5,
    "start_time": "2021-07-28T01:32:16.919Z"
   },
   {
    "duration": 13,
    "start_time": "2021-07-28T01:32:34.095Z"
   },
   {
    "duration": 11,
    "start_time": "2021-07-28T01:32:40.632Z"
   },
   {
    "duration": 4,
    "start_time": "2021-07-28T01:32:54.341Z"
   },
   {
    "duration": 12,
    "start_time": "2021-07-28T01:32:54.923Z"
   },
   {
    "duration": 6,
    "start_time": "2021-07-28T01:33:02.254Z"
   },
   {
    "duration": 6,
    "start_time": "2021-07-28T01:33:03.054Z"
   },
   {
    "duration": 4,
    "start_time": "2021-07-28T01:33:04.332Z"
   },
   {
    "duration": 13,
    "start_time": "2021-07-28T01:33:05.925Z"
   },
   {
    "duration": 6,
    "start_time": "2021-07-28T01:33:13.797Z"
   },
   {
    "duration": 6,
    "start_time": "2021-07-28T01:33:34.259Z"
   },
   {
    "duration": 8,
    "start_time": "2021-07-28T01:33:45.387Z"
   },
   {
    "duration": 2,
    "start_time": "2021-07-28T01:35:18.836Z"
   },
   {
    "duration": 18,
    "start_time": "2021-07-28T01:35:18.841Z"
   },
   {
    "duration": 11,
    "start_time": "2021-07-28T01:35:18.860Z"
   },
   {
    "duration": 5,
    "start_time": "2021-07-28T01:35:18.873Z"
   },
   {
    "duration": 17,
    "start_time": "2021-07-28T01:35:18.880Z"
   },
   {
    "duration": 15,
    "start_time": "2021-07-28T01:35:18.899Z"
   },
   {
    "duration": 5,
    "start_time": "2021-07-28T01:35:18.916Z"
   },
   {
    "duration": 33,
    "start_time": "2021-07-28T01:35:18.923Z"
   },
   {
    "duration": 13,
    "start_time": "2021-07-28T01:35:18.958Z"
   },
   {
    "duration": 4,
    "start_time": "2021-07-28T01:35:18.973Z"
   },
   {
    "duration": 8,
    "start_time": "2021-07-28T01:35:18.979Z"
   },
   {
    "duration": 13,
    "start_time": "2021-07-28T01:35:18.989Z"
   },
   {
    "duration": 8,
    "start_time": "2021-07-28T01:35:19.004Z"
   },
   {
    "duration": 8,
    "start_time": "2021-07-28T01:35:19.013Z"
   },
   {
    "duration": 5,
    "start_time": "2021-07-28T01:35:19.023Z"
   },
   {
    "duration": 5,
    "start_time": "2021-07-28T01:35:19.029Z"
   },
   {
    "duration": 6,
    "start_time": "2021-07-28T01:35:19.035Z"
   },
   {
    "duration": 6,
    "start_time": "2021-07-28T01:35:19.043Z"
   },
   {
    "duration": 38,
    "start_time": "2021-07-28T01:35:19.050Z"
   },
   {
    "duration": 7,
    "start_time": "2021-07-28T01:35:19.089Z"
   },
   {
    "duration": 7,
    "start_time": "2021-07-28T01:35:19.099Z"
   },
   {
    "duration": 10,
    "start_time": "2021-07-28T01:35:19.108Z"
   },
   {
    "duration": 7,
    "start_time": "2021-07-28T01:35:19.120Z"
   },
   {
    "duration": 5,
    "start_time": "2021-07-28T01:35:19.128Z"
   },
   {
    "duration": 8,
    "start_time": "2021-07-28T01:35:19.135Z"
   },
   {
    "duration": 69,
    "start_time": "2021-07-28T01:35:19.145Z"
   },
   {
    "duration": 9,
    "start_time": "2021-07-28T01:35:19.216Z"
   },
   {
    "duration": 3,
    "start_time": "2021-07-28T01:35:19.229Z"
   },
   {
    "duration": 4,
    "start_time": "2021-07-28T01:35:19.234Z"
   },
   {
    "duration": 8,
    "start_time": "2021-07-28T01:35:19.240Z"
   },
   {
    "duration": 37,
    "start_time": "2021-07-28T01:35:19.249Z"
   },
   {
    "duration": 10,
    "start_time": "2021-07-28T01:35:19.289Z"
   },
   {
    "duration": 6,
    "start_time": "2021-07-28T01:35:19.302Z"
   },
   {
    "duration": 11,
    "start_time": "2021-07-28T01:36:05.902Z"
   },
   {
    "duration": 12,
    "start_time": "2021-07-28T01:36:31.490Z"
   },
   {
    "duration": 5,
    "start_time": "2021-07-28T01:39:20.653Z"
   },
   {
    "duration": 4,
    "start_time": "2021-07-28T01:39:29.159Z"
   },
   {
    "duration": 4,
    "start_time": "2021-07-28T01:40:51.903Z"
   },
   {
    "duration": 3,
    "start_time": "2021-07-28T01:43:21.072Z"
   },
   {
    "duration": 19,
    "start_time": "2021-07-28T01:43:21.078Z"
   },
   {
    "duration": 11,
    "start_time": "2021-07-28T01:43:21.099Z"
   },
   {
    "duration": 5,
    "start_time": "2021-07-28T01:43:21.112Z"
   },
   {
    "duration": 17,
    "start_time": "2021-07-28T01:43:21.119Z"
   },
   {
    "duration": 11,
    "start_time": "2021-07-28T01:43:21.138Z"
   },
   {
    "duration": 5,
    "start_time": "2021-07-28T01:43:21.150Z"
   },
   {
    "duration": 29,
    "start_time": "2021-07-28T01:43:21.157Z"
   },
   {
    "duration": 10,
    "start_time": "2021-07-28T01:43:21.188Z"
   },
   {
    "duration": 5,
    "start_time": "2021-07-28T01:43:21.201Z"
   },
   {
    "duration": 6,
    "start_time": "2021-07-28T01:43:21.208Z"
   },
   {
    "duration": 8,
    "start_time": "2021-07-28T01:43:21.215Z"
   },
   {
    "duration": 7,
    "start_time": "2021-07-28T01:43:21.225Z"
   },
   {
    "duration": 8,
    "start_time": "2021-07-28T01:43:21.233Z"
   },
   {
    "duration": 6,
    "start_time": "2021-07-28T01:43:21.242Z"
   },
   {
    "duration": 4,
    "start_time": "2021-07-28T01:43:21.285Z"
   },
   {
    "duration": 7,
    "start_time": "2021-07-28T01:43:21.291Z"
   },
   {
    "duration": 7,
    "start_time": "2021-07-28T01:43:21.300Z"
   },
   {
    "duration": 7,
    "start_time": "2021-07-28T01:43:21.309Z"
   },
   {
    "duration": 7,
    "start_time": "2021-07-28T01:43:21.318Z"
   },
   {
    "duration": 5,
    "start_time": "2021-07-28T01:43:21.326Z"
   },
   {
    "duration": 7,
    "start_time": "2021-07-28T01:43:21.333Z"
   },
   {
    "duration": 60,
    "start_time": "2021-07-28T01:43:21.342Z"
   },
   {
    "duration": 10,
    "start_time": "2021-07-28T01:43:21.404Z"
   },
   {
    "duration": 4,
    "start_time": "2021-07-28T01:43:21.416Z"
   },
   {
    "duration": 4,
    "start_time": "2021-07-28T01:43:21.422Z"
   },
   {
    "duration": 13,
    "start_time": "2021-07-28T01:43:21.427Z"
   },
   {
    "duration": 4,
    "start_time": "2021-07-28T01:43:21.443Z"
   },
   {
    "duration": 11,
    "start_time": "2021-07-28T01:43:21.448Z"
   },
   {
    "duration": 26,
    "start_time": "2021-07-28T01:43:21.461Z"
   },
   {
    "duration": 13,
    "start_time": "2021-07-28T01:43:21.489Z"
   },
   {
    "duration": 4,
    "start_time": "2021-07-28T01:43:21.504Z"
   },
   {
    "duration": 3,
    "start_time": "2021-07-28T01:43:21.510Z"
   },
   {
    "duration": 4,
    "start_time": "2021-07-28T01:43:21.515Z"
   },
   {
    "duration": 9,
    "start_time": "2021-07-28T01:43:21.521Z"
   },
   {
    "duration": 9,
    "start_time": "2021-07-28T01:43:49.588Z"
   },
   {
    "duration": 7,
    "start_time": "2021-07-28T01:45:05.023Z"
   },
   {
    "duration": 6,
    "start_time": "2021-07-28T01:45:12.462Z"
   },
   {
    "duration": 6,
    "start_time": "2021-07-28T01:45:17.703Z"
   },
   {
    "duration": 9,
    "start_time": "2021-07-28T01:46:20.253Z"
   },
   {
    "duration": 5,
    "start_time": "2021-07-28T01:50:25.130Z"
   },
   {
    "duration": 377,
    "start_time": "2021-07-28T09:39:11.188Z"
   },
   {
    "duration": 630,
    "start_time": "2021-07-28T09:39:25.189Z"
   },
   {
    "duration": 29,
    "start_time": "2021-07-28T09:39:25.821Z"
   },
   {
    "duration": 17,
    "start_time": "2021-07-28T09:39:25.853Z"
   },
   {
    "duration": 5,
    "start_time": "2021-07-28T09:39:25.872Z"
   },
   {
    "duration": 40,
    "start_time": "2021-07-28T09:39:25.879Z"
   },
   {
    "duration": 10,
    "start_time": "2021-07-28T09:39:25.920Z"
   },
   {
    "duration": 8,
    "start_time": "2021-07-28T09:39:25.931Z"
   },
   {
    "duration": 62,
    "start_time": "2021-07-28T09:39:25.942Z"
   },
   {
    "duration": 11,
    "start_time": "2021-07-28T09:39:26.007Z"
   },
   {
    "duration": 8,
    "start_time": "2021-07-28T09:39:26.019Z"
   },
   {
    "duration": 11,
    "start_time": "2021-07-28T09:39:26.028Z"
   },
   {
    "duration": 13,
    "start_time": "2021-07-28T09:39:26.041Z"
   },
   {
    "duration": 9,
    "start_time": "2021-07-28T09:39:26.057Z"
   },
   {
    "duration": 9,
    "start_time": "2021-07-28T09:39:26.068Z"
   },
   {
    "duration": 6,
    "start_time": "2021-07-28T09:39:26.079Z"
   },
   {
    "duration": 6,
    "start_time": "2021-07-28T09:39:26.086Z"
   },
   {
    "duration": 7,
    "start_time": "2021-07-28T09:39:26.094Z"
   },
   {
    "duration": 40,
    "start_time": "2021-07-28T09:39:26.102Z"
   },
   {
    "duration": 13,
    "start_time": "2021-07-28T09:39:26.144Z"
   },
   {
    "duration": 12,
    "start_time": "2021-07-28T09:39:26.159Z"
   },
   {
    "duration": 7,
    "start_time": "2021-07-28T09:39:26.173Z"
   },
   {
    "duration": 5,
    "start_time": "2021-07-28T09:39:26.182Z"
   },
   {
    "duration": 7,
    "start_time": "2021-07-28T09:39:26.190Z"
   },
   {
    "duration": 61,
    "start_time": "2021-07-28T09:39:26.199Z"
   },
   {
    "duration": 11,
    "start_time": "2021-07-28T09:39:26.263Z"
   },
   {
    "duration": 7,
    "start_time": "2021-07-28T09:39:26.276Z"
   },
   {
    "duration": 4,
    "start_time": "2021-07-28T09:39:26.285Z"
   },
   {
    "duration": 8,
    "start_time": "2021-07-28T09:39:26.291Z"
   },
   {
    "duration": 5,
    "start_time": "2021-07-28T09:39:26.301Z"
   },
   {
    "duration": 39,
    "start_time": "2021-07-28T09:39:26.307Z"
   },
   {
    "duration": 7,
    "start_time": "2021-07-28T09:39:26.349Z"
   },
   {
    "duration": 7,
    "start_time": "2021-07-28T09:39:26.359Z"
   },
   {
    "duration": 11,
    "start_time": "2021-07-28T09:39:26.367Z"
   },
   {
    "duration": 4,
    "start_time": "2021-07-28T09:39:26.380Z"
   },
   {
    "duration": 8,
    "start_time": "2021-07-28T09:39:26.386Z"
   },
   {
    "duration": 2,
    "start_time": "2021-07-28T09:44:40.297Z"
   },
   {
    "duration": 21,
    "start_time": "2021-07-28T09:44:40.301Z"
   },
   {
    "duration": 11,
    "start_time": "2021-07-28T09:44:40.325Z"
   },
   {
    "duration": 7,
    "start_time": "2021-07-28T09:44:40.337Z"
   },
   {
    "duration": 28,
    "start_time": "2021-07-28T09:44:40.346Z"
   },
   {
    "duration": 15,
    "start_time": "2021-07-28T09:44:40.377Z"
   },
   {
    "duration": 7,
    "start_time": "2021-07-28T09:44:40.394Z"
   },
   {
    "duration": 26,
    "start_time": "2021-07-28T09:44:40.404Z"
   },
   {
    "duration": 13,
    "start_time": "2021-07-28T09:44:40.433Z"
   },
   {
    "duration": 11,
    "start_time": "2021-07-28T09:44:40.449Z"
   },
   {
    "duration": 8,
    "start_time": "2021-07-28T09:44:40.463Z"
   },
   {
    "duration": 5,
    "start_time": "2021-07-28T09:44:40.473Z"
   },
   {
    "duration": 10,
    "start_time": "2021-07-28T09:44:40.480Z"
   },
   {
    "duration": 9,
    "start_time": "2021-07-28T09:44:40.492Z"
   },
   {
    "duration": 4,
    "start_time": "2021-07-28T09:44:40.503Z"
   },
   {
    "duration": 34,
    "start_time": "2021-07-28T09:44:40.509Z"
   },
   {
    "duration": 8,
    "start_time": "2021-07-28T09:44:40.546Z"
   },
   {
    "duration": 6,
    "start_time": "2021-07-28T09:44:40.560Z"
   },
   {
    "duration": 8,
    "start_time": "2021-07-28T09:44:40.567Z"
   },
   {
    "duration": 8,
    "start_time": "2021-07-28T09:44:40.577Z"
   },
   {
    "duration": 7,
    "start_time": "2021-07-28T09:44:40.586Z"
   },
   {
    "duration": 5,
    "start_time": "2021-07-28T09:44:40.595Z"
   },
   {
    "duration": 6,
    "start_time": "2021-07-28T09:44:40.603Z"
   },
   {
    "duration": 34,
    "start_time": "2021-07-28T09:44:40.641Z"
   },
   {
    "duration": 11,
    "start_time": "2021-07-28T09:44:40.677Z"
   },
   {
    "duration": 6,
    "start_time": "2021-07-28T09:44:40.690Z"
   },
   {
    "duration": 10,
    "start_time": "2021-07-28T09:44:40.698Z"
   },
   {
    "duration": 11,
    "start_time": "2021-07-28T09:44:40.709Z"
   },
   {
    "duration": 20,
    "start_time": "2021-07-28T09:44:40.722Z"
   },
   {
    "duration": 14,
    "start_time": "2021-07-28T09:44:40.744Z"
   },
   {
    "duration": 5,
    "start_time": "2021-07-28T09:44:40.761Z"
   },
   {
    "duration": 7,
    "start_time": "2021-07-28T09:44:40.768Z"
   },
   {
    "duration": 11,
    "start_time": "2021-07-28T09:44:51.613Z"
   },
   {
    "duration": 4,
    "start_time": "2021-07-28T09:45:13.547Z"
   },
   {
    "duration": 3,
    "start_time": "2021-07-28T09:49:43.468Z"
   },
   {
    "duration": 16,
    "start_time": "2021-07-28T09:49:43.475Z"
   },
   {
    "duration": 10,
    "start_time": "2021-07-28T09:49:43.494Z"
   },
   {
    "duration": 7,
    "start_time": "2021-07-28T09:49:43.507Z"
   },
   {
    "duration": 17,
    "start_time": "2021-07-28T09:49:43.516Z"
   },
   {
    "duration": 12,
    "start_time": "2021-07-28T09:49:43.535Z"
   },
   {
    "duration": 9,
    "start_time": "2021-07-28T09:49:43.550Z"
   },
   {
    "duration": 32,
    "start_time": "2021-07-28T09:49:43.560Z"
   },
   {
    "duration": 11,
    "start_time": "2021-07-28T09:49:43.594Z"
   },
   {
    "duration": 5,
    "start_time": "2021-07-28T09:49:43.607Z"
   },
   {
    "duration": 8,
    "start_time": "2021-07-28T09:49:43.614Z"
   },
   {
    "duration": 13,
    "start_time": "2021-07-28T09:49:43.624Z"
   },
   {
    "duration": 13,
    "start_time": "2021-07-28T09:49:43.638Z"
   },
   {
    "duration": 9,
    "start_time": "2021-07-28T09:49:43.655Z"
   },
   {
    "duration": 6,
    "start_time": "2021-07-28T09:49:43.666Z"
   },
   {
    "duration": 5,
    "start_time": "2021-07-28T09:49:43.674Z"
   },
   {
    "duration": 6,
    "start_time": "2021-07-28T09:49:43.681Z"
   },
   {
    "duration": 6,
    "start_time": "2021-07-28T09:49:43.688Z"
   },
   {
    "duration": 8,
    "start_time": "2021-07-28T09:49:43.695Z"
   },
   {
    "duration": 41,
    "start_time": "2021-07-28T09:49:43.705Z"
   },
   {
    "duration": 14,
    "start_time": "2021-07-28T09:49:43.749Z"
   },
   {
    "duration": 5,
    "start_time": "2021-07-28T09:49:43.765Z"
   },
   {
    "duration": 7,
    "start_time": "2021-07-28T09:49:43.773Z"
   },
   {
    "duration": 60,
    "start_time": "2021-07-28T09:49:43.782Z"
   },
   {
    "duration": 25,
    "start_time": "2021-07-28T09:49:43.844Z"
   },
   {
    "duration": 11,
    "start_time": "2021-07-28T09:49:43.871Z"
   },
   {
    "duration": 9,
    "start_time": "2021-07-28T09:49:43.883Z"
   },
   {
    "duration": 9,
    "start_time": "2021-07-28T09:49:43.894Z"
   },
   {
    "duration": 9,
    "start_time": "2021-07-28T09:49:43.904Z"
   },
   {
    "duration": 11,
    "start_time": "2021-07-28T09:49:43.915Z"
   },
   {
    "duration": 16,
    "start_time": "2021-07-28T09:49:43.928Z"
   },
   {
    "duration": 7,
    "start_time": "2021-07-28T09:49:43.946Z"
   },
   {
    "duration": 14,
    "start_time": "2021-07-28T09:49:43.956Z"
   },
   {
    "duration": 4,
    "start_time": "2021-07-28T09:49:43.972Z"
   },
   {
    "duration": 12,
    "start_time": "2021-07-28T09:49:43.977Z"
   },
   {
    "duration": 5,
    "start_time": "2021-07-28T09:49:43.990Z"
   },
   {
    "duration": 4,
    "start_time": "2021-07-28T09:54:54.404Z"
   },
   {
    "duration": 3,
    "start_time": "2021-07-28T09:54:59.375Z"
   },
   {
    "duration": 23,
    "start_time": "2021-07-28T09:54:59.380Z"
   },
   {
    "duration": 14,
    "start_time": "2021-07-28T09:54:59.405Z"
   },
   {
    "duration": 7,
    "start_time": "2021-07-28T09:54:59.421Z"
   },
   {
    "duration": 19,
    "start_time": "2021-07-28T09:54:59.430Z"
   },
   {
    "duration": 11,
    "start_time": "2021-07-28T09:54:59.451Z"
   },
   {
    "duration": 8,
    "start_time": "2021-07-28T09:54:59.464Z"
   },
   {
    "duration": 28,
    "start_time": "2021-07-28T09:54:59.475Z"
   },
   {
    "duration": 11,
    "start_time": "2021-07-28T09:54:59.506Z"
   },
   {
    "duration": 6,
    "start_time": "2021-07-28T09:54:59.518Z"
   },
   {
    "duration": 10,
    "start_time": "2021-07-28T09:54:59.526Z"
   },
   {
    "duration": 9,
    "start_time": "2021-07-28T09:54:59.538Z"
   },
   {
    "duration": 10,
    "start_time": "2021-07-28T09:54:59.549Z"
   },
   {
    "duration": 24,
    "start_time": "2021-07-28T09:54:59.561Z"
   },
   {
    "duration": 10,
    "start_time": "2021-07-28T09:54:59.587Z"
   },
   {
    "duration": 13,
    "start_time": "2021-07-28T09:54:59.599Z"
   },
   {
    "duration": 10,
    "start_time": "2021-07-28T09:54:59.614Z"
   },
   {
    "duration": 7,
    "start_time": "2021-07-28T09:54:59.626Z"
   },
   {
    "duration": 8,
    "start_time": "2021-07-28T09:54:59.640Z"
   },
   {
    "duration": 7,
    "start_time": "2021-07-28T09:54:59.650Z"
   },
   {
    "duration": 7,
    "start_time": "2021-07-28T09:54:59.658Z"
   },
   {
    "duration": 8,
    "start_time": "2021-07-28T09:54:59.667Z"
   },
   {
    "duration": 9,
    "start_time": "2021-07-28T09:54:59.678Z"
   },
   {
    "duration": 59,
    "start_time": "2021-07-28T09:54:59.689Z"
   },
   {
    "duration": 10,
    "start_time": "2021-07-28T09:54:59.749Z"
   },
   {
    "duration": 5,
    "start_time": "2021-07-28T09:54:59.761Z"
   },
   {
    "duration": 5,
    "start_time": "2021-07-28T09:54:59.767Z"
   },
   {
    "duration": 12,
    "start_time": "2021-07-28T09:54:59.774Z"
   },
   {
    "duration": 6,
    "start_time": "2021-07-28T09:54:59.788Z"
   },
   {
    "duration": 9,
    "start_time": "2021-07-28T09:54:59.796Z"
   },
   {
    "duration": 36,
    "start_time": "2021-07-28T09:54:59.807Z"
   },
   {
    "duration": 6,
    "start_time": "2021-07-28T09:54:59.845Z"
   },
   {
    "duration": 11,
    "start_time": "2021-07-28T09:54:59.853Z"
   },
   {
    "duration": 6,
    "start_time": "2021-07-28T09:54:59.866Z"
   },
   {
    "duration": 4,
    "start_time": "2021-07-28T09:55:02.565Z"
   },
   {
    "duration": 7,
    "start_time": "2021-07-28T09:55:14.204Z"
   },
   {
    "duration": 5,
    "start_time": "2021-07-28T09:55:28.524Z"
   },
   {
    "duration": 7,
    "start_time": "2021-07-28T09:55:29.314Z"
   },
   {
    "duration": 5,
    "start_time": "2021-07-28T09:55:35.246Z"
   },
   {
    "duration": 7,
    "start_time": "2021-07-28T09:55:35.714Z"
   },
   {
    "duration": 585,
    "start_time": "2021-07-28T09:59:38.635Z"
   },
   {
    "duration": 3,
    "start_time": "2021-07-28T10:00:32.921Z"
   },
   {
    "duration": 234,
    "start_time": "2021-07-28T10:00:37.985Z"
   },
   {
    "duration": 262,
    "start_time": "2021-07-28T10:05:14.319Z"
   },
   {
    "duration": 304,
    "start_time": "2021-07-28T10:05:42.252Z"
   },
   {
    "duration": 256,
    "start_time": "2021-07-28T10:06:07.750Z"
   },
   {
    "duration": 680,
    "start_time": "2021-07-28T10:08:34.663Z"
   },
   {
    "duration": 1027,
    "start_time": "2021-07-28T10:10:13.187Z"
   },
   {
    "duration": 3,
    "start_time": "2021-07-28T10:10:21.806Z"
   },
   {
    "duration": 26,
    "start_time": "2021-07-28T10:10:21.814Z"
   },
   {
    "duration": 26,
    "start_time": "2021-07-28T10:10:21.842Z"
   },
   {
    "duration": 10,
    "start_time": "2021-07-28T10:10:21.870Z"
   },
   {
    "duration": 31,
    "start_time": "2021-07-28T10:10:21.882Z"
   },
   {
    "duration": 22,
    "start_time": "2021-07-28T10:10:21.915Z"
   },
   {
    "duration": 10,
    "start_time": "2021-07-28T10:10:21.939Z"
   },
   {
    "duration": 35,
    "start_time": "2021-07-28T10:10:21.950Z"
   },
   {
    "duration": 10,
    "start_time": "2021-07-28T10:10:21.987Z"
   },
   {
    "duration": 12,
    "start_time": "2021-07-28T10:10:22.000Z"
   },
   {
    "duration": 9,
    "start_time": "2021-07-28T10:10:22.013Z"
   },
   {
    "duration": 11,
    "start_time": "2021-07-28T10:10:22.024Z"
   },
   {
    "duration": 12,
    "start_time": "2021-07-28T10:10:22.036Z"
   },
   {
    "duration": 10,
    "start_time": "2021-07-28T10:10:22.049Z"
   },
   {
    "duration": 9,
    "start_time": "2021-07-28T10:10:22.061Z"
   },
   {
    "duration": 6,
    "start_time": "2021-07-28T10:10:22.072Z"
   },
   {
    "duration": 10,
    "start_time": "2021-07-28T10:10:22.080Z"
   },
   {
    "duration": 10,
    "start_time": "2021-07-28T10:10:22.092Z"
   },
   {
    "duration": 8,
    "start_time": "2021-07-28T10:10:22.103Z"
   },
   {
    "duration": 10,
    "start_time": "2021-07-28T10:10:22.112Z"
   },
   {
    "duration": 20,
    "start_time": "2021-07-28T10:10:22.123Z"
   },
   {
    "duration": 7,
    "start_time": "2021-07-28T10:10:22.145Z"
   },
   {
    "duration": 9,
    "start_time": "2021-07-28T10:10:22.154Z"
   },
   {
    "duration": 29,
    "start_time": "2021-07-28T10:10:22.164Z"
   },
   {
    "duration": 11,
    "start_time": "2021-07-28T10:10:22.195Z"
   },
   {
    "duration": 5,
    "start_time": "2021-07-28T10:10:22.208Z"
   },
   {
    "duration": 3,
    "start_time": "2021-07-28T10:10:22.241Z"
   },
   {
    "duration": 13,
    "start_time": "2021-07-28T10:10:22.246Z"
   },
   {
    "duration": 10,
    "start_time": "2021-07-28T10:10:22.261Z"
   },
   {
    "duration": 10,
    "start_time": "2021-07-28T10:10:22.273Z"
   },
   {
    "duration": 9,
    "start_time": "2021-07-28T10:10:22.285Z"
   },
   {
    "duration": 9,
    "start_time": "2021-07-28T10:10:22.295Z"
   },
   {
    "duration": 12,
    "start_time": "2021-07-28T10:10:22.306Z"
   },
   {
    "duration": 22,
    "start_time": "2021-07-28T10:10:22.319Z"
   },
   {
    "duration": 4,
    "start_time": "2021-07-28T10:10:22.343Z"
   },
   {
    "duration": 20,
    "start_time": "2021-07-28T10:10:22.348Z"
   },
   {
    "duration": 247,
    "start_time": "2021-07-28T10:10:43.913Z"
   },
   {
    "duration": 241,
    "start_time": "2021-07-28T10:11:08.264Z"
   },
   {
    "duration": 231,
    "start_time": "2021-07-28T10:12:16.184Z"
   },
   {
    "duration": 260,
    "start_time": "2021-07-28T10:12:25.861Z"
   },
   {
    "duration": 309,
    "start_time": "2021-07-28T10:12:37.581Z"
   },
   {
    "duration": 581,
    "start_time": "2021-07-28T10:15:38.750Z"
   },
   {
    "duration": 580,
    "start_time": "2021-07-28T10:15:54.957Z"
   },
   {
    "duration": 702,
    "start_time": "2021-07-28T10:16:14.772Z"
   },
   {
    "duration": 773,
    "start_time": "2021-07-28T10:16:34.294Z"
   },
   {
    "duration": 3,
    "start_time": "2021-07-28T10:16:42.715Z"
   },
   {
    "duration": 38,
    "start_time": "2021-07-28T10:16:42.721Z"
   },
   {
    "duration": 37,
    "start_time": "2021-07-28T10:16:42.760Z"
   },
   {
    "duration": 34,
    "start_time": "2021-07-28T10:16:42.799Z"
   },
   {
    "duration": 32,
    "start_time": "2021-07-28T10:16:42.835Z"
   },
   {
    "duration": 27,
    "start_time": "2021-07-28T10:16:42.868Z"
   },
   {
    "duration": 20,
    "start_time": "2021-07-28T10:16:42.897Z"
   },
   {
    "duration": 55,
    "start_time": "2021-07-28T10:16:42.919Z"
   },
   {
    "duration": 28,
    "start_time": "2021-07-28T10:16:42.976Z"
   },
   {
    "duration": 18,
    "start_time": "2021-07-28T10:16:43.007Z"
   },
   {
    "duration": 35,
    "start_time": "2021-07-28T10:16:43.027Z"
   },
   {
    "duration": 32,
    "start_time": "2021-07-28T10:16:43.063Z"
   },
   {
    "duration": 16,
    "start_time": "2021-07-28T10:16:43.097Z"
   },
   {
    "duration": 32,
    "start_time": "2021-07-28T10:16:43.115Z"
   },
   {
    "duration": 22,
    "start_time": "2021-07-28T10:16:43.148Z"
   },
   {
    "duration": 20,
    "start_time": "2021-07-28T10:16:43.172Z"
   },
   {
    "duration": 22,
    "start_time": "2021-07-28T10:16:43.193Z"
   },
   {
    "duration": 25,
    "start_time": "2021-07-28T10:16:43.217Z"
   },
   {
    "duration": 26,
    "start_time": "2021-07-28T10:16:43.243Z"
   },
   {
    "duration": 21,
    "start_time": "2021-07-28T10:16:43.271Z"
   },
   {
    "duration": 25,
    "start_time": "2021-07-28T10:16:43.293Z"
   },
   {
    "duration": 27,
    "start_time": "2021-07-28T10:16:43.320Z"
   },
   {
    "duration": 25,
    "start_time": "2021-07-28T10:16:43.349Z"
   },
   {
    "duration": 34,
    "start_time": "2021-07-28T10:16:43.375Z"
   },
   {
    "duration": 19,
    "start_time": "2021-07-28T10:16:43.411Z"
   },
   {
    "duration": 19,
    "start_time": "2021-07-28T10:16:43.431Z"
   },
   {
    "duration": 14,
    "start_time": "2021-07-28T10:16:43.452Z"
   },
   {
    "duration": 14,
    "start_time": "2021-07-28T10:16:43.469Z"
   },
   {
    "duration": 8,
    "start_time": "2021-07-28T10:16:43.485Z"
   },
   {
    "duration": 16,
    "start_time": "2021-07-28T10:16:43.494Z"
   },
   {
    "duration": 7,
    "start_time": "2021-07-28T10:16:43.512Z"
   },
   {
    "duration": 7,
    "start_time": "2021-07-28T10:16:43.521Z"
   },
   {
    "duration": 11,
    "start_time": "2021-07-28T10:16:43.530Z"
   },
   {
    "duration": 4,
    "start_time": "2021-07-28T10:16:43.542Z"
   },
   {
    "duration": 9,
    "start_time": "2021-07-28T10:16:43.547Z"
   },
   {
    "duration": 10,
    "start_time": "2021-07-28T10:16:43.557Z"
   },
   {
    "duration": 516,
    "start_time": "2021-07-28T10:16:45.755Z"
   },
   {
    "duration": 478,
    "start_time": "2021-07-28T10:16:59.859Z"
   },
   {
    "duration": 239,
    "start_time": "2021-07-28T10:19:37.646Z"
   },
   {
    "duration": 240,
    "start_time": "2021-07-28T10:30:08.006Z"
   },
   {
    "duration": 512,
    "start_time": "2021-07-28T10:35:49.025Z"
   },
   {
    "duration": 3,
    "start_time": "2021-07-28T10:36:15.032Z"
   },
   {
    "duration": 734,
    "start_time": "2021-07-28T10:36:19.593Z"
   },
   {
    "duration": 251,
    "start_time": "2021-07-28T10:42:34.259Z"
   },
   {
    "duration": 3,
    "start_time": "2021-07-28T10:42:42.760Z"
   },
   {
    "duration": 342,
    "start_time": "2021-07-28T10:50:52.864Z"
   },
   {
    "duration": 4,
    "start_time": "2021-07-28T10:57:00.968Z"
   },
   {
    "duration": 8,
    "start_time": "2021-07-28T10:57:31.688Z"
   },
   {
    "duration": 8,
    "start_time": "2021-07-28T10:57:48.663Z"
   },
   {
    "duration": 6,
    "start_time": "2021-07-28T11:37:25.816Z"
   },
   {
    "duration": 3,
    "start_time": "2021-07-28T11:37:46.381Z"
   },
   {
    "duration": 1952,
    "start_time": "2021-07-28T11:41:20.014Z"
   },
   {
    "duration": 250,
    "start_time": "2021-07-28T11:41:43.965Z"
   },
   {
    "duration": 139,
    "start_time": "2021-07-28T11:42:04.246Z"
   },
   {
    "duration": 5,
    "start_time": "2021-07-28T11:42:31.771Z"
   },
   {
    "duration": 6,
    "start_time": "2021-07-28T11:42:47.474Z"
   },
   {
    "duration": 9,
    "start_time": "2021-07-28T11:51:15.678Z"
   },
   {
    "duration": 9,
    "start_time": "2021-07-28T11:51:25.279Z"
   },
   {
    "duration": 13,
    "start_time": "2021-07-28T11:51:45.342Z"
   },
   {
    "duration": 9,
    "start_time": "2021-07-28T11:51:54.293Z"
   },
   {
    "duration": 9,
    "start_time": "2021-07-28T11:52:18.437Z"
   },
   {
    "duration": 9,
    "start_time": "2021-07-28T11:52:26.612Z"
   },
   {
    "duration": 4,
    "start_time": "2021-07-28T11:53:54.461Z"
   },
   {
    "duration": 8,
    "start_time": "2021-07-28T11:54:16.696Z"
   },
   {
    "duration": 8,
    "start_time": "2021-07-28T11:54:41.222Z"
   },
   {
    "duration": 100,
    "start_time": "2021-07-28T12:56:58.762Z"
   },
   {
    "duration": 722,
    "start_time": "2021-07-28T12:57:05.579Z"
   },
   {
    "duration": 738,
    "start_time": "2021-07-28T12:57:13.882Z"
   },
   {
    "duration": 426,
    "start_time": "2021-07-28T12:58:15.504Z"
   },
   {
    "duration": 231,
    "start_time": "2021-07-28T12:59:49.451Z"
   },
   {
    "duration": 458,
    "start_time": "2021-07-28T13:00:07.099Z"
   },
   {
    "duration": 4,
    "start_time": "2021-07-28T13:01:16.888Z"
   },
   {
    "duration": 8,
    "start_time": "2021-07-28T13:01:17.197Z"
   },
   {
    "duration": 9,
    "start_time": "2021-07-28T13:01:17.750Z"
   },
   {
    "duration": 3,
    "start_time": "2021-07-28T13:16:08.064Z"
   },
   {
    "duration": 20,
    "start_time": "2021-07-28T13:16:08.071Z"
   },
   {
    "duration": 22,
    "start_time": "2021-07-28T13:16:08.093Z"
   },
   {
    "duration": 8,
    "start_time": "2021-07-28T13:16:08.117Z"
   },
   {
    "duration": 21,
    "start_time": "2021-07-28T13:16:08.126Z"
   },
   {
    "duration": 14,
    "start_time": "2021-07-28T13:16:08.149Z"
   },
   {
    "duration": 12,
    "start_time": "2021-07-28T13:16:08.165Z"
   },
   {
    "duration": 6523,
    "start_time": "2021-07-28T13:16:10.876Z"
   },
   {
    "duration": 4,
    "start_time": "2021-07-28T13:16:26.902Z"
   },
   {
    "duration": 5,
    "start_time": "2021-07-28T13:17:52.581Z"
   },
   {
    "duration": 5,
    "start_time": "2021-07-28T13:18:19.915Z"
   },
   {
    "duration": 111,
    "start_time": "2021-07-28T13:19:28.081Z"
   },
   {
    "duration": 117,
    "start_time": "2021-07-28T13:19:35.976Z"
   },
   {
    "duration": 255,
    "start_time": "2021-07-28T13:19:42.184Z"
   },
   {
    "duration": 7,
    "start_time": "2021-07-28T13:20:51.701Z"
   },
   {
    "duration": 256,
    "start_time": "2021-07-28T13:24:02.807Z"
   },
   {
    "duration": 11,
    "start_time": "2021-07-28T13:25:11.044Z"
   },
   {
    "duration": 5,
    "start_time": "2021-07-28T13:25:23.796Z"
   },
   {
    "duration": 6,
    "start_time": "2021-07-28T13:25:57.186Z"
   },
   {
    "duration": 6,
    "start_time": "2021-07-28T13:27:59.370Z"
   },
   {
    "duration": 934,
    "start_time": "2021-07-28T16:58:07.703Z"
   },
   {
    "duration": 19,
    "start_time": "2021-07-28T16:58:08.640Z"
   },
   {
    "duration": 19,
    "start_time": "2021-07-28T16:58:08.662Z"
   },
   {
    "duration": 9,
    "start_time": "2021-07-28T16:58:08.687Z"
   },
   {
    "duration": 21,
    "start_time": "2021-07-28T16:58:08.698Z"
   },
   {
    "duration": 16,
    "start_time": "2021-07-28T16:58:08.722Z"
   },
   {
    "duration": 9,
    "start_time": "2021-07-28T16:58:08.741Z"
   },
   {
    "duration": 38,
    "start_time": "2021-07-28T16:58:08.752Z"
   },
   {
    "duration": 73,
    "start_time": "2021-07-28T16:58:08.797Z"
   },
   {
    "duration": 23,
    "start_time": "2021-07-28T16:58:08.874Z"
   },
   {
    "duration": 9,
    "start_time": "2021-07-28T16:58:08.900Z"
   },
   {
    "duration": 12,
    "start_time": "2021-07-28T16:58:08.912Z"
   },
   {
    "duration": 12,
    "start_time": "2021-07-28T16:58:08.926Z"
   },
   {
    "duration": 10,
    "start_time": "2021-07-28T16:58:08.941Z"
   },
   {
    "duration": 50,
    "start_time": "2021-07-28T16:58:08.953Z"
   },
   {
    "duration": 13,
    "start_time": "2021-07-28T16:58:09.006Z"
   },
   {
    "duration": 14,
    "start_time": "2021-07-28T16:58:09.022Z"
   },
   {
    "duration": 9,
    "start_time": "2021-07-28T16:58:09.039Z"
   },
   {
    "duration": 47,
    "start_time": "2021-07-28T16:58:09.051Z"
   },
   {
    "duration": 9,
    "start_time": "2021-07-28T16:58:09.102Z"
   },
   {
    "duration": 11,
    "start_time": "2021-07-28T16:58:09.114Z"
   },
   {
    "duration": 9,
    "start_time": "2021-07-28T16:58:09.128Z"
   },
   {
    "duration": 10,
    "start_time": "2021-07-28T16:59:22.368Z"
   },
   {
    "duration": 9,
    "start_time": "2021-07-28T17:00:05.629Z"
   },
   {
    "duration": 12,
    "start_time": "2021-07-28T17:37:23.320Z"
   },
   {
    "duration": 11,
    "start_time": "2021-07-28T17:37:54.767Z"
   },
   {
    "duration": 11,
    "start_time": "2021-07-28T17:38:05.391Z"
   },
   {
    "duration": 9818,
    "start_time": "2021-07-28T20:33:34.677Z"
   },
   {
    "duration": 385,
    "start_time": "2021-07-28T20:34:01.290Z"
   },
   {
    "duration": 521,
    "start_time": "2021-07-28T20:35:28.755Z"
   },
   {
    "duration": 10973,
    "start_time": "2021-07-28T20:36:07.065Z"
   },
   {
    "duration": 10137,
    "start_time": "2021-07-28T20:37:25.656Z"
   },
   {
    "duration": 4,
    "start_time": "2021-07-28T20:37:45.315Z"
   },
   {
    "duration": 18,
    "start_time": "2021-07-28T20:37:45.330Z"
   },
   {
    "duration": 21,
    "start_time": "2021-07-28T20:37:45.351Z"
   },
   {
    "duration": 7,
    "start_time": "2021-07-28T20:37:45.375Z"
   },
   {
    "duration": 19,
    "start_time": "2021-07-28T20:37:45.385Z"
   },
   {
    "duration": 18,
    "start_time": "2021-07-28T20:37:45.407Z"
   },
   {
    "duration": 8,
    "start_time": "2021-07-28T20:37:45.427Z"
   },
   {
    "duration": 10,
    "start_time": "2021-07-28T20:37:45.438Z"
   },
   {
    "duration": 38,
    "start_time": "2021-07-28T20:37:45.450Z"
   },
   {
    "duration": 16,
    "start_time": "2021-07-28T20:37:45.491Z"
   },
   {
    "duration": 8,
    "start_time": "2021-07-28T20:37:45.510Z"
   },
   {
    "duration": 12,
    "start_time": "2021-07-28T20:37:45.520Z"
   },
   {
    "duration": 53,
    "start_time": "2021-07-28T20:37:45.534Z"
   },
   {
    "duration": 10,
    "start_time": "2021-07-28T20:37:45.589Z"
   },
   {
    "duration": 18,
    "start_time": "2021-07-28T20:37:45.603Z"
   },
   {
    "duration": 17,
    "start_time": "2021-07-28T20:37:45.624Z"
   },
   {
    "duration": 15,
    "start_time": "2021-07-28T20:37:45.643Z"
   },
   {
    "duration": 27,
    "start_time": "2021-07-28T20:37:45.660Z"
   },
   {
    "duration": 12,
    "start_time": "2021-07-28T20:37:45.689Z"
   },
   {
    "duration": 15,
    "start_time": "2021-07-28T20:37:45.703Z"
   },
   {
    "duration": 13,
    "start_time": "2021-07-28T20:37:45.720Z"
   },
   {
    "duration": 19,
    "start_time": "2021-07-28T20:37:45.735Z"
   },
   {
    "duration": 16,
    "start_time": "2021-07-28T20:37:45.756Z"
   },
   {
    "duration": 9,
    "start_time": "2021-07-28T20:37:45.785Z"
   },
   {
    "duration": 50,
    "start_time": "2021-07-28T20:37:45.796Z"
   },
   {
    "duration": 38,
    "start_time": "2021-07-28T20:37:45.848Z"
   },
   {
    "duration": 10,
    "start_time": "2021-07-28T20:37:45.889Z"
   },
   {
    "duration": 8,
    "start_time": "2021-07-28T20:37:45.902Z"
   },
   {
    "duration": 21,
    "start_time": "2021-07-28T20:37:45.912Z"
   },
   {
    "duration": 10,
    "start_time": "2021-07-28T20:37:45.935Z"
   },
   {
    "duration": 16,
    "start_time": "2021-07-28T20:37:45.947Z"
   },
   {
    "duration": 25,
    "start_time": "2021-07-28T20:37:45.965Z"
   },
   {
    "duration": 14,
    "start_time": "2021-07-28T20:37:45.992Z"
   },
   {
    "duration": 19,
    "start_time": "2021-07-28T20:37:46.009Z"
   },
   {
    "duration": 11,
    "start_time": "2021-07-28T20:37:46.031Z"
   },
   {
    "duration": 10201,
    "start_time": "2021-07-28T20:37:48.206Z"
   },
   {
    "duration": 400,
    "start_time": "2021-07-28T20:39:29.716Z"
   },
   {
    "duration": 5,
    "start_time": "2021-07-28T20:40:36.408Z"
   },
   {
    "duration": 6,
    "start_time": "2021-07-28T20:40:50.807Z"
   },
   {
    "duration": 8,
    "start_time": "2021-07-28T20:41:09.471Z"
   },
   {
    "duration": 21,
    "start_time": "2021-07-28T20:41:17.095Z"
   },
   {
    "duration": 6,
    "start_time": "2021-07-28T20:41:36.429Z"
   },
   {
    "duration": 22,
    "start_time": "2021-07-28T20:41:37.516Z"
   },
   {
    "duration": 13,
    "start_time": "2021-07-28T20:45:44.063Z"
   },
   {
    "duration": 14,
    "start_time": "2021-07-28T20:45:50.254Z"
   },
   {
    "duration": 12,
    "start_time": "2021-07-28T20:46:06.804Z"
   },
   {
    "duration": 4,
    "start_time": "2021-07-28T20:48:47.211Z"
   },
   {
    "duration": 19,
    "start_time": "2021-07-28T20:48:47.224Z"
   },
   {
    "duration": 16,
    "start_time": "2021-07-28T20:48:47.246Z"
   },
   {
    "duration": 12,
    "start_time": "2021-07-28T20:48:47.265Z"
   },
   {
    "duration": 25,
    "start_time": "2021-07-28T20:48:47.280Z"
   },
   {
    "duration": 21,
    "start_time": "2021-07-28T20:48:47.308Z"
   },
   {
    "duration": 10,
    "start_time": "2021-07-28T20:48:47.331Z"
   },
   {
    "duration": 11,
    "start_time": "2021-07-28T20:48:47.343Z"
   },
   {
    "duration": 34,
    "start_time": "2021-07-28T20:48:47.356Z"
   },
   {
    "duration": 17,
    "start_time": "2021-07-28T20:48:47.394Z"
   },
   {
    "duration": 8,
    "start_time": "2021-07-28T20:48:47.414Z"
   },
   {
    "duration": 10,
    "start_time": "2021-07-28T20:48:47.424Z"
   },
   {
    "duration": 11,
    "start_time": "2021-07-28T20:48:47.437Z"
   },
   {
    "duration": 40,
    "start_time": "2021-07-28T20:48:47.450Z"
   },
   {
    "duration": 15,
    "start_time": "2021-07-28T20:48:47.493Z"
   },
   {
    "duration": 9,
    "start_time": "2021-07-28T20:48:47.510Z"
   },
   {
    "duration": 13,
    "start_time": "2021-07-28T20:48:47.521Z"
   },
   {
    "duration": 10,
    "start_time": "2021-07-28T20:48:47.537Z"
   },
   {
    "duration": 38,
    "start_time": "2021-07-28T20:48:47.550Z"
   },
   {
    "duration": 9,
    "start_time": "2021-07-28T20:48:47.591Z"
   },
   {
    "duration": 11,
    "start_time": "2021-07-28T20:48:47.603Z"
   },
   {
    "duration": 13,
    "start_time": "2021-07-28T20:48:47.616Z"
   },
   {
    "duration": 12,
    "start_time": "2021-07-28T20:48:47.632Z"
   },
   {
    "duration": 48,
    "start_time": "2021-07-28T20:48:47.646Z"
   },
   {
    "duration": 50,
    "start_time": "2021-07-28T20:48:47.696Z"
   },
   {
    "duration": 15,
    "start_time": "2021-07-28T20:48:47.748Z"
   },
   {
    "duration": 24,
    "start_time": "2021-07-28T20:48:47.765Z"
   },
   {
    "duration": 6,
    "start_time": "2021-07-28T20:48:47.795Z"
   },
   {
    "duration": 14,
    "start_time": "2021-07-28T20:48:47.803Z"
   },
   {
    "duration": 14,
    "start_time": "2021-07-28T20:48:47.819Z"
   },
   {
    "duration": 13,
    "start_time": "2021-07-28T20:48:47.836Z"
   },
   {
    "duration": 39,
    "start_time": "2021-07-28T20:48:47.852Z"
   },
   {
    "duration": 10,
    "start_time": "2021-07-28T20:48:47.894Z"
   },
   {
    "duration": 16,
    "start_time": "2021-07-28T20:48:47.907Z"
   },
   {
    "duration": 9,
    "start_time": "2021-07-28T20:48:47.926Z"
   },
   {
    "duration": 61,
    "start_time": "2021-07-28T20:48:47.937Z"
   },
   {
    "duration": 10,
    "start_time": "2021-07-28T20:48:48.001Z"
   },
   {
    "duration": 14,
    "start_time": "2021-07-28T20:48:50.455Z"
   },
   {
    "duration": 9,
    "start_time": "2021-07-28T21:09:04.891Z"
   },
   {
    "duration": 6,
    "start_time": "2021-07-28T21:09:13.938Z"
   },
   {
    "duration": 389,
    "start_time": "2021-07-28T21:14:57.023Z"
   },
   {
    "duration": 450,
    "start_time": "2021-07-28T21:15:11.020Z"
   },
   {
    "duration": 20,
    "start_time": "2021-07-28T21:15:37.042Z"
   },
   {
    "duration": 10,
    "start_time": "2021-07-28T21:15:57.471Z"
   },
   {
    "duration": 329,
    "start_time": "2021-07-28T21:19:23.883Z"
   },
   {
    "duration": 346,
    "start_time": "2021-07-28T21:21:10.679Z"
   },
   {
    "duration": 776,
    "start_time": "2021-07-28T21:25:02.960Z"
   },
   {
    "duration": 672,
    "start_time": "2021-07-28T21:28:50.292Z"
   },
   {
    "duration": 699,
    "start_time": "2021-07-28T22:34:42.703Z"
   },
   {
    "duration": 712,
    "start_time": "2021-07-28T22:34:44.619Z"
   },
   {
    "duration": 419,
    "start_time": "2021-07-28T22:41:48.407Z"
   },
   {
    "duration": 422,
    "start_time": "2021-07-28T22:43:12.134Z"
   },
   {
    "duration": 524,
    "start_time": "2021-07-28T22:44:31.348Z"
   },
   {
    "duration": 5,
    "start_time": "2021-07-28T22:44:35.648Z"
   },
   {
    "duration": 44,
    "start_time": "2021-07-28T22:44:35.655Z"
   },
   {
    "duration": 22,
    "start_time": "2021-07-28T22:44:35.702Z"
   },
   {
    "duration": 8,
    "start_time": "2021-07-28T22:44:35.727Z"
   },
   {
    "duration": 26,
    "start_time": "2021-07-28T22:44:35.737Z"
   },
   {
    "duration": 26,
    "start_time": "2021-07-28T22:44:35.766Z"
   },
   {
    "duration": 22,
    "start_time": "2021-07-28T22:44:35.796Z"
   },
   {
    "duration": 11,
    "start_time": "2021-07-28T22:44:35.823Z"
   },
   {
    "duration": 104,
    "start_time": "2021-07-28T22:44:35.837Z"
   },
   {
    "duration": 24,
    "start_time": "2021-07-28T22:44:35.943Z"
   },
   {
    "duration": 8,
    "start_time": "2021-07-28T22:44:35.970Z"
   },
   {
    "duration": 28,
    "start_time": "2021-07-28T22:44:35.980Z"
   },
   {
    "duration": 18,
    "start_time": "2021-07-28T22:44:36.011Z"
   },
   {
    "duration": 24,
    "start_time": "2021-07-28T22:44:36.031Z"
   },
   {
    "duration": 41,
    "start_time": "2021-07-28T22:44:36.057Z"
   },
   {
    "duration": 23,
    "start_time": "2021-07-28T22:44:36.100Z"
   },
   {
    "duration": 19,
    "start_time": "2021-07-28T22:44:36.125Z"
   },
   {
    "duration": 12,
    "start_time": "2021-07-28T22:44:36.146Z"
   },
   {
    "duration": 26,
    "start_time": "2021-07-28T22:44:36.160Z"
   },
   {
    "duration": 29,
    "start_time": "2021-07-28T22:44:36.188Z"
   },
   {
    "duration": 108,
    "start_time": "2021-07-28T22:44:36.220Z"
   },
   {
    "duration": 18,
    "start_time": "2021-07-28T22:44:36.330Z"
   },
   {
    "duration": 24,
    "start_time": "2021-07-28T22:44:36.353Z"
   },
   {
    "duration": 16,
    "start_time": "2021-07-28T22:44:36.380Z"
   },
   {
    "duration": 60,
    "start_time": "2021-07-28T22:44:36.398Z"
   },
   {
    "duration": 35,
    "start_time": "2021-07-28T22:44:36.461Z"
   },
   {
    "duration": 9,
    "start_time": "2021-07-28T22:44:36.498Z"
   },
   {
    "duration": 9,
    "start_time": "2021-07-28T22:44:36.509Z"
   },
   {
    "duration": 13,
    "start_time": "2021-07-28T22:44:36.520Z"
   },
   {
    "duration": 5,
    "start_time": "2021-07-28T22:44:36.536Z"
   },
   {
    "duration": 20,
    "start_time": "2021-07-28T22:44:36.543Z"
   },
   {
    "duration": 24,
    "start_time": "2021-07-28T22:44:36.566Z"
   },
   {
    "duration": 18,
    "start_time": "2021-07-28T22:44:36.592Z"
   },
   {
    "duration": 22,
    "start_time": "2021-07-28T22:44:36.612Z"
   },
   {
    "duration": 9,
    "start_time": "2021-07-28T22:44:36.637Z"
   },
   {
    "duration": 39,
    "start_time": "2021-07-28T22:44:36.649Z"
   },
   {
    "duration": 16,
    "start_time": "2021-07-28T22:44:36.691Z"
   },
   {
    "duration": 22,
    "start_time": "2021-07-28T22:44:36.709Z"
   },
   {
    "duration": 14,
    "start_time": "2021-07-28T22:44:36.734Z"
   },
   {
    "duration": 417,
    "start_time": "2021-07-28T22:44:36.750Z"
   },
   {
    "duration": 16,
    "start_time": "2021-07-28T22:44:37.169Z"
   },
   {
    "duration": 13,
    "start_time": "2021-07-28T22:44:37.187Z"
   },
   {
    "duration": 24,
    "start_time": "2021-07-28T22:44:37.202Z"
   },
   {
    "duration": 659,
    "start_time": "2021-07-28T22:44:37.228Z"
   },
   {
    "duration": 4,
    "start_time": "2021-07-28T22:44:37.890Z"
   },
   {
    "duration": 227,
    "start_time": "2021-07-28T22:44:37.896Z"
   },
   {
    "duration": 8,
    "start_time": "2021-07-28T22:44:38.126Z"
   },
   {
    "duration": 11,
    "start_time": "2021-07-28T22:44:38.136Z"
   },
   {
    "duration": 11,
    "start_time": "2021-07-28T22:44:38.149Z"
   },
   {
    "duration": 739,
    "start_time": "2021-07-28T22:44:38.162Z"
   },
   {
    "duration": 982,
    "start_time": "2021-07-28T22:44:38.904Z"
   },
   {
    "duration": 1324,
    "start_time": "2021-07-28T22:44:38.565Z"
   },
   {
    "duration": 4,
    "start_time": "2021-07-28T22:45:01.821Z"
   },
   {
    "duration": 941,
    "start_time": "2021-07-28T22:45:08.585Z"
   },
   {
    "duration": 5,
    "start_time": "2021-07-28T22:45:44.596Z"
   },
   {
    "duration": 5,
    "start_time": "2021-07-28T22:45:53.235Z"
   },
   {
    "duration": 21,
    "start_time": "2021-07-28T22:45:53.247Z"
   },
   {
    "duration": 16,
    "start_time": "2021-07-28T22:45:53.271Z"
   },
   {
    "duration": 11,
    "start_time": "2021-07-28T22:45:53.290Z"
   },
   {
    "duration": 21,
    "start_time": "2021-07-28T22:45:53.304Z"
   },
   {
    "duration": 16,
    "start_time": "2021-07-28T22:45:53.327Z"
   },
   {
    "duration": 40,
    "start_time": "2021-07-28T22:45:53.346Z"
   },
   {
    "duration": 16,
    "start_time": "2021-07-28T22:45:53.389Z"
   },
   {
    "duration": 34,
    "start_time": "2021-07-28T22:45:53.409Z"
   },
   {
    "duration": 25,
    "start_time": "2021-07-28T22:45:53.446Z"
   },
   {
    "duration": 9,
    "start_time": "2021-07-28T22:45:53.473Z"
   },
   {
    "duration": 10,
    "start_time": "2021-07-28T22:45:53.486Z"
   },
   {
    "duration": 16,
    "start_time": "2021-07-28T22:45:53.498Z"
   },
   {
    "duration": 20,
    "start_time": "2021-07-28T22:45:53.516Z"
   },
   {
    "duration": 14,
    "start_time": "2021-07-28T22:45:53.539Z"
   },
   {
    "duration": 32,
    "start_time": "2021-07-28T22:45:53.555Z"
   },
   {
    "duration": 5,
    "start_time": "2021-07-28T22:45:53.589Z"
   },
   {
    "duration": 11,
    "start_time": "2021-07-28T22:45:53.596Z"
   },
   {
    "duration": 11,
    "start_time": "2021-07-28T22:45:53.609Z"
   },
   {
    "duration": 13,
    "start_time": "2021-07-28T22:45:53.623Z"
   },
   {
    "duration": 12,
    "start_time": "2021-07-28T22:45:53.638Z"
   },
   {
    "duration": 35,
    "start_time": "2021-07-28T22:45:53.652Z"
   },
   {
    "duration": 10,
    "start_time": "2021-07-28T22:45:53.690Z"
   },
   {
    "duration": 17,
    "start_time": "2021-07-28T22:45:53.705Z"
   },
   {
    "duration": 69,
    "start_time": "2021-07-28T22:45:53.725Z"
   },
   {
    "duration": 9,
    "start_time": "2021-07-28T22:45:53.796Z"
   },
   {
    "duration": 12,
    "start_time": "2021-07-28T22:45:53.807Z"
   },
   {
    "duration": 13,
    "start_time": "2021-07-28T22:45:53.822Z"
   },
   {
    "duration": 13,
    "start_time": "2021-07-28T22:45:53.838Z"
   },
   {
    "duration": 11,
    "start_time": "2021-07-28T22:45:53.853Z"
   },
   {
    "duration": 11,
    "start_time": "2021-07-28T22:45:53.885Z"
   },
   {
    "duration": 13,
    "start_time": "2021-07-28T22:45:53.899Z"
   },
   {
    "duration": 10,
    "start_time": "2021-07-28T22:45:53.915Z"
   },
   {
    "duration": 24,
    "start_time": "2021-07-28T22:45:53.928Z"
   },
   {
    "duration": 34,
    "start_time": "2021-07-28T22:45:53.954Z"
   },
   {
    "duration": 13,
    "start_time": "2021-07-28T22:45:53.992Z"
   },
   {
    "duration": 10,
    "start_time": "2021-07-28T22:45:54.008Z"
   },
   {
    "duration": 30,
    "start_time": "2021-07-28T22:45:54.021Z"
   },
   {
    "duration": 33,
    "start_time": "2021-07-28T22:45:54.054Z"
   },
   {
    "duration": 417,
    "start_time": "2021-07-28T22:45:54.090Z"
   },
   {
    "duration": 6,
    "start_time": "2021-07-28T22:45:54.510Z"
   },
   {
    "duration": 16,
    "start_time": "2021-07-28T22:45:54.519Z"
   },
   {
    "duration": 14,
    "start_time": "2021-07-28T22:45:54.538Z"
   },
   {
    "duration": 676,
    "start_time": "2021-07-28T22:45:54.587Z"
   },
   {
    "duration": 5,
    "start_time": "2021-07-28T22:45:55.265Z"
   },
   {
    "duration": 301,
    "start_time": "2021-07-28T22:45:55.285Z"
   },
   {
    "duration": 10,
    "start_time": "2021-07-28T22:45:55.588Z"
   },
   {
    "duration": 9,
    "start_time": "2021-07-28T22:45:55.601Z"
   },
   {
    "duration": 12,
    "start_time": "2021-07-28T22:45:55.612Z"
   },
   {
    "duration": 736,
    "start_time": "2021-07-28T22:45:55.627Z"
   },
   {
    "duration": 18,
    "start_time": "2021-07-28T22:45:56.843Z"
   },
   {
    "duration": 18,
    "start_time": "2021-07-28T22:46:30.740Z"
   },
   {
    "duration": 17,
    "start_time": "2021-07-28T22:46:36.966Z"
   },
   {
    "duration": 17,
    "start_time": "2021-07-28T22:46:44.550Z"
   },
   {
    "duration": 17,
    "start_time": "2021-07-28T22:46:52.637Z"
   },
   {
    "duration": 17,
    "start_time": "2021-07-28T22:47:31.795Z"
   },
   {
    "duration": 17,
    "start_time": "2021-07-28T22:47:54.925Z"
   },
   {
    "duration": 14,
    "start_time": "2021-07-28T23:06:33.729Z"
   },
   {
    "duration": 13,
    "start_time": "2021-07-28T23:06:49.968Z"
   },
   {
    "duration": 13,
    "start_time": "2021-07-28T23:17:57.644Z"
   },
   {
    "duration": 14,
    "start_time": "2021-07-28T23:18:00.194Z"
   },
   {
    "duration": 14,
    "start_time": "2021-07-28T23:18:02.427Z"
   },
   {
    "duration": 15,
    "start_time": "2021-07-28T23:18:07.779Z"
   },
   {
    "duration": 14,
    "start_time": "2021-07-28T23:18:10.658Z"
   },
   {
    "duration": 13,
    "start_time": "2021-07-28T23:18:13.006Z"
   },
   {
    "duration": 14,
    "start_time": "2021-07-28T23:18:14.947Z"
   },
   {
    "duration": 13,
    "start_time": "2021-07-29T00:04:29.708Z"
   },
   {
    "duration": 5,
    "start_time": "2021-07-29T00:27:40.894Z"
   },
   {
    "duration": 1237,
    "start_time": "2021-07-29T00:27:55.910Z"
   },
   {
    "duration": 1295,
    "start_time": "2021-07-29T00:28:14.158Z"
   },
   {
    "duration": 8,
    "start_time": "2021-07-29T00:29:45.556Z"
   },
   {
    "duration": 1320,
    "start_time": "2021-07-29T00:29:47.402Z"
   },
   {
    "duration": 5,
    "start_time": "2021-07-29T00:30:51.615Z"
   },
   {
    "duration": 28,
    "start_time": "2021-07-29T00:30:51.624Z"
   },
   {
    "duration": 20,
    "start_time": "2021-07-29T00:30:51.656Z"
   },
   {
    "duration": 17,
    "start_time": "2021-07-29T00:30:51.679Z"
   },
   {
    "duration": 22,
    "start_time": "2021-07-29T00:30:51.699Z"
   },
   {
    "duration": 18,
    "start_time": "2021-07-29T00:30:51.724Z"
   },
   {
    "duration": 13,
    "start_time": "2021-07-29T00:30:51.745Z"
   },
   {
    "duration": 29,
    "start_time": "2021-07-29T00:30:51.763Z"
   },
   {
    "duration": 33,
    "start_time": "2021-07-29T00:30:51.795Z"
   },
   {
    "duration": 17,
    "start_time": "2021-07-29T00:30:51.830Z"
   },
   {
    "duration": 11,
    "start_time": "2021-07-29T00:30:51.849Z"
   },
   {
    "duration": 28,
    "start_time": "2021-07-29T00:30:51.862Z"
   },
   {
    "duration": 11,
    "start_time": "2021-07-29T00:30:51.893Z"
   },
   {
    "duration": 11,
    "start_time": "2021-07-29T00:30:51.907Z"
   },
   {
    "duration": 13,
    "start_time": "2021-07-29T00:30:51.920Z"
   },
   {
    "duration": 15,
    "start_time": "2021-07-29T00:30:51.935Z"
   },
   {
    "duration": 38,
    "start_time": "2021-07-29T00:30:51.952Z"
   },
   {
    "duration": 9,
    "start_time": "2021-07-29T00:30:51.993Z"
   },
   {
    "duration": 12,
    "start_time": "2021-07-29T00:30:52.004Z"
   },
   {
    "duration": 9,
    "start_time": "2021-07-29T00:30:52.019Z"
   },
   {
    "duration": 12,
    "start_time": "2021-07-29T00:30:52.031Z"
   },
   {
    "duration": 42,
    "start_time": "2021-07-29T00:30:52.045Z"
   },
   {
    "duration": 6,
    "start_time": "2021-07-29T00:30:52.092Z"
   },
   {
    "duration": 11,
    "start_time": "2021-07-29T00:30:52.101Z"
   },
   {
    "duration": 83,
    "start_time": "2021-07-29T00:30:52.115Z"
   },
   {
    "duration": 14,
    "start_time": "2021-07-29T00:30:52.201Z"
   },
   {
    "duration": 6,
    "start_time": "2021-07-29T00:30:52.218Z"
   },
   {
    "duration": 6,
    "start_time": "2021-07-29T00:30:52.227Z"
   },
   {
    "duration": 50,
    "start_time": "2021-07-29T00:30:52.235Z"
   },
   {
    "duration": 6,
    "start_time": "2021-07-29T00:30:52.288Z"
   },
   {
    "duration": 15,
    "start_time": "2021-07-29T00:30:52.297Z"
   },
   {
    "duration": 18,
    "start_time": "2021-07-29T00:30:52.315Z"
   },
   {
    "duration": 18,
    "start_time": "2021-07-29T00:30:52.336Z"
   },
   {
    "duration": 15,
    "start_time": "2021-07-29T00:30:52.385Z"
   },
   {
    "duration": 10,
    "start_time": "2021-07-29T00:30:52.403Z"
   },
   {
    "duration": 26,
    "start_time": "2021-07-29T00:30:52.416Z"
   },
   {
    "duration": 17,
    "start_time": "2021-07-29T00:30:52.445Z"
   },
   {
    "duration": 21,
    "start_time": "2021-07-29T00:30:52.465Z"
   },
   {
    "duration": 20,
    "start_time": "2021-07-29T00:30:52.489Z"
   },
   {
    "duration": 420,
    "start_time": "2021-07-29T00:30:52.512Z"
   },
   {
    "duration": 6,
    "start_time": "2021-07-29T00:30:52.935Z"
   },
   {
    "duration": 5,
    "start_time": "2021-07-29T00:30:54.502Z"
   },
   {
    "duration": 1403,
    "start_time": "2021-07-29T00:30:55.237Z"
   },
   {
    "duration": 1405,
    "start_time": "2021-07-29T00:35:55.422Z"
   },
   {
    "duration": 1496,
    "start_time": "2021-07-29T00:36:06.571Z"
   },
   {
    "duration": 1385,
    "start_time": "2021-07-29T00:37:43.040Z"
   },
   {
    "duration": 1370,
    "start_time": "2021-07-29T00:37:59.669Z"
   },
   {
    "duration": 11,
    "start_time": "2021-07-29T00:39:15.432Z"
   },
   {
    "duration": 345,
    "start_time": "2021-07-29T00:42:28.351Z"
   },
   {
    "duration": 411,
    "start_time": "2021-07-29T00:44:33.682Z"
   },
   {
    "duration": 491,
    "start_time": "2021-07-29T00:46:09.341Z"
   },
   {
    "duration": 373,
    "start_time": "2021-07-29T00:48:45.710Z"
   },
   {
    "duration": 361,
    "start_time": "2021-07-29T00:48:56.520Z"
   },
   {
    "duration": 11,
    "start_time": "2021-07-29T00:50:46.651Z"
   },
   {
    "duration": 10,
    "start_time": "2021-07-29T00:51:10.124Z"
   },
   {
    "duration": 857,
    "start_time": "2021-07-29T00:51:32.905Z"
   },
   {
    "duration": 145,
    "start_time": "2021-07-29T00:53:43.940Z"
   },
   {
    "duration": 7,
    "start_time": "2021-07-29T00:55:53.823Z"
   },
   {
    "duration": 4,
    "start_time": "2021-07-29T00:56:00.950Z"
   },
   {
    "duration": 28,
    "start_time": "2021-07-29T00:56:00.957Z"
   },
   {
    "duration": 37,
    "start_time": "2021-07-29T00:56:00.989Z"
   },
   {
    "duration": 19,
    "start_time": "2021-07-29T00:56:01.029Z"
   },
   {
    "duration": 32,
    "start_time": "2021-07-29T00:56:01.050Z"
   },
   {
    "duration": 28,
    "start_time": "2021-07-29T00:56:01.085Z"
   },
   {
    "duration": 9,
    "start_time": "2021-07-29T00:56:01.115Z"
   },
   {
    "duration": 13,
    "start_time": "2021-07-29T00:56:01.128Z"
   },
   {
    "duration": 31,
    "start_time": "2021-07-29T00:56:01.144Z"
   },
   {
    "duration": 19,
    "start_time": "2021-07-29T00:56:01.178Z"
   },
   {
    "duration": 24,
    "start_time": "2021-07-29T00:56:01.199Z"
   },
   {
    "duration": 12,
    "start_time": "2021-07-29T00:56:01.225Z"
   },
   {
    "duration": 12,
    "start_time": "2021-07-29T00:56:01.240Z"
   },
   {
    "duration": 32,
    "start_time": "2021-07-29T00:56:01.255Z"
   },
   {
    "duration": 26,
    "start_time": "2021-07-29T00:56:01.290Z"
   },
   {
    "duration": 11,
    "start_time": "2021-07-29T00:56:01.319Z"
   },
   {
    "duration": 21,
    "start_time": "2021-07-29T00:56:01.332Z"
   },
   {
    "duration": 11,
    "start_time": "2021-07-29T00:56:01.356Z"
   },
   {
    "duration": 18,
    "start_time": "2021-07-29T00:56:01.370Z"
   },
   {
    "duration": 20,
    "start_time": "2021-07-29T00:56:01.390Z"
   },
   {
    "duration": 12,
    "start_time": "2021-07-29T00:56:01.413Z"
   },
   {
    "duration": 21,
    "start_time": "2021-07-29T00:56:01.428Z"
   },
   {
    "duration": 9,
    "start_time": "2021-07-29T00:56:01.455Z"
   },
   {
    "duration": 21,
    "start_time": "2021-07-29T00:56:01.467Z"
   },
   {
    "duration": 65,
    "start_time": "2021-07-29T00:56:01.490Z"
   },
   {
    "duration": 9,
    "start_time": "2021-07-29T00:56:01.557Z"
   },
   {
    "duration": 20,
    "start_time": "2021-07-29T00:56:01.568Z"
   },
   {
    "duration": 11,
    "start_time": "2021-07-29T00:56:01.591Z"
   },
   {
    "duration": 20,
    "start_time": "2021-07-29T00:56:01.604Z"
   },
   {
    "duration": 20,
    "start_time": "2021-07-29T00:56:01.626Z"
   },
   {
    "duration": 19,
    "start_time": "2021-07-29T00:56:01.648Z"
   },
   {
    "duration": 24,
    "start_time": "2021-07-29T00:56:01.669Z"
   },
   {
    "duration": 18,
    "start_time": "2021-07-29T00:56:01.695Z"
   },
   {
    "duration": 26,
    "start_time": "2021-07-29T00:56:01.716Z"
   },
   {
    "duration": 16,
    "start_time": "2021-07-29T00:56:01.744Z"
   },
   {
    "duration": 36,
    "start_time": "2021-07-29T00:56:01.762Z"
   },
   {
    "duration": 17,
    "start_time": "2021-07-29T00:56:01.800Z"
   },
   {
    "duration": 9,
    "start_time": "2021-07-29T00:56:01.819Z"
   },
   {
    "duration": 30,
    "start_time": "2021-07-29T00:56:01.830Z"
   },
   {
    "duration": 402,
    "start_time": "2021-07-29T00:56:01.863Z"
   },
   {
    "duration": 5,
    "start_time": "2021-07-29T00:56:02.267Z"
   },
   {
    "duration": 9,
    "start_time": "2021-07-29T00:56:02.286Z"
   },
   {
    "duration": 22,
    "start_time": "2021-07-29T00:56:02.298Z"
   },
   {
    "duration": 837,
    "start_time": "2021-07-29T00:56:02.323Z"
   },
   {
    "duration": 11,
    "start_time": "2021-07-29T00:56:03.162Z"
   },
   {
    "duration": 367,
    "start_time": "2021-07-29T00:56:03.186Z"
   },
   {
    "duration": 5,
    "start_time": "2021-07-29T00:56:03.555Z"
   },
   {
    "duration": 26,
    "start_time": "2021-07-29T00:56:03.563Z"
   },
   {
    "duration": 6,
    "start_time": "2021-07-29T00:56:03.591Z"
   },
   {
    "duration": 19,
    "start_time": "2021-07-29T00:56:03.599Z"
   },
   {
    "duration": 723,
    "start_time": "2021-07-29T00:56:03.620Z"
   },
   {
    "duration": 111,
    "start_time": "2021-07-29T00:56:04.346Z"
   },
   {
    "duration": 33,
    "start_time": "2021-07-29T00:56:04.460Z"
   },
   {
    "duration": 827,
    "start_time": "2021-07-29T00:56:46.196Z"
   },
   {
    "duration": 825,
    "start_time": "2021-07-29T00:57:46.361Z"
   },
   {
    "duration": 406,
    "start_time": "2021-07-29T00:58:00.516Z"
   },
   {
    "duration": 355,
    "start_time": "2021-07-29T00:58:22.233Z"
   },
   {
    "duration": 833,
    "start_time": "2021-07-29T01:00:09.056Z"
   },
   {
    "duration": 744,
    "start_time": "2021-07-29T01:00:28.361Z"
   },
   {
    "duration": 813,
    "start_time": "2021-07-29T01:00:40.517Z"
   },
   {
    "duration": 361,
    "start_time": "2021-07-29T01:01:06.059Z"
   },
   {
    "duration": 361,
    "start_time": "2021-07-29T01:01:57.761Z"
   },
   {
    "duration": 860,
    "start_time": "2021-07-29T01:02:04.641Z"
   },
   {
    "duration": 411,
    "start_time": "2021-07-29T01:02:20.439Z"
   },
   {
    "duration": 721,
    "start_time": "2021-07-29T01:03:04.987Z"
   },
   {
    "duration": 739,
    "start_time": "2021-07-29T01:03:27.682Z"
   },
   {
    "duration": 827,
    "start_time": "2021-07-29T01:03:42.033Z"
   },
   {
    "duration": 853,
    "start_time": "2021-07-29T01:13:32.511Z"
   },
   {
    "duration": 10,
    "start_time": "2021-07-29T01:14:07.646Z"
   },
   {
    "duration": 5,
    "start_time": "2021-07-29T01:16:37.167Z"
   },
   {
    "duration": 550,
    "start_time": "2021-07-29T01:18:01.216Z"
   },
   {
    "duration": 10,
    "start_time": "2021-07-29T01:22:20.634Z"
   },
   {
    "duration": 5,
    "start_time": "2021-07-29T01:23:08.185Z"
   },
   {
    "duration": 19,
    "start_time": "2021-07-29T01:23:08.198Z"
   },
   {
    "duration": 28,
    "start_time": "2021-07-29T01:23:08.219Z"
   },
   {
    "duration": 13,
    "start_time": "2021-07-29T01:23:08.250Z"
   },
   {
    "duration": 40,
    "start_time": "2021-07-29T01:23:08.265Z"
   },
   {
    "duration": 16,
    "start_time": "2021-07-29T01:23:08.308Z"
   },
   {
    "duration": 14,
    "start_time": "2021-07-29T01:23:08.327Z"
   },
   {
    "duration": 10,
    "start_time": "2021-07-29T01:23:08.344Z"
   },
   {
    "duration": 55,
    "start_time": "2021-07-29T01:23:08.357Z"
   },
   {
    "duration": 16,
    "start_time": "2021-07-29T01:23:08.416Z"
   },
   {
    "duration": 10,
    "start_time": "2021-07-29T01:23:08.435Z"
   },
   {
    "duration": 15,
    "start_time": "2021-07-29T01:23:08.447Z"
   },
   {
    "duration": 24,
    "start_time": "2021-07-29T01:23:08.465Z"
   },
   {
    "duration": 13,
    "start_time": "2021-07-29T01:23:08.491Z"
   },
   {
    "duration": 11,
    "start_time": "2021-07-29T01:23:08.507Z"
   },
   {
    "duration": 8,
    "start_time": "2021-07-29T01:23:08.521Z"
   },
   {
    "duration": 7,
    "start_time": "2021-07-29T01:23:08.531Z"
   },
   {
    "duration": 49,
    "start_time": "2021-07-29T01:23:08.540Z"
   },
   {
    "duration": 8,
    "start_time": "2021-07-29T01:23:08.592Z"
   },
   {
    "duration": 11,
    "start_time": "2021-07-29T01:23:08.603Z"
   },
   {
    "duration": 10,
    "start_time": "2021-07-29T01:23:08.617Z"
   },
   {
    "duration": 10,
    "start_time": "2021-07-29T01:23:08.630Z"
   },
   {
    "duration": 48,
    "start_time": "2021-07-29T01:23:08.642Z"
   },
   {
    "duration": 19,
    "start_time": "2021-07-29T01:23:08.693Z"
   },
   {
    "duration": 72,
    "start_time": "2021-07-29T01:23:08.715Z"
   },
   {
    "duration": 15,
    "start_time": "2021-07-29T01:23:08.790Z"
   },
   {
    "duration": 6,
    "start_time": "2021-07-29T01:23:08.808Z"
   },
   {
    "duration": 4,
    "start_time": "2021-07-29T01:23:08.820Z"
   },
   {
    "duration": 15,
    "start_time": "2021-07-29T01:23:08.827Z"
   },
   {
    "duration": 43,
    "start_time": "2021-07-29T01:23:08.844Z"
   },
   {
    "duration": 12,
    "start_time": "2021-07-29T01:23:08.890Z"
   },
   {
    "duration": 9,
    "start_time": "2021-07-29T01:23:08.905Z"
   },
   {
    "duration": 9,
    "start_time": "2021-07-29T01:23:08.917Z"
   },
   {
    "duration": 64,
    "start_time": "2021-07-29T01:23:08.929Z"
   },
   {
    "duration": 7,
    "start_time": "2021-07-29T01:23:08.995Z"
   },
   {
    "duration": 17,
    "start_time": "2021-07-29T01:23:09.005Z"
   },
   {
    "duration": 6,
    "start_time": "2021-07-29T01:23:09.024Z"
   },
   {
    "duration": 7,
    "start_time": "2021-07-29T01:23:09.033Z"
   },
   {
    "duration": 49,
    "start_time": "2021-07-29T01:23:09.043Z"
   },
   {
    "duration": 420,
    "start_time": "2021-07-29T01:23:09.095Z"
   },
   {
    "duration": 5,
    "start_time": "2021-07-29T01:23:09.518Z"
   },
   {
    "duration": 11,
    "start_time": "2021-07-29T01:23:09.526Z"
   },
   {
    "duration": 9,
    "start_time": "2021-07-29T01:23:09.540Z"
   },
   {
    "duration": 33,
    "start_time": "2021-07-29T01:23:09.552Z"
   },
   {
    "duration": 848,
    "start_time": "2021-07-29T01:23:09.588Z"
   },
   {
    "duration": 3,
    "start_time": "2021-07-29T01:23:10.439Z"
   },
   {
    "duration": 555,
    "start_time": "2021-07-29T01:23:10.444Z"
   },
   {
    "duration": 10,
    "start_time": "2021-07-29T01:23:11.002Z"
   },
   {
    "duration": 12,
    "start_time": "2021-07-29T01:23:11.015Z"
   },
   {
    "duration": 382,
    "start_time": "2021-07-29T01:23:11.030Z"
   },
   {
    "duration": 5,
    "start_time": "2021-07-29T01:26:28.098Z"
   },
   {
    "duration": 22,
    "start_time": "2021-07-29T01:26:28.106Z"
   },
   {
    "duration": 16,
    "start_time": "2021-07-29T01:26:28.131Z"
   },
   {
    "duration": 25,
    "start_time": "2021-07-29T01:26:28.150Z"
   },
   {
    "duration": 21,
    "start_time": "2021-07-29T01:26:28.177Z"
   },
   {
    "duration": 17,
    "start_time": "2021-07-29T01:26:28.202Z"
   },
   {
    "duration": 8,
    "start_time": "2021-07-29T01:26:28.222Z"
   },
   {
    "duration": 11,
    "start_time": "2021-07-29T01:26:28.233Z"
   },
   {
    "duration": 29,
    "start_time": "2021-07-29T01:26:28.247Z"
   },
   {
    "duration": 16,
    "start_time": "2021-07-29T01:26:28.286Z"
   },
   {
    "duration": 9,
    "start_time": "2021-07-29T01:26:28.306Z"
   },
   {
    "duration": 11,
    "start_time": "2021-07-29T01:26:28.317Z"
   },
   {
    "duration": 56,
    "start_time": "2021-07-29T01:26:28.331Z"
   },
   {
    "duration": 14,
    "start_time": "2021-07-29T01:26:28.390Z"
   },
   {
    "duration": 15,
    "start_time": "2021-07-29T01:26:28.407Z"
   },
   {
    "duration": 10,
    "start_time": "2021-07-29T01:26:28.425Z"
   },
   {
    "duration": 11,
    "start_time": "2021-07-29T01:26:28.437Z"
   },
   {
    "duration": 37,
    "start_time": "2021-07-29T01:26:28.450Z"
   },
   {
    "duration": 16,
    "start_time": "2021-07-29T01:26:28.489Z"
   },
   {
    "duration": 11,
    "start_time": "2021-07-29T01:26:28.508Z"
   },
   {
    "duration": 11,
    "start_time": "2021-07-29T01:26:28.522Z"
   },
   {
    "duration": 17,
    "start_time": "2021-07-29T01:26:28.537Z"
   },
   {
    "duration": 12,
    "start_time": "2021-07-29T01:26:28.557Z"
   },
   {
    "duration": 9,
    "start_time": "2021-07-29T01:26:28.586Z"
   },
   {
    "duration": 52,
    "start_time": "2021-07-29T01:26:28.712Z"
   },
   {
    "duration": 24,
    "start_time": "2021-07-29T01:26:28.767Z"
   },
   {
    "duration": 5,
    "start_time": "2021-07-29T01:26:29.091Z"
   },
   {
    "duration": 12,
    "start_time": "2021-07-29T01:26:29.099Z"
   },
   {
    "duration": 12,
    "start_time": "2021-07-29T01:26:30.063Z"
   },
   {
    "duration": 17,
    "start_time": "2021-07-29T01:26:30.078Z"
   },
   {
    "duration": 25,
    "start_time": "2021-07-29T01:26:30.098Z"
   },
   {
    "duration": 18,
    "start_time": "2021-07-29T01:26:30.126Z"
   },
   {
    "duration": 16,
    "start_time": "2021-07-29T01:26:30.147Z"
   },
   {
    "duration": 28,
    "start_time": "2021-07-29T01:26:30.166Z"
   },
   {
    "duration": 17,
    "start_time": "2021-07-29T01:26:30.197Z"
   },
   {
    "duration": 38,
    "start_time": "2021-07-29T01:26:30.217Z"
   },
   {
    "duration": 21,
    "start_time": "2021-07-29T01:26:30.258Z"
   },
   {
    "duration": 27,
    "start_time": "2021-07-29T01:26:30.281Z"
   },
   {
    "duration": 31,
    "start_time": "2021-07-29T01:26:30.312Z"
   },
   {
    "duration": 418,
    "start_time": "2021-07-29T01:26:30.345Z"
   },
   {
    "duration": 5,
    "start_time": "2021-07-29T01:26:30.765Z"
   },
   {
    "duration": 21,
    "start_time": "2021-07-29T01:26:30.784Z"
   },
   {
    "duration": 26,
    "start_time": "2021-07-29T01:26:30.807Z"
   },
   {
    "duration": 27,
    "start_time": "2021-07-29T01:26:30.836Z"
   },
   {
    "duration": 959,
    "start_time": "2021-07-29T01:26:30.865Z"
   },
   {
    "duration": 3,
    "start_time": "2021-07-29T01:26:31.826Z"
   },
   {
    "duration": 583,
    "start_time": "2021-07-29T01:26:31.831Z"
   },
   {
    "duration": 10,
    "start_time": "2021-07-29T01:26:40.255Z"
   },
   {
    "duration": 10,
    "start_time": "2021-07-29T01:26:41.198Z"
   },
   {
    "duration": 11,
    "start_time": "2021-07-29T01:26:54.199Z"
   },
   {
    "duration": 10,
    "start_time": "2021-07-29T01:27:01.367Z"
   },
   {
    "duration": 5,
    "start_time": "2021-07-29T01:48:06.542Z"
   },
   {
    "duration": 23,
    "start_time": "2021-07-29T01:48:06.550Z"
   },
   {
    "duration": 19,
    "start_time": "2021-07-29T01:48:06.576Z"
   },
   {
    "duration": 10,
    "start_time": "2021-07-29T01:48:06.597Z"
   },
   {
    "duration": 20,
    "start_time": "2021-07-29T01:48:06.609Z"
   },
   {
    "duration": 14,
    "start_time": "2021-07-29T01:48:06.631Z"
   },
   {
    "duration": 38,
    "start_time": "2021-07-29T01:48:06.648Z"
   },
   {
    "duration": 12,
    "start_time": "2021-07-29T01:48:06.691Z"
   },
   {
    "duration": 30,
    "start_time": "2021-07-29T01:48:06.707Z"
   },
   {
    "duration": 17,
    "start_time": "2021-07-29T01:48:06.740Z"
   },
   {
    "duration": 8,
    "start_time": "2021-07-29T01:48:06.786Z"
   },
   {
    "duration": 11,
    "start_time": "2021-07-29T01:48:06.797Z"
   },
   {
    "duration": 13,
    "start_time": "2021-07-29T01:48:06.810Z"
   },
   {
    "duration": 13,
    "start_time": "2021-07-29T01:48:06.825Z"
   },
   {
    "duration": 47,
    "start_time": "2021-07-29T01:48:06.840Z"
   },
   {
    "duration": 7,
    "start_time": "2021-07-29T01:48:06.890Z"
   },
   {
    "duration": 17,
    "start_time": "2021-07-29T01:48:06.899Z"
   },
   {
    "duration": 13,
    "start_time": "2021-07-29T01:48:06.919Z"
   },
   {
    "duration": 21,
    "start_time": "2021-07-29T01:48:06.934Z"
   },
   {
    "duration": 12,
    "start_time": "2021-07-29T01:48:06.957Z"
   },
   {
    "duration": 23,
    "start_time": "2021-07-29T01:48:06.971Z"
   },
   {
    "duration": 19,
    "start_time": "2021-07-29T01:48:06.996Z"
   },
   {
    "duration": 11,
    "start_time": "2021-07-29T01:48:07.022Z"
   },
   {
    "duration": 19,
    "start_time": "2021-07-29T01:48:07.037Z"
   },
   {
    "duration": 68,
    "start_time": "2021-07-29T01:48:07.059Z"
   },
   {
    "duration": 9,
    "start_time": "2021-07-29T01:48:07.129Z"
   },
   {
    "duration": 14,
    "start_time": "2021-07-29T01:48:07.141Z"
   },
   {
    "duration": 11,
    "start_time": "2021-07-29T01:48:07.157Z"
   },
   {
    "duration": 19,
    "start_time": "2021-07-29T01:48:07.170Z"
   },
   {
    "duration": 7,
    "start_time": "2021-07-29T01:48:07.192Z"
   },
   {
    "duration": 21,
    "start_time": "2021-07-29T01:48:07.202Z"
   },
   {
    "duration": 12,
    "start_time": "2021-07-29T01:48:07.225Z"
   },
   {
    "duration": 11,
    "start_time": "2021-07-29T01:48:07.239Z"
   },
   {
    "duration": 43,
    "start_time": "2021-07-29T01:48:07.253Z"
   },
   {
    "duration": 6,
    "start_time": "2021-07-29T01:48:07.299Z"
   },
   {
    "duration": 13,
    "start_time": "2021-07-29T01:48:07.308Z"
   },
   {
    "duration": 6,
    "start_time": "2021-07-29T01:48:07.323Z"
   },
   {
    "duration": 10,
    "start_time": "2021-07-29T01:48:07.331Z"
   },
   {
    "duration": 48,
    "start_time": "2021-07-29T01:48:07.344Z"
   },
   {
    "duration": 426,
    "start_time": "2021-07-29T01:48:07.394Z"
   },
   {
    "duration": 5,
    "start_time": "2021-07-29T01:48:07.822Z"
   },
   {
    "duration": 8,
    "start_time": "2021-07-29T01:48:07.830Z"
   },
   {
    "duration": 7,
    "start_time": "2021-07-29T01:48:07.841Z"
   },
   {
    "duration": 41,
    "start_time": "2021-07-29T01:48:07.851Z"
   },
   {
    "duration": 855,
    "start_time": "2021-07-29T01:48:07.895Z"
   },
   {
    "duration": 3,
    "start_time": "2021-07-29T01:48:08.752Z"
   },
   {
    "duration": 563,
    "start_time": "2021-07-29T01:48:08.758Z"
   },
   {
    "duration": 10,
    "start_time": "2021-07-29T01:48:09.324Z"
   },
   {
    "duration": 12,
    "start_time": "2021-07-29T01:48:09.337Z"
   },
   {
    "duration": 404,
    "start_time": "2021-07-29T01:48:09.352Z"
   },
   {
    "duration": 27,
    "start_time": "2021-07-29T01:48:09.759Z"
   },
   {
    "duration": 11,
    "start_time": "2021-07-29T01:48:09.789Z"
   },
   {
    "duration": 24,
    "start_time": "2021-07-29T01:48:09.803Z"
   },
   {
    "duration": 747,
    "start_time": "2021-07-29T01:48:09.829Z"
   },
   {
    "duration": 16,
    "start_time": "2021-07-29T01:48:10.587Z"
   },
   {
    "duration": 15,
    "start_time": "2021-07-29T01:48:10.606Z"
   },
   {
    "duration": 4,
    "start_time": "2021-07-29T02:15:29.095Z"
   },
   {
    "duration": 4,
    "start_time": "2021-07-29T02:15:31.570Z"
   },
   {
    "duration": 31,
    "start_time": "2021-07-29T02:15:31.581Z"
   },
   {
    "duration": 22,
    "start_time": "2021-07-29T02:15:31.615Z"
   },
   {
    "duration": 11,
    "start_time": "2021-07-29T02:15:31.641Z"
   },
   {
    "duration": 33,
    "start_time": "2021-07-29T02:15:31.656Z"
   },
   {
    "duration": 25,
    "start_time": "2021-07-29T02:15:31.691Z"
   },
   {
    "duration": 15,
    "start_time": "2021-07-29T02:15:31.718Z"
   },
   {
    "duration": 18,
    "start_time": "2021-07-29T02:15:31.735Z"
   },
   {
    "duration": 52,
    "start_time": "2021-07-29T02:15:31.757Z"
   },
   {
    "duration": 22,
    "start_time": "2021-07-29T02:15:31.812Z"
   },
   {
    "duration": 8,
    "start_time": "2021-07-29T02:15:31.836Z"
   },
   {
    "duration": 26,
    "start_time": "2021-07-29T02:15:31.846Z"
   },
   {
    "duration": 21,
    "start_time": "2021-07-29T02:15:31.875Z"
   },
   {
    "duration": 17,
    "start_time": "2021-07-29T02:15:31.898Z"
   },
   {
    "duration": 33,
    "start_time": "2021-07-29T02:15:31.918Z"
   },
   {
    "duration": 13,
    "start_time": "2021-07-29T02:15:31.953Z"
   },
   {
    "duration": 20,
    "start_time": "2021-07-29T02:15:31.969Z"
   },
   {
    "duration": 25,
    "start_time": "2021-07-29T02:15:31.991Z"
   },
   {
    "duration": 17,
    "start_time": "2021-07-29T02:15:32.019Z"
   },
   {
    "duration": 19,
    "start_time": "2021-07-29T02:15:32.039Z"
   },
   {
    "duration": 16,
    "start_time": "2021-07-29T02:15:32.061Z"
   },
   {
    "duration": 30,
    "start_time": "2021-07-29T02:15:32.079Z"
   },
   {
    "duration": 15,
    "start_time": "2021-07-29T02:15:32.111Z"
   },
   {
    "duration": 21,
    "start_time": "2021-07-29T02:15:32.131Z"
   },
   {
    "duration": 57,
    "start_time": "2021-07-29T02:15:32.155Z"
   },
   {
    "duration": 24,
    "start_time": "2021-07-29T02:15:32.214Z"
   },
   {
    "duration": 12,
    "start_time": "2021-07-29T02:15:32.240Z"
   },
   {
    "duration": 7,
    "start_time": "2021-07-29T02:15:32.254Z"
   },
   {
    "duration": 22,
    "start_time": "2021-07-29T02:15:32.264Z"
   },
   {
    "duration": 12,
    "start_time": "2021-07-29T02:15:32.289Z"
   },
   {
    "duration": 18,
    "start_time": "2021-07-29T02:15:32.304Z"
   },
   {
    "duration": 17,
    "start_time": "2021-07-29T02:15:32.325Z"
   },
   {
    "duration": 9,
    "start_time": "2021-07-29T02:15:32.345Z"
   },
   {
    "duration": 33,
    "start_time": "2021-07-29T02:15:32.356Z"
   },
   {
    "duration": 9,
    "start_time": "2021-07-29T02:15:32.392Z"
   },
   {
    "duration": 19,
    "start_time": "2021-07-29T02:15:32.404Z"
   },
   {
    "duration": 18,
    "start_time": "2021-07-29T02:15:32.425Z"
   },
   {
    "duration": 19,
    "start_time": "2021-07-29T02:15:32.446Z"
   },
   {
    "duration": 23,
    "start_time": "2021-07-29T02:15:32.468Z"
   },
   {
    "duration": 431,
    "start_time": "2021-07-29T02:15:32.493Z"
   },
   {
    "duration": 5,
    "start_time": "2021-07-29T02:15:32.926Z"
   },
   {
    "duration": 12,
    "start_time": "2021-07-29T02:15:32.933Z"
   },
   {
    "duration": 12,
    "start_time": "2021-07-29T02:15:32.947Z"
   },
   {
    "duration": 28,
    "start_time": "2021-07-29T02:15:32.961Z"
   },
   {
    "duration": 972,
    "start_time": "2021-07-29T02:15:32.991Z"
   },
   {
    "duration": 4,
    "start_time": "2021-07-29T02:15:33.966Z"
   },
   {
    "duration": 577,
    "start_time": "2021-07-29T02:15:33.973Z"
   },
   {
    "duration": 10,
    "start_time": "2021-07-29T02:15:34.553Z"
   },
   {
    "duration": 27,
    "start_time": "2021-07-29T02:15:34.565Z"
   },
   {
    "duration": 496,
    "start_time": "2021-07-29T02:15:34.594Z"
   },
   {
    "duration": 9,
    "start_time": "2021-07-29T02:15:35.093Z"
   },
   {
    "duration": 13,
    "start_time": "2021-07-29T02:15:35.105Z"
   },
   {
    "duration": 15,
    "start_time": "2021-07-29T02:15:35.120Z"
   },
   {
    "duration": 871,
    "start_time": "2021-07-29T02:15:35.137Z"
   },
   {
    "duration": 18,
    "start_time": "2021-07-29T02:15:36.010Z"
   },
   {
    "duration": 18,
    "start_time": "2021-07-29T02:15:36.031Z"
   },
   {
    "duration": 5,
    "start_time": "2021-07-29T02:40:11.653Z"
   },
   {
    "duration": 21,
    "start_time": "2021-07-29T02:40:11.660Z"
   },
   {
    "duration": 18,
    "start_time": "2021-07-29T02:40:11.684Z"
   },
   {
    "duration": 10,
    "start_time": "2021-07-29T02:40:11.705Z"
   },
   {
    "duration": 22,
    "start_time": "2021-07-29T02:40:11.717Z"
   },
   {
    "duration": 15,
    "start_time": "2021-07-29T02:40:11.742Z"
   },
   {
    "duration": 31,
    "start_time": "2021-07-29T02:40:11.760Z"
   },
   {
    "duration": 10,
    "start_time": "2021-07-29T02:40:11.795Z"
   },
   {
    "duration": 35,
    "start_time": "2021-07-29T02:40:11.809Z"
   },
   {
    "duration": 41,
    "start_time": "2021-07-29T02:40:11.847Z"
   },
   {
    "duration": 10,
    "start_time": "2021-07-29T02:40:11.891Z"
   },
   {
    "duration": 10,
    "start_time": "2021-07-29T02:40:11.904Z"
   },
   {
    "duration": 10,
    "start_time": "2021-07-29T02:40:11.917Z"
   },
   {
    "duration": 12,
    "start_time": "2021-07-29T02:40:11.929Z"
   },
   {
    "duration": 45,
    "start_time": "2021-07-29T02:40:11.944Z"
   },
   {
    "duration": 9,
    "start_time": "2021-07-29T02:40:11.992Z"
   },
   {
    "duration": 10,
    "start_time": "2021-07-29T02:40:12.003Z"
   },
   {
    "duration": 10,
    "start_time": "2021-07-29T02:40:12.016Z"
   },
   {
    "duration": 14,
    "start_time": "2021-07-29T02:40:12.028Z"
   },
   {
    "duration": 48,
    "start_time": "2021-07-29T02:40:12.044Z"
   },
   {
    "duration": 11,
    "start_time": "2021-07-29T02:40:12.095Z"
   },
   {
    "duration": 14,
    "start_time": "2021-07-29T02:40:12.108Z"
   },
   {
    "duration": 5,
    "start_time": "2021-07-29T02:40:12.129Z"
   },
   {
    "duration": 18,
    "start_time": "2021-07-29T02:40:12.137Z"
   },
   {
    "duration": 51,
    "start_time": "2021-07-29T02:40:12.185Z"
   },
   {
    "duration": 13,
    "start_time": "2021-07-29T02:40:12.238Z"
   },
   {
    "duration": 33,
    "start_time": "2021-07-29T02:40:12.254Z"
   },
   {
    "duration": 7,
    "start_time": "2021-07-29T02:40:12.289Z"
   },
   {
    "duration": 16,
    "start_time": "2021-07-29T02:40:12.299Z"
   },
   {
    "duration": 11,
    "start_time": "2021-07-29T02:40:12.318Z"
   },
   {
    "duration": 22,
    "start_time": "2021-07-29T02:40:12.331Z"
   },
   {
    "duration": 30,
    "start_time": "2021-07-29T02:40:12.355Z"
   },
   {
    "duration": 8,
    "start_time": "2021-07-29T02:40:12.388Z"
   },
   {
    "duration": 16,
    "start_time": "2021-07-29T02:40:12.398Z"
   },
   {
    "duration": 6,
    "start_time": "2021-07-29T02:40:12.416Z"
   },
   {
    "duration": 15,
    "start_time": "2021-07-29T02:40:12.424Z"
   },
   {
    "duration": 44,
    "start_time": "2021-07-29T02:40:12.442Z"
   },
   {
    "duration": 7,
    "start_time": "2021-07-29T02:40:12.489Z"
   },
   {
    "duration": 19,
    "start_time": "2021-07-29T02:40:12.499Z"
   },
   {
    "duration": 429,
    "start_time": "2021-07-29T02:40:12.521Z"
   },
   {
    "duration": 6,
    "start_time": "2021-07-29T02:40:12.953Z"
   },
   {
    "duration": 26,
    "start_time": "2021-07-29T02:40:12.962Z"
   },
   {
    "duration": 8,
    "start_time": "2021-07-29T02:40:12.991Z"
   },
   {
    "duration": 17,
    "start_time": "2021-07-29T02:40:13.002Z"
   },
   {
    "duration": 873,
    "start_time": "2021-07-29T02:40:13.022Z"
   },
   {
    "duration": 4,
    "start_time": "2021-07-29T02:40:13.899Z"
   },
   {
    "duration": 572,
    "start_time": "2021-07-29T02:40:13.905Z"
   },
   {
    "duration": 14,
    "start_time": "2021-07-29T02:40:14.480Z"
   },
   {
    "duration": 20,
    "start_time": "2021-07-29T02:40:14.496Z"
   },
   {
    "duration": 388,
    "start_time": "2021-07-29T02:40:14.519Z"
   },
   {
    "duration": 12,
    "start_time": "2021-07-29T02:40:14.910Z"
   },
   {
    "duration": 11,
    "start_time": "2021-07-29T02:40:14.925Z"
   },
   {
    "duration": 14,
    "start_time": "2021-07-29T02:40:14.939Z"
   },
   {
    "duration": 987,
    "start_time": "2021-07-29T02:40:14.956Z"
   },
   {
    "duration": 40,
    "start_time": "2021-07-29T02:40:15.945Z"
   },
   {
    "duration": 16,
    "start_time": "2021-07-29T02:40:15.988Z"
   },
   {
    "duration": 690,
    "start_time": "2021-07-29T02:59:37.244Z"
   },
   {
    "duration": 712,
    "start_time": "2021-07-29T03:03:38.805Z"
   },
   {
    "duration": 4,
    "start_time": "2021-07-29T03:07:01.941Z"
   },
   {
    "duration": 40,
    "start_time": "2021-07-29T03:07:01.947Z"
   },
   {
    "duration": 40,
    "start_time": "2021-07-29T03:07:01.990Z"
   },
   {
    "duration": 29,
    "start_time": "2021-07-29T03:07:02.032Z"
   },
   {
    "duration": 42,
    "start_time": "2021-07-29T03:07:02.064Z"
   },
   {
    "duration": 39,
    "start_time": "2021-07-29T03:07:02.109Z"
   },
   {
    "duration": 41,
    "start_time": "2021-07-29T03:07:02.151Z"
   },
   {
    "duration": 20,
    "start_time": "2021-07-29T03:07:02.195Z"
   },
   {
    "duration": 51,
    "start_time": "2021-07-29T03:07:02.217Z"
   },
   {
    "duration": 30,
    "start_time": "2021-07-29T03:07:02.271Z"
   },
   {
    "duration": 34,
    "start_time": "2021-07-29T03:07:02.303Z"
   },
   {
    "duration": 50,
    "start_time": "2021-07-29T03:07:02.339Z"
   },
   {
    "duration": 47,
    "start_time": "2021-07-29T03:07:02.391Z"
   },
   {
    "duration": 44,
    "start_time": "2021-07-29T03:07:02.442Z"
   },
   {
    "duration": 33,
    "start_time": "2021-07-29T03:07:02.490Z"
   },
   {
    "duration": 12,
    "start_time": "2021-07-29T03:07:02.526Z"
   },
   {
    "duration": 48,
    "start_time": "2021-07-29T03:07:02.540Z"
   },
   {
    "duration": 25,
    "start_time": "2021-07-29T03:07:02.591Z"
   },
   {
    "duration": 28,
    "start_time": "2021-07-29T03:07:02.619Z"
   },
   {
    "duration": 31,
    "start_time": "2021-07-29T03:07:02.649Z"
   },
   {
    "duration": 31,
    "start_time": "2021-07-29T03:07:02.683Z"
   },
   {
    "duration": 28,
    "start_time": "2021-07-29T03:07:02.717Z"
   },
   {
    "duration": 22,
    "start_time": "2021-07-29T03:07:02.748Z"
   },
   {
    "duration": 32,
    "start_time": "2021-07-29T03:07:02.772Z"
   },
   {
    "duration": 66,
    "start_time": "2021-07-29T03:07:02.806Z"
   },
   {
    "duration": 26,
    "start_time": "2021-07-29T03:07:02.875Z"
   },
   {
    "duration": 23,
    "start_time": "2021-07-29T03:07:02.904Z"
   },
   {
    "duration": 18,
    "start_time": "2021-07-29T03:07:02.929Z"
   },
   {
    "duration": 39,
    "start_time": "2021-07-29T03:07:02.950Z"
   },
   {
    "duration": 24,
    "start_time": "2021-07-29T03:07:02.992Z"
   },
   {
    "duration": 41,
    "start_time": "2021-07-29T03:07:03.018Z"
   },
   {
    "duration": 41,
    "start_time": "2021-07-29T03:07:03.062Z"
   },
   {
    "duration": 25,
    "start_time": "2021-07-29T03:07:03.107Z"
   },
   {
    "duration": 23,
    "start_time": "2021-07-29T03:07:03.135Z"
   },
   {
    "duration": 51,
    "start_time": "2021-07-29T03:07:03.161Z"
   },
   {
    "duration": 31,
    "start_time": "2021-07-29T03:07:03.215Z"
   },
   {
    "duration": 21,
    "start_time": "2021-07-29T03:07:03.249Z"
   },
   {
    "duration": 15,
    "start_time": "2021-07-29T03:07:03.273Z"
   },
   {
    "duration": 37,
    "start_time": "2021-07-29T03:07:03.291Z"
   },
   {
    "duration": 519,
    "start_time": "2021-07-29T03:07:03.331Z"
   },
   {
    "duration": 5,
    "start_time": "2021-07-29T03:07:03.855Z"
   },
   {
    "duration": 22,
    "start_time": "2021-07-29T03:07:03.863Z"
   },
   {
    "duration": 14,
    "start_time": "2021-07-29T03:07:03.887Z"
   },
   {
    "duration": 20,
    "start_time": "2021-07-29T03:07:03.903Z"
   },
   {
    "duration": 871,
    "start_time": "2021-07-29T03:07:03.925Z"
   },
   {
    "duration": 3,
    "start_time": "2021-07-29T03:07:04.799Z"
   },
   {
    "duration": 585,
    "start_time": "2021-07-29T03:07:04.805Z"
   },
   {
    "duration": 10,
    "start_time": "2021-07-29T03:07:05.393Z"
   },
   {
    "duration": 28,
    "start_time": "2021-07-29T03:07:05.405Z"
   },
   {
    "duration": 396,
    "start_time": "2021-07-29T03:07:05.435Z"
   },
   {
    "duration": 10,
    "start_time": "2021-07-29T03:07:05.833Z"
   },
   {
    "duration": 14,
    "start_time": "2021-07-29T03:07:05.845Z"
   },
   {
    "duration": 29,
    "start_time": "2021-07-29T03:07:05.862Z"
   },
   {
    "duration": 779,
    "start_time": "2021-07-29T03:07:05.893Z"
   },
   {
    "duration": 26,
    "start_time": "2021-07-29T03:07:06.674Z"
   },
   {
    "duration": 18,
    "start_time": "2021-07-29T03:07:06.702Z"
   },
   {
    "duration": 93,
    "start_time": "2021-07-29T15:26:16.754Z"
   },
   {
    "duration": 107,
    "start_time": "2021-07-29T15:30:48.442Z"
   }
  ],
  "kernelspec": {
   "display_name": "Python 3",
   "language": "python",
   "name": "python3"
  },
  "language_info": {
   "codemirror_mode": {
    "name": "ipython",
    "version": 3
   },
   "file_extension": ".py",
   "mimetype": "text/x-python",
   "name": "python",
   "nbconvert_exporter": "python",
   "pygments_lexer": "ipython3",
   "version": "3.7.9"
  },
  "toc": {
   "base_numbering": 1,
   "nav_menu": {},
   "number_sections": true,
   "sideBar": true,
   "skip_h1_title": true,
   "title_cell": "Table of Contents",
   "title_sidebar": "Contents",
   "toc_cell": false,
   "toc_position": {
    "height": "calc(100% - 180px)",
    "left": "10px",
    "top": "150px",
    "width": "354.375px"
   },
   "toc_section_display": true,
   "toc_window_display": true
  },
  "varInspector": {
   "cols": {
    "lenName": 16,
    "lenType": 16,
    "lenVar": 40
   },
   "kernels_config": {
    "python": {
     "delete_cmd_postfix": "",
     "delete_cmd_prefix": "del ",
     "library": "var_list.py",
     "varRefreshCmd": "print(var_dic_list())"
    },
    "r": {
     "delete_cmd_postfix": ") ",
     "delete_cmd_prefix": "rm(",
     "library": "var_list.r",
     "varRefreshCmd": "cat(var_dic_list()) "
    }
   },
   "types_to_exclude": [
    "module",
    "function",
    "builtin_function_or_method",
    "instance",
    "_Feature"
   ],
   "window_display": false
  }
 },
 "nbformat": 4,
 "nbformat_minor": 2
}
