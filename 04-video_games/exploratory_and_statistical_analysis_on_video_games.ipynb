{
 "cells": [
  {
   "cell_type": "markdown",
   "metadata": {},
   "source": [
    "# Analysis of Video Games"
   ]
  },
  {
   "cell_type": "markdown",
   "metadata": {},
   "source": [
    "The online store Ice sells video games all over the world. User and expert reviews, genres, platforms (e.g. Xbox or PlayStation), and historical data on game sales are available from open sources. We need to identify patterns that determine whether a game succeeds or not. This will allow us to spot potential big winners and plan advertising campaigns.\n",
    "In front of us is data going back to 2016. Let’s imagine that it’s December 2016 and we’re planning a campaign for 2017.\n",
    "The dataset contains the abbreviation ESRB. The Entertainment Software Rating Board evaluates a game's content and assigns an age rating such as Teen or Mature."
   ]
  },
  {
   "cell_type": "markdown",
   "metadata": {},
   "source": [
    "###### Main Goal of the Analysis:\n",
    "\n",
    "Prediction of the sales, popularity and profitability of the platforms"
   ]
  },
  {
   "cell_type": "markdown",
   "metadata": {},
   "source": [
    "# Table of Contents\n",
    "\n",
    "- 1) [Open the data file and study the general information](#1)\n",
    "<br> <br>\n",
    "- 2) [Prepare the data](#2)\n",
    "<br> <br>\n",
    "    - 2.1) [Replace the column names (make them lowercase)](#2.1)\n",
    "    - 2.2) [Convert the data types](#2.2)\n",
    "    - 2.3) [Missing values](#2.3)\n",
    "    - 2.4) [Total sales for each game](#2.4)\n",
    "<br> <br>\n",
    "- 3) [Analysis](#3)\n",
    "<br> <br>\n",
    "    - 3.1) [Time Periods of Game Releases](#3.1)\n",
    "    - 3.2) [Sales on different platforms](#3.2)\n",
    "    - 3.3) [Take data from certain time period](#3.3) <br>\n",
    "    - 3.4) [Select profitable platforms](#3.4)\n",
    "    - 3.5) [Total Sales for Games broken down by platform](#3.5)\n",
    "    - 3.6) [Reviews affecting Sales on PSV](#3.6)\n",
    "    - 3.7) [Reviews affecting Sales on other platforms](#3.7)\n",
    "    - 3.8) [Genres and Sales](#3.8)\n",
    "<br> <br>\n",
    "- 4) [Create a user profile for each region](#4)\n",
    "<br> <br>\n",
    "    For each region (NA, EU, JP), determine:\n",
    "    - 4.1) [The top five platforms](#4.1)\n",
    "    - 4.2) [The top five genres](#4.2)\n",
    "    - 4.3) [Do ESRB ratings affect sales in individual regions?](#4.3)\n",
    "<br> <br>\n",
    "- 5) [Test of hypotheses](#5)\n",
    "<br> <br>\n",
    "    - 5.1) [Hypothesis 1: Average user ratings of the Xbox One and PC platforms are the same.](#5.1)\n",
    "    - 5.2) [Hypothesis 2: Average user ratings for the Action and Sports genres are different.](#5.2)\n",
    "<br> <br>    \n",
    "- 6) [General Conclusion](#6)"
   ]
  },
  {
   "cell_type": "markdown",
   "metadata": {},
   "source": [
    "<a id=\"1\"></a>"
   ]
  },
  {
   "cell_type": "markdown",
   "metadata": {},
   "source": [
    "## 1) Open the data file and study the general information"
   ]
  },
  {
   "cell_type": "code",
   "execution_count": 1,
   "metadata": {},
   "outputs": [],
   "source": [
    "# import libraries\n",
    "import math\n",
    "import pandas as pd\n",
    "import numpy as np\n",
    "from scipy import stats as st\n",
    "from scipy.stats import levene\n",
    "import matplotlib.pyplot as plt\n",
    "from io import StringIO\n",
    "import sys\n",
    "import warnings\n",
    "if not sys.warnoptions:\n",
    "       warnings.simplefilter(\"ignore\")"
   ]
  },
  {
   "cell_type": "code",
   "execution_count": 2,
   "metadata": {},
   "outputs": [],
   "source": [
    "# read csv file\n",
    "try:\n",
    "    df = pd.read_csv('C:/Users/Herbert/Documents/Practicum100/datasets/integrated_1_games.csv')\n",
    "except:\n",
    "    print(\"Couldn't read csv file.\")"
   ]
  },
  {
   "cell_type": "code",
   "execution_count": 3,
   "metadata": {
    "scrolled": false
   },
   "outputs": [
    {
     "data": {
      "text/html": [
       "<div>\n",
       "<style scoped>\n",
       "    .dataframe tbody tr th:only-of-type {\n",
       "        vertical-align: middle;\n",
       "    }\n",
       "\n",
       "    .dataframe tbody tr th {\n",
       "        vertical-align: top;\n",
       "    }\n",
       "\n",
       "    .dataframe thead th {\n",
       "        text-align: right;\n",
       "    }\n",
       "</style>\n",
       "<table border=\"1\" class=\"dataframe\">\n",
       "  <thead>\n",
       "    <tr style=\"text-align: right;\">\n",
       "      <th></th>\n",
       "      <th>Name</th>\n",
       "      <th>Platform</th>\n",
       "      <th>Year_of_Release</th>\n",
       "      <th>Genre</th>\n",
       "      <th>NA_sales</th>\n",
       "      <th>EU_sales</th>\n",
       "      <th>JP_sales</th>\n",
       "      <th>Other_sales</th>\n",
       "      <th>Critic_Score</th>\n",
       "      <th>User_Score</th>\n",
       "      <th>Rating</th>\n",
       "    </tr>\n",
       "  </thead>\n",
       "  <tbody>\n",
       "    <tr>\n",
       "      <td>0</td>\n",
       "      <td>Wii Sports</td>\n",
       "      <td>Wii</td>\n",
       "      <td>2006.0</td>\n",
       "      <td>Sports</td>\n",
       "      <td>41.36</td>\n",
       "      <td>28.96</td>\n",
       "      <td>3.77</td>\n",
       "      <td>8.45</td>\n",
       "      <td>76.0</td>\n",
       "      <td>8</td>\n",
       "      <td>E</td>\n",
       "    </tr>\n",
       "    <tr>\n",
       "      <td>1</td>\n",
       "      <td>Super Mario Bros.</td>\n",
       "      <td>NES</td>\n",
       "      <td>1985.0</td>\n",
       "      <td>Platform</td>\n",
       "      <td>29.08</td>\n",
       "      <td>3.58</td>\n",
       "      <td>6.81</td>\n",
       "      <td>0.77</td>\n",
       "      <td>NaN</td>\n",
       "      <td>NaN</td>\n",
       "      <td>NaN</td>\n",
       "    </tr>\n",
       "    <tr>\n",
       "      <td>2</td>\n",
       "      <td>Mario Kart Wii</td>\n",
       "      <td>Wii</td>\n",
       "      <td>2008.0</td>\n",
       "      <td>Racing</td>\n",
       "      <td>15.68</td>\n",
       "      <td>12.76</td>\n",
       "      <td>3.79</td>\n",
       "      <td>3.29</td>\n",
       "      <td>82.0</td>\n",
       "      <td>8.3</td>\n",
       "      <td>E</td>\n",
       "    </tr>\n",
       "    <tr>\n",
       "      <td>3</td>\n",
       "      <td>Wii Sports Resort</td>\n",
       "      <td>Wii</td>\n",
       "      <td>2009.0</td>\n",
       "      <td>Sports</td>\n",
       "      <td>15.61</td>\n",
       "      <td>10.93</td>\n",
       "      <td>3.28</td>\n",
       "      <td>2.95</td>\n",
       "      <td>80.0</td>\n",
       "      <td>8</td>\n",
       "      <td>E</td>\n",
       "    </tr>\n",
       "    <tr>\n",
       "      <td>4</td>\n",
       "      <td>Pokemon Red/Pokemon Blue</td>\n",
       "      <td>GB</td>\n",
       "      <td>1996.0</td>\n",
       "      <td>Role-Playing</td>\n",
       "      <td>11.27</td>\n",
       "      <td>8.89</td>\n",
       "      <td>10.22</td>\n",
       "      <td>1.00</td>\n",
       "      <td>NaN</td>\n",
       "      <td>NaN</td>\n",
       "      <td>NaN</td>\n",
       "    </tr>\n",
       "  </tbody>\n",
       "</table>\n",
       "</div>"
      ],
      "text/plain": [
       "                       Name Platform  Year_of_Release         Genre  NA_sales  \\\n",
       "0                Wii Sports      Wii           2006.0        Sports     41.36   \n",
       "1         Super Mario Bros.      NES           1985.0      Platform     29.08   \n",
       "2            Mario Kart Wii      Wii           2008.0        Racing     15.68   \n",
       "3         Wii Sports Resort      Wii           2009.0        Sports     15.61   \n",
       "4  Pokemon Red/Pokemon Blue       GB           1996.0  Role-Playing     11.27   \n",
       "\n",
       "   EU_sales  JP_sales  Other_sales  Critic_Score User_Score Rating  \n",
       "0     28.96      3.77         8.45          76.0          8      E  \n",
       "1      3.58      6.81         0.77           NaN        NaN    NaN  \n",
       "2     12.76      3.79         3.29          82.0        8.3      E  \n",
       "3     10.93      3.28         2.95          80.0          8      E  \n",
       "4      8.89     10.22         1.00           NaN        NaN    NaN  "
      ]
     },
     "execution_count": 3,
     "metadata": {},
     "output_type": "execute_result"
    }
   ],
   "source": [
    "df.head()"
   ]
  },
  {
   "cell_type": "code",
   "execution_count": 4,
   "metadata": {
    "scrolled": true
   },
   "outputs": [
    {
     "name": "stdout",
     "output_type": "stream",
     "text": [
      "<class 'pandas.core.frame.DataFrame'>\n",
      "RangeIndex: 16715 entries, 0 to 16714\n",
      "Data columns (total 11 columns):\n",
      "Name               16713 non-null object\n",
      "Platform           16715 non-null object\n",
      "Year_of_Release    16446 non-null float64\n",
      "Genre              16713 non-null object\n",
      "NA_sales           16715 non-null float64\n",
      "EU_sales           16715 non-null float64\n",
      "JP_sales           16715 non-null float64\n",
      "Other_sales        16715 non-null float64\n",
      "Critic_Score       8137 non-null float64\n",
      "User_Score         10014 non-null object\n",
      "Rating             9949 non-null object\n",
      "dtypes: float64(6), object(5)\n",
      "memory usage: 1.4+ MB\n"
     ]
    }
   ],
   "source": [
    "df.info()"
   ]
  },
  {
   "cell_type": "markdown",
   "metadata": {},
   "source": [
    "### Conclusion"
   ]
  },
  {
   "cell_type": "markdown",
   "metadata": {},
   "source": [
    "We have a table with 16715 rows and 11 columns. <br>\n",
    "Every row stands for a certain game on a certain platform. Besides the game's name, platform and year of release, the row also gives information about the sales in Europe, North America, Japan and the rest regions and its rating in three different kinds (Critic_Score with a maximum of 100, User_Score with a maximum of 10 and age rating in ESRB format). The units of the sales is million US Dollars. <br>\n",
    "The columns Name and Platform only have two missing values. The year of release is missing over 250 times and the three different ratings have many thousands of missing values. <br>\n",
    "The data types don't always make sense like the one from the User_Score."
   ]
  },
  {
   "cell_type": "markdown",
   "metadata": {},
   "source": [
    "<a id=\"2\"></a>"
   ]
  },
  {
   "cell_type": "markdown",
   "metadata": {},
   "source": [
    "## 2) Prepare the data"
   ]
  },
  {
   "cell_type": "markdown",
   "metadata": {},
   "source": [
    "<a id=\"2.1\"></a>"
   ]
  },
  {
   "cell_type": "markdown",
   "metadata": {},
   "source": [
    "### 2.1) Replace the column names (make them lowercase)"
   ]
  },
  {
   "cell_type": "code",
   "execution_count": 5,
   "metadata": {
    "scrolled": true
   },
   "outputs": [
    {
     "data": {
      "text/html": [
       "<div>\n",
       "<style scoped>\n",
       "    .dataframe tbody tr th:only-of-type {\n",
       "        vertical-align: middle;\n",
       "    }\n",
       "\n",
       "    .dataframe tbody tr th {\n",
       "        vertical-align: top;\n",
       "    }\n",
       "\n",
       "    .dataframe thead th {\n",
       "        text-align: right;\n",
       "    }\n",
       "</style>\n",
       "<table border=\"1\" class=\"dataframe\">\n",
       "  <thead>\n",
       "    <tr style=\"text-align: right;\">\n",
       "      <th></th>\n",
       "      <th>name</th>\n",
       "      <th>platform</th>\n",
       "      <th>year</th>\n",
       "      <th>genre</th>\n",
       "      <th>na_sales</th>\n",
       "      <th>eu_sales</th>\n",
       "      <th>jp_sales</th>\n",
       "      <th>other_sales</th>\n",
       "      <th>critic_score</th>\n",
       "      <th>user_score</th>\n",
       "      <th>rating</th>\n",
       "    </tr>\n",
       "  </thead>\n",
       "  <tbody>\n",
       "    <tr>\n",
       "      <td>0</td>\n",
       "      <td>Wii Sports</td>\n",
       "      <td>Wii</td>\n",
       "      <td>2006.0</td>\n",
       "      <td>Sports</td>\n",
       "      <td>41.36</td>\n",
       "      <td>28.96</td>\n",
       "      <td>3.77</td>\n",
       "      <td>8.45</td>\n",
       "      <td>76.0</td>\n",
       "      <td>8</td>\n",
       "      <td>E</td>\n",
       "    </tr>\n",
       "    <tr>\n",
       "      <td>1</td>\n",
       "      <td>Super Mario Bros.</td>\n",
       "      <td>NES</td>\n",
       "      <td>1985.0</td>\n",
       "      <td>Platform</td>\n",
       "      <td>29.08</td>\n",
       "      <td>3.58</td>\n",
       "      <td>6.81</td>\n",
       "      <td>0.77</td>\n",
       "      <td>NaN</td>\n",
       "      <td>NaN</td>\n",
       "      <td>NaN</td>\n",
       "    </tr>\n",
       "    <tr>\n",
       "      <td>2</td>\n",
       "      <td>Mario Kart Wii</td>\n",
       "      <td>Wii</td>\n",
       "      <td>2008.0</td>\n",
       "      <td>Racing</td>\n",
       "      <td>15.68</td>\n",
       "      <td>12.76</td>\n",
       "      <td>3.79</td>\n",
       "      <td>3.29</td>\n",
       "      <td>82.0</td>\n",
       "      <td>8.3</td>\n",
       "      <td>E</td>\n",
       "    </tr>\n",
       "    <tr>\n",
       "      <td>3</td>\n",
       "      <td>Wii Sports Resort</td>\n",
       "      <td>Wii</td>\n",
       "      <td>2009.0</td>\n",
       "      <td>Sports</td>\n",
       "      <td>15.61</td>\n",
       "      <td>10.93</td>\n",
       "      <td>3.28</td>\n",
       "      <td>2.95</td>\n",
       "      <td>80.0</td>\n",
       "      <td>8</td>\n",
       "      <td>E</td>\n",
       "    </tr>\n",
       "    <tr>\n",
       "      <td>4</td>\n",
       "      <td>Pokemon Red/Pokemon Blue</td>\n",
       "      <td>GB</td>\n",
       "      <td>1996.0</td>\n",
       "      <td>Role-Playing</td>\n",
       "      <td>11.27</td>\n",
       "      <td>8.89</td>\n",
       "      <td>10.22</td>\n",
       "      <td>1.00</td>\n",
       "      <td>NaN</td>\n",
       "      <td>NaN</td>\n",
       "      <td>NaN</td>\n",
       "    </tr>\n",
       "  </tbody>\n",
       "</table>\n",
       "</div>"
      ],
      "text/plain": [
       "                       name platform    year         genre  na_sales  \\\n",
       "0                Wii Sports      Wii  2006.0        Sports     41.36   \n",
       "1         Super Mario Bros.      NES  1985.0      Platform     29.08   \n",
       "2            Mario Kart Wii      Wii  2008.0        Racing     15.68   \n",
       "3         Wii Sports Resort      Wii  2009.0        Sports     15.61   \n",
       "4  Pokemon Red/Pokemon Blue       GB  1996.0  Role-Playing     11.27   \n",
       "\n",
       "   eu_sales  jp_sales  other_sales  critic_score user_score rating  \n",
       "0     28.96      3.77         8.45          76.0          8      E  \n",
       "1      3.58      6.81         0.77           NaN        NaN    NaN  \n",
       "2     12.76      3.79         3.29          82.0        8.3      E  \n",
       "3     10.93      3.28         2.95          80.0          8      E  \n",
       "4      8.89     10.22         1.00           NaN        NaN    NaN  "
      ]
     },
     "execution_count": 5,
     "metadata": {},
     "output_type": "execute_result"
    }
   ],
   "source": [
    "df.columns = ['name', 'platform', 'year', 'genre', 'na_sales', 'eu_sales', 'jp_sales', 'other_sales', 'critic_score', \\\n",
    "             'user_score', 'rating']\n",
    "\n",
    "df.head()"
   ]
  },
  {
   "cell_type": "markdown",
   "metadata": {},
   "source": [
    "<a id=\"2.2\"></a>"
   ]
  },
  {
   "cell_type": "markdown",
   "metadata": {},
   "source": [
    "### 2.2) Convert the data types"
   ]
  },
  {
   "cell_type": "code",
   "execution_count": 6,
   "metadata": {
    "scrolled": true
   },
   "outputs": [
    {
     "name": "stdout",
     "output_type": "stream",
     "text": [
      "<class 'pandas.core.frame.DataFrame'>\n",
      "RangeIndex: 16715 entries, 0 to 16714\n",
      "Data columns (total 11 columns):\n",
      "name            16713 non-null object\n",
      "platform        16715 non-null object\n",
      "year            16446 non-null float64\n",
      "genre           16713 non-null object\n",
      "na_sales        16715 non-null float64\n",
      "eu_sales        16715 non-null float64\n",
      "jp_sales        16715 non-null float64\n",
      "other_sales     16715 non-null float64\n",
      "critic_score    8137 non-null float64\n",
      "user_score      10014 non-null object\n",
      "rating          9949 non-null object\n",
      "dtypes: float64(6), object(5)\n",
      "memory usage: 1.4+ MB\n"
     ]
    }
   ],
   "source": [
    "df.info()"
   ]
  },
  {
   "cell_type": "code",
   "execution_count": 7,
   "metadata": {},
   "outputs": [
    {
     "name": "stdout",
     "output_type": "stream",
     "text": [
      "0\n"
     ]
    }
   ],
   "source": [
    "# check for duplicates\n",
    "\n",
    "print(df.duplicated().sum())"
   ]
  },
  {
   "cell_type": "code",
   "execution_count": 8,
   "metadata": {},
   "outputs": [],
   "source": [
    "# function for checking how many integers in a column are\n",
    "\n",
    "def test_if_int(column):\n",
    "    number_of_not_integers = 0\n",
    "    for number in column:\n",
    "        is_integer = number.is_integer()\n",
    "        if is_integer == False and number == number:\n",
    "            number_of_not_integers += 1\n",
    "    return number_of_not_integers"
   ]
  },
  {
   "cell_type": "code",
   "execution_count": 9,
   "metadata": {},
   "outputs": [
    {
     "name": "stdout",
     "output_type": "stream",
     "text": [
      "Number of rows with 'year' not as integer: 0\n"
     ]
    }
   ],
   "source": [
    "print(\"Number of rows with 'year' not as integer:\", test_if_int(df['year']))\n",
    "\n",
    "# They are all integers, so let's transform them into int data type\n",
    "try:\n",
    "    df['year'] = df['year'].astype('Int64')\n",
    "except:\n",
    "    print(\"Couldn't tranform 'year' to int.\")"
   ]
  },
  {
   "cell_type": "code",
   "execution_count": 10,
   "metadata": {},
   "outputs": [
    {
     "name": "stdout",
     "output_type": "stream",
     "text": [
      "Number of rows with 'critic_score' not as integer: 0\n"
     ]
    }
   ],
   "source": [
    "# Check if critic scores are always integers\n",
    "# use that function\n",
    "\n",
    "print(\"Number of rows with 'critic_score' not as integer:\", test_if_int(df['critic_score']))"
   ]
  },
  {
   "cell_type": "code",
   "execution_count": 11,
   "metadata": {},
   "outputs": [],
   "source": [
    "# Transform critic scores to float data type\n",
    "\n",
    "try:\n",
    "    df['critic_score'] = df['critic_score'].astype('float')\n",
    "except:\n",
    "    print(\"Couldn't transform critic scores into float data type.\")"
   ]
  },
  {
   "cell_type": "code",
   "execution_count": 12,
   "metadata": {},
   "outputs": [
    {
     "name": "stdout",
     "output_type": "stream",
     "text": [
      "Number of rows with 'tbd' as user score: 2424\n",
      "\n"
     ]
    }
   ],
   "source": [
    "# While converting the user score objects to floats, I got the ValueError: \"could not convert string to float: 'tbd'\"\n",
    "\n",
    "\n",
    "# Let's see how many of them we have\n",
    "print(\"Number of rows with 'tbd' as user score:\", len(df.query('user_score == \"tbd\"')))\n",
    "print()\n",
    "\n",
    "\n",
    "# These values don't give information about the user score; they behave like missing values\n",
    "# I will replace them with NaN values\n",
    "# transform the user scores from objects to float numbers\n",
    "\n",
    "for i in df.index:\n",
    "    if df.loc[i, 'user_score'] == 'tbd':\n",
    "        df.loc[i, 'user_score'] = math.nan\n",
    "\n",
    "try:\n",
    "    df['user_score'] = df['user_score'].astype('float')\n",
    "except:\n",
    "    print(\"Couldn't transform user scores into float data type.\")"
   ]
  },
  {
   "cell_type": "code",
   "execution_count": 13,
   "metadata": {},
   "outputs": [],
   "source": [
    "# Tranform Sales into float data type\n",
    "try:\n",
    "    df['eu_sales'] = df['eu_sales'].astype('float')\n",
    "except:\n",
    "    print(\"Couldn't transform eu sales into float.\")\n",
    "try:\n",
    "    df['na_sales'] = df['na_sales'].astype('float')\n",
    "except:\n",
    "    print(\"Couldn't transform na sales into float.\")\n",
    "try:\n",
    "    df['jp_sales'] = df['jp_sales'].astype('float')\n",
    "except:\n",
    "    print(\"Couldn't transform jp sales into float.\")\n",
    "try:\n",
    "    df['other_sales'] = df['other_sales'].astype('float')\n",
    "except:\n",
    "    print(\"Couldn't transform other sales into float.\")"
   ]
  },
  {
   "cell_type": "code",
   "execution_count": 14,
   "metadata": {},
   "outputs": [
    {
     "name": "stdout",
     "output_type": "stream",
     "text": [
      "<class 'pandas.core.frame.DataFrame'>\n",
      "RangeIndex: 16715 entries, 0 to 16714\n",
      "Data columns (total 11 columns):\n",
      "name            16713 non-null object\n",
      "platform        16715 non-null object\n",
      "year            16446 non-null Int64\n",
      "genre           16713 non-null object\n",
      "na_sales        16715 non-null float64\n",
      "eu_sales        16715 non-null float64\n",
      "jp_sales        16715 non-null float64\n",
      "other_sales     16715 non-null float64\n",
      "critic_score    8137 non-null float64\n",
      "user_score      7590 non-null float64\n",
      "rating          9949 non-null object\n",
      "dtypes: Int64(1), float64(6), object(4)\n",
      "memory usage: 1.4+ MB\n"
     ]
    }
   ],
   "source": [
    "df.info()"
   ]
  },
  {
   "cell_type": "markdown",
   "metadata": {},
   "source": [
    "#### Conclusion"
   ]
  },
  {
   "cell_type": "markdown",
   "metadata": {},
   "source": [
    "The years of release have been transformed into integer data type since half years don't make sense here. <br>\n",
    "The critic scores are always integers, so I transformed this column also to integer data type. <br>\n",
    "The user scores are objects but should be numbers up to 10. While I transformed the strings into floats, I got the helping ValueError that 'tbd' couldn't be transformed. Since 'tbd' means 'to be determined' these values are like missing values, so I changed them to missing values. After that, I could transform this column into float data type. <br> \n",
    "The transformations between million US Dollars and thousand US Dollars can easily be done in the analysis with the factor of 1000. Since there were no missing values and since we didn't lose any small number by rounding the sales by three digits, the transformations to int data types of the sales were successful (there couldn't be any sales found that are not integers after the multiplication by the factor 1000). <br>\n",
    "The reason for being able to do these transformations is that transformations including the translation of all values by a certain value and including the multiplication of all values by a certain value are linear, so correlation coefficients won't change (properties of linearity)."
   ]
  },
  {
   "cell_type": "markdown",
   "metadata": {},
   "source": [
    "<a id=\"2.3\"></a>"
   ]
  },
  {
   "cell_type": "markdown",
   "metadata": {},
   "source": [
    "### 2.3) Missing values"
   ]
  },
  {
   "cell_type": "markdown",
   "metadata": {},
   "source": [
    "#### Column 'name'"
   ]
  },
  {
   "cell_type": "code",
   "execution_count": 15,
   "metadata": {
    "scrolled": false
   },
   "outputs": [
    {
     "name": "stdout",
     "output_type": "stream",
     "text": [
      "      name platform  year genre  na_sales  eu_sales  jp_sales  other_sales  \\\n",
      "659    NaN      GEN  1993   NaN      1.78      0.53      0.00         0.08   \n",
      "14244  NaN      GEN  1993   NaN      0.00      0.00      0.03         0.00   \n",
      "\n",
      "       critic_score  user_score rating  \n",
      "659             NaN         NaN    NaN  \n",
      "14244           NaN         NaN    NaN  \n",
      "\n",
      "These rows are also the two rows with missing genres.\n",
      "In generell, these two rows have many missing information.\n",
      "Since the quote of rows with missing names and genres is very small (2/16715) I delete them.\n",
      "\n",
      "<class 'pandas.core.frame.DataFrame'>\n",
      "RangeIndex: 16713 entries, 0 to 16712\n",
      "Data columns (total 11 columns):\n",
      "name            16713 non-null object\n",
      "platform        16713 non-null object\n",
      "year            16444 non-null Int64\n",
      "genre           16713 non-null object\n",
      "na_sales        16713 non-null float64\n",
      "eu_sales        16713 non-null float64\n",
      "jp_sales        16713 non-null float64\n",
      "other_sales     16713 non-null float64\n",
      "critic_score    8137 non-null float64\n",
      "user_score      7590 non-null float64\n",
      "rating          9949 non-null object\n",
      "dtypes: Int64(1), float64(6), object(4)\n",
      "memory usage: 1.4+ MB\n"
     ]
    }
   ],
   "source": [
    "# rows with missing names\n",
    "print(df[df['name'].isna()])\n",
    "print()\n",
    "\n",
    "print(\"These rows are also the two rows with missing genres.\")\n",
    "print(\"In generell, these two rows have many missing information.\")\n",
    "print(\"Since the quote of rows with missing names and genres is very small (2/16715) I delete them.\")\n",
    "print()\n",
    "\n",
    "# delete these two rows\n",
    "df = df.drop([659, 14244])\n",
    "\n",
    "# reset index\n",
    "df = df.reset_index(drop=True)\n",
    "\n",
    "df.info()"
   ]
  },
  {
   "cell_type": "markdown",
   "metadata": {},
   "source": [
    "#### Column 'year'"
   ]
  },
  {
   "cell_type": "code",
   "execution_count": 16,
   "metadata": {},
   "outputs": [
    {
     "name": "stdout",
     "output_type": "stream",
     "text": [
      "I want to see how the missing values for years of release are distributed on certain platforms.\n"
     ]
    }
   ],
   "source": [
    "print(\"I want to see how the missing values for years of release are distributed on certain platforms.\")\n",
    "\n",
    "# create pivot table for counting the total number of games for every platform\n",
    "pivot_year = df.pivot_table(index='platform', values='name', aggfunc ='count')\n",
    "pivot_year.columns = ['number_of_games']\n",
    "\n",
    "# add columns in order to see how big the quote of missing years of release is\n",
    "for pf in pivot_year.index:\n",
    "    pivot_year.loc[pf, 'counts_missing_years'] = len(df[(df['platform'] == pf)&(df['year'].isna())])\n",
    "    pivot_year.loc[pf, 'percentage_missing_years'] = 100*len(df[(df['platform'] == pf)&(df['year'].isna())]) / \\\n",
    "                                                    len(df[df['platform'] == pf])\n",
    "\n",
    "# sort table by quote column in order to see the platforms with the biggest missing quotes\n",
    "pivot_year = pivot_year.sort_values('percentage_missing_years', ascending=False)\n",
    "    \n",
    "# For a better view on the table\n",
    "pivot_year['counts_missing_years'] = pivot_year['counts_missing_years'].apply(\"{:.0f}\".format)\n",
    "pivot_year['percentage_missing_years'] = pivot_year['percentage_missing_years'].apply(\"{:.1f}\".format)"
   ]
  },
  {
   "cell_type": "code",
   "execution_count": 17,
   "metadata": {
    "scrolled": false
   },
   "outputs": [
    {
     "data": {
      "text/html": [
       "<div>\n",
       "<style scoped>\n",
       "    .dataframe tbody tr th:only-of-type {\n",
       "        vertical-align: middle;\n",
       "    }\n",
       "\n",
       "    .dataframe tbody tr th {\n",
       "        vertical-align: top;\n",
       "    }\n",
       "\n",
       "    .dataframe thead th {\n",
       "        text-align: right;\n",
       "    }\n",
       "</style>\n",
       "<table border=\"1\" class=\"dataframe\">\n",
       "  <thead>\n",
       "    <tr style=\"text-align: right;\">\n",
       "      <th></th>\n",
       "      <th>number_of_games</th>\n",
       "      <th>counts_missing_years</th>\n",
       "      <th>percentage_missing_years</th>\n",
       "    </tr>\n",
       "    <tr>\n",
       "      <th>platform</th>\n",
       "      <th></th>\n",
       "      <th></th>\n",
       "      <th></th>\n",
       "    </tr>\n",
       "  </thead>\n",
       "  <tbody>\n",
       "    <tr>\n",
       "      <td>2600</td>\n",
       "      <td>133</td>\n",
       "      <td>17</td>\n",
       "      <td>12.8</td>\n",
       "    </tr>\n",
       "    <tr>\n",
       "      <td>Wii</td>\n",
       "      <td>1320</td>\n",
       "      <td>34</td>\n",
       "      <td>2.6</td>\n",
       "    </tr>\n",
       "    <tr>\n",
       "      <td>XB</td>\n",
       "      <td>824</td>\n",
       "      <td>21</td>\n",
       "      <td>2.5</td>\n",
       "    </tr>\n",
       "    <tr>\n",
       "      <td>GC</td>\n",
       "      <td>556</td>\n",
       "      <td>14</td>\n",
       "      <td>2.5</td>\n",
       "    </tr>\n",
       "    <tr>\n",
       "      <td>X360</td>\n",
       "      <td>1262</td>\n",
       "      <td>30</td>\n",
       "      <td>2.4</td>\n",
       "    </tr>\n",
       "    <tr>\n",
       "      <td>PS3</td>\n",
       "      <td>1331</td>\n",
       "      <td>25</td>\n",
       "      <td>1.9</td>\n",
       "    </tr>\n",
       "    <tr>\n",
       "      <td>PC</td>\n",
       "      <td>974</td>\n",
       "      <td>17</td>\n",
       "      <td>1.7</td>\n",
       "    </tr>\n",
       "    <tr>\n",
       "      <td>PS2</td>\n",
       "      <td>2161</td>\n",
       "      <td>34</td>\n",
       "      <td>1.6</td>\n",
       "    </tr>\n",
       "    <tr>\n",
       "      <td>3DS</td>\n",
       "      <td>520</td>\n",
       "      <td>8</td>\n",
       "      <td>1.5</td>\n",
       "    </tr>\n",
       "    <tr>\n",
       "      <td>DS</td>\n",
       "      <td>2151</td>\n",
       "      <td>30</td>\n",
       "      <td>1.4</td>\n",
       "    </tr>\n",
       "    <tr>\n",
       "      <td>GBA</td>\n",
       "      <td>822</td>\n",
       "      <td>11</td>\n",
       "      <td>1.3</td>\n",
       "    </tr>\n",
       "    <tr>\n",
       "      <td>PSP</td>\n",
       "      <td>1209</td>\n",
       "      <td>16</td>\n",
       "      <td>1.3</td>\n",
       "    </tr>\n",
       "    <tr>\n",
       "      <td>GB</td>\n",
       "      <td>98</td>\n",
       "      <td>1</td>\n",
       "      <td>1.0</td>\n",
       "    </tr>\n",
       "    <tr>\n",
       "      <td>N64</td>\n",
       "      <td>319</td>\n",
       "      <td>3</td>\n",
       "      <td>0.9</td>\n",
       "    </tr>\n",
       "    <tr>\n",
       "      <td>PS</td>\n",
       "      <td>1197</td>\n",
       "      <td>7</td>\n",
       "      <td>0.6</td>\n",
       "    </tr>\n",
       "    <tr>\n",
       "      <td>PSV</td>\n",
       "      <td>430</td>\n",
       "      <td>1</td>\n",
       "      <td>0.2</td>\n",
       "    </tr>\n",
       "    <tr>\n",
       "      <td>3DO</td>\n",
       "      <td>3</td>\n",
       "      <td>0</td>\n",
       "      <td>0.0</td>\n",
       "    </tr>\n",
       "    <tr>\n",
       "      <td>PCFX</td>\n",
       "      <td>1</td>\n",
       "      <td>0</td>\n",
       "      <td>0.0</td>\n",
       "    </tr>\n",
       "    <tr>\n",
       "      <td>NG</td>\n",
       "      <td>12</td>\n",
       "      <td>0</td>\n",
       "      <td>0.0</td>\n",
       "    </tr>\n",
       "    <tr>\n",
       "      <td>PS4</td>\n",
       "      <td>392</td>\n",
       "      <td>0</td>\n",
       "      <td>0.0</td>\n",
       "    </tr>\n",
       "    <tr>\n",
       "      <td>NES</td>\n",
       "      <td>98</td>\n",
       "      <td>0</td>\n",
       "      <td>0.0</td>\n",
       "    </tr>\n",
       "    <tr>\n",
       "      <td>SAT</td>\n",
       "      <td>173</td>\n",
       "      <td>0</td>\n",
       "      <td>0.0</td>\n",
       "    </tr>\n",
       "    <tr>\n",
       "      <td>SCD</td>\n",
       "      <td>6</td>\n",
       "      <td>0</td>\n",
       "      <td>0.0</td>\n",
       "    </tr>\n",
       "    <tr>\n",
       "      <td>SNES</td>\n",
       "      <td>239</td>\n",
       "      <td>0</td>\n",
       "      <td>0.0</td>\n",
       "    </tr>\n",
       "    <tr>\n",
       "      <td>TG16</td>\n",
       "      <td>2</td>\n",
       "      <td>0</td>\n",
       "      <td>0.0</td>\n",
       "    </tr>\n",
       "    <tr>\n",
       "      <td>WS</td>\n",
       "      <td>6</td>\n",
       "      <td>0</td>\n",
       "      <td>0.0</td>\n",
       "    </tr>\n",
       "    <tr>\n",
       "      <td>GG</td>\n",
       "      <td>1</td>\n",
       "      <td>0</td>\n",
       "      <td>0.0</td>\n",
       "    </tr>\n",
       "    <tr>\n",
       "      <td>WiiU</td>\n",
       "      <td>147</td>\n",
       "      <td>0</td>\n",
       "      <td>0.0</td>\n",
       "    </tr>\n",
       "    <tr>\n",
       "      <td>GEN</td>\n",
       "      <td>27</td>\n",
       "      <td>0</td>\n",
       "      <td>0.0</td>\n",
       "    </tr>\n",
       "    <tr>\n",
       "      <td>DC</td>\n",
       "      <td>52</td>\n",
       "      <td>0</td>\n",
       "      <td>0.0</td>\n",
       "    </tr>\n",
       "    <tr>\n",
       "      <td>XOne</td>\n",
       "      <td>247</td>\n",
       "      <td>0</td>\n",
       "      <td>0.0</td>\n",
       "    </tr>\n",
       "  </tbody>\n",
       "</table>\n",
       "</div>"
      ],
      "text/plain": [
       "          number_of_games counts_missing_years percentage_missing_years\n",
       "platform                                                               \n",
       "2600                  133                   17                     12.8\n",
       "Wii                  1320                   34                      2.6\n",
       "XB                    824                   21                      2.5\n",
       "GC                    556                   14                      2.5\n",
       "X360                 1262                   30                      2.4\n",
       "PS3                  1331                   25                      1.9\n",
       "PC                    974                   17                      1.7\n",
       "PS2                  2161                   34                      1.6\n",
       "3DS                   520                    8                      1.5\n",
       "DS                   2151                   30                      1.4\n",
       "GBA                   822                   11                      1.3\n",
       "PSP                  1209                   16                      1.3\n",
       "GB                     98                    1                      1.0\n",
       "N64                   319                    3                      0.9\n",
       "PS                   1197                    7                      0.6\n",
       "PSV                   430                    1                      0.2\n",
       "3DO                     3                    0                      0.0\n",
       "PCFX                    1                    0                      0.0\n",
       "NG                     12                    0                      0.0\n",
       "PS4                   392                    0                      0.0\n",
       "NES                    98                    0                      0.0\n",
       "SAT                   173                    0                      0.0\n",
       "SCD                     6                    0                      0.0\n",
       "SNES                  239                    0                      0.0\n",
       "TG16                    2                    0                      0.0\n",
       "WS                      6                    0                      0.0\n",
       "GG                      1                    0                      0.0\n",
       "WiiU                  147                    0                      0.0\n",
       "GEN                    27                    0                      0.0\n",
       "DC                     52                    0                      0.0\n",
       "XOne                  247                    0                      0.0"
      ]
     },
     "execution_count": 17,
     "metadata": {},
     "output_type": "execute_result"
    }
   ],
   "source": [
    "pivot_year"
   ]
  },
  {
   "cell_type": "code",
   "execution_count": 18,
   "metadata": {
    "scrolled": true
   },
   "outputs": [
    {
     "name": "stdout",
     "output_type": "stream",
     "text": [
      "Let's see the maximum and the minimum for years at the platform with the highest missing quote: '2600'.\n",
      "\n",
      "Highest year for '2600' platform: 1989\n",
      "Lowest year for '2600' platform: 1980\n"
     ]
    }
   ],
   "source": [
    "print(\"Let's see the maximum and the minimum for years at the platform with the highest missing quote: '2600'.\")\n",
    "print()\n",
    "print(\"Highest year for '2600' platform:\", df[df['platform'] == '2600']['year'].max())\n",
    "print(\"Lowest year for '2600' platform:\", df[df['platform'] == '2600']['year'].min())"
   ]
  },
  {
   "cell_type": "markdown",
   "metadata": {},
   "source": [
    "##### Conclusion"
   ]
  },
  {
   "cell_type": "markdown",
   "metadata": {},
   "source": [
    "The column 'name' had two missing game names with anyway many missing informations. So, these two rows have been deleted. <br>\n",
    "I observed that overall the missing values for the column 'year' are distributed over many platforms; the biggest quote (12.8%) for missing values is given for the platform '2600' which only has 133 games in total in our table. The second biggest quote is much smaller (2.6%) and the platform '2600' is a platform from the 80s'. Since our goal is a prediction for 2017 I decided to not fill in missing values for 'years'."
   ]
  },
  {
   "cell_type": "markdown",
   "metadata": {},
   "source": [
    "#### Column 'rating'"
   ]
  },
  {
   "cell_type": "code",
   "execution_count": 19,
   "metadata": {
    "scrolled": false
   },
   "outputs": [
    {
     "name": "stdout",
     "output_type": "stream",
     "text": [
      "Length of df with given ratings: 9949\n",
      "\n",
      "Length of df with ratings regarding the possible ratings from wikipedia: 9938\n",
      "\n",
      "There is a difference of 11 rows.\n",
      "\n",
      "                                                  name platform  year  \\\n",
      "656                                     Theme Hospital       PC  1997   \n",
      "902                                 PaRappa The Rapper       PS  1996   \n",
      "4296                         Nickelodeon Team Umizoomi       DS  2011   \n",
      "5033          Sesame Street: Elmo's A-to-Zoo Adventure      Wii  2010   \n",
      "6045         Sesame Street: Cookie's Counting Carnival      Wii  2010   \n",
      "6763   Dora the Explorer: Journey to the Purple Planet      PS2  2005   \n",
      "7585           Ni Hao, Kai-lan: New Year's Celebration       DS  2009   \n",
      "9959   Dora the Explorer: Journey to the Purple Planet       GC  2005   \n",
      "13064        Sesame Street: Cookie's Counting Carnival       PC  2010   \n",
      "13454         Sesame Street: Elmo's A-to-Zoo Adventure       PC  2010   \n",
      "16679                                          Worms 2       PC  1997   \n",
      "\n",
      "           genre  na_sales  eu_sales  jp_sales  other_sales  critic_score  \\\n",
      "656     Strategy      2.30      0.10      0.00         0.00           NaN   \n",
      "902         Misc      0.26      0.16      1.46         0.03          92.0   \n",
      "4296      Action      0.42      0.00      0.00         0.03           NaN   \n",
      "5033        Misc      0.35      0.00      0.00         0.02           NaN   \n",
      "6045        Misc      0.27      0.00      0.00         0.02           NaN   \n",
      "6763   Adventure      0.12      0.09      0.00         0.03           NaN   \n",
      "7585        Misc      0.19      0.00      0.00         0.01           NaN   \n",
      "9959   Adventure      0.09      0.02      0.00         0.00           NaN   \n",
      "13064       Misc      0.05      0.00      0.00         0.00           NaN   \n",
      "13454       Misc      0.04      0.00      0.00         0.00           NaN   \n",
      "16679   Strategy      0.00      0.01      0.00         0.00           NaN   \n",
      "\n",
      "       user_score rating  \n",
      "656           9.0    K-A  \n",
      "902           7.4    K-A  \n",
      "4296          NaN     EC  \n",
      "5033          NaN     EC  \n",
      "6045          NaN     EC  \n",
      "6763          7.0     EC  \n",
      "7585          NaN     EC  \n",
      "9959          NaN     EC  \n",
      "13064         NaN     EC  \n",
      "13454         NaN     EC  \n",
      "16679         8.1    K-A  \n",
      "\n",
      "These three 'K - A' ratings can't be dedicated to possible ratings, so these ratings will be changed to missing values.\n",
      "\n",
      "Let's check if these three ratings were replaced successfully:\n",
      "\n",
      "                     name platform  year     genre  na_sales  eu_sales  \\\n",
      "656        Theme Hospital       PC  1997  Strategy      2.30      0.10   \n",
      "902    PaRappa The Rapper       PS  1996      Misc      0.26      0.16   \n",
      "16679             Worms 2       PC  1997  Strategy      0.00      0.01   \n",
      "\n",
      "       jp_sales  other_sales  critic_score  user_score rating  \n",
      "656        0.00         0.00           NaN         9.0    NaN  \n",
      "902        1.46         0.03          92.0         7.4    NaN  \n",
      "16679      0.00         0.00           NaN         8.1    NaN  \n"
     ]
    }
   ],
   "source": [
    "##### check for other rating values\n",
    "\n",
    "# list of ratings regarding the possible ratings from wikipedia:\n",
    "ratings = ['eC', 'E', 'E10+', 'T', 'M', 'AO', 'RP']\n",
    "\n",
    "\n",
    "# let's compare the number of ratings\n",
    "print(\"Length of df with given ratings:\", len(df) - len(df[df['rating'].isna()]))\n",
    "print()\n",
    "print(\"Length of df with ratings regarding the possible ratings from wikipedia:\", len(df.query('rating == @ratings')))\n",
    "print()\n",
    "print(\"There is a difference of\", abs(len(df) - len(df[df['rating'].isna()]) - len(df.query('rating == @ratings'))), \"rows.\")\n",
    "print()\n",
    "\n",
    "\n",
    "# Show these four different rows\n",
    "print(df.query('rating != @ratings and rating == rating'))\n",
    "print()\n",
    "print(\"These three 'K - A' ratings can't be dedicated to possible ratings, so these ratings will be changed to missing values.\")\n",
    "print()\n",
    "\n",
    "\n",
    "# fill three rows with NaN\n",
    "df.loc[656, 'rating'] = math.nan\n",
    "df.loc[902, 'rating'] = math.nan\n",
    "df.loc[16679, 'rating'] = math.nan\n",
    "\n",
    "# change 'EC' to 'eC'\n",
    "for i in df.index:\n",
    "    if df.loc[i, 'rating'] == 'EC':\n",
    "        df.loc[i, 'rating'] = 'eC'\n",
    "\n",
    "# check if these three ratings were replaced successfully\n",
    "print(\"Let's check if these three ratings were replaced successfully:\")\n",
    "print()\n",
    "print(df.loc[[656, 902, 16679]])"
   ]
  },
  {
   "cell_type": "markdown",
   "metadata": {},
   "source": [
    "##### Check for patterns"
   ]
  },
  {
   "cell_type": "code",
   "execution_count": 20,
   "metadata": {},
   "outputs": [
    {
     "name": "stdout",
     "output_type": "stream",
     "text": [
      "Value counts for rated games in df:\n",
      "\n",
      "E       3990\n",
      "T       2961\n",
      "M       1563\n",
      "E10+    1420\n",
      "eC         8\n",
      "RP         3\n",
      "AO         1\n",
      "Name: rating, dtype: int64\n"
     ]
    }
   ],
   "source": [
    "print(\"Value counts for rated games in df:\")\n",
    "print()\n",
    "print(df['rating'].value_counts())"
   ]
  },
  {
   "cell_type": "code",
   "execution_count": 21,
   "metadata": {},
   "outputs": [
    {
     "name": "stdout",
     "output_type": "stream",
     "text": [
      "Relation between quote of missing ratings and platforms:\n"
     ]
    }
   ],
   "source": [
    "print(\"Relation between quote of missing ratings and platforms:\")\n",
    "\n",
    "# create pivot table for counting the total number of games for every platform\n",
    "pivot_rating = df.pivot_table(index='platform', values='name', aggfunc ='count')\n",
    "pivot_rating.columns = ['number_of_games']\n",
    "\n",
    "# add columns in order to see how big the quote of missing ratings is\n",
    "# also add columns with the years of newest and oldest games released\n",
    "for pf in pivot_rating.index:\n",
    "    pivot_rating.loc[pf, 'counts_missing_ratings'] = len(df[(df['platform'] == pf)&(df['rating'].isna())])\n",
    "    pivot_rating.loc[pf, 'percentage_missing_ratings'] = 100*len(df[(df['platform'] == pf)&(df['rating'].isna())]) / \\\n",
    "                                                    len(df[df['platform'] == pf])\n",
    "    pivot_rating.loc[pf, 'minimum_year'] = df[df['platform'] == pf]['year'].min()\n",
    "    pivot_rating.loc[pf, 'maximum_year'] = df[df['platform'] == pf]['year'].max()\n",
    "\n",
    "# sort table by year column in order to see the platforms with the newest games\n",
    "pivot_rating = pivot_rating.sort_values('maximum_year', ascending=False)\n",
    "    \n",
    "# For a better view on the table\n",
    "pivot_rating['counts_missing_ratings'] = pivot_rating['counts_missing_ratings'].apply(\"{:.0f}\".format)\n",
    "pivot_rating['percentage_missing_ratings'] = pivot_rating['percentage_missing_ratings'].apply(\"{:.0f}\".format)\n",
    "pivot_rating['minimum_year'] = pivot_rating['minimum_year'].apply(\"{:.0f}\".format)\n",
    "pivot_rating['maximum_year'] = pivot_rating['maximum_year'].apply(\"{:.0f}\".format)"
   ]
  },
  {
   "cell_type": "code",
   "execution_count": 22,
   "metadata": {
    "scrolled": false
   },
   "outputs": [
    {
     "data": {
      "text/html": [
       "<div>\n",
       "<style scoped>\n",
       "    .dataframe tbody tr th:only-of-type {\n",
       "        vertical-align: middle;\n",
       "    }\n",
       "\n",
       "    .dataframe tbody tr th {\n",
       "        vertical-align: top;\n",
       "    }\n",
       "\n",
       "    .dataframe thead th {\n",
       "        text-align: right;\n",
       "    }\n",
       "</style>\n",
       "<table border=\"1\" class=\"dataframe\">\n",
       "  <thead>\n",
       "    <tr style=\"text-align: right;\">\n",
       "      <th></th>\n",
       "      <th>number_of_games</th>\n",
       "      <th>counts_missing_ratings</th>\n",
       "      <th>percentage_missing_ratings</th>\n",
       "      <th>minimum_year</th>\n",
       "      <th>maximum_year</th>\n",
       "    </tr>\n",
       "    <tr>\n",
       "      <th>platform</th>\n",
       "      <th></th>\n",
       "      <th></th>\n",
       "      <th></th>\n",
       "      <th></th>\n",
       "      <th></th>\n",
       "    </tr>\n",
       "  </thead>\n",
       "  <tbody>\n",
       "    <tr>\n",
       "      <td>XOne</td>\n",
       "      <td>247</td>\n",
       "      <td>61</td>\n",
       "      <td>25</td>\n",
       "      <td>2013</td>\n",
       "      <td>2016</td>\n",
       "    </tr>\n",
       "    <tr>\n",
       "      <td>3DS</td>\n",
       "      <td>520</td>\n",
       "      <td>292</td>\n",
       "      <td>56</td>\n",
       "      <td>2011</td>\n",
       "      <td>2016</td>\n",
       "    </tr>\n",
       "    <tr>\n",
       "      <td>X360</td>\n",
       "      <td>1262</td>\n",
       "      <td>210</td>\n",
       "      <td>17</td>\n",
       "      <td>2005</td>\n",
       "      <td>2016</td>\n",
       "    </tr>\n",
       "    <tr>\n",
       "      <td>WiiU</td>\n",
       "      <td>147</td>\n",
       "      <td>42</td>\n",
       "      <td>29</td>\n",
       "      <td>2012</td>\n",
       "      <td>2016</td>\n",
       "    </tr>\n",
       "    <tr>\n",
       "      <td>Wii</td>\n",
       "      <td>1320</td>\n",
       "      <td>318</td>\n",
       "      <td>24</td>\n",
       "      <td>2006</td>\n",
       "      <td>2016</td>\n",
       "    </tr>\n",
       "    <tr>\n",
       "      <td>PSV</td>\n",
       "      <td>430</td>\n",
       "      <td>279</td>\n",
       "      <td>65</td>\n",
       "      <td>2011</td>\n",
       "      <td>2016</td>\n",
       "    </tr>\n",
       "    <tr>\n",
       "      <td>PC</td>\n",
       "      <td>974</td>\n",
       "      <td>202</td>\n",
       "      <td>21</td>\n",
       "      <td>1985</td>\n",
       "      <td>2016</td>\n",
       "    </tr>\n",
       "    <tr>\n",
       "      <td>PS4</td>\n",
       "      <td>392</td>\n",
       "      <td>137</td>\n",
       "      <td>35</td>\n",
       "      <td>2013</td>\n",
       "      <td>2016</td>\n",
       "    </tr>\n",
       "    <tr>\n",
       "      <td>PS3</td>\n",
       "      <td>1331</td>\n",
       "      <td>379</td>\n",
       "      <td>28</td>\n",
       "      <td>2006</td>\n",
       "      <td>2016</td>\n",
       "    </tr>\n",
       "    <tr>\n",
       "      <td>PSP</td>\n",
       "      <td>1209</td>\n",
       "      <td>665</td>\n",
       "      <td>55</td>\n",
       "      <td>2004</td>\n",
       "      <td>2015</td>\n",
       "    </tr>\n",
       "    <tr>\n",
       "      <td>DS</td>\n",
       "      <td>2151</td>\n",
       "      <td>878</td>\n",
       "      <td>41</td>\n",
       "      <td>1985</td>\n",
       "      <td>2013</td>\n",
       "    </tr>\n",
       "    <tr>\n",
       "      <td>PS2</td>\n",
       "      <td>2161</td>\n",
       "      <td>680</td>\n",
       "      <td>31</td>\n",
       "      <td>2000</td>\n",
       "      <td>2011</td>\n",
       "    </tr>\n",
       "    <tr>\n",
       "      <td>DC</td>\n",
       "      <td>52</td>\n",
       "      <td>38</td>\n",
       "      <td>73</td>\n",
       "      <td>1998</td>\n",
       "      <td>2008</td>\n",
       "    </tr>\n",
       "    <tr>\n",
       "      <td>XB</td>\n",
       "      <td>824</td>\n",
       "      <td>91</td>\n",
       "      <td>11</td>\n",
       "      <td>2000</td>\n",
       "      <td>2008</td>\n",
       "    </tr>\n",
       "    <tr>\n",
       "      <td>GBA</td>\n",
       "      <td>822</td>\n",
       "      <td>300</td>\n",
       "      <td>36</td>\n",
       "      <td>2000</td>\n",
       "      <td>2007</td>\n",
       "    </tr>\n",
       "    <tr>\n",
       "      <td>GC</td>\n",
       "      <td>556</td>\n",
       "      <td>87</td>\n",
       "      <td>16</td>\n",
       "      <td>2001</td>\n",
       "      <td>2007</td>\n",
       "    </tr>\n",
       "    <tr>\n",
       "      <td>PS</td>\n",
       "      <td>1197</td>\n",
       "      <td>990</td>\n",
       "      <td>83</td>\n",
       "      <td>1994</td>\n",
       "      <td>2003</td>\n",
       "    </tr>\n",
       "    <tr>\n",
       "      <td>N64</td>\n",
       "      <td>319</td>\n",
       "      <td>319</td>\n",
       "      <td>100</td>\n",
       "      <td>1996</td>\n",
       "      <td>2002</td>\n",
       "    </tr>\n",
       "    <tr>\n",
       "      <td>WS</td>\n",
       "      <td>6</td>\n",
       "      <td>6</td>\n",
       "      <td>100</td>\n",
       "      <td>1999</td>\n",
       "      <td>2001</td>\n",
       "    </tr>\n",
       "    <tr>\n",
       "      <td>GB</td>\n",
       "      <td>98</td>\n",
       "      <td>98</td>\n",
       "      <td>100</td>\n",
       "      <td>1988</td>\n",
       "      <td>2001</td>\n",
       "    </tr>\n",
       "    <tr>\n",
       "      <td>SAT</td>\n",
       "      <td>173</td>\n",
       "      <td>173</td>\n",
       "      <td>100</td>\n",
       "      <td>1994</td>\n",
       "      <td>1999</td>\n",
       "    </tr>\n",
       "    <tr>\n",
       "      <td>SNES</td>\n",
       "      <td>239</td>\n",
       "      <td>239</td>\n",
       "      <td>100</td>\n",
       "      <td>1990</td>\n",
       "      <td>1999</td>\n",
       "    </tr>\n",
       "    <tr>\n",
       "      <td>PCFX</td>\n",
       "      <td>1</td>\n",
       "      <td>1</td>\n",
       "      <td>100</td>\n",
       "      <td>1996</td>\n",
       "      <td>1996</td>\n",
       "    </tr>\n",
       "    <tr>\n",
       "      <td>NG</td>\n",
       "      <td>12</td>\n",
       "      <td>12</td>\n",
       "      <td>100</td>\n",
       "      <td>1993</td>\n",
       "      <td>1996</td>\n",
       "    </tr>\n",
       "    <tr>\n",
       "      <td>3DO</td>\n",
       "      <td>3</td>\n",
       "      <td>3</td>\n",
       "      <td>100</td>\n",
       "      <td>1994</td>\n",
       "      <td>1995</td>\n",
       "    </tr>\n",
       "    <tr>\n",
       "      <td>TG16</td>\n",
       "      <td>2</td>\n",
       "      <td>2</td>\n",
       "      <td>100</td>\n",
       "      <td>1995</td>\n",
       "      <td>1995</td>\n",
       "    </tr>\n",
       "    <tr>\n",
       "      <td>NES</td>\n",
       "      <td>98</td>\n",
       "      <td>98</td>\n",
       "      <td>100</td>\n",
       "      <td>1983</td>\n",
       "      <td>1994</td>\n",
       "    </tr>\n",
       "    <tr>\n",
       "      <td>SCD</td>\n",
       "      <td>6</td>\n",
       "      <td>6</td>\n",
       "      <td>100</td>\n",
       "      <td>1993</td>\n",
       "      <td>1994</td>\n",
       "    </tr>\n",
       "    <tr>\n",
       "      <td>GEN</td>\n",
       "      <td>27</td>\n",
       "      <td>27</td>\n",
       "      <td>100</td>\n",
       "      <td>1990</td>\n",
       "      <td>1994</td>\n",
       "    </tr>\n",
       "    <tr>\n",
       "      <td>GG</td>\n",
       "      <td>1</td>\n",
       "      <td>1</td>\n",
       "      <td>100</td>\n",
       "      <td>1992</td>\n",
       "      <td>1992</td>\n",
       "    </tr>\n",
       "    <tr>\n",
       "      <td>2600</td>\n",
       "      <td>133</td>\n",
       "      <td>133</td>\n",
       "      <td>100</td>\n",
       "      <td>1980</td>\n",
       "      <td>1989</td>\n",
       "    </tr>\n",
       "  </tbody>\n",
       "</table>\n",
       "</div>"
      ],
      "text/plain": [
       "          number_of_games counts_missing_ratings percentage_missing_ratings  \\\n",
       "platform                                                                      \n",
       "XOne                  247                     61                         25   \n",
       "3DS                   520                    292                         56   \n",
       "X360                 1262                    210                         17   \n",
       "WiiU                  147                     42                         29   \n",
       "Wii                  1320                    318                         24   \n",
       "PSV                   430                    279                         65   \n",
       "PC                    974                    202                         21   \n",
       "PS4                   392                    137                         35   \n",
       "PS3                  1331                    379                         28   \n",
       "PSP                  1209                    665                         55   \n",
       "DS                   2151                    878                         41   \n",
       "PS2                  2161                    680                         31   \n",
       "DC                     52                     38                         73   \n",
       "XB                    824                     91                         11   \n",
       "GBA                   822                    300                         36   \n",
       "GC                    556                     87                         16   \n",
       "PS                   1197                    990                         83   \n",
       "N64                   319                    319                        100   \n",
       "WS                      6                      6                        100   \n",
       "GB                     98                     98                        100   \n",
       "SAT                   173                    173                        100   \n",
       "SNES                  239                    239                        100   \n",
       "PCFX                    1                      1                        100   \n",
       "NG                     12                     12                        100   \n",
       "3DO                     3                      3                        100   \n",
       "TG16                    2                      2                        100   \n",
       "NES                    98                     98                        100   \n",
       "SCD                     6                      6                        100   \n",
       "GEN                    27                     27                        100   \n",
       "GG                      1                      1                        100   \n",
       "2600                  133                    133                        100   \n",
       "\n",
       "         minimum_year maximum_year  \n",
       "platform                            \n",
       "XOne             2013         2016  \n",
       "3DS              2011         2016  \n",
       "X360             2005         2016  \n",
       "WiiU             2012         2016  \n",
       "Wii              2006         2016  \n",
       "PSV              2011         2016  \n",
       "PC               1985         2016  \n",
       "PS4              2013         2016  \n",
       "PS3              2006         2016  \n",
       "PSP              2004         2015  \n",
       "DS               1985         2013  \n",
       "PS2              2000         2011  \n",
       "DC               1998         2008  \n",
       "XB               2000         2008  \n",
       "GBA              2000         2007  \n",
       "GC               2001         2007  \n",
       "PS               1994         2003  \n",
       "N64              1996         2002  \n",
       "WS               1999         2001  \n",
       "GB               1988         2001  \n",
       "SAT              1994         1999  \n",
       "SNES             1990         1999  \n",
       "PCFX             1996         1996  \n",
       "NG               1993         1996  \n",
       "3DO              1994         1995  \n",
       "TG16             1995         1995  \n",
       "NES              1983         1994  \n",
       "SCD              1993         1994  \n",
       "GEN              1990         1994  \n",
       "GG               1992         1992  \n",
       "2600             1980         1989  "
      ]
     },
     "execution_count": 22,
     "metadata": {},
     "output_type": "execute_result"
    }
   ],
   "source": [
    "pivot_rating"
   ]
  },
  {
   "cell_type": "code",
   "execution_count": 23,
   "metadata": {},
   "outputs": [
    {
     "name": "stdout",
     "output_type": "stream",
     "text": [
      "Value counts after replacing missing ratings with 'undefined':\n",
      "\n",
      "undefined    6767\n",
      "E            3990\n",
      "T            2961\n",
      "M            1563\n",
      "E10+         1420\n",
      "eC              8\n",
      "RP              3\n",
      "AO              1\n",
      "Name: rating, dtype: int64\n"
     ]
    }
   ],
   "source": [
    "# We replace the missing ratings with the indicator 'undefined'\n",
    "\n",
    "for i in df.index:\n",
    "    if df.loc[i, 'rating'] != df.loc[i, 'rating']:\n",
    "        df.loc[i, 'rating'] = 'undefined'\n",
    "        \n",
    "print(\"Value counts after replacing missing ratings with 'undefined':\")\n",
    "print()\n",
    "print(df['rating'].value_counts())"
   ]
  },
  {
   "cell_type": "markdown",
   "metadata": {},
   "source": [
    "##### Conclusion"
   ]
  },
  {
   "cell_type": "markdown",
   "metadata": {},
   "source": [
    "For a prediction, games that had their last game released before 2011 I consider to be not relevant. This means in the table we look at the platforms PS2 and above. In that section of the table, the biggest missing quotes are for 'PSV' (65%), '3DS' (56%) and for 'PSP' (55%). These platforms have 430, 520 and 1209 games in the table. The value counts for ratings show that the ratings 'AO', 'RP' and 'eC' have very low counts in the whole table. I consider the number of rated games for every of the three platforms to be enough for being representative since there are only 4 different ratings with many thousands of counts in the whole table. In the table above, we can see that old platforms had no ESRB ratings; that doesn't matter since we will concentrate on current platforms for our analysis. The missing ratings have been replaced with the indicator 'undefined'."
   ]
  },
  {
   "cell_type": "markdown",
   "metadata": {},
   "source": [
    "#### Column 'critic_score'"
   ]
  },
  {
   "cell_type": "code",
   "execution_count": 24,
   "metadata": {},
   "outputs": [
    {
     "name": "stdout",
     "output_type": "stream",
     "text": [
      "Range of critic scores: 13.0 - 98.0\n"
     ]
    }
   ],
   "source": [
    "print(\"Range of critic scores:\", df['critic_score'].min(), \"-\", df['critic_score'].max())"
   ]
  },
  {
   "cell_type": "markdown",
   "metadata": {},
   "source": [
    "##### Check for patterns"
   ]
  },
  {
   "cell_type": "code",
   "execution_count": 25,
   "metadata": {},
   "outputs": [
    {
     "name": "stdout",
     "output_type": "stream",
     "text": [
      "Relation between quote of missing critic scores and platforms:\n"
     ]
    }
   ],
   "source": [
    "print(\"Relation between quote of missing critic scores and platforms:\")\n",
    "# create pivot table for counting the total number of games for every platform\n",
    "pivot_critic = df.pivot_table(index='platform', values='name', aggfunc ='count')\n",
    "pivot_critic.columns = ['number_of_games']\n",
    "\n",
    "# add columns in order to see how big the quote of missing ratings is\n",
    "for pf in pivot_critic.index:\n",
    "    pivot_critic.loc[pf, 'counts_missing_scores'] = len(df[(df['platform'] == pf)&(df['critic_score'].isna())])\n",
    "    pivot_critic.loc[pf, 'percentage_missing_scores'] = 100*len(df[(df['platform'] == pf)&(df['critic_score'].isna())]) / \\\n",
    "                                                    len(df[df['platform'] == pf])\n",
    "    pivot_critic.loc[pf, 'minimum_year'] = df[df['platform'] == pf]['year'].min()\n",
    "    pivot_critic.loc[pf, 'maximum_year'] = df[df['platform'] == pf]['year'].max()\n",
    "\n",
    "# sort table by year column in order to see the platforms with the newest games\n",
    "pivot_critic = pivot_critic.sort_values('maximum_year', ascending=False)\n",
    "    \n",
    "# For a better view on the table\n",
    "pivot_critic['counts_missing_scores'] = pivot_critic['counts_missing_scores'].apply(\"{:.0f}\".format)\n",
    "pivot_critic['percentage_missing_scores'] = pivot_critic['percentage_missing_scores'].apply(\"{:.0f}\".format)\n",
    "pivot_critic['minimum_year'] = pivot_critic['minimum_year'].apply(\"{:.0f}\".format)\n",
    "pivot_critic['maximum_year'] = pivot_critic['maximum_year'].apply(\"{:.0f}\".format)"
   ]
  },
  {
   "cell_type": "code",
   "execution_count": 26,
   "metadata": {},
   "outputs": [
    {
     "data": {
      "text/html": [
       "<div>\n",
       "<style scoped>\n",
       "    .dataframe tbody tr th:only-of-type {\n",
       "        vertical-align: middle;\n",
       "    }\n",
       "\n",
       "    .dataframe tbody tr th {\n",
       "        vertical-align: top;\n",
       "    }\n",
       "\n",
       "    .dataframe thead th {\n",
       "        text-align: right;\n",
       "    }\n",
       "</style>\n",
       "<table border=\"1\" class=\"dataframe\">\n",
       "  <thead>\n",
       "    <tr style=\"text-align: right;\">\n",
       "      <th></th>\n",
       "      <th>number_of_games</th>\n",
       "      <th>counts_missing_scores</th>\n",
       "      <th>percentage_missing_scores</th>\n",
       "      <th>minimum_year</th>\n",
       "      <th>maximum_year</th>\n",
       "    </tr>\n",
       "    <tr>\n",
       "      <th>platform</th>\n",
       "      <th></th>\n",
       "      <th></th>\n",
       "      <th></th>\n",
       "      <th></th>\n",
       "      <th></th>\n",
       "    </tr>\n",
       "  </thead>\n",
       "  <tbody>\n",
       "    <tr>\n",
       "      <td>XOne</td>\n",
       "      <td>247</td>\n",
       "      <td>78</td>\n",
       "      <td>32</td>\n",
       "      <td>2013</td>\n",
       "      <td>2016</td>\n",
       "    </tr>\n",
       "    <tr>\n",
       "      <td>3DS</td>\n",
       "      <td>520</td>\n",
       "      <td>352</td>\n",
       "      <td>68</td>\n",
       "      <td>2011</td>\n",
       "      <td>2016</td>\n",
       "    </tr>\n",
       "    <tr>\n",
       "      <td>X360</td>\n",
       "      <td>1262</td>\n",
       "      <td>346</td>\n",
       "      <td>27</td>\n",
       "      <td>2005</td>\n",
       "      <td>2016</td>\n",
       "    </tr>\n",
       "    <tr>\n",
       "      <td>WiiU</td>\n",
       "      <td>147</td>\n",
       "      <td>57</td>\n",
       "      <td>39</td>\n",
       "      <td>2012</td>\n",
       "      <td>2016</td>\n",
       "    </tr>\n",
       "    <tr>\n",
       "      <td>Wii</td>\n",
       "      <td>1320</td>\n",
       "      <td>735</td>\n",
       "      <td>56</td>\n",
       "      <td>2006</td>\n",
       "      <td>2016</td>\n",
       "    </tr>\n",
       "    <tr>\n",
       "      <td>PSV</td>\n",
       "      <td>430</td>\n",
       "      <td>310</td>\n",
       "      <td>72</td>\n",
       "      <td>2011</td>\n",
       "      <td>2016</td>\n",
       "    </tr>\n",
       "    <tr>\n",
       "      <td>PC</td>\n",
       "      <td>974</td>\n",
       "      <td>259</td>\n",
       "      <td>27</td>\n",
       "      <td>1985</td>\n",
       "      <td>2016</td>\n",
       "    </tr>\n",
       "    <tr>\n",
       "      <td>PS4</td>\n",
       "      <td>392</td>\n",
       "      <td>140</td>\n",
       "      <td>36</td>\n",
       "      <td>2013</td>\n",
       "      <td>2016</td>\n",
       "    </tr>\n",
       "    <tr>\n",
       "      <td>PS3</td>\n",
       "      <td>1331</td>\n",
       "      <td>511</td>\n",
       "      <td>38</td>\n",
       "      <td>2006</td>\n",
       "      <td>2016</td>\n",
       "    </tr>\n",
       "    <tr>\n",
       "      <td>PSP</td>\n",
       "      <td>1209</td>\n",
       "      <td>747</td>\n",
       "      <td>62</td>\n",
       "      <td>2004</td>\n",
       "      <td>2015</td>\n",
       "    </tr>\n",
       "    <tr>\n",
       "      <td>DS</td>\n",
       "      <td>2151</td>\n",
       "      <td>1434</td>\n",
       "      <td>67</td>\n",
       "      <td>1985</td>\n",
       "      <td>2013</td>\n",
       "    </tr>\n",
       "    <tr>\n",
       "      <td>PS2</td>\n",
       "      <td>2161</td>\n",
       "      <td>863</td>\n",
       "      <td>40</td>\n",
       "      <td>2000</td>\n",
       "      <td>2011</td>\n",
       "    </tr>\n",
       "    <tr>\n",
       "      <td>DC</td>\n",
       "      <td>52</td>\n",
       "      <td>38</td>\n",
       "      <td>73</td>\n",
       "      <td>1998</td>\n",
       "      <td>2008</td>\n",
       "    </tr>\n",
       "    <tr>\n",
       "      <td>XB</td>\n",
       "      <td>824</td>\n",
       "      <td>99</td>\n",
       "      <td>12</td>\n",
       "      <td>2000</td>\n",
       "      <td>2008</td>\n",
       "    </tr>\n",
       "    <tr>\n",
       "      <td>GBA</td>\n",
       "      <td>822</td>\n",
       "      <td>384</td>\n",
       "      <td>47</td>\n",
       "      <td>2000</td>\n",
       "      <td>2007</td>\n",
       "    </tr>\n",
       "    <tr>\n",
       "      <td>GC</td>\n",
       "      <td>556</td>\n",
       "      <td>108</td>\n",
       "      <td>19</td>\n",
       "      <td>2001</td>\n",
       "      <td>2007</td>\n",
       "    </tr>\n",
       "    <tr>\n",
       "      <td>PS</td>\n",
       "      <td>1197</td>\n",
       "      <td>997</td>\n",
       "      <td>83</td>\n",
       "      <td>1994</td>\n",
       "      <td>2003</td>\n",
       "    </tr>\n",
       "    <tr>\n",
       "      <td>N64</td>\n",
       "      <td>319</td>\n",
       "      <td>319</td>\n",
       "      <td>100</td>\n",
       "      <td>1996</td>\n",
       "      <td>2002</td>\n",
       "    </tr>\n",
       "    <tr>\n",
       "      <td>WS</td>\n",
       "      <td>6</td>\n",
       "      <td>6</td>\n",
       "      <td>100</td>\n",
       "      <td>1999</td>\n",
       "      <td>2001</td>\n",
       "    </tr>\n",
       "    <tr>\n",
       "      <td>GB</td>\n",
       "      <td>98</td>\n",
       "      <td>98</td>\n",
       "      <td>100</td>\n",
       "      <td>1988</td>\n",
       "      <td>2001</td>\n",
       "    </tr>\n",
       "    <tr>\n",
       "      <td>SAT</td>\n",
       "      <td>173</td>\n",
       "      <td>173</td>\n",
       "      <td>100</td>\n",
       "      <td>1994</td>\n",
       "      <td>1999</td>\n",
       "    </tr>\n",
       "    <tr>\n",
       "      <td>SNES</td>\n",
       "      <td>239</td>\n",
       "      <td>239</td>\n",
       "      <td>100</td>\n",
       "      <td>1990</td>\n",
       "      <td>1999</td>\n",
       "    </tr>\n",
       "    <tr>\n",
       "      <td>PCFX</td>\n",
       "      <td>1</td>\n",
       "      <td>1</td>\n",
       "      <td>100</td>\n",
       "      <td>1996</td>\n",
       "      <td>1996</td>\n",
       "    </tr>\n",
       "    <tr>\n",
       "      <td>NG</td>\n",
       "      <td>12</td>\n",
       "      <td>12</td>\n",
       "      <td>100</td>\n",
       "      <td>1993</td>\n",
       "      <td>1996</td>\n",
       "    </tr>\n",
       "    <tr>\n",
       "      <td>3DO</td>\n",
       "      <td>3</td>\n",
       "      <td>3</td>\n",
       "      <td>100</td>\n",
       "      <td>1994</td>\n",
       "      <td>1995</td>\n",
       "    </tr>\n",
       "    <tr>\n",
       "      <td>TG16</td>\n",
       "      <td>2</td>\n",
       "      <td>2</td>\n",
       "      <td>100</td>\n",
       "      <td>1995</td>\n",
       "      <td>1995</td>\n",
       "    </tr>\n",
       "    <tr>\n",
       "      <td>NES</td>\n",
       "      <td>98</td>\n",
       "      <td>98</td>\n",
       "      <td>100</td>\n",
       "      <td>1983</td>\n",
       "      <td>1994</td>\n",
       "    </tr>\n",
       "    <tr>\n",
       "      <td>SCD</td>\n",
       "      <td>6</td>\n",
       "      <td>6</td>\n",
       "      <td>100</td>\n",
       "      <td>1993</td>\n",
       "      <td>1994</td>\n",
       "    </tr>\n",
       "    <tr>\n",
       "      <td>GEN</td>\n",
       "      <td>27</td>\n",
       "      <td>27</td>\n",
       "      <td>100</td>\n",
       "      <td>1990</td>\n",
       "      <td>1994</td>\n",
       "    </tr>\n",
       "    <tr>\n",
       "      <td>GG</td>\n",
       "      <td>1</td>\n",
       "      <td>1</td>\n",
       "      <td>100</td>\n",
       "      <td>1992</td>\n",
       "      <td>1992</td>\n",
       "    </tr>\n",
       "    <tr>\n",
       "      <td>2600</td>\n",
       "      <td>133</td>\n",
       "      <td>133</td>\n",
       "      <td>100</td>\n",
       "      <td>1980</td>\n",
       "      <td>1989</td>\n",
       "    </tr>\n",
       "  </tbody>\n",
       "</table>\n",
       "</div>"
      ],
      "text/plain": [
       "          number_of_games counts_missing_scores percentage_missing_scores  \\\n",
       "platform                                                                    \n",
       "XOne                  247                    78                        32   \n",
       "3DS                   520                   352                        68   \n",
       "X360                 1262                   346                        27   \n",
       "WiiU                  147                    57                        39   \n",
       "Wii                  1320                   735                        56   \n",
       "PSV                   430                   310                        72   \n",
       "PC                    974                   259                        27   \n",
       "PS4                   392                   140                        36   \n",
       "PS3                  1331                   511                        38   \n",
       "PSP                  1209                   747                        62   \n",
       "DS                   2151                  1434                        67   \n",
       "PS2                  2161                   863                        40   \n",
       "DC                     52                    38                        73   \n",
       "XB                    824                    99                        12   \n",
       "GBA                   822                   384                        47   \n",
       "GC                    556                   108                        19   \n",
       "PS                   1197                   997                        83   \n",
       "N64                   319                   319                       100   \n",
       "WS                      6                     6                       100   \n",
       "GB                     98                    98                       100   \n",
       "SAT                   173                   173                       100   \n",
       "SNES                  239                   239                       100   \n",
       "PCFX                    1                     1                       100   \n",
       "NG                     12                    12                       100   \n",
       "3DO                     3                     3                       100   \n",
       "TG16                    2                     2                       100   \n",
       "NES                    98                    98                       100   \n",
       "SCD                     6                     6                       100   \n",
       "GEN                    27                    27                       100   \n",
       "GG                      1                     1                       100   \n",
       "2600                  133                   133                       100   \n",
       "\n",
       "         minimum_year maximum_year  \n",
       "platform                            \n",
       "XOne             2013         2016  \n",
       "3DS              2011         2016  \n",
       "X360             2005         2016  \n",
       "WiiU             2012         2016  \n",
       "Wii              2006         2016  \n",
       "PSV              2011         2016  \n",
       "PC               1985         2016  \n",
       "PS4              2013         2016  \n",
       "PS3              2006         2016  \n",
       "PSP              2004         2015  \n",
       "DS               1985         2013  \n",
       "PS2              2000         2011  \n",
       "DC               1998         2008  \n",
       "XB               2000         2008  \n",
       "GBA              2000         2007  \n",
       "GC               2001         2007  \n",
       "PS               1994         2003  \n",
       "N64              1996         2002  \n",
       "WS               1999         2001  \n",
       "GB               1988         2001  \n",
       "SAT              1994         1999  \n",
       "SNES             1990         1999  \n",
       "PCFX             1996         1996  \n",
       "NG               1993         1996  \n",
       "3DO              1994         1995  \n",
       "TG16             1995         1995  \n",
       "NES              1983         1994  \n",
       "SCD              1993         1994  \n",
       "GEN              1990         1994  \n",
       "GG               1992         1992  \n",
       "2600             1980         1989  "
      ]
     },
     "execution_count": 26,
     "metadata": {},
     "output_type": "execute_result"
    }
   ],
   "source": [
    "pivot_critic"
   ]
  },
  {
   "cell_type": "markdown",
   "metadata": {},
   "source": [
    "##### Conclusion"
   ]
  },
  {
   "cell_type": "markdown",
   "metadata": {},
   "source": [
    "Here we have similar observations as we had when finding patterns for ratings: <br>\n",
    "The old platforms have no critic scores and for the newer ones, there are some platforms with high missing quotes (72% for PSV), but there are still enough scored games for the newer platforms to be representative."
   ]
  },
  {
   "cell_type": "markdown",
   "metadata": {},
   "source": [
    "#### Column 'user_score'"
   ]
  },
  {
   "cell_type": "code",
   "execution_count": 27,
   "metadata": {},
   "outputs": [
    {
     "name": "stdout",
     "output_type": "stream",
     "text": [
      "Range of user scores: 0.0 - 9.7\n"
     ]
    }
   ],
   "source": [
    "print(\"Range of user scores:\", df['user_score'].min(), \"-\", df['user_score'].max())"
   ]
  },
  {
   "cell_type": "markdown",
   "metadata": {},
   "source": [
    "##### Check for patterns"
   ]
  },
  {
   "cell_type": "code",
   "execution_count": 28,
   "metadata": {},
   "outputs": [
    {
     "name": "stdout",
     "output_type": "stream",
     "text": [
      "Relation between quote of missing user scores and platforms:\n"
     ]
    }
   ],
   "source": [
    "print(\"Relation between quote of missing user scores and platforms:\")\n",
    "# create pivot table for counting the total number of games for every platform\n",
    "pivot_user = df.pivot_table(index='platform', values='name', aggfunc ='count')\n",
    "pivot_user.columns = ['number_of_games']\n",
    "\n",
    "# add columns in order to see how big the quote of missing ratings is\n",
    "for pf in pivot_user.index:\n",
    "    pivot_user.loc[pf, 'counts_missing_scores'] = len(df[(df['platform'] == pf)&(df['user_score'].isna())])\n",
    "    pivot_user.loc[pf, 'percentage_missing_scores'] = 100*len(df[(df['platform'] == pf)&(df['user_score'].isna())]) / \\\n",
    "                                                    len(df[df['platform'] == pf])\n",
    "    pivot_user.loc[pf, 'minimum_year'] = df[df['platform'] == pf]['year'].min()\n",
    "    pivot_user.loc[pf, 'maximum_year'] = df[df['platform'] == pf]['year'].max()\n",
    "\n",
    "# sort table by year column in order to see the platforms with the newest games\n",
    "pivot_user = pivot_user.sort_values('maximum_year', ascending=False)\n",
    "    \n",
    "# For a better view on the table\n",
    "pivot_user['counts_missing_scores'] = pivot_user['counts_missing_scores'].apply(\"{:.0f}\".format)\n",
    "pivot_user['percentage_missing_scores'] = pivot_user['percentage_missing_scores'].apply(\"{:.0f}\".format)\n",
    "pivot_user['minimum_year'] = pivot_user['minimum_year'].apply(\"{:.0f}\".format)\n",
    "pivot_user['maximum_year'] = pivot_user['maximum_year'].apply(\"{:.0f}\".format)"
   ]
  },
  {
   "cell_type": "code",
   "execution_count": 29,
   "metadata": {},
   "outputs": [
    {
     "data": {
      "text/html": [
       "<div>\n",
       "<style scoped>\n",
       "    .dataframe tbody tr th:only-of-type {\n",
       "        vertical-align: middle;\n",
       "    }\n",
       "\n",
       "    .dataframe tbody tr th {\n",
       "        vertical-align: top;\n",
       "    }\n",
       "\n",
       "    .dataframe thead th {\n",
       "        text-align: right;\n",
       "    }\n",
       "</style>\n",
       "<table border=\"1\" class=\"dataframe\">\n",
       "  <thead>\n",
       "    <tr style=\"text-align: right;\">\n",
       "      <th></th>\n",
       "      <th>number_of_games</th>\n",
       "      <th>counts_missing_scores</th>\n",
       "      <th>percentage_missing_scores</th>\n",
       "      <th>minimum_year</th>\n",
       "      <th>maximum_year</th>\n",
       "    </tr>\n",
       "    <tr>\n",
       "      <th>platform</th>\n",
       "      <th></th>\n",
       "      <th></th>\n",
       "      <th></th>\n",
       "      <th></th>\n",
       "      <th></th>\n",
       "    </tr>\n",
       "  </thead>\n",
       "  <tbody>\n",
       "    <tr>\n",
       "      <td>XOne</td>\n",
       "      <td>247</td>\n",
       "      <td>65</td>\n",
       "      <td>26</td>\n",
       "      <td>2013</td>\n",
       "      <td>2016</td>\n",
       "    </tr>\n",
       "    <tr>\n",
       "      <td>3DS</td>\n",
       "      <td>520</td>\n",
       "      <td>346</td>\n",
       "      <td>67</td>\n",
       "      <td>2011</td>\n",
       "      <td>2016</td>\n",
       "    </tr>\n",
       "    <tr>\n",
       "      <td>X360</td>\n",
       "      <td>1262</td>\n",
       "      <td>296</td>\n",
       "      <td>23</td>\n",
       "      <td>2005</td>\n",
       "      <td>2016</td>\n",
       "    </tr>\n",
       "    <tr>\n",
       "      <td>WiiU</td>\n",
       "      <td>147</td>\n",
       "      <td>47</td>\n",
       "      <td>32</td>\n",
       "      <td>2012</td>\n",
       "      <td>2016</td>\n",
       "    </tr>\n",
       "    <tr>\n",
       "      <td>Wii</td>\n",
       "      <td>1320</td>\n",
       "      <td>760</td>\n",
       "      <td>58</td>\n",
       "      <td>2006</td>\n",
       "      <td>2016</td>\n",
       "    </tr>\n",
       "    <tr>\n",
       "      <td>PSV</td>\n",
       "      <td>430</td>\n",
       "      <td>287</td>\n",
       "      <td>67</td>\n",
       "      <td>2011</td>\n",
       "      <td>2016</td>\n",
       "    </tr>\n",
       "    <tr>\n",
       "      <td>PC</td>\n",
       "      <td>974</td>\n",
       "      <td>204</td>\n",
       "      <td>21</td>\n",
       "      <td>1985</td>\n",
       "      <td>2016</td>\n",
       "    </tr>\n",
       "    <tr>\n",
       "      <td>PS4</td>\n",
       "      <td>392</td>\n",
       "      <td>135</td>\n",
       "      <td>34</td>\n",
       "      <td>2013</td>\n",
       "      <td>2016</td>\n",
       "    </tr>\n",
       "    <tr>\n",
       "      <td>PS3</td>\n",
       "      <td>1331</td>\n",
       "      <td>454</td>\n",
       "      <td>34</td>\n",
       "      <td>2006</td>\n",
       "      <td>2016</td>\n",
       "    </tr>\n",
       "    <tr>\n",
       "      <td>PSP</td>\n",
       "      <td>1209</td>\n",
       "      <td>788</td>\n",
       "      <td>65</td>\n",
       "      <td>2004</td>\n",
       "      <td>2015</td>\n",
       "    </tr>\n",
       "    <tr>\n",
       "      <td>DS</td>\n",
       "      <td>2151</td>\n",
       "      <td>1635</td>\n",
       "      <td>76</td>\n",
       "      <td>1985</td>\n",
       "      <td>2013</td>\n",
       "    </tr>\n",
       "    <tr>\n",
       "      <td>PS2</td>\n",
       "      <td>2161</td>\n",
       "      <td>920</td>\n",
       "      <td>43</td>\n",
       "      <td>2000</td>\n",
       "      <td>2011</td>\n",
       "    </tr>\n",
       "    <tr>\n",
       "      <td>DC</td>\n",
       "      <td>52</td>\n",
       "      <td>38</td>\n",
       "      <td>73</td>\n",
       "      <td>1998</td>\n",
       "      <td>2008</td>\n",
       "    </tr>\n",
       "    <tr>\n",
       "      <td>XB</td>\n",
       "      <td>824</td>\n",
       "      <td>238</td>\n",
       "      <td>29</td>\n",
       "      <td>2000</td>\n",
       "      <td>2008</td>\n",
       "    </tr>\n",
       "    <tr>\n",
       "      <td>GBA</td>\n",
       "      <td>822</td>\n",
       "      <td>567</td>\n",
       "      <td>69</td>\n",
       "      <td>2000</td>\n",
       "      <td>2007</td>\n",
       "    </tr>\n",
       "    <tr>\n",
       "      <td>GC</td>\n",
       "      <td>556</td>\n",
       "      <td>190</td>\n",
       "      <td>34</td>\n",
       "      <td>2001</td>\n",
       "      <td>2007</td>\n",
       "    </tr>\n",
       "    <tr>\n",
       "      <td>PS</td>\n",
       "      <td>1197</td>\n",
       "      <td>1035</td>\n",
       "      <td>86</td>\n",
       "      <td>1994</td>\n",
       "      <td>2003</td>\n",
       "    </tr>\n",
       "    <tr>\n",
       "      <td>N64</td>\n",
       "      <td>319</td>\n",
       "      <td>319</td>\n",
       "      <td>100</td>\n",
       "      <td>1996</td>\n",
       "      <td>2002</td>\n",
       "    </tr>\n",
       "    <tr>\n",
       "      <td>WS</td>\n",
       "      <td>6</td>\n",
       "      <td>6</td>\n",
       "      <td>100</td>\n",
       "      <td>1999</td>\n",
       "      <td>2001</td>\n",
       "    </tr>\n",
       "    <tr>\n",
       "      <td>GB</td>\n",
       "      <td>98</td>\n",
       "      <td>98</td>\n",
       "      <td>100</td>\n",
       "      <td>1988</td>\n",
       "      <td>2001</td>\n",
       "    </tr>\n",
       "    <tr>\n",
       "      <td>SAT</td>\n",
       "      <td>173</td>\n",
       "      <td>173</td>\n",
       "      <td>100</td>\n",
       "      <td>1994</td>\n",
       "      <td>1999</td>\n",
       "    </tr>\n",
       "    <tr>\n",
       "      <td>SNES</td>\n",
       "      <td>239</td>\n",
       "      <td>239</td>\n",
       "      <td>100</td>\n",
       "      <td>1990</td>\n",
       "      <td>1999</td>\n",
       "    </tr>\n",
       "    <tr>\n",
       "      <td>PCFX</td>\n",
       "      <td>1</td>\n",
       "      <td>1</td>\n",
       "      <td>100</td>\n",
       "      <td>1996</td>\n",
       "      <td>1996</td>\n",
       "    </tr>\n",
       "    <tr>\n",
       "      <td>NG</td>\n",
       "      <td>12</td>\n",
       "      <td>12</td>\n",
       "      <td>100</td>\n",
       "      <td>1993</td>\n",
       "      <td>1996</td>\n",
       "    </tr>\n",
       "    <tr>\n",
       "      <td>3DO</td>\n",
       "      <td>3</td>\n",
       "      <td>3</td>\n",
       "      <td>100</td>\n",
       "      <td>1994</td>\n",
       "      <td>1995</td>\n",
       "    </tr>\n",
       "    <tr>\n",
       "      <td>TG16</td>\n",
       "      <td>2</td>\n",
       "      <td>2</td>\n",
       "      <td>100</td>\n",
       "      <td>1995</td>\n",
       "      <td>1995</td>\n",
       "    </tr>\n",
       "    <tr>\n",
       "      <td>NES</td>\n",
       "      <td>98</td>\n",
       "      <td>98</td>\n",
       "      <td>100</td>\n",
       "      <td>1983</td>\n",
       "      <td>1994</td>\n",
       "    </tr>\n",
       "    <tr>\n",
       "      <td>SCD</td>\n",
       "      <td>6</td>\n",
       "      <td>6</td>\n",
       "      <td>100</td>\n",
       "      <td>1993</td>\n",
       "      <td>1994</td>\n",
       "    </tr>\n",
       "    <tr>\n",
       "      <td>GEN</td>\n",
       "      <td>27</td>\n",
       "      <td>27</td>\n",
       "      <td>100</td>\n",
       "      <td>1990</td>\n",
       "      <td>1994</td>\n",
       "    </tr>\n",
       "    <tr>\n",
       "      <td>GG</td>\n",
       "      <td>1</td>\n",
       "      <td>1</td>\n",
       "      <td>100</td>\n",
       "      <td>1992</td>\n",
       "      <td>1992</td>\n",
       "    </tr>\n",
       "    <tr>\n",
       "      <td>2600</td>\n",
       "      <td>133</td>\n",
       "      <td>133</td>\n",
       "      <td>100</td>\n",
       "      <td>1980</td>\n",
       "      <td>1989</td>\n",
       "    </tr>\n",
       "  </tbody>\n",
       "</table>\n",
       "</div>"
      ],
      "text/plain": [
       "          number_of_games counts_missing_scores percentage_missing_scores  \\\n",
       "platform                                                                    \n",
       "XOne                  247                    65                        26   \n",
       "3DS                   520                   346                        67   \n",
       "X360                 1262                   296                        23   \n",
       "WiiU                  147                    47                        32   \n",
       "Wii                  1320                   760                        58   \n",
       "PSV                   430                   287                        67   \n",
       "PC                    974                   204                        21   \n",
       "PS4                   392                   135                        34   \n",
       "PS3                  1331                   454                        34   \n",
       "PSP                  1209                   788                        65   \n",
       "DS                   2151                  1635                        76   \n",
       "PS2                  2161                   920                        43   \n",
       "DC                     52                    38                        73   \n",
       "XB                    824                   238                        29   \n",
       "GBA                   822                   567                        69   \n",
       "GC                    556                   190                        34   \n",
       "PS                   1197                  1035                        86   \n",
       "N64                   319                   319                       100   \n",
       "WS                      6                     6                       100   \n",
       "GB                     98                    98                       100   \n",
       "SAT                   173                   173                       100   \n",
       "SNES                  239                   239                       100   \n",
       "PCFX                    1                     1                       100   \n",
       "NG                     12                    12                       100   \n",
       "3DO                     3                     3                       100   \n",
       "TG16                    2                     2                       100   \n",
       "NES                    98                    98                       100   \n",
       "SCD                     6                     6                       100   \n",
       "GEN                    27                    27                       100   \n",
       "GG                      1                     1                       100   \n",
       "2600                  133                   133                       100   \n",
       "\n",
       "         minimum_year maximum_year  \n",
       "platform                            \n",
       "XOne             2013         2016  \n",
       "3DS              2011         2016  \n",
       "X360             2005         2016  \n",
       "WiiU             2012         2016  \n",
       "Wii              2006         2016  \n",
       "PSV              2011         2016  \n",
       "PC               1985         2016  \n",
       "PS4              2013         2016  \n",
       "PS3              2006         2016  \n",
       "PSP              2004         2015  \n",
       "DS               1985         2013  \n",
       "PS2              2000         2011  \n",
       "DC               1998         2008  \n",
       "XB               2000         2008  \n",
       "GBA              2000         2007  \n",
       "GC               2001         2007  \n",
       "PS               1994         2003  \n",
       "N64              1996         2002  \n",
       "WS               1999         2001  \n",
       "GB               1988         2001  \n",
       "SAT              1994         1999  \n",
       "SNES             1990         1999  \n",
       "PCFX             1996         1996  \n",
       "NG               1993         1996  \n",
       "3DO              1994         1995  \n",
       "TG16             1995         1995  \n",
       "NES              1983         1994  \n",
       "SCD              1993         1994  \n",
       "GEN              1990         1994  \n",
       "GG               1992         1992  \n",
       "2600             1980         1989  "
      ]
     },
     "execution_count": 29,
     "metadata": {},
     "output_type": "execute_result"
    }
   ],
   "source": [
    "pivot_user"
   ]
  },
  {
   "cell_type": "markdown",
   "metadata": {},
   "source": [
    "##### Conclusion"
   ]
  },
  {
   "cell_type": "markdown",
   "metadata": {},
   "source": [
    "Here the observations recur: Old platforms have no scores and for the newer platforms we can say that there are enough socred games."
   ]
  },
  {
   "cell_type": "code",
   "execution_count": 30,
   "metadata": {},
   "outputs": [
    {
     "name": "stdout",
     "output_type": "stream",
     "text": [
      "Check for duplicates:\n",
      "\n",
      "                name platform  year   genre\n",
      "16228  Madden NFL 13      PS3  2012  Sports\n",
      "\n",
      "                name platform  year   genre  na_sales  eu_sales  jp_sales  \\\n",
      "604    Madden NFL 13      PS3  2012  Sports      2.11      0.22       0.0   \n",
      "16228  Madden NFL 13      PS3  2012  Sports      0.00      0.01       0.0   \n",
      "\n",
      "       other_sales  critic_score  user_score rating  \n",
      "604           0.23          83.0         5.5      E  \n",
      "16228         0.00          83.0         5.5      E  \n",
      "\n",
      "I will delete the one row with almost zero sales.\n"
     ]
    }
   ],
   "source": [
    "print(\"Check for duplicates:\")\n",
    "print()\n",
    "\n",
    "df_short = df[['name', 'platform', 'year', 'genre']]\n",
    "print(df_short[df_short.duplicated()])\n",
    "print()\n",
    "print(df.query('name == \"Madden NFL 13\" and platform == \"PS3\"'))\n",
    "print()\n",
    "print(\"I will delete the one row with almost zero sales.\")\n",
    "\n",
    "df = df.drop(index = 16228)"
   ]
  },
  {
   "cell_type": "markdown",
   "metadata": {},
   "source": [
    "#### Conclusion"
   ]
  },
  {
   "cell_type": "markdown",
   "metadata": {},
   "source": [
    "In the first try I tried to fill in all missing values in my table. In the second try, I want to do the analysis without filling any missing values to see the differences. Since I will focus on newer platforms, it can be a disadvantage to fill in missing years as it may be possible that older games will be integrated in the analysis. Our table has a very high quote of missing ratings, missing user scores and missing critic scores, so on the one hand, there may be some kind of signal for the missing values (so I replaced all missing values in 'rating' with 'undefined' indicator) and on the other hand, the techniques for filling in missing values would be too inaccurate."
   ]
  },
  {
   "cell_type": "markdown",
   "metadata": {},
   "source": [
    "<a id=\"2.4\"></a>"
   ]
  },
  {
   "cell_type": "markdown",
   "metadata": {},
   "source": [
    "### 2.4) Total sales for each game\n",
    "\n",
    "Calculate the total sales (the sum of sales in all regions) for each game and put these values in a separate column."
   ]
  },
  {
   "cell_type": "code",
   "execution_count": 31,
   "metadata": {},
   "outputs": [
    {
     "data": {
      "text/html": [
       "<div>\n",
       "<style scoped>\n",
       "    .dataframe tbody tr th:only-of-type {\n",
       "        vertical-align: middle;\n",
       "    }\n",
       "\n",
       "    .dataframe tbody tr th {\n",
       "        vertical-align: top;\n",
       "    }\n",
       "\n",
       "    .dataframe thead th {\n",
       "        text-align: right;\n",
       "    }\n",
       "</style>\n",
       "<table border=\"1\" class=\"dataframe\">\n",
       "  <thead>\n",
       "    <tr style=\"text-align: right;\">\n",
       "      <th></th>\n",
       "      <th>name</th>\n",
       "      <th>platform</th>\n",
       "      <th>year</th>\n",
       "      <th>genre</th>\n",
       "      <th>na_sales</th>\n",
       "      <th>eu_sales</th>\n",
       "      <th>jp_sales</th>\n",
       "      <th>other_sales</th>\n",
       "      <th>critic_score</th>\n",
       "      <th>user_score</th>\n",
       "      <th>rating</th>\n",
       "      <th>total_sales</th>\n",
       "    </tr>\n",
       "  </thead>\n",
       "  <tbody>\n",
       "    <tr>\n",
       "      <td>0</td>\n",
       "      <td>Wii Sports</td>\n",
       "      <td>Wii</td>\n",
       "      <td>2006</td>\n",
       "      <td>Sports</td>\n",
       "      <td>41.36</td>\n",
       "      <td>28.96</td>\n",
       "      <td>3.77</td>\n",
       "      <td>8.45</td>\n",
       "      <td>76.0</td>\n",
       "      <td>8.0</td>\n",
       "      <td>E</td>\n",
       "      <td>82.54</td>\n",
       "    </tr>\n",
       "    <tr>\n",
       "      <td>1</td>\n",
       "      <td>Super Mario Bros.</td>\n",
       "      <td>NES</td>\n",
       "      <td>1985</td>\n",
       "      <td>Platform</td>\n",
       "      <td>29.08</td>\n",
       "      <td>3.58</td>\n",
       "      <td>6.81</td>\n",
       "      <td>0.77</td>\n",
       "      <td>NaN</td>\n",
       "      <td>NaN</td>\n",
       "      <td>undefined</td>\n",
       "      <td>40.24</td>\n",
       "    </tr>\n",
       "    <tr>\n",
       "      <td>2</td>\n",
       "      <td>Mario Kart Wii</td>\n",
       "      <td>Wii</td>\n",
       "      <td>2008</td>\n",
       "      <td>Racing</td>\n",
       "      <td>15.68</td>\n",
       "      <td>12.76</td>\n",
       "      <td>3.79</td>\n",
       "      <td>3.29</td>\n",
       "      <td>82.0</td>\n",
       "      <td>8.3</td>\n",
       "      <td>E</td>\n",
       "      <td>35.52</td>\n",
       "    </tr>\n",
       "    <tr>\n",
       "      <td>3</td>\n",
       "      <td>Wii Sports Resort</td>\n",
       "      <td>Wii</td>\n",
       "      <td>2009</td>\n",
       "      <td>Sports</td>\n",
       "      <td>15.61</td>\n",
       "      <td>10.93</td>\n",
       "      <td>3.28</td>\n",
       "      <td>2.95</td>\n",
       "      <td>80.0</td>\n",
       "      <td>8.0</td>\n",
       "      <td>E</td>\n",
       "      <td>32.77</td>\n",
       "    </tr>\n",
       "    <tr>\n",
       "      <td>4</td>\n",
       "      <td>Pokemon Red/Pokemon Blue</td>\n",
       "      <td>GB</td>\n",
       "      <td>1996</td>\n",
       "      <td>Role-Playing</td>\n",
       "      <td>11.27</td>\n",
       "      <td>8.89</td>\n",
       "      <td>10.22</td>\n",
       "      <td>1.00</td>\n",
       "      <td>NaN</td>\n",
       "      <td>NaN</td>\n",
       "      <td>undefined</td>\n",
       "      <td>31.38</td>\n",
       "    </tr>\n",
       "  </tbody>\n",
       "</table>\n",
       "</div>"
      ],
      "text/plain": [
       "                       name platform  year         genre  na_sales  eu_sales  \\\n",
       "0                Wii Sports      Wii  2006        Sports     41.36     28.96   \n",
       "1         Super Mario Bros.      NES  1985      Platform     29.08      3.58   \n",
       "2            Mario Kart Wii      Wii  2008        Racing     15.68     12.76   \n",
       "3         Wii Sports Resort      Wii  2009        Sports     15.61     10.93   \n",
       "4  Pokemon Red/Pokemon Blue       GB  1996  Role-Playing     11.27      8.89   \n",
       "\n",
       "   jp_sales  other_sales  critic_score  user_score     rating  total_sales  \n",
       "0      3.77         8.45          76.0         8.0          E        82.54  \n",
       "1      6.81         0.77           NaN         NaN  undefined        40.24  \n",
       "2      3.79         3.29          82.0         8.3          E        35.52  \n",
       "3      3.28         2.95          80.0         8.0          E        32.77  \n",
       "4     10.22         1.00           NaN         NaN  undefined        31.38  "
      ]
     },
     "execution_count": 31,
     "metadata": {},
     "output_type": "execute_result"
    }
   ],
   "source": [
    "df['total_sales'] = df['eu_sales'] + df['jp_sales'] + df['na_sales'] + df['other_sales']\n",
    "\n",
    "df.head()"
   ]
  },
  {
   "cell_type": "code",
   "execution_count": 32,
   "metadata": {},
   "outputs": [
    {
     "name": "stdout",
     "output_type": "stream",
     "text": [
      "<class 'pandas.core.frame.DataFrame'>\n",
      "Int64Index: 16712 entries, 0 to 16712\n",
      "Data columns (total 12 columns):\n",
      "name            16712 non-null object\n",
      "platform        16712 non-null object\n",
      "year            16443 non-null Int64\n",
      "genre           16712 non-null object\n",
      "na_sales        16712 non-null float64\n",
      "eu_sales        16712 non-null float64\n",
      "jp_sales        16712 non-null float64\n",
      "other_sales     16712 non-null float64\n",
      "critic_score    8136 non-null float64\n",
      "user_score      7589 non-null float64\n",
      "rating          16712 non-null object\n",
      "total_sales     16712 non-null float64\n",
      "dtypes: Int64(1), float64(7), object(4)\n",
      "memory usage: 1.7+ MB\n"
     ]
    }
   ],
   "source": [
    "df.info()"
   ]
  },
  {
   "cell_type": "markdown",
   "metadata": {},
   "source": [
    "<a id=\"3\"></a>"
   ]
  },
  {
   "cell_type": "markdown",
   "metadata": {},
   "source": [
    "## 3) Analysis"
   ]
  },
  {
   "cell_type": "markdown",
   "metadata": {},
   "source": [
    "<a id=\"3.1\"></a>"
   ]
  },
  {
   "cell_type": "markdown",
   "metadata": {},
   "source": [
    "### 3.1) Time Periods of Game Releases\n",
    "\n",
    "Look at how many games were released in different years. Is the data for every period significant?"
   ]
  },
  {
   "cell_type": "code",
   "execution_count": 33,
   "metadata": {
    "scrolled": false
   },
   "outputs": [
    {
     "data": {
      "image/png": "[encoded data removed]",
      "text/plain": [
       "<Figure size 720x432 with 1 Axes>"
      ]
     },
     "metadata": {
      "needs_background": "light"
     },
     "output_type": "display_data"
    }
   ],
   "source": [
    "# create pivot table wiht years as index\n",
    "df_year_games = df.pivot_table(index='year', values='name', aggfunc='count')\n",
    "df_year_games.columns = ['number of games']\n",
    "\n",
    "df_year_games.plot(grid=True, figsize = (10, 6))\n",
    "plt.title('Number of released Games in different years')\n",
    "plt.xlabel('year of release')\n",
    "plt.ylabel('number of games')\n",
    "plt.show()"
   ]
  },
  {
   "cell_type": "markdown",
   "metadata": {},
   "source": [
    "#### Conclusion"
   ]
  },
  {
   "cell_type": "markdown",
   "metadata": {},
   "source": [
    "Our data shows a little increase right after the beginning of 1980. This increase falls down to a constant level until 1990. From there on, one can observe a increasing trend so that five years later, 1995, we had approx. eleven times more games released compared to 1990. Overall, this increasing trend continues overall linear until we reach the year with the most games released: 2009. This trend of course has small increasing and decreasing periods but is overall linear. At 2009 there were ca. 1500 games released. After that, there was a strong decreasing trend until 2013 where not even half as much games were released as 2009. From there on, there is a stagnating trend until 2016 with a strong decreasing trend from 2015 to 2016."
   ]
  },
  {
   "cell_type": "markdown",
   "metadata": {},
   "source": [
    "<a id=\"3.2\"></a>"
   ]
  },
  {
   "cell_type": "markdown",
   "metadata": {},
   "source": [
    "### 3.2) Sales on different platforms\n",
    "\n",
    "Look at how sales varied from platform to platform. <br> Choose the platforms with the greatest total sales and build a distribution based on data for each year. <br> Find platforms that used to be popular but now have zero sales. <br> How long does it generally take for new platforms to appear and old ones to fade?"
   ]
  },
  {
   "cell_type": "markdown",
   "metadata": {},
   "source": [
    "#### Video Game Sales By Platform and Region"
   ]
  },
  {
   "cell_type": "code",
   "execution_count": 34,
   "metadata": {
    "scrolled": false
   },
   "outputs": [
    {
     "data": {
      "image/png": "[encoded data removed]",
      "text/plain": [
       "<Figure size 864x720 with 1 Axes>"
      ]
     },
     "metadata": {
      "needs_background": "light"
     },
     "output_type": "display_data"
    }
   ],
   "source": [
    "# create table for grouping the different sales by platforms\n",
    "df_grouped = df.groupby('platform')[['eu_sales', 'na_sales', 'jp_sales', 'other_sales', 'total_sales']].sum()\n",
    "df_grouped = df_grouped.sort_values('total_sales')\n",
    "\n",
    "\n",
    "fields = ['na_sales','eu_sales','jp_sales','other_sales']\n",
    "colors = ['#1D2F6F', '#8390FA', '#6EAF46', '#FAC748']\n",
    "labels = ['NA', 'EU', 'JP', 'Others']\n",
    "\n",
    "\n",
    "# figure and axis\n",
    "fig, ax = plt.subplots(1, figsize=(12, 10))\n",
    "\n",
    "\n",
    "# plot bars\n",
    "left = len(df_grouped) * [0]\n",
    "\n",
    "for idx, name in enumerate(fields):\n",
    "    plt.barh(df_grouped.index, df_grouped[name], left = left, color=colors[idx])\n",
    "    left = left + df_grouped[name]\n",
    "\n",
    "    \n",
    "# title, legend, labels\n",
    "plt.title('Video Game Sales By Platform and Region\\n', loc='left')\n",
    "plt.legend(labels, bbox_to_anchor=([0.55, 1, 0, 0]), ncol=4, frameon=False)\n",
    "plt.xlabel('Total Sale in Million US Dollars')\n",
    "\n",
    "\n",
    "# remove spines\n",
    "ax.spines['right'].set_visible(False)\n",
    "ax.spines['left'].set_visible(False)\n",
    "ax.spines['top'].set_visible(False)\n",
    "ax.spines['bottom'].set_visible(False)\n",
    "\n",
    "\n",
    "# adjust limits and draw grid lines\n",
    "plt.ylim(-0.5, ax.get_yticks()[-1] + 0.5)\n",
    "ax.set_axisbelow(True)\n",
    "ax.xaxis.grid(color='gray', linestyle='dashed')\n",
    "plt.show()"
   ]
  },
  {
   "cell_type": "markdown",
   "metadata": {},
   "source": [
    "#### Conclusion"
   ]
  },
  {
   "cell_type": "markdown",
   "metadata": {},
   "source": [
    "In the graphic one can see that the total sales vary extremly from platform to platform. Also the distribution for sales in different areas vary; for example: SNES has more than 50% sales in Japan while XBOX360 has nearly no sales in Japan. <br>\n",
    "There is a big cut in the total sales at GBA and PS: The sorted table more than doubles from one platform to the next platform its total sale. There is also a big increase from the second largest to the most largest total saled platform: XBOX360 and PS2. <br> So one can say that in perspective of total sales, there is obviously a leader platform. It's remarkable that some platforms have so less revenue that the bar can't even be seen on the graphic."
   ]
  },
  {
   "cell_type": "markdown",
   "metadata": {},
   "source": [
    "#### Total Sales of the four most successful platforms in time"
   ]
  },
  {
   "cell_type": "code",
   "execution_count": 35,
   "metadata": {
    "scrolled": false
   },
   "outputs": [
    {
     "data": {
      "image/png": "[encoded data removed]",
      "text/plain": [
       "<Figure size 1152x432 with 1 Axes>"
      ]
     },
     "metadata": {
      "needs_background": "light"
     },
     "output_type": "display_data"
    }
   ],
   "source": [
    "# We choose the four platforms with the biggest total sales\n",
    "biggest_pf = ['Wii', 'PS3', 'X360', 'PS2']\n",
    "\n",
    "\n",
    "# create four helping columns for grouping\n",
    "for i in df.index:\n",
    "    for pf in biggest_pf:\n",
    "        if df.loc[i, 'platform'] == pf:\n",
    "            df.loc[i, pf] = df.loc[i, 'total_sales']\n",
    "    \n",
    "\n",
    "# group by year and have four columns with the refered platforms with the total sales as values\n",
    "df_pf_years = df.groupby('year')[['Wii', 'PS3', 'X360', 'PS2']].sum()\n",
    "\n",
    "\n",
    "# define figure\n",
    "fig, ax = plt.subplots(1, figsize=(16, 6))\n",
    "\n",
    "\n",
    "# numerical x\n",
    "x = np.arange(0, len(df_pf_years.index))\n",
    "\n",
    "\n",
    "# plot bars\n",
    "plt.bar(x - 0.3, df_pf_years['Wii'], width = 0.2, color = '#1D2F6F')\n",
    "plt.bar(x - 0.1, df_pf_years['PS3'], width = 0.2, color = '#8390FA')\n",
    "plt.bar(x + 0.1, df_pf_years['X360'], width = 0.2, color = '#6EAF46')\n",
    "plt.bar(x + 0.3, df_pf_years['PS2'], width = 0.2, color = '#FAC748')\n",
    "\n",
    "\n",
    "# remove spines\n",
    "ax.spines['right'].set_visible(False)\n",
    "ax.spines['top'].set_visible(False)\n",
    "\n",
    "\n",
    "# x y details\n",
    "plt.ylabel('Total Sales in Million US Dollars')\n",
    "plt.xlabel('Year')\n",
    "plt.xticks(x, df_pf_years.index)\n",
    "plt.xlim(left=20, right=36)\n",
    "\n",
    "# grid lines\n",
    "ax.set_axisbelow(True)\n",
    "ax.yaxis.grid(color='gray', linestyle='dashed', alpha=0.7)\n",
    "\n",
    "\n",
    "# title and legend\n",
    "plt.title('Total Sales of the four most successful platforms in time', loc ='left')\n",
    "plt.legend(['Wii', 'PS3', 'X360', 'PS2'], loc='upper left', ncol = 4)\n",
    "plt.show()"
   ]
  },
  {
   "cell_type": "markdown",
   "metadata": {},
   "source": [
    "#### Conclusion"
   ]
  },
  {
   "cell_type": "markdown",
   "metadata": {},
   "source": [
    "That the PS2 now has zero sales is clear since it's the earliest released platform within these four. Also the Wii has now zero sales, but it started its sales in the same year as X360 and PS3; only the PS3 now has still sales as one can see at 2016. <br>\n",
    "Interestingly the Wii has a huge start in the total sales right in the year of release; even though it started in november 2016 in the US. That means this huge revenue was taken in november and december 2016. I think one factor is that many families bought this platform as christmas present. <br> <br> These four platforms have along the graphic: <br>\n",
    "PS2: 1st revenue at 2000; last revenue at 2011. <br>\n",
    "Wii: 1st revenue at 2006; last revenue at 2015. <br>\n",
    "X360: 1st revenue at 2005; last revenue at 2015. <br>\n",
    "PS3: 1st revenue at 2006; last revenue at 2016. <br>\n",
    "So, in generell for popular platforms the time period between appearance and fading is approx. 9 - 11 years."
   ]
  },
  {
   "cell_type": "markdown",
   "metadata": {},
   "source": [
    "<a id=\"3.3\"></a>"
   ]
  },
  {
   "cell_type": "markdown",
   "metadata": {},
   "source": [
    "### 3.3) Take Data from certain time period"
   ]
  },
  {
   "cell_type": "code",
   "execution_count": 36,
   "metadata": {},
   "outputs": [
    {
     "name": "stdout",
     "output_type": "stream",
     "text": [
      "Let's see when the new platforms were released:\n"
     ]
    }
   ],
   "source": [
    "print(\"Let's see when the new platforms were released:\")\n",
    "\n",
    "# create pivot table for counting the total number of games for every platform\n",
    "pivot_years = df.pivot_table(index='platform', values='name', aggfunc ='count')\n",
    "pivot_years.columns = ['number_of_games']\n",
    "\n",
    "# add columns in order to see the lowest and highest years for games released\n",
    "for pf in pivot_years.index:\n",
    "    pivot_years.loc[pf, 'minimum_year'] = df[df['platform'] == pf]['year'].min()\n",
    "    pivot_years.loc[pf, 'maximum_year'] = df[df['platform'] == pf]['year'].max()\n",
    "\n",
    "# sort table by year column in order to see the newest platforms\n",
    "pivot_years = pivot_years.sort_values('minimum_year', ascending=False)\n",
    "    \n",
    "# For a better view on the table\n",
    "pivot_years['minimum_year'] = pivot_years['minimum_year'].apply(\"{:.0f}\".format)\n",
    "pivot_years['maximum_year'] = pivot_years['maximum_year'].apply(\"{:.0f}\".format)"
   ]
  },
  {
   "cell_type": "code",
   "execution_count": 37,
   "metadata": {},
   "outputs": [
    {
     "data": {
      "text/html": [
       "<div>\n",
       "<style scoped>\n",
       "    .dataframe tbody tr th:only-of-type {\n",
       "        vertical-align: middle;\n",
       "    }\n",
       "\n",
       "    .dataframe tbody tr th {\n",
       "        vertical-align: top;\n",
       "    }\n",
       "\n",
       "    .dataframe thead th {\n",
       "        text-align: right;\n",
       "    }\n",
       "</style>\n",
       "<table border=\"1\" class=\"dataframe\">\n",
       "  <thead>\n",
       "    <tr style=\"text-align: right;\">\n",
       "      <th></th>\n",
       "      <th>number_of_games</th>\n",
       "      <th>minimum_year</th>\n",
       "      <th>maximum_year</th>\n",
       "    </tr>\n",
       "    <tr>\n",
       "      <th>platform</th>\n",
       "      <th></th>\n",
       "      <th></th>\n",
       "      <th></th>\n",
       "    </tr>\n",
       "  </thead>\n",
       "  <tbody>\n",
       "    <tr>\n",
       "      <td>XOne</td>\n",
       "      <td>247</td>\n",
       "      <td>2013</td>\n",
       "      <td>2016</td>\n",
       "    </tr>\n",
       "    <tr>\n",
       "      <td>PS4</td>\n",
       "      <td>392</td>\n",
       "      <td>2013</td>\n",
       "      <td>2016</td>\n",
       "    </tr>\n",
       "    <tr>\n",
       "      <td>WiiU</td>\n",
       "      <td>147</td>\n",
       "      <td>2012</td>\n",
       "      <td>2016</td>\n",
       "    </tr>\n",
       "    <tr>\n",
       "      <td>3DS</td>\n",
       "      <td>520</td>\n",
       "      <td>2011</td>\n",
       "      <td>2016</td>\n",
       "    </tr>\n",
       "    <tr>\n",
       "      <td>PSV</td>\n",
       "      <td>430</td>\n",
       "      <td>2011</td>\n",
       "      <td>2016</td>\n",
       "    </tr>\n",
       "    <tr>\n",
       "      <td>PS3</td>\n",
       "      <td>1330</td>\n",
       "      <td>2006</td>\n",
       "      <td>2016</td>\n",
       "    </tr>\n",
       "    <tr>\n",
       "      <td>Wii</td>\n",
       "      <td>1320</td>\n",
       "      <td>2006</td>\n",
       "      <td>2016</td>\n",
       "    </tr>\n",
       "    <tr>\n",
       "      <td>X360</td>\n",
       "      <td>1262</td>\n",
       "      <td>2005</td>\n",
       "      <td>2016</td>\n",
       "    </tr>\n",
       "    <tr>\n",
       "      <td>PSP</td>\n",
       "      <td>1209</td>\n",
       "      <td>2004</td>\n",
       "      <td>2015</td>\n",
       "    </tr>\n",
       "    <tr>\n",
       "      <td>GC</td>\n",
       "      <td>556</td>\n",
       "      <td>2001</td>\n",
       "      <td>2007</td>\n",
       "    </tr>\n",
       "    <tr>\n",
       "      <td>GBA</td>\n",
       "      <td>822</td>\n",
       "      <td>2000</td>\n",
       "      <td>2007</td>\n",
       "    </tr>\n",
       "    <tr>\n",
       "      <td>PS2</td>\n",
       "      <td>2161</td>\n",
       "      <td>2000</td>\n",
       "      <td>2011</td>\n",
       "    </tr>\n",
       "    <tr>\n",
       "      <td>XB</td>\n",
       "      <td>824</td>\n",
       "      <td>2000</td>\n",
       "      <td>2008</td>\n",
       "    </tr>\n",
       "    <tr>\n",
       "      <td>WS</td>\n",
       "      <td>6</td>\n",
       "      <td>1999</td>\n",
       "      <td>2001</td>\n",
       "    </tr>\n",
       "    <tr>\n",
       "      <td>DC</td>\n",
       "      <td>52</td>\n",
       "      <td>1998</td>\n",
       "      <td>2008</td>\n",
       "    </tr>\n",
       "    <tr>\n",
       "      <td>PCFX</td>\n",
       "      <td>1</td>\n",
       "      <td>1996</td>\n",
       "      <td>1996</td>\n",
       "    </tr>\n",
       "    <tr>\n",
       "      <td>N64</td>\n",
       "      <td>319</td>\n",
       "      <td>1996</td>\n",
       "      <td>2002</td>\n",
       "    </tr>\n",
       "    <tr>\n",
       "      <td>TG16</td>\n",
       "      <td>2</td>\n",
       "      <td>1995</td>\n",
       "      <td>1995</td>\n",
       "    </tr>\n",
       "    <tr>\n",
       "      <td>SAT</td>\n",
       "      <td>173</td>\n",
       "      <td>1994</td>\n",
       "      <td>1999</td>\n",
       "    </tr>\n",
       "    <tr>\n",
       "      <td>PS</td>\n",
       "      <td>1197</td>\n",
       "      <td>1994</td>\n",
       "      <td>2003</td>\n",
       "    </tr>\n",
       "    <tr>\n",
       "      <td>3DO</td>\n",
       "      <td>3</td>\n",
       "      <td>1994</td>\n",
       "      <td>1995</td>\n",
       "    </tr>\n",
       "    <tr>\n",
       "      <td>SCD</td>\n",
       "      <td>6</td>\n",
       "      <td>1993</td>\n",
       "      <td>1994</td>\n",
       "    </tr>\n",
       "    <tr>\n",
       "      <td>NG</td>\n",
       "      <td>12</td>\n",
       "      <td>1993</td>\n",
       "      <td>1996</td>\n",
       "    </tr>\n",
       "    <tr>\n",
       "      <td>GG</td>\n",
       "      <td>1</td>\n",
       "      <td>1992</td>\n",
       "      <td>1992</td>\n",
       "    </tr>\n",
       "    <tr>\n",
       "      <td>SNES</td>\n",
       "      <td>239</td>\n",
       "      <td>1990</td>\n",
       "      <td>1999</td>\n",
       "    </tr>\n",
       "    <tr>\n",
       "      <td>GEN</td>\n",
       "      <td>27</td>\n",
       "      <td>1990</td>\n",
       "      <td>1994</td>\n",
       "    </tr>\n",
       "    <tr>\n",
       "      <td>GB</td>\n",
       "      <td>98</td>\n",
       "      <td>1988</td>\n",
       "      <td>2001</td>\n",
       "    </tr>\n",
       "    <tr>\n",
       "      <td>PC</td>\n",
       "      <td>974</td>\n",
       "      <td>1985</td>\n",
       "      <td>2016</td>\n",
       "    </tr>\n",
       "    <tr>\n",
       "      <td>DS</td>\n",
       "      <td>2151</td>\n",
       "      <td>1985</td>\n",
       "      <td>2013</td>\n",
       "    </tr>\n",
       "    <tr>\n",
       "      <td>NES</td>\n",
       "      <td>98</td>\n",
       "      <td>1983</td>\n",
       "      <td>1994</td>\n",
       "    </tr>\n",
       "    <tr>\n",
       "      <td>2600</td>\n",
       "      <td>133</td>\n",
       "      <td>1980</td>\n",
       "      <td>1989</td>\n",
       "    </tr>\n",
       "  </tbody>\n",
       "</table>\n",
       "</div>"
      ],
      "text/plain": [
       "          number_of_games minimum_year maximum_year\n",
       "platform                                           \n",
       "XOne                  247         2013         2016\n",
       "PS4                   392         2013         2016\n",
       "WiiU                  147         2012         2016\n",
       "3DS                   520         2011         2016\n",
       "PSV                   430         2011         2016\n",
       "PS3                  1330         2006         2016\n",
       "Wii                  1320         2006         2016\n",
       "X360                 1262         2005         2016\n",
       "PSP                  1209         2004         2015\n",
       "GC                    556         2001         2007\n",
       "GBA                   822         2000         2007\n",
       "PS2                  2161         2000         2011\n",
       "XB                    824         2000         2008\n",
       "WS                      6         1999         2001\n",
       "DC                     52         1998         2008\n",
       "PCFX                    1         1996         1996\n",
       "N64                   319         1996         2002\n",
       "TG16                    2         1995         1995\n",
       "SAT                   173         1994         1999\n",
       "PS                   1197         1994         2003\n",
       "3DO                     3         1994         1995\n",
       "SCD                     6         1993         1994\n",
       "NG                     12         1993         1996\n",
       "GG                      1         1992         1992\n",
       "SNES                  239         1990         1999\n",
       "GEN                    27         1990         1994\n",
       "GB                     98         1988         2001\n",
       "PC                    974         1985         2016\n",
       "DS                   2151         1985         2013\n",
       "NES                    98         1983         1994\n",
       "2600                  133         1980         1989"
      ]
     },
     "execution_count": 37,
     "metadata": {},
     "output_type": "execute_result"
    }
   ],
   "source": [
    "pivot_years"
   ]
  },
  {
   "cell_type": "markdown",
   "metadata": {},
   "source": [
    "Determine what period you should take data for. <br> To do so, look at your answers to the previous questions. The data should allow you to build a prognosis for 2017."
   ]
  },
  {
   "cell_type": "code",
   "execution_count": 38,
   "metadata": {},
   "outputs": [],
   "source": [
    "df_sorted = df[df['year'] >= 2013]"
   ]
  },
  {
   "cell_type": "markdown",
   "metadata": {},
   "source": [
    "#### Conclusion"
   ]
  },
  {
   "cell_type": "markdown",
   "metadata": {},
   "source": [
    "Regarding the graphic in section 'Time Periods of Game Releases', overall there is a decreasing trend in the number of released games per year beginning at 2009. This decreasing trend ended in 2013 an began to increase again. In the graphic above ('Total Sales of the four most successful platforms in time') one can see that the platforms with the highest total sales are now less relevant. The table above shows us that the two newest platforms are XOne and PS4 with the oldest games released in 2013. When choosing 2013 as lower border for our time period, we would include all informations about these two new platforms. When choosing 2013 as lower border, we would also include many other platforms since many of them have still games released in 2016. So, 2013 will be chosen as lower border."
   ]
  },
  {
   "cell_type": "markdown",
   "metadata": {},
   "source": [
    "<a id=\"3.4\"></a>"
   ]
  },
  {
   "cell_type": "markdown",
   "metadata": {},
   "source": [
    "### 3.4) Select profitable platforms"
   ]
  },
  {
   "cell_type": "markdown",
   "metadata": {},
   "source": [
    "Which platforms are leading in sales? Which ones are growing or shrinking? <br> Select several potentially profitable platforms."
   ]
  },
  {
   "cell_type": "markdown",
   "metadata": {},
   "source": [
    "#### Game Releases"
   ]
  },
  {
   "cell_type": "code",
   "execution_count": 39,
   "metadata": {},
   "outputs": [
    {
     "name": "stdout",
     "output_type": "stream",
     "text": [
      "Number of different platforms: 11\n",
      "\n",
      "List of these platforms:\n",
      "\n",
      "['Wii' 'NES' 'GB' 'DS' 'X360' 'PS3' 'PS2' 'SNES' 'GBA' 'PS4' '3DS' 'N64'\n",
      " 'PS' 'XB' 'PC' '2600' 'PSP' 'XOne' 'WiiU' 'GC' 'GEN' 'DC' 'PSV' 'SAT'\n",
      " 'SCD' 'WS' 'NG' 'TG16' '3DO' 'GG' 'PCFX']\n"
     ]
    }
   ],
   "source": [
    "# We need to find those platforms with an increasing trend of game releases and total sales in 2016.\n",
    "# We also need to find those platforms leading in total sales and game releases in 2016.\n",
    "\n",
    "\n",
    "# Game releases:\n",
    "\n",
    "df_games = df_sorted.pivot_table(index = 'platform', values = 'name', columns='year', aggfunc = 'count')\n",
    "\n",
    "print(\"Number of different platforms:\", len(df_sorted['platform'].unique()))\n",
    "print()\n",
    "print(\"List of these platforms:\")\n",
    "print()\n",
    "print(df['platform'].unique())"
   ]
  },
  {
   "cell_type": "code",
   "execution_count": 40,
   "metadata": {},
   "outputs": [
    {
     "name": "stdout",
     "output_type": "stream",
     "text": [
      "The platform releasing the most games in 2013 is: PS3\n",
      "The platform releasing the most games in 2014 is: PS3\n",
      "The platform releasing the most games in 2015 is: PS4\n",
      "The platform releasing the most games in 2016 is: PS4\n"
     ]
    }
   ],
   "source": [
    "df_games.sort_values(2016, ascending=False)\n",
    "print(\"The platform releasing the most games in 2013 is:\", df_games[2013].idxmax())\n",
    "print(\"The platform releasing the most games in 2014 is:\", df_games[2014].idxmax())\n",
    "print(\"The platform releasing the most games in 2015 is:\", df_games[2015].idxmax())\n",
    "print(\"The platform releasing the most games in 2016 is:\", df_games[2016].idxmax())"
   ]
  },
  {
   "cell_type": "code",
   "execution_count": 41,
   "metadata": {},
   "outputs": [
    {
     "data": {
      "text/html": [
       "<div>\n",
       "<style scoped>\n",
       "    .dataframe tbody tr th:only-of-type {\n",
       "        vertical-align: middle;\n",
       "    }\n",
       "\n",
       "    .dataframe tbody tr th {\n",
       "        vertical-align: top;\n",
       "    }\n",
       "\n",
       "    .dataframe thead th {\n",
       "        text-align: right;\n",
       "    }\n",
       "</style>\n",
       "<table border=\"1\" class=\"dataframe\">\n",
       "  <thead>\n",
       "    <tr style=\"text-align: right;\">\n",
       "      <th>year</th>\n",
       "      <th>2013</th>\n",
       "      <th>2014</th>\n",
       "      <th>2015</th>\n",
       "      <th>2016</th>\n",
       "    </tr>\n",
       "    <tr>\n",
       "      <th>platform</th>\n",
       "      <th></th>\n",
       "      <th></th>\n",
       "      <th></th>\n",
       "      <th></th>\n",
       "    </tr>\n",
       "  </thead>\n",
       "  <tbody>\n",
       "    <tr>\n",
       "      <td>PS4</td>\n",
       "      <td>16.0</td>\n",
       "      <td>75.0</td>\n",
       "      <td>137.0</td>\n",
       "      <td>164.0</td>\n",
       "    </tr>\n",
       "    <tr>\n",
       "      <td>XOne</td>\n",
       "      <td>19.0</td>\n",
       "      <td>61.0</td>\n",
       "      <td>80.0</td>\n",
       "      <td>87.0</td>\n",
       "    </tr>\n",
       "    <tr>\n",
       "      <td>PSV</td>\n",
       "      <td>63.0</td>\n",
       "      <td>100.0</td>\n",
       "      <td>110.0</td>\n",
       "      <td>85.0</td>\n",
       "    </tr>\n",
       "    <tr>\n",
       "      <td>PC</td>\n",
       "      <td>38.0</td>\n",
       "      <td>47.0</td>\n",
       "      <td>50.0</td>\n",
       "      <td>54.0</td>\n",
       "    </tr>\n",
       "    <tr>\n",
       "      <td>3DS</td>\n",
       "      <td>91.0</td>\n",
       "      <td>80.0</td>\n",
       "      <td>86.0</td>\n",
       "      <td>46.0</td>\n",
       "    </tr>\n",
       "  </tbody>\n",
       "</table>\n",
       "</div>"
      ],
      "text/plain": [
       "year      2013   2014   2015   2016\n",
       "platform                           \n",
       "PS4       16.0   75.0  137.0  164.0\n",
       "XOne      19.0   61.0   80.0   87.0\n",
       "PSV       63.0  100.0  110.0   85.0\n",
       "PC        38.0   47.0   50.0   54.0\n",
       "3DS       91.0   80.0   86.0   46.0"
      ]
     },
     "execution_count": 41,
     "metadata": {},
     "output_type": "execute_result"
    }
   ],
   "source": [
    "df_games.sort_values(2016, ascending = False).head()"
   ]
  },
  {
   "cell_type": "code",
   "execution_count": 42,
   "metadata": {},
   "outputs": [],
   "source": [
    "# for every platform we calculate the quote of increasing game releases 2014 compared to 2013 and 2015 compared to 2014\n",
    "# and 2016 compared to 2015\n",
    "\n",
    "# for that we create helping columns in our sorted DataFrame:\n",
    "# '2013-2014 / percent', '2014-2015 / percent', '2015-2016 / percent'\n",
    "\n",
    "for pf in df_games.index:\n",
    "    df_games.loc[pf, '2013-2014 /percent'] = (100 * df_games.loc[pf, 2014] / df_games.loc[pf, 2013] - 100).round(1)\n",
    "    df_games.loc[pf, '2014-2015 /percent'] = (100 * df_games.loc[pf, 2015] / df_games.loc[pf, 2014] - 100).round(1)\n",
    "    df_games.loc[pf, '2015-2016 /percent'] = (100 * df_games.loc[pf, 2016] / df_games.loc[pf, 2015] - 100).round(1)\n",
    "\n",
    "df_games[2013] = df_games[2013].apply(\"{:.0f}\".format)\n",
    "df_games[2014] = df_games[2014].apply(\"{:.0f}\".format)\n",
    "df_games[2015] = df_games[2015].apply(\"{:.0f}\".format)\n",
    "df_games[2016] = df_games[2016].apply(\"{:.0f}\".format)"
   ]
  },
  {
   "cell_type": "code",
   "execution_count": 43,
   "metadata": {},
   "outputs": [
    {
     "data": {
      "text/html": [
       "<div>\n",
       "<style scoped>\n",
       "    .dataframe tbody tr th:only-of-type {\n",
       "        vertical-align: middle;\n",
       "    }\n",
       "\n",
       "    .dataframe tbody tr th {\n",
       "        vertical-align: top;\n",
       "    }\n",
       "\n",
       "    .dataframe thead th {\n",
       "        text-align: right;\n",
       "    }\n",
       "</style>\n",
       "<table border=\"1\" class=\"dataframe\">\n",
       "  <thead>\n",
       "    <tr style=\"text-align: right;\">\n",
       "      <th>year</th>\n",
       "      <th>2013</th>\n",
       "      <th>2014</th>\n",
       "      <th>2015</th>\n",
       "      <th>2016</th>\n",
       "      <th>2013-2014 /percent</th>\n",
       "      <th>2014-2015 /percent</th>\n",
       "      <th>2015-2016 /percent</th>\n",
       "    </tr>\n",
       "    <tr>\n",
       "      <th>platform</th>\n",
       "      <th></th>\n",
       "      <th></th>\n",
       "      <th></th>\n",
       "      <th></th>\n",
       "      <th></th>\n",
       "      <th></th>\n",
       "      <th></th>\n",
       "    </tr>\n",
       "  </thead>\n",
       "  <tbody>\n",
       "    <tr>\n",
       "      <td>PS4</td>\n",
       "      <td>16</td>\n",
       "      <td>75</td>\n",
       "      <td>137</td>\n",
       "      <td>164</td>\n",
       "      <td>368.8</td>\n",
       "      <td>82.7</td>\n",
       "      <td>19.7</td>\n",
       "    </tr>\n",
       "    <tr>\n",
       "      <td>XOne</td>\n",
       "      <td>19</td>\n",
       "      <td>61</td>\n",
       "      <td>80</td>\n",
       "      <td>87</td>\n",
       "      <td>221.1</td>\n",
       "      <td>31.1</td>\n",
       "      <td>8.8</td>\n",
       "    </tr>\n",
       "    <tr>\n",
       "      <td>PSV</td>\n",
       "      <td>63</td>\n",
       "      <td>100</td>\n",
       "      <td>110</td>\n",
       "      <td>85</td>\n",
       "      <td>58.7</td>\n",
       "      <td>10.0</td>\n",
       "      <td>-22.7</td>\n",
       "    </tr>\n",
       "    <tr>\n",
       "      <td>PC</td>\n",
       "      <td>38</td>\n",
       "      <td>47</td>\n",
       "      <td>50</td>\n",
       "      <td>54</td>\n",
       "      <td>23.7</td>\n",
       "      <td>6.4</td>\n",
       "      <td>8.0</td>\n",
       "    </tr>\n",
       "    <tr>\n",
       "      <td>3DS</td>\n",
       "      <td>91</td>\n",
       "      <td>80</td>\n",
       "      <td>86</td>\n",
       "      <td>46</td>\n",
       "      <td>-12.1</td>\n",
       "      <td>7.5</td>\n",
       "      <td>-46.5</td>\n",
       "    </tr>\n",
       "  </tbody>\n",
       "</table>\n",
       "</div>"
      ],
      "text/plain": [
       "year     2013 2014 2015 2016  2013-2014 /percent  2014-2015 /percent  \\\n",
       "platform                                                               \n",
       "PS4        16   75  137  164               368.8                82.7   \n",
       "XOne       19   61   80   87               221.1                31.1   \n",
       "PSV        63  100  110   85                58.7                10.0   \n",
       "PC         38   47   50   54                23.7                 6.4   \n",
       "3DS        91   80   86   46               -12.1                 7.5   \n",
       "\n",
       "year      2015-2016 /percent  \n",
       "platform                      \n",
       "PS4                     19.7  \n",
       "XOne                     8.8  \n",
       "PSV                    -22.7  \n",
       "PC                       8.0  \n",
       "3DS                    -46.5  "
      ]
     },
     "execution_count": 43,
     "metadata": {},
     "output_type": "execute_result"
    }
   ],
   "source": [
    "df_games.sort_values('2013-2014 /percent', ascending = False).head()"
   ]
  },
  {
   "cell_type": "code",
   "execution_count": 44,
   "metadata": {},
   "outputs": [
    {
     "data": {
      "text/html": [
       "<div>\n",
       "<style scoped>\n",
       "    .dataframe tbody tr th:only-of-type {\n",
       "        vertical-align: middle;\n",
       "    }\n",
       "\n",
       "    .dataframe tbody tr th {\n",
       "        vertical-align: top;\n",
       "    }\n",
       "\n",
       "    .dataframe thead th {\n",
       "        text-align: right;\n",
       "    }\n",
       "</style>\n",
       "<table border=\"1\" class=\"dataframe\">\n",
       "  <thead>\n",
       "    <tr style=\"text-align: right;\">\n",
       "      <th>year</th>\n",
       "      <th>2013</th>\n",
       "      <th>2014</th>\n",
       "      <th>2015</th>\n",
       "      <th>2016</th>\n",
       "      <th>2013-2014 /percent</th>\n",
       "      <th>2014-2015 /percent</th>\n",
       "      <th>2015-2016 /percent</th>\n",
       "    </tr>\n",
       "    <tr>\n",
       "      <th>platform</th>\n",
       "      <th></th>\n",
       "      <th></th>\n",
       "      <th></th>\n",
       "      <th></th>\n",
       "      <th></th>\n",
       "      <th></th>\n",
       "      <th></th>\n",
       "    </tr>\n",
       "  </thead>\n",
       "  <tbody>\n",
       "    <tr>\n",
       "      <td>PS4</td>\n",
       "      <td>16</td>\n",
       "      <td>75</td>\n",
       "      <td>137</td>\n",
       "      <td>164</td>\n",
       "      <td>368.8</td>\n",
       "      <td>82.7</td>\n",
       "      <td>19.7</td>\n",
       "    </tr>\n",
       "    <tr>\n",
       "      <td>XOne</td>\n",
       "      <td>19</td>\n",
       "      <td>61</td>\n",
       "      <td>80</td>\n",
       "      <td>87</td>\n",
       "      <td>221.1</td>\n",
       "      <td>31.1</td>\n",
       "      <td>8.8</td>\n",
       "    </tr>\n",
       "    <tr>\n",
       "      <td>PSV</td>\n",
       "      <td>63</td>\n",
       "      <td>100</td>\n",
       "      <td>110</td>\n",
       "      <td>85</td>\n",
       "      <td>58.7</td>\n",
       "      <td>10.0</td>\n",
       "      <td>-22.7</td>\n",
       "    </tr>\n",
       "    <tr>\n",
       "      <td>3DS</td>\n",
       "      <td>91</td>\n",
       "      <td>80</td>\n",
       "      <td>86</td>\n",
       "      <td>46</td>\n",
       "      <td>-12.1</td>\n",
       "      <td>7.5</td>\n",
       "      <td>-46.5</td>\n",
       "    </tr>\n",
       "    <tr>\n",
       "      <td>PC</td>\n",
       "      <td>38</td>\n",
       "      <td>47</td>\n",
       "      <td>50</td>\n",
       "      <td>54</td>\n",
       "      <td>23.7</td>\n",
       "      <td>6.4</td>\n",
       "      <td>8.0</td>\n",
       "    </tr>\n",
       "  </tbody>\n",
       "</table>\n",
       "</div>"
      ],
      "text/plain": [
       "year     2013 2014 2015 2016  2013-2014 /percent  2014-2015 /percent  \\\n",
       "platform                                                               \n",
       "PS4        16   75  137  164               368.8                82.7   \n",
       "XOne       19   61   80   87               221.1                31.1   \n",
       "PSV        63  100  110   85                58.7                10.0   \n",
       "3DS        91   80   86   46               -12.1                 7.5   \n",
       "PC         38   47   50   54                23.7                 6.4   \n",
       "\n",
       "year      2015-2016 /percent  \n",
       "platform                      \n",
       "PS4                     19.7  \n",
       "XOne                     8.8  \n",
       "PSV                    -22.7  \n",
       "3DS                    -46.5  \n",
       "PC                       8.0  "
      ]
     },
     "execution_count": 44,
     "metadata": {},
     "output_type": "execute_result"
    }
   ],
   "source": [
    "df_games.sort_values('2014-2015 /percent', ascending = False).head()"
   ]
  },
  {
   "cell_type": "code",
   "execution_count": 45,
   "metadata": {},
   "outputs": [
    {
     "data": {
      "text/html": [
       "<div>\n",
       "<style scoped>\n",
       "    .dataframe tbody tr th:only-of-type {\n",
       "        vertical-align: middle;\n",
       "    }\n",
       "\n",
       "    .dataframe tbody tr th {\n",
       "        vertical-align: top;\n",
       "    }\n",
       "\n",
       "    .dataframe thead th {\n",
       "        text-align: right;\n",
       "    }\n",
       "</style>\n",
       "<table border=\"1\" class=\"dataframe\">\n",
       "  <thead>\n",
       "    <tr style=\"text-align: right;\">\n",
       "      <th>year</th>\n",
       "      <th>2013</th>\n",
       "      <th>2014</th>\n",
       "      <th>2015</th>\n",
       "      <th>2016</th>\n",
       "      <th>2013-2014 /percent</th>\n",
       "      <th>2014-2015 /percent</th>\n",
       "      <th>2015-2016 /percent</th>\n",
       "    </tr>\n",
       "    <tr>\n",
       "      <th>platform</th>\n",
       "      <th></th>\n",
       "      <th></th>\n",
       "      <th></th>\n",
       "      <th></th>\n",
       "      <th></th>\n",
       "      <th></th>\n",
       "      <th></th>\n",
       "    </tr>\n",
       "  </thead>\n",
       "  <tbody>\n",
       "    <tr>\n",
       "      <td>PS4</td>\n",
       "      <td>16</td>\n",
       "      <td>75</td>\n",
       "      <td>137</td>\n",
       "      <td>164</td>\n",
       "      <td>368.8</td>\n",
       "      <td>82.7</td>\n",
       "      <td>19.7</td>\n",
       "    </tr>\n",
       "    <tr>\n",
       "      <td>XOne</td>\n",
       "      <td>19</td>\n",
       "      <td>61</td>\n",
       "      <td>80</td>\n",
       "      <td>87</td>\n",
       "      <td>221.1</td>\n",
       "      <td>31.1</td>\n",
       "      <td>8.8</td>\n",
       "    </tr>\n",
       "    <tr>\n",
       "      <td>PC</td>\n",
       "      <td>38</td>\n",
       "      <td>47</td>\n",
       "      <td>50</td>\n",
       "      <td>54</td>\n",
       "      <td>23.7</td>\n",
       "      <td>6.4</td>\n",
       "      <td>8.0</td>\n",
       "    </tr>\n",
       "    <tr>\n",
       "      <td>PSV</td>\n",
       "      <td>63</td>\n",
       "      <td>100</td>\n",
       "      <td>110</td>\n",
       "      <td>85</td>\n",
       "      <td>58.7</td>\n",
       "      <td>10.0</td>\n",
       "      <td>-22.7</td>\n",
       "    </tr>\n",
       "    <tr>\n",
       "      <td>3DS</td>\n",
       "      <td>91</td>\n",
       "      <td>80</td>\n",
       "      <td>86</td>\n",
       "      <td>46</td>\n",
       "      <td>-12.1</td>\n",
       "      <td>7.5</td>\n",
       "      <td>-46.5</td>\n",
       "    </tr>\n",
       "  </tbody>\n",
       "</table>\n",
       "</div>"
      ],
      "text/plain": [
       "year     2013 2014 2015 2016  2013-2014 /percent  2014-2015 /percent  \\\n",
       "platform                                                               \n",
       "PS4        16   75  137  164               368.8                82.7   \n",
       "XOne       19   61   80   87               221.1                31.1   \n",
       "PC         38   47   50   54                23.7                 6.4   \n",
       "PSV        63  100  110   85                58.7                10.0   \n",
       "3DS        91   80   86   46               -12.1                 7.5   \n",
       "\n",
       "year      2015-2016 /percent  \n",
       "platform                      \n",
       "PS4                     19.7  \n",
       "XOne                     8.8  \n",
       "PC                       8.0  \n",
       "PSV                    -22.7  \n",
       "3DS                    -46.5  "
      ]
     },
     "execution_count": 45,
     "metadata": {},
     "output_type": "execute_result"
    }
   ],
   "source": [
    "df_games.sort_values('2015-2016 /percent', ascending = False).head()"
   ]
  },
  {
   "cell_type": "markdown",
   "metadata": {},
   "source": [
    "#### Conclusion"
   ]
  },
  {
   "cell_type": "markdown",
   "metadata": {},
   "source": [
    "In the top 5 of game releasing platforms there are always the same four platforms for the compared years: <br>\n",
    "PS4, XOne, PSV and PC. <br> In 2013 - 2014 comparison there was also the PS3 the top five, but with an increasing trend; it's fading away because of its follower, the PS4. In the next compared years, the Top 5 were equal; the 3DS joins to the existing top four others. But as one can see: The 3DS has improved his sales from 2014 to 2015 a bit with 7.5%, but failed his sales from 2015 to 2016 with -46.5%. Also the PSV has a strong decreasing trend with -22.7%. The PC has a slightly but constant increasing trend of 6.4 - 8% since 2014. The XOne had from 2013 to 2014 a massive start with over 221 %, but this kind of increase begins to stagnate gradually. The PS4 has the strongest increasing trend in 2016 compared to 2015 with approx. 20%."
   ]
  },
  {
   "cell_type": "markdown",
   "metadata": {},
   "source": [
    "#### Total Sales"
   ]
  },
  {
   "cell_type": "code",
   "execution_count": 46,
   "metadata": {
    "scrolled": true
   },
   "outputs": [
    {
     "data": {
      "text/html": [
       "<div>\n",
       "<style scoped>\n",
       "    .dataframe tbody tr th:only-of-type {\n",
       "        vertical-align: middle;\n",
       "    }\n",
       "\n",
       "    .dataframe tbody tr th {\n",
       "        vertical-align: top;\n",
       "    }\n",
       "\n",
       "    .dataframe thead th {\n",
       "        text-align: right;\n",
       "    }\n",
       "</style>\n",
       "<table border=\"1\" class=\"dataframe\">\n",
       "  <thead>\n",
       "    <tr style=\"text-align: right;\">\n",
       "      <th>year</th>\n",
       "      <th>2013</th>\n",
       "      <th>2014</th>\n",
       "      <th>2015</th>\n",
       "      <th>2016</th>\n",
       "    </tr>\n",
       "    <tr>\n",
       "      <th>platform</th>\n",
       "      <th></th>\n",
       "      <th></th>\n",
       "      <th></th>\n",
       "      <th></th>\n",
       "    </tr>\n",
       "  </thead>\n",
       "  <tbody>\n",
       "    <tr>\n",
       "      <td>PS4</td>\n",
       "      <td>25.99</td>\n",
       "      <td>100.00</td>\n",
       "      <td>118.90</td>\n",
       "      <td>69.25</td>\n",
       "    </tr>\n",
       "    <tr>\n",
       "      <td>XOne</td>\n",
       "      <td>18.96</td>\n",
       "      <td>54.07</td>\n",
       "      <td>60.14</td>\n",
       "      <td>26.15</td>\n",
       "    </tr>\n",
       "    <tr>\n",
       "      <td>3DS</td>\n",
       "      <td>56.57</td>\n",
       "      <td>43.76</td>\n",
       "      <td>27.78</td>\n",
       "      <td>15.14</td>\n",
       "    </tr>\n",
       "    <tr>\n",
       "      <td>PC</td>\n",
       "      <td>12.38</td>\n",
       "      <td>13.28</td>\n",
       "      <td>8.52</td>\n",
       "      <td>5.25</td>\n",
       "    </tr>\n",
       "    <tr>\n",
       "      <td>WiiU</td>\n",
       "      <td>21.65</td>\n",
       "      <td>22.03</td>\n",
       "      <td>16.35</td>\n",
       "      <td>4.60</td>\n",
       "    </tr>\n",
       "  </tbody>\n",
       "</table>\n",
       "</div>"
      ],
      "text/plain": [
       "year       2013    2014    2015   2016\n",
       "platform                              \n",
       "PS4       25.99  100.00  118.90  69.25\n",
       "XOne      18.96   54.07   60.14  26.15\n",
       "3DS       56.57   43.76   27.78  15.14\n",
       "PC        12.38   13.28    8.52   5.25\n",
       "WiiU      21.65   22.03   16.35   4.60"
      ]
     },
     "execution_count": 46,
     "metadata": {},
     "output_type": "execute_result"
    }
   ],
   "source": [
    "df_sales = df_sorted.pivot_table(index = 'platform', values = 'total_sales', columns='year', aggfunc = 'sum')\n",
    "\n",
    "df_sales.sort_values(2016, ascending=False).head()"
   ]
  },
  {
   "cell_type": "code",
   "execution_count": 47,
   "metadata": {},
   "outputs": [
    {
     "name": "stdout",
     "output_type": "stream",
     "text": [
      "The platform with the biggest revenue in 2013 is: PS3\n",
      "The platform with the biggest revenue in 2014 is: PS4\n",
      "The platform with the biggest revenue in 2015 is: PS4\n",
      "The platform with the biggest revenue in 2016 is: PS4\n"
     ]
    }
   ],
   "source": [
    "print(\"The platform with the biggest revenue in 2013 is:\", df_sales[2013].idxmax())\n",
    "print(\"The platform with the biggest revenue in 2014 is:\", df_sales[2014].idxmax())\n",
    "print(\"The platform with the biggest revenue in 2015 is:\", df_sales[2015].idxmax())\n",
    "print(\"The platform with the biggest revenue in 2016 is:\", df_sales[2016].idxmax())"
   ]
  },
  {
   "cell_type": "code",
   "execution_count": 48,
   "metadata": {},
   "outputs": [],
   "source": [
    "# for every platform we calculate the quote of increasing total sales 2014 compared to 2013 and 2015 compared to 2014\n",
    "# and 2016 compared to 2015\n",
    "\n",
    "# for that we create helping columns in our sorted DataFrame:\n",
    "# '2013-2014 / percent', '2014-2015 / percent', '2015-2016 / percent'\n",
    "\n",
    "for pf in df_sales.index:\n",
    "    df_sales.loc[pf, '2013-2014 /percent'] = (100 * df_sales.loc[pf, 2014] / df_sales.loc[pf, 2013] - 100).round(1)\n",
    "    df_sales.loc[pf, '2014-2015 /percent'] = (100 * df_sales.loc[pf, 2015] / df_sales.loc[pf, 2014] - 100).round(1)\n",
    "    df_sales.loc[pf, '2015-2016 /percent'] = (100 * df_sales.loc[pf, 2016] / df_sales.loc[pf, 2015] - 100).round(1)"
   ]
  },
  {
   "cell_type": "code",
   "execution_count": 49,
   "metadata": {},
   "outputs": [
    {
     "data": {
      "text/html": [
       "<div>\n",
       "<style scoped>\n",
       "    .dataframe tbody tr th:only-of-type {\n",
       "        vertical-align: middle;\n",
       "    }\n",
       "\n",
       "    .dataframe tbody tr th {\n",
       "        vertical-align: top;\n",
       "    }\n",
       "\n",
       "    .dataframe thead th {\n",
       "        text-align: right;\n",
       "    }\n",
       "</style>\n",
       "<table border=\"1\" class=\"dataframe\">\n",
       "  <thead>\n",
       "    <tr style=\"text-align: right;\">\n",
       "      <th>year</th>\n",
       "      <th>2013</th>\n",
       "      <th>2014</th>\n",
       "      <th>2015</th>\n",
       "      <th>2016</th>\n",
       "      <th>2013-2014 /percent</th>\n",
       "      <th>2014-2015 /percent</th>\n",
       "      <th>2015-2016 /percent</th>\n",
       "    </tr>\n",
       "    <tr>\n",
       "      <th>platform</th>\n",
       "      <th></th>\n",
       "      <th></th>\n",
       "      <th></th>\n",
       "      <th></th>\n",
       "      <th></th>\n",
       "      <th></th>\n",
       "      <th></th>\n",
       "    </tr>\n",
       "  </thead>\n",
       "  <tbody>\n",
       "    <tr>\n",
       "      <td>PS4</td>\n",
       "      <td>25.99</td>\n",
       "      <td>100.00</td>\n",
       "      <td>118.90</td>\n",
       "      <td>69.25</td>\n",
       "      <td>284.8</td>\n",
       "      <td>18.9</td>\n",
       "      <td>-41.8</td>\n",
       "    </tr>\n",
       "    <tr>\n",
       "      <td>XOne</td>\n",
       "      <td>18.96</td>\n",
       "      <td>54.07</td>\n",
       "      <td>60.14</td>\n",
       "      <td>26.15</td>\n",
       "      <td>185.2</td>\n",
       "      <td>11.2</td>\n",
       "      <td>-56.5</td>\n",
       "    </tr>\n",
       "    <tr>\n",
       "      <td>PSV</td>\n",
       "      <td>10.59</td>\n",
       "      <td>11.90</td>\n",
       "      <td>6.25</td>\n",
       "      <td>4.25</td>\n",
       "      <td>12.4</td>\n",
       "      <td>-47.5</td>\n",
       "      <td>-32.0</td>\n",
       "    </tr>\n",
       "    <tr>\n",
       "      <td>PC</td>\n",
       "      <td>12.38</td>\n",
       "      <td>13.28</td>\n",
       "      <td>8.52</td>\n",
       "      <td>5.25</td>\n",
       "      <td>7.3</td>\n",
       "      <td>-35.8</td>\n",
       "      <td>-38.4</td>\n",
       "    </tr>\n",
       "    <tr>\n",
       "      <td>WiiU</td>\n",
       "      <td>21.65</td>\n",
       "      <td>22.03</td>\n",
       "      <td>16.35</td>\n",
       "      <td>4.60</td>\n",
       "      <td>1.8</td>\n",
       "      <td>-25.8</td>\n",
       "      <td>-71.9</td>\n",
       "    </tr>\n",
       "  </tbody>\n",
       "</table>\n",
       "</div>"
      ],
      "text/plain": [
       "year       2013    2014    2015   2016  2013-2014 /percent  \\\n",
       "platform                                                     \n",
       "PS4       25.99  100.00  118.90  69.25               284.8   \n",
       "XOne      18.96   54.07   60.14  26.15               185.2   \n",
       "PSV       10.59   11.90    6.25   4.25                12.4   \n",
       "PC        12.38   13.28    8.52   5.25                 7.3   \n",
       "WiiU      21.65   22.03   16.35   4.60                 1.8   \n",
       "\n",
       "year      2014-2015 /percent  2015-2016 /percent  \n",
       "platform                                          \n",
       "PS4                     18.9               -41.8  \n",
       "XOne                    11.2               -56.5  \n",
       "PSV                    -47.5               -32.0  \n",
       "PC                     -35.8               -38.4  \n",
       "WiiU                   -25.8               -71.9  "
      ]
     },
     "execution_count": 49,
     "metadata": {},
     "output_type": "execute_result"
    }
   ],
   "source": [
    "df_sales.sort_values('2013-2014 /percent', ascending = False).head()"
   ]
  },
  {
   "cell_type": "code",
   "execution_count": 50,
   "metadata": {},
   "outputs": [
    {
     "data": {
      "text/html": [
       "<div>\n",
       "<style scoped>\n",
       "    .dataframe tbody tr th:only-of-type {\n",
       "        vertical-align: middle;\n",
       "    }\n",
       "\n",
       "    .dataframe tbody tr th {\n",
       "        vertical-align: top;\n",
       "    }\n",
       "\n",
       "    .dataframe thead th {\n",
       "        text-align: right;\n",
       "    }\n",
       "</style>\n",
       "<table border=\"1\" class=\"dataframe\">\n",
       "  <thead>\n",
       "    <tr style=\"text-align: right;\">\n",
       "      <th>year</th>\n",
       "      <th>2013</th>\n",
       "      <th>2014</th>\n",
       "      <th>2015</th>\n",
       "      <th>2016</th>\n",
       "      <th>2013-2014 /percent</th>\n",
       "      <th>2014-2015 /percent</th>\n",
       "      <th>2015-2016 /percent</th>\n",
       "    </tr>\n",
       "    <tr>\n",
       "      <th>platform</th>\n",
       "      <th></th>\n",
       "      <th></th>\n",
       "      <th></th>\n",
       "      <th></th>\n",
       "      <th></th>\n",
       "      <th></th>\n",
       "      <th></th>\n",
       "    </tr>\n",
       "  </thead>\n",
       "  <tbody>\n",
       "    <tr>\n",
       "      <td>PS4</td>\n",
       "      <td>25.99</td>\n",
       "      <td>100.00</td>\n",
       "      <td>118.90</td>\n",
       "      <td>69.25</td>\n",
       "      <td>284.8</td>\n",
       "      <td>18.9</td>\n",
       "      <td>-41.8</td>\n",
       "    </tr>\n",
       "    <tr>\n",
       "      <td>XOne</td>\n",
       "      <td>18.96</td>\n",
       "      <td>54.07</td>\n",
       "      <td>60.14</td>\n",
       "      <td>26.15</td>\n",
       "      <td>185.2</td>\n",
       "      <td>11.2</td>\n",
       "      <td>-56.5</td>\n",
       "    </tr>\n",
       "    <tr>\n",
       "      <td>WiiU</td>\n",
       "      <td>21.65</td>\n",
       "      <td>22.03</td>\n",
       "      <td>16.35</td>\n",
       "      <td>4.60</td>\n",
       "      <td>1.8</td>\n",
       "      <td>-25.8</td>\n",
       "      <td>-71.9</td>\n",
       "    </tr>\n",
       "    <tr>\n",
       "      <td>PC</td>\n",
       "      <td>12.38</td>\n",
       "      <td>13.28</td>\n",
       "      <td>8.52</td>\n",
       "      <td>5.25</td>\n",
       "      <td>7.3</td>\n",
       "      <td>-35.8</td>\n",
       "      <td>-38.4</td>\n",
       "    </tr>\n",
       "    <tr>\n",
       "      <td>3DS</td>\n",
       "      <td>56.57</td>\n",
       "      <td>43.76</td>\n",
       "      <td>27.78</td>\n",
       "      <td>15.14</td>\n",
       "      <td>-22.6</td>\n",
       "      <td>-36.5</td>\n",
       "      <td>-45.5</td>\n",
       "    </tr>\n",
       "  </tbody>\n",
       "</table>\n",
       "</div>"
      ],
      "text/plain": [
       "year       2013    2014    2015   2016  2013-2014 /percent  \\\n",
       "platform                                                     \n",
       "PS4       25.99  100.00  118.90  69.25               284.8   \n",
       "XOne      18.96   54.07   60.14  26.15               185.2   \n",
       "WiiU      21.65   22.03   16.35   4.60                 1.8   \n",
       "PC        12.38   13.28    8.52   5.25                 7.3   \n",
       "3DS       56.57   43.76   27.78  15.14               -22.6   \n",
       "\n",
       "year      2014-2015 /percent  2015-2016 /percent  \n",
       "platform                                          \n",
       "PS4                     18.9               -41.8  \n",
       "XOne                    11.2               -56.5  \n",
       "WiiU                   -25.8               -71.9  \n",
       "PC                     -35.8               -38.4  \n",
       "3DS                    -36.5               -45.5  "
      ]
     },
     "execution_count": 50,
     "metadata": {},
     "output_type": "execute_result"
    }
   ],
   "source": [
    "df_sales.sort_values('2014-2015 /percent', ascending = False).head()"
   ]
  },
  {
   "cell_type": "code",
   "execution_count": 51,
   "metadata": {
    "scrolled": true
   },
   "outputs": [
    {
     "data": {
      "text/html": [
       "<div>\n",
       "<style scoped>\n",
       "    .dataframe tbody tr th:only-of-type {\n",
       "        vertical-align: middle;\n",
       "    }\n",
       "\n",
       "    .dataframe tbody tr th {\n",
       "        vertical-align: top;\n",
       "    }\n",
       "\n",
       "    .dataframe thead th {\n",
       "        text-align: right;\n",
       "    }\n",
       "</style>\n",
       "<table border=\"1\" class=\"dataframe\">\n",
       "  <thead>\n",
       "    <tr style=\"text-align: right;\">\n",
       "      <th>year</th>\n",
       "      <th>2013</th>\n",
       "      <th>2014</th>\n",
       "      <th>2015</th>\n",
       "      <th>2016</th>\n",
       "      <th>2013-2014 /percent</th>\n",
       "      <th>2014-2015 /percent</th>\n",
       "      <th>2015-2016 /percent</th>\n",
       "    </tr>\n",
       "    <tr>\n",
       "      <th>platform</th>\n",
       "      <th></th>\n",
       "      <th></th>\n",
       "      <th></th>\n",
       "      <th></th>\n",
       "      <th></th>\n",
       "      <th></th>\n",
       "      <th></th>\n",
       "    </tr>\n",
       "  </thead>\n",
       "  <tbody>\n",
       "    <tr>\n",
       "      <td>PSV</td>\n",
       "      <td>10.59</td>\n",
       "      <td>11.90</td>\n",
       "      <td>6.25</td>\n",
       "      <td>4.25</td>\n",
       "      <td>12.4</td>\n",
       "      <td>-47.5</td>\n",
       "      <td>-32.0</td>\n",
       "    </tr>\n",
       "    <tr>\n",
       "      <td>PC</td>\n",
       "      <td>12.38</td>\n",
       "      <td>13.28</td>\n",
       "      <td>8.52</td>\n",
       "      <td>5.25</td>\n",
       "      <td>7.3</td>\n",
       "      <td>-35.8</td>\n",
       "      <td>-38.4</td>\n",
       "    </tr>\n",
       "    <tr>\n",
       "      <td>PS4</td>\n",
       "      <td>25.99</td>\n",
       "      <td>100.00</td>\n",
       "      <td>118.90</td>\n",
       "      <td>69.25</td>\n",
       "      <td>284.8</td>\n",
       "      <td>18.9</td>\n",
       "      <td>-41.8</td>\n",
       "    </tr>\n",
       "    <tr>\n",
       "      <td>3DS</td>\n",
       "      <td>56.57</td>\n",
       "      <td>43.76</td>\n",
       "      <td>27.78</td>\n",
       "      <td>15.14</td>\n",
       "      <td>-22.6</td>\n",
       "      <td>-36.5</td>\n",
       "      <td>-45.5</td>\n",
       "    </tr>\n",
       "    <tr>\n",
       "      <td>XOne</td>\n",
       "      <td>18.96</td>\n",
       "      <td>54.07</td>\n",
       "      <td>60.14</td>\n",
       "      <td>26.15</td>\n",
       "      <td>185.2</td>\n",
       "      <td>11.2</td>\n",
       "      <td>-56.5</td>\n",
       "    </tr>\n",
       "  </tbody>\n",
       "</table>\n",
       "</div>"
      ],
      "text/plain": [
       "year       2013    2014    2015   2016  2013-2014 /percent  \\\n",
       "platform                                                     \n",
       "PSV       10.59   11.90    6.25   4.25                12.4   \n",
       "PC        12.38   13.28    8.52   5.25                 7.3   \n",
       "PS4       25.99  100.00  118.90  69.25               284.8   \n",
       "3DS       56.57   43.76   27.78  15.14               -22.6   \n",
       "XOne      18.96   54.07   60.14  26.15               185.2   \n",
       "\n",
       "year      2014-2015 /percent  2015-2016 /percent  \n",
       "platform                                          \n",
       "PSV                    -47.5               -32.0  \n",
       "PC                     -35.8               -38.4  \n",
       "PS4                     18.9               -41.8  \n",
       "3DS                    -36.5               -45.5  \n",
       "XOne                    11.2               -56.5  "
      ]
     },
     "execution_count": 51,
     "metadata": {},
     "output_type": "execute_result"
    }
   ],
   "source": [
    "df_sales.sort_values('2015-2016 /percent', ascending = False).head()"
   ]
  },
  {
   "cell_type": "markdown",
   "metadata": {},
   "source": [
    "#### Conclusion"
   ]
  },
  {
   "cell_type": "markdown",
   "metadata": {},
   "source": [
    "The top five platforms are nearly equivalent to those with the most game releases; here, the WiiU is in the top five. Here one can observe too, that the PS3 is fading and replaced by PS4 since the PS3 is not in the top five any more. From '2014-2015 /percent' and '2015-2016 /percent' the only revenue increasing is the one from the PSV (-48.6% to -32%). The biggest quotes for increasing total sales has the PS4 in the years 2013 and 2015; since 2014 it also has absolutely the biggest total sale of all platforms. From 2015 to 2016, all platforms have decreasing trends in their total sales. One platform that has decreased its trend in the years constantly is the 3DS with negative quotes since 2013 in total sales. <br> <br>\n",
    "That's why I choose the following platforms as the most profitable ones:\n",
    "- PSV, since it's the only one that increased its trend from 2014-2015 to 2015-2016 in total sales\n",
    "- PS4, since it has by far the biggest number of game releases and the biggest absolute total sale in 2016\n",
    "- XOne, since it has the second largest absolute total sale in 2016 and the decreasing trend from 2014/15 to 2015/16 is smaller than the trend from 2013/14 to 2014/15; the decrease has been decelerated in total sales.\n",
    "- PC, since it's the only one that increased its trend from 2014-2015 to 2015-2016 in total game releases\n",
    "- 3DS; this platform has a high quote in total sales for Japan (see section 3.2)"
   ]
  },
  {
   "cell_type": "markdown",
   "metadata": {},
   "source": [
    "<a id=\"3.5\"></a>"
   ]
  },
  {
   "cell_type": "markdown",
   "metadata": {},
   "source": [
    "### 3.5) Total Sales for Games broken down by platform"
   ]
  },
  {
   "cell_type": "markdown",
   "metadata": {},
   "source": [
    "Build a box plot for the global sales of all games, broken down by platform. <br> Are the differences in sales significant? What about average sales on various platforms? Describe your findings."
   ]
  },
  {
   "cell_type": "code",
   "execution_count": 52,
   "metadata": {},
   "outputs": [
    {
     "name": "stdout",
     "output_type": "stream",
     "text": [
      "Duplicates for Games: 970\n",
      "Duplicates for Games when only lowercase letters in game names: 970\n",
      "\n",
      "Uppercase and lowercase letters don't make a difference\n"
     ]
    }
   ],
   "source": [
    "# Let's check if we miss some same games caused by uppercase letters:\n",
    "\n",
    "print(\"Duplicates for Games:\", df_sorted['name'].duplicated().sum())\n",
    "print(\"Duplicates for Games when only lowercase letters in game names:\", df_sorted['name'].str.lower().duplicated().sum())\n",
    "print()\n",
    "print(\"Uppercase and lowercase letters don't make a difference\")"
   ]
  },
  {
   "cell_type": "code",
   "execution_count": 53,
   "metadata": {},
   "outputs": [
    {
     "data": {
      "text/html": [
       "<div>\n",
       "<style scoped>\n",
       "    .dataframe tbody tr th:only-of-type {\n",
       "        vertical-align: middle;\n",
       "    }\n",
       "\n",
       "    .dataframe tbody tr th {\n",
       "        vertical-align: top;\n",
       "    }\n",
       "\n",
       "    .dataframe thead th {\n",
       "        text-align: right;\n",
       "    }\n",
       "</style>\n",
       "<table border=\"1\" class=\"dataframe\">\n",
       "  <thead>\n",
       "    <tr style=\"text-align: right;\">\n",
       "      <th></th>\n",
       "      <th>number_of_games</th>\n",
       "      <th>minimum_year</th>\n",
       "      <th>maximum_year</th>\n",
       "    </tr>\n",
       "    <tr>\n",
       "      <th>platform</th>\n",
       "      <th></th>\n",
       "      <th></th>\n",
       "      <th></th>\n",
       "    </tr>\n",
       "  </thead>\n",
       "  <tbody>\n",
       "    <tr>\n",
       "      <td>XOne</td>\n",
       "      <td>247</td>\n",
       "      <td>2013</td>\n",
       "      <td>2016</td>\n",
       "    </tr>\n",
       "    <tr>\n",
       "      <td>PS4</td>\n",
       "      <td>392</td>\n",
       "      <td>2013</td>\n",
       "      <td>2016</td>\n",
       "    </tr>\n",
       "    <tr>\n",
       "      <td>WiiU</td>\n",
       "      <td>147</td>\n",
       "      <td>2012</td>\n",
       "      <td>2016</td>\n",
       "    </tr>\n",
       "    <tr>\n",
       "      <td>3DS</td>\n",
       "      <td>520</td>\n",
       "      <td>2011</td>\n",
       "      <td>2016</td>\n",
       "    </tr>\n",
       "    <tr>\n",
       "      <td>PSV</td>\n",
       "      <td>430</td>\n",
       "      <td>2011</td>\n",
       "      <td>2016</td>\n",
       "    </tr>\n",
       "    <tr>\n",
       "      <td>PS3</td>\n",
       "      <td>1330</td>\n",
       "      <td>2006</td>\n",
       "      <td>2016</td>\n",
       "    </tr>\n",
       "    <tr>\n",
       "      <td>Wii</td>\n",
       "      <td>1320</td>\n",
       "      <td>2006</td>\n",
       "      <td>2016</td>\n",
       "    </tr>\n",
       "    <tr>\n",
       "      <td>X360</td>\n",
       "      <td>1262</td>\n",
       "      <td>2005</td>\n",
       "      <td>2016</td>\n",
       "    </tr>\n",
       "    <tr>\n",
       "      <td>PSP</td>\n",
       "      <td>1209</td>\n",
       "      <td>2004</td>\n",
       "      <td>2015</td>\n",
       "    </tr>\n",
       "    <tr>\n",
       "      <td>GC</td>\n",
       "      <td>556</td>\n",
       "      <td>2001</td>\n",
       "      <td>2007</td>\n",
       "    </tr>\n",
       "    <tr>\n",
       "      <td>GBA</td>\n",
       "      <td>822</td>\n",
       "      <td>2000</td>\n",
       "      <td>2007</td>\n",
       "    </tr>\n",
       "    <tr>\n",
       "      <td>PS2</td>\n",
       "      <td>2161</td>\n",
       "      <td>2000</td>\n",
       "      <td>2011</td>\n",
       "    </tr>\n",
       "    <tr>\n",
       "      <td>XB</td>\n",
       "      <td>824</td>\n",
       "      <td>2000</td>\n",
       "      <td>2008</td>\n",
       "    </tr>\n",
       "    <tr>\n",
       "      <td>WS</td>\n",
       "      <td>6</td>\n",
       "      <td>1999</td>\n",
       "      <td>2001</td>\n",
       "    </tr>\n",
       "    <tr>\n",
       "      <td>DC</td>\n",
       "      <td>52</td>\n",
       "      <td>1998</td>\n",
       "      <td>2008</td>\n",
       "    </tr>\n",
       "    <tr>\n",
       "      <td>PCFX</td>\n",
       "      <td>1</td>\n",
       "      <td>1996</td>\n",
       "      <td>1996</td>\n",
       "    </tr>\n",
       "    <tr>\n",
       "      <td>N64</td>\n",
       "      <td>319</td>\n",
       "      <td>1996</td>\n",
       "      <td>2002</td>\n",
       "    </tr>\n",
       "    <tr>\n",
       "      <td>TG16</td>\n",
       "      <td>2</td>\n",
       "      <td>1995</td>\n",
       "      <td>1995</td>\n",
       "    </tr>\n",
       "    <tr>\n",
       "      <td>SAT</td>\n",
       "      <td>173</td>\n",
       "      <td>1994</td>\n",
       "      <td>1999</td>\n",
       "    </tr>\n",
       "    <tr>\n",
       "      <td>PS</td>\n",
       "      <td>1197</td>\n",
       "      <td>1994</td>\n",
       "      <td>2003</td>\n",
       "    </tr>\n",
       "    <tr>\n",
       "      <td>3DO</td>\n",
       "      <td>3</td>\n",
       "      <td>1994</td>\n",
       "      <td>1995</td>\n",
       "    </tr>\n",
       "    <tr>\n",
       "      <td>SCD</td>\n",
       "      <td>6</td>\n",
       "      <td>1993</td>\n",
       "      <td>1994</td>\n",
       "    </tr>\n",
       "    <tr>\n",
       "      <td>NG</td>\n",
       "      <td>12</td>\n",
       "      <td>1993</td>\n",
       "      <td>1996</td>\n",
       "    </tr>\n",
       "    <tr>\n",
       "      <td>GG</td>\n",
       "      <td>1</td>\n",
       "      <td>1992</td>\n",
       "      <td>1992</td>\n",
       "    </tr>\n",
       "    <tr>\n",
       "      <td>SNES</td>\n",
       "      <td>239</td>\n",
       "      <td>1990</td>\n",
       "      <td>1999</td>\n",
       "    </tr>\n",
       "    <tr>\n",
       "      <td>GEN</td>\n",
       "      <td>27</td>\n",
       "      <td>1990</td>\n",
       "      <td>1994</td>\n",
       "    </tr>\n",
       "    <tr>\n",
       "      <td>GB</td>\n",
       "      <td>98</td>\n",
       "      <td>1988</td>\n",
       "      <td>2001</td>\n",
       "    </tr>\n",
       "    <tr>\n",
       "      <td>PC</td>\n",
       "      <td>974</td>\n",
       "      <td>1985</td>\n",
       "      <td>2016</td>\n",
       "    </tr>\n",
       "    <tr>\n",
       "      <td>DS</td>\n",
       "      <td>2151</td>\n",
       "      <td>1985</td>\n",
       "      <td>2013</td>\n",
       "    </tr>\n",
       "    <tr>\n",
       "      <td>NES</td>\n",
       "      <td>98</td>\n",
       "      <td>1983</td>\n",
       "      <td>1994</td>\n",
       "    </tr>\n",
       "    <tr>\n",
       "      <td>2600</td>\n",
       "      <td>133</td>\n",
       "      <td>1980</td>\n",
       "      <td>1989</td>\n",
       "    </tr>\n",
       "  </tbody>\n",
       "</table>\n",
       "</div>"
      ],
      "text/plain": [
       "          number_of_games minimum_year maximum_year\n",
       "platform                                           \n",
       "XOne                  247         2013         2016\n",
       "PS4                   392         2013         2016\n",
       "WiiU                  147         2012         2016\n",
       "3DS                   520         2011         2016\n",
       "PSV                   430         2011         2016\n",
       "PS3                  1330         2006         2016\n",
       "Wii                  1320         2006         2016\n",
       "X360                 1262         2005         2016\n",
       "PSP                  1209         2004         2015\n",
       "GC                    556         2001         2007\n",
       "GBA                   822         2000         2007\n",
       "PS2                  2161         2000         2011\n",
       "XB                    824         2000         2008\n",
       "WS                      6         1999         2001\n",
       "DC                     52         1998         2008\n",
       "PCFX                    1         1996         1996\n",
       "N64                   319         1996         2002\n",
       "TG16                    2         1995         1995\n",
       "SAT                   173         1994         1999\n",
       "PS                   1197         1994         2003\n",
       "3DO                     3         1994         1995\n",
       "SCD                     6         1993         1994\n",
       "NG                     12         1993         1996\n",
       "GG                      1         1992         1992\n",
       "SNES                  239         1990         1999\n",
       "GEN                    27         1990         1994\n",
       "GB                     98         1988         2001\n",
       "PC                    974         1985         2016\n",
       "DS                   2151         1985         2013\n",
       "NES                    98         1983         1994\n",
       "2600                  133         1980         1989"
      ]
     },
     "execution_count": 53,
     "metadata": {},
     "output_type": "execute_result"
    }
   ],
   "source": [
    "pivot_years"
   ]
  },
  {
   "cell_type": "code",
   "execution_count": 54,
   "metadata": {
    "scrolled": false
   },
   "outputs": [
    {
     "data": {
      "image/png": "[encoded data removed]",
      "text/plain": [
       "<Figure size 1152x576 with 1 Axes>"
      ]
     },
     "metadata": {
      "needs_background": "light"
     },
     "output_type": "display_data"
    },
    {
     "data": {
      "image/png": "[encoded data removed]",
      "text/plain": [
       "<Figure size 1152x576 with 1 Axes>"
      ]
     },
     "metadata": {
      "needs_background": "light"
     },
     "output_type": "display_data"
    }
   ],
   "source": [
    "# We include all platforms that have released games since 2015\n",
    "pf_list = ['3DS','PC','PS3','PS4','PSP','PSV','Wii','WiiU','X360','XOne']\n",
    "\n",
    "# create helping columns in our df_sorted for the Box-and-Whisker Charts\n",
    "for pf in pf_list:\n",
    "    for i in df_sorted.index:\n",
    "        if df_sorted.loc[i, 'platform'] == pf:\n",
    "            df_sorted.loc[i, pf] = df_sorted.loc[i, 'total_sales']\n",
    "\n",
    "df_sorted.boxplot(column=pf_list, figsize = (16, 8))\n",
    "plt.title(\"Box-and-Whisker Charts of Total Sales for Games since 2013 on newer platforms (range 0, 1.75)\")\n",
    "plt.xlabel('Platform')\n",
    "plt.ylabel('Total Sales of Games in Million USD')\n",
    "plt.ylim(-0.05, 1.8)\n",
    "plt.show()\n",
    "\n",
    "df_sorted.boxplot(column=pf_list, figsize = (16, 8))\n",
    "plt.title(\"Box-and-Whisker Charts of Total Sales for Games since 2013 on newer platforms\")\n",
    "plt.xlabel('Platform')\n",
    "plt.ylabel('Total Sales of Games in Million USD')\n",
    "plt.show()"
   ]
  },
  {
   "cell_type": "code",
   "execution_count": 55,
   "metadata": {
    "scrolled": false
   },
   "outputs": [
    {
     "name": "stdout",
     "output_type": "stream",
     "text": [
      "Most profitable game for...\n",
      "\n",
      "3DS: Pokemon X/Pokemon Y | Total Sale: 14.60\n",
      "\n",
      "PC: The Sims 4 | Total Sale: 3.05\n",
      "\n",
      "PSP: God Eater 2 | Total Sale: 0.24\n",
      "\n",
      "PSV: Minecraft | Total Sale: 1.96\n",
      "\n",
      "Wii: Just Dance 2014 | Total Sale: 3.58\n",
      "\n",
      "WiiU: Mario Kart 8 | Total Sale: 7.09\n",
      "\n",
      "PS3: Grand Theft Auto V | Total Sale: 21.05\n",
      "\n",
      "X360: Grand Theft Auto V | Total Sale: 16.27\n",
      "\n",
      "PS4: Call of Duty: Black Ops 3 | Total Sale: 14.63\n",
      "\n",
      "XOne: Call of Duty: Black Ops 3 | Total Sale: 7.39\n"
     ]
    }
   ],
   "source": [
    "print(\"Most profitable game for...\")\n",
    "print()\n",
    "print(\"3DS: {} | Total Sale: {:.2f}\".format(df_sorted.loc[df_sorted['3DS'].idxmax(), 'name'], df_sorted['3DS'].max()))\n",
    "print()\n",
    "print(\"PC: {} | Total Sale: {:.2f}\".format(df_sorted.loc[df_sorted['PC'].idxmax(), 'name'], df_sorted['PC'].max()))\n",
    "print()\n",
    "print(\"PSP: {} | Total Sale: {:.2f}\".format(df_sorted.loc[df_sorted['PSP'].idxmax(), 'name'], df_sorted['PSP'].max()))\n",
    "print()\n",
    "print(\"PSV: {} | Total Sale: {:.2f}\".format(df_sorted.loc[df_sorted['PSV'].idxmax(), 'name'], df_sorted['PSV'].max()))\n",
    "print()\n",
    "print(\"Wii: {} | Total Sale: {:.2f}\".format(df_sorted.loc[df_sorted['Wii'].idxmax(), 'name'], df_sorted['Wii'].max()))\n",
    "print()\n",
    "print(\"WiiU: {} | Total Sale: {:.2f}\".format(df_sorted.loc[df_sorted['WiiU'].idxmax(), 'name'], df_sorted['WiiU'].max()))\n",
    "print()\n",
    "print(\"PS3: {} | Total Sale: {:.2f}\".format(df_sorted.loc[df_sorted['PS3'].idxmax(), 'name'], df_sorted['PS3'].max()))\n",
    "print()\n",
    "print(\"X360: {} | Total Sale: {:.2f}\".format(df_sorted.loc[df_sorted['X360'].idxmax(), 'name'], df_sorted['X360'].max()))\n",
    "print()\n",
    "print(\"PS4: {} | Total Sale: {:.2f}\".format(df_sorted.loc[df_sorted['PS4'].idxmax(), 'name'], df_sorted['PS4'].max()))\n",
    "print()\n",
    "print(\"XOne: {} | Total Sale: {:.2f}\".format(df_sorted.loc[df_sorted['XOne'].idxmax(), 'name'], df_sorted['XOne'].max()))"
   ]
  },
  {
   "cell_type": "code",
   "execution_count": 56,
   "metadata": {},
   "outputs": [],
   "source": [
    "df_sorted = df_sorted.drop(columns = ['3DS','PC','PS3','PS4','PSP','PSV','Wii','WiiU','X360','XOne', 'PS2'])"
   ]
  },
  {
   "cell_type": "code",
   "execution_count": 57,
   "metadata": {
    "scrolled": true
   },
   "outputs": [
    {
     "data": {
      "text/html": [
       "<div>\n",
       "<style scoped>\n",
       "    .dataframe tbody tr th:only-of-type {\n",
       "        vertical-align: middle;\n",
       "    }\n",
       "\n",
       "    .dataframe tbody tr th {\n",
       "        vertical-align: top;\n",
       "    }\n",
       "\n",
       "    .dataframe thead th {\n",
       "        text-align: right;\n",
       "    }\n",
       "</style>\n",
       "<table border=\"1\" class=\"dataframe\">\n",
       "  <thead>\n",
       "    <tr style=\"text-align: right;\">\n",
       "      <th></th>\n",
       "      <th>name</th>\n",
       "      <th>platform</th>\n",
       "      <th>year</th>\n",
       "      <th>genre</th>\n",
       "      <th>na_sales</th>\n",
       "      <th>eu_sales</th>\n",
       "      <th>jp_sales</th>\n",
       "      <th>other_sales</th>\n",
       "      <th>critic_score</th>\n",
       "      <th>user_score</th>\n",
       "      <th>rating</th>\n",
       "      <th>total_sales</th>\n",
       "    </tr>\n",
       "  </thead>\n",
       "  <tbody>\n",
       "    <tr>\n",
       "      <td>16</td>\n",
       "      <td>Grand Theft Auto V</td>\n",
       "      <td>PS3</td>\n",
       "      <td>2013</td>\n",
       "      <td>Action</td>\n",
       "      <td>7.02</td>\n",
       "      <td>9.09</td>\n",
       "      <td>0.98</td>\n",
       "      <td>3.96</td>\n",
       "      <td>97.0</td>\n",
       "      <td>8.2</td>\n",
       "      <td>M</td>\n",
       "      <td>21.05</td>\n",
       "    </tr>\n",
       "    <tr>\n",
       "      <td>23</td>\n",
       "      <td>Grand Theft Auto V</td>\n",
       "      <td>X360</td>\n",
       "      <td>2013</td>\n",
       "      <td>Action</td>\n",
       "      <td>9.66</td>\n",
       "      <td>5.14</td>\n",
       "      <td>0.06</td>\n",
       "      <td>1.41</td>\n",
       "      <td>97.0</td>\n",
       "      <td>8.1</td>\n",
       "      <td>M</td>\n",
       "      <td>16.27</td>\n",
       "    </tr>\n",
       "  </tbody>\n",
       "</table>\n",
       "</div>"
      ],
      "text/plain": [
       "                  name platform  year   genre  na_sales  eu_sales  jp_sales  \\\n",
       "16  Grand Theft Auto V      PS3  2013  Action      7.02      9.09      0.98   \n",
       "23  Grand Theft Auto V     X360  2013  Action      9.66      5.14      0.06   \n",
       "\n",
       "    other_sales  critic_score  user_score rating  total_sales  \n",
       "16         3.96          97.0         8.2      M        21.05  \n",
       "23         1.41          97.0         8.1      M        16.27  "
      ]
     },
     "execution_count": 57,
     "metadata": {},
     "output_type": "execute_result"
    }
   ],
   "source": [
    "df_sorted.query('name == \"Grand Theft Auto V\" and (platform == \"PS3\" or platform == \"X360\")')"
   ]
  },
  {
   "cell_type": "code",
   "execution_count": 58,
   "metadata": {
    "scrolled": true
   },
   "outputs": [
    {
     "data": {
      "text/html": [
       "<div>\n",
       "<style scoped>\n",
       "    .dataframe tbody tr th:only-of-type {\n",
       "        vertical-align: middle;\n",
       "    }\n",
       "\n",
       "    .dataframe tbody tr th {\n",
       "        vertical-align: top;\n",
       "    }\n",
       "\n",
       "    .dataframe thead th {\n",
       "        text-align: right;\n",
       "    }\n",
       "</style>\n",
       "<table border=\"1\" class=\"dataframe\">\n",
       "  <thead>\n",
       "    <tr style=\"text-align: right;\">\n",
       "      <th></th>\n",
       "      <th>name</th>\n",
       "      <th>platform</th>\n",
       "      <th>year</th>\n",
       "      <th>genre</th>\n",
       "      <th>na_sales</th>\n",
       "      <th>eu_sales</th>\n",
       "      <th>jp_sales</th>\n",
       "      <th>other_sales</th>\n",
       "      <th>critic_score</th>\n",
       "      <th>user_score</th>\n",
       "      <th>rating</th>\n",
       "      <th>total_sales</th>\n",
       "    </tr>\n",
       "  </thead>\n",
       "  <tbody>\n",
       "    <tr>\n",
       "      <td>31</td>\n",
       "      <td>Call of Duty: Black Ops 3</td>\n",
       "      <td>PS4</td>\n",
       "      <td>2015</td>\n",
       "      <td>Shooter</td>\n",
       "      <td>6.03</td>\n",
       "      <td>5.86</td>\n",
       "      <td>0.36</td>\n",
       "      <td>2.38</td>\n",
       "      <td>NaN</td>\n",
       "      <td>NaN</td>\n",
       "      <td>undefined</td>\n",
       "      <td>14.63</td>\n",
       "    </tr>\n",
       "    <tr>\n",
       "      <td>99</td>\n",
       "      <td>Call of Duty: Black Ops 3</td>\n",
       "      <td>XOne</td>\n",
       "      <td>2015</td>\n",
       "      <td>Shooter</td>\n",
       "      <td>4.59</td>\n",
       "      <td>2.11</td>\n",
       "      <td>0.01</td>\n",
       "      <td>0.68</td>\n",
       "      <td>NaN</td>\n",
       "      <td>NaN</td>\n",
       "      <td>undefined</td>\n",
       "      <td>7.39</td>\n",
       "    </tr>\n",
       "  </tbody>\n",
       "</table>\n",
       "</div>"
      ],
      "text/plain": [
       "                         name platform  year    genre  na_sales  eu_sales  \\\n",
       "31  Call of Duty: Black Ops 3      PS4  2015  Shooter      6.03      5.86   \n",
       "99  Call of Duty: Black Ops 3     XOne  2015  Shooter      4.59      2.11   \n",
       "\n",
       "    jp_sales  other_sales  critic_score  user_score     rating  total_sales  \n",
       "31      0.36         2.38           NaN         NaN  undefined        14.63  \n",
       "99      0.01         0.68           NaN         NaN  undefined         7.39  "
      ]
     },
     "execution_count": 58,
     "metadata": {},
     "output_type": "execute_result"
    }
   ],
   "source": [
    "df_sorted.query('name == \"Call of Duty: Black Ops 3\" and (platform == \"PS4\" or platform == \"XOne\")')"
   ]
  },
  {
   "cell_type": "code",
   "execution_count": 59,
   "metadata": {},
   "outputs": [
    {
     "data": {
      "text/html": [
       "<div>\n",
       "<style scoped>\n",
       "    .dataframe tbody tr th:only-of-type {\n",
       "        vertical-align: middle;\n",
       "    }\n",
       "\n",
       "    .dataframe tbody tr th {\n",
       "        vertical-align: top;\n",
       "    }\n",
       "\n",
       "    .dataframe thead th {\n",
       "        text-align: right;\n",
       "    }\n",
       "</style>\n",
       "<table border=\"1\" class=\"dataframe\">\n",
       "  <thead>\n",
       "    <tr style=\"text-align: right;\">\n",
       "      <th></th>\n",
       "      <th>name</th>\n",
       "      <th>platform</th>\n",
       "      <th>year</th>\n",
       "      <th>genre</th>\n",
       "      <th>na_sales</th>\n",
       "      <th>eu_sales</th>\n",
       "      <th>jp_sales</th>\n",
       "      <th>other_sales</th>\n",
       "      <th>critic_score</th>\n",
       "      <th>user_score</th>\n",
       "      <th>rating</th>\n",
       "      <th>total_sales</th>\n",
       "    </tr>\n",
       "  </thead>\n",
       "  <tbody>\n",
       "    <tr>\n",
       "      <td>33</td>\n",
       "      <td>Pokemon X/Pokemon Y</td>\n",
       "      <td>3DS</td>\n",
       "      <td>2013</td>\n",
       "      <td>Role-Playing</td>\n",
       "      <td>5.28</td>\n",
       "      <td>4.19</td>\n",
       "      <td>4.35</td>\n",
       "      <td>0.78</td>\n",
       "      <td>NaN</td>\n",
       "      <td>NaN</td>\n",
       "      <td>undefined</td>\n",
       "      <td>14.60</td>\n",
       "    </tr>\n",
       "    <tr>\n",
       "      <td>47</td>\n",
       "      <td>Pokemon Omega Ruby/Pokemon Alpha Sapphire</td>\n",
       "      <td>3DS</td>\n",
       "      <td>2014</td>\n",
       "      <td>Role-Playing</td>\n",
       "      <td>4.35</td>\n",
       "      <td>3.49</td>\n",
       "      <td>3.10</td>\n",
       "      <td>0.74</td>\n",
       "      <td>NaN</td>\n",
       "      <td>NaN</td>\n",
       "      <td>undefined</td>\n",
       "      <td>11.68</td>\n",
       "    </tr>\n",
       "    <tr>\n",
       "      <td>96</td>\n",
       "      <td>Super Smash Bros. for Wii U and 3DS</td>\n",
       "      <td>3DS</td>\n",
       "      <td>2014</td>\n",
       "      <td>Fighting</td>\n",
       "      <td>3.27</td>\n",
       "      <td>1.37</td>\n",
       "      <td>2.43</td>\n",
       "      <td>0.48</td>\n",
       "      <td>NaN</td>\n",
       "      <td>NaN</td>\n",
       "      <td>undefined</td>\n",
       "      <td>7.55</td>\n",
       "    </tr>\n",
       "    <tr>\n",
       "      <td>108</td>\n",
       "      <td>Pokemon Sun/Moon</td>\n",
       "      <td>3DS</td>\n",
       "      <td>2016</td>\n",
       "      <td>Role-Playing</td>\n",
       "      <td>2.98</td>\n",
       "      <td>1.45</td>\n",
       "      <td>2.26</td>\n",
       "      <td>0.45</td>\n",
       "      <td>NaN</td>\n",
       "      <td>NaN</td>\n",
       "      <td>undefined</td>\n",
       "      <td>7.14</td>\n",
       "    </tr>\n",
       "    <tr>\n",
       "      <td>184</td>\n",
       "      <td>Tomodachi Life</td>\n",
       "      <td>3DS</td>\n",
       "      <td>2013</td>\n",
       "      <td>Simulation</td>\n",
       "      <td>0.97</td>\n",
       "      <td>2.11</td>\n",
       "      <td>1.90</td>\n",
       "      <td>0.24</td>\n",
       "      <td>NaN</td>\n",
       "      <td>NaN</td>\n",
       "      <td>undefined</td>\n",
       "      <td>5.22</td>\n",
       "    </tr>\n",
       "    <tr>\n",
       "      <td>235</td>\n",
       "      <td>Luigi's Mansion: Dark Moon</td>\n",
       "      <td>3DS</td>\n",
       "      <td>2013</td>\n",
       "      <td>Action</td>\n",
       "      <td>1.80</td>\n",
       "      <td>1.39</td>\n",
       "      <td>1.11</td>\n",
       "      <td>0.29</td>\n",
       "      <td>86.0</td>\n",
       "      <td>8.4</td>\n",
       "      <td>E</td>\n",
       "      <td>4.59</td>\n",
       "    </tr>\n",
       "    <tr>\n",
       "      <td>312</td>\n",
       "      <td>Monster Hunter 4 Ultimate</td>\n",
       "      <td>3DS</td>\n",
       "      <td>2014</td>\n",
       "      <td>Role-Playing</td>\n",
       "      <td>0.68</td>\n",
       "      <td>0.48</td>\n",
       "      <td>2.62</td>\n",
       "      <td>0.11</td>\n",
       "      <td>86.0</td>\n",
       "      <td>8.7</td>\n",
       "      <td>T</td>\n",
       "      <td>3.89</td>\n",
       "    </tr>\n",
       "    <tr>\n",
       "      <td>385</td>\n",
       "      <td>Monster Hunter 4</td>\n",
       "      <td>3DS</td>\n",
       "      <td>2013</td>\n",
       "      <td>Role-Playing</td>\n",
       "      <td>0.00</td>\n",
       "      <td>0.00</td>\n",
       "      <td>3.44</td>\n",
       "      <td>0.00</td>\n",
       "      <td>NaN</td>\n",
       "      <td>NaN</td>\n",
       "      <td>undefined</td>\n",
       "      <td>3.44</td>\n",
       "    </tr>\n",
       "    <tr>\n",
       "      <td>406</td>\n",
       "      <td>Monster Hunter X</td>\n",
       "      <td>3DS</td>\n",
       "      <td>2015</td>\n",
       "      <td>Action</td>\n",
       "      <td>0.27</td>\n",
       "      <td>0.21</td>\n",
       "      <td>2.79</td>\n",
       "      <td>0.05</td>\n",
       "      <td>NaN</td>\n",
       "      <td>NaN</td>\n",
       "      <td>undefined</td>\n",
       "      <td>3.32</td>\n",
       "    </tr>\n",
       "    <tr>\n",
       "      <td>412</td>\n",
       "      <td>Yokai Watch 2 Ganso/Honke</td>\n",
       "      <td>3DS</td>\n",
       "      <td>2014</td>\n",
       "      <td>Role-Playing</td>\n",
       "      <td>0.09</td>\n",
       "      <td>0.00</td>\n",
       "      <td>3.18</td>\n",
       "      <td>0.01</td>\n",
       "      <td>NaN</td>\n",
       "      <td>NaN</td>\n",
       "      <td>undefined</td>\n",
       "      <td>3.28</td>\n",
       "    </tr>\n",
       "  </tbody>\n",
       "</table>\n",
       "</div>"
      ],
      "text/plain": [
       "                                          name platform  year         genre  \\\n",
       "33                         Pokemon X/Pokemon Y      3DS  2013  Role-Playing   \n",
       "47   Pokemon Omega Ruby/Pokemon Alpha Sapphire      3DS  2014  Role-Playing   \n",
       "96         Super Smash Bros. for Wii U and 3DS      3DS  2014      Fighting   \n",
       "108                           Pokemon Sun/Moon      3DS  2016  Role-Playing   \n",
       "184                             Tomodachi Life      3DS  2013    Simulation   \n",
       "235                 Luigi's Mansion: Dark Moon      3DS  2013        Action   \n",
       "312                  Monster Hunter 4 Ultimate      3DS  2014  Role-Playing   \n",
       "385                           Monster Hunter 4      3DS  2013  Role-Playing   \n",
       "406                           Monster Hunter X      3DS  2015        Action   \n",
       "412                  Yokai Watch 2 Ganso/Honke      3DS  2014  Role-Playing   \n",
       "\n",
       "     na_sales  eu_sales  jp_sales  other_sales  critic_score  user_score  \\\n",
       "33       5.28      4.19      4.35         0.78           NaN         NaN   \n",
       "47       4.35      3.49      3.10         0.74           NaN         NaN   \n",
       "96       3.27      1.37      2.43         0.48           NaN         NaN   \n",
       "108      2.98      1.45      2.26         0.45           NaN         NaN   \n",
       "184      0.97      2.11      1.90         0.24           NaN         NaN   \n",
       "235      1.80      1.39      1.11         0.29          86.0         8.4   \n",
       "312      0.68      0.48      2.62         0.11          86.0         8.7   \n",
       "385      0.00      0.00      3.44         0.00           NaN         NaN   \n",
       "406      0.27      0.21      2.79         0.05           NaN         NaN   \n",
       "412      0.09      0.00      3.18         0.01           NaN         NaN   \n",
       "\n",
       "        rating  total_sales  \n",
       "33   undefined        14.60  \n",
       "47   undefined        11.68  \n",
       "96   undefined         7.55  \n",
       "108  undefined         7.14  \n",
       "184  undefined         5.22  \n",
       "235          E         4.59  \n",
       "312          T         3.89  \n",
       "385  undefined         3.44  \n",
       "406  undefined         3.32  \n",
       "412  undefined         3.28  "
      ]
     },
     "execution_count": 59,
     "metadata": {},
     "output_type": "execute_result"
    }
   ],
   "source": [
    "df_sorted.query('total_sales > 3.25 and platform == \"3DS\"')"
   ]
  },
  {
   "cell_type": "markdown",
   "metadata": {},
   "source": [
    "#### Conclusion"
   ]
  },
  {
   "cell_type": "markdown",
   "metadata": {},
   "source": [
    "The Box-and-Whisker charts show different boxplots for each actual platform. <br>\n",
    "There we can see that every platform has outliers in the total sales. It is conspicuous that all lower quartiles (25% quartile) are close to the lowest total sale. It also stands out that the upper quartile (75% quartile) is more far away from the median than the lower quartile from the lowest total sale. That means that in generell the distribution for total sales is concentrated for low sales and that there are very few huge outliers - popular games for each platform. The highest total sale varies strongly from platform to platform. For example, even though the Wii and the PS4 have pretty similar lower and upper quartiles, the highest total sale for the PS4 is more than 4 times higher than the one for Wii. The range between the lower and the upper quartile can be divided in two groups: Those with a small range (PSP, PSV, 3DS, PC) and those with a big range. One can observe that 3 of the 4 platforms with a small range are handheld consoles that can be played outside without electrical connections. The 4th platform, the PC, is a special platform since it's the only platform that has existed since the 80s' until today. Since its highest total sale is only about 3 million dollars for games since 2013 one can see that the up-to-date stationary platforms are much more dedicated to have popular games with huge total sales compared to the PC and the handheld platforms. It's conceivable that these up-to-date stationary platforms like XOne or PS4 have many advertisements for popular games. <br> <br>\n",
    "The five platforms with the highest total sales are: PS3, PS4, X360, XOne and 3DS. <br>\n",
    "For the 3DS one can see in section 3.2 that the 3DS has a above-average quote of sales in japan. This is mirrored in the sales of its popular games: For example the game 'Monster Hunter X' has a much higher sale in Japan than in other regions. In the table above showing the most saled games for the 3DS, one can see that only 6 games have higher sales in other regions than Japan. <br>\n",
    "For the most saled games on the other 4 platforms one can see that these games are from 2013 and from 2015. That means that until the end of 2016 there was enough time for the games to accumulate high sales. Even though the platforms XOne and PS4 are the following platforms for PS3 and X360, the precursor platforms PS3 and X360 have both higher total sales. One can also see that the same game 'Call of Duty: Black Ops 3' on PS4 has a total sale that is twice as big as the one on XOne platform (14.6 on PS4, 7.4 on XOne)."
   ]
  },
  {
   "cell_type": "markdown",
   "metadata": {},
   "source": [
    "<a id=\"3.6\"></a>"
   ]
  },
  {
   "cell_type": "markdown",
   "metadata": {},
   "source": [
    "### 3.6) Reviews affecting Sales on PSV"
   ]
  },
  {
   "cell_type": "markdown",
   "metadata": {},
   "source": [
    "Take a look at how user and professional reviews affect sales for one popular platform (you choose). <br> Build a scatter plot and calculate the correlation between reviews and sales. Draw conclusions."
   ]
  },
  {
   "cell_type": "code",
   "execution_count": 60,
   "metadata": {},
   "outputs": [
    {
     "data": {
      "image/png": "[encoded data removed]",
      "text/plain": [
       "<Figure size 720x360 with 1 Axes>"
      ]
     },
     "metadata": {
      "needs_background": "light"
     },
     "output_type": "display_data"
    },
    {
     "name": "stdout",
     "output_type": "stream",
     "text": [
      "Correlation coefficient between critic_score and total_sales: 0.2540997021864077\n"
     ]
    }
   ],
   "source": [
    "#### I choose the PSV\n",
    "\n",
    "df_psv = df_sorted.query('platform == \"PSV\" and user_score == user_score and critic_score == critic_score')\n",
    "\n",
    "# Scatter Plot for critic scores and total sales\n",
    "df_psv.plot(x='critic_score', y='total_sales', kind='scatter', sharex=False, grid=True, figsize=(10,5))\n",
    "plt.title('Scatter plot for Total Sales and Critic Scores on PSV')\n",
    "plt.show()\n",
    "\n",
    "print(\"Correlation coefficient between critic_score and total_sales:\", df_psv['critic_score'].corr(df_psv['total_sales']))"
   ]
  },
  {
   "cell_type": "code",
   "execution_count": 61,
   "metadata": {},
   "outputs": [
    {
     "data": {
      "image/png": "[encoded data removed]",
      "text/plain": [
       "<Figure size 720x360 with 1 Axes>"
      ]
     },
     "metadata": {
      "needs_background": "light"
     },
     "output_type": "display_data"
    },
    {
     "name": "stdout",
     "output_type": "stream",
     "text": [
      "Correlation coefficient between user_score and total_sales: 0.26547827205094254\n"
     ]
    }
   ],
   "source": [
    "# Scatter Plot for user scores and total sales\n",
    "df_psv.plot(x='user_score', y='total_sales', kind='scatter', sharex=False, grid=True, figsize=(10,5))\n",
    "plt.title('Scatter plot for Total Sales and User Scores on PSV')\n",
    "plt.show()\n",
    "\n",
    "print(\"Correlation coefficient between user_score and total_sales:\", df_psv['user_score'].corr(df_psv['total_sales']))"
   ]
  },
  {
   "cell_type": "markdown",
   "metadata": {},
   "source": [
    "#### Conclusion"
   ]
  },
  {
   "cell_type": "markdown",
   "metadata": {},
   "source": [
    "The PSV has very low correlations between Critic Scores and total sales and also between User Scores and total sales. Both correlation coefficients are similar (ca. 0.26)"
   ]
  },
  {
   "cell_type": "markdown",
   "metadata": {},
   "source": [
    "<a id=\"3.7\"></a>"
   ]
  },
  {
   "cell_type": "markdown",
   "metadata": {},
   "source": [
    "### 3.7) Reviews affecting Sales on other Platforms"
   ]
  },
  {
   "cell_type": "markdown",
   "metadata": {},
   "source": [
    "Keeping your conclusions in mind, compare the sales of the same games on other platforms."
   ]
  },
  {
   "cell_type": "markdown",
   "metadata": {},
   "source": [
    "#### PC"
   ]
  },
  {
   "cell_type": "code",
   "execution_count": 62,
   "metadata": {
    "scrolled": false
   },
   "outputs": [
    {
     "data": {
      "image/png": "[encoded data removed]",
      "text/plain": [
       "<Figure size 720x360 with 1 Axes>"
      ]
     },
     "metadata": {
      "needs_background": "light"
     },
     "output_type": "display_data"
    },
    {
     "name": "stdout",
     "output_type": "stream",
     "text": [
      "Correlation coefficient between critic_score and total_sales: 0.19412407903472953\n"
     ]
    }
   ],
   "source": [
    "df_pc = df_sorted.query('platform == \"PC\" and user_score == user_score and critic_score == critic_score')\n",
    "\n",
    "# Scatter Plot for critic scores and total sales\n",
    "df_pc.plot(x='critic_score', y='total_sales', kind='scatter', sharex=False, grid=True, figsize=(10,5))\n",
    "plt.title('Scatter plot for Total Sales and Critic Scores on PC')\n",
    "plt.show()\n",
    "\n",
    "print(\"Correlation coefficient between critic_score and total_sales:\", df_pc['critic_score'].corr(df_pc['total_sales']))"
   ]
  },
  {
   "cell_type": "code",
   "execution_count": 63,
   "metadata": {},
   "outputs": [
    {
     "data": {
      "image/png": "[encoded data removed]",
      "text/plain": [
       "<Figure size 720x360 with 1 Axes>"
      ]
     },
     "metadata": {
      "needs_background": "light"
     },
     "output_type": "display_data"
    },
    {
     "name": "stdout",
     "output_type": "stream",
     "text": [
      "Correlation coefficient between user_score and total_sales: -0.10923502736171772\n"
     ]
    }
   ],
   "source": [
    "# Scatter Plot for user scores and total sales\n",
    "df_pc.plot(x='user_score', y='total_sales', kind='scatter', sharex=False, grid=True, figsize=(10,5))\n",
    "plt.title('Scatter plot for Total Sales and User Scores on PC')\n",
    "plt.show()\n",
    "\n",
    "print(\"Correlation coefficient between user_score and total_sales:\", df_pc['user_score'].corr(df_pc['total_sales']))"
   ]
  },
  {
   "cell_type": "markdown",
   "metadata": {},
   "source": [
    "#### PS4"
   ]
  },
  {
   "cell_type": "code",
   "execution_count": 64,
   "metadata": {},
   "outputs": [
    {
     "data": {
      "image/png": "[encoded data removed]",
      "text/plain": [
       "<Figure size 720x360 with 1 Axes>"
      ]
     },
     "metadata": {
      "needs_background": "light"
     },
     "output_type": "display_data"
    },
    {
     "name": "stdout",
     "output_type": "stream",
     "text": [
      "Correlation coefficient between critic_score and total_sales: 0.40589480145836676\n"
     ]
    }
   ],
   "source": [
    "df_ps4 = df_sorted.query('platform == \"PS4\" and user_score == user_score and critic_score == critic_score')\n",
    "\n",
    "# Scatter Plot for critic scores and total sales\n",
    "df_ps4.plot(x='critic_score', y='total_sales', kind='scatter', sharex=False, grid=True, figsize=(10,5))\n",
    "plt.title('Scatter plot for Total Sales and Critic Scores on PS4')\n",
    "plt.show()\n",
    "\n",
    "print(\"Correlation coefficient between critic_score and total_sales:\", df_ps4['critic_score'].corr(df_ps4['total_sales']))"
   ]
  },
  {
   "cell_type": "code",
   "execution_count": 65,
   "metadata": {},
   "outputs": [
    {
     "data": {
      "image/png": "[encoded data removed]",
      "text/plain": [
       "<Figure size 720x360 with 1 Axes>"
      ]
     },
     "metadata": {
      "needs_background": "light"
     },
     "output_type": "display_data"
    },
    {
     "name": "stdout",
     "output_type": "stream",
     "text": [
      "Correlation coefficient between user_score and total_sales: -0.03362497596528879\n"
     ]
    }
   ],
   "source": [
    "# Scatter Plot for user scores and total sales\n",
    "df_ps4.plot(x='user_score', y='total_sales', kind='scatter', sharex=False, grid=True, figsize=(10,5))\n",
    "plt.title('Scatter plot for Total Sales and User Scores on PS4')\n",
    "plt.show()\n",
    "\n",
    "print(\"Correlation coefficient between user_score and total_sales:\", df_ps4['user_score'].corr(df_ps4['total_sales']))"
   ]
  },
  {
   "cell_type": "markdown",
   "metadata": {},
   "source": [
    "#### XOne"
   ]
  },
  {
   "cell_type": "code",
   "execution_count": 66,
   "metadata": {},
   "outputs": [
    {
     "data": {
      "image/png": "[encoded data removed]",
      "text/plain": [
       "<Figure size 720x360 with 1 Axes>"
      ]
     },
     "metadata": {
      "needs_background": "light"
     },
     "output_type": "display_data"
    },
    {
     "name": "stdout",
     "output_type": "stream",
     "text": [
      "Correlation coefficient between critic_score and total_sales: 0.41042203561296403\n"
     ]
    }
   ],
   "source": [
    "df_xone = df_sorted.query('platform == \"XOne\" and user_score == user_score and critic_score == critic_score')\n",
    "\n",
    "# Scatter Plot for critic scores and total sales\n",
    "df_xone.plot(x='critic_score', y='total_sales', kind='scatter', sharex=False, grid=True, figsize=(10,5))\n",
    "plt.title('Scatter plot for Total Sales and Critic Scores on XOne')\n",
    "plt.show()\n",
    "\n",
    "print(\"Correlation coefficient between critic_score and total_sales:\", df_xone['critic_score'].corr(df_xone['total_sales']))"
   ]
  },
  {
   "cell_type": "code",
   "execution_count": 67,
   "metadata": {},
   "outputs": [
    {
     "data": {
      "image/png": "[encoded data removed]",
      "text/plain": [
       "<Figure size 720x360 with 1 Axes>"
      ]
     },
     "metadata": {
      "needs_background": "light"
     },
     "output_type": "display_data"
    },
    {
     "name": "stdout",
     "output_type": "stream",
     "text": [
      "Correlation coefficient between user_score and total_sales: -0.09400318326920863\n"
     ]
    }
   ],
   "source": [
    "# Scatter Plot for user scores and total sales\n",
    "df_xone.plot(x='user_score', y='total_sales', kind='scatter', sharex=False, grid=True, figsize=(10,5))\n",
    "plt.title('Scatter plot for Total Sales and User Scores on XOne')\n",
    "plt.show()\n",
    "\n",
    "print(\"Correlation coefficient between user_score and total_sales:\", df_xone['user_score'].corr(df_xone['total_sales']))"
   ]
  },
  {
   "cell_type": "markdown",
   "metadata": {},
   "source": [
    "#### 3DS"
   ]
  },
  {
   "cell_type": "code",
   "execution_count": 68,
   "metadata": {},
   "outputs": [
    {
     "data": {
      "image/png": "[encoded data removed]",
      "text/plain": [
       "<Figure size 720x360 with 1 Axes>"
      ]
     },
     "metadata": {
      "needs_background": "light"
     },
     "output_type": "display_data"
    },
    {
     "name": "stdout",
     "output_type": "stream",
     "text": [
      "Correlation coefficient between critic_score and total_sales: 0.3392349287853147\n"
     ]
    }
   ],
   "source": [
    "df_3ds = df_sorted.query('platform == \"3DS\" and user_score == user_score and critic_score == critic_score')\n",
    "\n",
    "# Scatter Plot for critic scores and total sales\n",
    "df_3ds.plot(x='critic_score', y='total_sales', kind='scatter', sharex=False, grid=True, figsize=(10,5))\n",
    "plt.title('Scatter plot for Total Sales and Critic Scores on 3DS')\n",
    "plt.show()\n",
    "\n",
    "print(\"Correlation coefficient between critic_score and total_sales:\", df_3ds['critic_score'].corr(df_3ds['total_sales']))"
   ]
  },
  {
   "cell_type": "code",
   "execution_count": 69,
   "metadata": {},
   "outputs": [
    {
     "data": {
      "image/png": "[encoded data removed]",
      "text/plain": [
       "<Figure size 720x360 with 1 Axes>"
      ]
     },
     "metadata": {
      "needs_background": "light"
     },
     "output_type": "display_data"
    },
    {
     "name": "stdout",
     "output_type": "stream",
     "text": [
      "Correlation coefficient between user_score and total_sales: 0.2729904366942444\n"
     ]
    }
   ],
   "source": [
    "# Scatter Plot for critic scores and total sales\n",
    "df_3ds.plot(x='user_score', y='total_sales', kind='scatter', sharex=False, grid=True, figsize=(10,5))\n",
    "plt.title('Scatter plot for Total Sales and User Scores on 3DS')\n",
    "plt.show()\n",
    "\n",
    "print(\"Correlation coefficient between user_score and total_sales:\", df_3ds['user_score'].corr(df_3ds['total_sales']))"
   ]
  },
  {
   "cell_type": "markdown",
   "metadata": {},
   "source": [
    "#### Conclusion"
   ]
  },
  {
   "cell_type": "markdown",
   "metadata": {},
   "source": [
    "Correlation coefficients: <br> <br> PSV: <br> Critic Scores - Total Sales: 0.25 <br> User Scores - Total Sales: 0.27 <br>\n",
    "PS4: <br> Critic Scores - Total Sales: 0.41 <br> User Scores - Total Sales: -0.03 <br>\n",
    "PC: <br> Critic Scores - Total Sales: 0.19 <br> User Scores - Total Sales: -0.11 <br>\n",
    "XOne: <br> Critic Scores - Total Sales: 0.41 <br> User Scores - Total Sales: -0.09 <br>\n",
    "3DS: <br> Critic Scores - Total Sales: 0.34 <br> User Scores - Total Sales: 0.27 <br> <br>\n",
    "For the correlation between user scores and total sales, the only two platforms with a low correlation of 0.27 are PSV and 3DS; the other platforms don't have a correlation here. These 2 platforms are interestingly the only handheld consoles within the 5 platforms. <br>\n",
    "For the correlation between critic scores and total sales, the PC and PSV platforms have a very low correlation of 0.19 and 0.25. The other three platforms have a low correlation here (3DS: 0.34, PS4: 0.41, XOne: 0.41). <br>\n",
    "One can see that critic scores always correlate with the total sales, but only very low or low. The user scores don't correlate for stationary consoles but low for handheld consoles. It's unusual that the user scores are not a good indicator for sales since the user decide the sales with their purchase behaviours. There are obviously different rating criteria between professional and nonprofessional evaluators. It also seems like that the professional ones do have more reliable criteria since there is always an correlation. The correlations are dictated by many good rated games that have very low sales; that means that not every good game is popular or well known; it seems like that only certain games have much advertisements. "
   ]
  },
  {
   "cell_type": "markdown",
   "metadata": {},
   "source": [
    "<a id=\"3.8\"></a>"
   ]
  },
  {
   "cell_type": "markdown",
   "metadata": {},
   "source": [
    "### 3.8) Genres and Sales"
   ]
  },
  {
   "cell_type": "markdown",
   "metadata": {},
   "source": [
    "Take a look at the general distribution of games by genre. <br> What can we say about the most profitable genres? Can you generalize about genres with high and low sales?"
   ]
  },
  {
   "cell_type": "code",
   "execution_count": 70,
   "metadata": {},
   "outputs": [
    {
     "name": "stdout",
     "output_type": "stream",
     "text": [
      "['Action' 'Shooter' 'Role-Playing' 'Misc' 'Sports' 'Fighting' 'Racing'\n",
      " 'Simulation' 'Platform' 'Strategy' 'Adventure' 'Puzzle']\n"
     ]
    }
   ],
   "source": [
    "print(df_sorted['genre'].unique())"
   ]
  },
  {
   "cell_type": "code",
   "execution_count": 71,
   "metadata": {},
   "outputs": [
    {
     "data": {
      "text/html": [
       "<div>\n",
       "<style scoped>\n",
       "    .dataframe tbody tr th:only-of-type {\n",
       "        vertical-align: middle;\n",
       "    }\n",
       "\n",
       "    .dataframe tbody tr th {\n",
       "        vertical-align: top;\n",
       "    }\n",
       "\n",
       "    .dataframe thead th {\n",
       "        text-align: right;\n",
       "    }\n",
       "</style>\n",
       "<table border=\"1\" class=\"dataframe\">\n",
       "  <thead>\n",
       "    <tr style=\"text-align: right;\">\n",
       "      <th></th>\n",
       "      <th>number_of_games</th>\n",
       "      <th>sum_total_sales</th>\n",
       "    </tr>\n",
       "    <tr>\n",
       "      <th>genre</th>\n",
       "      <th></th>\n",
       "      <th></th>\n",
       "    </tr>\n",
       "  </thead>\n",
       "  <tbody>\n",
       "    <tr>\n",
       "      <td>Action</td>\n",
       "      <td>766</td>\n",
       "      <td>321.87</td>\n",
       "    </tr>\n",
       "    <tr>\n",
       "      <td>Adventure</td>\n",
       "      <td>245</td>\n",
       "      <td>23.64</td>\n",
       "    </tr>\n",
       "    <tr>\n",
       "      <td>Fighting</td>\n",
       "      <td>80</td>\n",
       "      <td>35.31</td>\n",
       "    </tr>\n",
       "    <tr>\n",
       "      <td>Misc</td>\n",
       "      <td>155</td>\n",
       "      <td>62.82</td>\n",
       "    </tr>\n",
       "    <tr>\n",
       "      <td>Platform</td>\n",
       "      <td>74</td>\n",
       "      <td>42.63</td>\n",
       "    </tr>\n",
       "    <tr>\n",
       "      <td>Puzzle</td>\n",
       "      <td>17</td>\n",
       "      <td>3.17</td>\n",
       "    </tr>\n",
       "    <tr>\n",
       "      <td>Racing</td>\n",
       "      <td>85</td>\n",
       "      <td>39.89</td>\n",
       "    </tr>\n",
       "    <tr>\n",
       "      <td>Role-Playing</td>\n",
       "      <td>292</td>\n",
       "      <td>145.89</td>\n",
       "    </tr>\n",
       "    <tr>\n",
       "      <td>Shooter</td>\n",
       "      <td>187</td>\n",
       "      <td>232.98</td>\n",
       "    </tr>\n",
       "    <tr>\n",
       "      <td>Simulation</td>\n",
       "      <td>62</td>\n",
       "      <td>21.76</td>\n",
       "    </tr>\n",
       "    <tr>\n",
       "      <td>Sports</td>\n",
       "      <td>214</td>\n",
       "      <td>150.65</td>\n",
       "    </tr>\n",
       "    <tr>\n",
       "      <td>Strategy</td>\n",
       "      <td>56</td>\n",
       "      <td>10.08</td>\n",
       "    </tr>\n",
       "  </tbody>\n",
       "</table>\n",
       "</div>"
      ],
      "text/plain": [
       "              number_of_games  sum_total_sales\n",
       "genre                                         \n",
       "Action                    766           321.87\n",
       "Adventure                 245            23.64\n",
       "Fighting                   80            35.31\n",
       "Misc                      155            62.82\n",
       "Platform                   74            42.63\n",
       "Puzzle                     17             3.17\n",
       "Racing                     85            39.89\n",
       "Role-Playing              292           145.89\n",
       "Shooter                   187           232.98\n",
       "Simulation                 62            21.76\n",
       "Sports                    214           150.65\n",
       "Strategy                   56            10.08"
      ]
     },
     "execution_count": 71,
     "metadata": {},
     "output_type": "execute_result"
    }
   ],
   "source": [
    "# create pivot table for grouping the number of games and the sum of total sales for every genre\n",
    "\n",
    "df_genre = df_sorted.pivot_table(index='genre', values='total_sales', aggfunc = ['count', 'sum'])\n",
    "df_genre.columns = ['number_of_games', 'sum_total_sales']\n",
    "df_genre"
   ]
  },
  {
   "cell_type": "code",
   "execution_count": 72,
   "metadata": {},
   "outputs": [
    {
     "data": {
      "image/png": "[encoded data removed]",
      "text/plain": [
       "<Figure size 1080x360 with 1 Axes>"
      ]
     },
     "metadata": {
      "needs_background": "light"
     },
     "output_type": "display_data"
    }
   ],
   "source": [
    "df_genre['number_of_games'].sort_values().plot(kind='bar', grid = True, figsize = (15, 5))\n",
    "plt.ylabel('Number of Games')\n",
    "plt.title('Number of Games since 2013 by Genre')\n",
    "plt.show()"
   ]
  },
  {
   "cell_type": "code",
   "execution_count": 73,
   "metadata": {},
   "outputs": [
    {
     "data": {
      "image/png": "[encoded data removed]",
      "text/plain": [
       "<Figure size 1080x360 with 1 Axes>"
      ]
     },
     "metadata": {
      "needs_background": "light"
     },
     "output_type": "display_data"
    }
   ],
   "source": [
    "df_genre['sum_total_sales'].sort_values().plot(kind='bar', grid = True, figsize = (15, 5))\n",
    "plt.ylabel('Sales in million US Dollars')\n",
    "plt.title('Total Sales Sum for every Genre')\n",
    "plt.show()"
   ]
  },
  {
   "cell_type": "code",
   "execution_count": 74,
   "metadata": {},
   "outputs": [
    {
     "data": {
      "image/png": "[encoded data removed]",
      "text/plain": [
       "<Figure size 1080x360 with 1 Axes>"
      ]
     },
     "metadata": {
      "needs_background": "light"
     },
     "output_type": "display_data"
    }
   ],
   "source": [
    "df_genre['average_total_sale_per_game'] = df_genre['sum_total_sales'] / df_genre['number_of_games']\n",
    "\n",
    "df_genre['average_total_sale_per_game'].sort_values().plot(kind='bar', grid = True, figsize = (15, 5))\n",
    "plt.ylabel('Sales in million US Dollars')\n",
    "plt.title('Average Total Sale per Game by Genre')\n",
    "plt.show()"
   ]
  },
  {
   "cell_type": "markdown",
   "metadata": {},
   "source": [
    "#### Conclusion"
   ]
  },
  {
   "cell_type": "markdown",
   "metadata": {},
   "source": [
    "The number of games and the total sales have a clear dependency on their genre. <br>\n",
    "When looking at the total sales, we find overall three groups since there are two strong increases: Between misc and role-playing and between sports and shooter. The number of games has a clear dependency on genre and a giant increase to the genre with the most games: Action (more than twice many games than the second largest). It is intersting that - even though the number of action games is extremly high - the total sales are leaded by action games, but only have a small distance to shooter games. That means that in average every shooter game brings in above-average revenue as one can see in the top one in the third bar chart. The average revenue per genre has the genre shooters clearly on top one. We do have so many action games, but in average every action game has a revenue smaller than many other genres."
   ]
  },
  {
   "cell_type": "markdown",
   "metadata": {},
   "source": [
    "<a id=\"4\"></a>"
   ]
  },
  {
   "cell_type": "markdown",
   "metadata": {},
   "source": [
    "## 4) Create a user profile for each region"
   ]
  },
  {
   "cell_type": "markdown",
   "metadata": {},
   "source": [
    "<a id=\"4.1\"></a>"
   ]
  },
  {
   "cell_type": "markdown",
   "metadata": {},
   "source": [
    "### 4.1) The top five platforms"
   ]
  },
  {
   "cell_type": "code",
   "execution_count": 75,
   "metadata": {},
   "outputs": [
    {
     "data": {
      "image/png": "[encoded data removed]",
      "text/plain": [
       "<Figure size 864x720 with 1 Axes>"
      ]
     },
     "metadata": {
      "needs_background": "light"
     },
     "output_type": "display_data"
    }
   ],
   "source": [
    "### As shown in section 3.2.1) but this time with data beginning at 2013\n",
    "\n",
    "df_grouped = df_sorted.groupby('platform')[['eu_sales', 'na_sales', 'jp_sales', 'other_sales', 'total_sales']].sum()\n",
    "\n",
    "df_grouped = df_grouped.sort_values('total_sales')\n",
    "\n",
    "fields = ['na_sales','eu_sales','jp_sales','other_sales']\n",
    "colors = ['#1D2F6F', '#8390FA', '#6EAF46', '#FAC748']\n",
    "labels = ['NA', 'EU', 'JP', 'Others']\n",
    "\n",
    "\n",
    "# figure and axis\n",
    "fig, ax = plt.subplots(1, figsize=(12, 10))\n",
    "\n",
    "\n",
    "# plot bars\n",
    "left = len(df_grouped) * [0]\n",
    "\n",
    "for idx, name in enumerate(fields):\n",
    "    plt.barh(df_grouped.index, df_grouped[name], left = left, color=colors[idx])\n",
    "    left = left + df_grouped[name]\n",
    "\n",
    "    \n",
    "# title, legend, labels\n",
    "plt.title('Video Game Sales By Platform and Region (Data beginning at 2013)\\n', loc='left')\n",
    "plt.legend(labels, bbox_to_anchor=([0.55, 1, 0, 0]), ncol=4, frameon=False)\n",
    "plt.xlabel('Revenues in Million US Dollars')\n",
    "\n",
    "\n",
    "# remove spines\n",
    "ax.spines['right'].set_visible(False)\n",
    "ax.spines['left'].set_visible(False)\n",
    "ax.spines['top'].set_visible(False)\n",
    "ax.spines['bottom'].set_visible(False)\n",
    "\n",
    "\n",
    "# adjust limits and draw grid lines\n",
    "plt.ylim(-0.5, ax.get_yticks()[-1] + 0.5)\n",
    "ax.set_axisbelow(True)\n",
    "ax.xaxis.grid(color='gray', linestyle='dashed')\n",
    "plt.show()"
   ]
  },
  {
   "cell_type": "code",
   "execution_count": 76,
   "metadata": {},
   "outputs": [
    {
     "data": {
      "text/html": [
       "<div>\n",
       "<style scoped>\n",
       "    .dataframe tbody tr th:only-of-type {\n",
       "        vertical-align: middle;\n",
       "    }\n",
       "\n",
       "    .dataframe tbody tr th {\n",
       "        vertical-align: top;\n",
       "    }\n",
       "\n",
       "    .dataframe thead th {\n",
       "        text-align: right;\n",
       "    }\n",
       "</style>\n",
       "<table border=\"1\" class=\"dataframe\">\n",
       "  <thead>\n",
       "    <tr style=\"text-align: right;\">\n",
       "      <th></th>\n",
       "      <th>eu_sales</th>\n",
       "      <th>na_sales</th>\n",
       "      <th>jp_sales</th>\n",
       "      <th>other_sales</th>\n",
       "      <th>total_sales</th>\n",
       "    </tr>\n",
       "    <tr>\n",
       "      <th>platform</th>\n",
       "      <th></th>\n",
       "      <th></th>\n",
       "      <th></th>\n",
       "      <th></th>\n",
       "      <th></th>\n",
       "    </tr>\n",
       "  </thead>\n",
       "  <tbody>\n",
       "    <tr>\n",
       "      <td>DS</td>\n",
       "      <td>0.85</td>\n",
       "      <td>0.57</td>\n",
       "      <td>0.00</td>\n",
       "      <td>0.12</td>\n",
       "      <td>1.54</td>\n",
       "    </tr>\n",
       "    <tr>\n",
       "      <td>PSP</td>\n",
       "      <td>0.17</td>\n",
       "      <td>0.00</td>\n",
       "      <td>3.29</td>\n",
       "      <td>0.04</td>\n",
       "      <td>3.50</td>\n",
       "    </tr>\n",
       "    <tr>\n",
       "      <td>Wii</td>\n",
       "      <td>5.93</td>\n",
       "      <td>6.56</td>\n",
       "      <td>0.05</td>\n",
       "      <td>1.12</td>\n",
       "      <td>13.66</td>\n",
       "    </tr>\n",
       "    <tr>\n",
       "      <td>PSV</td>\n",
       "      <td>6.10</td>\n",
       "      <td>5.04</td>\n",
       "      <td>18.59</td>\n",
       "      <td>3.26</td>\n",
       "      <td>32.99</td>\n",
       "    </tr>\n",
       "    <tr>\n",
       "      <td>PC</td>\n",
       "      <td>25.36</td>\n",
       "      <td>11.11</td>\n",
       "      <td>0.00</td>\n",
       "      <td>2.96</td>\n",
       "      <td>39.43</td>\n",
       "    </tr>\n",
       "    <tr>\n",
       "      <td>WiiU</td>\n",
       "      <td>19.85</td>\n",
       "      <td>29.21</td>\n",
       "      <td>10.88</td>\n",
       "      <td>4.69</td>\n",
       "      <td>64.63</td>\n",
       "    </tr>\n",
       "    <tr>\n",
       "      <td>X360</td>\n",
       "      <td>42.52</td>\n",
       "      <td>81.66</td>\n",
       "      <td>0.51</td>\n",
       "      <td>12.11</td>\n",
       "      <td>136.80</td>\n",
       "    </tr>\n",
       "    <tr>\n",
       "      <td>3DS</td>\n",
       "      <td>30.96</td>\n",
       "      <td>38.20</td>\n",
       "      <td>67.81</td>\n",
       "      <td>6.28</td>\n",
       "      <td>143.25</td>\n",
       "    </tr>\n",
       "    <tr>\n",
       "      <td>XOne</td>\n",
       "      <td>51.59</td>\n",
       "      <td>93.12</td>\n",
       "      <td>0.34</td>\n",
       "      <td>14.27</td>\n",
       "      <td>159.32</td>\n",
       "    </tr>\n",
       "    <tr>\n",
       "      <td>PS3</td>\n",
       "      <td>67.81</td>\n",
       "      <td>63.50</td>\n",
       "      <td>23.35</td>\n",
       "      <td>26.77</td>\n",
       "      <td>181.43</td>\n",
       "    </tr>\n",
       "    <tr>\n",
       "      <td>PS4</td>\n",
       "      <td>141.09</td>\n",
       "      <td>108.74</td>\n",
       "      <td>15.96</td>\n",
       "      <td>48.35</td>\n",
       "      <td>314.14</td>\n",
       "    </tr>\n",
       "  </tbody>\n",
       "</table>\n",
       "</div>"
      ],
      "text/plain": [
       "          eu_sales  na_sales  jp_sales  other_sales  total_sales\n",
       "platform                                                        \n",
       "DS            0.85      0.57      0.00         0.12         1.54\n",
       "PSP           0.17      0.00      3.29         0.04         3.50\n",
       "Wii           5.93      6.56      0.05         1.12        13.66\n",
       "PSV           6.10      5.04     18.59         3.26        32.99\n",
       "PC           25.36     11.11      0.00         2.96        39.43\n",
       "WiiU         19.85     29.21     10.88         4.69        64.63\n",
       "X360         42.52     81.66      0.51        12.11       136.80\n",
       "3DS          30.96     38.20     67.81         6.28       143.25\n",
       "XOne         51.59     93.12      0.34        14.27       159.32\n",
       "PS3          67.81     63.50     23.35        26.77       181.43\n",
       "PS4         141.09    108.74     15.96        48.35       314.14"
      ]
     },
     "execution_count": 76,
     "metadata": {},
     "output_type": "execute_result"
    }
   ],
   "source": [
    "df_grouped"
   ]
  },
  {
   "cell_type": "code",
   "execution_count": 77,
   "metadata": {},
   "outputs": [
    {
     "name": "stdout",
     "output_type": "stream",
     "text": [
      "The graphic shows the market shares for every region.\n",
      "Regarding the graphic, the top five platforms are:\n",
      "\n",
      "For NA:\n",
      "PS4, XOne, X360, PS3, 3DS\n",
      "\n",
      "For EU:\n",
      "PS4, PS3, XOne, X360, 3DS\n",
      "\n",
      "For JP:\n",
      "3DS, PS3, PSV, PS4, WiiU\n"
     ]
    }
   ],
   "source": [
    "print(\"The graphic shows the market shares for every region.\")\n",
    "print(\"Regarding the graphic, the top five platforms are:\")\n",
    "print()\n",
    "print(\"For NA:\")\n",
    "print(\"PS4, XOne, X360, PS3, 3DS\")\n",
    "print()\n",
    "print(\"For EU:\")\n",
    "print(\"PS4, PS3, XOne, X360, 3DS\")\n",
    "print()\n",
    "print(\"For JP:\")\n",
    "print(\"3DS, PS3, PSV, PS4, WiiU\")"
   ]
  },
  {
   "cell_type": "markdown",
   "metadata": {},
   "source": [
    "#### Conclusion"
   ]
  },
  {
   "cell_type": "markdown",
   "metadata": {},
   "source": [
    "Between Europe and North America, there is no difference between the top five platforms with the most revenue. The XOne has not a big market share, but more than the half of it is determined by NA market share. The contrast to Japan is bigger: The market shares show other platforms being popular: PS4, PS3 and 3DS have all three regions in common, but the differences are handheld consoles. It seems like in Japan this kind of gaming is much more popular (JP Sales of 3DS is much bigger than of PS3, which is the 2nd biggest in JP). Japan has the bigest quote of consoles from the brand 'Nintendo' which is also a japan brand in the top five. In generell, the companys Microsoft with X360 and XOne and Sony with PS3 and PS4 have a big market share."
   ]
  },
  {
   "cell_type": "markdown",
   "metadata": {},
   "source": [
    "<a id=\"4.2\"></a>"
   ]
  },
  {
   "cell_type": "markdown",
   "metadata": {},
   "source": [
    "### 4.2) The top five genres"
   ]
  },
  {
   "cell_type": "code",
   "execution_count": 78,
   "metadata": {
    "scrolled": false
   },
   "outputs": [
    {
     "data": {
      "image/png": "[encoded data removed]",
      "text/plain": [
       "<Figure size 864x720 with 1 Axes>"
      ]
     },
     "metadata": {
      "needs_background": "light"
     },
     "output_type": "display_data"
    }
   ],
   "source": [
    "df_grouped = df_sorted.groupby('genre')[['eu_sales', 'na_sales', 'jp_sales', 'other_sales', 'total_sales']].sum()\n",
    "\n",
    "df_grouped = df_grouped.sort_values('total_sales')\n",
    "\n",
    "\n",
    "fields = ['na_sales','eu_sales','jp_sales','other_sales']\n",
    "colors = ['#1D2F6F', '#8390FA', '#6EAF46', '#FAC748']\n",
    "labels = ['NA', 'EU', 'JP', 'Others']\n",
    "\n",
    "\n",
    "# figure and axis\n",
    "fig, ax = plt.subplots(1, figsize=(12, 10))\n",
    "\n",
    "\n",
    "# plot bars\n",
    "left = len(df_grouped) * [0]\n",
    "\n",
    "for idx, name in enumerate(fields):\n",
    "    plt.barh(df_grouped.index, df_grouped[name], left = left, color=colors[idx])\n",
    "    left = left + df_grouped[name]\n",
    "\n",
    "    \n",
    "# title, legend, labels\n",
    "plt.title('Video Game Sales By Platform and Region (Data beginning at 2013)\\n', loc='left')\n",
    "plt.legend(labels, bbox_to_anchor=([0.55, 1, 0, 0]), ncol=4, frameon=False)\n",
    "plt.xlabel('Revenues in Million US Dollars')\n",
    "\n",
    "\n",
    "# remove spines\n",
    "ax.spines['right'].set_visible(False)\n",
    "ax.spines['left'].set_visible(False)\n",
    "ax.spines['top'].set_visible(False)\n",
    "ax.spines['bottom'].set_visible(False)\n",
    "\n",
    "\n",
    "# adjust limits and draw grid lines\n",
    "plt.ylim(-0.5, ax.get_yticks()[-1] + 0.5)\n",
    "ax.set_axisbelow(True)\n",
    "ax.xaxis.grid(color='gray', linestyle='dashed')\n",
    "plt.show()"
   ]
  },
  {
   "cell_type": "code",
   "execution_count": 79,
   "metadata": {},
   "outputs": [
    {
     "data": {
      "text/html": [
       "<div>\n",
       "<style scoped>\n",
       "    .dataframe tbody tr th:only-of-type {\n",
       "        vertical-align: middle;\n",
       "    }\n",
       "\n",
       "    .dataframe tbody tr th {\n",
       "        vertical-align: top;\n",
       "    }\n",
       "\n",
       "    .dataframe thead th {\n",
       "        text-align: right;\n",
       "    }\n",
       "</style>\n",
       "<table border=\"1\" class=\"dataframe\">\n",
       "  <thead>\n",
       "    <tr style=\"text-align: right;\">\n",
       "      <th></th>\n",
       "      <th>eu_sales</th>\n",
       "      <th>na_sales</th>\n",
       "      <th>jp_sales</th>\n",
       "      <th>other_sales</th>\n",
       "      <th>total_sales</th>\n",
       "    </tr>\n",
       "    <tr>\n",
       "      <th>genre</th>\n",
       "      <th></th>\n",
       "      <th></th>\n",
       "      <th></th>\n",
       "      <th></th>\n",
       "      <th></th>\n",
       "    </tr>\n",
       "  </thead>\n",
       "  <tbody>\n",
       "    <tr>\n",
       "      <td>Puzzle</td>\n",
       "      <td>1.00</td>\n",
       "      <td>0.83</td>\n",
       "      <td>1.18</td>\n",
       "      <td>0.16</td>\n",
       "      <td>3.17</td>\n",
       "    </tr>\n",
       "    <tr>\n",
       "      <td>Strategy</td>\n",
       "      <td>4.22</td>\n",
       "      <td>3.28</td>\n",
       "      <td>1.77</td>\n",
       "      <td>0.81</td>\n",
       "      <td>10.08</td>\n",
       "    </tr>\n",
       "    <tr>\n",
       "      <td>Simulation</td>\n",
       "      <td>10.92</td>\n",
       "      <td>4.86</td>\n",
       "      <td>4.52</td>\n",
       "      <td>1.46</td>\n",
       "      <td>21.76</td>\n",
       "    </tr>\n",
       "    <tr>\n",
       "      <td>Adventure</td>\n",
       "      <td>8.25</td>\n",
       "      <td>7.14</td>\n",
       "      <td>5.82</td>\n",
       "      <td>2.43</td>\n",
       "      <td>23.64</td>\n",
       "    </tr>\n",
       "    <tr>\n",
       "      <td>Fighting</td>\n",
       "      <td>8.55</td>\n",
       "      <td>15.55</td>\n",
       "      <td>7.65</td>\n",
       "      <td>3.56</td>\n",
       "      <td>35.31</td>\n",
       "    </tr>\n",
       "    <tr>\n",
       "      <td>Racing</td>\n",
       "      <td>20.19</td>\n",
       "      <td>12.96</td>\n",
       "      <td>2.30</td>\n",
       "      <td>4.44</td>\n",
       "      <td>39.89</td>\n",
       "    </tr>\n",
       "    <tr>\n",
       "      <td>Platform</td>\n",
       "      <td>15.58</td>\n",
       "      <td>18.14</td>\n",
       "      <td>4.79</td>\n",
       "      <td>4.12</td>\n",
       "      <td>42.63</td>\n",
       "    </tr>\n",
       "    <tr>\n",
       "      <td>Misc</td>\n",
       "      <td>20.04</td>\n",
       "      <td>27.49</td>\n",
       "      <td>9.20</td>\n",
       "      <td>6.09</td>\n",
       "      <td>62.82</td>\n",
       "    </tr>\n",
       "    <tr>\n",
       "      <td>Role-Playing</td>\n",
       "      <td>36.97</td>\n",
       "      <td>46.40</td>\n",
       "      <td>51.04</td>\n",
       "      <td>11.48</td>\n",
       "      <td>145.89</td>\n",
       "    </tr>\n",
       "    <tr>\n",
       "      <td>Sports</td>\n",
       "      <td>60.52</td>\n",
       "      <td>65.27</td>\n",
       "      <td>5.41</td>\n",
       "      <td>19.45</td>\n",
       "      <td>150.65</td>\n",
       "    </tr>\n",
       "    <tr>\n",
       "      <td>Shooter</td>\n",
       "      <td>87.86</td>\n",
       "      <td>109.74</td>\n",
       "      <td>6.61</td>\n",
       "      <td>28.77</td>\n",
       "      <td>232.98</td>\n",
       "    </tr>\n",
       "    <tr>\n",
       "      <td>Action</td>\n",
       "      <td>118.13</td>\n",
       "      <td>126.05</td>\n",
       "      <td>40.49</td>\n",
       "      <td>37.20</td>\n",
       "      <td>321.87</td>\n",
       "    </tr>\n",
       "  </tbody>\n",
       "</table>\n",
       "</div>"
      ],
      "text/plain": [
       "              eu_sales  na_sales  jp_sales  other_sales  total_sales\n",
       "genre                                                               \n",
       "Puzzle            1.00      0.83      1.18         0.16         3.17\n",
       "Strategy          4.22      3.28      1.77         0.81        10.08\n",
       "Simulation       10.92      4.86      4.52         1.46        21.76\n",
       "Adventure         8.25      7.14      5.82         2.43        23.64\n",
       "Fighting          8.55     15.55      7.65         3.56        35.31\n",
       "Racing           20.19     12.96      2.30         4.44        39.89\n",
       "Platform         15.58     18.14      4.79         4.12        42.63\n",
       "Misc             20.04     27.49      9.20         6.09        62.82\n",
       "Role-Playing     36.97     46.40     51.04        11.48       145.89\n",
       "Sports           60.52     65.27      5.41        19.45       150.65\n",
       "Shooter          87.86    109.74      6.61        28.77       232.98\n",
       "Action          118.13    126.05     40.49        37.20       321.87"
      ]
     },
     "execution_count": 79,
     "metadata": {},
     "output_type": "execute_result"
    }
   ],
   "source": [
    "df_grouped"
   ]
  },
  {
   "cell_type": "code",
   "execution_count": 80,
   "metadata": {},
   "outputs": [
    {
     "name": "stdout",
     "output_type": "stream",
     "text": [
      "The graphic shows the market shares for every region.\n",
      "Regarding the graphic, the top five genres are:\n",
      "\n",
      "For NA:\n",
      "Action, Shooter, Sports, Role-Playing, Misc\n",
      "\n",
      "For EU:\n",
      "Action, Shooter, Sports, Role-Playing, Racing\n",
      "\n",
      "For JP:\n",
      "Role-Playing, Action, Misc, Fighting, Shooter\n"
     ]
    }
   ],
   "source": [
    "print(\"The graphic shows the market shares for every region.\")\n",
    "print(\"Regarding the graphic, the top five genres are:\")\n",
    "print()\n",
    "print(\"For NA:\")\n",
    "print(\"Action, Shooter, Sports, Role-Playing, Misc\")\n",
    "print()\n",
    "print(\"For EU:\")\n",
    "print(\"Action, Shooter, Sports, Role-Playing, Racing\")\n",
    "print()\n",
    "print(\"For JP:\")\n",
    "print(\"Role-Playing, Action, Misc, Fighting, Shooter\")"
   ]
  },
  {
   "cell_type": "markdown",
   "metadata": {},
   "source": [
    "#### Conclusion"
   ]
  },
  {
   "cell_type": "markdown",
   "metadata": {},
   "source": [
    "The most popular genres have not a big variety in NA and EU. Action, Shooter and Role-Playing is for every region in the top five genres. Japan is the only region where Fighting games are in the top five genres. Racing is the only top five genre for EU. When looking at the JP sales, one can see that the market there is strongly dominated by Role-Playing and Action games."
   ]
  },
  {
   "cell_type": "markdown",
   "metadata": {},
   "source": [
    "<a id=\"4.3\"></a>"
   ]
  },
  {
   "cell_type": "markdown",
   "metadata": {},
   "source": [
    "### 4.3) Do ESRB ratings affect sales in individual regions?"
   ]
  },
  {
   "cell_type": "code",
   "execution_count": 81,
   "metadata": {},
   "outputs": [
    {
     "data": {
      "image/png": "[encoded data removed]",
      "text/plain": [
       "<Figure size 1152x432 with 1 Axes>"
      ]
     },
     "metadata": {
      "needs_background": "light"
     },
     "output_type": "display_data"
    }
   ],
   "source": [
    "##### plot bar charts for every region\n",
    "\n",
    "\n",
    "# pivot tables for getting the mean sale and count the sales for every rating\n",
    "df_rating_eu = df_sorted.pivot_table(index = 'rating', values = 'eu_sales', \\\n",
    "                                       aggfunc = ['count', 'mean'])\n",
    "df_rating_na = df_sorted.pivot_table(index = 'rating', values = 'na_sales', \\\n",
    "                                       aggfunc = ['count', 'mean'])\n",
    "df_rating_jp = df_sorted.pivot_table(index = 'rating', values = 'jp_sales', \\\n",
    "                                       aggfunc = ['count', 'mean'])\n",
    "\n",
    "# rename columns\n",
    "df_rating_eu.columns = ['Number of Games', 'Average EU Sale (in Mio. USD)']\n",
    "df_rating_na.columns = ['Number of Games', 'Average NA Sale (in Mio. USD)']\n",
    "df_rating_jp.columns = ['Number of Games', 'Average JP Sale (in Mio. USD)']\n",
    "\n",
    "\n",
    "# define figure\n",
    "fig, ax = plt.subplots(1, figsize=(16, 6))\n",
    "\n",
    "# numericals\n",
    "x = np.arange(0, len(df_rating_eu.index))\n",
    "\n",
    "# plot bars\n",
    "plt.bar(x - 0.3, df_rating_eu['Average EU Sale (in Mio. USD)'], width = 0.2, color = '#1D2F6F')\n",
    "plt.bar(x - 0.1, df_rating_na['Average NA Sale (in Mio. USD)'], width = 0.2, color = '#8390FA')\n",
    "plt.bar(x + 0.1, df_rating_jp['Average JP Sale (in Mio. USD)'], width = 0.2, color = '#6EAF46')\n",
    "\n",
    "# remove spines\n",
    "ax.spines['right'].set_visible(False)\n",
    "ax.spines['top'].set_visible(False)\n",
    "\n",
    "# x y details\n",
    "plt.ylabel('Average Sales in Mio. US Dollars')\n",
    "plt.xlabel('Ratings')\n",
    "plt.xticks(x, df_rating_eu.index)\n",
    "\n",
    "# grid lines\n",
    "ax.set_axisbelow(True)\n",
    "ax.yaxis.grid(color='gray', linestyle='dashed', alpha=0.7)\n",
    "\n",
    "# title and legend\n",
    "plt.title('Average Sale per Game for Different Ratings and for Every Region (EU, NA, JP) (2013 - 2016)', loc ='left')\n",
    "plt.legend(['Average EU Sale', 'Average NA Sale', 'Average JP Sale'], loc='upper right', ncol = 4)\n",
    "plt.show()"
   ]
  },
  {
   "cell_type": "code",
   "execution_count": 82,
   "metadata": {},
   "outputs": [
    {
     "data": {
      "text/html": [
       "<div>\n",
       "<style scoped>\n",
       "    .dataframe tbody tr th:only-of-type {\n",
       "        vertical-align: middle;\n",
       "    }\n",
       "\n",
       "    .dataframe tbody tr th {\n",
       "        vertical-align: top;\n",
       "    }\n",
       "\n",
       "    .dataframe thead th {\n",
       "        text-align: right;\n",
       "    }\n",
       "</style>\n",
       "<table border=\"1\" class=\"dataframe\">\n",
       "  <thead>\n",
       "    <tr style=\"text-align: right;\">\n",
       "      <th></th>\n",
       "      <th>Number of Games</th>\n",
       "      <th>Average EU Sale (in Mio. USD)</th>\n",
       "    </tr>\n",
       "    <tr>\n",
       "      <th>rating</th>\n",
       "      <th></th>\n",
       "      <th></th>\n",
       "    </tr>\n",
       "  </thead>\n",
       "  <tbody>\n",
       "    <tr>\n",
       "      <td>E</td>\n",
       "      <td>302</td>\n",
       "      <td>0.276026</td>\n",
       "    </tr>\n",
       "    <tr>\n",
       "      <td>E10+</td>\n",
       "      <td>252</td>\n",
       "      <td>0.169405</td>\n",
       "    </tr>\n",
       "    <tr>\n",
       "      <td>M</td>\n",
       "      <td>369</td>\n",
       "      <td>0.393821</td>\n",
       "    </tr>\n",
       "    <tr>\n",
       "      <td>T</td>\n",
       "      <td>333</td>\n",
       "      <td>0.125976</td>\n",
       "    </tr>\n",
       "    <tr>\n",
       "      <td>undefined</td>\n",
       "      <td>977</td>\n",
       "      <td>0.080768</td>\n",
       "    </tr>\n",
       "  </tbody>\n",
       "</table>\n",
       "</div>"
      ],
      "text/plain": [
       "           Number of Games  Average EU Sale (in Mio. USD)\n",
       "rating                                                   \n",
       "E                      302                       0.276026\n",
       "E10+                   252                       0.169405\n",
       "M                      369                       0.393821\n",
       "T                      333                       0.125976\n",
       "undefined              977                       0.080768"
      ]
     },
     "execution_count": 82,
     "metadata": {},
     "output_type": "execute_result"
    }
   ],
   "source": [
    "df_rating_eu"
   ]
  },
  {
   "cell_type": "code",
   "execution_count": 83,
   "metadata": {},
   "outputs": [
    {
     "data": {
      "text/html": [
       "<div>\n",
       "<style scoped>\n",
       "    .dataframe tbody tr th:only-of-type {\n",
       "        vertical-align: middle;\n",
       "    }\n",
       "\n",
       "    .dataframe tbody tr th {\n",
       "        vertical-align: top;\n",
       "    }\n",
       "\n",
       "    .dataframe thead th {\n",
       "        text-align: right;\n",
       "    }\n",
       "</style>\n",
       "<table border=\"1\" class=\"dataframe\">\n",
       "  <thead>\n",
       "    <tr style=\"text-align: right;\">\n",
       "      <th></th>\n",
       "      <th>Number of Games</th>\n",
       "      <th>Average NA Sale (in Mio. USD)</th>\n",
       "    </tr>\n",
       "    <tr>\n",
       "      <th>rating</th>\n",
       "      <th></th>\n",
       "      <th></th>\n",
       "    </tr>\n",
       "  </thead>\n",
       "  <tbody>\n",
       "    <tr>\n",
       "      <td>E</td>\n",
       "      <td>302</td>\n",
       "      <td>0.261755</td>\n",
       "    </tr>\n",
       "    <tr>\n",
       "      <td>E10+</td>\n",
       "      <td>252</td>\n",
       "      <td>0.215238</td>\n",
       "    </tr>\n",
       "    <tr>\n",
       "      <td>M</td>\n",
       "      <td>369</td>\n",
       "      <td>0.447724</td>\n",
       "    </tr>\n",
       "    <tr>\n",
       "      <td>T</td>\n",
       "      <td>333</td>\n",
       "      <td>0.149520</td>\n",
       "    </tr>\n",
       "    <tr>\n",
       "      <td>undefined</td>\n",
       "      <td>977</td>\n",
       "      <td>0.091525</td>\n",
       "    </tr>\n",
       "  </tbody>\n",
       "</table>\n",
       "</div>"
      ],
      "text/plain": [
       "           Number of Games  Average NA Sale (in Mio. USD)\n",
       "rating                                                   \n",
       "E                      302                       0.261755\n",
       "E10+                   252                       0.215238\n",
       "M                      369                       0.447724\n",
       "T                      333                       0.149520\n",
       "undefined              977                       0.091525"
      ]
     },
     "execution_count": 83,
     "metadata": {},
     "output_type": "execute_result"
    }
   ],
   "source": [
    "df_rating_na"
   ]
  },
  {
   "cell_type": "code",
   "execution_count": 84,
   "metadata": {},
   "outputs": [
    {
     "data": {
      "text/html": [
       "<div>\n",
       "<style scoped>\n",
       "    .dataframe tbody tr th:only-of-type {\n",
       "        vertical-align: middle;\n",
       "    }\n",
       "\n",
       "    .dataframe tbody tr th {\n",
       "        vertical-align: top;\n",
       "    }\n",
       "\n",
       "    .dataframe thead th {\n",
       "        text-align: right;\n",
       "    }\n",
       "</style>\n",
       "<table border=\"1\" class=\"dataframe\">\n",
       "  <thead>\n",
       "    <tr style=\"text-align: right;\">\n",
       "      <th></th>\n",
       "      <th>Number of Games</th>\n",
       "      <th>Average JP Sale (in Mio. USD)</th>\n",
       "    </tr>\n",
       "    <tr>\n",
       "      <th>rating</th>\n",
       "      <th></th>\n",
       "      <th></th>\n",
       "    </tr>\n",
       "  </thead>\n",
       "  <tbody>\n",
       "    <tr>\n",
       "      <td>E</td>\n",
       "      <td>302</td>\n",
       "      <td>0.050132</td>\n",
       "    </tr>\n",
       "    <tr>\n",
       "      <td>E10+</td>\n",
       "      <td>252</td>\n",
       "      <td>0.023373</td>\n",
       "    </tr>\n",
       "    <tr>\n",
       "      <td>M</td>\n",
       "      <td>369</td>\n",
       "      <td>0.038238</td>\n",
       "    </tr>\n",
       "    <tr>\n",
       "      <td>T</td>\n",
       "      <td>333</td>\n",
       "      <td>0.061832</td>\n",
       "    </tr>\n",
       "    <tr>\n",
       "      <td>undefined</td>\n",
       "      <td>977</td>\n",
       "      <td>0.087052</td>\n",
       "    </tr>\n",
       "  </tbody>\n",
       "</table>\n",
       "</div>"
      ],
      "text/plain": [
       "           Number of Games  Average JP Sale (in Mio. USD)\n",
       "rating                                                   \n",
       "E                      302                       0.050132\n",
       "E10+                   252                       0.023373\n",
       "M                      369                       0.038238\n",
       "T                      333                       0.061832\n",
       "undefined              977                       0.087052"
      ]
     },
     "execution_count": 84,
     "metadata": {},
     "output_type": "execute_result"
    }
   ],
   "source": [
    "df_rating_jp"
   ]
  },
  {
   "cell_type": "markdown",
   "metadata": {},
   "source": [
    "#### Conclusion"
   ]
  },
  {
   "cell_type": "markdown",
   "metadata": {},
   "source": [
    "The four ratings E, E10+, M and T have enough games for valid inferences. <br>\n",
    "The biggest difference in average sales within the four ratings are (units of million US dollars): <br>\n",
    "for NA: 'M' (0.4477), 'T' (0.1495), percentage of increase: 200% <br>\n",
    "for JP: 'T' (0.0618), 'E10+' (0.0234), percentage of increase: 164% <br>\n",
    "for EU: 'M' (0.3938), 'T' (0.126), percentage of increase: 213% <br>\n",
    "These three percentages tell us that the differences in sales by ratings are given for every region and vary between 164% and 213%. The 'M' rating correlates with the biggest average sales in EU and in NA, but in JP it is the 'T' rating that has the biggest average sales. Interestingly, the 'T' rating ist the one with the smallest average sale in NA and EU. Overall, there are significant impacts of the ratings to the sales in different regions, this impact differs in its intensity and in ratings within these three regions. The average sale for undefined ratings vary small betwen 0.081 in EU and 0.091 in NA. Interestingly, the undefined average sale in JP is bigger than the ones for the defined sales and is the smallest one for EU and NA ratings. This means that the games with very low sales in EU and NA have more often no ratings. At the same time, these are the games with the highest average sale in JP."
   ]
  },
  {
   "cell_type": "markdown",
   "metadata": {},
   "source": [
    "<a id=\"5\"></a>"
   ]
  },
  {
   "cell_type": "markdown",
   "metadata": {},
   "source": [
    "## 5) Test of Hypotheses"
   ]
  },
  {
   "cell_type": "markdown",
   "metadata": {},
   "source": [
    "<a id=\"5.1\"></a>"
   ]
  },
  {
   "cell_type": "markdown",
   "metadata": {},
   "source": [
    "### 5.1) Hypothesis 1: Average user ratings of the Xbox One and PC platforms are the same."
   ]
  },
  {
   "cell_type": "markdown",
   "metadata": {},
   "source": [
    "#### Prepare the Data"
   ]
  },
  {
   "cell_type": "code",
   "execution_count": 85,
   "metadata": {},
   "outputs": [],
   "source": [
    "df_user_xone = df_sorted.query('platform == \"XOne\" and user_score == user_score')\n",
    "df_user_pc = df_sorted.query('platform == \"PC\" and user_score == user_score')"
   ]
  },
  {
   "cell_type": "code",
   "execution_count": 86,
   "metadata": {},
   "outputs": [
    {
     "data": {
      "image/png": "[encoded data removed]",
      "text/plain": [
       "<Figure size 432x288 with 1 Axes>"
      ]
     },
     "metadata": {
      "needs_background": "light"
     },
     "output_type": "display_data"
    },
    {
     "data": {
      "image/png": "[encoded data removed]",
      "text/plain": [
       "<Figure size 432x288 with 1 Axes>"
      ]
     },
     "metadata": {
      "needs_background": "light"
     },
     "output_type": "display_data"
    }
   ],
   "source": [
    "# Histogram for XOne\n",
    "\n",
    "df_user_xone['user_score'] \\\n",
    ".hist(bins = [0, .5, 1, 1.5, 2, 2.5, 3, 3.5, 4, 4.5, 5, 5.5, 6, 6.5, 7, 7.5, 8, 8.5, 9, 9.5, 10], alpha = 0.7, label='XOne')\n",
    "plt.title('Histogram for user ratings (XOne) (2013 - 2016)')\n",
    "plt.xlabel('user rating scores')\n",
    "plt.ylabel('user ratings')\n",
    "plt.legend(loc='best')\n",
    "plt.show()\n",
    "\n",
    "\n",
    "# Histogram for PC\n",
    "\n",
    "df_user_pc['user_score'] \\\n",
    ".hist(bins=[0, .5, 1, 1.5, 2, 2.5, 3, 3.5, 4, 4.5, 5, 5.5, 6, 6.5, 7, 7.5, 8, 8.5, 9, 9.5, 10],alpha=0.7,label='PC',color='red')\n",
    "plt.title('Histogram for user ratings (PC) (2013 - 2016)')\n",
    "plt.xlabel('user rating scores')\n",
    "plt.ylabel('user ratings')\n",
    "plt.legend(loc='best')\n",
    "plt.show()"
   ]
  },
  {
   "cell_type": "markdown",
   "metadata": {},
   "source": [
    "#### Test of Hypothesis 1\n",
    "\n",
    "Average user ratings of the Xbox One and PC platforms are the same."
   ]
  },
  {
   "cell_type": "markdown",
   "metadata": {},
   "source": [
    "###### Check the equality of samples"
   ]
  },
  {
   "cell_type": "code",
   "execution_count": 87,
   "metadata": {
    "scrolled": false
   },
   "outputs": [
    {
     "name": "stdout",
     "output_type": "stream",
     "text": [
      "#### Infos about samples\n",
      "\n",
      "Size of PC sample: 155\n",
      "Size of XOne sample: 182\n",
      "\n",
      "User rating mean value for PC: 6.3\n",
      "User rating mean value for XOne: 6.5\n",
      "\n",
      "User rating variance for PC: 3.0\n",
      "User rating variance for XOne: 1.9\n",
      "\n",
      "\n",
      "#### Check equality of variances\n",
      "\n",
      "As one can see in the histograms above, we have significant deviations from normal distributions for user scores.\n",
      "The distributions are left skewed, so, we use the Levene's test for checking equality of variances.\n",
      "\n",
      "Null hypothesis: Both samples are from populations with equal variances.\n",
      "Alternative hypothesis: Both samples are from populations with unequal variances.\n",
      "\n",
      "Critical statistical significance level: alpha = 5%; if the p-value is less than alpha, we reject the null hypothesis.\n",
      "\n",
      "p-value from levene test:  0.003897553110130418\n",
      "\n",
      "We reject the null hypothesis.\n",
      "\n",
      "So for the statistical test we can assume unequal variances.\n"
     ]
    }
   ],
   "source": [
    "print(\"#### Infos about samples\")\n",
    "print()\n",
    "print(\"Size of PC sample:\", len(df_user_pc))\n",
    "print(\"Size of XOne sample:\", len(df_user_xone))\n",
    "print()\n",
    "print(\"User rating mean value for PC: {:.1f}\".format(df_user_pc['user_score'].mean()))\n",
    "print(\"User rating mean value for XOne: {:.1f}\".format(df_user_xone['user_score'].mean()))\n",
    "print()\n",
    "print(\"User rating variance for PC: {:.1f}\".format(df_user_pc['user_score'].std()**2))\n",
    "print(\"User rating variance for XOne: {:.1f}\".format(df_user_xone['user_score'].std()**2))\n",
    "print()\n",
    "print()\n",
    "print(\"#### Check equality of variances\")\n",
    "print()\n",
    "print(\"As one can see in the histograms above, we have significant deviations from normal distributions for user scores.\")\n",
    "print(\"The distributions are left skewed, so, we use the Levene's test for checking equality of variances.\")\n",
    "print()\n",
    "print(\"Null hypothesis: Both samples are from populations with equal variances.\")\n",
    "print(\"Alternative hypothesis: Both samples are from populations with unequal variances.\")\n",
    "print()\n",
    "print(\"Critical statistical significance level: alpha = 5%; if the p-value is less than alpha, we reject the null hypothesis.\")\n",
    "print()\n",
    "\n",
    "alpha = 0.05\n",
    "stat, p_value_levene = levene(df_user_pc['user_score'], df_user_xone['user_score'], center = 'median')\n",
    "\n",
    "print('p-value from levene test: ', p_value_levene)\n",
    "print()\n",
    "\n",
    "if (p_value_levene < alpha):\n",
    "        print(\"We reject the null hypothesis.\")\n",
    "else:\n",
    "        print(\"We can't reject the null hypothesis.\")\n",
    "print()\n",
    "print(\"So for the statistical test we can assume unequal variances.\")"
   ]
  },
  {
   "cell_type": "markdown",
   "metadata": {},
   "source": [
    "###### Test of hypothesis"
   ]
  },
  {
   "cell_type": "code",
   "execution_count": 88,
   "metadata": {
    "scrolled": true
   },
   "outputs": [
    {
     "name": "stdout",
     "output_type": "stream",
     "text": [
      "We use the students T-test since we have two independent samples of score with skewed distributions and since we\n",
      "have a hypothesis corresponding to the equality of sample means.\n",
      "\n",
      "We bring the samples in the same size.\n",
      "\n",
      "Null hypothesis: Average user ratings of the Xbox One and PC platforms are the same.\n",
      "Alternative hypothesis: Average user ratings of the Xbox One and PC platforms are not the same.\n",
      "\n",
      "Critical statistical significance level: alpha = 1%; if the p-value is less than alpha, we reject the null hypothesis.\n",
      "\n",
      "p-value from student T-test:  0.09896474133810838\n",
      "\n",
      "We can't reject the null hypothesis.\n"
     ]
    }
   ],
   "source": [
    "print(\"We use the students T-test since we have two independent samples of score with skewed distributions and since we\")\n",
    "print(\"have a hypothesis corresponding to the equality of sample means.\")\n",
    "print()\n",
    "print(\"We bring the samples in the same size.\")\n",
    "print()\n",
    "\n",
    "df_user_xone_sample = df_user_xone.sample(n = len(df_user_pc))\n",
    "\n",
    "print(\"Null hypothesis: Average user ratings of the Xbox One and PC platforms are the same.\")\n",
    "print(\"Alternative hypothesis: Average user ratings of the Xbox One and PC platforms are not the same.\")\n",
    "print()\n",
    "print(\"Critical statistical significance level: alpha = 1%; if the p-value is less than alpha, we reject the null hypothesis.\")\n",
    "print()\n",
    "\n",
    "alpha = 0.01\n",
    "results = st.ttest_ind(df_user_xone_sample['user_score'], df_user_pc['user_score'], equal_var = False)   \n",
    "    \n",
    "print('p-value from student T-test: ', results.pvalue)\n",
    "print()\n",
    "\n",
    "if (results.pvalue < alpha):\n",
    "        print(\"We reject the null hypothesis.\")\n",
    "else:\n",
    "        print(\"We can't reject the null hypothesis.\")"
   ]
  },
  {
   "cell_type": "markdown",
   "metadata": {},
   "source": [
    "#### Conclusion"
   ]
  },
  {
   "cell_type": "markdown",
   "metadata": {},
   "source": [
    "Both distributions for PC and XOne user ratings we saw in the histograms have deviations from normal distributions; they are left skewed. We have very similar mean score values (PC: 6.3, XOne: 6.5) but different variances (PC: 3.0, XOne: 1.9). That's why I used the Levene's test for checking the equality of variances of the samples which rejected the hypothesis of equal variances. Then I used the Student T test for checking the equality of the two population means. For that, I adapted the bigger sample to the same size as the smaller sample, that means both samples now have 155 score values. I chose the significance level of 1% since the calculated mean values are very similar in contrast to the variances and I wanted to test if the hypothesis test permits similar mean values with different widths in the distributions to be the same. If the null hypothesis would be rejected, it would have been definitely significant. The null hypothesis can't be rejected, so the hypothesis of equal means for PC and XOne user scores can be assumed."
   ]
  },
  {
   "cell_type": "markdown",
   "metadata": {},
   "source": [
    "<a id=\"5.2\"></a>"
   ]
  },
  {
   "cell_type": "markdown",
   "metadata": {},
   "source": [
    "### 5.2) Hypothesis 2: Average user ratings for the Action and Sports genres are different."
   ]
  },
  {
   "cell_type": "markdown",
   "metadata": {},
   "source": [
    "#### Prepare the Data"
   ]
  },
  {
   "cell_type": "code",
   "execution_count": 89,
   "metadata": {},
   "outputs": [],
   "source": [
    "df_user_action = df_sorted.query('genre == \"Action\" and user_score == user_score')\n",
    "df_user_sports = df_sorted.query('genre == \"Sports\" and user_score == user_score')"
   ]
  },
  {
   "cell_type": "code",
   "execution_count": 90,
   "metadata": {},
   "outputs": [
    {
     "data": {
      "image/png": "[encoded data removed]",
      "text/plain": [
       "<Figure size 432x288 with 1 Axes>"
      ]
     },
     "metadata": {
      "needs_background": "light"
     },
     "output_type": "display_data"
    },
    {
     "data": {
      "image/png": "[encoded data removed]",
      "text/plain": [
       "<Figure size 432x288 with 1 Axes>"
      ]
     },
     "metadata": {
      "needs_background": "light"
     },
     "output_type": "display_data"
    }
   ],
   "source": [
    "# Histogram for Action games\n",
    "\n",
    "df_user_action['user_score'] \\\n",
    ".hist(bins = [0, .5, 1, 1.5, 2, 2.5, 3, 3.5, 4, 4.5, 5, 5.5, 6, 6.5, 7, 7.5, 8, 8.5, 9, 9.5, 10], alpha = 0.7, label='Action')\n",
    "plt.title('Histogram for user ratings (Action Games) (2013 - 2016)')\n",
    "plt.xlabel('user rating scores')\n",
    "plt.ylabel('user ratings')\n",
    "plt.legend(loc='best')\n",
    "plt.show()\n",
    "\n",
    "# Histogram for Sports games\n",
    "\n",
    "df_user_sports['user_score'] \\\n",
    ".hist(bins = [0, 1, 2, 3, 4, 5, 6, 7, 8, 9, 10], alpha = 0.7, label='Sports',color = 'red')\n",
    "plt.title('Histogram for user ratings (Sports Games) (2013 - 2016)')\n",
    "plt.xlabel('user rating scores')\n",
    "plt.ylabel('user ratings')\n",
    "plt.legend(loc='best')\n",
    "plt.show()"
   ]
  },
  {
   "cell_type": "markdown",
   "metadata": {},
   "source": [
    "#### Test of Hypothesis 2\n",
    "\n",
    "Average user ratings for the Action and Sports genres are different."
   ]
  },
  {
   "cell_type": "markdown",
   "metadata": {},
   "source": [
    "###### Test of equality of variances"
   ]
  },
  {
   "cell_type": "code",
   "execution_count": 91,
   "metadata": {},
   "outputs": [
    {
     "name": "stdout",
     "output_type": "stream",
     "text": [
      "#### Infos about samples\n",
      "\n",
      "Size of Action sample: 389\n",
      "Size of Sports sample: 160\n",
      "\n",
      "User rating mean value for Action games: 6.8\n",
      "User rating mean value for Sports games: 5.2\n",
      "\n",
      "User rating variance for Action games: 1.8\n",
      "User rating variance for Sports games: 3.2\n",
      "\n",
      "\n",
      "#### Check equality of variances\n",
      "\n",
      "As one can see in the histograms above, we have significant deviations from normal distributions for user scores.\n",
      "The distribution of Action games is left skewed and the distribution of sports games is unsymmetrical, so, we use the\n",
      "Levene's test for checking equality of variances.\n",
      "\n",
      "Null hypothesis: Both samples are from populations with equal variances.\n",
      "Alternative hypothesis: Both samples are from populations with unequal variances.\n",
      "\n",
      "Critical statistical significance level: alpha = 5%; if the p-value is less than alpha, we reject the null hypothesis.\n",
      "\n",
      "p-value from levene test:  4.2566688218274047e-07\n",
      "\n",
      "We reject the null hypothesis.\n",
      "\n",
      "So for the statistical test we can assume unequal variances.\n"
     ]
    }
   ],
   "source": [
    "print(\"#### Infos about samples\")\n",
    "print()\n",
    "print(\"Size of Action sample:\", len(df_user_action))\n",
    "print(\"Size of Sports sample:\", len(df_user_sports))\n",
    "print()\n",
    "print(\"User rating mean value for Action games: {:.1f}\".format(df_user_action['user_score'].mean()))\n",
    "print(\"User rating mean value for Sports games: {:.1f}\".format(df_user_sports['user_score'].mean()))\n",
    "print()\n",
    "print(\"User rating variance for Action games: {:.1f}\".format(df_user_action['user_score'].std()**2))\n",
    "print(\"User rating variance for Sports games: {:.1f}\".format(df_user_sports['user_score'].std()**2))\n",
    "print()\n",
    "print()\n",
    "print(\"#### Check equality of variances\")\n",
    "print()\n",
    "print(\"As one can see in the histograms above, we have significant deviations from normal distributions for user scores.\")\n",
    "print(\"The distribution of Action games is left skewed and the distribution of sports games is unsymmetrical, so, we use the\")\n",
    "print(\"Levene's test for checking equality of variances.\")\n",
    "print()\n",
    "print(\"Null hypothesis: Both samples are from populations with equal variances.\")\n",
    "print(\"Alternative hypothesis: Both samples are from populations with unequal variances.\")\n",
    "print()\n",
    "print(\"Critical statistical significance level: alpha = 5%; if the p-value is less than alpha, we reject the null hypothesis.\")\n",
    "print()\n",
    "\n",
    "alpha = 0.05\n",
    "stat, p_value_levene = levene(df_user_action['user_score'], df_user_sports['user_score'], center = 'median')\n",
    "\n",
    "print('p-value from levene test: ', p_value_levene)\n",
    "print()\n",
    "\n",
    "if (p_value_levene < alpha):\n",
    "        print(\"We reject the null hypothesis.\")\n",
    "else:\n",
    "        print(\"We can't reject the null hypothesis.\")\n",
    "print()\n",
    "print(\"So for the statistical test we can assume unequal variances.\")"
   ]
  },
  {
   "cell_type": "markdown",
   "metadata": {},
   "source": [
    "###### Test of hypothesis 2"
   ]
  },
  {
   "cell_type": "code",
   "execution_count": 92,
   "metadata": {},
   "outputs": [
    {
     "name": "stdout",
     "output_type": "stream",
     "text": [
      "We use the students T-test since we have two independent samples of score with skewed resp. unsymmetrical\n",
      "distributions and since we again have a hypothesis corresponding to the equality of sample means.\n",
      "\n",
      "We bring the samples in the same size.\n",
      "\n",
      "Null hypothesis: Average user ratings of Action games and Sports games are the same.\n",
      "Alternative hypothesis: Average user ratings of Action games and Sports games are not the same.\n",
      "\n",
      "Critical statistical significance level: alpha = 5%; if the p-value is less than alpha, we reject the null hypothesis.\n",
      "\n",
      "p-value from student T-test:  3.3212625882136364e-17\n",
      "\n",
      "We reject the null hypothesis.\n"
     ]
    }
   ],
   "source": [
    "print(\"We use the students T-test since we have two independent samples of score with skewed resp. unsymmetrical\")\n",
    "print(\"distributions and since we again have a hypothesis corresponding to the equality of sample means.\")\n",
    "print()\n",
    "print(\"We bring the samples in the same size.\")\n",
    "print()\n",
    "\n",
    "df_user_action_sample = df_user_action.sample(n = len(df_user_sports))\n",
    "\n",
    "print(\"Null hypothesis: Average user ratings of Action games and Sports games are the same.\")\n",
    "print(\"Alternative hypothesis: Average user ratings of Action games and Sports games are not the same.\")\n",
    "print()\n",
    "print(\"Critical statistical significance level: alpha = 5%; if the p-value is less than alpha, we reject the null hypothesis.\")\n",
    "print()\n",
    "\n",
    "alpha = 0.05\n",
    "results = st.ttest_ind(df_user_action_sample['user_score'], df_user_sports['user_score'], equal_var = False)   \n",
    "    \n",
    "print('p-value from student T-test: ', results.pvalue)\n",
    "print()\n",
    "\n",
    "if (results.pvalue < alpha):\n",
    "        print(\"We reject the null hypothesis.\")\n",
    "else:\n",
    "        print(\"We can't reject the null hypothesis.\")"
   ]
  },
  {
   "cell_type": "markdown",
   "metadata": {},
   "source": [
    "### Conclusion"
   ]
  },
  {
   "cell_type": "markdown",
   "metadata": {},
   "source": [
    "Average user ratings for the Action and Sports genres are different; after that test we can't really give an acurate answer to that hypothesis, what we can say is that its opposite statement 'Average user ratings for the Action and Sports genres are the same' must be rejected after the Student T Test by a significance level of 5%. Before testing, we again used the Levene's test for checking the equality of both variances; this equality was rejected by this test. We also had adapted the same sample size for both platforms (160 ratings). We can see that the p value is very small, so this rejection is really significant. The both average ratings are not the same, but it depends to what extent the word 'different' is supposed to be. The mean values (Action: 6.8, Sports: 5.2) are not so similar on the first sight just as their variances (Action: 1.8, Sports: 3.2) as well. The significant level was chosen with 5% because these calculated values and the different distributions seen on the histograms had already indicated that the mean values are not equal; so there was no need to set a smaller significance level."
   ]
  },
  {
   "cell_type": "markdown",
   "metadata": {},
   "source": [
    "<a id=\"6\"></a>"
   ]
  },
  {
   "cell_type": "markdown",
   "metadata": {},
   "source": [
    "## 6) General Conclusion"
   ]
  },
  {
   "cell_type": "markdown",
   "metadata": {},
   "source": [
    "In chapter 3.1 we have observed a decreasing trend for released games from 2015 to 2016. The four platforms with the biggest absolute total sales currently (PS2, PS3, Wii, XBOX360) all have decreasing trends for their total sales in the last years. <br> <br> \n",
    "The follower of the PS3, the PS4 has by far the biggest total sale in 2016 compared to other platforms. In the user profiles, the PS4 is in the top five platforms for all regions (JP, EU and NA). <br> The PSV platform is the only platform that has decelerated its decreasing trend from 2015/16 compared to 2014/15 in total sales; at the same time it is the third biggest platform in total game releases in 2016. In the japanese market there is a better trend for the PSV estimated in 2017 since the user profile for japan shows the preference for handheld platforms that can be played outside. In order to get more informations for the PSV and also in generell, the statements according user and critic ratings could be more precise with more real data according to these ratings. Also the 3DS platform is a handheld and, besides the most popular games on 3DS, there are other popular games for 3DS with much higher total sales in Japan than in other regions; so the 3DS has for Japan also chances in 2017. <br> The XBox One has the second largest amount of new game releases and of total sale in 2016. The XBox One is in the same platform generation as the PS4; both came out in 2013. The XBox One also decelerated its decreasing trend in total sales. <br> Also the PC platform is always an interesting platform since it's the only platform that exists since the 80s' until today. That can be seen in the trend for game releases where the only platform increasing its trend in game releases from 2014/15 to 2015/16 was the PC. We found out that statistically significant the user ratings for PC and XBox One games are in average the same. Since these two platforms are increasing their trends in game releases in the last years the observations promise a steady consistency for the XOne and the PC in 2017. <br> For the XBox One it's important to focus more on good games in 2017 since we found out that the correlation between total sales and critic ratings is moderate for XBox One and the biggest correlation compared to the PSV, 3DS and PC platform; the correlation is the same for PS4 and XOne. Comparing PS4 and XOne platforms, I predict a higher total sale for PS4 in 2017 since the game with the highest total sale for both platforms is the same game an the PS4 has a total sale which is bigger than twice the one for XOne. <br> <br> For all platforms it is important to know that there is one genre that has a above-average total sale per game: Shooter games (approx. 1.2 Mio. USD per game). Sports games (approx. 0.7 Mio. USD per game) have the second largest total sale per game, but there are differences from region to region: While shooters games are in the top five in all regions, sports games are less popular in Japan."
   ]
  },
  {
   "cell_type": "code",
   "execution_count": null,
   "metadata": {},
   "outputs": [],
   "source": []
  }
 ],
 "metadata": {
  "ExecuteTimeLog": [
   {
    "duration": 384,
    "start_time": "2021-07-28T10:15:01.269Z"
   },
   {
    "duration": 245,
    "start_time": "2021-07-28T10:15:18.556Z"
   },
   {
    "duration": 434,
    "start_time": "2021-07-28T21:26:52.698Z"
   }
  ],
  "kernelspec": {
   "display_name": "Python 3",
   "language": "python",
   "name": "python3"
  },
  "language_info": {
   "codemirror_mode": {
    "name": "ipython",
    "version": 3
   },
   "file_extension": ".py",
   "mimetype": "text/x-python",
   "name": "python",
   "nbconvert_exporter": "python",
   "pygments_lexer": "ipython3",
   "version": "3.7.9"
  },
  "toc": {
   "base_numbering": 1,
   "nav_menu": {},
   "number_sections": true,
   "sideBar": true,
   "skip_h1_title": true,
   "title_cell": "Table of Contents",
   "title_sidebar": "Contents",
   "toc_cell": false,
   "toc_position": {
    "height": "729px",
    "left": "50px",
    "top": "110px",
    "width": "346.391px"
   },
   "toc_section_display": true,
   "toc_window_display": true
  },
  "varInspector": {
   "cols": {
    "lenName": 16,
    "lenType": 16,
    "lenVar": 40
   },
   "kernels_config": {
    "python": {
     "delete_cmd_postfix": "",
     "delete_cmd_prefix": "del ",
     "library": "var_list.py",
     "varRefreshCmd": "print(var_dic_list())"
    },
    "r": {
     "delete_cmd_postfix": ") ",
     "delete_cmd_prefix": "rm(",
     "library": "var_list.r",
     "varRefreshCmd": "cat(var_dic_list()) "
    }
   },
   "types_to_exclude": [
    "module",
    "function",
    "builtin_function_or_method",
    "instance",
    "_Feature"
   ],
   "window_display": false
  }
 },
 "nbformat": 4,
 "nbformat_minor": 2
}
