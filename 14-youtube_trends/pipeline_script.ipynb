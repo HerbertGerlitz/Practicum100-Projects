{
 "cells": [
  {
   "cell_type": "markdown",
   "id": "cubic-senator",
   "metadata": {},
   "source": [
    "# Pipeline Script for YouTube Video Trends History Dashboard"
   ]
  },
  {
   "cell_type": "code",
   "execution_count": null,
   "id": "pharmaceutical-chuck",
   "metadata": {},
   "outputs": [],
   "source": [
    "#!/usr/bin/python\n",
    "\n",
    "# import libraries\n",
    "import pandas as pd\n",
    "from sqlalchemy import create_engine\n",
    "\n",
    "# Define parameters for connecting to the data base\n",
    "db_config = {'user': 'my_user',\n",
    "             'pwd': 'my_user_password',\n",
    "             'host': 'localhost',\n",
    "             'port': 5432,\n",
    "             'db': 'youtube'}\n",
    "\n",
    "# Creating the data base connection string \n",
    "connection_string = 'postgresql://{}:{}@{}:{}/{}'.format(db_config['user'],\n",
    "                                                                     db_config['pwd'],\n",
    "                                                                       db_config['host'],\n",
    "                                                                       db_config['port'],\n",
    "                                                                       db_config['db'])\n",
    "\n",
    "# Connecting to the data base\n",
    "engine = create_engine(connection_string)\n",
    "\n",
    "# The script uses a request to the database to retrieve all the records from the table\n",
    "query = '''\n",
    "           SELECT *\n",
    "           FROM trending_vids\n",
    "        '''\n",
    "\n",
    "# specify the index column using index_col\n",
    "trending_vids = pd.io.sql.read_sql(query, con = engine, index_col = 'record_id')\n",
    "\n",
    "# create csv table\n",
    "trending_vids.to_csv('trending_vids.csv', index = False)"
   ]
  }
 ],
 "metadata": {
  "kernelspec": {
   "display_name": "Python [conda env:practicum] *",
   "language": "python",
   "name": "conda-env-practicum-py"
  },
  "language_info": {
   "codemirror_mode": {
    "name": "ipython",
    "version": 3
   },
   "file_extension": ".py",
   "mimetype": "text/x-python",
   "name": "python",
   "nbconvert_exporter": "python",
   "pygments_lexer": "ipython3",
   "version": "3.7.9"
  },
  "toc": {
   "base_numbering": 1,
   "nav_menu": {},
   "number_sections": true,
   "sideBar": true,
   "skip_h1_title": false,
   "title_cell": "Table of Contents",
   "title_sidebar": "Contents",
   "toc_cell": false,
   "toc_position": {},
   "toc_section_display": true,
   "toc_window_display": false
  },
  "varInspector": {
   "cols": {
    "lenName": 16,
    "lenType": 16,
    "lenVar": 40
   },
   "kernels_config": {
    "python": {
     "delete_cmd_postfix": "",
     "delete_cmd_prefix": "del ",
     "library": "var_list.py",
     "varRefreshCmd": "print(var_dic_list())"
    },
    "r": {
     "delete_cmd_postfix": ") ",
     "delete_cmd_prefix": "rm(",
     "library": "var_list.r",
     "varRefreshCmd": "cat(var_dic_list()) "
    }
   },
   "types_to_exclude": [
    "module",
    "function",
    "builtin_function_or_method",
    "instance",
    "_Feature"
   ],
   "window_display": false
  }
 },
 "nbformat": 4,
 "nbformat_minor": 5
}
