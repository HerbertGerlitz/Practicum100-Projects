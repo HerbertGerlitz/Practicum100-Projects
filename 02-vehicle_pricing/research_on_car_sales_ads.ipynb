{
 "cells": [
  {
   "cell_type": "markdown",
   "metadata": {},
   "source": [
    "# Research on Car Sales Ads: What Factors Impact the Price Most?\n",
    "\n",
    "Hundreds of free advertisements for vehicles are published on the site of Crankshaft List every day.\n",
    "I study data collected over the last few years and determine which factors influence the price of a vehicle. The data includes the vehicle's price, model year, model, condition, cylinders, fuel, odometer value, transmission type, vehicle type, color, number of wheels, date when the ad was posted and the number of days the ad was listed."
   ]
  },
  {
   "cell_type": "markdown",
   "metadata": {},
   "source": [
    "# Table of Contents"
   ]
  },
  {
   "cell_type": "markdown",
   "metadata": {},
   "source": [
    "- 1) [Open the data file and study the general information](#1)\n",
    "<br> <br>\n",
    "- 2) [Data preprocessing](#2)\n",
    "<br> <br>\n",
    "    - 2.1) [Identify and fill in the missing values](#2.1)\n",
    "    - 2.2) [Convert data and find duplicates](#2.2)\n",
    "    - 2.3) [Further calculations in the table](#2.3)\n",
    "<br> <br>\n",
    "- 3) [Exploratory data analysis](#3)\n",
    "<br> <br>\n",
    "    - 3.1) [Price, vehicle's age, mileage, number of cylinders and condition](#3.1)\n",
    "    - 3.2) [Histogram comparison: Before and after filtering](#3.2)\n",
    "    - 3.3) [Study of the advertisements](#3.3)\n",
    "    - 3.4) [The number of ads and the average price for each type of vehicle](#3.4)\n",
    "    - 3.5) [Factors that impact the price most](#3.5)\n",
    "<br> <br>\n",
    "- 4) [Overall conclusion](#4)"
   ]
  },
  {
   "cell_type": "markdown",
   "metadata": {},
   "source": [
    "<a id=\"1\"></a>"
   ]
  },
  {
   "cell_type": "markdown",
   "metadata": {},
   "source": [
    "## 1) Open the data file and study the general information"
   ]
  },
  {
   "cell_type": "code",
   "execution_count": 1,
   "metadata": {},
   "outputs": [],
   "source": [
    "# import libraries\n",
    "import pandas as pd\n",
    "import matplotlib.pyplot as plt\n",
    "import sys\n",
    "import warnings\n",
    "if not sys.warnoptions:\n",
    "       warnings.simplefilter(\"ignore\")"
   ]
  },
  {
   "cell_type": "code",
   "execution_count": 2,
   "metadata": {},
   "outputs": [],
   "source": [
    "# read csv file\n",
    "try:\n",
    "    df = pd.read_csv('C:/Users/Herbert/Documents/Practicum100/datasets/expl_data_analysis_vehicles_us.csv')\n",
    "except:\n",
    "    print(\"Couldn't read csv file.\")"
   ]
  },
  {
   "cell_type": "code",
   "execution_count": 3,
   "metadata": {},
   "outputs": [
    {
     "data": {
      "text/html": [
       "<div>\n",
       "<style scoped>\n",
       "    .dataframe tbody tr th:only-of-type {\n",
       "        vertical-align: middle;\n",
       "    }\n",
       "\n",
       "    .dataframe tbody tr th {\n",
       "        vertical-align: top;\n",
       "    }\n",
       "\n",
       "    .dataframe thead th {\n",
       "        text-align: right;\n",
       "    }\n",
       "</style>\n",
       "<table border=\"1\" class=\"dataframe\">\n",
       "  <thead>\n",
       "    <tr style=\"text-align: right;\">\n",
       "      <th></th>\n",
       "      <th>price</th>\n",
       "      <th>model_year</th>\n",
       "      <th>model</th>\n",
       "      <th>condition</th>\n",
       "      <th>cylinders</th>\n",
       "      <th>fuel</th>\n",
       "      <th>odometer</th>\n",
       "      <th>transmission</th>\n",
       "      <th>type</th>\n",
       "      <th>paint_color</th>\n",
       "      <th>is_4wd</th>\n",
       "      <th>date_posted</th>\n",
       "      <th>days_listed</th>\n",
       "    </tr>\n",
       "  </thead>\n",
       "  <tbody>\n",
       "    <tr>\n",
       "      <td>0</td>\n",
       "      <td>9400</td>\n",
       "      <td>2011.0</td>\n",
       "      <td>bmw x5</td>\n",
       "      <td>good</td>\n",
       "      <td>6.0</td>\n",
       "      <td>gas</td>\n",
       "      <td>145000.0</td>\n",
       "      <td>automatic</td>\n",
       "      <td>SUV</td>\n",
       "      <td>NaN</td>\n",
       "      <td>1.0</td>\n",
       "      <td>2018-06-23</td>\n",
       "      <td>19</td>\n",
       "    </tr>\n",
       "    <tr>\n",
       "      <td>1</td>\n",
       "      <td>25500</td>\n",
       "      <td>NaN</td>\n",
       "      <td>ford f-150</td>\n",
       "      <td>good</td>\n",
       "      <td>6.0</td>\n",
       "      <td>gas</td>\n",
       "      <td>88705.0</td>\n",
       "      <td>automatic</td>\n",
       "      <td>pickup</td>\n",
       "      <td>white</td>\n",
       "      <td>1.0</td>\n",
       "      <td>2018-10-19</td>\n",
       "      <td>50</td>\n",
       "    </tr>\n",
       "    <tr>\n",
       "      <td>2</td>\n",
       "      <td>5500</td>\n",
       "      <td>2013.0</td>\n",
       "      <td>hyundai sonata</td>\n",
       "      <td>like new</td>\n",
       "      <td>4.0</td>\n",
       "      <td>gas</td>\n",
       "      <td>110000.0</td>\n",
       "      <td>automatic</td>\n",
       "      <td>sedan</td>\n",
       "      <td>red</td>\n",
       "      <td>NaN</td>\n",
       "      <td>2019-02-07</td>\n",
       "      <td>79</td>\n",
       "    </tr>\n",
       "    <tr>\n",
       "      <td>3</td>\n",
       "      <td>1500</td>\n",
       "      <td>2003.0</td>\n",
       "      <td>ford f-150</td>\n",
       "      <td>fair</td>\n",
       "      <td>8.0</td>\n",
       "      <td>gas</td>\n",
       "      <td>NaN</td>\n",
       "      <td>automatic</td>\n",
       "      <td>pickup</td>\n",
       "      <td>NaN</td>\n",
       "      <td>NaN</td>\n",
       "      <td>2019-03-22</td>\n",
       "      <td>9</td>\n",
       "    </tr>\n",
       "    <tr>\n",
       "      <td>4</td>\n",
       "      <td>14900</td>\n",
       "      <td>2017.0</td>\n",
       "      <td>chrysler 200</td>\n",
       "      <td>excellent</td>\n",
       "      <td>4.0</td>\n",
       "      <td>gas</td>\n",
       "      <td>80903.0</td>\n",
       "      <td>automatic</td>\n",
       "      <td>sedan</td>\n",
       "      <td>black</td>\n",
       "      <td>NaN</td>\n",
       "      <td>2019-04-02</td>\n",
       "      <td>28</td>\n",
       "    </tr>\n",
       "  </tbody>\n",
       "</table>\n",
       "</div>"
      ],
      "text/plain": [
       "   price  model_year           model  condition  cylinders fuel  odometer  \\\n",
       "0   9400      2011.0          bmw x5       good        6.0  gas  145000.0   \n",
       "1  25500         NaN      ford f-150       good        6.0  gas   88705.0   \n",
       "2   5500      2013.0  hyundai sonata   like new        4.0  gas  110000.0   \n",
       "3   1500      2003.0      ford f-150       fair        8.0  gas       NaN   \n",
       "4  14900      2017.0    chrysler 200  excellent        4.0  gas   80903.0   \n",
       "\n",
       "  transmission    type paint_color  is_4wd date_posted  days_listed  \n",
       "0    automatic     SUV         NaN     1.0  2018-06-23           19  \n",
       "1    automatic  pickup       white     1.0  2018-10-19           50  \n",
       "2    automatic   sedan         red     NaN  2019-02-07           79  \n",
       "3    automatic  pickup         NaN     NaN  2019-03-22            9  \n",
       "4    automatic   sedan       black     NaN  2019-04-02           28  "
      ]
     },
     "execution_count": 3,
     "metadata": {},
     "output_type": "execute_result"
    }
   ],
   "source": [
    "df.head()"
   ]
  },
  {
   "cell_type": "code",
   "execution_count": 4,
   "metadata": {},
   "outputs": [
    {
     "name": "stdout",
     "output_type": "stream",
     "text": [
      "<class 'pandas.core.frame.DataFrame'>\n",
      "RangeIndex: 51525 entries, 0 to 51524\n",
      "Data columns (total 13 columns):\n",
      "price           51525 non-null int64\n",
      "model_year      47906 non-null float64\n",
      "model           51525 non-null object\n",
      "condition       51525 non-null object\n",
      "cylinders       46265 non-null float64\n",
      "fuel            51525 non-null object\n",
      "odometer        43633 non-null float64\n",
      "transmission    51525 non-null object\n",
      "type            51525 non-null object\n",
      "paint_color     42258 non-null object\n",
      "is_4wd          25572 non-null float64\n",
      "date_posted     51525 non-null object\n",
      "days_listed     51525 non-null int64\n",
      "dtypes: float64(4), int64(2), object(7)\n",
      "memory usage: 5.1+ MB\n"
     ]
    }
   ],
   "source": [
    "df.info()"
   ]
  },
  {
   "cell_type": "markdown",
   "metadata": {},
   "source": [
    "### Conclusion"
   ]
  },
  {
   "cell_type": "markdown",
   "metadata": {},
   "source": [
    "The DataFrame is a table with 13 columns and 51525 rows where some columns are quantitative and some are categorial. <br>\n",
    "Every row stands for a certain new or used vehicle and every column stands for a certain information about the vehicles or their advertising on Crankshaft List. <br>\n",
    "Every column of float64 type has missing values, one column of object type too ('paint_color'), the number of missing values differs within these columns. <br>\n",
    "It's noticeable that the column 'is_4wd' (4-wheel drive or not) has by far the largest proportion of missing values in comparison to the other columns, but it's also the only column in the boolean type."
   ]
  },
  {
   "cell_type": "markdown",
   "metadata": {},
   "source": [
    "<a id=\"2\"></a>"
   ]
  },
  {
   "cell_type": "markdown",
   "metadata": {},
   "source": [
    "## 2) Data preprocessing"
   ]
  },
  {
   "cell_type": "markdown",
   "metadata": {},
   "source": [
    "<a id=\"2.1\"></a>"
   ]
  },
  {
   "cell_type": "markdown",
   "metadata": {},
   "source": [
    "### 2.1) Identify and fill in the missing values"
   ]
  },
  {
   "cell_type": "markdown",
   "metadata": {},
   "source": [
    "###### 1) Column 'paint_color'"
   ]
  },
  {
   "cell_type": "code",
   "execution_count": 5,
   "metadata": {},
   "outputs": [
    {
     "data": {
      "text/html": [
       "<div>\n",
       "<style scoped>\n",
       "    .dataframe tbody tr th:only-of-type {\n",
       "        vertical-align: middle;\n",
       "    }\n",
       "\n",
       "    .dataframe tbody tr th {\n",
       "        vertical-align: top;\n",
       "    }\n",
       "\n",
       "    .dataframe thead th {\n",
       "        text-align: right;\n",
       "    }\n",
       "</style>\n",
       "<table border=\"1\" class=\"dataframe\">\n",
       "  <thead>\n",
       "    <tr style=\"text-align: right;\">\n",
       "      <th>paint_color</th>\n",
       "      <th>black</th>\n",
       "      <th>blue</th>\n",
       "      <th>brown</th>\n",
       "      <th>custom</th>\n",
       "      <th>green</th>\n",
       "      <th>grey</th>\n",
       "      <th>orange</th>\n",
       "      <th>purple</th>\n",
       "      <th>red</th>\n",
       "      <th>silver</th>\n",
       "      <th>white</th>\n",
       "      <th>yellow</th>\n",
       "      <th>all_colors</th>\n",
       "      <th>quote_most_common</th>\n",
       "      <th>miss_colors</th>\n",
       "      <th>miss_quote</th>\n",
       "      <th>most_common</th>\n",
       "    </tr>\n",
       "    <tr>\n",
       "      <th>type</th>\n",
       "      <th></th>\n",
       "      <th></th>\n",
       "      <th></th>\n",
       "      <th></th>\n",
       "      <th></th>\n",
       "      <th></th>\n",
       "      <th></th>\n",
       "      <th></th>\n",
       "      <th></th>\n",
       "      <th></th>\n",
       "      <th></th>\n",
       "      <th></th>\n",
       "      <th></th>\n",
       "      <th></th>\n",
       "      <th></th>\n",
       "      <th></th>\n",
       "      <th></th>\n",
       "    </tr>\n",
       "  </thead>\n",
       "  <tbody>\n",
       "    <tr>\n",
       "      <td>SUV</td>\n",
       "      <td>2220.0</td>\n",
       "      <td>1055.0</td>\n",
       "      <td>369.0</td>\n",
       "      <td>308.0</td>\n",
       "      <td>436.0</td>\n",
       "      <td>1183.0</td>\n",
       "      <td>84.0</td>\n",
       "      <td>39.0</td>\n",
       "      <td>906.0</td>\n",
       "      <td>1558.0</td>\n",
       "      <td>1962.0</td>\n",
       "      <td>49.0</td>\n",
       "      <td>10169.0</td>\n",
       "      <td>21.831055</td>\n",
       "      <td>2236.0</td>\n",
       "      <td>18.024990</td>\n",
       "      <td>black</td>\n",
       "    </tr>\n",
       "    <tr>\n",
       "      <td>bus</td>\n",
       "      <td>2.0</td>\n",
       "      <td>1.0</td>\n",
       "      <td>NaN</td>\n",
       "      <td>NaN</td>\n",
       "      <td>NaN</td>\n",
       "      <td>NaN</td>\n",
       "      <td>NaN</td>\n",
       "      <td>NaN</td>\n",
       "      <td>NaN</td>\n",
       "      <td>NaN</td>\n",
       "      <td>16.0</td>\n",
       "      <td>NaN</td>\n",
       "      <td>19.0</td>\n",
       "      <td>84.210526</td>\n",
       "      <td>5.0</td>\n",
       "      <td>20.833333</td>\n",
       "      <td>white</td>\n",
       "    </tr>\n",
       "    <tr>\n",
       "      <td>convertible</td>\n",
       "      <td>73.0</td>\n",
       "      <td>32.0</td>\n",
       "      <td>2.0</td>\n",
       "      <td>8.0</td>\n",
       "      <td>16.0</td>\n",
       "      <td>19.0</td>\n",
       "      <td>5.0</td>\n",
       "      <td>NaN</td>\n",
       "      <td>104.0</td>\n",
       "      <td>43.0</td>\n",
       "      <td>56.0</td>\n",
       "      <td>13.0</td>\n",
       "      <td>371.0</td>\n",
       "      <td>28.032345</td>\n",
       "      <td>75.0</td>\n",
       "      <td>16.816143</td>\n",
       "      <td>red</td>\n",
       "    </tr>\n",
       "    <tr>\n",
       "      <td>coupe</td>\n",
       "      <td>470.0</td>\n",
       "      <td>205.0</td>\n",
       "      <td>21.0</td>\n",
       "      <td>21.0</td>\n",
       "      <td>40.0</td>\n",
       "      <td>191.0</td>\n",
       "      <td>34.0</td>\n",
       "      <td>5.0</td>\n",
       "      <td>379.0</td>\n",
       "      <td>259.0</td>\n",
       "      <td>204.0</td>\n",
       "      <td>68.0</td>\n",
       "      <td>1897.0</td>\n",
       "      <td>24.775962</td>\n",
       "      <td>406.0</td>\n",
       "      <td>17.629179</td>\n",
       "      <td>black</td>\n",
       "    </tr>\n",
       "    <tr>\n",
       "      <td>hatchback</td>\n",
       "      <td>128.0</td>\n",
       "      <td>128.0</td>\n",
       "      <td>13.0</td>\n",
       "      <td>11.0</td>\n",
       "      <td>39.0</td>\n",
       "      <td>103.0</td>\n",
       "      <td>11.0</td>\n",
       "      <td>3.0</td>\n",
       "      <td>103.0</td>\n",
       "      <td>159.0</td>\n",
       "      <td>130.0</td>\n",
       "      <td>6.0</td>\n",
       "      <td>834.0</td>\n",
       "      <td>19.064748</td>\n",
       "      <td>213.0</td>\n",
       "      <td>20.343840</td>\n",
       "      <td>silver</td>\n",
       "    </tr>\n",
       "    <tr>\n",
       "      <td>mini-van</td>\n",
       "      <td>123.0</td>\n",
       "      <td>174.0</td>\n",
       "      <td>37.0</td>\n",
       "      <td>18.0</td>\n",
       "      <td>22.0</td>\n",
       "      <td>139.0</td>\n",
       "      <td>NaN</td>\n",
       "      <td>1.0</td>\n",
       "      <td>89.0</td>\n",
       "      <td>192.0</td>\n",
       "      <td>160.0</td>\n",
       "      <td>4.0</td>\n",
       "      <td>959.0</td>\n",
       "      <td>20.020855</td>\n",
       "      <td>202.0</td>\n",
       "      <td>17.398794</td>\n",
       "      <td>silver</td>\n",
       "    </tr>\n",
       "    <tr>\n",
       "      <td>offroad</td>\n",
       "      <td>23.0</td>\n",
       "      <td>19.0</td>\n",
       "      <td>3.0</td>\n",
       "      <td>5.0</td>\n",
       "      <td>17.0</td>\n",
       "      <td>16.0</td>\n",
       "      <td>1.0</td>\n",
       "      <td>NaN</td>\n",
       "      <td>39.0</td>\n",
       "      <td>19.0</td>\n",
       "      <td>31.0</td>\n",
       "      <td>5.0</td>\n",
       "      <td>178.0</td>\n",
       "      <td>21.910112</td>\n",
       "      <td>36.0</td>\n",
       "      <td>16.822430</td>\n",
       "      <td>red</td>\n",
       "    </tr>\n",
       "    <tr>\n",
       "      <td>other</td>\n",
       "      <td>39.0</td>\n",
       "      <td>27.0</td>\n",
       "      <td>9.0</td>\n",
       "      <td>5.0</td>\n",
       "      <td>9.0</td>\n",
       "      <td>33.0</td>\n",
       "      <td>4.0</td>\n",
       "      <td>1.0</td>\n",
       "      <td>21.0</td>\n",
       "      <td>20.0</td>\n",
       "      <td>41.0</td>\n",
       "      <td>2.0</td>\n",
       "      <td>211.0</td>\n",
       "      <td>19.431280</td>\n",
       "      <td>45.0</td>\n",
       "      <td>17.578125</td>\n",
       "      <td>white</td>\n",
       "    </tr>\n",
       "    <tr>\n",
       "      <td>pickup</td>\n",
       "      <td>938.0</td>\n",
       "      <td>517.0</td>\n",
       "      <td>186.0</td>\n",
       "      <td>44.0</td>\n",
       "      <td>198.0</td>\n",
       "      <td>554.0</td>\n",
       "      <td>28.0</td>\n",
       "      <td>10.0</td>\n",
       "      <td>651.0</td>\n",
       "      <td>666.0</td>\n",
       "      <td>1854.0</td>\n",
       "      <td>15.0</td>\n",
       "      <td>5661.0</td>\n",
       "      <td>32.750397</td>\n",
       "      <td>1327.0</td>\n",
       "      <td>18.989697</td>\n",
       "      <td>white</td>\n",
       "    </tr>\n",
       "    <tr>\n",
       "      <td>sedan</td>\n",
       "      <td>1770.0</td>\n",
       "      <td>1231.0</td>\n",
       "      <td>259.0</td>\n",
       "      <td>303.0</td>\n",
       "      <td>209.0</td>\n",
       "      <td>1623.0</td>\n",
       "      <td>9.0</td>\n",
       "      <td>26.0</td>\n",
       "      <td>945.0</td>\n",
       "      <td>2056.0</td>\n",
       "      <td>1510.0</td>\n",
       "      <td>24.0</td>\n",
       "      <td>9965.0</td>\n",
       "      <td>20.632213</td>\n",
       "      <td>2189.0</td>\n",
       "      <td>18.010532</td>\n",
       "      <td>silver</td>\n",
       "    </tr>\n",
       "    <tr>\n",
       "      <td>truck</td>\n",
       "      <td>1581.0</td>\n",
       "      <td>881.0</td>\n",
       "      <td>253.0</td>\n",
       "      <td>316.0</td>\n",
       "      <td>278.0</td>\n",
       "      <td>960.0</td>\n",
       "      <td>48.0</td>\n",
       "      <td>16.0</td>\n",
       "      <td>1061.0</td>\n",
       "      <td>1020.0</td>\n",
       "      <td>3737.0</td>\n",
       "      <td>67.0</td>\n",
       "      <td>10218.0</td>\n",
       "      <td>36.572715</td>\n",
       "      <td>2135.0</td>\n",
       "      <td>17.283251</td>\n",
       "      <td>white</td>\n",
       "    </tr>\n",
       "    <tr>\n",
       "      <td>van</td>\n",
       "      <td>82.0</td>\n",
       "      <td>78.0</td>\n",
       "      <td>6.0</td>\n",
       "      <td>32.0</td>\n",
       "      <td>10.0</td>\n",
       "      <td>69.0</td>\n",
       "      <td>1.0</td>\n",
       "      <td>1.0</td>\n",
       "      <td>28.0</td>\n",
       "      <td>43.0</td>\n",
       "      <td>153.0</td>\n",
       "      <td>NaN</td>\n",
       "      <td>503.0</td>\n",
       "      <td>30.417495</td>\n",
       "      <td>130.0</td>\n",
       "      <td>20.537125</td>\n",
       "      <td>white</td>\n",
       "    </tr>\n",
       "    <tr>\n",
       "      <td>wagon</td>\n",
       "      <td>243.0</td>\n",
       "      <td>127.0</td>\n",
       "      <td>65.0</td>\n",
       "      <td>82.0</td>\n",
       "      <td>122.0</td>\n",
       "      <td>147.0</td>\n",
       "      <td>6.0</td>\n",
       "      <td>NaN</td>\n",
       "      <td>95.0</td>\n",
       "      <td>209.0</td>\n",
       "      <td>175.0</td>\n",
       "      <td>2.0</td>\n",
       "      <td>1273.0</td>\n",
       "      <td>19.088767</td>\n",
       "      <td>268.0</td>\n",
       "      <td>17.391304</td>\n",
       "      <td>black</td>\n",
       "    </tr>\n",
       "  </tbody>\n",
       "</table>\n",
       "</div>"
      ],
      "text/plain": [
       "paint_color   black    blue  brown  custom  green    grey  orange  purple  \\\n",
       "type                                                                        \n",
       "SUV          2220.0  1055.0  369.0   308.0  436.0  1183.0    84.0    39.0   \n",
       "bus             2.0     1.0    NaN     NaN    NaN     NaN     NaN     NaN   \n",
       "convertible    73.0    32.0    2.0     8.0   16.0    19.0     5.0     NaN   \n",
       "coupe         470.0   205.0   21.0    21.0   40.0   191.0    34.0     5.0   \n",
       "hatchback     128.0   128.0   13.0    11.0   39.0   103.0    11.0     3.0   \n",
       "mini-van      123.0   174.0   37.0    18.0   22.0   139.0     NaN     1.0   \n",
       "offroad        23.0    19.0    3.0     5.0   17.0    16.0     1.0     NaN   \n",
       "other          39.0    27.0    9.0     5.0    9.0    33.0     4.0     1.0   \n",
       "pickup        938.0   517.0  186.0    44.0  198.0   554.0    28.0    10.0   \n",
       "sedan        1770.0  1231.0  259.0   303.0  209.0  1623.0     9.0    26.0   \n",
       "truck        1581.0   881.0  253.0   316.0  278.0   960.0    48.0    16.0   \n",
       "van            82.0    78.0    6.0    32.0   10.0    69.0     1.0     1.0   \n",
       "wagon         243.0   127.0   65.0    82.0  122.0   147.0     6.0     NaN   \n",
       "\n",
       "paint_color     red  silver   white  yellow  all_colors  quote_most_common  \\\n",
       "type                                                                         \n",
       "SUV           906.0  1558.0  1962.0    49.0     10169.0          21.831055   \n",
       "bus             NaN     NaN    16.0     NaN        19.0          84.210526   \n",
       "convertible   104.0    43.0    56.0    13.0       371.0          28.032345   \n",
       "coupe         379.0   259.0   204.0    68.0      1897.0          24.775962   \n",
       "hatchback     103.0   159.0   130.0     6.0       834.0          19.064748   \n",
       "mini-van       89.0   192.0   160.0     4.0       959.0          20.020855   \n",
       "offroad        39.0    19.0    31.0     5.0       178.0          21.910112   \n",
       "other          21.0    20.0    41.0     2.0       211.0          19.431280   \n",
       "pickup        651.0   666.0  1854.0    15.0      5661.0          32.750397   \n",
       "sedan         945.0  2056.0  1510.0    24.0      9965.0          20.632213   \n",
       "truck        1061.0  1020.0  3737.0    67.0     10218.0          36.572715   \n",
       "van            28.0    43.0   153.0     NaN       503.0          30.417495   \n",
       "wagon          95.0   209.0   175.0     2.0      1273.0          19.088767   \n",
       "\n",
       "paint_color  miss_colors  miss_quote most_common  \n",
       "type                                              \n",
       "SUV               2236.0   18.024990       black  \n",
       "bus                  5.0   20.833333       white  \n",
       "convertible         75.0   16.816143         red  \n",
       "coupe              406.0   17.629179       black  \n",
       "hatchback          213.0   20.343840      silver  \n",
       "mini-van           202.0   17.398794      silver  \n",
       "offroad             36.0   16.822430         red  \n",
       "other               45.0   17.578125       white  \n",
       "pickup            1327.0   18.989697       white  \n",
       "sedan             2189.0   18.010532      silver  \n",
       "truck             2135.0   17.283251       white  \n",
       "van                130.0   20.537125       white  \n",
       "wagon              268.0   17.391304       black  "
      ]
     },
     "execution_count": 5,
     "metadata": {},
     "output_type": "execute_result"
    }
   ],
   "source": [
    "# In the pivot table, all the following values are grouped by the type of vehicles.\n",
    "# The number of vehicles with given colors are in the column 'all_colors', the number of vehicles with missing colors\n",
    "# are in the column 'miss_colors', the percentages of the vehicles with missing colors compared to the total amount of\n",
    "# vehicles of the same type are given in the column 'miss_quote' and the most common colors and their percentages\n",
    "# per type are in the columns 'most_common' and 'quote_most_common'.\n",
    "\n",
    "# create pivot table with type as index and paint_color as columns\n",
    "pivot_type_color = df.pivot_table(index='type', columns='paint_color', values='price', aggfunc='count')\n",
    "\n",
    "# add further columns to the pivot table for analysis (as explained above)\n",
    "for type_veh in pivot_type_color.index:\n",
    "    pivot_type_color.loc[type_veh, 'all_colors'] = pivot_type_color.loc[type_veh].sum()\n",
    "    pivot_type_color_drop = pivot_type_color.drop(columns='all_colors')\n",
    "    pivot_type_color.loc[type_veh, 'quote_most_common'] = 100*pivot_type_color_drop.loc[type_veh].max()/ \\\n",
    "    pivot_type_color.loc[type_veh, 'all_colors']\n",
    "    pivot_type_color.loc[type_veh, 'miss_colors'] = len(df[(df['type'] == type_veh)&(df['paint_color'].isnull())])\n",
    "    pivot_type_color.loc[type_veh, 'miss_quote'] = 100*pivot_type_color.loc[type_veh, 'miss_colors']/ \\\n",
    "    (pivot_type_color.loc[type_veh, 'all_colors']+pivot_type_color.loc[type_veh, 'miss_colors'])\n",
    "pivot_type_color['most_common'] = pivot_type_color.drop(columns= \\\n",
    "['all_colors','miss_colors','miss_quote', 'quote_most_common'], inplace=False).idxmax(axis=1)\n",
    "\n",
    "pivot_type_color"
   ]
  },
  {
   "cell_type": "code",
   "execution_count": 6,
   "metadata": {},
   "outputs": [
    {
     "data": {
      "text/plain": [
       "white     10029\n",
       "black      7692\n",
       "silver     6244\n",
       "grey       5037\n",
       "blue       4475\n",
       "red        4421\n",
       "green      1396\n",
       "brown      1223\n",
       "custom     1153\n",
       "yellow      255\n",
       "orange      231\n",
       "purple      102\n",
       "Name: paint_color, dtype: int64"
      ]
     },
     "execution_count": 6,
     "metadata": {},
     "output_type": "execute_result"
    }
   ],
   "source": [
    "# Let's count the different values for paint_color:\n",
    "df['paint_color'].value_counts()"
   ]
  },
  {
   "cell_type": "markdown",
   "metadata": {},
   "source": [
    "In the last column one can observe that the most common color varies differs by the type of vehicle. Even though the values 'red', 'black' and 'silver' have much less counted values as 'white', they're part of the most common colors grouped by the type of vehicle. The quotes of the vehicles with missing colors are smaller compared to the quotes of the most common colors; the missing quotes vary only between 16.8% and 20.8%. That's why I attach the missing colors to the most common colors corresponding to the type of vehicle."
   ]
  },
  {
   "cell_type": "code",
   "execution_count": 7,
   "metadata": {},
   "outputs": [],
   "source": [
    "# replace the missing values for paint_color with most common color corresponding to the vehicle's type\n",
    "for type_veh in pivot_type_color.index:\n",
    "    df.loc[df['type'] == type_veh, 'paint_color'] \\\n",
    "    = df.loc[df['type'] == type_veh, 'paint_color'].fillna(value=pivot_type_color.loc[type_veh, 'most_common'])\n"
   ]
  },
  {
   "cell_type": "code",
   "execution_count": 8,
   "metadata": {},
   "outputs": [
    {
     "data": {
      "text/html": [
       "<div>\n",
       "<style scoped>\n",
       "    .dataframe tbody tr th:only-of-type {\n",
       "        vertical-align: middle;\n",
       "    }\n",
       "\n",
       "    .dataframe tbody tr th {\n",
       "        vertical-align: top;\n",
       "    }\n",
       "\n",
       "    .dataframe thead th {\n",
       "        text-align: right;\n",
       "    }\n",
       "</style>\n",
       "<table border=\"1\" class=\"dataframe\">\n",
       "  <thead>\n",
       "    <tr style=\"text-align: right;\">\n",
       "      <th></th>\n",
       "      <th>price</th>\n",
       "      <th>model_year</th>\n",
       "      <th>model</th>\n",
       "      <th>condition</th>\n",
       "      <th>cylinders</th>\n",
       "      <th>fuel</th>\n",
       "      <th>odometer</th>\n",
       "      <th>transmission</th>\n",
       "      <th>type</th>\n",
       "      <th>paint_color</th>\n",
       "      <th>is_4wd</th>\n",
       "      <th>date_posted</th>\n",
       "      <th>days_listed</th>\n",
       "    </tr>\n",
       "  </thead>\n",
       "  <tbody>\n",
       "    <tr>\n",
       "      <td>0</td>\n",
       "      <td>9400</td>\n",
       "      <td>2011.0</td>\n",
       "      <td>bmw x5</td>\n",
       "      <td>good</td>\n",
       "      <td>6.0</td>\n",
       "      <td>gas</td>\n",
       "      <td>145000.0</td>\n",
       "      <td>automatic</td>\n",
       "      <td>SUV</td>\n",
       "      <td>black</td>\n",
       "      <td>1.0</td>\n",
       "      <td>2018-06-23</td>\n",
       "      <td>19</td>\n",
       "    </tr>\n",
       "    <tr>\n",
       "      <td>1</td>\n",
       "      <td>25500</td>\n",
       "      <td>NaN</td>\n",
       "      <td>ford f-150</td>\n",
       "      <td>good</td>\n",
       "      <td>6.0</td>\n",
       "      <td>gas</td>\n",
       "      <td>88705.0</td>\n",
       "      <td>automatic</td>\n",
       "      <td>pickup</td>\n",
       "      <td>white</td>\n",
       "      <td>1.0</td>\n",
       "      <td>2018-10-19</td>\n",
       "      <td>50</td>\n",
       "    </tr>\n",
       "    <tr>\n",
       "      <td>2</td>\n",
       "      <td>5500</td>\n",
       "      <td>2013.0</td>\n",
       "      <td>hyundai sonata</td>\n",
       "      <td>like new</td>\n",
       "      <td>4.0</td>\n",
       "      <td>gas</td>\n",
       "      <td>110000.0</td>\n",
       "      <td>automatic</td>\n",
       "      <td>sedan</td>\n",
       "      <td>red</td>\n",
       "      <td>NaN</td>\n",
       "      <td>2019-02-07</td>\n",
       "      <td>79</td>\n",
       "    </tr>\n",
       "    <tr>\n",
       "      <td>3</td>\n",
       "      <td>1500</td>\n",
       "      <td>2003.0</td>\n",
       "      <td>ford f-150</td>\n",
       "      <td>fair</td>\n",
       "      <td>8.0</td>\n",
       "      <td>gas</td>\n",
       "      <td>NaN</td>\n",
       "      <td>automatic</td>\n",
       "      <td>pickup</td>\n",
       "      <td>white</td>\n",
       "      <td>NaN</td>\n",
       "      <td>2019-03-22</td>\n",
       "      <td>9</td>\n",
       "    </tr>\n",
       "    <tr>\n",
       "      <td>4</td>\n",
       "      <td>14900</td>\n",
       "      <td>2017.0</td>\n",
       "      <td>chrysler 200</td>\n",
       "      <td>excellent</td>\n",
       "      <td>4.0</td>\n",
       "      <td>gas</td>\n",
       "      <td>80903.0</td>\n",
       "      <td>automatic</td>\n",
       "      <td>sedan</td>\n",
       "      <td>black</td>\n",
       "      <td>NaN</td>\n",
       "      <td>2019-04-02</td>\n",
       "      <td>28</td>\n",
       "    </tr>\n",
       "  </tbody>\n",
       "</table>\n",
       "</div>"
      ],
      "text/plain": [
       "   price  model_year           model  condition  cylinders fuel  odometer  \\\n",
       "0   9400      2011.0          bmw x5       good        6.0  gas  145000.0   \n",
       "1  25500         NaN      ford f-150       good        6.0  gas   88705.0   \n",
       "2   5500      2013.0  hyundai sonata   like new        4.0  gas  110000.0   \n",
       "3   1500      2003.0      ford f-150       fair        8.0  gas       NaN   \n",
       "4  14900      2017.0    chrysler 200  excellent        4.0  gas   80903.0   \n",
       "\n",
       "  transmission    type paint_color  is_4wd date_posted  days_listed  \n",
       "0    automatic     SUV       black     1.0  2018-06-23           19  \n",
       "1    automatic  pickup       white     1.0  2018-10-19           50  \n",
       "2    automatic   sedan         red     NaN  2019-02-07           79  \n",
       "3    automatic  pickup       white     NaN  2019-03-22            9  \n",
       "4    automatic   sedan       black     NaN  2019-04-02           28  "
      ]
     },
     "execution_count": 8,
     "metadata": {},
     "output_type": "execute_result"
    }
   ],
   "source": [
    "# \"In the beginning, in the table's head we saw missing values in the column 'paint_color' for the types SUV and pickup.\n",
    "# Missing colors for SUV are now filled with 'black' and the missing colors for pickups are filled with 'white':\n",
    "df.head()"
   ]
  },
  {
   "cell_type": "markdown",
   "metadata": {},
   "source": [
    "###### 2) Column 'is_4wd'"
   ]
  },
  {
   "cell_type": "code",
   "execution_count": 9,
   "metadata": {},
   "outputs": [
    {
     "data": {
      "text/plain": [
       "1.0    25572\n",
       "Name: is_4wd, dtype: int64"
      ]
     },
     "execution_count": 9,
     "metadata": {},
     "output_type": "execute_result"
    }
   ],
   "source": [
    "# Let's count the values in the column 'is_4wd':\n",
    "df['is_4wd'].value_counts()"
   ]
  },
  {
   "cell_type": "markdown",
   "metadata": {},
   "source": [
    "This is a column of boolean type and we only have missing values and the value 1.0. From here on you can see that the missing values correspond to 'not a 4-wheel drive' which is signed with 0.0. So let's replace the missing values with 0.0."
   ]
  },
  {
   "cell_type": "code",
   "execution_count": 10,
   "metadata": {},
   "outputs": [],
   "source": [
    "# Missing Boolean values filled with 0 (for False)\n",
    "df['is_4wd'] = df['is_4wd'].fillna(value=0.0)"
   ]
  },
  {
   "cell_type": "markdown",
   "metadata": {},
   "source": [
    "###### 3.1) Check for duplicates in the column 'model'"
   ]
  },
  {
   "cell_type": "code",
   "execution_count": 11,
   "metadata": {},
   "outputs": [
    {
     "name": "stdout",
     "output_type": "stream",
     "text": [
      "There may be duplicates for the models: We have 100 different models in our DataFrame.\n"
     ]
    }
   ],
   "source": [
    "print(\"There may be duplicates for the models: We have {} different models in our DataFrame.\" \\\n",
    "      .format(len(df['model'].unique())))"
   ]
  },
  {
   "cell_type": "code",
   "execution_count": 12,
   "metadata": {},
   "outputs": [],
   "source": [
    "# create empty list for every brand\n",
    "ford = []\n",
    "chevrolet = []\n",
    "honda = []\n",
    "toyota = []\n",
    "jeep = []\n",
    "nissan = []\n",
    "gmc = []\n",
    "hyundai = []\n",
    "\n",
    "# different models\n",
    "models = df['model'].unique()\n",
    "\n",
    "# sort the strings by car brand and add them to the lists\n",
    "for mod in models:\n",
    "    for brand in mod.split(' '):\n",
    "        if brand == 'ford':\n",
    "            ford.append(mod)\n",
    "        elif brand == 'chevrolet':\n",
    "            chevrolet.append(mod)\n",
    "        elif brand == 'honda':\n",
    "            honda.append(mod)\n",
    "        elif brand == 'toyota':\n",
    "            toyota.append(mod)\n",
    "        elif brand == 'nissan':\n",
    "            nissan.append(mod)\n",
    "        elif brand == 'jeep':\n",
    "            jeep.append(mod)\n",
    "        elif brand == 'gmc':\n",
    "            gmc.append(mod)\n",
    "        elif brand == 'hyundai':\n",
    "            hyundai.append(mod)\n",
    "\n",
    "# There are some car brands missing; they will be putted into the list 'rest'\n",
    "rest = [mod for mod in models if mod not in ford + chevrolet + honda + toyota + jeep + nissan + hyundai + gmc]"
   ]
  },
  {
   "cell_type": "code",
   "execution_count": 13,
   "metadata": {},
   "outputs": [
    {
     "name": "stdout",
     "output_type": "stream",
     "text": [
      "Let's create alphabetically sorted subsets including models for different car brands.\n",
      "These subsets are small enough to find duplicates by looking at them:\n",
      "\n",
      "ford:\n",
      "['ford econoline', 'ford edge', 'ford escape', 'ford expedition', 'ford explorer', 'ford f-150', 'ford f-250', 'ford f-250 sd', 'ford f-250 super duty', 'ford f-350 sd', 'ford f150', 'ford f150 supercrew cab xlt', 'ford f250', 'ford f250 super duty', 'ford f350', 'ford f350 super duty', 'ford focus', 'ford focus se', 'ford fusion', 'ford fusion se', 'ford mustang', 'ford mustang gt coupe 2d', 'ford ranger', 'ford taurus']\n",
      "\n",
      "chevrolet:\n",
      "['chevrolet camaro', 'chevrolet camaro lt coupe 2d', 'chevrolet colorado', 'chevrolet corvette', 'chevrolet cruze', 'chevrolet equinox', 'chevrolet impala', 'chevrolet malibu', 'chevrolet silverado', 'chevrolet silverado 1500', 'chevrolet silverado 1500 crew', 'chevrolet silverado 2500hd', 'chevrolet silverado 3500hd', 'chevrolet suburban', 'chevrolet tahoe', 'chevrolet trailblazer', 'chevrolet traverse']\n",
      "\n",
      "honda:\n",
      "['honda accord', 'honda civic', 'honda civic lx', 'honda cr-v', 'honda odyssey', 'honda pilot']\n",
      "\n",
      "toyota:\n",
      "['toyota 4runner', 'toyota camry', 'toyota camry le', 'toyota corolla', 'toyota highlander', 'toyota prius', 'toyota rav4', 'toyota sienna', 'toyota tacoma', 'toyota tundra']\n",
      "\n",
      "jeep:\n",
      "['jeep cherokee', 'jeep grand cherokee', 'jeep grand cherokee laredo', 'jeep liberty', 'jeep wrangler', 'jeep wrangler unlimited']\n",
      "\n",
      "nissan:\n",
      "['nissan altima', 'nissan frontier', 'nissan frontier crew cab sv', 'nissan maxima', 'nissan murano', 'nissan rogue', 'nissan sentra', 'nissan versa']\n",
      "\n",
      "hyundai:\n",
      "['hyundai elantra', 'hyundai santa fe', 'hyundai sonata']\n",
      "\n",
      "gmc:\n",
      "['gmc acadia', 'gmc sierra', 'gmc sierra 1500', 'gmc sierra 2500hd', 'gmc yukon']\n",
      "\n",
      "rest:\n",
      "['acura tl', 'bmw x5', 'buick enclave', 'cadillac escalade', 'chrysler 200', 'chrysler 300', 'chrysler town & country', 'dodge charger', 'dodge dakota', 'dodge grand caravan', 'kia sorento', 'kia soul', 'mercedes-benz benze sprinter 2500', 'ram 1500', 'ram 2500', 'ram 3500', 'subaru forester', 'subaru impreza', 'subaru outback', 'volkswagen jetta', 'volkswagen passat']\n"
     ]
    }
   ],
   "source": [
    "print(\"Let's create alphabetically sorted subsets including models for different car brands.\")\n",
    "print(\"These subsets are small enough to find duplicates by looking at them:\")\n",
    "print()\n",
    "print('ford:')\n",
    "print(sorted(ford, key=str.lower))\n",
    "print()\n",
    "print('chevrolet:')\n",
    "print(sorted(chevrolet, key=str.lower))\n",
    "print()\n",
    "print('honda:')\n",
    "print(sorted(honda, key=str.lower))\n",
    "print()\n",
    "print('toyota:')\n",
    "print(sorted(toyota, key=str.lower))\n",
    "print()\n",
    "print('jeep:')\n",
    "print(sorted(jeep, key=str.lower))\n",
    "print()\n",
    "print('nissan:')\n",
    "print(sorted(nissan, key=str.lower))\n",
    "print()\n",
    "print('hyundai:')\n",
    "print(sorted(hyundai, key=str.lower))\n",
    "print()\n",
    "print('gmc:')\n",
    "print(sorted(gmc, key=str.lower))\n",
    "print()\n",
    "print('rest:')\n",
    "print(sorted(rest, key=str.lower))"
   ]
  },
  {
   "cell_type": "markdown",
   "metadata": {},
   "source": [
    "I could find duplicates for the car brand Ford: <br>\n",
    "'ford f-250 sd' and 'ford f-250 super duty', 'ford f-150' and 'ford f150', 'ford f-250' and 'ford f250' and 'ford f350 super duty' and 'ford f-350 sd'."
   ]
  },
  {
   "cell_type": "code",
   "execution_count": 14,
   "metadata": {},
   "outputs": [
    {
     "name": "stdout",
     "output_type": "stream",
     "text": [
      "\n",
      "Now, we have 96 different models in our DataFrame.\n"
     ]
    }
   ],
   "source": [
    "# I correct these determined duplicates\n",
    "df['model'] = df['model'].replace('ford f-250 sd', 'ford f-250 super duty')\n",
    "df['model'] = df['model'].replace('ford f150', 'ford f-150')\n",
    "df['model'] = df['model'].replace('ford f250', 'ford f-250')\n",
    "df['model'] = df['model'].replace('ford f-350 sd', 'ford f350 super duty')\n",
    "\n",
    "print()\n",
    "print(\"Now, we have {} different models in our DataFrame.\" \\\n",
    "      .format(len(df['model'].unique())))\n",
    "# It was necessary to correct the duplicated models in this section as we will now use the models for filling in\n",
    "# missing values."
   ]
  },
  {
   "cell_type": "markdown",
   "metadata": {},
   "source": [
    "###### 3.2) Column 'cylinders'"
   ]
  },
  {
   "cell_type": "code",
   "execution_count": 15,
   "metadata": {},
   "outputs": [
    {
     "data": {
      "text/html": [
       "<div>\n",
       "<style scoped>\n",
       "    .dataframe tbody tr th:only-of-type {\n",
       "        vertical-align: middle;\n",
       "    }\n",
       "\n",
       "    .dataframe tbody tr th {\n",
       "        vertical-align: top;\n",
       "    }\n",
       "\n",
       "    .dataframe thead th {\n",
       "        text-align: right;\n",
       "    }\n",
       "</style>\n",
       "<table border=\"1\" class=\"dataframe\">\n",
       "  <thead>\n",
       "    <tr style=\"text-align: right;\">\n",
       "      <th>cylinders</th>\n",
       "      <th>3.0</th>\n",
       "      <th>4.0</th>\n",
       "      <th>5.0</th>\n",
       "      <th>6.0</th>\n",
       "      <th>8.0</th>\n",
       "      <th>10.0</th>\n",
       "      <th>12.0</th>\n",
       "      <th>all_cylinders</th>\n",
       "      <th>quote_most_common</th>\n",
       "      <th>miss_cylinders</th>\n",
       "      <th>miss_quote</th>\n",
       "      <th>most_common</th>\n",
       "    </tr>\n",
       "    <tr>\n",
       "      <th>model</th>\n",
       "      <th></th>\n",
       "      <th></th>\n",
       "      <th></th>\n",
       "      <th></th>\n",
       "      <th></th>\n",
       "      <th></th>\n",
       "      <th></th>\n",
       "      <th></th>\n",
       "      <th></th>\n",
       "      <th></th>\n",
       "      <th></th>\n",
       "      <th></th>\n",
       "    </tr>\n",
       "  </thead>\n",
       "  <tbody>\n",
       "    <tr>\n",
       "      <td>chevrolet colorado</td>\n",
       "      <td>NaN</td>\n",
       "      <td>79.0</td>\n",
       "      <td>82.0</td>\n",
       "      <td>101.0</td>\n",
       "      <td>1.0</td>\n",
       "      <td>1.0</td>\n",
       "      <td>NaN</td>\n",
       "      <td>264.0</td>\n",
       "      <td>38.257576</td>\n",
       "      <td>22.0</td>\n",
       "      <td>7.692308</td>\n",
       "      <td>6.0</td>\n",
       "    </tr>\n",
       "    <tr>\n",
       "      <td>dodge dakota</td>\n",
       "      <td>NaN</td>\n",
       "      <td>3.0</td>\n",
       "      <td>NaN</td>\n",
       "      <td>111.0</td>\n",
       "      <td>110.0</td>\n",
       "      <td>NaN</td>\n",
       "      <td>NaN</td>\n",
       "      <td>224.0</td>\n",
       "      <td>49.553571</td>\n",
       "      <td>18.0</td>\n",
       "      <td>7.438017</td>\n",
       "      <td>6.0</td>\n",
       "    </tr>\n",
       "    <tr>\n",
       "      <td>dodge charger</td>\n",
       "      <td>NaN</td>\n",
       "      <td>5.0</td>\n",
       "      <td>NaN</td>\n",
       "      <td>196.0</td>\n",
       "      <td>129.0</td>\n",
       "      <td>43.0</td>\n",
       "      <td>NaN</td>\n",
       "      <td>373.0</td>\n",
       "      <td>52.546917</td>\n",
       "      <td>42.0</td>\n",
       "      <td>10.120482</td>\n",
       "      <td>6.0</td>\n",
       "    </tr>\n",
       "    <tr>\n",
       "      <td>ford mustang</td>\n",
       "      <td>NaN</td>\n",
       "      <td>51.0</td>\n",
       "      <td>1.0</td>\n",
       "      <td>342.0</td>\n",
       "      <td>206.0</td>\n",
       "      <td>18.0</td>\n",
       "      <td>NaN</td>\n",
       "      <td>618.0</td>\n",
       "      <td>55.339806</td>\n",
       "      <td>63.0</td>\n",
       "      <td>9.251101</td>\n",
       "      <td>6.0</td>\n",
       "    </tr>\n",
       "    <tr>\n",
       "      <td>kia sorento</td>\n",
       "      <td>NaN</td>\n",
       "      <td>118.0</td>\n",
       "      <td>NaN</td>\n",
       "      <td>91.0</td>\n",
       "      <td>NaN</td>\n",
       "      <td>NaN</td>\n",
       "      <td>NaN</td>\n",
       "      <td>209.0</td>\n",
       "      <td>56.459330</td>\n",
       "      <td>27.0</td>\n",
       "      <td>11.440678</td>\n",
       "      <td>4.0</td>\n",
       "    </tr>\n",
       "    <tr>\n",
       "      <td>chevrolet camaro</td>\n",
       "      <td>NaN</td>\n",
       "      <td>9.0</td>\n",
       "      <td>NaN</td>\n",
       "      <td>223.0</td>\n",
       "      <td>106.0</td>\n",
       "      <td>34.0</td>\n",
       "      <td>NaN</td>\n",
       "      <td>372.0</td>\n",
       "      <td>59.946237</td>\n",
       "      <td>42.0</td>\n",
       "      <td>10.144928</td>\n",
       "      <td>6.0</td>\n",
       "    </tr>\n",
       "    <tr>\n",
       "      <td>jeep cherokee</td>\n",
       "      <td>1.0</td>\n",
       "      <td>92.0</td>\n",
       "      <td>NaN</td>\n",
       "      <td>161.0</td>\n",
       "      <td>7.0</td>\n",
       "      <td>NaN</td>\n",
       "      <td>NaN</td>\n",
       "      <td>261.0</td>\n",
       "      <td>61.685824</td>\n",
       "      <td>32.0</td>\n",
       "      <td>10.921502</td>\n",
       "      <td>6.0</td>\n",
       "    </tr>\n",
       "    <tr>\n",
       "      <td>ford f-150</td>\n",
       "      <td>2.0</td>\n",
       "      <td>11.0</td>\n",
       "      <td>3.0</td>\n",
       "      <td>1039.0</td>\n",
       "      <td>1895.0</td>\n",
       "      <td>21.0</td>\n",
       "      <td>NaN</td>\n",
       "      <td>2971.0</td>\n",
       "      <td>63.783238</td>\n",
       "      <td>355.0</td>\n",
       "      <td>10.673482</td>\n",
       "      <td>8.0</td>\n",
       "    </tr>\n",
       "    <tr>\n",
       "      <td>ford escape</td>\n",
       "      <td>1.0</td>\n",
       "      <td>497.0</td>\n",
       "      <td>NaN</td>\n",
       "      <td>266.0</td>\n",
       "      <td>2.0</td>\n",
       "      <td>NaN</td>\n",
       "      <td>NaN</td>\n",
       "      <td>766.0</td>\n",
       "      <td>64.882507</td>\n",
       "      <td>75.0</td>\n",
       "      <td>8.917955</td>\n",
       "      <td>4.0</td>\n",
       "    </tr>\n",
       "    <tr>\n",
       "      <td>ram 2500</td>\n",
       "      <td>NaN</td>\n",
       "      <td>NaN</td>\n",
       "      <td>1.0</td>\n",
       "      <td>637.0</td>\n",
       "      <td>318.0</td>\n",
       "      <td>12.0</td>\n",
       "      <td>1.0</td>\n",
       "      <td>969.0</td>\n",
       "      <td>65.737874</td>\n",
       "      <td>122.0</td>\n",
       "      <td>11.182401</td>\n",
       "      <td>6.0</td>\n",
       "    </tr>\n",
       "    <tr>\n",
       "      <td>ford ranger</td>\n",
       "      <td>2.0</td>\n",
       "      <td>121.0</td>\n",
       "      <td>NaN</td>\n",
       "      <td>248.0</td>\n",
       "      <td>2.0</td>\n",
       "      <td>1.0</td>\n",
       "      <td>NaN</td>\n",
       "      <td>374.0</td>\n",
       "      <td>66.310160</td>\n",
       "      <td>49.0</td>\n",
       "      <td>11.583924</td>\n",
       "      <td>6.0</td>\n",
       "    </tr>\n",
       "    <tr>\n",
       "      <td>toyota tacoma</td>\n",
       "      <td>NaN</td>\n",
       "      <td>240.0</td>\n",
       "      <td>2.0</td>\n",
       "      <td>486.0</td>\n",
       "      <td>2.0</td>\n",
       "      <td>NaN</td>\n",
       "      <td>NaN</td>\n",
       "      <td>730.0</td>\n",
       "      <td>66.575342</td>\n",
       "      <td>97.0</td>\n",
       "      <td>11.729141</td>\n",
       "      <td>6.0</td>\n",
       "    </tr>\n",
       "    <tr>\n",
       "      <td>jeep grand cherokee</td>\n",
       "      <td>NaN</td>\n",
       "      <td>2.0</td>\n",
       "      <td>NaN</td>\n",
       "      <td>492.0</td>\n",
       "      <td>214.0</td>\n",
       "      <td>10.0</td>\n",
       "      <td>NaN</td>\n",
       "      <td>718.0</td>\n",
       "      <td>68.523677</td>\n",
       "      <td>88.0</td>\n",
       "      <td>10.918114</td>\n",
       "      <td>6.0</td>\n",
       "    </tr>\n",
       "    <tr>\n",
       "      <td>hyundai santa fe</td>\n",
       "      <td>NaN</td>\n",
       "      <td>74.0</td>\n",
       "      <td>NaN</td>\n",
       "      <td>171.0</td>\n",
       "      <td>NaN</td>\n",
       "      <td>NaN</td>\n",
       "      <td>NaN</td>\n",
       "      <td>245.0</td>\n",
       "      <td>69.795918</td>\n",
       "      <td>28.0</td>\n",
       "      <td>10.256410</td>\n",
       "      <td>6.0</td>\n",
       "    </tr>\n",
       "    <tr>\n",
       "      <td>ford econoline</td>\n",
       "      <td>NaN</td>\n",
       "      <td>NaN</td>\n",
       "      <td>NaN</td>\n",
       "      <td>5.0</td>\n",
       "      <td>185.0</td>\n",
       "      <td>75.0</td>\n",
       "      <td>NaN</td>\n",
       "      <td>265.0</td>\n",
       "      <td>69.811321</td>\n",
       "      <td>31.0</td>\n",
       "      <td>10.472973</td>\n",
       "      <td>8.0</td>\n",
       "    </tr>\n",
       "    <tr>\n",
       "      <td>volkswagen jetta</td>\n",
       "      <td>NaN</td>\n",
       "      <td>339.0</td>\n",
       "      <td>123.0</td>\n",
       "      <td>4.0</td>\n",
       "      <td>NaN</td>\n",
       "      <td>NaN</td>\n",
       "      <td>NaN</td>\n",
       "      <td>466.0</td>\n",
       "      <td>72.746781</td>\n",
       "      <td>53.0</td>\n",
       "      <td>10.211946</td>\n",
       "      <td>4.0</td>\n",
       "    </tr>\n",
       "    <tr>\n",
       "      <td>ram 3500</td>\n",
       "      <td>NaN</td>\n",
       "      <td>NaN</td>\n",
       "      <td>NaN</td>\n",
       "      <td>316.0</td>\n",
       "      <td>70.0</td>\n",
       "      <td>46.0</td>\n",
       "      <td>NaN</td>\n",
       "      <td>432.0</td>\n",
       "      <td>73.148148</td>\n",
       "      <td>43.0</td>\n",
       "      <td>9.052632</td>\n",
       "      <td>6.0</td>\n",
       "    </tr>\n",
       "    <tr>\n",
       "      <td>chrysler 200</td>\n",
       "      <td>NaN</td>\n",
       "      <td>167.0</td>\n",
       "      <td>NaN</td>\n",
       "      <td>52.0</td>\n",
       "      <td>NaN</td>\n",
       "      <td>NaN</td>\n",
       "      <td>NaN</td>\n",
       "      <td>219.0</td>\n",
       "      <td>76.255708</td>\n",
       "      <td>24.0</td>\n",
       "      <td>9.876543</td>\n",
       "      <td>4.0</td>\n",
       "    </tr>\n",
       "    <tr>\n",
       "      <td>volkswagen passat</td>\n",
       "      <td>NaN</td>\n",
       "      <td>243.0</td>\n",
       "      <td>43.0</td>\n",
       "      <td>30.0</td>\n",
       "      <td>NaN</td>\n",
       "      <td>NaN</td>\n",
       "      <td>NaN</td>\n",
       "      <td>316.0</td>\n",
       "      <td>76.898734</td>\n",
       "      <td>34.0</td>\n",
       "      <td>9.714286</td>\n",
       "      <td>4.0</td>\n",
       "    </tr>\n",
       "    <tr>\n",
       "      <td>honda accord</td>\n",
       "      <td>1.0</td>\n",
       "      <td>675.0</td>\n",
       "      <td>1.0</td>\n",
       "      <td>194.0</td>\n",
       "      <td>NaN</td>\n",
       "      <td>5.0</td>\n",
       "      <td>NaN</td>\n",
       "      <td>876.0</td>\n",
       "      <td>77.054795</td>\n",
       "      <td>88.0</td>\n",
       "      <td>9.128631</td>\n",
       "      <td>4.0</td>\n",
       "    </tr>\n",
       "  </tbody>\n",
       "</table>\n",
       "</div>"
      ],
      "text/plain": [
       "cylinders            3.0    4.0    5.0     6.0     8.0  10.0  12.0  \\\n",
       "model                                                                \n",
       "chevrolet colorado   NaN   79.0   82.0   101.0     1.0   1.0   NaN   \n",
       "dodge dakota         NaN    3.0    NaN   111.0   110.0   NaN   NaN   \n",
       "dodge charger        NaN    5.0    NaN   196.0   129.0  43.0   NaN   \n",
       "ford mustang         NaN   51.0    1.0   342.0   206.0  18.0   NaN   \n",
       "kia sorento          NaN  118.0    NaN    91.0     NaN   NaN   NaN   \n",
       "chevrolet camaro     NaN    9.0    NaN   223.0   106.0  34.0   NaN   \n",
       "jeep cherokee        1.0   92.0    NaN   161.0     7.0   NaN   NaN   \n",
       "ford f-150           2.0   11.0    3.0  1039.0  1895.0  21.0   NaN   \n",
       "ford escape          1.0  497.0    NaN   266.0     2.0   NaN   NaN   \n",
       "ram 2500             NaN    NaN    1.0   637.0   318.0  12.0   1.0   \n",
       "ford ranger          2.0  121.0    NaN   248.0     2.0   1.0   NaN   \n",
       "toyota tacoma        NaN  240.0    2.0   486.0     2.0   NaN   NaN   \n",
       "jeep grand cherokee  NaN    2.0    NaN   492.0   214.0  10.0   NaN   \n",
       "hyundai santa fe     NaN   74.0    NaN   171.0     NaN   NaN   NaN   \n",
       "ford econoline       NaN    NaN    NaN     5.0   185.0  75.0   NaN   \n",
       "volkswagen jetta     NaN  339.0  123.0     4.0     NaN   NaN   NaN   \n",
       "ram 3500             NaN    NaN    NaN   316.0    70.0  46.0   NaN   \n",
       "chrysler 200         NaN  167.0    NaN    52.0     NaN   NaN   NaN   \n",
       "volkswagen passat    NaN  243.0   43.0    30.0     NaN   NaN   NaN   \n",
       "honda accord         1.0  675.0    1.0   194.0     NaN   5.0   NaN   \n",
       "\n",
       "cylinders            all_cylinders  quote_most_common  miss_cylinders  \\\n",
       "model                                                                   \n",
       "chevrolet colorado           264.0          38.257576            22.0   \n",
       "dodge dakota                 224.0          49.553571            18.0   \n",
       "dodge charger                373.0          52.546917            42.0   \n",
       "ford mustang                 618.0          55.339806            63.0   \n",
       "kia sorento                  209.0          56.459330            27.0   \n",
       "chevrolet camaro             372.0          59.946237            42.0   \n",
       "jeep cherokee                261.0          61.685824            32.0   \n",
       "ford f-150                  2971.0          63.783238           355.0   \n",
       "ford escape                  766.0          64.882507            75.0   \n",
       "ram 2500                     969.0          65.737874           122.0   \n",
       "ford ranger                  374.0          66.310160            49.0   \n",
       "toyota tacoma                730.0          66.575342            97.0   \n",
       "jeep grand cherokee          718.0          68.523677            88.0   \n",
       "hyundai santa fe             245.0          69.795918            28.0   \n",
       "ford econoline               265.0          69.811321            31.0   \n",
       "volkswagen jetta             466.0          72.746781            53.0   \n",
       "ram 3500                     432.0          73.148148            43.0   \n",
       "chrysler 200                 219.0          76.255708            24.0   \n",
       "volkswagen passat            316.0          76.898734            34.0   \n",
       "honda accord                 876.0          77.054795            88.0   \n",
       "\n",
       "cylinders            miss_quote  most_common  \n",
       "model                                         \n",
       "chevrolet colorado     7.692308          6.0  \n",
       "dodge dakota           7.438017          6.0  \n",
       "dodge charger         10.120482          6.0  \n",
       "ford mustang           9.251101          6.0  \n",
       "kia sorento           11.440678          4.0  \n",
       "chevrolet camaro      10.144928          6.0  \n",
       "jeep cherokee         10.921502          6.0  \n",
       "ford f-150            10.673482          8.0  \n",
       "ford escape            8.917955          4.0  \n",
       "ram 2500              11.182401          6.0  \n",
       "ford ranger           11.583924          6.0  \n",
       "toyota tacoma         11.729141          6.0  \n",
       "jeep grand cherokee   10.918114          6.0  \n",
       "hyundai santa fe      10.256410          6.0  \n",
       "ford econoline        10.472973          8.0  \n",
       "volkswagen jetta      10.211946          4.0  \n",
       "ram 3500               9.052632          6.0  \n",
       "chrysler 200           9.876543          4.0  \n",
       "volkswagen passat      9.714286          4.0  \n",
       "honda accord           9.128631          4.0  "
      ]
     },
     "execution_count": 15,
     "metadata": {},
     "output_type": "execute_result"
    }
   ],
   "source": [
    "# Like I did for the column 'paint_colors', I create a pivot table again. The index is given by the vehicle's models.\n",
    "# We take a look at the table's head sorted by the quote of the most common cylinders in order to see their\n",
    "# lowest values of percentages grouped by the model:\n",
    "\n",
    "# create pivot table with model as index and cylinders as columns\n",
    "pivot_model_cylinders = df.pivot_table(index='model', columns='cylinders', values='price', aggfunc='count')\n",
    "\n",
    "# add further columns to the pivot table for analysis (analog to the pivot table for 'paint_color')\n",
    "for mod in pivot_model_cylinders.index:\n",
    "    pivot_model_cylinders.loc[mod, 'all_cylinders'] = pivot_model_cylinders.loc[mod].sum()\n",
    "    pivot_model_cylinders_drop = pivot_model_cylinders.drop(columns='all_cylinders')\n",
    "    pivot_model_cylinders.loc[mod, 'quote_most_common'] = 100*pivot_model_cylinders_drop.loc[mod].max()/ \\\n",
    "    pivot_model_cylinders.loc[mod, 'all_cylinders']\n",
    "    pivot_model_cylinders.loc[mod, 'miss_cylinders'] = len(df[(df['model'] == mod)&(df['cylinders'].isnull())])\n",
    "    pivot_model_cylinders.loc[mod, 'miss_quote'] = 100*pivot_model_cylinders.loc[mod, 'miss_cylinders']/ \\\n",
    "    (pivot_model_cylinders.loc[mod, 'all_cylinders']+pivot_model_cylinders.loc[mod, 'miss_cylinders'])\n",
    "pivot_model_cylinders['most_common'] = pivot_model_cylinders.drop(columns= \\\n",
    "['all_cylinders','miss_cylinders','miss_quote', 'quote_most_common'], inplace=False).idxmax(axis=1)\n",
    "\n",
    "pivot_model_cylinders.sort_values('quote_most_common').head(20)"
   ]
  },
  {
   "cell_type": "markdown",
   "metadata": {},
   "source": [
    "In the pivot table's head, there are variations in the most common cylinders and their quotes for different models.\n",
    "We have 96 different models and the values for the quotes of the most common cylinders are increasing very fastly in\n",
    "this table. The missing quotes in the table's head are small with around 10%. As a consequence, I replace the\n",
    "missing values in the column 'cylinders' with the most common cylinders corresponding to the vehicle's model."
   ]
  },
  {
   "cell_type": "code",
   "execution_count": 16,
   "metadata": {},
   "outputs": [],
   "source": [
    "# replace the missing values for cylinders with most common cylinders type corresponding to the vehicle's model \n",
    "for mod in pivot_model_cylinders.index:\n",
    "    df.loc[df['model'] == mod, 'cylinders'] \\\n",
    "    = df.loc[df['model'] == mod, 'cylinders'].fillna(value=pivot_model_cylinders.loc[mod, 'most_common'])"
   ]
  },
  {
   "cell_type": "markdown",
   "metadata": {},
   "source": [
    "###### 4) Column 'model_year'"
   ]
  },
  {
   "cell_type": "code",
   "execution_count": 17,
   "metadata": {},
   "outputs": [
    {
     "name": "stdout",
     "output_type": "stream",
     "text": [
      "The maximum value for 'model_year' is 2019,\n",
      "the minimum value is 1908.\n"
     ]
    }
   ],
   "source": [
    "print(\"The maximum value for 'model_year' is {:.0f},\".format(df['model_year'].max()))\n",
    "print(\"the minimum value is {:.0f}.\".format(df['model_year'].min()))"
   ]
  },
  {
   "cell_type": "markdown",
   "metadata": {},
   "source": [
    "I create a pivot table showing the model year's means and medians grouped by the vehicle's model. <br>\n",
    "The column 'count' counts the vehicles of the corresponding model and also includes those with missing model years. <br>\n",
    "The column 'std' gives the standard deviation of the model years corresponding to the model. <br>\n",
    "The column 'abs_diff_mean_median' is the absolut difference between mean and median corresponding to the model. <br>\n",
    "The column 'weight' is a helping column for calculating the weighted mean of the difference between\n",
    "the medians and means, weighted with the number of vehicles corresponding to the model. <br> The weighted mean can\n",
    "easily be calculated by dividing the sum of all values in the column 'weight' with the total  number of vehicles;     \n",
    "the weights also include the vehicles with missing model years as they will be filled with the median value    \n",
    "corresponding to the model. "
   ]
  },
  {
   "cell_type": "code",
   "execution_count": 18,
   "metadata": {},
   "outputs": [
    {
     "data": {
      "text/html": [
       "<div>\n",
       "<style scoped>\n",
       "    .dataframe tbody tr th:only-of-type {\n",
       "        vertical-align: middle;\n",
       "    }\n",
       "\n",
       "    .dataframe tbody tr th {\n",
       "        vertical-align: top;\n",
       "    }\n",
       "\n",
       "    .dataframe thead tr th {\n",
       "        text-align: left;\n",
       "    }\n",
       "\n",
       "    .dataframe thead tr:last-of-type th {\n",
       "        text-align: right;\n",
       "    }\n",
       "</style>\n",
       "<table border=\"1\" class=\"dataframe\">\n",
       "  <thead>\n",
       "    <tr>\n",
       "      <th></th>\n",
       "      <th>mean</th>\n",
       "      <th>median</th>\n",
       "      <th>std</th>\n",
       "      <th>count</th>\n",
       "      <th>abs_diff_mean_median</th>\n",
       "      <th>weight</th>\n",
       "    </tr>\n",
       "    <tr>\n",
       "      <th></th>\n",
       "      <th>model_year</th>\n",
       "      <th>model_year</th>\n",
       "      <th>model_year</th>\n",
       "      <th></th>\n",
       "      <th></th>\n",
       "      <th></th>\n",
       "    </tr>\n",
       "    <tr>\n",
       "      <th>model</th>\n",
       "      <th></th>\n",
       "      <th></th>\n",
       "      <th></th>\n",
       "      <th></th>\n",
       "      <th></th>\n",
       "      <th></th>\n",
       "    </tr>\n",
       "  </thead>\n",
       "  <tbody>\n",
       "    <tr>\n",
       "      <td>chevrolet malibu</td>\n",
       "      <td>2010.661996</td>\n",
       "      <td>2012.0</td>\n",
       "      <td>7.259086</td>\n",
       "      <td>617.0</td>\n",
       "      <td>1.338004</td>\n",
       "      <td>825.548161</td>\n",
       "    </tr>\n",
       "    <tr>\n",
       "      <td>cadillac escalade</td>\n",
       "      <td>2008.508475</td>\n",
       "      <td>2009.0</td>\n",
       "      <td>7.340533</td>\n",
       "      <td>322.0</td>\n",
       "      <td>0.491525</td>\n",
       "      <td>158.271186</td>\n",
       "    </tr>\n",
       "    <tr>\n",
       "      <td>chevrolet suburban</td>\n",
       "      <td>2007.754753</td>\n",
       "      <td>2008.0</td>\n",
       "      <td>7.459780</td>\n",
       "      <td>562.0</td>\n",
       "      <td>0.245247</td>\n",
       "      <td>137.828897</td>\n",
       "    </tr>\n",
       "    <tr>\n",
       "      <td>gmc yukon</td>\n",
       "      <td>2007.979452</td>\n",
       "      <td>2008.0</td>\n",
       "      <td>8.050928</td>\n",
       "      <td>331.0</td>\n",
       "      <td>0.020548</td>\n",
       "      <td>6.801370</td>\n",
       "    </tr>\n",
       "    <tr>\n",
       "      <td>chevrolet impala</td>\n",
       "      <td>2008.452830</td>\n",
       "      <td>2010.0</td>\n",
       "      <td>8.643197</td>\n",
       "      <td>674.0</td>\n",
       "      <td>1.547170</td>\n",
       "      <td>1042.792453</td>\n",
       "    </tr>\n",
       "    <tr>\n",
       "      <td>ford f-250</td>\n",
       "      <td>2005.424501</td>\n",
       "      <td>2006.0</td>\n",
       "      <td>8.803408</td>\n",
       "      <td>761.0</td>\n",
       "      <td>0.575499</td>\n",
       "      <td>437.954416</td>\n",
       "    </tr>\n",
       "    <tr>\n",
       "      <td>jeep cherokee</td>\n",
       "      <td>2008.003623</td>\n",
       "      <td>2014.0</td>\n",
       "      <td>9.564517</td>\n",
       "      <td>293.0</td>\n",
       "      <td>5.996377</td>\n",
       "      <td>1756.938406</td>\n",
       "    </tr>\n",
       "    <tr>\n",
       "      <td>chevrolet camaro</td>\n",
       "      <td>2008.397959</td>\n",
       "      <td>2013.0</td>\n",
       "      <td>11.578479</td>\n",
       "      <td>414.0</td>\n",
       "      <td>4.602041</td>\n",
       "      <td>1905.244898</td>\n",
       "    </tr>\n",
       "    <tr>\n",
       "      <td>ford mustang</td>\n",
       "      <td>2004.818182</td>\n",
       "      <td>2007.0</td>\n",
       "      <td>11.980682</td>\n",
       "      <td>681.0</td>\n",
       "      <td>2.181818</td>\n",
       "      <td>1485.818182</td>\n",
       "    </tr>\n",
       "    <tr>\n",
       "      <td>chevrolet corvette</td>\n",
       "      <td>1996.857759</td>\n",
       "      <td>2000.0</td>\n",
       "      <td>12.673386</td>\n",
       "      <td>499.0</td>\n",
       "      <td>3.142241</td>\n",
       "      <td>1567.978448</td>\n",
       "    </tr>\n",
       "  </tbody>\n",
       "</table>\n",
       "</div>"
      ],
      "text/plain": [
       "                           mean     median        std  count  \\\n",
       "                     model_year model_year model_year          \n",
       "model                                                          \n",
       "chevrolet malibu    2010.661996     2012.0   7.259086  617.0   \n",
       "cadillac escalade   2008.508475     2009.0   7.340533  322.0   \n",
       "chevrolet suburban  2007.754753     2008.0   7.459780  562.0   \n",
       "gmc yukon           2007.979452     2008.0   8.050928  331.0   \n",
       "chevrolet impala    2008.452830     2010.0   8.643197  674.0   \n",
       "ford f-250          2005.424501     2006.0   8.803408  761.0   \n",
       "jeep cherokee       2008.003623     2014.0   9.564517  293.0   \n",
       "chevrolet camaro    2008.397959     2013.0  11.578479  414.0   \n",
       "ford mustang        2004.818182     2007.0  11.980682  681.0   \n",
       "chevrolet corvette  1996.857759     2000.0  12.673386  499.0   \n",
       "\n",
       "                   abs_diff_mean_median       weight  \n",
       "                                                      \n",
       "model                                                 \n",
       "chevrolet malibu               1.338004   825.548161  \n",
       "cadillac escalade              0.491525   158.271186  \n",
       "chevrolet suburban             0.245247   137.828897  \n",
       "gmc yukon                      0.020548     6.801370  \n",
       "chevrolet impala               1.547170  1042.792453  \n",
       "ford f-250                     0.575499   437.954416  \n",
       "jeep cherokee                  5.996377  1756.938406  \n",
       "chevrolet camaro               4.602041  1905.244898  \n",
       "ford mustang                   2.181818  1485.818182  \n",
       "chevrolet corvette             3.142241  1567.978448  "
      ]
     },
     "execution_count": 18,
     "metadata": {},
     "output_type": "execute_result"
    }
   ],
   "source": [
    "# create pivot table with model as index and the mean, standard deviation and median values of the model years as columns\n",
    "pivot_model_modelyear = df.pivot_table(index='model', values='model_year', aggfunc=['mean', 'median', 'std'])\n",
    "\n",
    "# add further columns to the pivot table for analysis (as explained above) \n",
    "for mod in pivot_model_modelyear.index:\n",
    "    pivot_model_modelyear.loc[mod, 'count'] = len(df[df['model'] == mod])\n",
    "    pivot_model_modelyear.loc[mod, 'abs_diff_mean_median'] = \\\n",
    "    abs(pivot_model_modelyear.loc[mod, ('median', 'model_year')] - pivot_model_modelyear.loc[mod, ('mean', 'model_year')])\n",
    "    pivot_model_modelyear.loc[mod, 'weight'] = abs(pivot_model_modelyear.loc[mod, ('median', 'model_year')] - \\\n",
    "    pivot_model_modelyear.loc[mod, ('mean', 'model_year')])*len(df[df['model'] == mod])\n",
    "weighted_deviation = pivot_model_modelyear['weight'].sum() / pivot_model_modelyear['count'].sum()\n",
    "\n",
    "# The pivot table is sorted by the model standard deviations\n",
    "# and we look at its tail in order to see the biggest values for the standard deviations:\n",
    "pivot_model_modelyear.sort_values(('std', 'model_year')).tail(10)"
   ]
  },
  {
   "cell_type": "code",
   "execution_count": 19,
   "metadata": {},
   "outputs": [
    {
     "name": "stdout",
     "output_type": "stream",
     "text": [
      "The biggest absolute difference of model years between mean and median grouped by models is 6.0 years,\n",
      "the smallest absolute difference is 0.0 years.\n",
      "\n",
      "Let's visualize the values of model years for the model with the biggest absolute difference: jeep cherokee\n"
     ]
    }
   ],
   "source": [
    "print(\"The biggest absolute difference of model years between mean and median grouped by models is {:.1f} years,\" \\\n",
    "     .format(pivot_model_modelyear['abs_diff_mean_median'].max()))\n",
    "print(\"the smallest absolute difference is {:.1f} years.\".format(pivot_model_modelyear['abs_diff_mean_median'].min()))\n",
    "print()\n",
    "print(\"Let's visualize the values of model years for the model with the biggest absolute difference:\", \\\n",
    "     pivot_model_modelyear['abs_diff_mean_median'].idxmax())"
   ]
  },
  {
   "cell_type": "code",
   "execution_count": 20,
   "metadata": {},
   "outputs": [
    {
     "name": "stdout",
     "output_type": "stream",
     "text": [
      "I visualize the model years from this model with a boxplot:\n",
      "\n"
     ]
    },
    {
     "data": {
      "image/png": "[encoded data removed]",
      "text/plain": [
       "<Figure size 432x288 with 1 Axes>"
      ]
     },
     "metadata": {
      "needs_background": "light"
     },
     "output_type": "display_data"
    },
    {
     "name": "stdout",
     "output_type": "stream",
     "text": [
      "\n",
      "Q1 names the lower quartile, Q3 the upper quartile:\n",
      "Q1 = 1999.0\n",
      "Q3 = 2016.0\n",
      "For the vehicles of jeep cherokee model, the oldest car has 1977 as model year\n",
      "and the newest car has 2019 as model year.\n"
     ]
    }
   ],
   "source": [
    "print(\"I visualize the model years from this model with a boxplot:\")\n",
    "print()\n",
    "\n",
    "# create seperate data frame for the example boxplot\n",
    "df_jeep = df[(df['model'] == 'jeep cherokee')&(df['model_year'] > 0)]\n",
    "\n",
    "# Q1 names the lower quartile, Q3 the upper quartileof the boxplot\n",
    "Q1 = df_jeep['model_year'].quantile(0.25)\n",
    "Q3 = df_jeep['model_year'].quantile(0.75)\n",
    "plt.ylim(1970, 2020)\n",
    "df_jeep.boxplot(column='model_year')\n",
    "plt.hlines(y=[Q1, Q3], xmin=0.9, xmax=1.1, color='red')\n",
    "plt.hlines(y=[Q1-1.5*(Q3-Q1), Q3+1.5*(Q3-Q1)], xmin=0.9, xmax=1.1, color='orange')\n",
    "plt.title('Model year boxplot for model \"jeep cherokee\"')\n",
    "plt.ylabel('model year')\n",
    "plt.show()\n",
    "\n",
    "print()\n",
    "print(\"Q1 names the lower quartile, Q3 the upper quartile:\")\n",
    "print(\"Q1 =\", Q1)\n",
    "print(\"Q3 =\", Q3)\n",
    "print(\"For the vehicles of jeep cherokee model, the oldest car has {:.0f} as model year\".format(df_jeep['model_year'].min()))\n",
    "print(\"and the newest car has {:.0f} as model year.\".format(df_jeep['model_year'].max()))"
   ]
  },
  {
   "cell_type": "markdown",
   "metadata": {},
   "source": [
    "That means that the model with the biggest difference between mean and median has no outliers for its model years (the orange line in the boxplot signs the limit for outliers).That doesn't mean that the column 'model_year' has no outliers regarding the models, but having no outliers even for the model with the biggest difference between mean and median shows that outliers aren't common for model years."
   ]
  },
  {
   "cell_type": "code",
   "execution_count": 21,
   "metadata": {},
   "outputs": [
    {
     "name": "stdout",
     "output_type": "stream",
     "text": [
      "The weighted mean between the medians and means of model years grouped by models is 0.8 years,\n"
     ]
    }
   ],
   "source": [
    "print(\"The weighted mean between the medians and means of model years grouped by models is {:.1f} years,\". \\\n",
    "      format(weighted_deviation))"
   ]
  },
  {
   "cell_type": "markdown",
   "metadata": {},
   "source": [
    "So this value is much smaller than the biggest absolute difference between mean and median grouped by models.\n",
    "Also the standard deviations grouped by model decrease rapidly in the sorted table and are small for many models.\n",
    "We can see that the model of a vehicle is a good indicator for filling missing model years. That's why I replace the\n",
    "missing model years in the DataFrame with the corresponding median of the column 'model_year' grouped by models."
   ]
  },
  {
   "cell_type": "code",
   "execution_count": 22,
   "metadata": {},
   "outputs": [],
   "source": [
    "# I fill the median values for model years grouped by vehicle's models to the corresponding missing values\n",
    "for mod in pivot_model_modelyear.index:\n",
    "    df.loc[df['model'] == mod, 'model_year'] \\\n",
    "    = df.loc[df['model'] == mod, 'model_year'].fillna(value=pivot_model_modelyear.loc[mod, ('median', 'model_year')])"
   ]
  },
  {
   "cell_type": "markdown",
   "metadata": {},
   "source": [
    "###### 5) Column 'odometer'"
   ]
  },
  {
   "cell_type": "code",
   "execution_count": 23,
   "metadata": {},
   "outputs": [
    {
     "data": {
      "text/html": [
       "<div>\n",
       "<style scoped>\n",
       "    .dataframe tbody tr th:only-of-type {\n",
       "        vertical-align: middle;\n",
       "    }\n",
       "\n",
       "    .dataframe tbody tr th {\n",
       "        vertical-align: top;\n",
       "    }\n",
       "\n",
       "    .dataframe thead tr th {\n",
       "        text-align: left;\n",
       "    }\n",
       "\n",
       "    .dataframe thead tr:last-of-type th {\n",
       "        text-align: right;\n",
       "    }\n",
       "</style>\n",
       "<table border=\"1\" class=\"dataframe\">\n",
       "  <thead>\n",
       "    <tr>\n",
       "      <th></th>\n",
       "      <th>min</th>\n",
       "      <th>max</th>\n",
       "      <th>std</th>\n",
       "      <th>mean</th>\n",
       "      <th>median</th>\n",
       "      <th>count</th>\n",
       "      <th>abs_diff_mean_median</th>\n",
       "      <th>missing</th>\n",
       "      <th>miss_quote</th>\n",
       "      <th>weight</th>\n",
       "    </tr>\n",
       "    <tr>\n",
       "      <th></th>\n",
       "      <th>odometer</th>\n",
       "      <th>odometer</th>\n",
       "      <th>odometer</th>\n",
       "      <th>odometer</th>\n",
       "      <th>odometer</th>\n",
       "      <th></th>\n",
       "      <th></th>\n",
       "      <th></th>\n",
       "      <th></th>\n",
       "      <th></th>\n",
       "    </tr>\n",
       "    <tr>\n",
       "      <th>condition</th>\n",
       "      <th></th>\n",
       "      <th></th>\n",
       "      <th></th>\n",
       "      <th></th>\n",
       "      <th></th>\n",
       "      <th></th>\n",
       "      <th></th>\n",
       "      <th></th>\n",
       "      <th></th>\n",
       "      <th></th>\n",
       "    </tr>\n",
       "  </thead>\n",
       "  <tbody>\n",
       "    <tr>\n",
       "      <td>excellent</td>\n",
       "      <td>0.0</td>\n",
       "      <td>980000.0</td>\n",
       "      <td>58121.834357</td>\n",
       "      <td>106687.682258</td>\n",
       "      <td>104230.0</td>\n",
       "      <td>24773.0</td>\n",
       "      <td>2457.682258</td>\n",
       "      <td>3800.0</td>\n",
       "      <td>15.339281</td>\n",
       "      <td>6.088416e+07</td>\n",
       "    </tr>\n",
       "    <tr>\n",
       "      <td>fair</td>\n",
       "      <td>0.0</td>\n",
       "      <td>500000.0</td>\n",
       "      <td>68144.412266</td>\n",
       "      <td>183062.233577</td>\n",
       "      <td>181613.0</td>\n",
       "      <td>1607.0</td>\n",
       "      <td>1449.233577</td>\n",
       "      <td>237.0</td>\n",
       "      <td>14.747978</td>\n",
       "      <td>2.328918e+06</td>\n",
       "    </tr>\n",
       "    <tr>\n",
       "      <td>good</td>\n",
       "      <td>0.0</td>\n",
       "      <td>990000.0</td>\n",
       "      <td>66725.844479</td>\n",
       "      <td>129919.930980</td>\n",
       "      <td>129000.0</td>\n",
       "      <td>20145.0</td>\n",
       "      <td>919.930980</td>\n",
       "      <td>3092.0</td>\n",
       "      <td>15.348722</td>\n",
       "      <td>1.853201e+07</td>\n",
       "    </tr>\n",
       "    <tr>\n",
       "      <td>like new</td>\n",
       "      <td>0.0</td>\n",
       "      <td>990000.0</td>\n",
       "      <td>56967.637938</td>\n",
       "      <td>79426.738166</td>\n",
       "      <td>72982.5</td>\n",
       "      <td>4742.0</td>\n",
       "      <td>6444.238166</td>\n",
       "      <td>728.0</td>\n",
       "      <td>15.352172</td>\n",
       "      <td>3.055858e+07</td>\n",
       "    </tr>\n",
       "    <tr>\n",
       "      <td>new</td>\n",
       "      <td>5.0</td>\n",
       "      <td>315000.0</td>\n",
       "      <td>67269.684251</td>\n",
       "      <td>43476.056000</td>\n",
       "      <td>8002.0</td>\n",
       "      <td>143.0</td>\n",
       "      <td>35474.056000</td>\n",
       "      <td>18.0</td>\n",
       "      <td>12.587413</td>\n",
       "      <td>5.072790e+06</td>\n",
       "    </tr>\n",
       "    <tr>\n",
       "      <td>salvage</td>\n",
       "      <td>0.0</td>\n",
       "      <td>482000.0</td>\n",
       "      <td>91356.850318</td>\n",
       "      <td>140919.989796</td>\n",
       "      <td>142673.5</td>\n",
       "      <td>115.0</td>\n",
       "      <td>1753.510204</td>\n",
       "      <td>17.0</td>\n",
       "      <td>14.782609</td>\n",
       "      <td>2.016537e+05</td>\n",
       "    </tr>\n",
       "  </tbody>\n",
       "</table>\n",
       "</div>"
      ],
      "text/plain": [
       "               min       max           std           mean    median    count  \\\n",
       "          odometer  odometer      odometer       odometer  odometer            \n",
       "condition                                                                      \n",
       "excellent      0.0  980000.0  58121.834357  106687.682258  104230.0  24773.0   \n",
       "fair           0.0  500000.0  68144.412266  183062.233577  181613.0   1607.0   \n",
       "good           0.0  990000.0  66725.844479  129919.930980  129000.0  20145.0   \n",
       "like new       0.0  990000.0  56967.637938   79426.738166   72982.5   4742.0   \n",
       "new            5.0  315000.0  67269.684251   43476.056000    8002.0    143.0   \n",
       "salvage        0.0  482000.0  91356.850318  140919.989796  142673.5    115.0   \n",
       "\n",
       "          abs_diff_mean_median missing miss_quote        weight  \n",
       "                                                                 \n",
       "condition                                                        \n",
       "excellent          2457.682258  3800.0  15.339281  6.088416e+07  \n",
       "fair               1449.233577   237.0  14.747978  2.328918e+06  \n",
       "good                919.930980  3092.0  15.348722  1.853201e+07  \n",
       "like new           6444.238166   728.0  15.352172  3.055858e+07  \n",
       "new               35474.056000    18.0  12.587413  5.072790e+06  \n",
       "salvage            1753.510204    17.0  14.782609  2.016537e+05  "
      ]
     },
     "execution_count": 23,
     "metadata": {},
     "output_type": "execute_result"
    }
   ],
   "source": [
    "# We create again a pivot table with the conditions as index and odometer as values; analog to the pivot table I\n",
    "# created for the column 'model_years':\n",
    "\n",
    "# With minimum, maximum, standard deviation, mean and median values, we get an overview of the odometer values in this\n",
    "# pivot table where the conditions create the index\n",
    "pivot_cond_odometer = df.pivot_table(index='condition', values='odometer', aggfunc=['min', 'max', 'std', 'mean', 'median'])\n",
    "\n",
    "# analog to the column 'model_year', we create helping columns for analysis\n",
    "for cond in pivot_cond_odometer.index:\n",
    "    pivot_cond_odometer.loc[cond, 'count'] = len(df[df['condition'] == cond])\n",
    "    pivot_cond_odometer.loc[cond, 'abs_diff_mean_median'] = \\\n",
    "    abs(pivot_cond_odometer.loc[cond, ('median', 'odometer')] - pivot_cond_odometer.loc[cond, ('mean', 'odometer')])\n",
    "    pivot_cond_odometer.loc[cond, 'missing'] = len(df[(df['condition'] == cond)&(df['odometer'].isnull())])\n",
    "    pivot_cond_odometer.loc[cond, 'miss_quote'] = 100*len(df[(df['condition'] == cond)&(df['odometer'].isnull())])/ \\\n",
    "    len(df[df['condition'] == cond])\n",
    "    pivot_cond_odometer.loc[cond, 'weight'] = abs(pivot_cond_odometer.loc[cond, ('median', 'odometer')] - \\\n",
    "    pivot_cond_odometer.loc[cond, ('mean', 'odometer')])*len(df[df['condition'] == cond])\n",
    "weighted_mean_cond = pivot_cond_odometer['weight'].sum() / pivot_cond_odometer['count'].sum()\n",
    "\n",
    "pivot_cond_odometer"
   ]
  },
  {
   "cell_type": "code",
   "execution_count": 24,
   "metadata": {},
   "outputs": [
    {
     "name": "stdout",
     "output_type": "stream",
     "text": [
      "The weighted mean of the difference between the medians and means of odometer values grouped by conditions is 2282.0.\n"
     ]
    }
   ],
   "source": [
    "print(\"The weighted mean of the difference between the medians and means of odometer values grouped by conditions is {:.1f}.\" \\\n",
    "       .format(weighted_mean_cond))"
   ]
  },
  {
   "cell_type": "markdown",
   "metadata": {},
   "source": [
    "In this pivot table we can see many abnormalities: <br>\n",
    "The minimum odometer value for new vehicles isn't 0 as expected whereas the vehicles in conditions of lower order\n",
    "have 0 miles which is also unexpected. All the maximum odometer values for different conditions are unrealistic high.\n",
    "It's curious that the median value for vehicles 'like new' is already about 73.000 miles. Also for vehicles in an\n",
    "'excellent' condition the median value of about 104.000 miles is unusual high. The highest fraction of vehicles is the\n",
    "group of vehicles in an 'excellent' condition. The standard deviations are all very high compared to their\n",
    "corresponding means. The biggest fraction of all vehicles are in the groups 'excellent' and 'good'.\n",
    "Both groups have mean values that are relatively close togehter. As the weighted mean between means and\n",
    "medians is not big, it seems that there are only few outliers for the odometer values. <br> <br>\n",
    "It's thinkable that the odometer value corresponds to the vehicle's price and model year; for example, a cheap vehicle\n",
    "that is old might driven more miles than an expensive old car etc. I will group the odometer values by prices and\n",
    "model years. Let's calculate the weighted standard deviation of all standard deviations in this grouped table in order\n",
    "to get an idea of the deviations from the mean values."
   ]
  },
  {
   "cell_type": "code",
   "execution_count": 25,
   "metadata": {},
   "outputs": [
    {
     "name": "stdout",
     "output_type": "stream",
     "text": [
      "The weighted standard deviation in the grouped table is 32694.\n"
     ]
    }
   ],
   "source": [
    "# create tables for calculating the weighted standard deviation\n",
    "count_table = df.groupby(['price', 'model_year'])['odometer'].count()\n",
    "std_table = df.groupby(['price', 'model_year'])['odometer'].std()\n",
    "weight_table = count_table*std_table\n",
    "\n",
    "print(\"The weighted standard deviation in the grouped table is {:.0f}.\".format(weight_table.sum()/count_table.sum()))\n",
    "# We can see that this value is smaller than all the standard deviations we had in the pivot table with the conditions\n",
    "# as index. I calculate the median values of the different groups and use them to fill in the missing values."
   ]
  },
  {
   "cell_type": "code",
   "execution_count": 26,
   "metadata": {
    "scrolled": false
   },
   "outputs": [
    {
     "name": "stdout",
     "output_type": "stream",
     "text": [
      "There are 1022 missing values left in the column 'odometer'\n",
      "\n",
      "That's why I use the median values of odometer grouped by prices to fill in the missing values:\n",
      "There are still 242 missing values left in the column 'odometer'.\n",
      "\n",
      "I use the median values of odometer grouped by model years to fill in the missing values:\n",
      "There are 0 missing values left in the column 'odometer'.\n"
     ]
    }
   ],
   "source": [
    "# group the odometer values by price and model years to fill in the missing values with the corresponding medians\n",
    "df['odometer'] = df.groupby(['price', 'model_year'])['odometer'].apply(lambda x: x.fillna(x.median()))\n",
    "print(\"There are {} missing values left in the column 'odometer'\".format(df['odometer'].isnull().sum()))\n",
    "print()\n",
    "print(\"That's why I use the median values of odometer grouped by prices to fill in the missing values:\")\n",
    "# group the odometer values by price to fill in the further missing values with the corresponding medians\n",
    "df['odometer'] = df.groupby('price')['odometer'].apply(lambda x: x.fillna(x.median()))\n",
    "print(\"There are still {} missing values left in the column 'odometer'.\".format(df['odometer'].isnull().sum()))\n",
    "print()\n",
    "print(\"I use the median values of odometer grouped by model years to fill in the missing values:\")\n",
    "# group the odometer values by model years to fill in the last missing values with the corresponding medians\n",
    "df['odometer'] = df.groupby('model_year')['odometer'].apply(lambda x: x.fillna(x.median()))\n",
    "print(\"There are {} missing values left in the column 'odometer'.\".format(df['odometer'].isnull().sum()))"
   ]
  },
  {
   "cell_type": "code",
   "execution_count": 27,
   "metadata": {},
   "outputs": [
    {
     "name": "stdout",
     "output_type": "stream",
     "text": [
      "Let's check the info of our DataFrame again to see that the missing values have been filled:\n",
      "\n",
      "<class 'pandas.core.frame.DataFrame'>\n",
      "RangeIndex: 51525 entries, 0 to 51524\n",
      "Data columns (total 13 columns):\n",
      "price           51525 non-null int64\n",
      "model_year      51525 non-null float64\n",
      "model           51525 non-null object\n",
      "condition       51525 non-null object\n",
      "cylinders       51525 non-null float64\n",
      "fuel            51525 non-null object\n",
      "odometer        51525 non-null float64\n",
      "transmission    51525 non-null object\n",
      "type            51525 non-null object\n",
      "paint_color     51525 non-null object\n",
      "is_4wd          51525 non-null float64\n",
      "date_posted     51525 non-null object\n",
      "days_listed     51525 non-null int64\n",
      "dtypes: float64(4), int64(2), object(7)\n",
      "memory usage: 5.1+ MB\n"
     ]
    }
   ],
   "source": [
    "print(\"Let's check the info of our DataFrame again to see that the missing values have been filled:\")\n",
    "print()\n",
    "df.info()"
   ]
  },
  {
   "cell_type": "markdown",
   "metadata": {},
   "source": [
    "#### Conclusion"
   ]
  },
  {
   "cell_type": "markdown",
   "metadata": {},
   "source": [
    "For the categorial columns ('paint_color', 'cylinders' and 'is_4wd') I found other categorial variables (model and type) for which the most common value was used to fill in missing values; determined by using pivot tables. Here, I have corrected duplicated models as we use the models for filling in missing values. <br> <br>\n",
    "For the quantitative columns ('odometer' and 'model_year') I found different groups of categorial variables for filling the missing values with the corresponding median values. I used standard deviations and weigthed means for the difference between mean and median values for estimating the extent of outliers and the best categorial variables for filling in the missing values with the corresponding median values. For the column 'odometer' I worked with specific groups in the beginning ('price' and 'model_year') and used more general groups at the end for remaining missing values (only 'price' or 'model_year'). <br>\n",
    "As determined in the conclusion of step 1, all columns of float64 data type had missing values. That indicates that the system proccessing the data written by Crankshaft List only accepts float values that are typed in correctly; otherwise, there is a missing value. The column 'is_4wd' could somehow not accept the value 0 in their system. The column 'paint_color' maybe wasn't easy to determine for some vehicles and they wanted to avoid many more different colors in their advertisements since this could be confusing for the customers."
   ]
  },
  {
   "cell_type": "markdown",
   "metadata": {},
   "source": [
    "<a id=\"2.2\"></a>"
   ]
  },
  {
   "cell_type": "markdown",
   "metadata": {},
   "source": [
    "### 2.2) Convert data and find duplicates"
   ]
  },
  {
   "cell_type": "markdown",
   "metadata": {},
   "source": [
    "###### Convert Data"
   ]
  },
  {
   "cell_type": "code",
   "execution_count": 28,
   "metadata": {},
   "outputs": [
    {
     "name": "stdout",
     "output_type": "stream",
     "text": [
      "Let's look again at the different data types in the DataFrame's info:\n",
      "\n",
      "<class 'pandas.core.frame.DataFrame'>\n",
      "RangeIndex: 51525 entries, 0 to 51524\n",
      "Data columns (total 13 columns):\n",
      "price           51525 non-null int64\n",
      "model_year      51525 non-null float64\n",
      "model           51525 non-null object\n",
      "condition       51525 non-null object\n",
      "cylinders       51525 non-null float64\n",
      "fuel            51525 non-null object\n",
      "odometer        51525 non-null float64\n",
      "transmission    51525 non-null object\n",
      "type            51525 non-null object\n",
      "paint_color     51525 non-null object\n",
      "is_4wd          51525 non-null float64\n",
      "date_posted     51525 non-null object\n",
      "days_listed     51525 non-null int64\n",
      "dtypes: float64(4), int64(2), object(7)\n",
      "memory usage: 5.1+ MB\n"
     ]
    }
   ],
   "source": [
    "print(\"Let's look again at the different data types in the DataFrame's info:\")\n",
    "print()\n",
    "df.info()"
   ]
  },
  {
   "cell_type": "markdown",
   "metadata": {},
   "source": [
    "For the columns 'model_year', 'cylinders', 'odometer' and 'is_4wd' in the float64 data type it makes sense to convert them into the int64 data type. The odometer values are big enough to neglect effect by rounding. The other columns can't have have half numbers."
   ]
  },
  {
   "cell_type": "code",
   "execution_count": 29,
   "metadata": {},
   "outputs": [],
   "source": [
    "# all the float64 data typed columns will be transformed to int64 data typed columns; try and except to see if there are errors\n",
    "try:\n",
    "    df['cylinders'] = df['cylinders'].astype('int')\n",
    "except:\n",
    "    print(\"Couldn't transform the column 'cylinders' into int64 type.\")\n",
    "try:\n",
    "    df['is_4wd'] = df['is_4wd'].astype('int')\n",
    "except:\n",
    "    print(\"Couldn't transform the column 'is_4wd' into int64 type.\")\n",
    "try:\n",
    "    df['model_year'] = df['model_year'].astype('int')\n",
    "except:\n",
    "    print(\"Couldn't transform the column 'model_year' into int64 type.\")   \n",
    "try:\n",
    "    df['odometer'] = df['odometer'].astype('int')\n",
    "except:\n",
    "    print(\"Couldn't transform the column 'odometer' into int64 type.\") "
   ]
  },
  {
   "cell_type": "code",
   "execution_count": 30,
   "metadata": {},
   "outputs": [
    {
     "name": "stdout",
     "output_type": "stream",
     "text": [
      "Let's check our conversions in the DataFrame's info:\n",
      "\n",
      "<class 'pandas.core.frame.DataFrame'>\n",
      "RangeIndex: 51525 entries, 0 to 51524\n",
      "Data columns (total 13 columns):\n",
      "price           51525 non-null int64\n",
      "model_year      51525 non-null int32\n",
      "model           51525 non-null object\n",
      "condition       51525 non-null object\n",
      "cylinders       51525 non-null int32\n",
      "fuel            51525 non-null object\n",
      "odometer        51525 non-null int32\n",
      "transmission    51525 non-null object\n",
      "type            51525 non-null object\n",
      "paint_color     51525 non-null object\n",
      "is_4wd          51525 non-null int32\n",
      "date_posted     51525 non-null object\n",
      "days_listed     51525 non-null int64\n",
      "dtypes: int32(4), int64(2), object(7)\n",
      "memory usage: 4.3+ MB\n"
     ]
    }
   ],
   "source": [
    "print(\"Let's check our conversions in the DataFrame's info:\")\n",
    "print()\n",
    "df.info()"
   ]
  },
  {
   "cell_type": "markdown",
   "metadata": {},
   "source": [
    "###### Find Duplicates"
   ]
  },
  {
   "cell_type": "code",
   "execution_count": 31,
   "metadata": {
    "scrolled": false
   },
   "outputs": [
    {
     "name": "stdout",
     "output_type": "stream",
     "text": [
      "There are 0 duplicates in our DataFrame.\n"
     ]
    }
   ],
   "source": [
    "# It was necessary to correct the duplicated models in the section 'Identify and fill in the missing values'\n",
    "# as I used the models for filling in the missing values.\n",
    "\n",
    "print(\"There are {} duplicates in our DataFrame.\".format(df.duplicated().sum()))"
   ]
  },
  {
   "cell_type": "markdown",
   "metadata": {},
   "source": [
    "#### Conclusion"
   ]
  },
  {
   "cell_type": "markdown",
   "metadata": {},
   "source": [
    "We had a table with no missing values. From the beginning it already had int64 columns. For the other columns in float64 data types, it didn't make sense to allow half numbers ('model_year', 'cylinders' and 'is_4wd') or the rounding effects are negligible ('odometer'). As we had no missing values, the most easy method to transform whole columns is the astype() method. With the use of try and except cases I could see if there is an error. <br>\n",
    "After converting the data types in the columns and correcting duplicated models, we found 0 duplicates in our DataFrame."
   ]
  },
  {
   "cell_type": "markdown",
   "metadata": {},
   "source": [
    "<a id=\"2.3\"></a>"
   ]
  },
  {
   "cell_type": "markdown",
   "metadata": {},
   "source": [
    "### 2.3) Further calculations in the table"
   ]
  },
  {
   "cell_type": "code",
   "execution_count": 32,
   "metadata": {},
   "outputs": [
    {
     "name": "stdout",
     "output_type": "stream",
     "text": [
      "The column 'date_posted' gets converted into the datetime64 data type.\n"
     ]
    }
   ],
   "source": [
    "print(\"The column 'date_posted' gets converted into the datetime64 data type.\")\n",
    "df['date_posted'] = pd.to_datetime(df['date_posted'], format = '%Y-%m-%d')"
   ]
  },
  {
   "cell_type": "code",
   "execution_count": 33,
   "metadata": {},
   "outputs": [
    {
     "name": "stdout",
     "output_type": "stream",
     "text": [
      "The column 'weekday_posted' gives us the day in the week of the vehicle when the ad was posted.\n"
     ]
    }
   ],
   "source": [
    "print(\"The column 'weekday_posted' gives us the day in the week of the vehicle when the ad was posted.\")\n",
    "df['weekday_posted'] = df['date_posted'].dt.weekday"
   ]
  },
  {
   "cell_type": "code",
   "execution_count": 34,
   "metadata": {},
   "outputs": [
    {
     "name": "stdout",
     "output_type": "stream",
     "text": [
      "The column 'year_posted' gives us the year of the vehicle when the ad was posted.\n"
     ]
    }
   ],
   "source": [
    "print(\"The column 'year_posted' gives us the year of the vehicle when the ad was posted.\")\n",
    "df['year_posted'] = pd.DatetimeIndex(df['date_posted']).year"
   ]
  },
  {
   "cell_type": "code",
   "execution_count": 35,
   "metadata": {},
   "outputs": [
    {
     "name": "stdout",
     "output_type": "stream",
     "text": [
      "The column 'month_posted' gives us the month of the year of the vehicle when the ad was posted.\n"
     ]
    }
   ],
   "source": [
    "print(\"The column 'month_posted' gives us the month of the year of the vehicle when the ad was posted.\")\n",
    "df['month_posted'] = pd.DatetimeIndex(df['date_posted']).month"
   ]
  },
  {
   "cell_type": "code",
   "execution_count": 36,
   "metadata": {},
   "outputs": [
    {
     "name": "stdout",
     "output_type": "stream",
     "text": [
      "The column 'age_when_posted' gives us the age of the vehicle when the ad was posted.\n"
     ]
    }
   ],
   "source": [
    "print(\"The column 'age_when_posted' gives us the age of the vehicle when the ad was posted.\")\n",
    "df['age_when_posted'] = abs(df['year_posted'] - df['model_year'])"
   ]
  },
  {
   "cell_type": "code",
   "execution_count": 37,
   "metadata": {},
   "outputs": [
    {
     "name": "stdout",
     "output_type": "stream",
     "text": [
      "I change the ages that are zero to one as we need the mileage per year and we can't divide by zero.\n"
     ]
    }
   ],
   "source": [
    "print(\"I change the ages that are zero to one as we need the mileage per year and we can't divide by zero.\")\n",
    "df['age_when_posted'] = df['age_when_posted'].replace(0, 1)"
   ]
  },
  {
   "cell_type": "code",
   "execution_count": 38,
   "metadata": {},
   "outputs": [
    {
     "name": "stdout",
     "output_type": "stream",
     "text": [
      "The column 'mileage_per_year' gives us the average mileage of the vehicle per year.\n"
     ]
    }
   ],
   "source": [
    "print(\"The column 'mileage_per_year' gives us the average mileage of the vehicle per year.\")\n",
    "df['mileage_per_year'] = df['odometer'] / df['age_when_posted']"
   ]
  },
  {
   "cell_type": "code",
   "execution_count": 39,
   "metadata": {},
   "outputs": [
    {
     "name": "stdout",
     "output_type": "stream",
     "text": [
      "Here it's also better to transform the column 'mileage_per_year' into int64 data type.\n"
     ]
    }
   ],
   "source": [
    "print(\"Here it's also better to transform the column 'mileage_per_year' into int64 data type.\")\n",
    "try:\n",
    "    df['mileage_per_year'] = df['mileage_per_year'].astype('int')\n",
    "except:\n",
    "    print(\"Couldn't transform the column 'mileage_per_year' into int64 type.\")   "
   ]
  },
  {
   "cell_type": "code",
   "execution_count": 40,
   "metadata": {},
   "outputs": [
    {
     "name": "stdout",
     "output_type": "stream",
     "text": [
      "We replace the strings in the column 'condition' with the following integers:\n",
      "new = 5, like new = 4, excellent = 3, good = 2, fair = 1, salvage = 0\n"
     ]
    }
   ],
   "source": [
    "print(\"We replace the strings in the column 'condition' with the following integers:\")\n",
    "print(\"new = 5, like new = 4, excellent = 3, good = 2, fair = 1, salvage = 0\")\n",
    "df['condition'] = df['condition'].replace({'new' : 5, 'like new' : 4, 'excellent' : 3, 'good' : 2, 'fair' : 1, 'salvage' : 0})"
   ]
  },
  {
   "cell_type": "code",
   "execution_count": 41,
   "metadata": {
    "scrolled": false
   },
   "outputs": [
    {
     "data": {
      "text/html": [
       "<div>\n",
       "<style scoped>\n",
       "    .dataframe tbody tr th:only-of-type {\n",
       "        vertical-align: middle;\n",
       "    }\n",
       "\n",
       "    .dataframe tbody tr th {\n",
       "        vertical-align: top;\n",
       "    }\n",
       "\n",
       "    .dataframe thead th {\n",
       "        text-align: right;\n",
       "    }\n",
       "</style>\n",
       "<table border=\"1\" class=\"dataframe\">\n",
       "  <thead>\n",
       "    <tr style=\"text-align: right;\">\n",
       "      <th></th>\n",
       "      <th>price</th>\n",
       "      <th>model_year</th>\n",
       "      <th>model</th>\n",
       "      <th>condition</th>\n",
       "      <th>cylinders</th>\n",
       "      <th>fuel</th>\n",
       "      <th>odometer</th>\n",
       "      <th>transmission</th>\n",
       "      <th>type</th>\n",
       "      <th>paint_color</th>\n",
       "      <th>is_4wd</th>\n",
       "      <th>date_posted</th>\n",
       "      <th>days_listed</th>\n",
       "      <th>weekday_posted</th>\n",
       "      <th>year_posted</th>\n",
       "      <th>month_posted</th>\n",
       "      <th>age_when_posted</th>\n",
       "      <th>mileage_per_year</th>\n",
       "    </tr>\n",
       "  </thead>\n",
       "  <tbody>\n",
       "    <tr>\n",
       "      <td>0</td>\n",
       "      <td>9400</td>\n",
       "      <td>2011</td>\n",
       "      <td>bmw x5</td>\n",
       "      <td>2</td>\n",
       "      <td>6</td>\n",
       "      <td>gas</td>\n",
       "      <td>145000</td>\n",
       "      <td>automatic</td>\n",
       "      <td>SUV</td>\n",
       "      <td>black</td>\n",
       "      <td>1</td>\n",
       "      <td>2018-06-23</td>\n",
       "      <td>19</td>\n",
       "      <td>5</td>\n",
       "      <td>2018</td>\n",
       "      <td>6</td>\n",
       "      <td>7</td>\n",
       "      <td>20714</td>\n",
       "    </tr>\n",
       "    <tr>\n",
       "      <td>1</td>\n",
       "      <td>25500</td>\n",
       "      <td>2011</td>\n",
       "      <td>ford f-150</td>\n",
       "      <td>2</td>\n",
       "      <td>6</td>\n",
       "      <td>gas</td>\n",
       "      <td>88705</td>\n",
       "      <td>automatic</td>\n",
       "      <td>pickup</td>\n",
       "      <td>white</td>\n",
       "      <td>1</td>\n",
       "      <td>2018-10-19</td>\n",
       "      <td>50</td>\n",
       "      <td>4</td>\n",
       "      <td>2018</td>\n",
       "      <td>10</td>\n",
       "      <td>7</td>\n",
       "      <td>12672</td>\n",
       "    </tr>\n",
       "    <tr>\n",
       "      <td>2</td>\n",
       "      <td>5500</td>\n",
       "      <td>2013</td>\n",
       "      <td>hyundai sonata</td>\n",
       "      <td>4</td>\n",
       "      <td>4</td>\n",
       "      <td>gas</td>\n",
       "      <td>110000</td>\n",
       "      <td>automatic</td>\n",
       "      <td>sedan</td>\n",
       "      <td>red</td>\n",
       "      <td>0</td>\n",
       "      <td>2019-02-07</td>\n",
       "      <td>79</td>\n",
       "      <td>3</td>\n",
       "      <td>2019</td>\n",
       "      <td>2</td>\n",
       "      <td>6</td>\n",
       "      <td>18333</td>\n",
       "    </tr>\n",
       "    <tr>\n",
       "      <td>3</td>\n",
       "      <td>1500</td>\n",
       "      <td>2003</td>\n",
       "      <td>ford f-150</td>\n",
       "      <td>1</td>\n",
       "      <td>8</td>\n",
       "      <td>gas</td>\n",
       "      <td>160000</td>\n",
       "      <td>automatic</td>\n",
       "      <td>pickup</td>\n",
       "      <td>white</td>\n",
       "      <td>0</td>\n",
       "      <td>2019-03-22</td>\n",
       "      <td>9</td>\n",
       "      <td>4</td>\n",
       "      <td>2019</td>\n",
       "      <td>3</td>\n",
       "      <td>16</td>\n",
       "      <td>10000</td>\n",
       "    </tr>\n",
       "    <tr>\n",
       "      <td>4</td>\n",
       "      <td>14900</td>\n",
       "      <td>2017</td>\n",
       "      <td>chrysler 200</td>\n",
       "      <td>3</td>\n",
       "      <td>4</td>\n",
       "      <td>gas</td>\n",
       "      <td>80903</td>\n",
       "      <td>automatic</td>\n",
       "      <td>sedan</td>\n",
       "      <td>black</td>\n",
       "      <td>0</td>\n",
       "      <td>2019-04-02</td>\n",
       "      <td>28</td>\n",
       "      <td>1</td>\n",
       "      <td>2019</td>\n",
       "      <td>4</td>\n",
       "      <td>2</td>\n",
       "      <td>40451</td>\n",
       "    </tr>\n",
       "  </tbody>\n",
       "</table>\n",
       "</div>"
      ],
      "text/plain": [
       "   price  model_year           model  condition  cylinders fuel  odometer  \\\n",
       "0   9400        2011          bmw x5          2          6  gas    145000   \n",
       "1  25500        2011      ford f-150          2          6  gas     88705   \n",
       "2   5500        2013  hyundai sonata          4          4  gas    110000   \n",
       "3   1500        2003      ford f-150          1          8  gas    160000   \n",
       "4  14900        2017    chrysler 200          3          4  gas     80903   \n",
       "\n",
       "  transmission    type paint_color  is_4wd date_posted  days_listed  \\\n",
       "0    automatic     SUV       black       1  2018-06-23           19   \n",
       "1    automatic  pickup       white       1  2018-10-19           50   \n",
       "2    automatic   sedan         red       0  2019-02-07           79   \n",
       "3    automatic  pickup       white       0  2019-03-22            9   \n",
       "4    automatic   sedan       black       0  2019-04-02           28   \n",
       "\n",
       "   weekday_posted  year_posted  month_posted  age_when_posted  \\\n",
       "0               5         2018             6                7   \n",
       "1               4         2018            10                7   \n",
       "2               3         2019             2                6   \n",
       "3               4         2019             3               16   \n",
       "4               1         2019             4                2   \n",
       "\n",
       "   mileage_per_year  \n",
       "0             20714  \n",
       "1             12672  \n",
       "2             18333  \n",
       "3             10000  \n",
       "4             40451  "
      ]
     },
     "execution_count": 41,
     "metadata": {},
     "output_type": "execute_result"
    }
   ],
   "source": [
    "# Let's look at the added columns in the DataFrame's head:\n",
    "\n",
    "df.head()"
   ]
  },
  {
   "cell_type": "markdown",
   "metadata": {},
   "source": [
    "#### Conclusion"
   ]
  },
  {
   "cell_type": "markdown",
   "metadata": {},
   "source": [
    "The column 'date_posted' had to be transformed into the datetime64 type since it's then much more easy to get the demanded columns by using the DatetimeIndex() method. For creating the column 'mileage_per_year', I had to divide the columns 'odometer' and 'age_when_posted', where the second column can't have 0 as age since dividing by zero isn't possible. So, the age 0 is replaced with the age 1. It makes sense to transform the condition objects into integers since the condition of a vehicle has a fluent transition from 'new' to 'salvage'. Later in the analysis, we can then treat the values in the condition column as numbers and not as objects."
   ]
  },
  {
   "cell_type": "markdown",
   "metadata": {},
   "source": [
    "<a id=\"3\"></a>"
   ]
  },
  {
   "cell_type": "markdown",
   "metadata": {},
   "source": [
    "## 3) Exploratory data analysis"
   ]
  },
  {
   "cell_type": "markdown",
   "metadata": {},
   "source": [
    "<a id=\"3.1\"></a>"
   ]
  },
  {
   "cell_type": "markdown",
   "metadata": {},
   "source": [
    "### 3.1) Price, vehicle's age, mileage, number of cylinders and condition"
   ]
  },
  {
   "cell_type": "markdown",
   "metadata": {},
   "source": [
    "Plot histograms for each of these parameters: Price, vehicle's age when the ad was placed, mileage, number of cylinders and condition. Study how outliers affect the form and readability of the histograms.\n",
    "Determine the upper limits of outliers, remove the outliers and store them in a separate DataFrame, and continue your work with the filtered data."
   ]
  },
  {
   "cell_type": "markdown",
   "metadata": {},
   "source": [
    "###### 1) Column 'price'"
   ]
  },
  {
   "cell_type": "code",
   "execution_count": 42,
   "metadata": {},
   "outputs": [
    {
     "name": "stdout",
     "output_type": "stream",
     "text": [
      "Lowest value for 'price' in DataFrame: 1\n",
      "Highest value for 'price' in DataFrame: 375000\n"
     ]
    }
   ],
   "source": [
    "print(\"Lowest value for 'price' in DataFrame:\", df['price'].min())\n",
    "print(\"Highest value for 'price' in DataFrame:\", df['price'].max())"
   ]
  },
  {
   "cell_type": "code",
   "execution_count": 43,
   "metadata": {},
   "outputs": [
    {
     "name": "stdout",
     "output_type": "stream",
     "text": [
      "Histogram 1:\n"
     ]
    },
    {
     "data": {
      "image/png": "[encoded data removed]",
      "text/plain": [
       "<Figure size 432x288 with 1 Axes>"
      ]
     },
     "metadata": {
      "needs_background": "light"
     },
     "output_type": "display_data"
    }
   ],
   "source": [
    "print(\"Histogram 1:\")\n",
    "df.hist('price', bins = 100)\n",
    "plt.title('Price histogram')\n",
    "plt.xlabel('price')\n",
    "plt.ylabel('vehicles')\n",
    "plt.show()"
   ]
  },
  {
   "cell_type": "code",
   "execution_count": 44,
   "metadata": {},
   "outputs": [
    {
     "name": "stdout",
     "output_type": "stream",
     "text": [
      "Boxplot 1:\n"
     ]
    },
    {
     "data": {
      "image/png": "[encoded data removed]",
      "text/plain": [
       "<Figure size 432x288 with 1 Axes>"
      ]
     },
     "metadata": {
      "needs_background": "light"
     },
     "output_type": "display_data"
    },
    {
     "name": "stdout",
     "output_type": "stream",
     "text": [
      "Value where the outliers begin regarding the boxplot: 34598 (orange line in plot)\n"
     ]
    }
   ],
   "source": [
    "print(\"Boxplot 1:\")\n",
    "Q1 = df['price'].quantile(0.25)\n",
    "Q3 = df['price'].quantile(0.75)\n",
    "plt.ylim(0, 40000)\n",
    "df.boxplot(column='price')\n",
    "plt.hlines(y=[Q1, Q3], xmin=0.9, xmax=1.1, color='red')\n",
    "plt.hlines(y=[Q1-1.5*(Q3-Q1), Q3+1.5*(Q3-Q1)], xmin=0.9, xmax=1.1, color='orange')\n",
    "plt.title('Price boxplot')\n",
    "plt.ylabel('vehicles')\n",
    "plt.show()\n",
    "print(\"Value where the outliers begin regarding the boxplot: {:.0f} (orange line in plot)\".format(Q3+1.5*(Q3-Q1)))"
   ]
  },
  {
   "cell_type": "code",
   "execution_count": 45,
   "metadata": {},
   "outputs": [
    {
     "name": "stdout",
     "output_type": "stream",
     "text": [
      "Histogram 2 in the range between 20.000 and 50.000:\n"
     ]
    },
    {
     "data": {
      "image/png": "[encoded data removed]",
      "text/plain": [
       "<Figure size 432x288 with 1 Axes>"
      ]
     },
     "metadata": {
      "needs_background": "light"
     },
     "output_type": "display_data"
    }
   ],
   "source": [
    "print(\"Histogram 2 in the range between 20.000 and 50.000:\")\n",
    "df.hist('price', bins = 20, range = (20000, 60000))\n",
    "plt.title('Price histogram in range (20000, 60000)')\n",
    "plt.xlabel('price')\n",
    "plt.ylabel('vehicles')\n",
    "plt.show()"
   ]
  },
  {
   "cell_type": "markdown",
   "metadata": {},
   "source": [
    "Histogram 1 showing the whole distribution of the prices indicates a tight curve that starts with a high\n",
    "amount of vehicles around 0, reaches fastly its highest point at approx. 10.000 and flattens out in a big range of\n",
    "prices until 375000 Dollars. <br> <br>\n",
    "Histogram 2 showing the range between 20.000 and 50.000 indicates a big decrease at 30.000. There's another\n",
    "decrease at 35.000 which is approximately the value for outliers out from the boxplot 1 for the column 'price'. As we\n",
    "have another decrease at 40.000, we set the value for outliers at 40.000. <br> <br>\n",
    "This means we sort out all vehicles that have prices more than 40.000."
   ]
  },
  {
   "cell_type": "markdown",
   "metadata": {},
   "source": [
    "###### 2) Column 'age_when_posted'"
   ]
  },
  {
   "cell_type": "code",
   "execution_count": 46,
   "metadata": {},
   "outputs": [
    {
     "name": "stdout",
     "output_type": "stream",
     "text": [
      "Minimum value in the column 'age_when_posted': 1\n",
      "Maximum value in the column 'age_when_posted': 110\n"
     ]
    }
   ],
   "source": [
    "print(\"Minimum value in the column 'age_when_posted':\", df['age_when_posted'].min())\n",
    "print(\"Maximum value in the column 'age_when_posted':\", df['age_when_posted'].max())"
   ]
  },
  {
   "cell_type": "code",
   "execution_count": 47,
   "metadata": {},
   "outputs": [
    {
     "name": "stdout",
     "output_type": "stream",
     "text": [
      "Histogram 3:\n"
     ]
    },
    {
     "data": {
      "image/png": "[encoded data removed]",
      "text/plain": [
       "<Figure size 432x288 with 1 Axes>"
      ]
     },
     "metadata": {
      "needs_background": "light"
     },
     "output_type": "display_data"
    }
   ],
   "source": [
    "print(\"Histogram 3:\")\n",
    "df.hist('age_when_posted', bins = 55)\n",
    "plt.title('Vehicle age histogram')\n",
    "plt.xlabel('age when posted')\n",
    "plt.ylabel('vehicles')\n",
    "plt.show()"
   ]
  },
  {
   "cell_type": "code",
   "execution_count": 48,
   "metadata": {},
   "outputs": [
    {
     "name": "stdout",
     "output_type": "stream",
     "text": [
      "Boxplot 2:\n"
     ]
    },
    {
     "data": {
      "image/png": "[encoded data removed]",
      "text/plain": [
       "<Figure size 432x288 with 1 Axes>"
      ]
     },
     "metadata": {
      "needs_background": "light"
     },
     "output_type": "display_data"
    },
    {
     "name": "stdout",
     "output_type": "stream",
     "text": [
      "Value where the outliers begin regarding the boxplot: 24 (orange line in plot)\n"
     ]
    }
   ],
   "source": [
    "print(\"Boxplot 2:\")\n",
    "Q1 = df['age_when_posted'].quantile(0.25)\n",
    "Q3 = df['age_when_posted'].quantile(0.75)\n",
    "plt.ylim(0, 30)\n",
    "df.boxplot(column='age_when_posted')\n",
    "plt.hlines(y=[Q1, Q3], xmin=0.9, xmax=1.1, color='red')\n",
    "plt.hlines(y=[Q1-1.5*(Q3-Q1), Q3+1.5*(Q3-Q1)], xmin=0.9, xmax=1.1, color='orange')\n",
    "plt.title('Vehicle age boxplot')\n",
    "plt.ylabel('vehicles')\n",
    "plt.show()\n",
    "print(\"Value where the outliers begin regarding the boxplot: {:.0f} (orange line in plot)\".format(Q3+1.5*(Q3-Q1)))"
   ]
  },
  {
   "cell_type": "code",
   "execution_count": 49,
   "metadata": {},
   "outputs": [
    {
     "name": "stdout",
     "output_type": "stream",
     "text": [
      "Histogram 4 in the range between 20 and 40:\n"
     ]
    },
    {
     "data": {
      "image/png": "[encoded data removed]",
      "text/plain": [
       "<Figure size 432x288 with 1 Axes>"
      ]
     },
     "metadata": {
      "needs_background": "light"
     },
     "output_type": "display_data"
    }
   ],
   "source": [
    "print(\"Histogram 4 in the range between 20 and 40:\")\n",
    "df.hist('age_when_posted', bins = 20, range = (20, 40))\n",
    "plt.title('Vehicle age histogram in range (20, 40)')\n",
    "plt.xlabel('age when posted')\n",
    "plt.ylabel('vehicles')\n",
    "plt.show()"
   ]
  },
  {
   "cell_type": "markdown",
   "metadata": {},
   "source": [
    "Histogram 3 showing the whole distribution of the column 'age_when_posted' starts with a very high value for vehicles\n",
    "aged 1 or 2 years. Fastly it reaches its maximum at ca. 7 years and it also fastly decreases until ca. 30 years.\n",
    "From there on, a big range until 110 years filled with outliers begins. <br> <br>\n",
    "Histogram 4 showing the distribution between 20 and 40 years indicates a decreasing trend until 28 years. This value\n",
    "is not far away from the value for outliers regarding boxplot 2 (24 years). Consequently, all vehicles older than 28\n",
    "years will be filtered out from the DataFrame."
   ]
  },
  {
   "cell_type": "markdown",
   "metadata": {},
   "source": [
    "###### 3) Column 'mileage_per_year'"
   ]
  },
  {
   "cell_type": "code",
   "execution_count": 50,
   "metadata": {},
   "outputs": [
    {
     "name": "stdout",
     "output_type": "stream",
     "text": [
      "Minimum value in the column 'mileage_per_year': 0\n",
      "Maximum value in the column 'mileage_per_year': 373200\n"
     ]
    }
   ],
   "source": [
    "print(\"Minimum value in the column 'mileage_per_year':\", df['mileage_per_year'].min())\n",
    "print(\"Maximum value in the column 'mileage_per_year':\", df['mileage_per_year'].max())"
   ]
  },
  {
   "cell_type": "code",
   "execution_count": 51,
   "metadata": {},
   "outputs": [
    {
     "name": "stdout",
     "output_type": "stream",
     "text": [
      "Histogram 5:\n"
     ]
    },
    {
     "data": {
      "image/png": "[encoded data removed]",
      "text/plain": [
       "<Figure size 432x288 with 1 Axes>"
      ]
     },
     "metadata": {
      "needs_background": "light"
     },
     "output_type": "display_data"
    }
   ],
   "source": [
    "print(\"Histogram 5:\")\n",
    "df.hist('mileage_per_year', bins = 120)\n",
    "plt.title('Mileage per year histogram')\n",
    "plt.xlabel('mileage per year')\n",
    "plt.ylabel('vehicles')\n",
    "plt.show()"
   ]
  },
  {
   "cell_type": "code",
   "execution_count": 52,
   "metadata": {},
   "outputs": [
    {
     "name": "stdout",
     "output_type": "stream",
     "text": [
      "Boxplot 3:\n"
     ]
    },
    {
     "data": {
      "image/png": "[encoded data removed]",
      "text/plain": [
       "<Figure size 432x288 with 1 Axes>"
      ]
     },
     "metadata": {
      "needs_background": "light"
     },
     "output_type": "display_data"
    },
    {
     "name": "stdout",
     "output_type": "stream",
     "text": [
      "Value where the outliers begin regarding the boxplot: 37459 (orange line in plot)\n"
     ]
    }
   ],
   "source": [
    "print(\"Boxplot 3:\")\n",
    "Q1 = df['mileage_per_year'].quantile(0.25)\n",
    "Q3 = df['mileage_per_year'].quantile(0.75)\n",
    "plt.ylim(0, 40000)\n",
    "df.boxplot(column='mileage_per_year')\n",
    "plt.hlines(y=[Q1, Q3], xmin=0.9, xmax=1.1, color='red')\n",
    "plt.hlines(y=[Q1-1.5*(Q3-Q1), Q3+1.5*(Q3-Q1)], xmin=0.9, xmax=1.1, color='orange')\n",
    "plt.title('Mileage per year boxplot')\n",
    "plt.ylabel('vehicles')\n",
    "plt.show()\n",
    "print(\"Value where the outliers begin regarding the boxplot: {:.0f} (orange line in plot)\".format(Q3+1.5*(Q3-Q1)))"
   ]
  },
  {
   "cell_type": "code",
   "execution_count": 53,
   "metadata": {},
   "outputs": [
    {
     "name": "stdout",
     "output_type": "stream",
     "text": [
      "Histogram 6 in the range between 30.000 and 60.000:\n"
     ]
    },
    {
     "data": {
      "image/png": "[encoded data removed]",
      "text/plain": [
       "<Figure size 432x288 with 1 Axes>"
      ]
     },
     "metadata": {
      "needs_background": "light"
     },
     "output_type": "display_data"
    }
   ],
   "source": [
    "print(\"Histogram 6 in the range between 30.000 and 60.000:\")\n",
    "df.hist('mileage_per_year', bins = 15, range = (30000, 60000))\n",
    "plt.title('Mileage histogram in range (30000, 60000)')\n",
    "plt.xlabel('mileage per year')\n",
    "plt.ylabel('vehicles')\n",
    "plt.show()"
   ]
  },
  {
   "cell_type": "markdown",
   "metadata": {},
   "source": [
    "Histogram 5 indicates a curve that starts with a value of 2000 right at 0 mileages per year and increases rapidly\n",
    "until the curve reaches its maximum at ca. 15.000 miles per year. After that, there's a fast decrease that flattens\n",
    "out at ca. 70.000 miles per year. The range reaches 373.200 miles per year. <br> <br>\n",
    "Histogram 6 shows a decreasing trend in the range between 30.000 and 55.000 miles per year. At ca. 36.000 miles per\n",
    "year, there's a fast decrease followed by a slow decrease. As the value for outliers is 37.459 regarding boxplot 3\n",
    "I will use that value. So, all vehicles with an value for mileage per year higher than 37.459 will be sorted out."
   ]
  },
  {
   "cell_type": "markdown",
   "metadata": {},
   "source": [
    "###### 4) Column 'condition'"
   ]
  },
  {
   "cell_type": "code",
   "execution_count": 54,
   "metadata": {},
   "outputs": [
    {
     "name": "stdout",
     "output_type": "stream",
     "text": [
      "Bar chart 7 of the column 'condition:'\n"
     ]
    },
    {
     "data": {
      "image/png": "[encoded data removed]",
      "text/plain": [
       "<Figure size 432x288 with 1 Axes>"
      ]
     },
     "metadata": {
      "needs_background": "light"
     },
     "output_type": "display_data"
    }
   ],
   "source": [
    "print(\"Bar chart 7 of the column 'condition:'\")\n",
    "df['condition'].value_counts().plot(kind='bar')\n",
    "plt.title('Condition bar chart')\n",
    "plt.xlabel('condition')\n",
    "plt.ylabel('vehicles')\n",
    "plt.show()"
   ]
  },
  {
   "cell_type": "markdown",
   "metadata": {},
   "source": [
    "The two conditions most common are 'excellent' (= 3) and 'good' (= 2)."
   ]
  },
  {
   "cell_type": "code",
   "execution_count": 55,
   "metadata": {},
   "outputs": [
    {
     "name": "stdout",
     "output_type": "stream",
     "text": [
      "Histogram 8 of the column 'odometer' for all vehicles with the condition 'new' (= 5):\n"
     ]
    },
    {
     "data": {
      "image/png": "[encoded data removed]",
      "text/plain": [
       "<Figure size 432x288 with 1 Axes>"
      ]
     },
     "metadata": {
      "needs_background": "light"
     },
     "output_type": "display_data"
    }
   ],
   "source": [
    "print(\"Histogram 8 of the column 'odometer' for all vehicles with the condition 'new' (= 5):\")\n",
    "df_new = df.query('condition == 5')\n",
    "df_new.hist('odometer', bins = 30)\n",
    "plt.title('Odometer histogram for vehicles in new condition')\n",
    "plt.xlabel('odometer')\n",
    "plt.ylabel('vehicles')\n",
    "plt.show()"
   ]
  },
  {
   "cell_type": "markdown",
   "metadata": {},
   "source": [
    "Usually, new vehicles don't have high odometer values. This can be obsverved in Histogram 7 where the highest amount\n",
    "of vehicles have less than 10.000 miles. I sort out all vehicles in new condition that have more than 10.000 miles."
   ]
  },
  {
   "cell_type": "code",
   "execution_count": 56,
   "metadata": {},
   "outputs": [
    {
     "name": "stdout",
     "output_type": "stream",
     "text": [
      "Histogram 9 of the column 'odometer' for all vehicles that have not the condition 'new':\n"
     ]
    },
    {
     "data": {
      "image/png": "[encoded data removed]",
      "text/plain": [
       "<Figure size 432x288 with 1 Axes>"
      ]
     },
     "metadata": {
      "needs_background": "light"
     },
     "output_type": "display_data"
    }
   ],
   "source": [
    "print(\"Histogram 9 of the column 'odometer' for all vehicles that have not the condition 'new':\")\n",
    "df_not_new = df.query('condition != 5')\n",
    "df_not_new.hist('odometer', bins = 30)\n",
    "plt.title('Odometer histogram for vehicles in not new condition')\n",
    "plt.xlabel('odometer')\n",
    "plt.ylabel('vehicles')\n",
    "plt.show()"
   ]
  },
  {
   "cell_type": "code",
   "execution_count": 57,
   "metadata": {},
   "outputs": [
    {
     "name": "stdout",
     "output_type": "stream",
     "text": [
      "Boxplot 4:\n"
     ]
    },
    {
     "data": {
      "image/png": "[encoded data removed]",
      "text/plain": [
       "<Figure size 432x288 with 1 Axes>"
      ]
     },
     "metadata": {
      "needs_background": "light"
     },
     "output_type": "display_data"
    },
    {
     "name": "stdout",
     "output_type": "stream",
     "text": [
      "Value where the outliers begin regarding the boxplot: 277000 (orange line in plot)\n"
     ]
    }
   ],
   "source": [
    "print(\"Boxplot 4:\")\n",
    "Q1 = df_not_new['odometer'].quantile(0.25)\n",
    "Q3 = df_not_new['odometer'].quantile(0.75)\n",
    "plt.ylim(0, 300000)\n",
    "df_not_new.boxplot(column='odometer')\n",
    "plt.hlines(y=[Q1, Q3], xmin=0.9, xmax=1.1, color='red')\n",
    "plt.hlines(y=[Q1-1.5*(Q3-Q1), Q3+1.5*(Q3-Q1)], xmin=0.9, xmax=1.1, color='orange')\n",
    "plt.title('Odometer boxplot of vehicles in not new condition')\n",
    "plt.ylabel('vehicles')\n",
    "plt.show()\n",
    "print(\"Value where the outliers begin regarding the boxplot: {:.0f} (orange line in plot)\".format(Q3+1.5*(Q3-Q1)))"
   ]
  },
  {
   "cell_type": "markdown",
   "metadata": {},
   "source": [
    "I use the highest value for outliers (277.000 miles) for sorting out vehicles with an odometer value higher than this."
   ]
  },
  {
   "cell_type": "markdown",
   "metadata": {},
   "source": [
    "###### 5) Column 'cylinders'"
   ]
  },
  {
   "cell_type": "code",
   "execution_count": 58,
   "metadata": {},
   "outputs": [
    {
     "name": "stdout",
     "output_type": "stream",
     "text": [
      "Bar chart for the column 'cylinders':\n"
     ]
    },
    {
     "data": {
      "image/png": "[encoded data removed]",
      "text/plain": [
       "<Figure size 432x288 with 1 Axes>"
      ]
     },
     "metadata": {
      "needs_background": "light"
     },
     "output_type": "display_data"
    },
    {
     "name": "stdout",
     "output_type": "stream",
     "text": [
      "There are vehicles with 3, 5, 10 and 12 cylinders. Their quotes are very low, but such vehicles are exisiting,\n",
      "so here are no hints for sorting out data.\n"
     ]
    }
   ],
   "source": [
    "print(\"Bar chart for the column 'cylinders':\")\n",
    "df['cylinders'].value_counts().plot(kind='bar')\n",
    "plt.title('Cylinders type bar chart')\n",
    "plt.xlabel('cylinders')\n",
    "plt.ylabel('vehicles')\n",
    "plt.show()\n",
    "print(\"There are vehicles with 3, 5, 10 and 12 cylinders. Their quotes are very low, but such vehicles are exisiting,\")\n",
    "print(\"so here are no hints for sorting out data.\")"
   ]
  },
  {
   "cell_type": "code",
   "execution_count": 59,
   "metadata": {
    "scrolled": false
   },
   "outputs": [],
   "source": [
    "# Here we execute all the determined conditions using the query() method:\n",
    "# df_rejected includes only the rows of df that are sorted out corresponding to the conditions\n",
    "# df_filtered includes only the rows of df that we want to include corresponding to the conditions\n",
    "df_rejected = df.query('price > 40000 or age_when_posted > 28 or mileage_per_year > 37459 or \\\n",
    "                        (condition == 5 and odometer > 10000) or (condition != 5 and odometer > 277000)')\n",
    "df_filtered = df.query('price <= 40000 and age_when_posted <= 28 and mileage_per_year <= 37459 and \\\n",
    "                      ((condition == 5 and odometer <= 10000) or (condition != 5 and odometer <= 277000))')"
   ]
  },
  {
   "cell_type": "markdown",
   "metadata": {},
   "source": [
    "#### Conclusion"
   ]
  },
  {
   "cell_type": "markdown",
   "metadata": {},
   "source": [
    "For the quantitative columns, the outliers expanded the x-axis bigly. After sorting out the outliers, one could see the indicated shapes of the histograms much better since the x-axis had a much smaller range. Here, I treated the column 'condition' as categorial since one can't assert that the conditions with small qoutes are outliers. The condition 'new' is special as its odometer values had abnormalities. A new vehicle shouldn't be driven too much, so here the outliers could be determined by a histogram of the 'odometer' values. The categorial variable 'cylinders' showed that the 4, 6 and 8 typed cylinders are much more common than the other cylinders types."
   ]
  },
  {
   "cell_type": "markdown",
   "metadata": {},
   "source": [
    "<a id=\"3.2\"></a>"
   ]
  },
  {
   "cell_type": "markdown",
   "metadata": {},
   "source": [
    "### 3.2) Histogram comparison: Before and after filtering"
   ]
  },
  {
   "cell_type": "markdown",
   "metadata": {},
   "source": [
    "Use the filtered data to plot new histograms. Compare them with the earlier histograms (the ones that included outliers). Draw conclusions for each histogram."
   ]
  },
  {
   "cell_type": "code",
   "execution_count": 60,
   "metadata": {},
   "outputs": [
    {
     "name": "stdout",
     "output_type": "stream",
     "text": [
      "##### Column 'price'\n",
      "\n",
      "\n",
      "Before filtering:\n"
     ]
    },
    {
     "data": {
      "image/png": "[encoded data removed]",
      "text/plain": [
       "<Figure size 432x288 with 1 Axes>"
      ]
     },
     "metadata": {
      "needs_background": "light"
     },
     "output_type": "display_data"
    },
    {
     "name": "stdout",
     "output_type": "stream",
     "text": [
      "After filtering:\n"
     ]
    },
    {
     "data": {
      "image/png": "[encoded data removed]",
      "text/plain": [
       "<Figure size 432x288 with 1 Axes>"
      ]
     },
     "metadata": {
      "needs_background": "light"
     },
     "output_type": "display_data"
    },
    {
     "name": "stdout",
     "output_type": "stream",
     "text": [
      "Conclusion:\n",
      "\n",
      "Since the range of the x-axis has been thinned very much after filtering the outliers one can see the decreasing\n",
      "trend much better. The filtered histogram indicates a right skewed distribution of prices with the maximum at 5000.\n"
     ]
    }
   ],
   "source": [
    "##### Column 'price'\n",
    "\n",
    "\n",
    "print(\"##### Column 'price'\")\n",
    "print()\n",
    "print()\n",
    "print(\"Before filtering:\")\n",
    "df.hist('price', bins = 20)\n",
    "plt.title('Price histogram before filtering')\n",
    "plt.xlabel('price')\n",
    "plt.ylabel('vehicles')\n",
    "plt.show()\n",
    "print(\"After filtering:\")\n",
    "df_filtered.hist('price', bins = 20)\n",
    "plt.title('Price histogram after filtering')\n",
    "plt.xlabel('price')\n",
    "plt.ylabel('vehicles')\n",
    "plt.show()\n",
    "print(\"Conclusion:\")\n",
    "print()\n",
    "print(\"Since the range of the x-axis has been thinned very much after filtering the outliers one can see the decreasing\")\n",
    "print(\"trend much better. The filtered histogram indicates a right skewed distribution of prices with the maximum at 5000.\")"
   ]
  },
  {
   "cell_type": "code",
   "execution_count": 61,
   "metadata": {},
   "outputs": [
    {
     "name": "stdout",
     "output_type": "stream",
     "text": [
      "##### Column 'age_when_posted'\n",
      "\n",
      "\n",
      "Before filtering:\n"
     ]
    },
    {
     "data": {
      "image/png": "[encoded data removed]",
      "text/plain": [
       "<Figure size 432x288 with 1 Axes>"
      ]
     },
     "metadata": {
      "needs_background": "light"
     },
     "output_type": "display_data"
    },
    {
     "name": "stdout",
     "output_type": "stream",
     "text": [
      "After filtering:\n"
     ]
    },
    {
     "data": {
      "image/png": "[encoded data removed]",
      "text/plain": [
       "<Figure size 432x288 with 1 Axes>"
      ]
     },
     "metadata": {
      "needs_background": "light"
     },
     "output_type": "display_data"
    },
    {
     "name": "stdout",
     "output_type": "stream",
     "text": [
      "Conclusion:\n",
      "\n",
      "Before filtering, the histogram indicated a decreasing trend right from the beginning. After filtering the outliers,\n",
      "one could see that the distribution reaches its maximum at 5 years.\n"
     ]
    }
   ],
   "source": [
    "##### Column 'age_when_posted'\n",
    "\n",
    "\n",
    "print(\"##### Column 'age_when_posted'\")\n",
    "print()\n",
    "print()\n",
    "print(\"Before filtering:\")\n",
    "df.hist('age_when_posted', bins = 20)\n",
    "plt.title('Vehicle age histogram before filtering')\n",
    "plt.xlabel('age when posted')\n",
    "plt.ylabel('vehicles')\n",
    "plt.show()\n",
    "print(\"After filtering:\")\n",
    "df_filtered.hist('age_when_posted', bins = 10)\n",
    "plt.title('Vehicle age histogram after filtering')\n",
    "plt.xlabel('age when posted')\n",
    "plt.ylabel('vehicles')\n",
    "plt.show()\n",
    "print(\"Conclusion:\")\n",
    "print()\n",
    "print(\"Before filtering, the histogram indicated a decreasing trend right from the beginning. After filtering the outliers,\")\n",
    "print(\"one could see that the distribution reaches its maximum at 5 years.\")"
   ]
  },
  {
   "cell_type": "code",
   "execution_count": 62,
   "metadata": {},
   "outputs": [
    {
     "name": "stdout",
     "output_type": "stream",
     "text": [
      "##### Column 'mileage_per_year'\n",
      "\n",
      "\n",
      "Before filtering:\n"
     ]
    },
    {
     "data": {
      "image/png": "[encoded data removed]",
      "text/plain": [
       "<Figure size 432x288 with 1 Axes>"
      ]
     },
     "metadata": {
      "needs_background": "light"
     },
     "output_type": "display_data"
    },
    {
     "name": "stdout",
     "output_type": "stream",
     "text": [
      "After filtering:\n"
     ]
    },
    {
     "data": {
      "image/png": "[encoded data removed]",
      "text/plain": [
       "<Figure size 432x288 with 1 Axes>"
      ]
     },
     "metadata": {
      "needs_background": "light"
     },
     "output_type": "display_data"
    },
    {
     "name": "stdout",
     "output_type": "stream",
     "text": [
      "Conclusion:\n",
      "\n",
      "The unfiltered histogram has a range in the x-axis that is 10 times bigger than the range of the filtered histogram.\n",
      "So, we can see a much more detailered distribution that is slightly right skewed and has its maximum at ca. 12000.\n",
      "Right at the beginning around 0, we have abnormally many vehicles; the reason for that might be that there are more\n",
      "vehicles that haven't been driven much yet and also might be older, so they have small values for 'mileage_per_year.\n"
     ]
    }
   ],
   "source": [
    "##### Column 'mileage_per_year'\n",
    "\n",
    "\n",
    "print(\"##### Column 'mileage_per_year'\")\n",
    "print()\n",
    "print()\n",
    "print(\"Before filtering:\")\n",
    "df.hist('mileage_per_year', bins = 40)\n",
    "plt.title('Mileage per year histogram before filtering')\n",
    "plt.xlabel('mileage per year')\n",
    "plt.ylabel('vehicles')\n",
    "plt.show()\n",
    "print(\"After filtering:\")\n",
    "df_filtered.hist('mileage_per_year', bins = 40)\n",
    "plt.title('Mileage per year histogram after filtering')\n",
    "plt.xlabel('mileage per year')\n",
    "plt.ylabel('vehicles')\n",
    "plt.show()\n",
    "print(\"Conclusion:\")\n",
    "print()\n",
    "print(\"The unfiltered histogram has a range in the x-axis that is 10 times bigger than the range of the filtered histogram.\")\n",
    "print(\"So, we can see a much more detailered distribution that is slightly right skewed and has its maximum at ca. 12000.\")\n",
    "print(\"Right at the beginning around 0, we have abnormally many vehicles; the reason for that might be that there are more\")\n",
    "print(\"vehicles that haven't been driven much yet and also might be older, so they have small values for 'mileage_per_year.\")"
   ]
  },
  {
   "cell_type": "code",
   "execution_count": 63,
   "metadata": {},
   "outputs": [
    {
     "name": "stdout",
     "output_type": "stream",
     "text": [
      "##### Column 'odometer'\n",
      "\n",
      "\n",
      "Before filtering:\n"
     ]
    },
    {
     "data": {
      "image/png": "[encoded data removed]",
      "text/plain": [
       "<Figure size 432x288 with 1 Axes>"
      ]
     },
     "metadata": {
      "needs_background": "light"
     },
     "output_type": "display_data"
    },
    {
     "name": "stdout",
     "output_type": "stream",
     "text": [
      "After filtering:\n"
     ]
    },
    {
     "data": {
      "image/png": "[encoded data removed]",
      "text/plain": [
       "<Figure size 432x288 with 1 Axes>"
      ]
     },
     "metadata": {
      "needs_background": "light"
     },
     "output_type": "display_data"
    },
    {
     "name": "stdout",
     "output_type": "stream",
     "text": [
      "Conclusion:\n",
      "\n",
      "Here, the filtering process indicated a more detailered distribution of the odometer values. Here it's special that\n",
      "right from the beginning, the distribution starts with a high value that has an increasing trend.\n"
     ]
    }
   ],
   "source": [
    "##### Column 'odometer'\n",
    "\n",
    "\n",
    "print(\"##### Column 'odometer'\")\n",
    "print()\n",
    "print()\n",
    "print(\"Before filtering:\")\n",
    "df.hist('odometer', bins = 25)\n",
    "plt.title('Odometer histogram before filtering')\n",
    "plt.xlabel('odometer')\n",
    "plt.ylabel('vehicles')\n",
    "plt.show()\n",
    "print(\"After filtering:\")\n",
    "df_filtered.hist('odometer', bins = 25)\n",
    "plt.title('Odometer histogram after filtering')\n",
    "plt.xlabel('odometer')\n",
    "plt.ylabel('vehicles')\n",
    "plt.show()\n",
    "print(\"Conclusion:\")\n",
    "print()\n",
    "print(\"Here, the filtering process indicated a more detailered distribution of the odometer values. Here it's special that\")\n",
    "print(\"right from the beginning, the distribution starts with a high value that has an increasing trend.\")"
   ]
  },
  {
   "cell_type": "markdown",
   "metadata": {},
   "source": [
    "#### Conclusion"
   ]
  },
  {
   "cell_type": "markdown",
   "metadata": {},
   "source": [
    "In general, the consequences of filtering outliers are multiple: <br>\n",
    "You can see a much more detailered distribution since the x-axis gets a smaller range after filtering.\n",
    "Hence you can observe abnormalities and skewness of the curves much better.\n",
    "You can also estimate important points much better, for example the maximum."
   ]
  },
  {
   "cell_type": "markdown",
   "metadata": {},
   "source": [
    "<a id=\"3.3\"></a>"
   ]
  },
  {
   "cell_type": "markdown",
   "metadata": {},
   "source": [
    "### 3.3) Study of the advertisements"
   ]
  },
  {
   "cell_type": "markdown",
   "metadata": {},
   "source": [
    "Study how many days advertisements were displayed (days_listed). Plot a histogram. Calculate the mean and median. Describe the typical lifetime of an ad. Determine when ads were removed quickly, and when they were listed for an abnormally long time."
   ]
  },
  {
   "cell_type": "code",
   "execution_count": 64,
   "metadata": {},
   "outputs": [
    {
     "name": "stdout",
     "output_type": "stream",
     "text": [
      "Histogram for the column 'days_listed':\n"
     ]
    },
    {
     "data": {
      "image/png": "[encoded data removed]",
      "text/plain": [
       "<Figure size 432x288 with 1 Axes>"
      ]
     },
     "metadata": {
      "needs_background": "light"
     },
     "output_type": "display_data"
    },
    {
     "name": "stdout",
     "output_type": "stream",
     "text": [
      "Description of the column 'days_listed':\n",
      "\n",
      "count    46784.000000\n",
      "mean        39.534264\n",
      "std         28.237753\n",
      "min          0.000000\n",
      "25%         19.000000\n",
      "50%         33.000000\n",
      "75%         53.000000\n",
      "max        271.000000\n",
      "Name: days_listed, dtype: float64\n"
     ]
    }
   ],
   "source": [
    "print(\"Histogram for the column 'days_listed':\")\n",
    "df_filtered.hist('days_listed', bins = 68)\n",
    "plt.title('Histogram for days ads were listed')\n",
    "plt.xlabel('days listed')\n",
    "plt.ylabel('number of ads')\n",
    "plt.show()\n",
    "print(\"Description of the column 'days_listed':\")\n",
    "print()\n",
    "print(df_filtered['days_listed'].describe())"
   ]
  },
  {
   "cell_type": "markdown",
   "metadata": {},
   "source": [
    "The histogram indicates a right skewed distribution starting with a high value at 0 days listed and increasing fastly until it reaches its maximum at approx. 20 days listed. At 200 days, the number of vehicles tends to 0. As this distribution is right skewed, the maximum is smaller than the median and the mean. The first quantile (25%) and the third quantile (75%) show that a typical lifetime of an ad has a range between 19 and 53 days."
   ]
  },
  {
   "cell_type": "code",
   "execution_count": 65,
   "metadata": {},
   "outputs": [
    {
     "name": "stdout",
     "output_type": "stream",
     "text": [
      "We use a boxplot for finding the outliers:\n"
     ]
    },
    {
     "data": {
      "image/png": "[encoded data removed]",
      "text/plain": [
       "<Figure size 432x288 with 1 Axes>"
      ]
     },
     "metadata": {
      "needs_background": "light"
     },
     "output_type": "display_data"
    },
    {
     "name": "stdout",
     "output_type": "stream",
     "text": [
      "Value where the outliers begin regarding the boxplot: 104 (orange line in plot)\n"
     ]
    }
   ],
   "source": [
    "print(\"We use a boxplot for finding the outliers:\")\n",
    "Q1 = df_filtered['days_listed'].quantile(0.25)\n",
    "Q3 = df_filtered['days_listed'].quantile(0.75)\n",
    "plt.ylim(0, 120)\n",
    "df_filtered.boxplot(column='days_listed')\n",
    "plt.hlines(y=[Q1, Q3], xmin=0.9, xmax=1.1, color='red')\n",
    "plt.hlines(y=[Q1-1.5*(Q3-Q1), Q3+1.5*(Q3-Q1)], xmin=0.9, xmax=1.1, color='orange')\n",
    "plt.title('Boxplot for days ads were listed')\n",
    "plt.ylabel('number of ads')\n",
    "plt.show()\n",
    "print(\"Value where the outliers begin regarding the boxplot: {:.0f} (orange line in plot)\".format(Q3+1.5*(Q3-Q1)))"
   ]
  },
  {
   "cell_type": "code",
   "execution_count": 66,
   "metadata": {},
   "outputs": [
    {
     "name": "stdout",
     "output_type": "stream",
     "text": [
      "Histogram in the range 80 to 200 days listed:\n"
     ]
    },
    {
     "data": {
      "image/png": "[encoded data removed]",
      "text/plain": [
       "<Figure size 432x288 with 1 Axes>"
      ]
     },
     "metadata": {
      "needs_background": "light"
     },
     "output_type": "display_data"
    }
   ],
   "source": [
    "print(\"Histogram in the range 80 to 200 days listed:\")\n",
    "df_filtered.hist('days_listed', bins = 15, range = (80, 200))\n",
    "plt.title('Histogram for days ads were listed in the range (80, 200)')\n",
    "plt.xlabel('days listed')\n",
    "plt.ylabel('number of ads')\n",
    "plt.show()"
   ]
  },
  {
   "cell_type": "markdown",
   "metadata": {},
   "source": [
    "In the second histogram showing the range of 80 and 200 days listed one can observe that the decreasing trend flattens out at approx. 110 days; the reduced decreasing trend continues until approx. 170 days. From there on, there is a small line that indicates to be more or less constant. Consequently, one can assert that the value where abnormally long lifetimes for ads begin is given by the boxplot indicating a value of 104 days. The quickly removed ads accumulates in the range of 0 and 19 days (first quartile) where one can observe a big increasing trend in the histogram."
   ]
  },
  {
   "cell_type": "markdown",
   "metadata": {},
   "source": [
    "#### Conclusion"
   ]
  },
  {
   "cell_type": "markdown",
   "metadata": {},
   "source": [
    "As given in the description of the histograms above, one can assume that the given values by the boxplot are accurate for determining outliers in the distribution; it indicates a value of 104 days from where on the definition of abnormally long listed advertisements is given. Since the increasing trend in the first histogram is very fast, there are many vehicles whose ad was removed quickly. I think regarding the right skewed distribution it's appropriate to set the lower quartile as the value where quickly removed ads ends: 19 days. For the first histogram, the mean is 39.5 days and the median is 33 days."
   ]
  },
  {
   "cell_type": "markdown",
   "metadata": {},
   "source": [
    "<a id=\"3.4\"></a>"
   ]
  },
  {
   "cell_type": "markdown",
   "metadata": {},
   "source": [
    "### 3.4) The number of ads and the average price for each type of vehicle"
   ]
  },
  {
   "cell_type": "markdown",
   "metadata": {},
   "source": [
    "Analyze the number of ads and the average price for each type of vehicle. Plot a graph showing the dependence of the number of ads on the vehicle type. Select the two types with the greatest number of ads."
   ]
  },
  {
   "cell_type": "code",
   "execution_count": 67,
   "metadata": {
    "scrolled": false
   },
   "outputs": [
    {
     "name": "stdout",
     "output_type": "stream",
     "text": [
      "In the following table, the column 'number of ads' gives the number of advertisements per vehicle's type and is\n",
      "determined by counting the number of vehicles for every type. The column 'mean price' gives the mean value of all\n",
      "vehicle's prices that have the type corresponding to the row.\n",
      "\n",
      "             number of ads    mean price\n",
      "type                                    \n",
      "bus                     24  17135.666667\n",
      "offroad                197  13691.147208\n",
      "other                  227  10154.277533\n",
      "convertible            372  12429.397849\n",
      "van                    580  10225.670690\n",
      "hatchback              965   6577.745078\n",
      "mini-van              1068   7616.905431\n",
      "wagon                 1460   8787.983562\n",
      "coupe                 2033  13442.020167\n",
      "pickup                6221  15113.824948\n",
      "truck                10816  15308.970692\n",
      "sedan                11294   6715.443864\n",
      "SUV                  11527  10414.511755\n",
      "\n",
      "The following bar chart visualizes these two parameters sorted by mean prices:\n"
     ]
    },
    {
     "data": {
      "image/png": "[encoded data removed]",
      "text/plain": [
       "<Figure size 1080x360 with 1 Axes>"
      ]
     },
     "metadata": {
      "needs_background": "light"
     },
     "output_type": "display_data"
    },
    {
     "name": "stdout",
     "output_type": "stream",
     "text": [
      "When sorting the mean prices in the bar chart, one can observe that from type to type the mean prices differ - from\n",
      "6578 for hatchbacks to 17.136 for buses. The increase of the mean price from type to type within this range look alike\n",
      "a linear increase. Looking at the blue bars for number of ads, one can assert than this linearity isn't given for this\n",
      "parameter since there are four manifested main types with high number of ads:\n",
      "SUV with 11527 ads, sedan with 11294 ads, truck with 10816 ads and pickup with 6221 ads.\n",
      "\n",
      "The two types with the highest number of ads are SUV and sedan.\n"
     ]
    }
   ],
   "source": [
    "print(\"In the following table, the column 'number of ads' gives the number of advertisements per vehicle's type and is\")\n",
    "print(\"determined by counting the number of vehicles for every type. The column 'mean price' gives the mean value of all\")\n",
    "print(\"vehicle's prices that have the type corresponding to the row.\")\n",
    "print()\n",
    "# create a pivot table with type as index and columns 'number of ads' and 'mean price' where number of ads equals the number of \n",
    "# vehicles of the corresponding type\n",
    "type_ads_meanprice = df_filtered.pivot_table(index='type', values='price', aggfunc=['count', 'mean'])\n",
    "type_ads_meanprice.columns = ['number of ads', 'mean price']\n",
    "print(type_ads_meanprice.sort_values('number of ads'))\n",
    "print()\n",
    "print(\"The following bar chart visualizes these two parameters sorted by mean prices:\")\n",
    "type_ads_meanprice.sort_values('mean price') \\\n",
    "                  .plot(kind='bar', grid = True, figsize = (15, 5))\n",
    "plt.title('Bar chart for number of ads and mean price per vehicle type')\n",
    "plt.show()\n",
    "print(\"When sorting the mean prices in the bar chart, one can observe that from type to type the mean prices differ - from\")\n",
    "print(\"6578 for hatchbacks to 17.136 for buses. The increase of the mean price from type to type within this range look alike\")\n",
    "print(\"a linear increase. Looking at the blue bars for number of ads, one can assert than this linearity isn't given for this\")\n",
    "print(\"parameter since there are four manifested main types with high number of ads:\")\n",
    "print(\"SUV with 11527 ads, sedan with 11294 ads, truck with 10816 ads and pickup with 6221 ads.\")\n",
    "print()\n",
    "print(\"The two types with the highest number of ads are SUV and sedan.\")\n",
    "\n",
    "# I create two seperate DataFrames for Sedans and SUVs for the next task\n",
    "df_suv = df_filtered.query('type == \"SUV\"')\n",
    "df_sedan = df_filtered.query('type == \"sedan\"')"
   ]
  },
  {
   "cell_type": "markdown",
   "metadata": {},
   "source": [
    "#### Conclusion"
   ]
  },
  {
   "cell_type": "markdown",
   "metadata": {},
   "source": [
    "We found a dependency between the type of a vehicle and its mean price. The difference between the smallest and the biggest mean price according to the vehicle's types is approx. 10.000. Such a dependency couldn't be found for the number of ads which was calculated by counting the number of vehicles that are from the corresponding type since every vehicle was listed. Here, we could find four types that have significantly the most ads: SUV with 11527 ads, sedan with 11294 ads, truck with 10816 ads and pickup with 6221 ads."
   ]
  },
  {
   "cell_type": "markdown",
   "metadata": {},
   "source": [
    "<a id=\"3.5\"></a>"
   ]
  },
  {
   "cell_type": "markdown",
   "metadata": {},
   "source": [
    "### 3.5) Factors that impact the price most\n",
    "\n",
    "What factors impact the price most? Take each of the popular types you detected at the previous stage and study whether \n",
    "the price depends on age, mileage, condition, transmission type, and color. For categorical variables (transmission type\n",
    "and color), plot box-and-whisker charts, and create scatterplots for the rest. When analyzing categorical variables, \n",
    "note that the categories must have at least 50 ads; otherwise, their parameters won't be valid for analysis."
   ]
  },
  {
   "cell_type": "markdown",
   "metadata": {},
   "source": [
    "###### Analysis for the type 'SUV'"
   ]
  },
  {
   "cell_type": "code",
   "execution_count": 68,
   "metadata": {},
   "outputs": [
    {
     "name": "stdout",
     "output_type": "stream",
     "text": [
      "######## Analysis for the type 'SUV'\n",
      "\n",
      "\n",
      "#### 'age_when_posted' and 'price':\n"
     ]
    },
    {
     "data": {
      "image/png": "[encoded data removed]",
      "text/plain": [
       "<Figure size 720x360 with 2 Axes>"
      ]
     },
     "metadata": {
      "needs_background": "light"
     },
     "output_type": "display_data"
    },
    {
     "name": "stdout",
     "output_type": "stream",
     "text": [
      "Correlation coefficient: -0.5679085449943224\n"
     ]
    }
   ],
   "source": [
    "######## Analysis for the type 'SUV'\n",
    "\n",
    "\n",
    "print(\"######## Analysis for the type 'SUV'\")\n",
    "print()\n",
    "print()\n",
    "\n",
    "#### 'age_when_posted' and 'price'\n",
    "\n",
    "print(\"#### 'age_when_posted' and 'price':\")\n",
    "\n",
    "# Here I use the hexbin plot as the scatter plot is full of points where one can't see the values with more or less values\n",
    "df_suv.plot(x='age_when_posted', y='price', kind='hexbin', sharex=False, grid=True, gridsize=25, figsize=(10,5))\n",
    "plt.title('Scatter plot of hexbin kind for vehicle age and price (type SUV)')\n",
    "plt.show()\n",
    "\n",
    "print(\"Correlation coefficient:\", df_suv['age_when_posted'].corr(df_suv['price']))"
   ]
  },
  {
   "cell_type": "code",
   "execution_count": 69,
   "metadata": {},
   "outputs": [
    {
     "name": "stdout",
     "output_type": "stream",
     "text": [
      "#### 'mileage_per_year' and 'price':\n",
      "\n",
      "\n"
     ]
    },
    {
     "data": {
      "image/png": "[encoded data removed]",
      "text/plain": [
       "<Figure size 720x360 with 2 Axes>"
      ]
     },
     "metadata": {
      "needs_background": "light"
     },
     "output_type": "display_data"
    },
    {
     "name": "stdout",
     "output_type": "stream",
     "text": [
      "Correlation coefficient: 0.22771421490949623\n"
     ]
    }
   ],
   "source": [
    "#### 'mileage_per_year' and 'price'\n",
    "\n",
    "print(\"#### 'mileage_per_year' and 'price':\")\n",
    "print()\n",
    "print()\n",
    "\n",
    "# Here the same reason as above for using the hexbin kind\n",
    "df_suv.plot(x='mileage_per_year', y='price', kind='hexbin', sharex=False, grid=True, gridsize=25, figsize=(10,5))\n",
    "plt.title('Scatter plot of hexbin kind for mileage per year and price (type SUV)')\n",
    "plt.show()\n",
    "\n",
    "print(\"Correlation coefficient:\", df_suv['mileage_per_year'].corr(df_suv['price']))"
   ]
  },
  {
   "cell_type": "code",
   "execution_count": 70,
   "metadata": {},
   "outputs": [
    {
     "name": "stdout",
     "output_type": "stream",
     "text": [
      "#### 'condition' and 'price':\n",
      "\n",
      "\n"
     ]
    },
    {
     "data": {
      "image/png": "[encoded data removed]",
      "text/plain": [
       "<Figure size 720x360 with 1 Axes>"
      ]
     },
     "metadata": {
      "needs_background": "light"
     },
     "output_type": "display_data"
    },
    {
     "name": "stdout",
     "output_type": "stream",
     "text": [
      "Correlation coefficient: 0.2769839186992352\n"
     ]
    }
   ],
   "source": [
    "#### 'condition' and 'price'\n",
    "\n",
    "print(\"#### 'condition' and 'price':\")\n",
    "print()\n",
    "print()\n",
    "\n",
    "df_suv.plot(x='condition', y='price', kind='scatter', sharex=False, grid=True, figsize=(10,5))\n",
    "plt.title('Scatter plot for condition and price (type SUV)')\n",
    "plt.show()\n",
    "\n",
    "print(\"Correlation coefficient:\", df_suv['condition'].corr(df_suv['price']))"
   ]
  },
  {
   "cell_type": "code",
   "execution_count": 71,
   "metadata": {},
   "outputs": [
    {
     "name": "stdout",
     "output_type": "stream",
     "text": [
      "#### 'paint_color' and 'price':\n",
      "\n",
      "\n",
      "We group the vehicles by color and for each color we sort out the vehicles with less than 50 ads since they're not\n",
      "valid for the analysis. In the following table are the colors with less than 50 counted values:\n",
      "\n",
      "             price\n",
      "paint_color       \n",
      "purple          38\n",
      "yellow          46\n",
      "\n",
      "The vehicles in the colors 'yellow' and 'purple' will be filtered out for this analysis.\n",
      "\n",
      "The following plot box-and-whisker charts show boxplots for each color:\n"
     ]
    },
    {
     "data": {
      "image/png": "[encoded data removed]",
      "text/plain": [
       "<Figure size 1152x576 with 1 Axes>"
      ]
     },
     "metadata": {
      "needs_background": "light"
     },
     "output_type": "display_data"
    }
   ],
   "source": [
    "#### 'paint_color' and 'price'\n",
    "\n",
    "print(\"#### 'paint_color' and 'price':\")\n",
    "print()\n",
    "print()\n",
    "print(\"We group the vehicles by color and for each color we sort out the vehicles with less than 50 ads since they're not\")\n",
    "print(\"valid for the analysis. In the following table are the colors with less than 50 counted values:\")\n",
    "print()\n",
    "# create a table with the colors that must be sorted out as they have less than 50 prices\n",
    "print(df_suv.pivot_table(index='paint_color', values='price', aggfunc='count').query('price < 50'))\n",
    "print()\n",
    "print(\"The vehicles in the colors 'yellow' and 'purple' will be filtered out for this analysis.\")\n",
    "print()\n",
    "print(\"The following plot box-and-whisker charts show boxplots for each color:\")\n",
    "\n",
    "# filter out the corresponding colors in our df and safe it as a new df\n",
    "df_suv_color = df_suv.query('paint_color != \"yellow\" and paint_color != \"purple\"')\n",
    "\n",
    "# create multiple new columns in our df so it's easy to create one graph with all boxplots included\n",
    "# Each column is a paint color and has the price value for each vehicle in the corresponding column; all the other columns\n",
    "# in that corresponding row have NaN values\n",
    "colors = df_suv_color['paint_color'].value_counts().index\n",
    "for color in colors:\n",
    "    for i in df_suv_color.index:\n",
    "        if df_suv_color.loc[i, 'paint_color'] == color:\n",
    "            df_suv_color.loc[i, color] = df_suv_color.loc[i, 'price']\n",
    "\n",
    "# The list 'colors' includes all colors that we have included for our analysis\n",
    "df_suv_color.boxplot(column=[colors[0], colors[1], colors[2], colors[3], colors[4], colors[5], colors[6], \\\n",
    "                             colors[7], colors[8], colors[9]], figsize=(16, 8))\n",
    "plt.title('Box-and-Whisker charts of the price for different paint colors (type SUV)')\n",
    "plt.xlabel('paint color')\n",
    "plt.ylabel('price')\n",
    "plt.show()"
   ]
  },
  {
   "cell_type": "markdown",
   "metadata": {},
   "source": [
    "One can see quickly that all colors have outliers regarding the prices. Besides the color 'orange', all medians for each color are located in the range between 5000 and 10.000. The lower quartile for the color 'orange' is even higher than 10.000, so this color stands out."
   ]
  },
  {
   "cell_type": "code",
   "execution_count": 72,
   "metadata": {},
   "outputs": [
    {
     "name": "stdout",
     "output_type": "stream",
     "text": [
      "#### 'transmission' and 'price':\n",
      "\n",
      "\n",
      "I group the vehicles by transmission and for each type I sort out the vehicles with less than 50 ads since they're not\n",
      "valid for the analysis. In the following table are the transmissions with less than 50 counted values:\n",
      "\n",
      "Empty DataFrame\n",
      "Columns: [price]\n",
      "Index: []\n",
      "\n",
      "There are no transmission types to sort out from our data.\n",
      "\n",
      "The following plot box-and-whisker charts show boxplots for each transmission type:\n"
     ]
    },
    {
     "data": {
      "image/png": "[encoded data removed]",
      "text/plain": [
       "<Figure size 1152x576 with 1 Axes>"
      ]
     },
     "metadata": {
      "needs_background": "light"
     },
     "output_type": "display_data"
    },
    {
     "name": "stdout",
     "output_type": "stream",
     "text": [
      "Description of the prices with the transmission type 'other':\n",
      "\n",
      "count      139.000000\n",
      "mean      8207.294964\n",
      "std       7552.355441\n",
      "min          1.000000\n",
      "25%          1.000000\n",
      "50%       7995.000000\n",
      "75%      12925.000000\n",
      "max      28999.000000\n",
      "Name: other, dtype: float64\n"
     ]
    }
   ],
   "source": [
    "#### 'transmission' and 'price'\n",
    "\n",
    "print(\"#### 'transmission' and 'price':\")\n",
    "print()\n",
    "print()\n",
    "print(\"I group the vehicles by transmission and for each type I sort out the vehicles with less than 50 ads since they're not\")\n",
    "print(\"valid for the analysis. In the following table are the transmissions with less than 50 counted values:\")\n",
    "print()\n",
    "# create a table with the transmission types that must be sorted out as they have less than 50 prices\n",
    "print(df_suv.pivot_table(index='transmission', values='price', aggfunc='count').query('price < 50'))\n",
    "print()\n",
    "print(\"There are no transmission types to sort out from our data.\")\n",
    "print()\n",
    "print(\"The following plot box-and-whisker charts show boxplots for each transmission type:\")\n",
    "\n",
    "# safe the added columns to another df\n",
    "df_suv_transm = df_suv\n",
    "\n",
    "# analog to above: create a column for each transmission type and create a graph with all boxplots included\n",
    "transmissions = df_suv_transm['transmission'].value_counts().index\n",
    "for transm in transmissions:\n",
    "    for i in df_suv_transm.index:\n",
    "        if df_suv_transm.loc[i, 'transmission'] == transm:\n",
    "            df_suv_transm.loc[i, transm] = df_suv_transm.loc[i, 'price']\n",
    "\n",
    "# The list 'transmissions' includes all transmission types that we have included for our analysis\n",
    "df_suv_transm.boxplot(column=[transmissions[0], transmissions[1], transmissions[2]], figsize=(16, 8))\n",
    "plt.title('Box-and-Whisker charts of the price for different transmission types (type SUV)')\n",
    "plt.xlabel('transmission type')\n",
    "plt.ylabel('price')\n",
    "plt.show()\n",
    "\n",
    "print(\"Description of the prices with the transmission type 'other':\")\n",
    "print()\n",
    "print(df_suv_transm['other'].describe())"
   ]
  },
  {
   "cell_type": "markdown",
   "metadata": {},
   "source": [
    "The only two transmission types with outliers are 'automatic' and 'manual'. Both types have outliers compared to the type 'other'. Both types, 'automatic' and 'manual', have similar boxplots. The Boxplot for the type 'other' differs since the lower quartile and the minimum have the exact same value of 1. That means that some vehicles with that transmission type are almost for free. Comparing its upper quartile with the one from 'automatic' type one can see that they're similar as well as their medians. That means that the vehicles from 'other' transmission type assimilates the price range of the 'automatic' transmission type for prices at the median and at the upper quartile."
   ]
  },
  {
   "cell_type": "markdown",
   "metadata": {},
   "source": [
    "###### Analysis for the type 'sedan'"
   ]
  },
  {
   "cell_type": "code",
   "execution_count": 73,
   "metadata": {},
   "outputs": [
    {
     "name": "stdout",
     "output_type": "stream",
     "text": [
      "######## Analysis for the type 'sedan'\n",
      "\n",
      "\n",
      "#### 'age_when_posted' and 'price':\n"
     ]
    },
    {
     "data": {
      "image/png": "[encoded data removed]",
      "text/plain": [
       "<Figure size 720x360 with 2 Axes>"
      ]
     },
     "metadata": {
      "needs_background": "light"
     },
     "output_type": "display_data"
    },
    {
     "name": "stdout",
     "output_type": "stream",
     "text": [
      "Correlation coefficient: -0.601517575002519\n"
     ]
    }
   ],
   "source": [
    "######## Analysis for the type 'sedan'\n",
    "\n",
    "\n",
    "print(\"######## Analysis for the type 'sedan'\")\n",
    "print()\n",
    "print()\n",
    "\n",
    "#### 'age_when_posted' and 'price'\n",
    "\n",
    "print(\"#### 'age_when_posted' and 'price':\")\n",
    "\n",
    "# Here the same reason as above for using the hexbin kind\n",
    "df_sedan.plot(x='age_when_posted', y='price', kind='hexbin', sharex=False, grid=True, gridsize=25, figsize=(10,5))\n",
    "plt.title('Scatter plot of hexbin kind for vehicle age and price (type sedan)')\n",
    "plt.show()\n",
    "\n",
    "print(\"Correlation coefficient:\", df_sedan['age_when_posted'].corr(df_sedan['price']))"
   ]
  },
  {
   "cell_type": "code",
   "execution_count": 74,
   "metadata": {},
   "outputs": [
    {
     "name": "stdout",
     "output_type": "stream",
     "text": [
      "#### 'mileage_per_year' and 'price':\n",
      "\n",
      "\n"
     ]
    },
    {
     "data": {
      "image/png": "[encoded data removed]",
      "text/plain": [
       "<Figure size 720x360 with 2 Axes>"
      ]
     },
     "metadata": {
      "needs_background": "light"
     },
     "output_type": "display_data"
    },
    {
     "name": "stdout",
     "output_type": "stream",
     "text": [
      "Correlation coefficient: 0.16549068802410993\n"
     ]
    }
   ],
   "source": [
    "#### 'mileage_per_year' and 'price'\n",
    "\n",
    "print(\"#### 'mileage_per_year' and 'price':\")\n",
    "print()\n",
    "print()\n",
    "\n",
    "# Here the same reason as above for using the hexbin kind\n",
    "df_sedan.plot(x='mileage_per_year', y='price', kind='hexbin', sharex=False, grid=True, gridsize=25, figsize=(10,5))\n",
    "plt.title('Scatter plot of hexbin kind for mileage per year and price (type sedan)')\n",
    "plt.show()\n",
    "\n",
    "print(\"Correlation coefficient:\", df_sedan['mileage_per_year'].corr(df_sedan['price']))"
   ]
  },
  {
   "cell_type": "code",
   "execution_count": 75,
   "metadata": {},
   "outputs": [
    {
     "name": "stdout",
     "output_type": "stream",
     "text": [
      "#### 'condition' and 'price':\n",
      "\n",
      "\n"
     ]
    },
    {
     "data": {
      "image/png": "[encoded data removed]",
      "text/plain": [
       "<Figure size 720x360 with 1 Axes>"
      ]
     },
     "metadata": {
      "needs_background": "light"
     },
     "output_type": "display_data"
    },
    {
     "name": "stdout",
     "output_type": "stream",
     "text": [
      "Correlation coefficient: 0.3004658559031809\n"
     ]
    }
   ],
   "source": [
    "#### 'condition' and 'price'\n",
    "\n",
    "print(\"#### 'condition' and 'price':\")\n",
    "print()\n",
    "print()\n",
    "\n",
    "df_sedan.plot(x='condition', y='price', kind='scatter', sharex=False, grid=True, figsize=(10,5))\n",
    "plt.title('Scatter plot for condition and price (type sedan)')\n",
    "plt.show()\n",
    "\n",
    "print(\"Correlation coefficient:\", df_sedan['condition'].corr(df_sedan['price']))"
   ]
  },
  {
   "cell_type": "code",
   "execution_count": 76,
   "metadata": {},
   "outputs": [
    {
     "name": "stdout",
     "output_type": "stream",
     "text": [
      "#### 'paint_color' and 'price':\n",
      "\n",
      "\n",
      "We group the vehicles by color and for each color we sort out the vehicles with less than 50 ads since they're not\n",
      "valid for the analysis. In the following table are the colors with less than 50 counted values:\n",
      "\n",
      "             price\n",
      "paint_color       \n",
      "orange           9\n",
      "purple          24\n",
      "yellow          22\n",
      "\n",
      "The vehicles in the colors 'yellow', 'purple' and 'orange' will be filtered out for this analysis.\n",
      "\n",
      "The following plot box-and-whisker charts show boxplots for each color:\n"
     ]
    },
    {
     "data": {
      "image/png": "[encoded data removed]",
      "text/plain": [
       "<Figure size 1152x576 with 1 Axes>"
      ]
     },
     "metadata": {
      "needs_background": "light"
     },
     "output_type": "display_data"
    },
    {
     "name": "stdout",
     "output_type": "stream",
     "text": [
      "Description of the prices with the vehicle's color 'black':\n",
      "\n",
      "count     1640.000000\n",
      "mean      7281.993902\n",
      "std       4353.892657\n",
      "min          1.000000\n",
      "25%       4000.000000\n",
      "50%       6500.000000\n",
      "75%       9800.000000\n",
      "max      40000.000000\n",
      "Name: black, dtype: float64\n",
      "\n",
      "Description of the prices with the vehicle's color 'green':\n",
      "\n",
      "count      200.000000\n",
      "mean      4529.950000\n",
      "std       2976.234984\n",
      "min          1.000000\n",
      "25%       2500.000000\n",
      "50%       3800.000000\n",
      "75%       5761.250000\n",
      "max      17999.000000\n",
      "Name: green, dtype: float64\n"
     ]
    }
   ],
   "source": [
    "#### 'paint_color' and 'price'\n",
    "\n",
    "print(\"#### 'paint_color' and 'price':\")\n",
    "print()\n",
    "print()\n",
    "print(\"We group the vehicles by color and for each color we sort out the vehicles with less than 50 ads since they're not\")\n",
    "print(\"valid for the analysis. In the following table are the colors with less than 50 counted values:\")\n",
    "print()\n",
    "# create a table with the colors that must be filtered as they have less than 50 prices\n",
    "print(df_sedan.pivot_table(index='paint_color', values='price', aggfunc='count').query('price < 50'))\n",
    "print()\n",
    "print(\"The vehicles in the colors 'yellow', 'purple' and 'orange' will be filtered out for this analysis.\")\n",
    "print()\n",
    "print(\"The following plot box-and-whisker charts show boxplots for each color:\")\n",
    "\n",
    "# filter out the corresponding colors in our df and safe it as a new df\n",
    "df_sedan_color = df_sedan.query('paint_color != \"yellow\" and paint_color != \"purple\" and paint_color != \"orange\"')\n",
    "\n",
    "# analog to above: create a column for each color and create a graph with all boxplots included\n",
    "colors = df_sedan_color['paint_color'].value_counts().index\n",
    "for color in colors:\n",
    "    for i in df_sedan_color.index:\n",
    "        if df_sedan_color.loc[i, 'paint_color'] == color:\n",
    "            df_sedan_color.loc[i, color] = df_sedan_color.loc[i, 'price']\n",
    "\n",
    "# The list 'colors' includes all transmission types that we have included for our analysis\n",
    "df_sedan_color.boxplot(column=[colors[0], colors[1], colors[2], colors[3], colors[4], colors[5], colors[6], \\\n",
    "                             colors[7], colors[8]], figsize=(16, 8))\n",
    "plt.title('Box-and-Whisker charts of the price for different paint colors (type sedan)')\n",
    "plt.xlabel('paint color')\n",
    "plt.ylabel('price')\n",
    "plt.show()\n",
    "\n",
    "print(\"Description of the prices with the vehicle's color 'black':\")\n",
    "print()\n",
    "print(df_sedan_color['black'].describe())\n",
    "print()\n",
    "print(\"Description of the prices with the vehicle's color 'green':\")\n",
    "print()\n",
    "print(df_sedan_color['green'].describe())"
   ]
  },
  {
   "cell_type": "markdown",
   "metadata": {},
   "source": [
    "One can see quickly that all colors have outliers regarding the prices. The smallest range between lower and upper quartile is for the color 'green' which has a size of 3261. The biggest range is for the color 'black' which has a size of 5800. With a value of 6500 the color 'black' also has the biggest median of all colors whereas the color 'green' has the smallest median given by 3800. From color to color, small differences for median and quartile values can be observed."
   ]
  },
  {
   "cell_type": "code",
   "execution_count": 77,
   "metadata": {},
   "outputs": [
    {
     "name": "stdout",
     "output_type": "stream",
     "text": [
      "#### 'transmission' and 'price':\n",
      "\n",
      "\n",
      "I group the vehicles by transmission and for each type I sort out the vehicles with less than 50 ads since they're not\n",
      "valid for the analysis. In the following table are the transmissions with less than 50 counted values:\n",
      "\n",
      "Empty DataFrame\n",
      "Columns: [price]\n",
      "Index: []\n",
      "\n",
      "There are no transmission types to sort out from our data.\n",
      "\n",
      "The following plot box-and-whisker charts show boxplots for each transmission type:\n"
     ]
    },
    {
     "data": {
      "image/png": "[encoded data removed]",
      "text/plain": [
       "<Figure size 1152x576 with 1 Axes>"
      ]
     },
     "metadata": {
      "needs_background": "light"
     },
     "output_type": "display_data"
    },
    {
     "name": "stdout",
     "output_type": "stream",
     "text": [
      "Description of the prices with the transmission type 'other':\n",
      "\n",
      "count      115.000000\n",
      "mean      4030.191304\n",
      "std       4450.471451\n",
      "min          1.000000\n",
      "25%          1.000000\n",
      "50%       3800.000000\n",
      "75%       5995.000000\n",
      "max      20700.000000\n",
      "Name: other, dtype: float64\n"
     ]
    }
   ],
   "source": [
    "#### 'transmission' and 'price'\n",
    "\n",
    "print(\"#### 'transmission' and 'price':\")\n",
    "print()\n",
    "print()\n",
    "print(\"I group the vehicles by transmission and for each type I sort out the vehicles with less than 50 ads since they're not\")\n",
    "print(\"valid for the analysis. In the following table are the transmissions with less than 50 counted values:\")\n",
    "print()\n",
    "# create a table with the transmission types that must be filtered as they have less than 50 prices\n",
    "print(df_sedan.pivot_table(index='transmission', values='price', aggfunc='count').query('price < 50'))\n",
    "print()\n",
    "print(\"There are no transmission types to sort out from our data.\")\n",
    "print()\n",
    "print(\"The following plot box-and-whisker charts show boxplots for each transmission type:\")\n",
    "\n",
    "# safe the added columns to another df\n",
    "df_sedan_transm = df_sedan\n",
    "\n",
    "# analog to above: create a column for each transmission type and create a graph with all boxplots included\n",
    "transmissions = df_sedan_transm['transmission'].value_counts().index\n",
    "for transm in transmissions:\n",
    "    for i in df_sedan_transm.index:\n",
    "        if df_sedan_transm.loc[i, 'transmission'] == transm:\n",
    "            df_sedan_transm.loc[i, transm] = df_sedan_transm.loc[i, 'price']\n",
    "\n",
    "# The list 'transmissions' includes all transmission types that we have included for our analysis\n",
    "df_sedan_transm.boxplot(column=[transmissions[0], transmissions[1], transmissions[2]], figsize=(16, 8))\n",
    "plt.title('Box-and-Whisker charts of the price for different transmission types (type sedan)')\n",
    "plt.xlabel('transmission type')\n",
    "plt.ylabel('price')\n",
    "plt.show()\n",
    "\n",
    "print(\"Description of the prices with the transmission type 'other':\")\n",
    "print()\n",
    "print(df_sedan_transm['other'].describe())"
   ]
  },
  {
   "cell_type": "markdown",
   "metadata": {},
   "source": [
    "All transmission types show outliers in their boxplots. As already obsverved for the vehicle's type 'SUV', the transmission type 'other' has its lower quartile at the same price where its minimum is: at 1.0. The median values of the types 'other' and 'manual' are similar. The distances between lower and upper quartile vary between the transmission types: The type 'other' has the biggest distance, the type 'manual' the smallest. So, we have differently distributed price values for different transmission types for the vehicles of sedan type."
   ]
  },
  {
   "cell_type": "markdown",
   "metadata": {},
   "source": [
    "#### Conclusion"
   ]
  },
  {
   "cell_type": "markdown",
   "metadata": {},
   "source": [
    "What factors impact the price most? <br>\n",
    "Regarding the condtion of a vehicle, I used the int64 data types for getting correlation coefficients. <br>\n",
    "Let's look at the correlation coefficients of the quantitative variables: <br>\n",
    "- 'condition' and 'price': 0.28 (SUV) and 0.30 (sedan)\n",
    "- 'age_when_posted' and 'price': -0.57 (SUV) and -0.60 (sedan)\n",
    "- 'mileage_per_year' and 'price': 0.23 (SUV) and 0.17 (sedan)\n",
    "\n",
    "Here one can see that the only variable that is moderately correlated with 'price' is 'age_when_posted'. The minus sign indicates: The older a vehicle the lower its price. The other variables have too small correlation coefficients for saying that there's a low correlation. <br>\n",
    "When looking at the categorial variable 'transmission', one can see that for both types the transmission type 'other' has the minimum and the lower quartile at a price of 1. If one supposes that some of these prices are wrong, it's still unliekly that this price is wrong for over a quarter of all vehicles of that transmission type. So, one can say that there's an impact on the vehicle's price when its transmission type is counted among 'other'. <br>\n",
    "A special color for SUV typed vehicles is orange; they're above-average expensive. So, it's possible that for special types of vehicle some colors may differ in price (since for sedans there was no such above-average expensive color). <br>\n",
    "When comparing the box-and-whisker charts for both types one can observe that the SUVs are more expensive in general: The median values by color vary for sedans between 3800 and 6500 whereas for SUVs the median values vary between approx. 6000 and 9000. So, as indicated by the previous analysis in step 4.4 the vehicle's type has an impact on the price."
   ]
  },
  {
   "cell_type": "markdown",
   "metadata": {},
   "source": [
    "<a id=\"4\"></a>"
   ]
  },
  {
   "cell_type": "markdown",
   "metadata": {},
   "source": [
    "## 4) Overall conclusion"
   ]
  },
  {
   "cell_type": "markdown",
   "metadata": {},
   "source": [
    "The column 'mileage_per_year' was calculated with the column 'odometer'. Here, we need to be careful since the odometer column was the column with the most missing values (7892 missing values). The weighted standard deviation for the odometer medians in the grouped table is 32694. That might be a reason for the very small correlation coefficients between 'mileage_per_year' and 'price' (0.23 for SUV and 0.17 for sedan). For filling the missing model years (3619 missing values) I used a pivot table with the vehicle's models as index. The biggest standard deviation grouped by model was approx. 12 and it decreased rapidly in the sorted pivot table. Since there where less than half missing values to fill compared to the column 'odometer', we can say that these values are filled with particular good values. This might also be mirrored when looking again at the correlation coefficients: 'age_when_posted' and 'price': -0.57 (SUV) and -0.60 (sedan). Both coefficients show a moderate correlation, so we can say:<br> <br> \n",
    "The age of a vehicle is moderately negatively correlated with its price. <br>\n",
    "The older a vehicle the smaller its price. <br> <br>\n",
    "We observed that there's a dependency between the mean prices and the vehicle's type: <br> Some types are overall more expensive than other types. <br> <br> \n",
    "A special observation provided transmission types. We can say: <br>\n",
    "When a vehicle has not automatic or manual as transmission type then likely there exist some vehicles with substandardly small prices. <br>\n",
    "What we also observed is that there might be specific colors for some types that also have a surpassing impact on the vehicle's price (compare: orange SUVs)."
   ]
  },
  {
   "cell_type": "code",
   "execution_count": null,
   "metadata": {},
   "outputs": [],
   "source": []
  }
 ],
 "metadata": {
  "kernelspec": {
   "display_name": "Python 3",
   "language": "python",
   "name": "python3"
  },
  "language_info": {
   "codemirror_mode": {
    "name": "ipython",
    "version": 3
   },
   "file_extension": ".py",
   "mimetype": "text/x-python",
   "name": "python",
   "nbconvert_exporter": "python",
   "pygments_lexer": "ipython3",
   "version": "3.7.9"
  },
  "toc": {
   "base_numbering": 1,
   "nav_menu": {
    "height": "210.99px",
    "width": "467.986px"
   },
   "number_sections": true,
   "sideBar": true,
   "skip_h1_title": true,
   "title_cell": "Table of Contents",
   "title_sidebar": "Contents",
   "toc_cell": false,
   "toc_position": {
    "height": "calc(100% - 180px)",
    "left": "10px",
    "top": "150px",
    "width": "328.047px"
   },
   "toc_section_display": true,
   "toc_window_display": true
  },
  "varInspector": {
   "cols": {
    "lenName": 16,
    "lenType": 16,
    "lenVar": 40
   },
   "kernels_config": {
    "python": {
     "delete_cmd_postfix": "",
     "delete_cmd_prefix": "del ",
     "library": "var_list.py",
     "varRefreshCmd": "print(var_dic_list())"
    },
    "r": {
     "delete_cmd_postfix": ") ",
     "delete_cmd_prefix": "rm(",
     "library": "var_list.r",
     "varRefreshCmd": "cat(var_dic_list()) "
    }
   },
   "types_to_exclude": [
    "module",
    "function",
    "builtin_function_or_method",
    "instance",
    "_Feature"
   ],
   "window_display": false
  }
 },
 "nbformat": 4,
 "nbformat_minor": 2
}
