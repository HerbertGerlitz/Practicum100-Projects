{
 "cells": [
  {
   "cell_type": "markdown",
   "metadata": {},
   "source": [
    "# Analysis of Borrowers’ Risk of Defaulting\n",
    "\n",
    "The task is to prepare a report for a bank’s loan division. We need to find out if a customer’s marital status and number of children has an impact on whether they will default on a loan. The bank already has some data on customers’ credit worthiness.\n",
    "\n",
    "The report will be considered when building a credit scoring of a potential customer. A credit scoring is used to evaluate the ability of a potential borrower to repay their loan."
   ]
  },
  {
   "cell_type": "markdown",
   "metadata": {},
   "source": [
    "# Table of Contents\n",
    "\n",
    "- 1) [Open the data and study the general information](#1)\n",
    "<br> <br>\n",
    "- 2) [Data preprocessing](#2)\n",
    "<br> <br>\n",
    "    - 2.1) [Processing missing values](#2.1)\n",
    "    - 2.2) [Data type replacement](#2.2)\n",
    "    - 2.3) [Processing duplicates](#2.3)\n",
    "    - 2.4) [Categorizing data](#2.4)\n",
    "<br> <br>\n",
    "- 3) [Answer relations between variables](#3)\n",
    "<br> <br>\n",
    "    - 3.1) [Relation between having kids and repaying a loan on time](#3.1)\n",
    "    - 3.2) [Relation between marital status and repaying a loan on time](#3.2)\n",
    "    - 3.3) [Relation between income level and repaying a loan on time](#3.3)\n",
    "    - 3.4) [Loan purposes affect on-time repayment of the loan](#3.4)\n",
    "<br> <br>\n",
    "- 4) [General conclusion](#4)"
   ]
  },
  {
   "cell_type": "markdown",
   "metadata": {},
   "source": [
    "<a id=\"1\"></a>"
   ]
  },
  {
   "cell_type": "markdown",
   "metadata": {},
   "source": [
    "## Open the data and study the general information"
   ]
  },
  {
   "cell_type": "code",
   "execution_count": 1,
   "metadata": {},
   "outputs": [],
   "source": [
    "# import libraries\n",
    "import pandas as pd\n",
    "import nltk\n",
    "from nltk.stem import SnowballStemmer\n",
    "from nltk.stem import WordNetLemmatizer\n",
    "wordnet_lemma = WordNetLemmatizer() \n",
    "english_stemmer = SnowballStemmer('english')"
   ]
  },
  {
   "cell_type": "code",
   "execution_count": 2,
   "metadata": {
    "scrolled": false
   },
   "outputs": [],
   "source": [
    "# read csv file\n",
    "df = pd.read_csv('C:/Users/Herbert/Documents/Practicum100/datasets/data_preprocessing_credit_scoring_eng.csv')"
   ]
  },
  {
   "cell_type": "code",
   "execution_count": 3,
   "metadata": {},
   "outputs": [
    {
     "data": {
      "text/html": [
       "<div>\n",
       "<style scoped>\n",
       "    .dataframe tbody tr th:only-of-type {\n",
       "        vertical-align: middle;\n",
       "    }\n",
       "\n",
       "    .dataframe tbody tr th {\n",
       "        vertical-align: top;\n",
       "    }\n",
       "\n",
       "    .dataframe thead th {\n",
       "        text-align: right;\n",
       "    }\n",
       "</style>\n",
       "<table border=\"1\" class=\"dataframe\">\n",
       "  <thead>\n",
       "    <tr style=\"text-align: right;\">\n",
       "      <th></th>\n",
       "      <th>children</th>\n",
       "      <th>days_employed</th>\n",
       "      <th>dob_years</th>\n",
       "      <th>education</th>\n",
       "      <th>education_id</th>\n",
       "      <th>family_status</th>\n",
       "      <th>family_status_id</th>\n",
       "      <th>gender</th>\n",
       "      <th>income_type</th>\n",
       "      <th>debt</th>\n",
       "      <th>total_income</th>\n",
       "      <th>purpose</th>\n",
       "    </tr>\n",
       "  </thead>\n",
       "  <tbody>\n",
       "    <tr>\n",
       "      <td>0</td>\n",
       "      <td>1</td>\n",
       "      <td>-8437.673028</td>\n",
       "      <td>42</td>\n",
       "      <td>bachelor's degree</td>\n",
       "      <td>0</td>\n",
       "      <td>married</td>\n",
       "      <td>0</td>\n",
       "      <td>F</td>\n",
       "      <td>employee</td>\n",
       "      <td>0</td>\n",
       "      <td>40620.102</td>\n",
       "      <td>purchase of the house</td>\n",
       "    </tr>\n",
       "    <tr>\n",
       "      <td>1</td>\n",
       "      <td>1</td>\n",
       "      <td>-4024.803754</td>\n",
       "      <td>36</td>\n",
       "      <td>secondary education</td>\n",
       "      <td>1</td>\n",
       "      <td>married</td>\n",
       "      <td>0</td>\n",
       "      <td>F</td>\n",
       "      <td>employee</td>\n",
       "      <td>0</td>\n",
       "      <td>17932.802</td>\n",
       "      <td>car purchase</td>\n",
       "    </tr>\n",
       "    <tr>\n",
       "      <td>2</td>\n",
       "      <td>0</td>\n",
       "      <td>-5623.422610</td>\n",
       "      <td>33</td>\n",
       "      <td>Secondary Education</td>\n",
       "      <td>1</td>\n",
       "      <td>married</td>\n",
       "      <td>0</td>\n",
       "      <td>M</td>\n",
       "      <td>employee</td>\n",
       "      <td>0</td>\n",
       "      <td>23341.752</td>\n",
       "      <td>purchase of the house</td>\n",
       "    </tr>\n",
       "    <tr>\n",
       "      <td>3</td>\n",
       "      <td>3</td>\n",
       "      <td>-4124.747207</td>\n",
       "      <td>32</td>\n",
       "      <td>secondary education</td>\n",
       "      <td>1</td>\n",
       "      <td>married</td>\n",
       "      <td>0</td>\n",
       "      <td>M</td>\n",
       "      <td>employee</td>\n",
       "      <td>0</td>\n",
       "      <td>42820.568</td>\n",
       "      <td>supplementary education</td>\n",
       "    </tr>\n",
       "    <tr>\n",
       "      <td>4</td>\n",
       "      <td>0</td>\n",
       "      <td>340266.072047</td>\n",
       "      <td>53</td>\n",
       "      <td>secondary education</td>\n",
       "      <td>1</td>\n",
       "      <td>civil partnership</td>\n",
       "      <td>1</td>\n",
       "      <td>F</td>\n",
       "      <td>retiree</td>\n",
       "      <td>0</td>\n",
       "      <td>25378.572</td>\n",
       "      <td>to have a wedding</td>\n",
       "    </tr>\n",
       "  </tbody>\n",
       "</table>\n",
       "</div>"
      ],
      "text/plain": [
       "   children  days_employed  dob_years            education  education_id  \\\n",
       "0         1   -8437.673028         42    bachelor's degree             0   \n",
       "1         1   -4024.803754         36  secondary education             1   \n",
       "2         0   -5623.422610         33  Secondary Education             1   \n",
       "3         3   -4124.747207         32  secondary education             1   \n",
       "4         0  340266.072047         53  secondary education             1   \n",
       "\n",
       "       family_status  family_status_id gender income_type  debt  total_income  \\\n",
       "0            married                 0      F    employee     0     40620.102   \n",
       "1            married                 0      F    employee     0     17932.802   \n",
       "2            married                 0      M    employee     0     23341.752   \n",
       "3            married                 0      M    employee     0     42820.568   \n",
       "4  civil partnership                 1      F     retiree     0     25378.572   \n",
       "\n",
       "                   purpose  \n",
       "0    purchase of the house  \n",
       "1             car purchase  \n",
       "2    purchase of the house  \n",
       "3  supplementary education  \n",
       "4        to have a wedding  "
      ]
     },
     "execution_count": 3,
     "metadata": {},
     "output_type": "execute_result"
    }
   ],
   "source": [
    "df.head()"
   ]
  },
  {
   "cell_type": "code",
   "execution_count": 4,
   "metadata": {},
   "outputs": [
    {
     "name": "stdout",
     "output_type": "stream",
     "text": [
      "<class 'pandas.core.frame.DataFrame'>\n",
      "RangeIndex: 21525 entries, 0 to 21524\n",
      "Data columns (total 12 columns):\n",
      "children            21525 non-null int64\n",
      "days_employed       19351 non-null float64\n",
      "dob_years           21525 non-null int64\n",
      "education           21525 non-null object\n",
      "education_id        21525 non-null int64\n",
      "family_status       21525 non-null object\n",
      "family_status_id    21525 non-null int64\n",
      "gender              21525 non-null object\n",
      "income_type         21525 non-null object\n",
      "debt                21525 non-null int64\n",
      "total_income        19351 non-null float64\n",
      "purpose             21525 non-null object\n",
      "dtypes: float64(2), int64(5), object(5)\n",
      "memory usage: 2.0+ MB\n"
     ]
    }
   ],
   "source": [
    "df.info()"
   ]
  },
  {
   "cell_type": "markdown",
   "metadata": {},
   "source": [
    "### Conclusion"
   ]
  },
  {
   "cell_type": "markdown",
   "metadata": {},
   "source": [
    "This table gives some information about the customers, it has 21525 rows and 12 columns. <br>\n",
    "The only 2 columns that are given in the float64 type are also the only two columns that\n",
    "have missing values; they both have 19351 entries (these columns are 'days_employed' and 'total_income')\n",
    "and they both are quantitative columns. <br>\n",
    "If one takes a look at the first 5 rows one notices that there are senseless entries for the column 'days_employed':\n",
    "On the one hand there are negative values for some costumers,\n",
    "on the other hand the costumer in the fifth row has been working longer than she is old.\n",
    "The same education degree in the column 'education' has been written with different uppercase and lowercase letters."
   ]
  },
  {
   "cell_type": "markdown",
   "metadata": {},
   "source": [
    "<a id=\"2\"></a>"
   ]
  },
  {
   "cell_type": "markdown",
   "metadata": {},
   "source": [
    "## Data preprocessing"
   ]
  },
  {
   "cell_type": "markdown",
   "metadata": {},
   "source": [
    "<a id=\"2.1\"></a>"
   ]
  },
  {
   "cell_type": "markdown",
   "metadata": {},
   "source": [
    "### Processing missing values"
   ]
  },
  {
   "cell_type": "code",
   "execution_count": 5,
   "metadata": {},
   "outputs": [
    {
     "name": "stdout",
     "output_type": "stream",
     "text": [
      "The quote of missing values for the columns 'days_employed' and 'total_income' is 10.10%.\n"
     ]
    }
   ],
   "source": [
    "# numbers for calculating the quote of missing values\n",
    "number = df.isnull().sum()\n",
    "size = len(df)\n",
    "quote = number / size\n",
    "\n",
    "# creating little lists regarding different values for days_employed\n",
    "df_neg = df[df['days_employed'] < 0]\n",
    "df_pos = df[df['days_employed'] > 0]\n",
    "df_nan = df[df['days_employed'].isnull()]\n",
    "df_days_employed = df.loc[:, 'days_employed']\n",
    "\n",
    "print(\"The quote of missing values for the columns 'days_employed' and 'total_income' is {:.2%}.\"\n",
    "      .format(quote['days_employed']))"
   ]
  },
  {
   "cell_type": "code",
   "execution_count": 6,
   "metadata": {},
   "outputs": [
    {
     "name": "stdout",
     "output_type": "stream",
     "text": [
      "Take a look at the maxima and minima of the positive and negative values for 'days_employed':\n",
      "\n",
      "The smallest negative value is -18388.95,\n",
      "The biggest negative value is -24.14,\n",
      "The smallest positive value is 328728.72,\n",
      "The biggest positive value is 401755.40.\n",
      "\n",
      "The smallest negative value for days employed corresponds to -50 years.\n",
      "The smallest positive value for days employed corresponds to 901 years,\n"
     ]
    }
   ],
   "source": [
    "print(\"Take a look at the maxima and minima of the positive and negative values for 'days_employed':\")\n",
    "print()\n",
    "print('The smallest negative value is {:.2f},'.format(df_days_employed.loc[df['days_employed'] < 0].min()))\n",
    "print('The biggest negative value is {:.2f},'.format(df_days_employed.loc[df['days_employed'] < 0].max()))\n",
    "print('The smallest positive value is {:.2f},'.format(df_days_employed.loc[df['days_employed'] > 0].min()))\n",
    "print('The biggest positive value is {:.2f}.'.format(df_days_employed.loc[df['days_employed'] > 0].max()))\n",
    "print()\n",
    "print(\"The smallest negative value for days employed corresponds to {:.0f} years.\"\n",
    "      .format(df_days_employed.loc[df['days_employed'] < 0].min()/365))\n",
    "print(\"The smallest positive value for days employed corresponds to {:.0f} years,\"\n",
    "      .format(df_days_employed.loc[df['days_employed'] > 0].min()/365))"
   ]
  },
  {
   "cell_type": "markdown",
   "metadata": {},
   "source": [
    "You can see that values like 900 years are absolutely unrealistic while values like 24 days as a minimum and 50 years as a maximum are much more realistic."
   ]
  },
  {
   "cell_type": "code",
   "execution_count": 7,
   "metadata": {},
   "outputs": [
    {
     "name": "stdout",
     "output_type": "stream",
     "text": [
      "There are 0 entries with zero days employed.\n"
     ]
    }
   ],
   "source": [
    "print(\"There are {} entries with zero days employed.\".format(len(df[df['days_employed'] == 0])))"
   ]
  },
  {
   "cell_type": "code",
   "execution_count": 8,
   "metadata": {},
   "outputs": [
    {
     "name": "stdout",
     "output_type": "stream",
     "text": [
      "Number of costumers with negative values grouped by income types:\n",
      "employee                       10014\n",
      "business                        4577\n",
      "civil servant                   1312\n",
      "paternity / maternity leave        1\n",
      "entrepreneur                       1\n",
      "student                            1\n",
      "Name: income_type, dtype: int64\n",
      "\n",
      "Number of costumers with positive values grouped by income types:\n",
      "retiree       3443\n",
      "unemployed       2\n",
      "Name: income_type, dtype: int64\n",
      "\n",
      "Number of costumers with missing values grouped by income types:\n",
      "employee         1105\n",
      "business          508\n",
      "retiree           413\n",
      "civil servant     147\n",
      "entrepreneur        1\n",
      "Name: income_type, dtype: int64\n"
     ]
    }
   ],
   "source": [
    "# I differentiate between positive, negative and missing values in the column 'days_employed' for each type of income:\n",
    "\n",
    "print('Number of costumers with negative values grouped by income types:')\n",
    "print(df_neg['income_type'].value_counts())\n",
    "print()\n",
    "print('Number of costumers with positive values grouped by income types:')\n",
    "print(df_pos['income_type'].value_counts())\n",
    "print()\n",
    "print('Number of costumers with missing values grouped by income types:')\n",
    "print(df_nan['income_type'].value_counts())"
   ]
  },
  {
   "cell_type": "code",
   "execution_count": 9,
   "metadata": {},
   "outputs": [],
   "source": [
    "# For the retirees we only have positive and missing values in the column 'days_employed'.\n",
    "# Since the smallest negative value in the column 'days_employed' corresponds to -50 years and the smallest positive value\n",
    "# corresponds to 901 years, I set the value in the column 'days_employed' for the retirees to 51 years;\n",
    "# that corresponds to 18615 days days employed.\n",
    "\n",
    "df.loc[df['income_type'] == 'retiree', 'days_employed'] = - 18615.00\n",
    "\n",
    "# Since the unemployed costumers only have positive values in this column which are unrealistic high and\n",
    "# since they aren't employed, I set their value for this column to zero.\n",
    "\n",
    "df.loc[df['income_type'] == 'unemployed', 'days_employed'] = - 0.00"
   ]
  },
  {
   "cell_type": "code",
   "execution_count": 10,
   "metadata": {},
   "outputs": [],
   "source": [
    "# now all values for days employed are whether missing or negative, so transform them to positive:\n",
    "df['days_employed'] = -df['days_employed']"
   ]
  },
  {
   "cell_type": "code",
   "execution_count": 11,
   "metadata": {},
   "outputs": [
    {
     "name": "stdout",
     "output_type": "stream",
     "text": [
      "Grouped by the type of income, I calculate the means and the medians of the days employed:\n",
      "\n",
      "medians:\n",
      "income_type\n",
      "business                        1547.382223\n",
      "civil servant                   2689.368353\n",
      "employee                        1574.202821\n",
      "entrepreneur                     520.848083\n",
      "paternity / maternity leave     3296.759962\n",
      "retiree                        18615.000000\n",
      "student                          578.751554\n",
      "unemployed                         0.000000\n",
      "Name: days_employed, dtype: float64\n",
      "\n",
      "means:\n",
      "income_type\n",
      "business                        2111.524398\n",
      "civil servant                   3399.896902\n",
      "employee                        2326.499216\n",
      "entrepreneur                     520.848083\n",
      "paternity / maternity leave     3296.759962\n",
      "retiree                        18615.000000\n",
      "student                          578.751554\n",
      "unemployed                         0.000000\n",
      "Name: days_employed, dtype: float64\n"
     ]
    }
   ],
   "source": [
    "print(\"Grouped by the type of income, I calculate the means and the medians of the days employed:\")\n",
    "print()\n",
    "print('medians:')\n",
    "print(df.groupby('income_type')['days_employed'].median())\n",
    "print()\n",
    "print('means:')\n",
    "print(df.groupby('income_type')['days_employed'].mean())"
   ]
  },
  {
   "cell_type": "markdown",
   "metadata": {},
   "source": [
    "The means are significantly higher or equal to the corresponding medians."
   ]
  },
  {
   "cell_type": "markdown",
   "metadata": {},
   "source": [
    "For the remaining types of income I calculate the median of the days employed for every type and replace the missing values in the column 'days_employed' corresponding to the type of income (without minus sign) by using the fillna() method."
   ]
  },
  {
   "cell_type": "code",
   "execution_count": 12,
   "metadata": {},
   "outputs": [],
   "source": [
    "# create list with all income types besides 'retiree' and 'unemployed'\n",
    "type_list = ['employee', 'civil servant', 'business', 'student', 'entrepreneur', 'paternity / maternity leave']\n",
    "\n",
    "# create a function that fills the missing days employed with the median value regarding the income type:\n",
    "def fill_missing_days(income_type):\n",
    "    df.loc[df['income_type'] == income_type, 'days_employed'] = \\\n",
    "            df['days_employed'].fillna(value = df.loc[df['income_type'] == income_type, 'days_employed'].median())\n",
    "\n",
    "# apply that function on all types of the type list\n",
    "for income_type in type_list:\n",
    "    fill_missing_days(income_type)"
   ]
  },
  {
   "cell_type": "code",
   "execution_count": 13,
   "metadata": {},
   "outputs": [
    {
     "name": "stdout",
     "output_type": "stream",
     "text": [
      "Take a look at the medians and the means of the total income grouped by the type of income:\n",
      "\n",
      "medians:\n",
      "income_type\n",
      "business                       27577.2720\n",
      "civil servant                  24071.6695\n",
      "employee                       22815.1035\n",
      "entrepreneur                   79866.1030\n",
      "paternity / maternity leave     8612.6610\n",
      "retiree                        18962.3180\n",
      "student                        15712.2600\n",
      "unemployed                     21014.3605\n",
      "Name: total_income, dtype: float64\n",
      "\n",
      "means:\n",
      "income_type\n",
      "business                       32386.793835\n",
      "civil servant                  27343.729582\n",
      "employee                       25820.841683\n",
      "entrepreneur                   79866.103000\n",
      "paternity / maternity leave     8612.661000\n",
      "retiree                        21940.394503\n",
      "student                        15712.260000\n",
      "unemployed                     21014.360500\n",
      "Name: total_income, dtype: float64\n"
     ]
    }
   ],
   "source": [
    "print(\"Take a look at the medians and the means of the total income grouped by the type of income:\")\n",
    "print()\n",
    "print(\"medians:\")\n",
    "print(df.groupby('income_type')['total_income'].median())\n",
    "print()\n",
    "print(\"means:\")\n",
    "print(df.groupby('income_type')['total_income'].mean())"
   ]
  },
  {
   "cell_type": "code",
   "execution_count": 14,
   "metadata": {},
   "outputs": [
    {
     "name": "stdout",
     "output_type": "stream",
     "text": [
      "There are 0 missing values left in the whole table.\n"
     ]
    }
   ],
   "source": [
    "# Here also the means are significantly higher or equal to the corresponding medians,\n",
    "# so I replace the missing values in the column 'total_income' with the corresponding median using a function depending\n",
    "# on the type of income\n",
    "def fill_missing_incomes(income_type):\n",
    "    df.loc[df['income_type'] == income_type, 'total_income'] = \\\n",
    "            df['total_income'].fillna(value = df.loc[df['income_type'] == income_type, 'total_income'].median())\n",
    "\n",
    "# apply function on all income types\n",
    "for income_type in df['income_type'].unique():\n",
    "    fill_missing_incomes(income_type)\n",
    "    \n",
    "print(\"There are {:.0f} missing values left in the whole table.\".format(df.isnull().sum().sum()))"
   ]
  },
  {
   "cell_type": "markdown",
   "metadata": {},
   "source": [
    "#### Conclusion"
   ]
  },
  {
   "cell_type": "markdown",
   "metadata": {},
   "source": [
    "I identified missing values in the columns 'total_income' and 'days_employed'.\n",
    "Only the negative values in the column 'days_employed' had realistic values,\n",
    "so I didn't use the positive values in this column to calculate values for the missing values. <br>\n",
    "I thought that things like the days employed and the total income are depending strongly on the type of income.\n",
    "That's the reason I compared the means and the medians for both columns grouped by the type of income.\n",
    "Since the means are significantly higher or equal to the corresponding medians, I replaced the\n",
    "missing values with the corresponding medians by using the fillna() method. <br>\n",
    "That's not the method I used for unemployed and retired costumers in the column 'days_employed', as they had only missing or unrealistic high positive values. In these cases, I set the days employed for retirees a bit bigger than the biggest value for days employed in the table (51 years); for unemployed people it makes more sense to set zero days for days employed than to have values like 900 years. <br>\n",
    "There are manys types of income for which we have missing values, so it's possible that these costumers just\n",
    "haven't given information to the question of days employed.\n",
    "Since the only costumers having unrealistic high values for days employed\n",
    "are unemployed or retired, possibly the system processing the noted data can't handle the value '0' for days employed."
   ]
  },
  {
   "cell_type": "markdown",
   "metadata": {},
   "source": [
    "<a id=\"2.2\"></a>"
   ]
  },
  {
   "cell_type": "markdown",
   "metadata": {},
   "source": [
    "### Data type replacement"
   ]
  },
  {
   "cell_type": "code",
   "execution_count": 15,
   "metadata": {},
   "outputs": [
    {
     "name": "stdout",
     "output_type": "stream",
     "text": [
      "The smallest value for the total income in the list is 3306.762 units.\n",
      "<class 'pandas.core.frame.DataFrame'>\n",
      "RangeIndex: 21525 entries, 0 to 21524\n",
      "Data columns (total 12 columns):\n",
      "children            21525 non-null int64\n",
      "days_employed       21525 non-null int32\n",
      "dob_years           21525 non-null int64\n",
      "education           21525 non-null object\n",
      "education_id        21525 non-null int64\n",
      "family_status       21525 non-null object\n",
      "family_status_id    21525 non-null int64\n",
      "gender              21525 non-null object\n",
      "income_type         21525 non-null object\n",
      "debt                21525 non-null int64\n",
      "total_income        21525 non-null int32\n",
      "purpose             21525 non-null object\n",
      "dtypes: int32(2), int64(5), object(5)\n",
      "memory usage: 1.8+ MB\n"
     ]
    }
   ],
   "source": [
    "# value for smallest total income\n",
    "smallest_income = df['total_income'].min()\n",
    "\n",
    "print(\"The smallest value for the total income in the list is {} units.\".format(smallest_income))\n",
    "\n",
    "# use the astype() method to transform the both columns into int64 type:\n",
    "try:\n",
    "    df['total_income'] = df['total_income'].astype('int')\n",
    "    df['days_employed'] = df['days_employed'].astype('int')\n",
    "except:\n",
    "    print(\"Couldn't transform into int64 type.\")\n",
    "    \n",
    "df.info()"
   ]
  },
  {
   "cell_type": "markdown",
   "metadata": {},
   "source": [
    "#### Conclusion"
   ]
  },
  {
   "cell_type": "markdown",
   "metadata": {},
   "source": [
    "I used the astype() method to change the columns that were in the float64 type into the int64 type because this is an easy method doing this type change to a table. It doesn't make sense to note a half day of employment in this table. As the smallest value for the total income is 3307 units, the deficit by rounding the income to an integer is negligible."
   ]
  },
  {
   "cell_type": "markdown",
   "metadata": {},
   "source": [
    "<a id=\"2.3\"></a>"
   ]
  },
  {
   "cell_type": "markdown",
   "metadata": {},
   "source": [
    "### Processing duplicates"
   ]
  },
  {
   "cell_type": "code",
   "execution_count": 16,
   "metadata": {},
   "outputs": [
    {
     "name": "stdout",
     "output_type": "stream",
     "text": [
      "There are 54 duplicates in the DataFrame.\n"
     ]
    }
   ],
   "source": [
    "print(\"There are {} duplicates in the DataFrame.\".format(df.duplicated().sum()))\n",
    "\n",
    "# Delete them\n",
    "df = df.drop_duplicates().reset_index(drop = True)"
   ]
  },
  {
   "cell_type": "code",
   "execution_count": 17,
   "metadata": {},
   "outputs": [
    {
     "name": "stdout",
     "output_type": "stream",
     "text": [
      "I group by the elements in every object typed column:\n",
      "\n",
      "F      14189\n",
      "M       7281\n",
      "XNA        1\n",
      "Name: gender, dtype: int64\n",
      "\n",
      "secondary education    13705\n",
      "bachelor's degree       4710\n",
      "SECONDARY EDUCATION      772\n",
      "Secondary Education      711\n",
      "some college             668\n",
      "BACHELOR'S DEGREE        273\n",
      "Bachelor's Degree        268\n",
      "primary education        250\n",
      "Some College              47\n",
      "SOME COLLEGE              29\n",
      "PRIMARY EDUCATION         17\n",
      "Primary Education         15\n",
      "graduate degree            4\n",
      "Graduate Degree            1\n",
      "GRADUATE DEGREE            1\n",
      "Name: education, dtype: int64\n",
      "\n",
      "married              12344\n",
      "civil partnership     4163\n",
      "unmarried             2810\n",
      "divorced              1195\n",
      "widow / widower        959\n",
      "Name: family_status, dtype: int64\n",
      "\n",
      "employee                       11091\n",
      "business                        5080\n",
      "retiree                         3837\n",
      "civil servant                   1457\n",
      "entrepreneur                       2\n",
      "unemployed                         2\n",
      "student                            1\n",
      "paternity / maternity leave        1\n",
      "Name: income_type, dtype: int64\n",
      "\n",
      "wedding ceremony                            793\n",
      "having a wedding                            773\n",
      "to have a wedding                           769\n",
      "real estate transactions                    675\n",
      "buy commercial real estate                  662\n",
      "housing transactions                        652\n",
      "buying property for renting out             652\n",
      "transactions with commercial real estate    650\n",
      "purchase of the house                       646\n",
      "housing                                     646\n",
      "purchase of the house for my family         638\n",
      "construction of own property                635\n",
      "property                                    633\n",
      "transactions with my real estate            627\n",
      "building a real estate                      625\n",
      "buy real estate                             621\n",
      "purchase of my own house                    620\n",
      "building a property                         619\n",
      "housing renovation                          607\n",
      "buy residential real estate                 606\n",
      "buying my own car                           505\n",
      "going to university                         496\n",
      "car                                         494\n",
      "second-hand car purchase                    486\n",
      "to own a car                                479\n",
      "buying a second-hand car                    478\n",
      "cars                                        478\n",
      "to buy a car                                472\n",
      "car purchase                                461\n",
      "supplementary education                     460\n",
      "purchase of a car                           455\n",
      "university education                        452\n",
      "to get a supplementary education            447\n",
      "education                                   447\n",
      "getting an education                        442\n",
      "profile education                           436\n",
      "getting higher education                    426\n",
      "to become educated                          408\n",
      "Name: purpose, dtype: int64\n"
     ]
    }
   ],
   "source": [
    "print(\"I group by the elements in every object typed column:\")\n",
    "print()\n",
    "print(df['gender'].value_counts())\n",
    "print()\n",
    "print(df['education'].value_counts())\n",
    "print()\n",
    "print(df['family_status'].value_counts())\n",
    "print()\n",
    "print(df['income_type'].value_counts())\n",
    "print()\n",
    "print(df['purpose'].value_counts())"
   ]
  },
  {
   "cell_type": "markdown",
   "metadata": {},
   "source": [
    "The only columns with ambiguous entries are 'education' and 'purpose'. <br>\n",
    "In the table 'education' you can see that we have the following categories: <br>\n",
    "bachelor's degree, graduate degree, primary education, secondary education, some college"
   ]
  },
  {
   "cell_type": "code",
   "execution_count": 18,
   "metadata": {},
   "outputs": [
    {
     "name": "stdout",
     "output_type": "stream",
     "text": [
      "I transform all letters in the column 'education' to lowercase letters.\n",
      "Let's check the column 'education':\n",
      "\n",
      "secondary education    15188\n",
      "bachelor's degree       5251\n",
      "some college             744\n",
      "primary education        282\n",
      "graduate degree            6\n",
      "Name: education, dtype: int64\n"
     ]
    }
   ],
   "source": [
    "print(\"I transform all letters in the column 'education' to lowercase letters.\")\n",
    "df['education'] = df['education'].str.lower()\n",
    "print(\"Let's check the column 'education':\")\n",
    "print()\n",
    "print(df['education'].value_counts())"
   ]
  },
  {
   "cell_type": "code",
   "execution_count": 19,
   "metadata": {},
   "outputs": [],
   "source": [
    "# safe the data\n",
    "df_2 = df"
   ]
  },
  {
   "cell_type": "code",
   "execution_count": 20,
   "metadata": {},
   "outputs": [
    {
     "name": "stdout",
     "output_type": "stream",
     "text": [
      "I now define categories for purposes to find more duplicates:\n",
      "\n",
      "property                  8895\n",
      "education                 4014\n",
      "new car                   3344\n",
      "wedding                   2335\n",
      "commercial real estate    1312\n",
      "second-hand car            964\n",
      "housing renovation         607\n",
      "Name: purpose, dtype: int64\n"
     ]
    }
   ],
   "source": [
    "print(\"I now define categories for purposes to find more duplicates:\")\n",
    "for i in range(len(df_2)):\n",
    "    words = nltk.word_tokenize(df_2.loc[i, 'purpose'])\n",
    "    lemmas = [wordnet_lemma.lemmatize(w, pos = 'n') for w in words]\n",
    "    if 'education' in lemmas or 'university' in lemmas or 'educated' in lemmas:\n",
    "        df_2.loc[i, 'purpose'] = 'education'\n",
    "    elif 'wedding' in lemmas:\n",
    "        df_2.loc[i, 'purpose'] = 'wedding'\n",
    "    elif 'second-hand' in lemmas:\n",
    "        df_2.loc[i, 'purpose'] = 'second-hand car'\n",
    "    elif 'car' in lemmas and not 'second-hand' in lemmas:\n",
    "        df_2.loc[i, 'purpose'] = 'new car'\n",
    "    elif 'renovation' in lemmas:\n",
    "        df_2.loc[i, 'purpose'] = 'housing renovation'\n",
    "    elif 'commercial' in lemmas:\n",
    "        df_2.loc[i, 'purpose'] = 'commercial real estate'\n",
    "    else:\n",
    "        df_2.loc[i, 'purpose'] = 'property'\n",
    "print()\n",
    "print(df_2['purpose'].value_counts())"
   ]
  },
  {
   "cell_type": "code",
   "execution_count": 21,
   "metadata": {},
   "outputs": [
    {
     "name": "stdout",
     "output_type": "stream",
     "text": [
      "There are still 282 duplicates in the data frame that I delete.\n"
     ]
    }
   ],
   "source": [
    "dupl_sum = df_2.duplicated().sum()\n",
    "print(\"There are still {} duplicates in the data frame that I delete.\".format(dupl_sum))\n",
    "df_2 = df_2.drop_duplicates().reset_index(drop = True)"
   ]
  },
  {
   "cell_type": "code",
   "execution_count": 22,
   "metadata": {},
   "outputs": [
    {
     "name": "stdout",
     "output_type": "stream",
     "text": [
      "I now define categories for purposes more roughly to find more duplicates:\n",
      "\n",
      "property     10814\n",
      "car           4308\n",
      "education     4014\n",
      "wedding       2335\n",
      "Name: purpose, dtype: int64\n"
     ]
    }
   ],
   "source": [
    "print(\"I now define categories for purposes more roughly to find more duplicates:\")\n",
    "for i in range(len(df)):\n",
    "    words = nltk.word_tokenize(df.loc[i, 'purpose'])\n",
    "    lemmas = [wordnet_lemma.lemmatize(w, pos = 'n') for w in words]\n",
    "    if 'education' in lemmas or 'university' in lemmas or 'educated' in lemmas:\n",
    "        df.loc[i, 'purpose'] = 'education'\n",
    "    if 'wedding' in lemmas:\n",
    "        df.loc[i, 'purpose'] = 'wedding'\n",
    "    if 'car' in lemmas:\n",
    "        df.loc[i, 'purpose'] = 'car'\n",
    "    if 'housing' in lemmas or 'house' in lemmas or 'estate' in lemmas or 'property' in lemmas:\n",
    "        df.loc[i, 'purpose'] = 'property'\n",
    "print()\n",
    "print(df['purpose'].value_counts())"
   ]
  },
  {
   "cell_type": "code",
   "execution_count": 23,
   "metadata": {
    "scrolled": true
   },
   "outputs": [
    {
     "name": "stdout",
     "output_type": "stream",
     "text": [
      "There are still 69 duplicates in the data frame that I delete.\n"
     ]
    }
   ],
   "source": [
    "print(\"There are still {} duplicates in the data frame that I delete.\"\n",
    "      .format(df.duplicated().sum()-dupl_sum))\n",
    "df = df.drop_duplicates().reset_index(drop = True)"
   ]
  },
  {
   "cell_type": "code",
   "execution_count": 24,
   "metadata": {},
   "outputs": [
    {
     "name": "stdout",
     "output_type": "stream",
     "text": [
      "Let's look at the tables again:\n",
      "\n",
      "property                  8716\n",
      "education                 3964\n",
      "new car                   3322\n",
      "wedding                   2306\n",
      "commercial real estate    1311\n",
      "second-hand car            963\n",
      "housing renovation         607\n",
      "Name: purpose, dtype: int64\n",
      "\n",
      "property     10578\n",
      "car           4272\n",
      "education     3964\n",
      "wedding       2306\n",
      "Name: purpose, dtype: int64\n",
      "\n",
      "It's important to note that the table with more differentiated purposes includes 69 duplicates.\n"
     ]
    }
   ],
   "source": [
    "print(\"Let's look at the tables again:\")\n",
    "print()\n",
    "print(df_2['purpose'].value_counts())\n",
    "print()\n",
    "print(df['purpose'].value_counts())\n",
    "print()\n",
    "print(\"It's important to note that the table with more differentiated purposes includes 69 duplicates.\")"
   ]
  },
  {
   "cell_type": "markdown",
   "metadata": {},
   "source": [
    "#### Conclusion"
   ]
  },
  {
   "cell_type": "markdown",
   "metadata": {},
   "source": [
    "There are many ambiguous strings in the columns 'education' and 'purpose', so I counted the number of entries for each string. I saw that I could summarize the purposes by hand. With the word_tokenize() method I created a list for each string in the column 'purpose'. Using the lemmatize() method to nouns I could avoid mistakes like separating 'cars' and 'car'. By creating many if-cases I could summarize the purposes. I also observed that in the column 'education' the only differences of ambiguous strings were uppercase and lowercase letters. I've applied the str.lower() method to be sure every letter is lowercase. <br> \n",
    "After having reduced the number of strings in these two columns, I could find many more duplicates. A possible reason for these duplicates is that some costumers had numerous discussions about the loans in the bank and those customers had to write their reasons for the loan into the data processing system multiple times; the customers or the bank employees didn't pay attention to uppercase and lowercase letters and to the exactness of the purpose while writing down the reasons."
   ]
  },
  {
   "cell_type": "markdown",
   "metadata": {},
   "source": [
    "<a id=\"2.4\"></a>"
   ]
  },
  {
   "cell_type": "markdown",
   "metadata": {},
   "source": [
    "### Categorizing data"
   ]
  },
  {
   "cell_type": "code",
   "execution_count": 25,
   "metadata": {},
   "outputs": [
    {
     "name": "stdout",
     "output_type": "stream",
     "text": [
      "Let's see the values for the highest and the lowest total incomes:\n",
      "\n",
      "14386    3306\n",
      "12843    3392\n",
      "15935    3418\n",
      "Name: total_income, dtype: int32\n",
      "\n",
      "9082     276204\n",
      "19265    352136\n",
      "12262    362496\n",
      "Name: total_income, dtype: int32\n"
     ]
    }
   ],
   "source": [
    "print(\"Let's see the values for the highest and the lowest total incomes:\")\n",
    "print()\n",
    "print(df['total_income'].sort_values().head(3))\n",
    "print()\n",
    "print(df['total_income'].sort_values().tail(3))"
   ]
  },
  {
   "cell_type": "code",
   "execution_count": 26,
   "metadata": {},
   "outputs": [
    {
     "name": "stdout",
     "output_type": "stream",
     "text": [
      "The table has 21120 rows. I sort the table by total income\n",
      "and divide the number of clients in three groups of equal size. In the sorted table, we have:\n",
      "Total income of customer 7040: 19055\n",
      "Total income of customer 14080: 27577\n"
     ]
    }
   ],
   "source": [
    "print(\"The table has {} rows. I sort the table by total income\".format(len(df)))\n",
    "df_sorted = df['total_income'].sort_values().reset_index(drop = True)\n",
    "print(\"and divide the number of clients in three groups of equal size. In the sorted table, we have:\")\n",
    "print(\"Total income of customer 7040: {}\".format(df_sorted.loc[7039]))\n",
    "print(\"Total income of customer 14080: {}\".format(df_sorted.loc[14079]))"
   ]
  },
  {
   "cell_type": "code",
   "execution_count": 27,
   "metadata": {},
   "outputs": [],
   "source": [
    "# I define a function that attaches an income level to each costumer. With the function,\n",
    "# I create a new column 'income_third' with the possible entries 'lower third', 'middle third' and 'upper third'.\n",
    "# For example, middle third means that the costumer's total income is higher than the income of 33% other costumers,\n",
    "# but also lower than 33% of the other costumers's incomes.\n",
    "\n",
    "# define a function that attaches a total income to a third group of income\n",
    "def income_third_func(row):\n",
    "    income = row['total_income']\n",
    "    if income <= df_sorted.loc[7039]:\n",
    "        return 'lower third'\n",
    "    if income > df_sorted.loc[14079]:\n",
    "        return 'upper third'\n",
    "    return 'middle third'\n",
    "\n",
    "df['income_third'] = df.apply(income_third_func, axis = 1)"
   ]
  },
  {
   "cell_type": "code",
   "execution_count": 28,
   "metadata": {},
   "outputs": [],
   "source": [
    "# I define another column: 'income_level'. There I define a new function that tells us, if the\n",
    "# total income is at most 9999 ('4-digit'), at most 99999 ('5-digit') or at least 100,000 ('6-digit').\n",
    "\n",
    "# define a function that attaches a total income to its number of digits\n",
    "def income_level_func(row):\n",
    "    income = row['total_income']\n",
    "    if income <= 9999:\n",
    "        return '4-digit'\n",
    "    if income > 99999:\n",
    "        return '6-digit'\n",
    "    return '5-digit'\n",
    "\n",
    "df['income_level'] = df.apply(income_level_func, axis = 1)"
   ]
  },
  {
   "cell_type": "code",
   "execution_count": 29,
   "metadata": {},
   "outputs": [
    {
     "data": {
      "text/html": [
       "<div>\n",
       "<style scoped>\n",
       "    .dataframe tbody tr th:only-of-type {\n",
       "        vertical-align: middle;\n",
       "    }\n",
       "\n",
       "    .dataframe tbody tr th {\n",
       "        vertical-align: top;\n",
       "    }\n",
       "\n",
       "    .dataframe thead th {\n",
       "        text-align: right;\n",
       "    }\n",
       "</style>\n",
       "<table border=\"1\" class=\"dataframe\">\n",
       "  <thead>\n",
       "    <tr style=\"text-align: right;\">\n",
       "      <th></th>\n",
       "      <th>children</th>\n",
       "      <th>days_employed</th>\n",
       "      <th>dob_years</th>\n",
       "      <th>education</th>\n",
       "      <th>education_id</th>\n",
       "      <th>family_status</th>\n",
       "      <th>family_status_id</th>\n",
       "      <th>gender</th>\n",
       "      <th>income_type</th>\n",
       "      <th>debt</th>\n",
       "      <th>total_income</th>\n",
       "      <th>purpose</th>\n",
       "      <th>income_third</th>\n",
       "      <th>income_level</th>\n",
       "    </tr>\n",
       "  </thead>\n",
       "  <tbody>\n",
       "    <tr>\n",
       "      <td>0</td>\n",
       "      <td>1</td>\n",
       "      <td>8437</td>\n",
       "      <td>42</td>\n",
       "      <td>bachelor's degree</td>\n",
       "      <td>0</td>\n",
       "      <td>married</td>\n",
       "      <td>0</td>\n",
       "      <td>F</td>\n",
       "      <td>employee</td>\n",
       "      <td>0</td>\n",
       "      <td>40620</td>\n",
       "      <td>property</td>\n",
       "      <td>upper third</td>\n",
       "      <td>5-digit</td>\n",
       "    </tr>\n",
       "    <tr>\n",
       "      <td>1</td>\n",
       "      <td>1</td>\n",
       "      <td>4024</td>\n",
       "      <td>36</td>\n",
       "      <td>secondary education</td>\n",
       "      <td>1</td>\n",
       "      <td>married</td>\n",
       "      <td>0</td>\n",
       "      <td>F</td>\n",
       "      <td>employee</td>\n",
       "      <td>0</td>\n",
       "      <td>17932</td>\n",
       "      <td>car</td>\n",
       "      <td>lower third</td>\n",
       "      <td>5-digit</td>\n",
       "    </tr>\n",
       "    <tr>\n",
       "      <td>2</td>\n",
       "      <td>0</td>\n",
       "      <td>5623</td>\n",
       "      <td>33</td>\n",
       "      <td>secondary education</td>\n",
       "      <td>1</td>\n",
       "      <td>married</td>\n",
       "      <td>0</td>\n",
       "      <td>M</td>\n",
       "      <td>employee</td>\n",
       "      <td>0</td>\n",
       "      <td>23341</td>\n",
       "      <td>property</td>\n",
       "      <td>middle third</td>\n",
       "      <td>5-digit</td>\n",
       "    </tr>\n",
       "    <tr>\n",
       "      <td>3</td>\n",
       "      <td>3</td>\n",
       "      <td>4124</td>\n",
       "      <td>32</td>\n",
       "      <td>secondary education</td>\n",
       "      <td>1</td>\n",
       "      <td>married</td>\n",
       "      <td>0</td>\n",
       "      <td>M</td>\n",
       "      <td>employee</td>\n",
       "      <td>0</td>\n",
       "      <td>42820</td>\n",
       "      <td>education</td>\n",
       "      <td>upper third</td>\n",
       "      <td>5-digit</td>\n",
       "    </tr>\n",
       "    <tr>\n",
       "      <td>4</td>\n",
       "      <td>0</td>\n",
       "      <td>18615</td>\n",
       "      <td>53</td>\n",
       "      <td>secondary education</td>\n",
       "      <td>1</td>\n",
       "      <td>civil partnership</td>\n",
       "      <td>1</td>\n",
       "      <td>F</td>\n",
       "      <td>retiree</td>\n",
       "      <td>0</td>\n",
       "      <td>25378</td>\n",
       "      <td>wedding</td>\n",
       "      <td>middle third</td>\n",
       "      <td>5-digit</td>\n",
       "    </tr>\n",
       "    <tr>\n",
       "      <td>5</td>\n",
       "      <td>0</td>\n",
       "      <td>926</td>\n",
       "      <td>27</td>\n",
       "      <td>bachelor's degree</td>\n",
       "      <td>0</td>\n",
       "      <td>civil partnership</td>\n",
       "      <td>1</td>\n",
       "      <td>M</td>\n",
       "      <td>business</td>\n",
       "      <td>0</td>\n",
       "      <td>40922</td>\n",
       "      <td>property</td>\n",
       "      <td>upper third</td>\n",
       "      <td>5-digit</td>\n",
       "    </tr>\n",
       "    <tr>\n",
       "      <td>6</td>\n",
       "      <td>0</td>\n",
       "      <td>2879</td>\n",
       "      <td>43</td>\n",
       "      <td>bachelor's degree</td>\n",
       "      <td>0</td>\n",
       "      <td>married</td>\n",
       "      <td>0</td>\n",
       "      <td>F</td>\n",
       "      <td>business</td>\n",
       "      <td>0</td>\n",
       "      <td>38484</td>\n",
       "      <td>property</td>\n",
       "      <td>upper third</td>\n",
       "      <td>5-digit</td>\n",
       "    </tr>\n",
       "    <tr>\n",
       "      <td>7</td>\n",
       "      <td>0</td>\n",
       "      <td>152</td>\n",
       "      <td>50</td>\n",
       "      <td>secondary education</td>\n",
       "      <td>1</td>\n",
       "      <td>married</td>\n",
       "      <td>0</td>\n",
       "      <td>M</td>\n",
       "      <td>employee</td>\n",
       "      <td>0</td>\n",
       "      <td>21731</td>\n",
       "      <td>education</td>\n",
       "      <td>middle third</td>\n",
       "      <td>5-digit</td>\n",
       "    </tr>\n",
       "    <tr>\n",
       "      <td>8</td>\n",
       "      <td>2</td>\n",
       "      <td>6929</td>\n",
       "      <td>35</td>\n",
       "      <td>bachelor's degree</td>\n",
       "      <td>0</td>\n",
       "      <td>civil partnership</td>\n",
       "      <td>1</td>\n",
       "      <td>F</td>\n",
       "      <td>employee</td>\n",
       "      <td>0</td>\n",
       "      <td>15337</td>\n",
       "      <td>wedding</td>\n",
       "      <td>lower third</td>\n",
       "      <td>5-digit</td>\n",
       "    </tr>\n",
       "    <tr>\n",
       "      <td>9</td>\n",
       "      <td>0</td>\n",
       "      <td>2188</td>\n",
       "      <td>41</td>\n",
       "      <td>secondary education</td>\n",
       "      <td>1</td>\n",
       "      <td>married</td>\n",
       "      <td>0</td>\n",
       "      <td>M</td>\n",
       "      <td>employee</td>\n",
       "      <td>0</td>\n",
       "      <td>23108</td>\n",
       "      <td>property</td>\n",
       "      <td>middle third</td>\n",
       "      <td>5-digit</td>\n",
       "    </tr>\n",
       "  </tbody>\n",
       "</table>\n",
       "</div>"
      ],
      "text/plain": [
       "   children  days_employed  dob_years            education  education_id  \\\n",
       "0         1           8437         42    bachelor's degree             0   \n",
       "1         1           4024         36  secondary education             1   \n",
       "2         0           5623         33  secondary education             1   \n",
       "3         3           4124         32  secondary education             1   \n",
       "4         0          18615         53  secondary education             1   \n",
       "5         0            926         27    bachelor's degree             0   \n",
       "6         0           2879         43    bachelor's degree             0   \n",
       "7         0            152         50  secondary education             1   \n",
       "8         2           6929         35    bachelor's degree             0   \n",
       "9         0           2188         41  secondary education             1   \n",
       "\n",
       "       family_status  family_status_id gender income_type  debt  total_income  \\\n",
       "0            married                 0      F    employee     0         40620   \n",
       "1            married                 0      F    employee     0         17932   \n",
       "2            married                 0      M    employee     0         23341   \n",
       "3            married                 0      M    employee     0         42820   \n",
       "4  civil partnership                 1      F     retiree     0         25378   \n",
       "5  civil partnership                 1      M    business     0         40922   \n",
       "6            married                 0      F    business     0         38484   \n",
       "7            married                 0      M    employee     0         21731   \n",
       "8  civil partnership                 1      F    employee     0         15337   \n",
       "9            married                 0      M    employee     0         23108   \n",
       "\n",
       "     purpose  income_third income_level  \n",
       "0   property   upper third      5-digit  \n",
       "1        car   lower third      5-digit  \n",
       "2   property  middle third      5-digit  \n",
       "3  education   upper third      5-digit  \n",
       "4    wedding  middle third      5-digit  \n",
       "5   property   upper third      5-digit  \n",
       "6   property   upper third      5-digit  \n",
       "7  education  middle third      5-digit  \n",
       "8    wedding   lower third      5-digit  \n",
       "9   property  middle third      5-digit  "
      ]
     },
     "execution_count": 29,
     "metadata": {},
     "output_type": "execute_result"
    }
   ],
   "source": [
    "# Let's take a look at the extended table:\n",
    "df.head(10)"
   ]
  },
  {
   "cell_type": "markdown",
   "metadata": {},
   "source": [
    "#### Conclusion"
   ]
  },
  {
   "cell_type": "markdown",
   "metadata": {},
   "source": [
    "I decided not to categorize the values in the column 'days_employed' as these values have been revised strongly. <br>\n",
    "I want to know how the values of the other quantitative column 'total_income' are distributed. I divided the costumers in three groups of equal size sorted by the total income. One can assert that the costumer with the biggest income has an over 100 times bigger income than the one with the smallest income. Interestingly, the income of the middle third has a small range from 19055 to 27577. <br> In view of the fact, that the third biggest income is roughly 100,000 units smaller than the biggest income, we can assume huge outliers in the distribution of the total incomes."
   ]
  },
  {
   "cell_type": "markdown",
   "metadata": {},
   "source": [
    "<a id=\"3\"></a>"
   ]
  },
  {
   "cell_type": "markdown",
   "metadata": {},
   "source": [
    "## Analyse relations between variables"
   ]
  },
  {
   "cell_type": "markdown",
   "metadata": {},
   "source": [
    "<a id=\"3.1\"></a>"
   ]
  },
  {
   "cell_type": "markdown",
   "metadata": {},
   "source": [
    "### Relation between having kids and repaying a loan on time"
   ]
  },
  {
   "cell_type": "markdown",
   "metadata": {},
   "source": [
    "Is there a relation between having kids and repaying a loan on time?"
   ]
  },
  {
   "cell_type": "code",
   "execution_count": 30,
   "metadata": {
    "scrolled": true
   },
   "outputs": [],
   "source": [
    "# create a pivot table grouped by number of children including the percentage fractions of debtors\n",
    "kids_debt_table = df.pivot_table(index = 'children', columns = 'debt', values = 'dob_years', aggfunc = 'count')\n",
    "# The NaN value at the following cell corresponds to zero\n",
    "kids_debt_table.loc[5, 1] = 0\n",
    "kids_debt_table['quote_debt_in_percent'] = kids_debt_table[1] / ( kids_debt_table[0] + kids_debt_table[1] ) * 100"
   ]
  },
  {
   "cell_type": "code",
   "execution_count": 31,
   "metadata": {},
   "outputs": [
    {
     "data": {
      "text/html": [
       "<div>\n",
       "<style scoped>\n",
       "    .dataframe tbody tr th:only-of-type {\n",
       "        vertical-align: middle;\n",
       "    }\n",
       "\n",
       "    .dataframe tbody tr th {\n",
       "        vertical-align: top;\n",
       "    }\n",
       "\n",
       "    .dataframe thead th {\n",
       "        text-align: right;\n",
       "    }\n",
       "</style>\n",
       "<table border=\"1\" class=\"dataframe\">\n",
       "  <thead>\n",
       "    <tr style=\"text-align: right;\">\n",
       "      <th>debt</th>\n",
       "      <th>0</th>\n",
       "      <th>1</th>\n",
       "      <th>quote_debt_in_percent</th>\n",
       "    </tr>\n",
       "    <tr>\n",
       "      <th>children</th>\n",
       "      <th></th>\n",
       "      <th></th>\n",
       "      <th></th>\n",
       "    </tr>\n",
       "  </thead>\n",
       "  <tbody>\n",
       "    <tr>\n",
       "      <td>-1</td>\n",
       "      <td>46.0</td>\n",
       "      <td>1.0</td>\n",
       "      <td>2.127660</td>\n",
       "    </tr>\n",
       "    <tr>\n",
       "      <td>0</td>\n",
       "      <td>12768.0</td>\n",
       "      <td>1061.0</td>\n",
       "      <td>7.672283</td>\n",
       "    </tr>\n",
       "    <tr>\n",
       "      <td>1</td>\n",
       "      <td>4307.0</td>\n",
       "      <td>444.0</td>\n",
       "      <td>9.345401</td>\n",
       "    </tr>\n",
       "    <tr>\n",
       "      <td>2</td>\n",
       "      <td>1845.0</td>\n",
       "      <td>194.0</td>\n",
       "      <td>9.514468</td>\n",
       "    </tr>\n",
       "    <tr>\n",
       "      <td>3</td>\n",
       "      <td>302.0</td>\n",
       "      <td>27.0</td>\n",
       "      <td>8.206687</td>\n",
       "    </tr>\n",
       "    <tr>\n",
       "      <td>4</td>\n",
       "      <td>36.0</td>\n",
       "      <td>4.0</td>\n",
       "      <td>10.000000</td>\n",
       "    </tr>\n",
       "    <tr>\n",
       "      <td>5</td>\n",
       "      <td>9.0</td>\n",
       "      <td>0.0</td>\n",
       "      <td>0.000000</td>\n",
       "    </tr>\n",
       "    <tr>\n",
       "      <td>20</td>\n",
       "      <td>68.0</td>\n",
       "      <td>8.0</td>\n",
       "      <td>10.526316</td>\n",
       "    </tr>\n",
       "  </tbody>\n",
       "</table>\n",
       "</div>"
      ],
      "text/plain": [
       "debt            0       1  quote_debt_in_percent\n",
       "children                                        \n",
       "-1           46.0     1.0               2.127660\n",
       " 0        12768.0  1061.0               7.672283\n",
       " 1         4307.0   444.0               9.345401\n",
       " 2         1845.0   194.0               9.514468\n",
       " 3          302.0    27.0               8.206687\n",
       " 4           36.0     4.0              10.000000\n",
       " 5            9.0     0.0               0.000000\n",
       " 20          68.0     8.0              10.526316"
      ]
     },
     "execution_count": 31,
     "metadata": {},
     "output_type": "execute_result"
    }
   ],
   "source": [
    "# The following table counts the status of the costumer's debts and the quote of the customers\n",
    "# having debts in dependency of the number of the customer's children:\n",
    "\n",
    "kids_debt_table"
   ]
  },
  {
   "cell_type": "markdown",
   "metadata": {},
   "source": [
    "In the table's column 'quote_debt_in_percent', there are two outliers: 0% at 5 children and 2% at -1 children. As the amount of costumers having 5 children is very small, this deviation is normal (if we only add one costumer having 5 children to the group with debts, the quote would straightly increase to 10%). The outlier at -1 children must be mistrusted since a bank won't count less than 0 children for a customer. As I already had problems with the minus sign in the column 'days_employed', it's possible that there's once again a problem with the system processing the data put in by the costumer or the bank employee. The more children we assume for a customer the smaller the number of customers having the assumed number of children; we only have 9 customers with 5 children and 0 customers with 6, 7, 8, ... children. Due to this observation I neglect the row with 20 children and 76 customers."
   ]
  },
  {
   "cell_type": "code",
   "execution_count": 32,
   "metadata": {},
   "outputs": [
    {
     "data": {
      "text/html": [
       "<div>\n",
       "<style scoped>\n",
       "    .dataframe tbody tr th:only-of-type {\n",
       "        vertical-align: middle;\n",
       "    }\n",
       "\n",
       "    .dataframe tbody tr th {\n",
       "        vertical-align: top;\n",
       "    }\n",
       "\n",
       "    .dataframe thead th {\n",
       "        text-align: right;\n",
       "    }\n",
       "</style>\n",
       "<table border=\"1\" class=\"dataframe\">\n",
       "  <thead>\n",
       "    <tr style=\"text-align: right;\">\n",
       "      <th>debt</th>\n",
       "      <th>0</th>\n",
       "      <th>1</th>\n",
       "      <th>quote_debt_in_percent</th>\n",
       "    </tr>\n",
       "    <tr>\n",
       "      <th>children</th>\n",
       "      <th></th>\n",
       "      <th></th>\n",
       "      <th></th>\n",
       "    </tr>\n",
       "  </thead>\n",
       "  <tbody>\n",
       "    <tr>\n",
       "      <td>0</td>\n",
       "      <td>12768.0</td>\n",
       "      <td>1061.0</td>\n",
       "      <td>7.672283</td>\n",
       "    </tr>\n",
       "    <tr>\n",
       "      <td>1</td>\n",
       "      <td>4307.0</td>\n",
       "      <td>444.0</td>\n",
       "      <td>9.345401</td>\n",
       "    </tr>\n",
       "    <tr>\n",
       "      <td>2</td>\n",
       "      <td>1845.0</td>\n",
       "      <td>194.0</td>\n",
       "      <td>9.514468</td>\n",
       "    </tr>\n",
       "    <tr>\n",
       "      <td>3</td>\n",
       "      <td>302.0</td>\n",
       "      <td>27.0</td>\n",
       "      <td>8.206687</td>\n",
       "    </tr>\n",
       "    <tr>\n",
       "      <td>4</td>\n",
       "      <td>36.0</td>\n",
       "      <td>4.0</td>\n",
       "      <td>10.000000</td>\n",
       "    </tr>\n",
       "    <tr>\n",
       "      <td>5</td>\n",
       "      <td>9.0</td>\n",
       "      <td>0.0</td>\n",
       "      <td>0.000000</td>\n",
       "    </tr>\n",
       "  </tbody>\n",
       "</table>\n",
       "</div>"
      ],
      "text/plain": [
       "debt            0       1  quote_debt_in_percent\n",
       "children                                        \n",
       "0         12768.0  1061.0               7.672283\n",
       "1          4307.0   444.0               9.345401\n",
       "2          1845.0   194.0               9.514468\n",
       "3           302.0    27.0               8.206687\n",
       "4            36.0     4.0              10.000000\n",
       "5             9.0     0.0               0.000000"
      ]
     },
     "execution_count": 32,
     "metadata": {},
     "output_type": "execute_result"
    }
   ],
   "source": [
    "# drop both rows from the table\n",
    "kids_debt_table = kids_debt_table.loc[0:5]\n",
    "\n",
    "kids_debt_table"
   ]
  },
  {
   "cell_type": "code",
   "execution_count": 33,
   "metadata": {},
   "outputs": [],
   "source": [
    "# number of customers with children\n",
    "df_kids = df[(df['children'] > 0) & (df['children'] < 6)]\n",
    "number_kids = len(df_kids)\n",
    "# number of customers with children and debts\n",
    "number_kids_debt = len(df_kids[df_kids['debt'] == 1])\n",
    "# quote of customers with children having debts\n",
    "quote_kids = number_kids_debt / number_kids\n",
    "# number of customers without children\n",
    "df_no_kids = df[df['children'] == 0]\n",
    "number_no_kids = len(df_no_kids)\n",
    "# number of customers without children and debts\n",
    "number_no_kids_debt = len(df_no_kids[df_no_kids['debt'] == 1])\n",
    "# quote of customers without children having debts\n",
    "quote_no_kids = number_no_kids_debt / number_no_kids"
   ]
  },
  {
   "cell_type": "code",
   "execution_count": 34,
   "metadata": {},
   "outputs": [
    {
     "name": "stdout",
     "output_type": "stream",
     "text": [
      "7.67% of all costumers that have no children are having debts.\n",
      "9.33% of all costumers that have children are having debts.\n",
      "Statistically, this increase of the ratio from the parents having debts compared to\n",
      "the childless costumers having debts corresponds to an increase of 21.65%.\n"
     ]
    }
   ],
   "source": [
    "# The following calculations exclude the rows with -1 and 20 children:\n",
    "print(\"{:.2%} of all costumers that have no children are having debts.\".format(quote_no_kids))\n",
    "print(\"{:.2%} of all costumers that have children are having debts.\".format(quote_kids))\n",
    "print(\"Statistically, this increase of the ratio from the parents having debts compared to\")\n",
    "print(\"the childless costumers having debts corresponds to an increase of {:.2%}.\".format(quote_kids / quote_no_kids - 1))"
   ]
  },
  {
   "cell_type": "markdown",
   "metadata": {},
   "source": [
    "#### Conclusion"
   ]
  },
  {
   "cell_type": "markdown",
   "metadata": {},
   "source": [
    "Looking at the quote of customers having debts in the rows with 0 to 4 children, I observe a slight increase by increasing the number of children. In total, we have an increase of 21.65% when comparing customers with and without children having debts. In view of a huge number of over 20,000 customers I find that having children increases the probability having debts by approximately 22% with a slightly upward trend increasing the number of children."
   ]
  },
  {
   "cell_type": "markdown",
   "metadata": {},
   "source": [
    "<a id=\"3.2\"></a>"
   ]
  },
  {
   "cell_type": "markdown",
   "metadata": {},
   "source": [
    "### Relation between marital status and repaying a loan on time"
   ]
  },
  {
   "cell_type": "markdown",
   "metadata": {},
   "source": [
    "Is there a relation between marital status and repaying a loan on time?"
   ]
  },
  {
   "cell_type": "code",
   "execution_count": 35,
   "metadata": {},
   "outputs": [],
   "source": [
    "# create a pivot table grouped by family status including the percentage fractions of debtors\n",
    "family_debt_table = df.pivot_table(index = 'family_status', columns = 'debt', \n",
    "                      values = 'dob_years', aggfunc = 'count')\n",
    "family_debt_table['quote_debt_in_percent'] = family_debt_table[1] / ( family_debt_table[0] + family_debt_table[1] ) * 100"
   ]
  },
  {
   "cell_type": "code",
   "execution_count": 36,
   "metadata": {},
   "outputs": [],
   "source": [
    "# number of customers with certain family status\n",
    "widowed = len(df[df['family_status'] == 'widow / widower'])\n",
    "divorced = len(df[df['family_status'] == 'divorced'])\n",
    "married = len(df[df['family_status'] == 'married'])\n",
    "civil = len(df[df['family_status'] == 'civil partnership'])\n",
    "unmarried = len(df[df['family_status'] == 'unmarried'])"
   ]
  },
  {
   "cell_type": "code",
   "execution_count": 37,
   "metadata": {},
   "outputs": [],
   "source": [
    "# number of customers with certain family status having debts\n",
    "widowed_debt = len(df[(df['family_status'] == 'widow / widower') & (df['debt'] == 1)])\n",
    "divorced_debt = len(df[(df['family_status'] == 'divorced') & (df['debt'] == 1)])\n",
    "married_debt = len(df[(df['family_status'] == 'married') & (df['debt'] == 1)])\n",
    "civil_debt = len(df[(df['family_status'] == 'civil partnership') & (df['debt'] == 1)])\n",
    "unmarried_debt = len(df[(df['family_status'] == 'unmarried') & (df['debt'] == 1)])"
   ]
  },
  {
   "cell_type": "code",
   "execution_count": 38,
   "metadata": {},
   "outputs": [],
   "source": [
    "# calculating the quote of debtors in the certain groups\n",
    "group_1_quote = (widowed_debt+divorced_debt+married_debt)/(widowed+divorced+married)\n",
    "group_2_quote = (civil_debt+unmarried_debt)/(civil+unmarried)"
   ]
  },
  {
   "cell_type": "code",
   "execution_count": 39,
   "metadata": {},
   "outputs": [
    {
     "data": {
      "text/html": [
       "<div>\n",
       "<style scoped>\n",
       "    .dataframe tbody tr th:only-of-type {\n",
       "        vertical-align: middle;\n",
       "    }\n",
       "\n",
       "    .dataframe tbody tr th {\n",
       "        vertical-align: top;\n",
       "    }\n",
       "\n",
       "    .dataframe thead th {\n",
       "        text-align: right;\n",
       "    }\n",
       "</style>\n",
       "<table border=\"1\" class=\"dataframe\">\n",
       "  <thead>\n",
       "    <tr style=\"text-align: right;\">\n",
       "      <th>debt</th>\n",
       "      <th>0</th>\n",
       "      <th>1</th>\n",
       "      <th>quote_debt_in_percent</th>\n",
       "    </tr>\n",
       "    <tr>\n",
       "      <th>family_status</th>\n",
       "      <th></th>\n",
       "      <th></th>\n",
       "      <th></th>\n",
       "    </tr>\n",
       "  </thead>\n",
       "  <tbody>\n",
       "    <tr>\n",
       "      <td>widow / widower</td>\n",
       "      <td>880</td>\n",
       "      <td>63</td>\n",
       "      <td>6.680806</td>\n",
       "    </tr>\n",
       "    <tr>\n",
       "      <td>divorced</td>\n",
       "      <td>1108</td>\n",
       "      <td>85</td>\n",
       "      <td>7.124895</td>\n",
       "    </tr>\n",
       "    <tr>\n",
       "      <td>married</td>\n",
       "      <td>11147</td>\n",
       "      <td>929</td>\n",
       "      <td>7.692945</td>\n",
       "    </tr>\n",
       "    <tr>\n",
       "      <td>civil partnership</td>\n",
       "      <td>3736</td>\n",
       "      <td>388</td>\n",
       "      <td>9.408341</td>\n",
       "    </tr>\n",
       "    <tr>\n",
       "      <td>unmarried</td>\n",
       "      <td>2510</td>\n",
       "      <td>274</td>\n",
       "      <td>9.841954</td>\n",
       "    </tr>\n",
       "  </tbody>\n",
       "</table>\n",
       "</div>"
      ],
      "text/plain": [
       "debt                   0    1  quote_debt_in_percent\n",
       "family_status                                       \n",
       "widow / widower      880   63               6.680806\n",
       "divorced            1108   85               7.124895\n",
       "married            11147  929               7.692945\n",
       "civil partnership   3736  388               9.408341\n",
       "unmarried           2510  274               9.841954"
      ]
     },
     "execution_count": 39,
     "metadata": {},
     "output_type": "execute_result"
    }
   ],
   "source": [
    "family_debt_table.sort_values('quote_debt_in_percent')"
   ]
  },
  {
   "cell_type": "code",
   "execution_count": 40,
   "metadata": {
    "scrolled": true
   },
   "outputs": [
    {
     "name": "stdout",
     "output_type": "stream",
     "text": [
      "6.68% of the widowed costumers are having debts.\n",
      "7.12% of the divorced costumers are having debts.\n",
      "7.69% of the married costumers are having debts.\n",
      "9.41% of the costumers in a civil partnership are having debts.\n",
      "9.84% of the unmarried costumers are having debts.\n"
     ]
    }
   ],
   "source": [
    "print(\"{:.2%} of the widowed costumers are having debts.\"\n",
    "      .format(family_debt_table.loc['widow / widower', 'quote_debt_in_percent']/100))\n",
    "print(\"{:.2%} of the divorced costumers are having debts.\"\n",
    "      .format(family_debt_table.loc['divorced', 'quote_debt_in_percent']/100))\n",
    "print(\"{:.2%} of the married costumers are having debts.\"\n",
    "      .format(family_debt_table.loc['married', 'quote_debt_in_percent']/100))\n",
    "print(\"{:.2%} of the costumers in a civil partnership are having debts.\"\n",
    "      .format(family_debt_table.loc['civil partnership', 'quote_debt_in_percent']/100))\n",
    "print(\"{:.2%} of the unmarried costumers are having debts.\"\n",
    "      .format(family_debt_table.loc['unmarried', 'quote_debt_in_percent']/100))"
   ]
  },
  {
   "cell_type": "code",
   "execution_count": 41,
   "metadata": {},
   "outputs": [
    {
     "name": "stdout",
     "output_type": "stream",
     "text": [
      "Let's divide these five family status into two groups:\n",
      "In the group including widowed, divorced and married customers we overall have a quote in debt of 7.58%.\n",
      "In the group including customers in a civil partnership and being unmarried we overall have a quote in debt of 9.58%.\n",
      "The higher percentage corresponds to an increase of 26.46% compared to the lower percentage.\n"
     ]
    }
   ],
   "source": [
    "print(\"Let's divide these five family status into two groups:\")\n",
    "print(\"In the group including widowed, divorced and married customers we overall have a quote in debt of {:.2%}.\"\n",
    "     .format(group_1_quote))\n",
    "print(\"In the group including customers in a civil partnership and being unmarried we overall have a quote in debt of {:.2%}.\"\n",
    "     .format(group_2_quote))\n",
    "print(\"The higher percentage corresponds to an increase of {:.2%} compared to the lower percentage.\"\n",
    "     .format(group_2_quote / group_1_quote - 1))"
   ]
  },
  {
   "cell_type": "markdown",
   "metadata": {},
   "source": [
    "#### Conclusion"
   ]
  },
  {
   "cell_type": "markdown",
   "metadata": {},
   "source": [
    "Since there's a bigger distance (approx. 2%) between the marital status 'married' and 'civil partnership' I divided all customers in two groups at this point. <br> In view of the huge amount of customers in both groups I've defined (group 1: widowed, divorced and married; group 2: civil partnership and unmarried) and of the increase of 26.46% between the two groups I find a higher probability having debts for costumers being in group 2 than in group 1. <br>\n",
    "When defining these two groups, one can observe different probabilites repaying the loan on-time."
   ]
  },
  {
   "cell_type": "markdown",
   "metadata": {},
   "source": [
    "<a id=\"3.3\"></a>"
   ]
  },
  {
   "cell_type": "markdown",
   "metadata": {},
   "source": [
    "### Relation between income level and repaying a loan on time"
   ]
  },
  {
   "cell_type": "markdown",
   "metadata": {},
   "source": [
    "Is there a relation between income level and repaying a loan on time?"
   ]
  },
  {
   "cell_type": "code",
   "execution_count": 42,
   "metadata": {},
   "outputs": [],
   "source": [
    "# number of costumers being in a certain third of total income\n",
    "lower_third = len(df[df['income_third'] == 'lower third'])\n",
    "middle_third = len(df[df['income_third'] == 'middle third'])\n",
    "upper_third = len(df[df['income_third'] == 'upper third'])"
   ]
  },
  {
   "cell_type": "code",
   "execution_count": 43,
   "metadata": {},
   "outputs": [],
   "source": [
    "# number of costumers being in a certain third of total income having debts\n",
    "lower_third_debt = len(df[(df['income_third'] == 'lower third') & (df['debt'] == 1)])\n",
    "middle_third_debt = len(df[(df['income_third'] == 'middle third') & (df['debt'] == 1)])\n",
    "upper_third_debt = len(df[(df['income_third'] == 'upper third') & (df['debt'] == 1)])"
   ]
  },
  {
   "cell_type": "code",
   "execution_count": 44,
   "metadata": {},
   "outputs": [],
   "source": [
    "# number of costumers being in a certain income level (given as number of digits)\n",
    "digit4 = len(df[df['income_level'] == '4-digit'])\n",
    "digit5 = len(df[df['income_level'] == '5-digit'])\n",
    "digit6 = len(df[df['income_level'] == '6-digit'])"
   ]
  },
  {
   "cell_type": "code",
   "execution_count": 45,
   "metadata": {},
   "outputs": [],
   "source": [
    "# number of costumers being in a certain income level having debts\n",
    "digit4_debt = len(df[(df['income_level'] == '4-digit') & (df['debt'] == 1)])\n",
    "digit5_debt = len(df[(df['income_level'] == '5-digit') & (df['debt'] == 1)])\n",
    "digit6_debt = len(df[(df['income_level'] == '6-digit') & (df['debt'] == 1)])"
   ]
  },
  {
   "cell_type": "code",
   "execution_count": 46,
   "metadata": {},
   "outputs": [],
   "source": [
    "# multiple conditions for the income in order to be able to calculate more quotes\n",
    "lower_third_digit5 = len(df[(df['income_level'] == '5-digit') & (df['income_third'] == 'lower third')])\n",
    "middle_third_digit5 = len(df[(df['income_level'] == '5-digit') & (df['income_third'] == 'middle third')])\n",
    "upper_third_digit5 = len(df[(df['income_level'] == '5-digit') & (df['income_third'] == 'upper third')])\n",
    "lower_third_digit5_debt = len(df[(df['income_level'] == '5-digit') & (df['income_third'] == 'lower third') & (df['debt'] == 1)])\n",
    "middle_third_digit5_debt = len(df[(df['income_level'] == '5-digit') & (df['income_third'] == 'middle third')&(df['debt'] == 1)])\n",
    "upper_third_digit5_debt = len(df[(df['income_level'] == '5-digit') & (df['income_third'] == 'upper third') & (df['debt'] == 1)])"
   ]
  },
  {
   "cell_type": "code",
   "execution_count": 47,
   "metadata": {},
   "outputs": [],
   "source": [
    "# all the previous defined numbers will be showed in appropriate pivot tables including the quotes of debtors\n",
    "income_debt_table = df.pivot_table(index = ['income_level', 'income_third'], columns = 'debt', \n",
    "                      values = 'dob_years', aggfunc = 'count')\n",
    "income_debt_table['quote_debt_in_percent'] = income_debt_table[1] / ( income_debt_table[0] + income_debt_table[1] )*100\n",
    "\n",
    "income_debt_table_2 = df.pivot_table(index = 'income_third', columns = 'debt', \n",
    "                      values = 'dob_years', aggfunc = 'count')\n",
    "income_debt_table_2['quote_debt_in_percent'] = income_debt_table_2[1] / ( income_debt_table_2[0] + income_debt_table_2[1] )*100\n",
    "\n",
    "income_debt_table_3 = df.pivot_table(index = 'income_level', columns = 'debt', \n",
    "                      values = 'dob_years', aggfunc = 'count')\n",
    "income_debt_table_3['quote_debt_in_percent'] = income_debt_table_3[1] / ( income_debt_table_3[0] + income_debt_table_3[1] )*100"
   ]
  },
  {
   "cell_type": "markdown",
   "metadata": {},
   "source": [
    "In the categorisation of the data I defined two columns regarding the total income. I use these columns to create pivot tables getting an overview on the debts."
   ]
  },
  {
   "cell_type": "code",
   "execution_count": 48,
   "metadata": {},
   "outputs": [
    {
     "data": {
      "text/html": [
       "<div>\n",
       "<style scoped>\n",
       "    .dataframe tbody tr th:only-of-type {\n",
       "        vertical-align: middle;\n",
       "    }\n",
       "\n",
       "    .dataframe tbody tr th {\n",
       "        vertical-align: top;\n",
       "    }\n",
       "\n",
       "    .dataframe thead th {\n",
       "        text-align: right;\n",
       "    }\n",
       "</style>\n",
       "<table border=\"1\" class=\"dataframe\">\n",
       "  <thead>\n",
       "    <tr style=\"text-align: right;\">\n",
       "      <th></th>\n",
       "      <th>debt</th>\n",
       "      <th>0</th>\n",
       "      <th>1</th>\n",
       "      <th>quote_debt_in_percent</th>\n",
       "    </tr>\n",
       "    <tr>\n",
       "      <th>income_level</th>\n",
       "      <th>income_third</th>\n",
       "      <th></th>\n",
       "      <th></th>\n",
       "      <th></th>\n",
       "    </tr>\n",
       "  </thead>\n",
       "  <tbody>\n",
       "    <tr>\n",
       "      <td>6-digit</td>\n",
       "      <td>upper third</td>\n",
       "      <td>93</td>\n",
       "      <td>6</td>\n",
       "      <td>6.060606</td>\n",
       "    </tr>\n",
       "    <tr>\n",
       "      <td>4-digit</td>\n",
       "      <td>lower third</td>\n",
       "      <td>868</td>\n",
       "      <td>58</td>\n",
       "      <td>6.263499</td>\n",
       "    </tr>\n",
       "    <tr>\n",
       "      <td rowspan=\"3\" valign=\"top\">5-digit</td>\n",
       "      <td>upper third</td>\n",
       "      <td>6396</td>\n",
       "      <td>522</td>\n",
       "      <td>7.545533</td>\n",
       "    </tr>\n",
       "    <tr>\n",
       "      <td>lower third</td>\n",
       "      <td>5591</td>\n",
       "      <td>523</td>\n",
       "      <td>8.554138</td>\n",
       "    </tr>\n",
       "    <tr>\n",
       "      <td>middle third</td>\n",
       "      <td>6433</td>\n",
       "      <td>630</td>\n",
       "      <td>8.919722</td>\n",
       "    </tr>\n",
       "  </tbody>\n",
       "</table>\n",
       "</div>"
      ],
      "text/plain": [
       "debt                          0    1  quote_debt_in_percent\n",
       "income_level income_third                                  \n",
       "6-digit      upper third     93    6               6.060606\n",
       "4-digit      lower third    868   58               6.263499\n",
       "5-digit      upper third   6396  522               7.545533\n",
       "             lower third   5591  523               8.554138\n",
       "             middle third  6433  630               8.919722"
      ]
     },
     "execution_count": 48,
     "metadata": {},
     "output_type": "execute_result"
    }
   ],
   "source": [
    "income_debt_table.sort_values('quote_debt_in_percent')"
   ]
  },
  {
   "cell_type": "code",
   "execution_count": 49,
   "metadata": {},
   "outputs": [
    {
     "data": {
      "text/html": [
       "<div>\n",
       "<style scoped>\n",
       "    .dataframe tbody tr th:only-of-type {\n",
       "        vertical-align: middle;\n",
       "    }\n",
       "\n",
       "    .dataframe tbody tr th {\n",
       "        vertical-align: top;\n",
       "    }\n",
       "\n",
       "    .dataframe thead th {\n",
       "        text-align: right;\n",
       "    }\n",
       "</style>\n",
       "<table border=\"1\" class=\"dataframe\">\n",
       "  <thead>\n",
       "    <tr style=\"text-align: right;\">\n",
       "      <th>debt</th>\n",
       "      <th>0</th>\n",
       "      <th>1</th>\n",
       "      <th>quote_debt_in_percent</th>\n",
       "    </tr>\n",
       "    <tr>\n",
       "      <th>income_third</th>\n",
       "      <th></th>\n",
       "      <th></th>\n",
       "      <th></th>\n",
       "    </tr>\n",
       "  </thead>\n",
       "  <tbody>\n",
       "    <tr>\n",
       "      <td>upper third</td>\n",
       "      <td>6489</td>\n",
       "      <td>528</td>\n",
       "      <td>7.524583</td>\n",
       "    </tr>\n",
       "    <tr>\n",
       "      <td>lower third</td>\n",
       "      <td>6459</td>\n",
       "      <td>581</td>\n",
       "      <td>8.252841</td>\n",
       "    </tr>\n",
       "    <tr>\n",
       "      <td>middle third</td>\n",
       "      <td>6433</td>\n",
       "      <td>630</td>\n",
       "      <td>8.919722</td>\n",
       "    </tr>\n",
       "  </tbody>\n",
       "</table>\n",
       "</div>"
      ],
      "text/plain": [
       "debt             0    1  quote_debt_in_percent\n",
       "income_third                                  \n",
       "upper third   6489  528               7.524583\n",
       "lower third   6459  581               8.252841\n",
       "middle third  6433  630               8.919722"
      ]
     },
     "execution_count": 49,
     "metadata": {},
     "output_type": "execute_result"
    }
   ],
   "source": [
    "income_debt_table_2.sort_values('quote_debt_in_percent')"
   ]
  },
  {
   "cell_type": "code",
   "execution_count": 50,
   "metadata": {},
   "outputs": [
    {
     "data": {
      "text/html": [
       "<div>\n",
       "<style scoped>\n",
       "    .dataframe tbody tr th:only-of-type {\n",
       "        vertical-align: middle;\n",
       "    }\n",
       "\n",
       "    .dataframe tbody tr th {\n",
       "        vertical-align: top;\n",
       "    }\n",
       "\n",
       "    .dataframe thead th {\n",
       "        text-align: right;\n",
       "    }\n",
       "</style>\n",
       "<table border=\"1\" class=\"dataframe\">\n",
       "  <thead>\n",
       "    <tr style=\"text-align: right;\">\n",
       "      <th>debt</th>\n",
       "      <th>0</th>\n",
       "      <th>1</th>\n",
       "      <th>quote_debt_in_percent</th>\n",
       "    </tr>\n",
       "    <tr>\n",
       "      <th>income_level</th>\n",
       "      <th></th>\n",
       "      <th></th>\n",
       "      <th></th>\n",
       "    </tr>\n",
       "  </thead>\n",
       "  <tbody>\n",
       "    <tr>\n",
       "      <td>6-digit</td>\n",
       "      <td>93</td>\n",
       "      <td>6</td>\n",
       "      <td>6.060606</td>\n",
       "    </tr>\n",
       "    <tr>\n",
       "      <td>4-digit</td>\n",
       "      <td>868</td>\n",
       "      <td>58</td>\n",
       "      <td>6.263499</td>\n",
       "    </tr>\n",
       "    <tr>\n",
       "      <td>5-digit</td>\n",
       "      <td>18420</td>\n",
       "      <td>1675</td>\n",
       "      <td>8.335407</td>\n",
       "    </tr>\n",
       "  </tbody>\n",
       "</table>\n",
       "</div>"
      ],
      "text/plain": [
       "debt              0     1  quote_debt_in_percent\n",
       "income_level                                    \n",
       "6-digit          93     6               6.060606\n",
       "4-digit         868    58               6.263499\n",
       "5-digit       18420  1675               8.335407"
      ]
     },
     "execution_count": 50,
     "metadata": {},
     "output_type": "execute_result"
    }
   ],
   "source": [
    "income_debt_table_3.sort_values('quote_debt_in_percent')"
   ]
  },
  {
   "cell_type": "code",
   "execution_count": 51,
   "metadata": {},
   "outputs": [
    {
     "name": "stdout",
     "output_type": "stream",
     "text": [
      "8.25% of the customers in the group of lower third income are having debts.\n",
      "8.92% of the customers in the group of middle third income are having debts.\n",
      "7.52% of the customers in the group of upper third income are having debts.\n",
      "\n",
      "6.26% of the customers with an 4-digit income are having debts.\n",
      "8.34% of the customers with an 5-digit income are having debts.\n",
      "6.06% of the customers with an 6-digit income are having debts.\n"
     ]
    }
   ],
   "source": [
    "print(\"{:.2%} of the customers in the group of lower third income are having debts.\".format(lower_third_debt/lower_third))\n",
    "print(\"{:.2%} of the customers in the group of middle third income are having debts.\".format(middle_third_debt/middle_third))\n",
    "print(\"{:.2%} of the customers in the group of upper third income are having debts.\".format(upper_third_debt/upper_third))\n",
    "print()\n",
    "print(\"{:.2%} of the customers with an 4-digit income are having debts.\".format(digit4_debt/digit4))\n",
    "print(\"{:.2%} of the customers with an 5-digit income are having debts.\".format(digit5_debt/digit5))\n",
    "print(\"{:.2%} of the customers with an 6-digit income are having debts.\".format(digit6_debt/digit6))"
   ]
  },
  {
   "cell_type": "code",
   "execution_count": 52,
   "metadata": {},
   "outputs": [
    {
     "name": "stdout",
     "output_type": "stream",
     "text": [
      "Regarding the number of digits, the increasing percentage between 6 digits and 5 digits is 37.53%.\n",
      "\n",
      "8.55% of all customers having a 5-digit income and being in the lower third group are having debts.\n",
      "8.92% of all customers having a 5-digit income and being in the middle third group are having debts.\n",
      "7.55% of all customers having a 5-digit income and being in the upper third group are having debts.\n"
     ]
    }
   ],
   "source": [
    "print(\"Regarding the number of digits, the increasing percentage between 6 digits and 5 digits is {:.2%}.\"\n",
    "     .format((digit5_debt/digit5)/(digit6_debt/digit6) - 1))\n",
    "print()\n",
    "print(\"{:.2%} of all customers having a 5-digit income and being in the lower third group are having debts.\"\n",
    "     .format(lower_third_digit5_debt/lower_third_digit5))\n",
    "print(\"{:.2%} of all customers having a 5-digit income and being in the middle third group are having debts.\"\n",
    "     .format(middle_third_digit5_debt/middle_third_digit5))\n",
    "print(\"{:.2%} of all customers having a 5-digit income and being in the upper third group are having debts.\"\n",
    "     .format(upper_third_digit5_debt/upper_third_digit5))"
   ]
  },
  {
   "cell_type": "markdown",
   "metadata": {},
   "source": [
    "#### Conclusion"
   ]
  },
  {
   "cell_type": "markdown",
   "metadata": {},
   "source": [
    "Overall the differences of the fractions of customers having debts in my defined groups are small. The biggest difference I could find refers to the number of digits in the value of total income: <br> With approximately 6%, the fraction of customers getting an 4- or 6-digits income being in debt is smaller compared to the group with an 5-digit income being in debt (8.34%); this difference corresponds to an increasing percentage of up to 37.53%. <br> In consideration of the number of digits in the value for the total income, we can observe that the income level does have an effect to repaying loans on-time."
   ]
  },
  {
   "cell_type": "markdown",
   "metadata": {},
   "source": [
    "<a id=\"3.4\"></a>"
   ]
  },
  {
   "cell_type": "markdown",
   "metadata": {},
   "source": [
    "### Loan purposes affect on-time repayment of the loan"
   ]
  },
  {
   "cell_type": "markdown",
   "metadata": {},
   "source": [
    " How do different loan purposes affect on-time repayment of the loan?"
   ]
  },
  {
   "cell_type": "code",
   "execution_count": 53,
   "metadata": {},
   "outputs": [],
   "source": [
    "# create two pivot tables from df and df_2 since df_2 includes more detailed purposes\n",
    "purpose_debt_table_1 = df.pivot_table(index = 'purpose', columns = 'debt', \n",
    "                      values = 'dob_years', aggfunc = 'count')\n",
    "purpose_debt_table_1['quote_debt_in_percent'] = purpose_debt_table_1[1] / ( \n",
    "    purpose_debt_table_1[0] + purpose_debt_table_1[1] ) * 100\n",
    "purpose_debt_table_2 = df_2.pivot_table(index = 'purpose', columns = 'debt', \n",
    "                      values = 'dob_years', aggfunc = 'count')\n",
    "purpose_debt_table_2['quote_debt_in_percent'] = purpose_debt_table_2[1] / ( \n",
    "    purpose_debt_table_2[0] + purpose_debt_table_2[1] ) * 10"
   ]
  },
  {
   "cell_type": "code",
   "execution_count": 54,
   "metadata": {},
   "outputs": [],
   "source": [
    "# define the total number of customers having purposes regarding cars for each table\n",
    "total_car_table_1 = purpose_debt_table_1.loc['car', 0]+purpose_debt_table_1.loc['car', 1]\n",
    "total_car_table_2 = purpose_debt_table_2.loc['new car', 0]+purpose_debt_table_2.loc['new car', 1] \\\n",
    "                    +purpose_debt_table_2.loc['second-hand car', 0]+purpose_debt_table_2.loc['second-hand car', 1]"
   ]
  },
  {
   "cell_type": "code",
   "execution_count": 55,
   "metadata": {},
   "outputs": [],
   "source": [
    "# count all costumers having debts regarding to property purposes in purpose_debt_table_2\n",
    "debt_property_table_2 = purpose_debt_table_2.loc['housing renovation', 1] \\\n",
    "                        +purpose_debt_table_2.loc['property', 1] \\\n",
    "                        +purpose_debt_table_2.loc['commercial real estate', 1]"
   ]
  },
  {
   "cell_type": "code",
   "execution_count": 56,
   "metadata": {},
   "outputs": [],
   "source": [
    "# calculate a corrected value for the quote of costumers having debts that want to renovate a house\n",
    "new_quote_renovation = purpose_debt_table_2.loc['housing renovation', 1]/(purpose_debt_table_2.loc['housing renovation', 0]-56)\n"
   ]
  },
  {
   "cell_type": "code",
   "execution_count": 57,
   "metadata": {},
   "outputs": [
    {
     "data": {
      "text/html": [
       "<div>\n",
       "<style scoped>\n",
       "    .dataframe tbody tr th:only-of-type {\n",
       "        vertical-align: middle;\n",
       "    }\n",
       "\n",
       "    .dataframe tbody tr th {\n",
       "        vertical-align: top;\n",
       "    }\n",
       "\n",
       "    .dataframe thead th {\n",
       "        text-align: right;\n",
       "    }\n",
       "</style>\n",
       "<table border=\"1\" class=\"dataframe\">\n",
       "  <thead>\n",
       "    <tr style=\"text-align: right;\">\n",
       "      <th>debt</th>\n",
       "      <th>0</th>\n",
       "      <th>1</th>\n",
       "      <th>quote_debt_in_percent</th>\n",
       "    </tr>\n",
       "    <tr>\n",
       "      <th>purpose</th>\n",
       "      <th></th>\n",
       "      <th></th>\n",
       "      <th></th>\n",
       "    </tr>\n",
       "  </thead>\n",
       "  <tbody>\n",
       "    <tr>\n",
       "      <td>property</td>\n",
       "      <td>9797</td>\n",
       "      <td>781</td>\n",
       "      <td>7.383248</td>\n",
       "    </tr>\n",
       "    <tr>\n",
       "      <td>wedding</td>\n",
       "      <td>2120</td>\n",
       "      <td>186</td>\n",
       "      <td>8.065915</td>\n",
       "    </tr>\n",
       "    <tr>\n",
       "      <td>education</td>\n",
       "      <td>3594</td>\n",
       "      <td>370</td>\n",
       "      <td>9.334006</td>\n",
       "    </tr>\n",
       "    <tr>\n",
       "      <td>car</td>\n",
       "      <td>3870</td>\n",
       "      <td>402</td>\n",
       "      <td>9.410112</td>\n",
       "    </tr>\n",
       "  </tbody>\n",
       "</table>\n",
       "</div>"
      ],
      "text/plain": [
       "debt          0    1  quote_debt_in_percent\n",
       "purpose                                    \n",
       "property   9797  781               7.383248\n",
       "wedding    2120  186               8.065915\n",
       "education  3594  370               9.334006\n",
       "car        3870  402               9.410112"
      ]
     },
     "execution_count": 57,
     "metadata": {},
     "output_type": "execute_result"
    }
   ],
   "source": [
    "purpose_debt_table_1.sort_values('quote_debt_in_percent')"
   ]
  },
  {
   "cell_type": "code",
   "execution_count": 58,
   "metadata": {},
   "outputs": [
    {
     "data": {
      "text/html": [
       "<div>\n",
       "<style scoped>\n",
       "    .dataframe tbody tr th:only-of-type {\n",
       "        vertical-align: middle;\n",
       "    }\n",
       "\n",
       "    .dataframe tbody tr th {\n",
       "        vertical-align: top;\n",
       "    }\n",
       "\n",
       "    .dataframe thead th {\n",
       "        text-align: right;\n",
       "    }\n",
       "</style>\n",
       "<table border=\"1\" class=\"dataframe\">\n",
       "  <thead>\n",
       "    <tr style=\"text-align: right;\">\n",
       "      <th>debt</th>\n",
       "      <th>0</th>\n",
       "      <th>1</th>\n",
       "      <th>quote_debt_in_percent</th>\n",
       "    </tr>\n",
       "    <tr>\n",
       "      <th>purpose</th>\n",
       "      <th></th>\n",
       "      <th></th>\n",
       "      <th></th>\n",
       "    </tr>\n",
       "  </thead>\n",
       "  <tbody>\n",
       "    <tr>\n",
       "      <td>housing renovation</td>\n",
       "      <td>572</td>\n",
       "      <td>35</td>\n",
       "      <td>0.576606</td>\n",
       "    </tr>\n",
       "    <tr>\n",
       "      <td>property</td>\n",
       "      <td>8069</td>\n",
       "      <td>647</td>\n",
       "      <td>0.742313</td>\n",
       "    </tr>\n",
       "    <tr>\n",
       "      <td>commercial real estate</td>\n",
       "      <td>1212</td>\n",
       "      <td>99</td>\n",
       "      <td>0.755149</td>\n",
       "    </tr>\n",
       "    <tr>\n",
       "      <td>wedding</td>\n",
       "      <td>2120</td>\n",
       "      <td>186</td>\n",
       "      <td>0.806592</td>\n",
       "    </tr>\n",
       "    <tr>\n",
       "      <td>second-hand car</td>\n",
       "      <td>876</td>\n",
       "      <td>87</td>\n",
       "      <td>0.903427</td>\n",
       "    </tr>\n",
       "    <tr>\n",
       "      <td>education</td>\n",
       "      <td>3594</td>\n",
       "      <td>370</td>\n",
       "      <td>0.933401</td>\n",
       "    </tr>\n",
       "    <tr>\n",
       "      <td>new car</td>\n",
       "      <td>3007</td>\n",
       "      <td>315</td>\n",
       "      <td>0.948224</td>\n",
       "    </tr>\n",
       "  </tbody>\n",
       "</table>\n",
       "</div>"
      ],
      "text/plain": [
       "debt                       0    1  quote_debt_in_percent\n",
       "purpose                                                 \n",
       "housing renovation       572   35               0.576606\n",
       "property                8069  647               0.742313\n",
       "commercial real estate  1212   99               0.755149\n",
       "wedding                 2120  186               0.806592\n",
       "second-hand car          876   87               0.903427\n",
       "education               3594  370               0.933401\n",
       "new car                 3007  315               0.948224"
      ]
     },
     "execution_count": 58,
     "metadata": {},
     "output_type": "execute_result"
    }
   ],
   "source": [
    "purpose_debt_table_2.sort_values('quote_debt_in_percent')"
   ]
  },
  {
   "cell_type": "markdown",
   "metadata": {},
   "source": [
    "In the second table, you have a more detailed view over the purposes but one also must consider 69 duplicates in this table."
   ]
  },
  {
   "cell_type": "code",
   "execution_count": 59,
   "metadata": {},
   "outputs": [
    {
     "name": "stdout",
     "output_type": "stream",
     "text": [
      "The first table has 4272 customers with the purpose 'car'.\n",
      "When combining the number of customers with the purposes 'new car' and\n",
      "'second-hand car' in the second table, there are 4285 customers.\n",
      "The difference of customers in these two values is 13.\n",
      "This means that the other 56 duplicates left are concerning the properties.\n"
     ]
    }
   ],
   "source": [
    "print(\"The first table has {} customers with the purpose 'car'.\".format(total_car_table_1))\n",
    "print(\"When combining the number of customers with the purposes 'new car' and\")\n",
    "print(\"'second-hand car' in the second table, there are {} customers.\".format(total_car_table_2))\n",
    "print(\"The difference of customers in these two values is {}.\".format(abs(total_car_table_1-total_car_table_2)))\n",
    "print(\"This means that the other 56 duplicates left are concerning the properties.\")"
   ]
  },
  {
   "cell_type": "code",
   "execution_count": 60,
   "metadata": {},
   "outputs": [
    {
     "name": "stdout",
     "output_type": "stream",
     "text": [
      "As I want to consider these 56 duplicates, let's assume that they are concerning to housing renovations.\n",
      "The number of customers having debts regarding the property purposes is the same value for both tables: 781 customers.\n",
      "I can assume that 56 duplicates are according to the housing renovation customers having no debts.\n"
     ]
    }
   ],
   "source": [
    "print(\"As I want to consider these 56 duplicates, let's assume that they are concerning to housing renovations.\")\n",
    "print(\"The number of customers having debts regarding the property purposes is the same value for both tables: {} customers.\"\n",
    "      .format(debt_property_table_2))\n",
    "print(\"I can assume that 56 duplicates are according to the housing renovation customers having no debts.\")"
   ]
  },
  {
   "cell_type": "code",
   "execution_count": 61,
   "metadata": {
    "scrolled": false
   },
   "outputs": [
    {
     "name": "stdout",
     "output_type": "stream",
     "text": [
      "Consequently, the quote of house renovating customers having debts increases to 6.78%.\n",
      "Housing renovation is still the purpose with the smallest quote of customers having debts.\n",
      "\n",
      "The highest of these noted quotes corresponds to an increase of 38.73% compared to this smallest quote.\n"
     ]
    }
   ],
   "source": [
    "print(\"Consequently, the quote of house renovating customers having debts increases to {:.2%}.\".format(new_quote_renovation))\n",
    "print(\"Housing renovation is still the purpose with the smallest quote of customers having debts.\")\n",
    "print()\n",
    "print(\"The highest of these noted quotes corresponds to an increase of {:.2%} compared to this smallest quote.\"\n",
    "     .format(0.01 * purpose_debt_table_1.loc['car', 'quote_debt_in_percent']/new_quote_renovation - 1))"
   ]
  },
  {
   "cell_type": "markdown",
   "metadata": {},
   "source": [
    "#### Conclusion"
   ]
  },
  {
   "cell_type": "markdown",
   "metadata": {},
   "source": [
    "In the first table you can see that costumers buying cars with the loan have the highest quote of costumers with debts (9.41%). This quote hardly changes for education purposes (9.33%), but is different from those who want to pay a wedding (8.07%). Customers asking for a property show the smallest fraction of customers having debts (7.38%). Including the duplicates, I find out that the house renovating purposes make the smallest quote (6.78%). <br> The highest of these noted quotes corresponds to an increase of 38.73% compared to this smallest quote, so one can inference that the purpose does have an effect on repaying loans on-time."
   ]
  },
  {
   "cell_type": "markdown",
   "metadata": {},
   "source": [
    "<a id=\"4\"></a>"
   ]
  },
  {
   "cell_type": "markdown",
   "metadata": {},
   "source": [
    "## General conclusion"
   ]
  },
  {
   "cell_type": "markdown",
   "metadata": {},
   "source": [
    "By finding appropriate groups for different properties I could find connections to repaying loans on-time for every question. <br> Calculated with the given table, the biggest differences for the probability repaying the loan on-time are\n",
    "\n",
    "- 21.65% concerning the number of children,\n",
    "- 26.46% concerning the family status,\n",
    "- 37.53% concerning the level of income and\n",
    "- 38.73% concerning the purposes. \n",
    "\n",
    "All four percentages are in the same order, so one can assert that every of these four customer's properties has a small but significant effect on repaying the loan on-time.\n"
   ]
  },
  {
   "cell_type": "code",
   "execution_count": null,
   "metadata": {},
   "outputs": [],
   "source": []
  }
 ],
 "metadata": {
  "kernelspec": {
   "display_name": "Python 3",
   "language": "python",
   "name": "python3"
  },
  "language_info": {
   "codemirror_mode": {
    "name": "ipython",
    "version": 3
   },
   "file_extension": ".py",
   "mimetype": "text/x-python",
   "name": "python",
   "nbconvert_exporter": "python",
   "pygments_lexer": "ipython3",
   "version": "3.7.9"
  },
  "toc": {
   "base_numbering": 1,
   "nav_menu": {},
   "number_sections": true,
   "sideBar": true,
   "skip_h1_title": true,
   "title_cell": "Table of Contents",
   "title_sidebar": "Contents",
   "toc_cell": false,
   "toc_position": {
    "height": "calc(100% - 180px)",
    "left": "10px",
    "top": "150px",
    "width": "328px"
   },
   "toc_section_display": true,
   "toc_window_display": true
  },
  "varInspector": {
   "cols": {
    "lenName": 16,
    "lenType": 16,
    "lenVar": 40
   },
   "kernels_config": {
    "python": {
     "delete_cmd_postfix": "",
     "delete_cmd_prefix": "del ",
     "library": "var_list.py",
     "varRefreshCmd": "print(var_dic_list())"
    },
    "r": {
     "delete_cmd_postfix": ") ",
     "delete_cmd_prefix": "rm(",
     "library": "var_list.r",
     "varRefreshCmd": "cat(var_dic_list()) "
    }
   },
   "types_to_exclude": [
    "module",
    "function",
    "builtin_function_or_method",
    "instance",
    "_Feature"
   ],
   "window_display": false
  }
 },
 "nbformat": 4,
 "nbformat_minor": 2
}
