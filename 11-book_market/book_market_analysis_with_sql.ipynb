{
 "cells": [
  {
   "cell_type": "markdown",
   "metadata": {},
   "source": [
    "# Book Market Analysis with SQL"
   ]
  },
  {
   "cell_type": "markdown",
   "metadata": {},
   "source": [
    "There is given a database of one of the services competing in the book market. It contains data on books, publishers, authors, customer ratings and reviews of books. This information will be used to generate a value proposition for a new product from the area of apps for book lovers."
   ]
  },
  {
   "cell_type": "markdown",
   "metadata": {},
   "source": [
    "# Table of Contents"
   ]
  },
  {
   "cell_type": "markdown",
   "metadata": {},
   "source": [
    "- 1) [Preparation](#1)\n",
    "<br> <br>\n",
    "    - 1.1) [Create engine and connection to database](#1.1)\n",
    "    - 1.2) [Table 'books'](#1.2)\n",
    "    - 1.3) [Table 'authors'](#1.3)\n",
    "    - 1.4) [Table 'ratings](#1.4)\n",
    "    - 1.5) [Table 'reviews'](#1.5)\n",
    "    - 1.6) [Table 'publishers'](#1.6)\n",
    "    - 1.7) [Conclusion](#1.7)\n",
    "    <br> <br>\n",
    "- 2) [Analysis](#2)\n",
    "<br> <br>\n",
    "    - 2.1) [Number of books released after January 1, 2000](#2.1)\n",
    "    - 2.2) [The number of user reviews and the average rating for each book](#2.2)\n",
    "    - 2.3) [Identify the publisher that has released the greatest number of books with more than 50 pages](#2.3)\n",
    "    - 2.4) [Identify the author with the highest average book rating (look only at books with at least 50 ratings)](#2.4)\n",
    "    - 2.5) [The average number of text reviews among users who rated more than 50 books](#2.5)\n",
    "    <br> <br>\n",
    "- 3) [Overall Conclusion](#3)"
   ]
  },
  {
   "cell_type": "markdown",
   "metadata": {},
   "source": [
    "<a id=\"1\"></a>"
   ]
  },
  {
   "cell_type": "markdown",
   "metadata": {},
   "source": [
    "## 1) Preparation"
   ]
  },
  {
   "cell_type": "markdown",
   "metadata": {},
   "source": [
    "<a id=\"1.1\"></a>"
   ]
  },
  {
   "cell_type": "markdown",
   "metadata": {},
   "source": [
    "### 1.1) Create engine and connection to database"
   ]
  },
  {
   "cell_type": "code",
   "execution_count": 1,
   "metadata": {},
   "outputs": [],
   "source": [
    "# import libraries\n",
    "import pandas as pd\n",
    "from sqlalchemy import create_engine\n",
    "import psycopg2"
   ]
  },
  {
   "cell_type": "code",
   "execution_count": 2,
   "metadata": {},
   "outputs": [],
   "source": [
    "# connection to database (configuration data is changed)\n",
    "db_config = {'user': 'user_name',         # user name\n",
    "             'pwd': 'password', # password\n",
    "             'host': 'host',\n",
    "             'port': 'port',              # connection port\n",
    "             'db': 'database'}          # the name of the data base\n",
    "\n",
    "connection_string = 'postgresql://{}:{}@{}:{}/{}'.format(db_config['user'],\n",
    "                                                                     db_config['pwd'],\n",
    "                                                                       db_config['host'],\n",
    "                                                                       db_config['port'],\n",
    "                                                                       db_config['db'])\n",
    "\n",
    "engine = create_engine(connection_string, connect_args={'sslmode':'require'})"
   ]
  },
  {
   "cell_type": "code",
   "execution_count": 3,
   "metadata": {},
   "outputs": [],
   "source": [
    "# define function that gives the result of the SQL query\n",
    "def queryResult(q):\n",
    "    return pd.io.sql.read_sql(q, con = engine)"
   ]
  },
  {
   "cell_type": "markdown",
   "metadata": {},
   "source": [
    "For that project we focus on the tables 'books', 'authors', 'ratings', 'reviews' and 'publishers'."
   ]
  },
  {
   "cell_type": "markdown",
   "metadata": {},
   "source": [
    "<a id=\"1.2\"></a>"
   ]
  },
  {
   "cell_type": "markdown",
   "metadata": {},
   "source": [
    "### 1.2) Table 'books'"
   ]
  },
  {
   "cell_type": "code",
   "execution_count": 4,
   "metadata": {},
   "outputs": [
    {
     "data": {
      "text/html": [
       "<div>\n",
       "<style scoped>\n",
       "    .dataframe tbody tr th:only-of-type {\n",
       "        vertical-align: middle;\n",
       "    }\n",
       "\n",
       "    .dataframe tbody tr th {\n",
       "        vertical-align: top;\n",
       "    }\n",
       "\n",
       "    .dataframe thead th {\n",
       "        text-align: right;\n",
       "    }\n",
       "</style>\n",
       "<table border=\"1\" class=\"dataframe\">\n",
       "  <thead>\n",
       "    <tr style=\"text-align: right;\">\n",
       "      <th></th>\n",
       "      <th>book_id</th>\n",
       "      <th>author_id</th>\n",
       "      <th>title</th>\n",
       "      <th>num_pages</th>\n",
       "      <th>publication_date</th>\n",
       "      <th>publisher_id</th>\n",
       "    </tr>\n",
       "  </thead>\n",
       "  <tbody>\n",
       "    <tr>\n",
       "      <td>0</td>\n",
       "      <td>1</td>\n",
       "      <td>546</td>\n",
       "      <td>'Salem's Lot</td>\n",
       "      <td>594</td>\n",
       "      <td>2005-11-01</td>\n",
       "      <td>93</td>\n",
       "    </tr>\n",
       "    <tr>\n",
       "      <td>1</td>\n",
       "      <td>2</td>\n",
       "      <td>465</td>\n",
       "      <td>1 000 Places to See Before You Die</td>\n",
       "      <td>992</td>\n",
       "      <td>2003-05-22</td>\n",
       "      <td>336</td>\n",
       "    </tr>\n",
       "    <tr>\n",
       "      <td>2</td>\n",
       "      <td>3</td>\n",
       "      <td>407</td>\n",
       "      <td>13 Little Blue Envelopes (Little Blue Envelope...</td>\n",
       "      <td>322</td>\n",
       "      <td>2010-12-21</td>\n",
       "      <td>135</td>\n",
       "    </tr>\n",
       "    <tr>\n",
       "      <td>3</td>\n",
       "      <td>4</td>\n",
       "      <td>82</td>\n",
       "      <td>1491: New Revelations of the Americas Before C...</td>\n",
       "      <td>541</td>\n",
       "      <td>2006-10-10</td>\n",
       "      <td>309</td>\n",
       "    </tr>\n",
       "    <tr>\n",
       "      <td>4</td>\n",
       "      <td>5</td>\n",
       "      <td>125</td>\n",
       "      <td>1776</td>\n",
       "      <td>386</td>\n",
       "      <td>2006-07-04</td>\n",
       "      <td>268</td>\n",
       "    </tr>\n",
       "  </tbody>\n",
       "</table>\n",
       "</div>"
      ],
      "text/plain": [
       "   book_id  author_id                                              title  \\\n",
       "0        1        546                                       'Salem's Lot   \n",
       "1        2        465                 1 000 Places to See Before You Die   \n",
       "2        3        407  13 Little Blue Envelopes (Little Blue Envelope...   \n",
       "3        4         82  1491: New Revelations of the Americas Before C...   \n",
       "4        5        125                                               1776   \n",
       "\n",
       "   num_pages publication_date  publisher_id  \n",
       "0        594       2005-11-01            93  \n",
       "1        992       2003-05-22           336  \n",
       "2        322       2010-12-21           135  \n",
       "3        541       2006-10-10           309  \n",
       "4        386       2006-07-04           268  "
      ]
     },
     "execution_count": 4,
     "metadata": {},
     "output_type": "execute_result"
    }
   ],
   "source": [
    "# first five rows of table 'books'\n",
    "query = '''\n",
    "    SELECT\n",
    "        *\n",
    "    FROM \n",
    "        books\n",
    "    LIMIT\n",
    "        5;\n",
    "'''\n",
    "\n",
    "queryResult(query)"
   ]
  },
  {
   "cell_type": "code",
   "execution_count": null,
   "metadata": {},
   "outputs": [],
   "source": [
    "# length of table 'books'\n",
    "query = '''\n",
    "    SELECT\n",
    "        COUNT(*) AS number_of_rows\n",
    "    FROM \n",
    "        books;\n",
    "'''\n",
    "\n",
    "queryResult(query)"
   ]
  },
  {
   "cell_type": "code",
   "execution_count": 6,
   "metadata": {},
   "outputs": [
    {
     "data": {
      "text/html": [
       "<div>\n",
       "<style scoped>\n",
       "    .dataframe tbody tr th:only-of-type {\n",
       "        vertical-align: middle;\n",
       "    }\n",
       "\n",
       "    .dataframe tbody tr th {\n",
       "        vertical-align: top;\n",
       "    }\n",
       "\n",
       "    .dataframe thead th {\n",
       "        text-align: right;\n",
       "    }\n",
       "</style>\n",
       "<table border=\"1\" class=\"dataframe\">\n",
       "  <thead>\n",
       "    <tr style=\"text-align: right;\">\n",
       "      <th></th>\n",
       "      <th>number_of_book_ids</th>\n",
       "    </tr>\n",
       "  </thead>\n",
       "  <tbody>\n",
       "    <tr>\n",
       "      <td>0</td>\n",
       "      <td>1000</td>\n",
       "    </tr>\n",
       "  </tbody>\n",
       "</table>\n",
       "</div>"
      ],
      "text/plain": [
       "   number_of_book_ids\n",
       "0                1000"
      ]
     },
     "execution_count": 6,
     "metadata": {},
     "output_type": "execute_result"
    }
   ],
   "source": [
    "# is every book ID unique?\n",
    "query = '''\n",
    "    SELECT\n",
    "        COUNT(DISTINCT book_id) AS number_of_book_ids\n",
    "    FROM \n",
    "        books;\n",
    "'''\n",
    "\n",
    "queryResult(query)"
   ]
  },
  {
   "cell_type": "code",
   "execution_count": 7,
   "metadata": {},
   "outputs": [
    {
     "data": {
      "text/html": [
       "<div>\n",
       "<style scoped>\n",
       "    .dataframe tbody tr th:only-of-type {\n",
       "        vertical-align: middle;\n",
       "    }\n",
       "\n",
       "    .dataframe tbody tr th {\n",
       "        vertical-align: top;\n",
       "    }\n",
       "\n",
       "    .dataframe thead th {\n",
       "        text-align: right;\n",
       "    }\n",
       "</style>\n",
       "<table border=\"1\" class=\"dataframe\">\n",
       "  <thead>\n",
       "    <tr style=\"text-align: right;\">\n",
       "      <th></th>\n",
       "      <th>number_of_unique_titles</th>\n",
       "    </tr>\n",
       "  </thead>\n",
       "  <tbody>\n",
       "    <tr>\n",
       "      <td>0</td>\n",
       "      <td>999</td>\n",
       "    </tr>\n",
       "  </tbody>\n",
       "</table>\n",
       "</div>"
      ],
      "text/plain": [
       "   number_of_unique_titles\n",
       "0                      999"
      ]
     },
     "execution_count": 7,
     "metadata": {},
     "output_type": "execute_result"
    }
   ],
   "source": [
    "# is every book title unique?\n",
    "query = '''\n",
    "    SELECT\n",
    "        COUNT(DISTINCT title) AS number_of_unique_titles\n",
    "    FROM \n",
    "        books;\n",
    "'''\n",
    "\n",
    "queryResult(query)"
   ]
  },
  {
   "cell_type": "code",
   "execution_count": 8,
   "metadata": {},
   "outputs": [
    {
     "data": {
      "text/html": [
       "<div>\n",
       "<style scoped>\n",
       "    .dataframe tbody tr th:only-of-type {\n",
       "        vertical-align: middle;\n",
       "    }\n",
       "\n",
       "    .dataframe tbody tr th {\n",
       "        vertical-align: top;\n",
       "    }\n",
       "\n",
       "    .dataframe thead th {\n",
       "        text-align: right;\n",
       "    }\n",
       "</style>\n",
       "<table border=\"1\" class=\"dataframe\">\n",
       "  <thead>\n",
       "    <tr style=\"text-align: right;\">\n",
       "      <th></th>\n",
       "      <th>title</th>\n",
       "      <th>number_of_times_title_is_listed</th>\n",
       "    </tr>\n",
       "  </thead>\n",
       "  <tbody>\n",
       "    <tr>\n",
       "      <td>0</td>\n",
       "      <td>Memoirs of a Geisha</td>\n",
       "      <td>2</td>\n",
       "    </tr>\n",
       "    <tr>\n",
       "      <td>1</td>\n",
       "      <td>The Botany of Desire: A Plant's-Eye View of th...</td>\n",
       "      <td>1</td>\n",
       "    </tr>\n",
       "    <tr>\n",
       "      <td>2</td>\n",
       "      <td>The Poisonwood Bible</td>\n",
       "      <td>1</td>\n",
       "    </tr>\n",
       "    <tr>\n",
       "      <td>3</td>\n",
       "      <td>Count Zero (Sprawl  #2)</td>\n",
       "      <td>1</td>\n",
       "    </tr>\n",
       "  </tbody>\n",
       "</table>\n",
       "</div>"
      ],
      "text/plain": [
       "                                               title  \\\n",
       "0                                Memoirs of a Geisha   \n",
       "1  The Botany of Desire: A Plant's-Eye View of th...   \n",
       "2                               The Poisonwood Bible   \n",
       "3                            Count Zero (Sprawl  #2)   \n",
       "\n",
       "   number_of_times_title_is_listed  \n",
       "0                                2  \n",
       "1                                1  \n",
       "2                                1  \n",
       "3                                1  "
      ]
     },
     "execution_count": 8,
     "metadata": {},
     "output_type": "execute_result"
    }
   ],
   "source": [
    "# show the title given twice in the table\n",
    "query = '''\n",
    "    SELECT\n",
    "        title,\n",
    "        COUNT(title) AS number_of_times_title_is_listed\n",
    "    FROM \n",
    "        books\n",
    "    GROUP BY\n",
    "        title\n",
    "    ORDER BY\n",
    "        number_of_times_title_is_listed DESC\n",
    "    LIMIT\n",
    "        4;\n",
    "'''\n",
    "\n",
    "queryResult(query)"
   ]
  },
  {
   "cell_type": "code",
   "execution_count": 9,
   "metadata": {},
   "outputs": [
    {
     "data": {
      "text/html": [
       "<div>\n",
       "<style scoped>\n",
       "    .dataframe tbody tr th:only-of-type {\n",
       "        vertical-align: middle;\n",
       "    }\n",
       "\n",
       "    .dataframe tbody tr th {\n",
       "        vertical-align: top;\n",
       "    }\n",
       "\n",
       "    .dataframe thead th {\n",
       "        text-align: right;\n",
       "    }\n",
       "</style>\n",
       "<table border=\"1\" class=\"dataframe\">\n",
       "  <thead>\n",
       "    <tr style=\"text-align: right;\">\n",
       "      <th></th>\n",
       "      <th>book_id</th>\n",
       "      <th>author_id</th>\n",
       "      <th>title</th>\n",
       "      <th>num_pages</th>\n",
       "      <th>publication_date</th>\n",
       "      <th>publisher_id</th>\n",
       "    </tr>\n",
       "  </thead>\n",
       "  <tbody>\n",
       "    <tr>\n",
       "      <td>0</td>\n",
       "      <td>426</td>\n",
       "      <td>39</td>\n",
       "      <td>Memoirs of a Geisha</td>\n",
       "      <td>434</td>\n",
       "      <td>2005-11-15</td>\n",
       "      <td>241</td>\n",
       "    </tr>\n",
       "    <tr>\n",
       "      <td>1</td>\n",
       "      <td>427</td>\n",
       "      <td>39</td>\n",
       "      <td>Memoirs of a Geisha</td>\n",
       "      <td>503</td>\n",
       "      <td>2005-11-22</td>\n",
       "      <td>311</td>\n",
       "    </tr>\n",
       "  </tbody>\n",
       "</table>\n",
       "</div>"
      ],
      "text/plain": [
       "   book_id  author_id                title  num_pages publication_date  \\\n",
       "0      426         39  Memoirs of a Geisha        434       2005-11-15   \n",
       "1      427         39  Memoirs of a Geisha        503       2005-11-22   \n",
       "\n",
       "   publisher_id  \n",
       "0           241  \n",
       "1           311  "
      ]
     },
     "execution_count": 9,
     "metadata": {},
     "output_type": "execute_result"
    }
   ],
   "source": [
    "# see if the title 'Memoirs of a Geisha' is duplicated\n",
    "query = '''\n",
    "    SELECT\n",
    "        *\n",
    "    FROM \n",
    "        books\n",
    "    WHERE\n",
    "        title = 'Memoirs of a Geisha';\n",
    "'''\n",
    "\n",
    "queryResult(query)"
   ]
  },
  {
   "cell_type": "markdown",
   "metadata": {},
   "source": [
    "Since the title above seems to be published two times from two different publishers within 7 days of difference, there is no reason to assume a duplicate, so the rows won't get deleted."
   ]
  },
  {
   "cell_type": "markdown",
   "metadata": {},
   "source": [
    "<a id=\"1.3\"></a>"
   ]
  },
  {
   "cell_type": "markdown",
   "metadata": {},
   "source": [
    "### 1.3) Table 'authors'"
   ]
  },
  {
   "cell_type": "code",
   "execution_count": 10,
   "metadata": {
    "scrolled": true
   },
   "outputs": [
    {
     "data": {
      "text/html": [
       "<div>\n",
       "<style scoped>\n",
       "    .dataframe tbody tr th:only-of-type {\n",
       "        vertical-align: middle;\n",
       "    }\n",
       "\n",
       "    .dataframe tbody tr th {\n",
       "        vertical-align: top;\n",
       "    }\n",
       "\n",
       "    .dataframe thead th {\n",
       "        text-align: right;\n",
       "    }\n",
       "</style>\n",
       "<table border=\"1\" class=\"dataframe\">\n",
       "  <thead>\n",
       "    <tr style=\"text-align: right;\">\n",
       "      <th></th>\n",
       "      <th>author_id</th>\n",
       "      <th>author</th>\n",
       "    </tr>\n",
       "  </thead>\n",
       "  <tbody>\n",
       "    <tr>\n",
       "      <td>0</td>\n",
       "      <td>1</td>\n",
       "      <td>A.S. Byatt</td>\n",
       "    </tr>\n",
       "    <tr>\n",
       "      <td>1</td>\n",
       "      <td>2</td>\n",
       "      <td>Aesop/Laura Harris/Laura Gibbs</td>\n",
       "    </tr>\n",
       "    <tr>\n",
       "      <td>2</td>\n",
       "      <td>3</td>\n",
       "      <td>Agatha Christie</td>\n",
       "    </tr>\n",
       "    <tr>\n",
       "      <td>3</td>\n",
       "      <td>4</td>\n",
       "      <td>Alan Brennert</td>\n",
       "    </tr>\n",
       "    <tr>\n",
       "      <td>4</td>\n",
       "      <td>5</td>\n",
       "      <td>Alan Moore/David   Lloyd</td>\n",
       "    </tr>\n",
       "  </tbody>\n",
       "</table>\n",
       "</div>"
      ],
      "text/plain": [
       "   author_id                          author\n",
       "0          1                      A.S. Byatt\n",
       "1          2  Aesop/Laura Harris/Laura Gibbs\n",
       "2          3                 Agatha Christie\n",
       "3          4                   Alan Brennert\n",
       "4          5        Alan Moore/David   Lloyd"
      ]
     },
     "execution_count": 10,
     "metadata": {},
     "output_type": "execute_result"
    }
   ],
   "source": [
    "# first five rows of table 'authors'\n",
    "query = '''\n",
    "    SELECT\n",
    "        *\n",
    "    FROM \n",
    "        authors\n",
    "    LIMIT\n",
    "        5;\n",
    "'''\n",
    "\n",
    "queryResult(query)"
   ]
  },
  {
   "cell_type": "code",
   "execution_count": 11,
   "metadata": {},
   "outputs": [
    {
     "data": {
      "text/html": [
       "<div>\n",
       "<style scoped>\n",
       "    .dataframe tbody tr th:only-of-type {\n",
       "        vertical-align: middle;\n",
       "    }\n",
       "\n",
       "    .dataframe tbody tr th {\n",
       "        vertical-align: top;\n",
       "    }\n",
       "\n",
       "    .dataframe thead th {\n",
       "        text-align: right;\n",
       "    }\n",
       "</style>\n",
       "<table border=\"1\" class=\"dataframe\">\n",
       "  <thead>\n",
       "    <tr style=\"text-align: right;\">\n",
       "      <th></th>\n",
       "      <th>number_of_rows</th>\n",
       "    </tr>\n",
       "  </thead>\n",
       "  <tbody>\n",
       "    <tr>\n",
       "      <td>0</td>\n",
       "      <td>636</td>\n",
       "    </tr>\n",
       "  </tbody>\n",
       "</table>\n",
       "</div>"
      ],
      "text/plain": [
       "   number_of_rows\n",
       "0             636"
      ]
     },
     "execution_count": 11,
     "metadata": {},
     "output_type": "execute_result"
    }
   ],
   "source": [
    "# length of table 'authors'\n",
    "query = '''\n",
    "    SELECT\n",
    "        COUNT(*) AS number_of_rows\n",
    "    FROM \n",
    "        authors;\n",
    "'''\n",
    "\n",
    "queryResult(query)"
   ]
  },
  {
   "cell_type": "code",
   "execution_count": 12,
   "metadata": {},
   "outputs": [
    {
     "data": {
      "text/html": [
       "<div>\n",
       "<style scoped>\n",
       "    .dataframe tbody tr th:only-of-type {\n",
       "        vertical-align: middle;\n",
       "    }\n",
       "\n",
       "    .dataframe tbody tr th {\n",
       "        vertical-align: top;\n",
       "    }\n",
       "\n",
       "    .dataframe thead th {\n",
       "        text-align: right;\n",
       "    }\n",
       "</style>\n",
       "<table border=\"1\" class=\"dataframe\">\n",
       "  <thead>\n",
       "    <tr style=\"text-align: right;\">\n",
       "      <th></th>\n",
       "      <th>number_of_author_ids</th>\n",
       "    </tr>\n",
       "  </thead>\n",
       "  <tbody>\n",
       "    <tr>\n",
       "      <td>0</td>\n",
       "      <td>636</td>\n",
       "    </tr>\n",
       "  </tbody>\n",
       "</table>\n",
       "</div>"
      ],
      "text/plain": [
       "   number_of_author_ids\n",
       "0                   636"
      ]
     },
     "execution_count": 12,
     "metadata": {},
     "output_type": "execute_result"
    }
   ],
   "source": [
    "# is every author ID unique?\n",
    "query = '''\n",
    "    SELECT\n",
    "        COUNT(DISTINCT author_id) AS number_of_author_ids\n",
    "    FROM \n",
    "        authors;\n",
    "'''\n",
    "\n",
    "queryResult(query)"
   ]
  },
  {
   "cell_type": "markdown",
   "metadata": {},
   "source": [
    "<a id=\"1.4\"></a>"
   ]
  },
  {
   "cell_type": "markdown",
   "metadata": {},
   "source": [
    "### 1.4) Table 'ratings'"
   ]
  },
  {
   "cell_type": "code",
   "execution_count": 13,
   "metadata": {},
   "outputs": [
    {
     "data": {
      "text/html": [
       "<div>\n",
       "<style scoped>\n",
       "    .dataframe tbody tr th:only-of-type {\n",
       "        vertical-align: middle;\n",
       "    }\n",
       "\n",
       "    .dataframe tbody tr th {\n",
       "        vertical-align: top;\n",
       "    }\n",
       "\n",
       "    .dataframe thead th {\n",
       "        text-align: right;\n",
       "    }\n",
       "</style>\n",
       "<table border=\"1\" class=\"dataframe\">\n",
       "  <thead>\n",
       "    <tr style=\"text-align: right;\">\n",
       "      <th></th>\n",
       "      <th>rating_id</th>\n",
       "      <th>book_id</th>\n",
       "      <th>username</th>\n",
       "      <th>rating</th>\n",
       "    </tr>\n",
       "  </thead>\n",
       "  <tbody>\n",
       "    <tr>\n",
       "      <td>0</td>\n",
       "      <td>1</td>\n",
       "      <td>1</td>\n",
       "      <td>ryanfranco</td>\n",
       "      <td>4</td>\n",
       "    </tr>\n",
       "    <tr>\n",
       "      <td>1</td>\n",
       "      <td>2</td>\n",
       "      <td>1</td>\n",
       "      <td>grantpatricia</td>\n",
       "      <td>2</td>\n",
       "    </tr>\n",
       "    <tr>\n",
       "      <td>2</td>\n",
       "      <td>3</td>\n",
       "      <td>1</td>\n",
       "      <td>brandtandrea</td>\n",
       "      <td>5</td>\n",
       "    </tr>\n",
       "    <tr>\n",
       "      <td>3</td>\n",
       "      <td>4</td>\n",
       "      <td>2</td>\n",
       "      <td>lorichen</td>\n",
       "      <td>3</td>\n",
       "    </tr>\n",
       "    <tr>\n",
       "      <td>4</td>\n",
       "      <td>5</td>\n",
       "      <td>2</td>\n",
       "      <td>mariokeller</td>\n",
       "      <td>2</td>\n",
       "    </tr>\n",
       "  </tbody>\n",
       "</table>\n",
       "</div>"
      ],
      "text/plain": [
       "   rating_id  book_id       username  rating\n",
       "0          1        1     ryanfranco       4\n",
       "1          2        1  grantpatricia       2\n",
       "2          3        1   brandtandrea       5\n",
       "3          4        2       lorichen       3\n",
       "4          5        2    mariokeller       2"
      ]
     },
     "execution_count": 13,
     "metadata": {},
     "output_type": "execute_result"
    }
   ],
   "source": [
    "# first five rows of table 'ratings'\n",
    "query = '''\n",
    "    SELECT\n",
    "        *\n",
    "    FROM \n",
    "        ratings\n",
    "    LIMIT\n",
    "        5;\n",
    "'''\n",
    "\n",
    "queryResult(query)"
   ]
  },
  {
   "cell_type": "code",
   "execution_count": 14,
   "metadata": {},
   "outputs": [
    {
     "data": {
      "text/html": [
       "<div>\n",
       "<style scoped>\n",
       "    .dataframe tbody tr th:only-of-type {\n",
       "        vertical-align: middle;\n",
       "    }\n",
       "\n",
       "    .dataframe tbody tr th {\n",
       "        vertical-align: top;\n",
       "    }\n",
       "\n",
       "    .dataframe thead th {\n",
       "        text-align: right;\n",
       "    }\n",
       "</style>\n",
       "<table border=\"1\" class=\"dataframe\">\n",
       "  <thead>\n",
       "    <tr style=\"text-align: right;\">\n",
       "      <th></th>\n",
       "      <th>number_of_rows</th>\n",
       "    </tr>\n",
       "  </thead>\n",
       "  <tbody>\n",
       "    <tr>\n",
       "      <td>0</td>\n",
       "      <td>6456</td>\n",
       "    </tr>\n",
       "  </tbody>\n",
       "</table>\n",
       "</div>"
      ],
      "text/plain": [
       "   number_of_rows\n",
       "0            6456"
      ]
     },
     "execution_count": 14,
     "metadata": {},
     "output_type": "execute_result"
    }
   ],
   "source": [
    "# length of table 'ratings'\n",
    "query = '''\n",
    "    SELECT\n",
    "        COUNT(*) AS number_of_rows\n",
    "    FROM \n",
    "        ratings;\n",
    "'''\n",
    "\n",
    "queryResult(query)"
   ]
  },
  {
   "cell_type": "code",
   "execution_count": 15,
   "metadata": {},
   "outputs": [
    {
     "data": {
      "text/html": [
       "<div>\n",
       "<style scoped>\n",
       "    .dataframe tbody tr th:only-of-type {\n",
       "        vertical-align: middle;\n",
       "    }\n",
       "\n",
       "    .dataframe tbody tr th {\n",
       "        vertical-align: top;\n",
       "    }\n",
       "\n",
       "    .dataframe thead th {\n",
       "        text-align: right;\n",
       "    }\n",
       "</style>\n",
       "<table border=\"1\" class=\"dataframe\">\n",
       "  <thead>\n",
       "    <tr style=\"text-align: right;\">\n",
       "      <th></th>\n",
       "      <th>number_of_rating_ids</th>\n",
       "    </tr>\n",
       "  </thead>\n",
       "  <tbody>\n",
       "    <tr>\n",
       "      <td>0</td>\n",
       "      <td>6456</td>\n",
       "    </tr>\n",
       "  </tbody>\n",
       "</table>\n",
       "</div>"
      ],
      "text/plain": [
       "   number_of_rating_ids\n",
       "0                  6456"
      ]
     },
     "execution_count": 15,
     "metadata": {},
     "output_type": "execute_result"
    }
   ],
   "source": [
    "# is every rating ID unique?\n",
    "query = '''\n",
    "    SELECT\n",
    "        COUNT(DISTINCT rating_id) AS number_of_rating_ids\n",
    "    FROM \n",
    "        ratings;\n",
    "'''\n",
    "\n",
    "queryResult(query)"
   ]
  },
  {
   "cell_type": "code",
   "execution_count": 16,
   "metadata": {},
   "outputs": [
    {
     "data": {
      "text/html": [
       "<div>\n",
       "<style scoped>\n",
       "    .dataframe tbody tr th:only-of-type {\n",
       "        vertical-align: middle;\n",
       "    }\n",
       "\n",
       "    .dataframe tbody tr th {\n",
       "        vertical-align: top;\n",
       "    }\n",
       "\n",
       "    .dataframe thead th {\n",
       "        text-align: right;\n",
       "    }\n",
       "</style>\n",
       "<table border=\"1\" class=\"dataframe\">\n",
       "  <thead>\n",
       "    <tr style=\"text-align: right;\">\n",
       "      <th></th>\n",
       "      <th>minimum_rating</th>\n",
       "      <th>maximum_rating</th>\n",
       "    </tr>\n",
       "  </thead>\n",
       "  <tbody>\n",
       "    <tr>\n",
       "      <td>0</td>\n",
       "      <td>1</td>\n",
       "      <td>5</td>\n",
       "    </tr>\n",
       "  </tbody>\n",
       "</table>\n",
       "</div>"
      ],
      "text/plain": [
       "   minimum_rating  maximum_rating\n",
       "0               1               5"
      ]
     },
     "execution_count": 16,
     "metadata": {},
     "output_type": "execute_result"
    }
   ],
   "source": [
    "# maximum and minimum values for ratings\n",
    "query = '''\n",
    "    SELECT\n",
    "        MIN(rating) AS minimum_rating,\n",
    "        MAX(rating) AS maximum_rating\n",
    "    FROM \n",
    "        ratings;\n",
    "'''\n",
    "\n",
    "queryResult(query)"
   ]
  },
  {
   "cell_type": "markdown",
   "metadata": {},
   "source": [
    "<a id=\"1.5\"></a>"
   ]
  },
  {
   "cell_type": "markdown",
   "metadata": {},
   "source": [
    "### 1.5) Table 'reviews'"
   ]
  },
  {
   "cell_type": "code",
   "execution_count": 17,
   "metadata": {},
   "outputs": [
    {
     "data": {
      "text/html": [
       "<div>\n",
       "<style scoped>\n",
       "    .dataframe tbody tr th:only-of-type {\n",
       "        vertical-align: middle;\n",
       "    }\n",
       "\n",
       "    .dataframe tbody tr th {\n",
       "        vertical-align: top;\n",
       "    }\n",
       "\n",
       "    .dataframe thead th {\n",
       "        text-align: right;\n",
       "    }\n",
       "</style>\n",
       "<table border=\"1\" class=\"dataframe\">\n",
       "  <thead>\n",
       "    <tr style=\"text-align: right;\">\n",
       "      <th></th>\n",
       "      <th>review_id</th>\n",
       "      <th>book_id</th>\n",
       "      <th>username</th>\n",
       "      <th>text</th>\n",
       "    </tr>\n",
       "  </thead>\n",
       "  <tbody>\n",
       "    <tr>\n",
       "      <td>0</td>\n",
       "      <td>1</td>\n",
       "      <td>1</td>\n",
       "      <td>brandtandrea</td>\n",
       "      <td>Mention society tell send professor analysis. ...</td>\n",
       "    </tr>\n",
       "    <tr>\n",
       "      <td>1</td>\n",
       "      <td>2</td>\n",
       "      <td>1</td>\n",
       "      <td>ryanfranco</td>\n",
       "      <td>Foot glass pretty audience hit themselves. Amo...</td>\n",
       "    </tr>\n",
       "    <tr>\n",
       "      <td>2</td>\n",
       "      <td>3</td>\n",
       "      <td>2</td>\n",
       "      <td>lorichen</td>\n",
       "      <td>Listen treat keep worry. Miss husband tax but ...</td>\n",
       "    </tr>\n",
       "    <tr>\n",
       "      <td>3</td>\n",
       "      <td>4</td>\n",
       "      <td>3</td>\n",
       "      <td>johnsonamanda</td>\n",
       "      <td>Finally month interesting blue could nature cu...</td>\n",
       "    </tr>\n",
       "    <tr>\n",
       "      <td>4</td>\n",
       "      <td>5</td>\n",
       "      <td>3</td>\n",
       "      <td>scotttamara</td>\n",
       "      <td>Nation purpose heavy give wait song will. List...</td>\n",
       "    </tr>\n",
       "  </tbody>\n",
       "</table>\n",
       "</div>"
      ],
      "text/plain": [
       "   review_id  book_id       username  \\\n",
       "0          1        1   brandtandrea   \n",
       "1          2        1     ryanfranco   \n",
       "2          3        2       lorichen   \n",
       "3          4        3  johnsonamanda   \n",
       "4          5        3    scotttamara   \n",
       "\n",
       "                                                text  \n",
       "0  Mention society tell send professor analysis. ...  \n",
       "1  Foot glass pretty audience hit themselves. Amo...  \n",
       "2  Listen treat keep worry. Miss husband tax but ...  \n",
       "3  Finally month interesting blue could nature cu...  \n",
       "4  Nation purpose heavy give wait song will. List...  "
      ]
     },
     "execution_count": 17,
     "metadata": {},
     "output_type": "execute_result"
    }
   ],
   "source": [
    "# first five rows of table 'reviews'\n",
    "query = '''\n",
    "    SELECT\n",
    "        *\n",
    "    FROM \n",
    "        reviews\n",
    "    LIMIT\n",
    "        5;\n",
    "'''\n",
    "\n",
    "queryResult(query)"
   ]
  },
  {
   "cell_type": "code",
   "execution_count": 18,
   "metadata": {},
   "outputs": [
    {
     "data": {
      "text/html": [
       "<div>\n",
       "<style scoped>\n",
       "    .dataframe tbody tr th:only-of-type {\n",
       "        vertical-align: middle;\n",
       "    }\n",
       "\n",
       "    .dataframe tbody tr th {\n",
       "        vertical-align: top;\n",
       "    }\n",
       "\n",
       "    .dataframe thead th {\n",
       "        text-align: right;\n",
       "    }\n",
       "</style>\n",
       "<table border=\"1\" class=\"dataframe\">\n",
       "  <thead>\n",
       "    <tr style=\"text-align: right;\">\n",
       "      <th></th>\n",
       "      <th>number_of_rows</th>\n",
       "    </tr>\n",
       "  </thead>\n",
       "  <tbody>\n",
       "    <tr>\n",
       "      <td>0</td>\n",
       "      <td>2793</td>\n",
       "    </tr>\n",
       "  </tbody>\n",
       "</table>\n",
       "</div>"
      ],
      "text/plain": [
       "   number_of_rows\n",
       "0            2793"
      ]
     },
     "execution_count": 18,
     "metadata": {},
     "output_type": "execute_result"
    }
   ],
   "source": [
    "# length of table 'reviews'\n",
    "query = '''\n",
    "    SELECT\n",
    "        COUNT(*) AS number_of_rows\n",
    "    FROM \n",
    "        reviews;\n",
    "'''\n",
    "\n",
    "queryResult(query)"
   ]
  },
  {
   "cell_type": "code",
   "execution_count": 19,
   "metadata": {},
   "outputs": [
    {
     "data": {
      "text/html": [
       "<div>\n",
       "<style scoped>\n",
       "    .dataframe tbody tr th:only-of-type {\n",
       "        vertical-align: middle;\n",
       "    }\n",
       "\n",
       "    .dataframe tbody tr th {\n",
       "        vertical-align: top;\n",
       "    }\n",
       "\n",
       "    .dataframe thead th {\n",
       "        text-align: right;\n",
       "    }\n",
       "</style>\n",
       "<table border=\"1\" class=\"dataframe\">\n",
       "  <thead>\n",
       "    <tr style=\"text-align: right;\">\n",
       "      <th></th>\n",
       "      <th>number_of_review_ids</th>\n",
       "    </tr>\n",
       "  </thead>\n",
       "  <tbody>\n",
       "    <tr>\n",
       "      <td>0</td>\n",
       "      <td>2793</td>\n",
       "    </tr>\n",
       "  </tbody>\n",
       "</table>\n",
       "</div>"
      ],
      "text/plain": [
       "   number_of_review_ids\n",
       "0                  2793"
      ]
     },
     "execution_count": 19,
     "metadata": {},
     "output_type": "execute_result"
    }
   ],
   "source": [
    "# is every review ID unique?\n",
    "query = '''\n",
    "    SELECT\n",
    "        COUNT(DISTINCT review_id) AS number_of_review_ids\n",
    "    FROM \n",
    "        reviews;\n",
    "'''\n",
    "\n",
    "queryResult(query)"
   ]
  },
  {
   "cell_type": "markdown",
   "metadata": {},
   "source": [
    "<a id=\"1.6\"></a>"
   ]
  },
  {
   "cell_type": "markdown",
   "metadata": {},
   "source": [
    "### 1.6) Table 'publishers'"
   ]
  },
  {
   "cell_type": "code",
   "execution_count": 20,
   "metadata": {},
   "outputs": [
    {
     "data": {
      "text/html": [
       "<div>\n",
       "<style scoped>\n",
       "    .dataframe tbody tr th:only-of-type {\n",
       "        vertical-align: middle;\n",
       "    }\n",
       "\n",
       "    .dataframe tbody tr th {\n",
       "        vertical-align: top;\n",
       "    }\n",
       "\n",
       "    .dataframe thead th {\n",
       "        text-align: right;\n",
       "    }\n",
       "</style>\n",
       "<table border=\"1\" class=\"dataframe\">\n",
       "  <thead>\n",
       "    <tr style=\"text-align: right;\">\n",
       "      <th></th>\n",
       "      <th>publisher_id</th>\n",
       "      <th>publisher</th>\n",
       "    </tr>\n",
       "  </thead>\n",
       "  <tbody>\n",
       "    <tr>\n",
       "      <td>0</td>\n",
       "      <td>1</td>\n",
       "      <td>Ace</td>\n",
       "    </tr>\n",
       "    <tr>\n",
       "      <td>1</td>\n",
       "      <td>2</td>\n",
       "      <td>Ace Book</td>\n",
       "    </tr>\n",
       "    <tr>\n",
       "      <td>2</td>\n",
       "      <td>3</td>\n",
       "      <td>Ace Books</td>\n",
       "    </tr>\n",
       "    <tr>\n",
       "      <td>3</td>\n",
       "      <td>4</td>\n",
       "      <td>Ace Hardcover</td>\n",
       "    </tr>\n",
       "    <tr>\n",
       "      <td>4</td>\n",
       "      <td>5</td>\n",
       "      <td>Addison Wesley Publishing Company</td>\n",
       "    </tr>\n",
       "  </tbody>\n",
       "</table>\n",
       "</div>"
      ],
      "text/plain": [
       "   publisher_id                          publisher\n",
       "0             1                                Ace\n",
       "1             2                           Ace Book\n",
       "2             3                          Ace Books\n",
       "3             4                      Ace Hardcover\n",
       "4             5  Addison Wesley Publishing Company"
      ]
     },
     "execution_count": 20,
     "metadata": {},
     "output_type": "execute_result"
    }
   ],
   "source": [
    "# first five rows of table 'publishers'\n",
    "query = '''\n",
    "    SELECT\n",
    "        *\n",
    "    FROM \n",
    "        publishers\n",
    "    LIMIT\n",
    "        5;\n",
    "'''\n",
    "\n",
    "queryResult(query)"
   ]
  },
  {
   "cell_type": "code",
   "execution_count": 21,
   "metadata": {},
   "outputs": [
    {
     "data": {
      "text/html": [
       "<div>\n",
       "<style scoped>\n",
       "    .dataframe tbody tr th:only-of-type {\n",
       "        vertical-align: middle;\n",
       "    }\n",
       "\n",
       "    .dataframe tbody tr th {\n",
       "        vertical-align: top;\n",
       "    }\n",
       "\n",
       "    .dataframe thead th {\n",
       "        text-align: right;\n",
       "    }\n",
       "</style>\n",
       "<table border=\"1\" class=\"dataframe\">\n",
       "  <thead>\n",
       "    <tr style=\"text-align: right;\">\n",
       "      <th></th>\n",
       "      <th>number_of_rows</th>\n",
       "    </tr>\n",
       "  </thead>\n",
       "  <tbody>\n",
       "    <tr>\n",
       "      <td>0</td>\n",
       "      <td>340</td>\n",
       "    </tr>\n",
       "  </tbody>\n",
       "</table>\n",
       "</div>"
      ],
      "text/plain": [
       "   number_of_rows\n",
       "0             340"
      ]
     },
     "execution_count": 21,
     "metadata": {},
     "output_type": "execute_result"
    }
   ],
   "source": [
    "# length of table 'publishers'\n",
    "query = '''\n",
    "    SELECT\n",
    "        COUNT(*) AS number_of_rows\n",
    "    FROM \n",
    "        publishers;\n",
    "'''\n",
    "\n",
    "queryResult(query)"
   ]
  },
  {
   "cell_type": "code",
   "execution_count": 22,
   "metadata": {},
   "outputs": [
    {
     "data": {
      "text/html": [
       "<div>\n",
       "<style scoped>\n",
       "    .dataframe tbody tr th:only-of-type {\n",
       "        vertical-align: middle;\n",
       "    }\n",
       "\n",
       "    .dataframe tbody tr th {\n",
       "        vertical-align: top;\n",
       "    }\n",
       "\n",
       "    .dataframe thead th {\n",
       "        text-align: right;\n",
       "    }\n",
       "</style>\n",
       "<table border=\"1\" class=\"dataframe\">\n",
       "  <thead>\n",
       "    <tr style=\"text-align: right;\">\n",
       "      <th></th>\n",
       "      <th>number_of_publisher_ids</th>\n",
       "    </tr>\n",
       "  </thead>\n",
       "  <tbody>\n",
       "    <tr>\n",
       "      <td>0</td>\n",
       "      <td>340</td>\n",
       "    </tr>\n",
       "  </tbody>\n",
       "</table>\n",
       "</div>"
      ],
      "text/plain": [
       "   number_of_publisher_ids\n",
       "0                      340"
      ]
     },
     "execution_count": 22,
     "metadata": {},
     "output_type": "execute_result"
    }
   ],
   "source": [
    "# is every publisher ID unique?\n",
    "query = '''\n",
    "    SELECT\n",
    "        COUNT(DISTINCT publisher_id) AS number_of_publisher_ids\n",
    "    FROM \n",
    "        publishers;\n",
    "'''\n",
    "\n",
    "queryResult(query)"
   ]
  },
  {
   "cell_type": "markdown",
   "metadata": {},
   "source": [
    "<a id=\"1.7\"></a>"
   ]
  },
  {
   "cell_type": "markdown",
   "metadata": {},
   "source": [
    "### 1.7) Conclusion"
   ]
  },
  {
   "cell_type": "markdown",
   "metadata": {},
   "source": [
    "The table 'books' has exactly 1000 rows and it contains certain fields that are connected with the other tables: The column 'book_id' is also given in the tables 'ratings' (6456 rows) and 'reviews' (2793 rows). These two tables contain ratings (in numbers between 1 to 5) or reviews from certain people (username) for certain books (book ID). The table 'authors' (636 rows) is connected by the column 'author_id' with the 'books' table. The table 'publishers' (340 rows) is connected by the column 'publisher_id' with the 'books' table. For every table, all the IDs are unique."
   ]
  },
  {
   "cell_type": "markdown",
   "metadata": {},
   "source": [
    "<a id=\"2\"></a>"
   ]
  },
  {
   "cell_type": "markdown",
   "metadata": {},
   "source": [
    "## 2) Analysis"
   ]
  },
  {
   "cell_type": "markdown",
   "metadata": {},
   "source": [
    "<a id=\"2.1\"></a>"
   ]
  },
  {
   "cell_type": "markdown",
   "metadata": {},
   "source": [
    "### 2.1) Number of books released after January 1, 2000"
   ]
  },
  {
   "cell_type": "code",
   "execution_count": 23,
   "metadata": {},
   "outputs": [
    {
     "data": {
      "text/html": [
       "<div>\n",
       "<style scoped>\n",
       "    .dataframe tbody tr th:only-of-type {\n",
       "        vertical-align: middle;\n",
       "    }\n",
       "\n",
       "    .dataframe tbody tr th {\n",
       "        vertical-align: top;\n",
       "    }\n",
       "\n",
       "    .dataframe thead th {\n",
       "        text-align: right;\n",
       "    }\n",
       "</style>\n",
       "<table border=\"1\" class=\"dataframe\">\n",
       "  <thead>\n",
       "    <tr style=\"text-align: right;\">\n",
       "      <th></th>\n",
       "      <th>number_of_books</th>\n",
       "    </tr>\n",
       "  </thead>\n",
       "  <tbody>\n",
       "    <tr>\n",
       "      <td>0</td>\n",
       "      <td>819</td>\n",
       "    </tr>\n",
       "  </tbody>\n",
       "</table>\n",
       "</div>"
      ],
      "text/plain": [
       "   number_of_books\n",
       "0              819"
      ]
     },
     "execution_count": 23,
     "metadata": {},
     "output_type": "execute_result"
    }
   ],
   "source": [
    "# Count the number of book IDs that have a publication date that is later than the 1st of January 2000\n",
    "\n",
    "query = '''\n",
    "    SELECT\n",
    "        COUNT(DISTINCT book_id) AS number_of_books\n",
    "    FROM \n",
    "        books\n",
    "    WHERE\n",
    "        publication_date :: date > '2000-01-01';\n",
    "'''\n",
    "\n",
    "queryResult(query)"
   ]
  },
  {
   "cell_type": "markdown",
   "metadata": {},
   "source": [
    "#### Conclusion"
   ]
  },
  {
   "cell_type": "markdown",
   "metadata": {},
   "source": [
    "The number of books released after the 1st of January 2000 is 819 books. <br> Since the table has 1000 books, that means that around 18% of all books (= (1000-819)/1000) in the table 'books' have been published in the 90s or earlier."
   ]
  },
  {
   "cell_type": "markdown",
   "metadata": {},
   "source": [
    "<a id=\"2.2\"></a>"
   ]
  },
  {
   "cell_type": "markdown",
   "metadata": {},
   "source": [
    "### 2.2) The number of user reviews and the average rating for each book"
   ]
  },
  {
   "cell_type": "code",
   "execution_count": 24,
   "metadata": {},
   "outputs": [
    {
     "data": {
      "text/html": [
       "<div>\n",
       "<style scoped>\n",
       "    .dataframe tbody tr th:only-of-type {\n",
       "        vertical-align: middle;\n",
       "    }\n",
       "\n",
       "    .dataframe tbody tr th {\n",
       "        vertical-align: top;\n",
       "    }\n",
       "\n",
       "    .dataframe thead th {\n",
       "        text-align: right;\n",
       "    }\n",
       "</style>\n",
       "<table border=\"1\" class=\"dataframe\">\n",
       "  <thead>\n",
       "    <tr style=\"text-align: right;\">\n",
       "      <th></th>\n",
       "      <th>book_id</th>\n",
       "      <th>title</th>\n",
       "      <th>avg_rating</th>\n",
       "      <th>number_of_user_reviews</th>\n",
       "    </tr>\n",
       "  </thead>\n",
       "  <tbody>\n",
       "    <tr>\n",
       "      <td>0</td>\n",
       "      <td>948</td>\n",
       "      <td>Twilight (Twilight  #1)</td>\n",
       "      <td>3.662500</td>\n",
       "      <td>1120</td>\n",
       "    </tr>\n",
       "    <tr>\n",
       "      <td>1</td>\n",
       "      <td>750</td>\n",
       "      <td>The Hobbit  or There and Back Again</td>\n",
       "      <td>4.125000</td>\n",
       "      <td>528</td>\n",
       "    </tr>\n",
       "    <tr>\n",
       "      <td>2</td>\n",
       "      <td>673</td>\n",
       "      <td>The Catcher in the Rye</td>\n",
       "      <td>3.825581</td>\n",
       "      <td>516</td>\n",
       "    </tr>\n",
       "    <tr>\n",
       "      <td>3</td>\n",
       "      <td>302</td>\n",
       "      <td>Harry Potter and the Prisoner of Azkaban (Harr...</td>\n",
       "      <td>4.414634</td>\n",
       "      <td>492</td>\n",
       "    </tr>\n",
       "    <tr>\n",
       "      <td>4</td>\n",
       "      <td>299</td>\n",
       "      <td>Harry Potter and the Chamber of Secrets (Harry...</td>\n",
       "      <td>4.287500</td>\n",
       "      <td>480</td>\n",
       "    </tr>\n",
       "  </tbody>\n",
       "</table>\n",
       "</div>"
      ],
      "text/plain": [
       "   book_id                                              title  avg_rating  \\\n",
       "0      948                            Twilight (Twilight  #1)    3.662500   \n",
       "1      750                The Hobbit  or There and Back Again    4.125000   \n",
       "2      673                             The Catcher in the Rye    3.825581   \n",
       "3      302  Harry Potter and the Prisoner of Azkaban (Harr...    4.414634   \n",
       "4      299  Harry Potter and the Chamber of Secrets (Harry...    4.287500   \n",
       "\n",
       "   number_of_user_reviews  \n",
       "0                    1120  \n",
       "1                     528  \n",
       "2                     516  \n",
       "3                     492  \n",
       "4                     480  "
      ]
     },
     "execution_count": 24,
     "metadata": {},
     "output_type": "execute_result"
    }
   ],
   "source": [
    "# In the subquery I create a table that contains all ratings for every book ID; every of these ratings is given as often in the\n",
    "# table as many reviews are given for that book ID. The number of reviews is given by the number of review IDs and the\n",
    "# average rating is given by the average number of the ratings (the fact that all ratings are listed multiple times does not\n",
    "# affect the average value for each book ID)\n",
    "\n",
    "query = '''\n",
    "    SELECT\n",
    "        Sub.book_id,\n",
    "        Sub.title,\n",
    "        AVG(Sub.rating) AS avg_rating,\n",
    "        COUNT(Sub.review_id) AS number_of_user_reviews\n",
    "    FROM\n",
    "        (SELECT\n",
    "            books.book_id,\n",
    "            books.title,\n",
    "            ratings.rating,\n",
    "            reviews.review_id\n",
    "        FROM\n",
    "            books\n",
    "            INNER JOIN ratings ON books.book_id = ratings.book_id\n",
    "            INNER JOIN reviews ON books.book_id = reviews.book_id) AS Sub\n",
    "    GROUP BY\n",
    "        Sub.book_id,\n",
    "        Sub.title\n",
    "    ORDER BY\n",
    "        number_of_user_reviews DESC\n",
    "    LIMIT\n",
    "        5;\n",
    "'''\n",
    "\n",
    "queryResult(query)"
   ]
  },
  {
   "cell_type": "markdown",
   "metadata": {},
   "source": [
    "#### Conclusion"
   ]
  },
  {
   "cell_type": "markdown",
   "metadata": {},
   "source": [
    "For every book I calculated the average rating and the number of user reviews. The book with the most user reviews has been reviewed 7 times and has the book ID 948 with the title 'Twilight #1'. Comparing this book with the Harry Potter books in the table above, one can see that books with similar number of user reviews can have different average user ratings. That means that popular books don't necessarily need to be the best rated ones. One can assume that books with many user reviews are popular, so they have also many user ratings. That leads to a more solid average rating value that mirrors the opinions of many book lovers; an average rating of 5.0 is not solid if it is the average of one or two ratings."
   ]
  },
  {
   "cell_type": "markdown",
   "metadata": {},
   "source": [
    "<a id=\"2.3\"></a>"
   ]
  },
  {
   "cell_type": "markdown",
   "metadata": {},
   "source": [
    "### 2.3) Identify the publisher that has released the greatest number of books with more than 50 pages"
   ]
  },
  {
   "cell_type": "code",
   "execution_count": 25,
   "metadata": {},
   "outputs": [
    {
     "data": {
      "text/html": [
       "<div>\n",
       "<style scoped>\n",
       "    .dataframe tbody tr th:only-of-type {\n",
       "        vertical-align: middle;\n",
       "    }\n",
       "\n",
       "    .dataframe tbody tr th {\n",
       "        vertical-align: top;\n",
       "    }\n",
       "\n",
       "    .dataframe thead th {\n",
       "        text-align: right;\n",
       "    }\n",
       "</style>\n",
       "<table border=\"1\" class=\"dataframe\">\n",
       "  <thead>\n",
       "    <tr style=\"text-align: right;\">\n",
       "      <th></th>\n",
       "      <th>publisher_id</th>\n",
       "      <th>publisher</th>\n",
       "      <th>number_of_books</th>\n",
       "    </tr>\n",
       "  </thead>\n",
       "  <tbody>\n",
       "    <tr>\n",
       "      <td>0</td>\n",
       "      <td>212</td>\n",
       "      <td>Penguin Books</td>\n",
       "      <td>42</td>\n",
       "    </tr>\n",
       "    <tr>\n",
       "      <td>1</td>\n",
       "      <td>309</td>\n",
       "      <td>Vintage</td>\n",
       "      <td>31</td>\n",
       "    </tr>\n",
       "    <tr>\n",
       "      <td>2</td>\n",
       "      <td>116</td>\n",
       "      <td>Grand Central Publishing</td>\n",
       "      <td>25</td>\n",
       "    </tr>\n",
       "    <tr>\n",
       "      <td>3</td>\n",
       "      <td>217</td>\n",
       "      <td>Penguin Classics</td>\n",
       "      <td>24</td>\n",
       "    </tr>\n",
       "    <tr>\n",
       "      <td>4</td>\n",
       "      <td>33</td>\n",
       "      <td>Ballantine Books</td>\n",
       "      <td>19</td>\n",
       "    </tr>\n",
       "  </tbody>\n",
       "</table>\n",
       "</div>"
      ],
      "text/plain": [
       "   publisher_id                 publisher  number_of_books\n",
       "0           212             Penguin Books               42\n",
       "1           309                   Vintage               31\n",
       "2           116  Grand Central Publishing               25\n",
       "3           217          Penguin Classics               24\n",
       "4            33          Ballantine Books               19"
      ]
     },
     "execution_count": 25,
     "metadata": {},
     "output_type": "execute_result"
    }
   ],
   "source": [
    "# In the subquery I connect the publisher ID from the table 'books' with the publisher's name from the table 'publishers' and\n",
    "# I set the condition to have only books with more than 50 pages. In the query, for every publisher I count the number of books\n",
    "# and order by that number to see the five publishers with the greatest number of released books\n",
    "\n",
    "query = '''\n",
    "    SELECT\n",
    "        Sub.publisher_id,\n",
    "        Sub.publisher,\n",
    "        COUNT(DISTINCT Sub.book_id) AS number_of_books\n",
    "    FROM\n",
    "        (SELECT\n",
    "            books.book_id,\n",
    "            books.num_pages,\n",
    "            books.publisher_id,\n",
    "            publishers.publisher\n",
    "        FROM\n",
    "            books\n",
    "            INNER JOIN publishers ON books.publisher_id = publishers.publisher_id\n",
    "        WHERE\n",
    "            books.num_pages > 50) AS Sub\n",
    "    GROUP BY\n",
    "        Sub.publisher_id,\n",
    "        Sub.publisher\n",
    "    ORDER BY\n",
    "        number_of_books DESC\n",
    "    LIMIT\n",
    "        5;\n",
    "'''\n",
    "\n",
    "queryResult(query)"
   ]
  },
  {
   "cell_type": "markdown",
   "metadata": {},
   "source": [
    "#### Conclusion"
   ]
  },
  {
   "cell_type": "markdown",
   "metadata": {},
   "source": [
    "From the data given we can conclude: The publisher that has released the greatest number of books with more than 50 pages has the publisher ID 212, is named 'Penguin Books' and released 42 books with more than 50 pages. The condition of the pages excludes short brochures and similar publications. Looking at the big differences in the number of books from the biggest 5 publishers above one can derive that the book publishing market is leaded by only few publishers having the most books published. The difference between the biggest and the second biggest publisher is 11 books which corresponds to around 26% (= 11/42) from the 42 books published by 'Penguin Books'."
   ]
  },
  {
   "cell_type": "markdown",
   "metadata": {},
   "source": [
    "<a id=\"2.4\"></a>"
   ]
  },
  {
   "cell_type": "markdown",
   "metadata": {},
   "source": [
    "### 2.4) Identify the author with the highest average book rating (look only at books with at least 50 ratings)"
   ]
  },
  {
   "cell_type": "code",
   "execution_count": 26,
   "metadata": {},
   "outputs": [
    {
     "data": {
      "text/html": [
       "<div>\n",
       "<style scoped>\n",
       "    .dataframe tbody tr th:only-of-type {\n",
       "        vertical-align: middle;\n",
       "    }\n",
       "\n",
       "    .dataframe tbody tr th {\n",
       "        vertical-align: top;\n",
       "    }\n",
       "\n",
       "    .dataframe thead th {\n",
       "        text-align: right;\n",
       "    }\n",
       "</style>\n",
       "<table border=\"1\" class=\"dataframe\">\n",
       "  <thead>\n",
       "    <tr style=\"text-align: right;\">\n",
       "      <th></th>\n",
       "      <th>author_id</th>\n",
       "      <th>author</th>\n",
       "      <th>avg_book_rating_by_author</th>\n",
       "    </tr>\n",
       "  </thead>\n",
       "  <tbody>\n",
       "    <tr>\n",
       "      <td>0</td>\n",
       "      <td>236</td>\n",
       "      <td>J.K. Rowling/Mary GrandPré</td>\n",
       "      <td>4.283844</td>\n",
       "    </tr>\n",
       "    <tr>\n",
       "      <td>1</td>\n",
       "      <td>402</td>\n",
       "      <td>Markus Zusak/Cao Xuân Việt Khương</td>\n",
       "      <td>4.264151</td>\n",
       "    </tr>\n",
       "    <tr>\n",
       "      <td>2</td>\n",
       "      <td>240</td>\n",
       "      <td>J.R.R. Tolkien</td>\n",
       "      <td>4.258446</td>\n",
       "    </tr>\n",
       "  </tbody>\n",
       "</table>\n",
       "</div>"
      ],
      "text/plain": [
       "   author_id                             author  avg_book_rating_by_author\n",
       "0        236         J.K. Rowling/Mary GrandPré                   4.283844\n",
       "1        402  Markus Zusak/Cao Xuân Việt Khương                   4.264151\n",
       "2        240                     J.R.R. Tolkien                   4.258446"
      ]
     },
     "execution_count": 26,
     "metadata": {},
     "output_type": "execute_result"
    }
   ],
   "source": [
    "# In the subquery, for every book I count the number of ratings and calculate the average rating. I choose only those books with\n",
    "# at least 50 ratings. In the query, I group by authors and calculate the average book rating for every author. I order in \n",
    "# descending order of average book ratings and print the first five rows to see the five authors with the highest values\n",
    "\n",
    "query = '''\n",
    "    SELECT\n",
    "        Sub.author_id,\n",
    "        Sub.author,\n",
    "        AVG(Sub.avg_rating_of_book) AS avg_book_rating_by_author\n",
    "    FROM\n",
    "        (SELECT\n",
    "            books.book_id,\n",
    "            books.author_id,\n",
    "            authors.author,\n",
    "            COUNT(ratings.rating),\n",
    "            AVG(ratings.rating) AS avg_rating_of_book\n",
    "        FROM\n",
    "            books\n",
    "            INNER JOIN authors ON books.author_id = authors.author_id\n",
    "            INNER JOIN ratings ON books.book_id = ratings.book_id \n",
    "        GROUP BY\n",
    "            books.book_id,\n",
    "            books.author_id,\n",
    "            authors.author\n",
    "        HAVING\n",
    "            COUNT(ratings.rating) >= 50) AS Sub\n",
    "    GROUP BY\n",
    "        Sub.author_id,\n",
    "        Sub.author\n",
    "    ORDER BY\n",
    "        avg_book_rating_by_author DESC\n",
    "    LIMIT\n",
    "        3;\n",
    "'''\n",
    "\n",
    "queryResult(query)"
   ]
  },
  {
   "cell_type": "markdown",
   "metadata": {},
   "source": [
    "#### Conclusion"
   ]
  },
  {
   "cell_type": "markdown",
   "metadata": {},
   "source": [
    "The highest value for average book ratings is 4.28 and is achieved by the author J.K. Rowling; the author known for the Harry Potter books. The second name Mary GrandPré is an american illustrator for covers and chapters of the Harry Potter books. Looking at the top three authors one can see that their average book ratings range between 4.258 and 4.284 which is a small area; that means there are multiple popular authors having high book ratings."
   ]
  },
  {
   "cell_type": "markdown",
   "metadata": {},
   "source": [
    "<a id=\"2.5\"></a>"
   ]
  },
  {
   "cell_type": "markdown",
   "metadata": {},
   "source": [
    "### 2.5) The average number of text reviews among users who rated more than 50 books"
   ]
  },
  {
   "cell_type": "code",
   "execution_count": 27,
   "metadata": {},
   "outputs": [
    {
     "data": {
      "text/html": [
       "<div>\n",
       "<style scoped>\n",
       "    .dataframe tbody tr th:only-of-type {\n",
       "        vertical-align: middle;\n",
       "    }\n",
       "\n",
       "    .dataframe tbody tr th {\n",
       "        vertical-align: top;\n",
       "    }\n",
       "\n",
       "    .dataframe thead th {\n",
       "        text-align: right;\n",
       "    }\n",
       "</style>\n",
       "<table border=\"1\" class=\"dataframe\">\n",
       "  <thead>\n",
       "    <tr style=\"text-align: right;\">\n",
       "      <th></th>\n",
       "      <th>avg_number_of_text_reviews</th>\n",
       "    </tr>\n",
       "  </thead>\n",
       "  <tbody>\n",
       "    <tr>\n",
       "      <td>0</td>\n",
       "      <td>24.333333</td>\n",
       "    </tr>\n",
       "  </tbody>\n",
       "</table>\n",
       "</div>"
      ],
      "text/plain": [
       "   avg_number_of_text_reviews\n",
       "0                   24.333333"
      ]
     },
     "execution_count": 27,
     "metadata": {},
     "output_type": "execute_result"
    }
   ],
   "source": [
    "# In the subquery I take the 'ratings' table and add data from the 'reviews' table to it in the following way: For every\n",
    "# username from the 'ratings' table I count the number of unique reviews and count the number of unique books being rated;\n",
    "# I only leave the data of usernames who rated more than 50 books. In the query I divide the total number of text reviews\n",
    "# by the number of users to get the average number of text reviews\n",
    "\n",
    "query = '''\n",
    "    SELECT\n",
    "        (SUM(Sub.number_of_text_reviews) / COUNT(DISTINCT Sub.username)) AS avg_number_of_text_reviews\n",
    "    FROM\n",
    "        (SELECT\n",
    "            ratings.username,\n",
    "            COUNT(DISTINCT(reviews.review_id)) AS number_of_text_reviews,\n",
    "            COUNT(DISTINCT(ratings.book_id)) AS number_of_rated_books\n",
    "        FROM\n",
    "            ratings\n",
    "            LEFT JOIN reviews ON ratings.username = reviews.username\n",
    "        GROUP BY\n",
    "            ratings.username\n",
    "        HAVING\n",
    "            COUNT(DISTINCT(ratings.book_id)) > 50) AS Sub;\n",
    "'''\n",
    "\n",
    "queryResult(query)"
   ]
  },
  {
   "cell_type": "markdown",
   "metadata": {},
   "source": [
    "#### Conclusion"
   ]
  },
  {
   "cell_type": "markdown",
   "metadata": {},
   "source": [
    "Among those users who rated more than 50 books the average number of text reviews is around 24 text reviews per user. That means that user who love rating books with an number also like writing text reviews about them; but more rare since 24 text reviews is a much smaller number than 50 or more ratings. "
   ]
  },
  {
   "cell_type": "markdown",
   "metadata": {},
   "source": [
    "<a id=\"3\"></a>"
   ]
  },
  {
   "cell_type": "markdown",
   "metadata": {},
   "source": [
    "## 3) Overall Conclusion"
   ]
  },
  {
   "cell_type": "markdown",
   "metadata": {},
   "source": [
    "The analysis gives us the following findings:\n",
    "\n",
    "- Over 80% of all books have been published in the 2000s or later\n",
    "- Popular books don't necessarily need to be the best rated ones\n",
    "- Books with many user reviews are popular, so it's more likely that they also have many user ratings which lead to solid ratings\n",
    "- The leader in the book publishing market is 'Penguin Books' having 42 of 1000 books published from the given data\n",
    "- The book publishing market is leaded by only few publishers having the most books published\n",
    "- The highest value for average book ratings is 4.28 and is achieved by the author J.K. Rowling; the author known for the Harry Potter books\n",
    "- There are multiple popular authors having high book ratings\n",
    "- Book lovers rating many books also likely do many text reviews about books\n",
    "\n",
    "For a new product (like a new app for book lovers) in the book market, in generell it's important to think of the function of the product. It should focus on popular books since they have many ratings which give a better picture on how much readers enjoyed the book. It might be a good idea to have deals with certain publishers as there are certain publishers with a high share of books in the market. Having many books attracts book lovers since they love rating books and writting many reviews about them; even though if the book hasn't been rated high."
   ]
  },
  {
   "cell_type": "code",
   "execution_count": null,
   "metadata": {},
   "outputs": [],
   "source": []
  }
 ],
 "metadata": {
  "ExecuteTimeLog": [
   {
    "duration": 774,
    "start_time": "2022-02-08T10:02:42.330Z"
   },
   {
    "duration": 20,
    "start_time": "2022-02-08T10:02:43.106Z"
   },
   {
    "duration": 2,
    "start_time": "2022-02-08T10:02:43.128Z"
   },
   {
    "duration": 286,
    "start_time": "2022-02-08T10:02:43.132Z"
   },
   {
    "duration": 66,
    "start_time": "2022-02-08T10:02:43.419Z"
   },
   {
    "duration": 64,
    "start_time": "2022-02-08T10:02:43.487Z"
   },
   {
    "duration": 66,
    "start_time": "2022-02-08T10:02:43.553Z"
   },
   {
    "duration": 67,
    "start_time": "2022-02-08T10:02:43.620Z"
   },
   {
    "duration": 68,
    "start_time": "2022-02-08T10:02:43.690Z"
   },
   {
    "duration": 66,
    "start_time": "2022-02-08T10:02:43.760Z"
   },
   {
    "duration": 64,
    "start_time": "2022-02-08T10:02:43.828Z"
   },
   {
    "duration": 67,
    "start_time": "2022-02-08T10:02:43.894Z"
   },
   {
    "duration": 67,
    "start_time": "2022-02-08T10:02:43.962Z"
   },
   {
    "duration": 65,
    "start_time": "2022-02-08T10:02:44.030Z"
   },
   {
    "duration": 70,
    "start_time": "2022-02-08T10:02:44.097Z"
   },
   {
    "duration": 68,
    "start_time": "2022-02-08T10:02:44.168Z"
   },
   {
    "duration": 68,
    "start_time": "2022-02-08T10:02:44.238Z"
   },
   {
    "duration": 64,
    "start_time": "2022-02-08T10:02:44.308Z"
   },
   {
    "duration": 66,
    "start_time": "2022-02-08T10:02:44.374Z"
   },
   {
    "duration": 67,
    "start_time": "2022-02-08T10:02:44.442Z"
   },
   {
    "duration": 65,
    "start_time": "2022-02-08T10:02:44.511Z"
   },
   {
    "duration": 67,
    "start_time": "2022-02-08T10:02:44.577Z"
   },
   {
    "duration": 64,
    "start_time": "2022-02-08T10:02:44.646Z"
   },
   {
    "duration": 76,
    "start_time": "2022-02-08T10:02:44.712Z"
   },
   {
    "duration": 69,
    "start_time": "2022-02-08T10:02:44.789Z"
   },
   {
    "duration": 509,
    "start_time": "2022-02-08T10:05:11.025Z"
   },
   {
    "duration": 468,
    "start_time": "2022-02-08T10:05:16.896Z"
   },
   {
    "duration": 78,
    "start_time": "2022-02-08T10:05:32.013Z"
   },
   {
    "duration": 426,
    "start_time": "2022-02-08T10:10:28.871Z"
   },
   {
    "duration": 74,
    "start_time": "2022-02-08T10:10:51.025Z"
   },
   {
    "duration": 450,
    "start_time": "2022-02-08T10:12:03.136Z"
   },
   {
    "duration": 502,
    "start_time": "2022-02-08T10:12:22.185Z"
   },
   {
    "duration": 425,
    "start_time": "2022-02-08T10:12:29.091Z"
   },
   {
    "duration": 73,
    "start_time": "2022-02-08T10:12:42.899Z"
   },
   {
    "duration": 72,
    "start_time": "2022-02-08T10:22:27.222Z"
   },
   {
    "duration": 73,
    "start_time": "2022-02-08T10:22:32.959Z"
   },
   {
    "duration": 71,
    "start_time": "2022-02-08T10:22:42.822Z"
   },
   {
    "duration": 71,
    "start_time": "2022-02-08T10:23:04.777Z"
   },
   {
    "duration": 74,
    "start_time": "2022-02-08T10:40:49.979Z"
   },
   {
    "duration": 71,
    "start_time": "2022-02-08T10:41:07.695Z"
   },
   {
    "duration": 72,
    "start_time": "2022-02-08T10:41:19.782Z"
   },
   {
    "duration": 77,
    "start_time": "2022-02-08T12:18:23.097Z"
   },
   {
    "duration": 69,
    "start_time": "2022-02-08T12:18:33.333Z"
   },
   {
    "duration": 73,
    "start_time": "2022-02-08T12:18:42.449Z"
   },
   {
    "duration": 469,
    "start_time": "2022-02-08T12:24:55.120Z"
   },
   {
    "duration": 433,
    "start_time": "2022-02-08T12:25:31.407Z"
   },
   {
    "duration": 97,
    "start_time": "2022-02-08T12:25:43.458Z"
   },
   {
    "duration": 76,
    "start_time": "2022-02-08T12:54:20.740Z"
   },
   {
    "duration": 661,
    "start_time": "2022-02-08T13:41:40.032Z"
   },
   {
    "duration": 18,
    "start_time": "2022-02-08T13:41:40.694Z"
   },
   {
    "duration": 3,
    "start_time": "2022-02-08T13:41:40.714Z"
   },
   {
    "duration": 264,
    "start_time": "2022-02-08T13:41:40.719Z"
   },
   {
    "duration": 71,
    "start_time": "2022-02-08T13:41:40.985Z"
   },
   {
    "duration": 72,
    "start_time": "2022-02-08T13:41:41.057Z"
   },
   {
    "duration": 70,
    "start_time": "2022-02-08T13:41:41.130Z"
   },
   {
    "duration": 72,
    "start_time": "2022-02-08T13:41:41.204Z"
   },
   {
    "duration": 73,
    "start_time": "2022-02-08T13:41:41.279Z"
   },
   {
    "duration": 72,
    "start_time": "2022-02-08T13:41:41.354Z"
   },
   {
    "duration": 74,
    "start_time": "2022-02-08T13:41:41.428Z"
   },
   {
    "duration": 74,
    "start_time": "2022-02-08T13:41:41.504Z"
   },
   {
    "duration": 83,
    "start_time": "2022-02-08T13:41:41.580Z"
   },
   {
    "duration": 72,
    "start_time": "2022-02-08T13:41:41.665Z"
   },
   {
    "duration": 73,
    "start_time": "2022-02-08T13:41:41.739Z"
   },
   {
    "duration": 75,
    "start_time": "2022-02-08T13:41:41.813Z"
   },
   {
    "duration": 73,
    "start_time": "2022-02-08T13:41:41.889Z"
   },
   {
    "duration": 73,
    "start_time": "2022-02-08T13:41:41.964Z"
   },
   {
    "duration": 73,
    "start_time": "2022-02-08T13:41:42.038Z"
   },
   {
    "duration": 73,
    "start_time": "2022-02-08T13:41:42.112Z"
   },
   {
    "duration": 72,
    "start_time": "2022-02-08T13:41:42.187Z"
   },
   {
    "duration": 72,
    "start_time": "2022-02-08T13:41:42.260Z"
   },
   {
    "duration": 72,
    "start_time": "2022-02-08T13:41:42.335Z"
   },
   {
    "duration": 83,
    "start_time": "2022-02-08T13:41:42.408Z"
   },
   {
    "duration": 74,
    "start_time": "2022-02-08T13:41:42.493Z"
   },
   {
    "duration": 77,
    "start_time": "2022-02-08T13:41:42.569Z"
   },
   {
    "duration": 103,
    "start_time": "2022-02-08T13:41:42.647Z"
   },
   {
    "duration": 720,
    "start_time": "2022-02-08T19:17:19.746Z"
   },
   {
    "duration": 20,
    "start_time": "2022-02-08T19:17:20.468Z"
   },
   {
    "duration": 3,
    "start_time": "2022-02-08T19:17:20.490Z"
   },
   {
    "duration": 258,
    "start_time": "2022-02-08T19:17:20.496Z"
   },
   {
    "duration": 67,
    "start_time": "2022-02-08T19:17:20.755Z"
   },
   {
    "duration": 68,
    "start_time": "2022-02-08T19:17:20.825Z"
   },
   {
    "duration": 71,
    "start_time": "2022-02-08T19:17:20.895Z"
   },
   {
    "duration": 68,
    "start_time": "2022-02-08T19:17:20.969Z"
   },
   {
    "duration": 74,
    "start_time": "2022-02-08T19:17:21.040Z"
   },
   {
    "duration": 74,
    "start_time": "2022-02-08T19:17:21.115Z"
   },
   {
    "duration": 67,
    "start_time": "2022-02-08T19:17:21.191Z"
   },
   {
    "duration": 77,
    "start_time": "2022-02-08T19:17:21.260Z"
   },
   {
    "duration": 67,
    "start_time": "2022-02-08T19:17:21.339Z"
   },
   {
    "duration": 79,
    "start_time": "2022-02-08T19:17:21.407Z"
   },
   {
    "duration": 68,
    "start_time": "2022-02-08T19:17:21.487Z"
   },
   {
    "duration": 80,
    "start_time": "2022-02-08T19:17:21.557Z"
   },
   {
    "duration": 69,
    "start_time": "2022-02-08T19:17:21.638Z"
   },
   {
    "duration": 72,
    "start_time": "2022-02-08T19:17:21.708Z"
   },
   {
    "duration": 74,
    "start_time": "2022-02-08T19:17:21.782Z"
   },
   {
    "duration": 81,
    "start_time": "2022-02-08T19:17:21.858Z"
   },
   {
    "duration": 66,
    "start_time": "2022-02-08T19:17:21.941Z"
   },
   {
    "duration": 72,
    "start_time": "2022-02-08T19:17:22.009Z"
   },
   {
    "duration": 73,
    "start_time": "2022-02-08T19:17:22.084Z"
   },
   {
    "duration": 88,
    "start_time": "2022-02-08T19:17:22.159Z"
   },
   {
    "duration": 72,
    "start_time": "2022-02-08T19:17:22.249Z"
   },
   {
    "duration": 72,
    "start_time": "2022-02-08T19:17:22.324Z"
   },
   {
    "duration": 100,
    "start_time": "2022-02-08T19:17:22.398Z"
   },
   {
    "duration": 326,
    "start_time": "2022-02-08T19:57:10.735Z"
   },
   {
    "duration": 987,
    "start_time": "2022-02-08T19:57:15.391Z"
   },
   {
    "duration": 28,
    "start_time": "2022-02-08T19:57:16.381Z"
   },
   {
    "duration": 4,
    "start_time": "2022-02-08T19:57:16.412Z"
   },
   {
    "duration": 255,
    "start_time": "2022-02-08T19:57:16.419Z"
   },
   {
    "duration": 58,
    "start_time": "2022-02-08T19:57:16.677Z"
   },
   {
    "duration": 58,
    "start_time": "2022-02-08T19:57:16.738Z"
   },
   {
    "duration": 58,
    "start_time": "2022-02-08T19:57:16.798Z"
   },
   {
    "duration": 61,
    "start_time": "2022-02-08T19:57:16.858Z"
   },
   {
    "duration": 62,
    "start_time": "2022-02-08T19:57:16.923Z"
   },
   {
    "duration": 60,
    "start_time": "2022-02-08T19:57:16.988Z"
   },
   {
    "duration": 59,
    "start_time": "2022-02-08T19:57:17.050Z"
   },
   {
    "duration": 59,
    "start_time": "2022-02-08T19:57:17.111Z"
   },
   {
    "duration": 62,
    "start_time": "2022-02-08T19:57:17.173Z"
   },
   {
    "duration": 59,
    "start_time": "2022-02-08T19:57:17.238Z"
   },
   {
    "duration": 61,
    "start_time": "2022-02-08T19:57:17.299Z"
   },
   {
    "duration": 59,
    "start_time": "2022-02-08T19:57:17.362Z"
   },
   {
    "duration": 61,
    "start_time": "2022-02-08T19:57:17.424Z"
   },
   {
    "duration": 59,
    "start_time": "2022-02-08T19:57:17.488Z"
   },
   {
    "duration": 58,
    "start_time": "2022-02-08T19:57:17.549Z"
   },
   {
    "duration": 63,
    "start_time": "2022-02-08T19:57:17.610Z"
   },
   {
    "duration": 60,
    "start_time": "2022-02-08T19:57:17.676Z"
   },
   {
    "duration": 60,
    "start_time": "2022-02-08T19:57:17.738Z"
   },
   {
    "duration": 60,
    "start_time": "2022-02-08T19:57:17.800Z"
   },
   {
    "duration": 70,
    "start_time": "2022-02-08T19:57:17.862Z"
   },
   {
    "duration": 61,
    "start_time": "2022-02-08T19:57:17.934Z"
   },
   {
    "duration": 66,
    "start_time": "2022-02-08T19:57:17.997Z"
   },
   {
    "duration": 91,
    "start_time": "2022-02-08T19:57:18.067Z"
   },
   {
    "duration": 65,
    "start_time": "2022-02-08T19:57:51.813Z"
   },
   {
    "duration": 66,
    "start_time": "2022-02-08T19:57:53.891Z"
   },
   {
    "duration": 72,
    "start_time": "2022-02-08T19:59:10.182Z"
   },
   {
    "duration": 63,
    "start_time": "2022-02-08T20:07:43.600Z"
   },
   {
    "duration": 789,
    "start_time": "2022-02-08T20:10:16.929Z"
   },
   {
    "duration": 25,
    "start_time": "2022-02-08T20:10:17.722Z"
   },
   {
    "duration": 4,
    "start_time": "2022-02-08T20:10:17.749Z"
   },
   {
    "duration": 221,
    "start_time": "2022-02-08T20:10:17.755Z"
   },
   {
    "duration": 61,
    "start_time": "2022-02-08T20:10:17.979Z"
   },
   {
    "duration": 59,
    "start_time": "2022-02-08T20:10:18.042Z"
   },
   {
    "duration": 63,
    "start_time": "2022-02-08T20:10:18.104Z"
   },
   {
    "duration": 63,
    "start_time": "2022-02-08T20:10:18.173Z"
   },
   {
    "duration": 64,
    "start_time": "2022-02-08T20:10:18.241Z"
   },
   {
    "duration": 61,
    "start_time": "2022-02-08T20:10:18.308Z"
   },
   {
    "duration": 60,
    "start_time": "2022-02-08T20:10:18.371Z"
   },
   {
    "duration": 60,
    "start_time": "2022-02-08T20:10:18.433Z"
   },
   {
    "duration": 63,
    "start_time": "2022-02-08T20:10:18.496Z"
   },
   {
    "duration": 60,
    "start_time": "2022-02-08T20:10:18.561Z"
   },
   {
    "duration": 61,
    "start_time": "2022-02-08T20:10:18.624Z"
   },
   {
    "duration": 61,
    "start_time": "2022-02-08T20:10:18.687Z"
   },
   {
    "duration": 63,
    "start_time": "2022-02-08T20:10:18.750Z"
   },
   {
    "duration": 61,
    "start_time": "2022-02-08T20:10:18.816Z"
   },
   {
    "duration": 61,
    "start_time": "2022-02-08T20:10:18.879Z"
   },
   {
    "duration": 61,
    "start_time": "2022-02-08T20:10:18.942Z"
   },
   {
    "duration": 61,
    "start_time": "2022-02-08T20:10:19.005Z"
   },
   {
    "duration": 60,
    "start_time": "2022-02-08T20:10:19.068Z"
   },
   {
    "duration": 63,
    "start_time": "2022-02-08T20:10:19.130Z"
   },
   {
    "duration": 73,
    "start_time": "2022-02-08T20:10:19.195Z"
   },
   {
    "duration": 69,
    "start_time": "2022-02-08T20:10:19.271Z"
   },
   {
    "duration": 65,
    "start_time": "2022-02-08T20:10:19.344Z"
   },
   {
    "duration": 92,
    "start_time": "2022-02-08T20:10:19.411Z"
   },
   {
    "duration": 887,
    "start_time": "2022-02-09T07:25:42.677Z"
   },
   {
    "duration": 28,
    "start_time": "2022-02-09T07:25:43.567Z"
   },
   {
    "duration": 4,
    "start_time": "2022-02-09T07:25:43.598Z"
   },
   {
    "duration": 231,
    "start_time": "2022-02-09T07:25:43.605Z"
   },
   {
    "duration": 61,
    "start_time": "2022-02-09T07:25:43.902Z"
   },
   {
    "duration": 59,
    "start_time": "2022-02-09T07:25:43.966Z"
   },
   {
    "duration": 62,
    "start_time": "2022-02-09T07:25:44.031Z"
   },
   {
    "duration": 65,
    "start_time": "2022-02-09T07:25:44.097Z"
   },
   {
    "duration": 63,
    "start_time": "2022-02-09T07:25:44.165Z"
   },
   {
    "duration": 60,
    "start_time": "2022-02-09T07:25:44.231Z"
   },
   {
    "duration": 59,
    "start_time": "2022-02-09T07:25:44.295Z"
   },
   {
    "duration": 64,
    "start_time": "2022-02-09T07:25:44.357Z"
   },
   {
    "duration": 61,
    "start_time": "2022-02-09T07:25:44.424Z"
   },
   {
    "duration": 60,
    "start_time": "2022-02-09T07:25:44.489Z"
   },
   {
    "duration": 60,
    "start_time": "2022-02-09T07:25:44.552Z"
   },
   {
    "duration": 63,
    "start_time": "2022-02-09T07:25:44.614Z"
   },
   {
    "duration": 60,
    "start_time": "2022-02-09T07:25:44.679Z"
   },
   {
    "duration": 61,
    "start_time": "2022-02-09T07:25:44.741Z"
   },
   {
    "duration": 61,
    "start_time": "2022-02-09T07:25:44.805Z"
   },
   {
    "duration": 59,
    "start_time": "2022-02-09T07:25:44.869Z"
   },
   {
    "duration": 60,
    "start_time": "2022-02-09T07:25:44.931Z"
   },
   {
    "duration": 59,
    "start_time": "2022-02-09T07:25:44.995Z"
   },
   {
    "duration": 71,
    "start_time": "2022-02-09T07:25:45.057Z"
   },
   {
    "duration": 67,
    "start_time": "2022-02-09T07:25:45.131Z"
   },
   {
    "duration": 68,
    "start_time": "2022-02-09T07:25:45.201Z"
   },
   {
    "duration": 94,
    "start_time": "2022-02-09T07:25:45.271Z"
   }
  ],
  "kernelspec": {
   "display_name": "Python 3",
   "language": "python",
   "name": "python3"
  },
  "language_info": {
   "codemirror_mode": {
    "name": "ipython",
    "version": 3
   },
   "file_extension": ".py",
   "mimetype": "text/x-python",
   "name": "python",
   "nbconvert_exporter": "python",
   "pygments_lexer": "ipython3",
   "version": "3.7.9"
  },
  "toc": {
   "base_numbering": 1,
   "nav_menu": {},
   "number_sections": true,
   "sideBar": true,
   "skip_h1_title": true,
   "title_cell": "Table of Contents",
   "title_sidebar": "Contents",
   "toc_cell": false,
   "toc_position": {
    "height": "calc(100% - 180px)",
    "left": "10px",
    "top": "150px",
    "width": "438.391px"
   },
   "toc_section_display": true,
   "toc_window_display": false
  },
  "varInspector": {
   "cols": {
    "lenName": 16,
    "lenType": 16,
    "lenVar": 40
   },
   "kernels_config": {
    "python": {
     "delete_cmd_postfix": "",
     "delete_cmd_prefix": "del ",
     "library": "var_list.py",
     "varRefreshCmd": "print(var_dic_list())"
    },
    "r": {
     "delete_cmd_postfix": ") ",
     "delete_cmd_prefix": "rm(",
     "library": "var_list.r",
     "varRefreshCmd": "cat(var_dic_list()) "
    }
   },
   "types_to_exclude": [
    "module",
    "function",
    "builtin_function_or_method",
    "instance",
    "_Feature"
   ],
   "window_display": false
  }
 },
 "nbformat": 4,
 "nbformat_minor": 2
}
