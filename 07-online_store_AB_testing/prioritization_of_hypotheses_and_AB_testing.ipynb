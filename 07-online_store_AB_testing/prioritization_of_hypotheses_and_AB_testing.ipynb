{
 "cells": [
  {
   "cell_type": "markdown",
   "metadata": {},
   "source": [
    "# Prioritization of Hypotheses and Analysis of an A/B Test"
   ]
  },
  {
   "cell_type": "markdown",
   "metadata": {},
   "source": [
    "Together with the marketing department we've compiled a list of hypotheses that may help boost revenue. We will prioritize these hypotheses, launch an A/B test, and analyze the results. <br> At the end of the analysis we will decide whether to continue the test or to stop the test. If we stop the test, we will have a leader group or we won't see differences between the groups."
   ]
  },
  {
   "cell_type": "markdown",
   "metadata": {},
   "source": [
    "# Table of Contents"
   ]
  },
  {
   "cell_type": "markdown",
   "metadata": {},
   "source": [
    "- 1) [Prioritization of Hypotheses](#1)\n",
    "<br> <br>\n",
    "    - 1.1) [Open the data and study the general information](#1.1)\n",
    "    - 1.2) [ICE method](#1.2)\n",
    "    - 1.3) [RICE method](#1.3)\n",
    "    - 1.4) [Differences in Prioritization between both methods](#1.4)\n",
    "    <br> <br>\n",
    "- 2) [A/B Test Analysis](#2)\n",
    "<br> <br>\n",
    "    - 2.1) [Prepare the data](#2.1)\n",
    "    - 2.2) [Cumulative revenue by group](#2.2)\n",
    "    - 2.3) [Cumulative average order size by group](#2.3)\n",
    "    - 2.4) [Relative difference in cumulative average order size](#2.4)\n",
    "    - 2.5) [Conversion rate by group](#2.5)\n",
    "    - 2.6) [Number of orders per user](#2.6)\n",
    "    - 2.7) [Order prices](#2.7)\n",
    "    - 2.8) [Statistical significance: Difference in conversion rate (unfiltered data)](#2.8)\n",
    "    - 2.9) [Statistical significance: Difference in average order size (unfiltered data)](#2.9)\n",
    "    - 2.10) [Statistical significance: Difference in conversion rate (filtered data)](#2.10)\n",
    "    - 2.11) [Statistical significance: Difference in average order size (filtered data)](#2.11)\n",
    "    - 2.12) [Decision for A/B Test](#2.12)"
   ]
  },
  {
   "cell_type": "markdown",
   "metadata": {},
   "source": [
    "<a id=\"1\"></a>"
   ]
  },
  {
   "cell_type": "markdown",
   "metadata": {},
   "source": [
    "## 1) Prioritization of Hypotheses"
   ]
  },
  {
   "cell_type": "markdown",
   "metadata": {},
   "source": [
    "We will prioritize the hypotheses using the ICE method and the RICE method and will analyse the differences in prioritization these method lead to. At first we will properly prepare the table containing the hypotheses and their corresponding values needed for the methods. <br> The goal of this part of the project is to present how the prioritization changes when using the RICE method instead of the ICE method and we will give an explanation for the changes."
   ]
  },
  {
   "cell_type": "markdown",
   "metadata": {},
   "source": [
    "<a id=\"1.1\"></a>"
   ]
  },
  {
   "cell_type": "markdown",
   "metadata": {},
   "source": [
    "### 1.1) Open the data and study the general information"
   ]
  },
  {
   "cell_type": "code",
   "execution_count": 1,
   "metadata": {},
   "outputs": [],
   "source": [
    "# import libraries\n",
    "import pandas as pd\n",
    "import matplotlib.pyplot as plt\n",
    "import seaborn as sns\n",
    "import numpy as np\n",
    "import scipy.stats as stats\n",
    "import sys\n",
    "import warnings\n",
    "if not sys.warnoptions:\n",
    "       warnings.simplefilter(\"ignore\")\n",
    "\n",
    "# read the full hypotheses\n",
    "pd.set_option(\"display.max_colwidth\", -1)"
   ]
  },
  {
   "cell_type": "code",
   "execution_count": 2,
   "metadata": {},
   "outputs": [],
   "source": [
    "# read hypotheses data file\n",
    "try:\n",
    "    hypo_data = pd.read_csv('C:/Users/Herbert/Documents/Practicum100/datasets/A,B_Test/hypotheses_us.csv', sep = ';')\n",
    "except:\n",
    "    print(\"Couldn't read 'hypotheses' csv file.\")"
   ]
  },
  {
   "cell_type": "code",
   "execution_count": 3,
   "metadata": {},
   "outputs": [
    {
     "data": {
      "text/html": [
       "<div>\n",
       "<style scoped>\n",
       "    .dataframe tbody tr th:only-of-type {\n",
       "        vertical-align: middle;\n",
       "    }\n",
       "\n",
       "    .dataframe tbody tr th {\n",
       "        vertical-align: top;\n",
       "    }\n",
       "\n",
       "    .dataframe thead th {\n",
       "        text-align: right;\n",
       "    }\n",
       "</style>\n",
       "<table border=\"1\" class=\"dataframe\">\n",
       "  <thead>\n",
       "    <tr style=\"text-align: right;\">\n",
       "      <th></th>\n",
       "      <th>Hypothesis</th>\n",
       "      <th>Reach</th>\n",
       "      <th>Impact</th>\n",
       "      <th>Confidence</th>\n",
       "      <th>Effort</th>\n",
       "    </tr>\n",
       "  </thead>\n",
       "  <tbody>\n",
       "    <tr>\n",
       "      <td>0</td>\n",
       "      <td>Add two new channels for attracting traffic. This will bring 30% more users</td>\n",
       "      <td>3</td>\n",
       "      <td>10</td>\n",
       "      <td>8</td>\n",
       "      <td>6</td>\n",
       "    </tr>\n",
       "    <tr>\n",
       "      <td>1</td>\n",
       "      <td>Launch your own delivery service. This will shorten delivery time</td>\n",
       "      <td>2</td>\n",
       "      <td>5</td>\n",
       "      <td>4</td>\n",
       "      <td>10</td>\n",
       "    </tr>\n",
       "    <tr>\n",
       "      <td>2</td>\n",
       "      <td>Add product recommendation blocks to the store's site. This will increase conversion and average purchase size</td>\n",
       "      <td>8</td>\n",
       "      <td>3</td>\n",
       "      <td>7</td>\n",
       "      <td>3</td>\n",
       "    </tr>\n",
       "    <tr>\n",
       "      <td>3</td>\n",
       "      <td>Change the category structure. This will increase conversion since users will find the products they want more quickly</td>\n",
       "      <td>8</td>\n",
       "      <td>3</td>\n",
       "      <td>3</td>\n",
       "      <td>8</td>\n",
       "    </tr>\n",
       "    <tr>\n",
       "      <td>4</td>\n",
       "      <td>Change the background color on the main page. This will increase user engagement</td>\n",
       "      <td>3</td>\n",
       "      <td>1</td>\n",
       "      <td>1</td>\n",
       "      <td>1</td>\n",
       "    </tr>\n",
       "    <tr>\n",
       "      <td>5</td>\n",
       "      <td>Add a customer review page. This will increase the number of orders</td>\n",
       "      <td>3</td>\n",
       "      <td>2</td>\n",
       "      <td>2</td>\n",
       "      <td>3</td>\n",
       "    </tr>\n",
       "    <tr>\n",
       "      <td>6</td>\n",
       "      <td>Show banners with current offers and sales on the main page. This will boost conversion</td>\n",
       "      <td>5</td>\n",
       "      <td>3</td>\n",
       "      <td>8</td>\n",
       "      <td>3</td>\n",
       "    </tr>\n",
       "    <tr>\n",
       "      <td>7</td>\n",
       "      <td>Add a subscription form to all the main pages. This will help you compile a mailing list</td>\n",
       "      <td>10</td>\n",
       "      <td>7</td>\n",
       "      <td>8</td>\n",
       "      <td>5</td>\n",
       "    </tr>\n",
       "    <tr>\n",
       "      <td>8</td>\n",
       "      <td>Launch a promotion that gives users discounts on their birthdays</td>\n",
       "      <td>1</td>\n",
       "      <td>9</td>\n",
       "      <td>9</td>\n",
       "      <td>5</td>\n",
       "    </tr>\n",
       "  </tbody>\n",
       "</table>\n",
       "</div>"
      ],
      "text/plain": [
       "                                                                                                               Hypothesis  \\\n",
       "0  Add two new channels for attracting traffic. This will bring 30% more users                                              \n",
       "1  Launch your own delivery service. This will shorten delivery time                                                        \n",
       "2  Add product recommendation blocks to the store's site. This will increase conversion and average purchase size           \n",
       "3  Change the category structure. This will increase conversion since users will find the products they want more quickly   \n",
       "4  Change the background color on the main page. This will increase user engagement                                         \n",
       "5  Add a customer review page. This will increase the number of orders                                                      \n",
       "6  Show banners with current offers and sales on the main page. This will boost conversion                                  \n",
       "7  Add a subscription form to all the main pages. This will help you compile a mailing list                                 \n",
       "8  Launch a promotion that gives users discounts on their birthdays                                                         \n",
       "\n",
       "   Reach  Impact  Confidence  Effort  \n",
       "0  3      10      8           6       \n",
       "1  2      5       4           10      \n",
       "2  8      3       7           3       \n",
       "3  8      3       3           8       \n",
       "4  3      1       1           1       \n",
       "5  3      2       2           3       \n",
       "6  5      3       8           3       \n",
       "7  10     7       8           5       \n",
       "8  1      9       9           5       "
      ]
     },
     "execution_count": 3,
     "metadata": {},
     "output_type": "execute_result"
    }
   ],
   "source": [
    "hypo_data"
   ]
  },
  {
   "cell_type": "code",
   "execution_count": 4,
   "metadata": {},
   "outputs": [
    {
     "name": "stdout",
     "output_type": "stream",
     "text": [
      "<class 'pandas.core.frame.DataFrame'>\n",
      "RangeIndex: 9 entries, 0 to 8\n",
      "Data columns (total 5 columns):\n",
      "Hypothesis    9 non-null object\n",
      "Reach         9 non-null int64\n",
      "Impact        9 non-null int64\n",
      "Confidence    9 non-null int64\n",
      "Effort        9 non-null int64\n",
      "dtypes: int64(4), object(1)\n",
      "memory usage: 488.0+ bytes\n"
     ]
    }
   ],
   "source": [
    "hypo_data.info()"
   ]
  },
  {
   "cell_type": "markdown",
   "metadata": {},
   "source": [
    "#### Conclusion"
   ]
  },
  {
   "cell_type": "markdown",
   "metadata": {},
   "source": [
    "The table 'hypo_data' consists of all informations needed for prioritization with the ICE and the RICE method; the columns are 'Hypothesis', 'Reach', 'Impact', 'Confidence' and 'Effort' and there are 9 rows resp. hypotheses. The values of the parameters are given in a range of numbers between 1 and 10."
   ]
  },
  {
   "cell_type": "markdown",
   "metadata": {},
   "source": [
    "<a id=\"1.2\"></a>"
   ]
  },
  {
   "cell_type": "markdown",
   "metadata": {},
   "source": [
    "### 1.2) ICE method"
   ]
  },
  {
   "cell_type": "code",
   "execution_count": 5,
   "metadata": {},
   "outputs": [
    {
     "data": {
      "text/html": [
       "<div>\n",
       "<style scoped>\n",
       "    .dataframe tbody tr th:only-of-type {\n",
       "        vertical-align: middle;\n",
       "    }\n",
       "\n",
       "    .dataframe tbody tr th {\n",
       "        vertical-align: top;\n",
       "    }\n",
       "\n",
       "    .dataframe thead th {\n",
       "        text-align: right;\n",
       "    }\n",
       "</style>\n",
       "<table border=\"1\" class=\"dataframe\">\n",
       "  <thead>\n",
       "    <tr style=\"text-align: right;\">\n",
       "      <th></th>\n",
       "      <th>Hypothesis</th>\n",
       "      <th>Hypothesis Number</th>\n",
       "      <th>ICE Score</th>\n",
       "    </tr>\n",
       "  </thead>\n",
       "  <tbody>\n",
       "    <tr>\n",
       "      <td>8</td>\n",
       "      <td>Launch a promotion that gives users discounts on their birthdays</td>\n",
       "      <td>9</td>\n",
       "      <td>16.200000</td>\n",
       "    </tr>\n",
       "    <tr>\n",
       "      <td>0</td>\n",
       "      <td>Add two new channels for attracting traffic. This will bring 30% more users</td>\n",
       "      <td>1</td>\n",
       "      <td>13.333333</td>\n",
       "    </tr>\n",
       "    <tr>\n",
       "      <td>7</td>\n",
       "      <td>Add a subscription form to all the main pages. This will help you compile a mailing list</td>\n",
       "      <td>8</td>\n",
       "      <td>11.200000</td>\n",
       "    </tr>\n",
       "    <tr>\n",
       "      <td>6</td>\n",
       "      <td>Show banners with current offers and sales on the main page. This will boost conversion</td>\n",
       "      <td>7</td>\n",
       "      <td>8.000000</td>\n",
       "    </tr>\n",
       "    <tr>\n",
       "      <td>2</td>\n",
       "      <td>Add product recommendation blocks to the store's site. This will increase conversion and average purchase size</td>\n",
       "      <td>3</td>\n",
       "      <td>7.000000</td>\n",
       "    </tr>\n",
       "    <tr>\n",
       "      <td>1</td>\n",
       "      <td>Launch your own delivery service. This will shorten delivery time</td>\n",
       "      <td>2</td>\n",
       "      <td>2.000000</td>\n",
       "    </tr>\n",
       "    <tr>\n",
       "      <td>5</td>\n",
       "      <td>Add a customer review page. This will increase the number of orders</td>\n",
       "      <td>6</td>\n",
       "      <td>1.333333</td>\n",
       "    </tr>\n",
       "    <tr>\n",
       "      <td>3</td>\n",
       "      <td>Change the category structure. This will increase conversion since users will find the products they want more quickly</td>\n",
       "      <td>4</td>\n",
       "      <td>1.125000</td>\n",
       "    </tr>\n",
       "    <tr>\n",
       "      <td>4</td>\n",
       "      <td>Change the background color on the main page. This will increase user engagement</td>\n",
       "      <td>5</td>\n",
       "      <td>1.000000</td>\n",
       "    </tr>\n",
       "  </tbody>\n",
       "</table>\n",
       "</div>"
      ],
      "text/plain": [
       "                                                                                                               Hypothesis  \\\n",
       "8  Launch a promotion that gives users discounts on their birthdays                                                         \n",
       "0  Add two new channels for attracting traffic. This will bring 30% more users                                              \n",
       "7  Add a subscription form to all the main pages. This will help you compile a mailing list                                 \n",
       "6  Show banners with current offers and sales on the main page. This will boost conversion                                  \n",
       "2  Add product recommendation blocks to the store's site. This will increase conversion and average purchase size           \n",
       "1  Launch your own delivery service. This will shorten delivery time                                                        \n",
       "5  Add a customer review page. This will increase the number of orders                                                      \n",
       "3  Change the category structure. This will increase conversion since users will find the products they want more quickly   \n",
       "4  Change the background color on the main page. This will increase user engagement                                         \n",
       "\n",
       "   Hypothesis Number  ICE Score  \n",
       "8  9                  16.200000  \n",
       "0  1                  13.333333  \n",
       "7  8                  11.200000  \n",
       "6  7                  8.000000   \n",
       "2  3                  7.000000   \n",
       "1  2                  2.000000   \n",
       "5  6                  1.333333   \n",
       "3  4                  1.125000   \n",
       "4  5                  1.000000   "
      ]
     },
     "execution_count": 5,
     "metadata": {},
     "output_type": "execute_result"
    }
   ],
   "source": [
    "# calculate ICE values for every hypothesis\n",
    "hypo_data['ICE Score'] = hypo_data['Impact'] * hypo_data['Confidence'] / hypo_data['Effort']\n",
    "# add hypotheses numbers\n",
    "hypo_data['Hypothesis Number'] = [1, 2, 3, 4, 5, 6, 7, 8, 9]\n",
    "# sort table in descending order\n",
    "hypo_ice = hypo_data[['Hypothesis', 'Hypothesis Number', 'ICE Score']].sort_values(by = 'ICE Score', ascending = False)\n",
    "\n",
    "hypo_ice"
   ]
  },
  {
   "cell_type": "markdown",
   "metadata": {},
   "source": [
    "#### Conclusion"
   ]
  },
  {
   "cell_type": "markdown",
   "metadata": {},
   "source": [
    "The ICE scores show a range between 1 for hypothesis 1 and 16.2 for hypothesis 8. Looking at the scores, we can divide them into 3 groups: <br> <br>\n",
    "Group 1: <br>\n",
    "Hypothesis Numbers: 1, 8, 9. ICE scores: Between 11.2 and 16.2: <br>\n",
    "For these hypotheses the impact parameter ranges between 7 and 10, the confidence parameter between 8 and 9 and the effort parameter between 5 and 6. We can see that the scores of the parameters don't vary much, so according to the ICE method these hypotheses are similarly prioritized. <br> <br>\n",
    "Group 2: <br>\n",
    "Numbers: 3, 7. ICE scores: 7 (for hyp. 3) and 8 (for hyp. 7): <br>\n",
    "The impact and the effort parameter are 3 for both hypotheses and the confidence parameters are 7 (for hyp. 3) and 8 (for hyp. 7). According to the ICE method, these hypotheses are prioritized very similar. <br> <br>\n",
    "Group 3: <br>\n",
    "Numbers: 2, 4, 5, 6. ICE scores: Between 1 and 2: <br>\n",
    "For this group the ICE scores have small differences, but there are differences in the parameters: The impact parameter ranges between 1 and 5, the confidence parameter between 1 and 4 and the efforts parameter between 1 and 10. "
   ]
  },
  {
   "cell_type": "markdown",
   "metadata": {},
   "source": [
    "<a id=\"1.3\"></a>"
   ]
  },
  {
   "cell_type": "markdown",
   "metadata": {},
   "source": [
    "### 1.3) RICE method"
   ]
  },
  {
   "cell_type": "code",
   "execution_count": 6,
   "metadata": {},
   "outputs": [
    {
     "data": {
      "text/html": [
       "<div>\n",
       "<style scoped>\n",
       "    .dataframe tbody tr th:only-of-type {\n",
       "        vertical-align: middle;\n",
       "    }\n",
       "\n",
       "    .dataframe tbody tr th {\n",
       "        vertical-align: top;\n",
       "    }\n",
       "\n",
       "    .dataframe thead th {\n",
       "        text-align: right;\n",
       "    }\n",
       "</style>\n",
       "<table border=\"1\" class=\"dataframe\">\n",
       "  <thead>\n",
       "    <tr style=\"text-align: right;\">\n",
       "      <th></th>\n",
       "      <th>Hypothesis</th>\n",
       "      <th>Hypothesis Number</th>\n",
       "      <th>RICE Score</th>\n",
       "    </tr>\n",
       "  </thead>\n",
       "  <tbody>\n",
       "    <tr>\n",
       "      <td>7</td>\n",
       "      <td>Add a subscription form to all the main pages. This will help you compile a mailing list</td>\n",
       "      <td>8</td>\n",
       "      <td>112.0</td>\n",
       "    </tr>\n",
       "    <tr>\n",
       "      <td>2</td>\n",
       "      <td>Add product recommendation blocks to the store's site. This will increase conversion and average purchase size</td>\n",
       "      <td>3</td>\n",
       "      <td>56.0</td>\n",
       "    </tr>\n",
       "    <tr>\n",
       "      <td>0</td>\n",
       "      <td>Add two new channels for attracting traffic. This will bring 30% more users</td>\n",
       "      <td>1</td>\n",
       "      <td>40.0</td>\n",
       "    </tr>\n",
       "    <tr>\n",
       "      <td>6</td>\n",
       "      <td>Show banners with current offers and sales on the main page. This will boost conversion</td>\n",
       "      <td>7</td>\n",
       "      <td>40.0</td>\n",
       "    </tr>\n",
       "    <tr>\n",
       "      <td>8</td>\n",
       "      <td>Launch a promotion that gives users discounts on their birthdays</td>\n",
       "      <td>9</td>\n",
       "      <td>16.2</td>\n",
       "    </tr>\n",
       "    <tr>\n",
       "      <td>3</td>\n",
       "      <td>Change the category structure. This will increase conversion since users will find the products they want more quickly</td>\n",
       "      <td>4</td>\n",
       "      <td>9.0</td>\n",
       "    </tr>\n",
       "    <tr>\n",
       "      <td>1</td>\n",
       "      <td>Launch your own delivery service. This will shorten delivery time</td>\n",
       "      <td>2</td>\n",
       "      <td>4.0</td>\n",
       "    </tr>\n",
       "    <tr>\n",
       "      <td>5</td>\n",
       "      <td>Add a customer review page. This will increase the number of orders</td>\n",
       "      <td>6</td>\n",
       "      <td>4.0</td>\n",
       "    </tr>\n",
       "    <tr>\n",
       "      <td>4</td>\n",
       "      <td>Change the background color on the main page. This will increase user engagement</td>\n",
       "      <td>5</td>\n",
       "      <td>3.0</td>\n",
       "    </tr>\n",
       "  </tbody>\n",
       "</table>\n",
       "</div>"
      ],
      "text/plain": [
       "                                                                                                               Hypothesis  \\\n",
       "7  Add a subscription form to all the main pages. This will help you compile a mailing list                                 \n",
       "2  Add product recommendation blocks to the store's site. This will increase conversion and average purchase size           \n",
       "0  Add two new channels for attracting traffic. This will bring 30% more users                                              \n",
       "6  Show banners with current offers and sales on the main page. This will boost conversion                                  \n",
       "8  Launch a promotion that gives users discounts on their birthdays                                                         \n",
       "3  Change the category structure. This will increase conversion since users will find the products they want more quickly   \n",
       "1  Launch your own delivery service. This will shorten delivery time                                                        \n",
       "5  Add a customer review page. This will increase the number of orders                                                      \n",
       "4  Change the background color on the main page. This will increase user engagement                                         \n",
       "\n",
       "   Hypothesis Number  RICE Score  \n",
       "7  8                  112.0       \n",
       "2  3                  56.0        \n",
       "0  1                  40.0        \n",
       "6  7                  40.0        \n",
       "8  9                  16.2        \n",
       "3  4                  9.0         \n",
       "1  2                  4.0         \n",
       "5  6                  4.0         \n",
       "4  5                  3.0         "
      ]
     },
     "execution_count": 6,
     "metadata": {},
     "output_type": "execute_result"
    }
   ],
   "source": [
    "# calculate RICE values\n",
    "hypo_data['RICE Score'] = hypo_data['Reach'] * hypo_data['Impact'] \\\n",
    "        * hypo_data['Confidence'] / hypo_data['Effort']\n",
    "# show ranking of RICE values in descending order\n",
    "hypo_rice = hypo_data[['Hypothesis', 'Hypothesis Number', 'RICE Score']].sort_values(by = 'RICE Score', ascending = False)\n",
    "\n",
    "hypo_rice"
   ]
  },
  {
   "cell_type": "markdown",
   "metadata": {},
   "source": [
    "#### Conclusion"
   ]
  },
  {
   "cell_type": "markdown",
   "metadata": {},
   "source": [
    "There are two big jumps in the sorted RICE score table: <br>\n",
    "The clearly leading hypothesis is number 8 with a score of 112. The second biggest score is half as big with 56 points for hypothesis 3. The next big jump are between hypotheses 7 and 9 where 6 has 40 points and 8 has 16.2 points. The last four places have less than 10 points and consists of the hypotheses 2, 4, 5 and 6."
   ]
  },
  {
   "cell_type": "markdown",
   "metadata": {},
   "source": [
    "<a id=\"1.4\"></a>"
   ]
  },
  {
   "cell_type": "markdown",
   "metadata": {},
   "source": [
    "### 1.4) Differences in Prioritization between both methods"
   ]
  },
  {
   "cell_type": "code",
   "execution_count": 7,
   "metadata": {},
   "outputs": [
    {
     "data": {
      "text/html": [
       "<div>\n",
       "<style scoped>\n",
       "    .dataframe tbody tr th:only-of-type {\n",
       "        vertical-align: middle;\n",
       "    }\n",
       "\n",
       "    .dataframe tbody tr th {\n",
       "        vertical-align: top;\n",
       "    }\n",
       "\n",
       "    .dataframe thead th {\n",
       "        text-align: right;\n",
       "    }\n",
       "</style>\n",
       "<table border=\"1\" class=\"dataframe\">\n",
       "  <thead>\n",
       "    <tr style=\"text-align: right;\">\n",
       "      <th></th>\n",
       "      <th>Hypothesis</th>\n",
       "      <th>Reach</th>\n",
       "      <th>Impact</th>\n",
       "      <th>Confidence</th>\n",
       "      <th>Effort</th>\n",
       "      <th>ICE Score</th>\n",
       "      <th>Hypothesis Number</th>\n",
       "      <th>RICE Score</th>\n",
       "    </tr>\n",
       "  </thead>\n",
       "  <tbody>\n",
       "    <tr>\n",
       "      <td>7</td>\n",
       "      <td>Add a subscription form to all the main pages. This will help you compile a mailing list</td>\n",
       "      <td>10</td>\n",
       "      <td>7</td>\n",
       "      <td>8</td>\n",
       "      <td>5</td>\n",
       "      <td>11.200000</td>\n",
       "      <td>8</td>\n",
       "      <td>112.0</td>\n",
       "    </tr>\n",
       "    <tr>\n",
       "      <td>2</td>\n",
       "      <td>Add product recommendation blocks to the store's site. This will increase conversion and average purchase size</td>\n",
       "      <td>8</td>\n",
       "      <td>3</td>\n",
       "      <td>7</td>\n",
       "      <td>3</td>\n",
       "      <td>7.000000</td>\n",
       "      <td>3</td>\n",
       "      <td>56.0</td>\n",
       "    </tr>\n",
       "    <tr>\n",
       "      <td>0</td>\n",
       "      <td>Add two new channels for attracting traffic. This will bring 30% more users</td>\n",
       "      <td>3</td>\n",
       "      <td>10</td>\n",
       "      <td>8</td>\n",
       "      <td>6</td>\n",
       "      <td>13.333333</td>\n",
       "      <td>1</td>\n",
       "      <td>40.0</td>\n",
       "    </tr>\n",
       "    <tr>\n",
       "      <td>6</td>\n",
       "      <td>Show banners with current offers and sales on the main page. This will boost conversion</td>\n",
       "      <td>5</td>\n",
       "      <td>3</td>\n",
       "      <td>8</td>\n",
       "      <td>3</td>\n",
       "      <td>8.000000</td>\n",
       "      <td>7</td>\n",
       "      <td>40.0</td>\n",
       "    </tr>\n",
       "    <tr>\n",
       "      <td>8</td>\n",
       "      <td>Launch a promotion that gives users discounts on their birthdays</td>\n",
       "      <td>1</td>\n",
       "      <td>9</td>\n",
       "      <td>9</td>\n",
       "      <td>5</td>\n",
       "      <td>16.200000</td>\n",
       "      <td>9</td>\n",
       "      <td>16.2</td>\n",
       "    </tr>\n",
       "    <tr>\n",
       "      <td>3</td>\n",
       "      <td>Change the category structure. This will increase conversion since users will find the products they want more quickly</td>\n",
       "      <td>8</td>\n",
       "      <td>3</td>\n",
       "      <td>3</td>\n",
       "      <td>8</td>\n",
       "      <td>1.125000</td>\n",
       "      <td>4</td>\n",
       "      <td>9.0</td>\n",
       "    </tr>\n",
       "    <tr>\n",
       "      <td>1</td>\n",
       "      <td>Launch your own delivery service. This will shorten delivery time</td>\n",
       "      <td>2</td>\n",
       "      <td>5</td>\n",
       "      <td>4</td>\n",
       "      <td>10</td>\n",
       "      <td>2.000000</td>\n",
       "      <td>2</td>\n",
       "      <td>4.0</td>\n",
       "    </tr>\n",
       "    <tr>\n",
       "      <td>5</td>\n",
       "      <td>Add a customer review page. This will increase the number of orders</td>\n",
       "      <td>3</td>\n",
       "      <td>2</td>\n",
       "      <td>2</td>\n",
       "      <td>3</td>\n",
       "      <td>1.333333</td>\n",
       "      <td>6</td>\n",
       "      <td>4.0</td>\n",
       "    </tr>\n",
       "    <tr>\n",
       "      <td>4</td>\n",
       "      <td>Change the background color on the main page. This will increase user engagement</td>\n",
       "      <td>3</td>\n",
       "      <td>1</td>\n",
       "      <td>1</td>\n",
       "      <td>1</td>\n",
       "      <td>1.000000</td>\n",
       "      <td>5</td>\n",
       "      <td>3.0</td>\n",
       "    </tr>\n",
       "  </tbody>\n",
       "</table>\n",
       "</div>"
      ],
      "text/plain": [
       "                                                                                                               Hypothesis  \\\n",
       "7  Add a subscription form to all the main pages. This will help you compile a mailing list                                 \n",
       "2  Add product recommendation blocks to the store's site. This will increase conversion and average purchase size           \n",
       "0  Add two new channels for attracting traffic. This will bring 30% more users                                              \n",
       "6  Show banners with current offers and sales on the main page. This will boost conversion                                  \n",
       "8  Launch a promotion that gives users discounts on their birthdays                                                         \n",
       "3  Change the category structure. This will increase conversion since users will find the products they want more quickly   \n",
       "1  Launch your own delivery service. This will shorten delivery time                                                        \n",
       "5  Add a customer review page. This will increase the number of orders                                                      \n",
       "4  Change the background color on the main page. This will increase user engagement                                         \n",
       "\n",
       "   Reach  Impact  Confidence  Effort  ICE Score  Hypothesis Number  RICE Score  \n",
       "7  10     7       8           5       11.200000  8                  112.0       \n",
       "2  8      3       7           3       7.000000   3                  56.0        \n",
       "0  3      10      8           6       13.333333  1                  40.0        \n",
       "6  5      3       8           3       8.000000   7                  40.0        \n",
       "8  1      9       9           5       16.200000  9                  16.2        \n",
       "3  8      3       3           8       1.125000   4                  9.0         \n",
       "1  2      5       4           10      2.000000   2                  4.0         \n",
       "5  3      2       2           3       1.333333   6                  4.0         \n",
       "4  3      1       1           1       1.000000   5                  3.0         "
      ]
     },
     "execution_count": 7,
     "metadata": {},
     "output_type": "execute_result"
    }
   ],
   "source": [
    "# show all the data and sort by RICE values in descending order\n",
    "hypo_data.sort_values(by='RICE Score', ascending = False)"
   ]
  },
  {
   "cell_type": "code",
   "execution_count": 8,
   "metadata": {},
   "outputs": [
    {
     "data": {
      "image/png": "[encoded data removed]",
      "text/plain": [
       "<Figure size 576x360 with 1 Axes>"
      ]
     },
     "metadata": {
      "needs_background": "light"
     },
     "output_type": "display_data"
    },
    {
     "data": {
      "image/png": "[encoded data removed]",
      "text/plain": [
       "<Figure size 576x360 with 1 Axes>"
      ]
     },
     "metadata": {
      "needs_background": "light"
     },
     "output_type": "display_data"
    }
   ],
   "source": [
    "# plots for the ICE and RICE scores\n",
    "\n",
    "plt.figure(figsize=(8,5))\n",
    "plt.grid()\n",
    "plt.title('Ranking of Hypotheses by ICE Scores')\n",
    "sns.barplot(data=hypo_data, x=\"Hypothesis Number\", y=\"ICE Score\", color='green', \\\n",
    "            order=hypo_data.sort_values('ICE Score', ascending=False)['Hypothesis Number'])\n",
    "plt.show()\n",
    "\n",
    "plt.figure(figsize=(8,5))\n",
    "plt.grid()\n",
    "plt.title('Ranking of Hypotheses by RICE Scores')\n",
    "sns.barplot(data=hypo_data, x=\"Hypothesis Number\", y=\"RICE Score\", color='blue', \\\n",
    "            order=hypo_data.sort_values('RICE Score', ascending=False)['Hypothesis Number'])\n",
    "plt.show()"
   ]
  },
  {
   "cell_type": "markdown",
   "metadata": {},
   "source": [
    "The bar plots above visualise the rankings of the hypotheses by ICE resp. RICE scores. For both bar plots one can see that there are big differences for the different scores, so each method of scoring delivers an order for prioritizing hypotheses. The most prioritized hypothesis is different by the score methods."
   ]
  },
  {
   "cell_type": "code",
   "execution_count": 9,
   "metadata": {},
   "outputs": [
    {
     "name": "stdout",
     "output_type": "stream",
     "text": [
      "Places:\n",
      "[1, 2, 3, 4, 5, 6, 7, 8, 9]\n",
      "ICE method - hypotheses ranking:\n",
      "[9, 1, 8, 7, 3, 2, 6, 4, 5]\n",
      "RICE method - hypotheses ranking:\n",
      "[8, 3, 1, 7, 9, 4, 2, 6, 5]\n"
     ]
    }
   ],
   "source": [
    "# Here we can see the differences in ranking between both methods\n",
    "\n",
    "print(\"Places:\")\n",
    "print(\"[1, 2, 3, 4, 5, 6, 7, 8, 9]\")\n",
    "print(\"ICE method - hypotheses ranking:\")\n",
    "print(list(hypo_ice['Hypothesis Number']))\n",
    "print(\"RICE method - hypotheses ranking:\")\n",
    "print(list(hypo_rice['Hypothesis Number']))"
   ]
  },
  {
   "cell_type": "markdown",
   "metadata": {},
   "source": [
    "#### Conclusion"
   ]
  },
  {
   "cell_type": "markdown",
   "metadata": {},
   "source": [
    "Looking at the lists under the table one can see the impact of including the reach parameter in prioritizing: The four last places (places 6 to 9) contain the same hypotheses for both methods: 1, 3, 4, 5. The biggest change in prioritizing is given for hypothesis 8  which has the highest ICE value but is in place 5 in the RICE ranking - both have the value 16.2, so the reach value of 1 changed the prioritization of hypothesis 8 significantly. Hypothesis 7 has the third highest ICE value of 11.2 and the clearly highest RICE value of 112 due to the reach value of 10. For the hypotheses 0, 2 and 6, the prioritization also changed including the reach parameter; but they remained within the places 2 and 5. <br> <br> The differences are given mathematically: Switching from the ICE to the RICE method we use one more factor in the calculation - the reach parameter. This factor can leave the ICE value the same (if reach = 1) or make it even 10 times bigger (if reach = 10). That's the reason why adding the reach factor has such an impact in prioritization. Hypothesis 8 is a good example since it changed from the first to the fifth place; its reach parameter is 1. This hypothesis refers to the customer's birthday and when paying attention to only one customer that has his birthday today it seems to be an excellent idea to make a promotion on that day. But including the reach parameter, one can think of the fact that the probability for a certain customer to have his birthday today is 1 to 365 - very low."
   ]
  },
  {
   "cell_type": "markdown",
   "metadata": {},
   "source": [
    "<a id=\"2\"></a>"
   ]
  },
  {
   "cell_type": "markdown",
   "metadata": {},
   "source": [
    "## 2) A/B Test Analysis"
   ]
  },
  {
   "cell_type": "markdown",
   "metadata": {},
   "source": [
    "In the second part of the project we analyse the given results from an A/B Test; they are given by two tables: The table 'visits' shows the number of visits on dates specified in the group A or B and the table 'orders' shows data for every order that has been recorded for the A/B Test. <br>\n",
    "Goal: At the end of the analysis we will decide whether to continue the test or to stop the test. If we stop the test, we will have a leader group or we won't see differences between the groups."
   ]
  },
  {
   "cell_type": "markdown",
   "metadata": {},
   "source": [
    "<a id=\"2.1\"></a>"
   ]
  },
  {
   "cell_type": "markdown",
   "metadata": {},
   "source": [
    "### 2.1) Prepare the data"
   ]
  },
  {
   "cell_type": "markdown",
   "metadata": {},
   "source": [
    "#### Table 'visits'"
   ]
  },
  {
   "cell_type": "code",
   "execution_count": 10,
   "metadata": {},
   "outputs": [],
   "source": [
    "# read visits csv data file\n",
    "try:\n",
    "    visits = pd.read_csv('C:/Users/Herbert/Documents/Practicum100/datasets/A,B_Test/visits_us.csv')\n",
    "except:\n",
    "    print(\"Couldn't read 'visits' csv file.\")"
   ]
  },
  {
   "cell_type": "code",
   "execution_count": 11,
   "metadata": {},
   "outputs": [
    {
     "data": {
      "text/html": [
       "<div>\n",
       "<style scoped>\n",
       "    .dataframe tbody tr th:only-of-type {\n",
       "        vertical-align: middle;\n",
       "    }\n",
       "\n",
       "    .dataframe tbody tr th {\n",
       "        vertical-align: top;\n",
       "    }\n",
       "\n",
       "    .dataframe thead th {\n",
       "        text-align: right;\n",
       "    }\n",
       "</style>\n",
       "<table border=\"1\" class=\"dataframe\">\n",
       "  <thead>\n",
       "    <tr style=\"text-align: right;\">\n",
       "      <th></th>\n",
       "      <th>date</th>\n",
       "      <th>group</th>\n",
       "      <th>visits</th>\n",
       "    </tr>\n",
       "  </thead>\n",
       "  <tbody>\n",
       "    <tr>\n",
       "      <td>0</td>\n",
       "      <td>2019-08-01</td>\n",
       "      <td>A</td>\n",
       "      <td>719</td>\n",
       "    </tr>\n",
       "    <tr>\n",
       "      <td>1</td>\n",
       "      <td>2019-08-02</td>\n",
       "      <td>A</td>\n",
       "      <td>619</td>\n",
       "    </tr>\n",
       "    <tr>\n",
       "      <td>2</td>\n",
       "      <td>2019-08-03</td>\n",
       "      <td>A</td>\n",
       "      <td>507</td>\n",
       "    </tr>\n",
       "    <tr>\n",
       "      <td>3</td>\n",
       "      <td>2019-08-04</td>\n",
       "      <td>A</td>\n",
       "      <td>717</td>\n",
       "    </tr>\n",
       "    <tr>\n",
       "      <td>4</td>\n",
       "      <td>2019-08-05</td>\n",
       "      <td>A</td>\n",
       "      <td>756</td>\n",
       "    </tr>\n",
       "  </tbody>\n",
       "</table>\n",
       "</div>"
      ],
      "text/plain": [
       "         date group  visits\n",
       "0  2019-08-01  A     719   \n",
       "1  2019-08-02  A     619   \n",
       "2  2019-08-03  A     507   \n",
       "3  2019-08-04  A     717   \n",
       "4  2019-08-05  A     756   "
      ]
     },
     "execution_count": 11,
     "metadata": {},
     "output_type": "execute_result"
    }
   ],
   "source": [
    "visits.head()"
   ]
  },
  {
   "cell_type": "code",
   "execution_count": 12,
   "metadata": {},
   "outputs": [
    {
     "name": "stdout",
     "output_type": "stream",
     "text": [
      "<class 'pandas.core.frame.DataFrame'>\n",
      "RangeIndex: 62 entries, 0 to 61\n",
      "Data columns (total 3 columns):\n",
      "date      62 non-null object\n",
      "group     62 non-null object\n",
      "visits    62 non-null int64\n",
      "dtypes: int64(1), object(2)\n",
      "memory usage: 1.6+ KB\n"
     ]
    }
   ],
   "source": [
    "visits.info()"
   ]
  },
  {
   "cell_type": "markdown",
   "metadata": {},
   "source": [
    "The 'visits' table consists of 62 rows and 3 columns and has no missing values. The date and group columns are in object data type and the visits are in integer data type."
   ]
  },
  {
   "cell_type": "code",
   "execution_count": 13,
   "metadata": {},
   "outputs": [],
   "source": [
    "# transform dates in datetime data type\n",
    "visits['date'] = pd.to_datetime(visits['date'], format='%Y-%m-%d')"
   ]
  },
  {
   "cell_type": "code",
   "execution_count": 14,
   "metadata": {},
   "outputs": [
    {
     "name": "stdout",
     "output_type": "stream",
     "text": [
      "<class 'pandas.core.frame.DataFrame'>\n",
      "RangeIndex: 62 entries, 0 to 61\n",
      "Data columns (total 3 columns):\n",
      "date      62 non-null datetime64[ns]\n",
      "group     62 non-null object\n",
      "visits    62 non-null int64\n",
      "dtypes: datetime64[ns](1), int64(1), object(1)\n",
      "memory usage: 1.6+ KB\n"
     ]
    }
   ],
   "source": [
    "# check changed data type\n",
    "visits.info()"
   ]
  },
  {
   "cell_type": "code",
   "execution_count": 15,
   "metadata": {},
   "outputs": [
    {
     "name": "stdout",
     "output_type": "stream",
     "text": [
      "Value counts of groups:\n",
      "B    31\n",
      "A    31\n",
      "Name: group, dtype: int64\n"
     ]
    }
   ],
   "source": [
    "print(\"Value counts of groups:\")\n",
    "print(visits['group'].value_counts())"
   ]
  },
  {
   "cell_type": "code",
   "execution_count": 16,
   "metadata": {},
   "outputs": [
    {
     "name": "stdout",
     "output_type": "stream",
     "text": [
      "Number of visits:\n",
      "Minimum: 361\n",
      "Maximum: 770\n"
     ]
    }
   ],
   "source": [
    "print(\"Number of visits:\")\n",
    "print(\"Minimum:\", visits['visits'].min())\n",
    "print(\"Maximum:\", visits['visits'].max())"
   ]
  },
  {
   "cell_type": "code",
   "execution_count": 17,
   "metadata": {},
   "outputs": [
    {
     "name": "stdout",
     "output_type": "stream",
     "text": [
      "Value counts of dates:\n",
      "2019-08-01    2\n",
      "2019-08-02    2\n",
      "2019-08-03    2\n",
      "2019-08-04    2\n",
      "2019-08-05    2\n",
      "2019-08-06    2\n",
      "2019-08-07    2\n",
      "2019-08-08    2\n",
      "2019-08-09    2\n",
      "2019-08-10    2\n",
      "2019-08-11    2\n",
      "2019-08-12    2\n",
      "2019-08-13    2\n",
      "2019-08-14    2\n",
      "2019-08-15    2\n",
      "2019-08-16    2\n",
      "2019-08-17    2\n",
      "2019-08-18    2\n",
      "2019-08-19    2\n",
      "2019-08-20    2\n",
      "2019-08-21    2\n",
      "2019-08-22    2\n",
      "2019-08-23    2\n",
      "2019-08-24    2\n",
      "2019-08-25    2\n",
      "2019-08-26    2\n",
      "2019-08-27    2\n",
      "2019-08-28    2\n",
      "2019-08-29    2\n",
      "2019-08-30    2\n",
      "2019-08-31    2\n",
      "Name: date, dtype: int64\n"
     ]
    }
   ],
   "source": [
    "print(\"Value counts of dates:\")\n",
    "print(visits['date'].value_counts().sort_index())"
   ]
  },
  {
   "cell_type": "markdown",
   "metadata": {},
   "source": [
    "One can see that half of the rows belong to group A and half of the rows belong to group B as expected. Every single day between the first and the 31th of august 2019 has 2 rows. The number of visits vary between 361 and 770 visits."
   ]
  },
  {
   "cell_type": "code",
   "execution_count": 18,
   "metadata": {},
   "outputs": [
    {
     "data": {
      "text/plain": [
       "0"
      ]
     },
     "execution_count": 18,
     "metadata": {},
     "output_type": "execute_result"
    }
   ],
   "source": [
    "# Let's check if there's any duplicate within the dates and the groups:\n",
    "visits[['date', 'group']].duplicated().sum()"
   ]
  },
  {
   "cell_type": "markdown",
   "metadata": {},
   "source": [
    "So we verified that every single date has exactly one visits value for group A and one for group B."
   ]
  },
  {
   "cell_type": "markdown",
   "metadata": {},
   "source": [
    "##### Conclusion"
   ]
  },
  {
   "cell_type": "markdown",
   "metadata": {},
   "source": [
    "For the visits of the online store we have a table showing the number of visits for every day between 2019-08-01 and 2019-08-31 for both groups A and B. That's why this table has 62 rows containing the date, group and number of visits. For the visits we have values between 361 and 770. We transformed the dates into datetime data type and have the visits given in integer data type and the groups given in objects data type. There are no missing values."
   ]
  },
  {
   "cell_type": "markdown",
   "metadata": {},
   "source": [
    "#### Table 'orders'"
   ]
  },
  {
   "cell_type": "code",
   "execution_count": 19,
   "metadata": {},
   "outputs": [],
   "source": [
    "# read orders csv data file\n",
    "try:\n",
    "    orders = pd.read_csv('C:/Users/Herbert/Documents/Practicum100/datasets/A,B_Test/orders_us.csv')\n",
    "except:\n",
    "    print(\"Couldn't read 'orders' csv file.\")"
   ]
  },
  {
   "cell_type": "code",
   "execution_count": 20,
   "metadata": {},
   "outputs": [
    {
     "data": {
      "text/html": [
       "<div>\n",
       "<style scoped>\n",
       "    .dataframe tbody tr th:only-of-type {\n",
       "        vertical-align: middle;\n",
       "    }\n",
       "\n",
       "    .dataframe tbody tr th {\n",
       "        vertical-align: top;\n",
       "    }\n",
       "\n",
       "    .dataframe thead th {\n",
       "        text-align: right;\n",
       "    }\n",
       "</style>\n",
       "<table border=\"1\" class=\"dataframe\">\n",
       "  <thead>\n",
       "    <tr style=\"text-align: right;\">\n",
       "      <th></th>\n",
       "      <th>transactionId</th>\n",
       "      <th>visitorId</th>\n",
       "      <th>date</th>\n",
       "      <th>revenue</th>\n",
       "      <th>group</th>\n",
       "    </tr>\n",
       "  </thead>\n",
       "  <tbody>\n",
       "    <tr>\n",
       "      <td>0</td>\n",
       "      <td>3667963787</td>\n",
       "      <td>3312258926</td>\n",
       "      <td>2019-08-15</td>\n",
       "      <td>30.4</td>\n",
       "      <td>B</td>\n",
       "    </tr>\n",
       "    <tr>\n",
       "      <td>1</td>\n",
       "      <td>2804400009</td>\n",
       "      <td>3642806036</td>\n",
       "      <td>2019-08-15</td>\n",
       "      <td>15.2</td>\n",
       "      <td>B</td>\n",
       "    </tr>\n",
       "    <tr>\n",
       "      <td>2</td>\n",
       "      <td>2961555356</td>\n",
       "      <td>4069496402</td>\n",
       "      <td>2019-08-15</td>\n",
       "      <td>10.2</td>\n",
       "      <td>A</td>\n",
       "    </tr>\n",
       "    <tr>\n",
       "      <td>3</td>\n",
       "      <td>3797467345</td>\n",
       "      <td>1196621759</td>\n",
       "      <td>2019-08-15</td>\n",
       "      <td>155.1</td>\n",
       "      <td>B</td>\n",
       "    </tr>\n",
       "    <tr>\n",
       "      <td>4</td>\n",
       "      <td>2282983706</td>\n",
       "      <td>2322279887</td>\n",
       "      <td>2019-08-15</td>\n",
       "      <td>40.5</td>\n",
       "      <td>B</td>\n",
       "    </tr>\n",
       "  </tbody>\n",
       "</table>\n",
       "</div>"
      ],
      "text/plain": [
       "   transactionId   visitorId        date  revenue group\n",
       "0  3667963787     3312258926  2019-08-15  30.4     B   \n",
       "1  2804400009     3642806036  2019-08-15  15.2     B   \n",
       "2  2961555356     4069496402  2019-08-15  10.2     A   \n",
       "3  3797467345     1196621759  2019-08-15  155.1    B   \n",
       "4  2282983706     2322279887  2019-08-15  40.5     B   "
      ]
     },
     "execution_count": 20,
     "metadata": {},
     "output_type": "execute_result"
    }
   ],
   "source": [
    "orders.head()"
   ]
  },
  {
   "cell_type": "code",
   "execution_count": 21,
   "metadata": {},
   "outputs": [],
   "source": [
    "# For easier handling we rename the first two columns of the orders table\n",
    "orders.columns = ['transaction_id', 'visitor_id', 'date', 'revenue', 'group']"
   ]
  },
  {
   "cell_type": "code",
   "execution_count": 22,
   "metadata": {},
   "outputs": [
    {
     "name": "stdout",
     "output_type": "stream",
     "text": [
      "<class 'pandas.core.frame.DataFrame'>\n",
      "RangeIndex: 1197 entries, 0 to 1196\n",
      "Data columns (total 5 columns):\n",
      "transaction_id    1197 non-null int64\n",
      "visitor_id        1197 non-null int64\n",
      "date              1197 non-null object\n",
      "revenue           1197 non-null float64\n",
      "group             1197 non-null object\n",
      "dtypes: float64(1), int64(2), object(2)\n",
      "memory usage: 46.9+ KB\n"
     ]
    }
   ],
   "source": [
    "orders.info()"
   ]
  },
  {
   "cell_type": "code",
   "execution_count": 23,
   "metadata": {},
   "outputs": [],
   "source": [
    "# transform dates into datetime data type\n",
    "orders['date'] = pd.to_datetime(orders['date'], format='%Y-%m-%d')"
   ]
  },
  {
   "cell_type": "code",
   "execution_count": 24,
   "metadata": {},
   "outputs": [
    {
     "name": "stdout",
     "output_type": "stream",
     "text": [
      "<class 'pandas.core.frame.DataFrame'>\n",
      "RangeIndex: 1197 entries, 0 to 1196\n",
      "Data columns (total 5 columns):\n",
      "transaction_id    1197 non-null int64\n",
      "visitor_id        1197 non-null int64\n",
      "date              1197 non-null datetime64[ns]\n",
      "revenue           1197 non-null float64\n",
      "group             1197 non-null object\n",
      "dtypes: datetime64[ns](1), float64(1), int64(2), object(1)\n",
      "memory usage: 46.9+ KB\n"
     ]
    }
   ],
   "source": [
    "# check changed data type\n",
    "orders.info()"
   ]
  },
  {
   "cell_type": "markdown",
   "metadata": {},
   "source": [
    "The table 'orders' has 1197 rows and the transaction ID and the visitor ID are given in integer data types. The dates have been transformed into datetime data type. The revenues are given in float data type and the group in object data type. There are no missing values."
   ]
  },
  {
   "cell_type": "code",
   "execution_count": 25,
   "metadata": {},
   "outputs": [
    {
     "name": "stdout",
     "output_type": "stream",
     "text": [
      "Number of unique transaction IDs: 1197\n",
      "Number of unique visitor IDs: 1031\n"
     ]
    }
   ],
   "source": [
    "print(\"Number of unique transaction IDs:\", orders['transaction_id'].nunique())\n",
    "print(\"Number of unique visitor IDs:\", orders['visitor_id'].nunique())"
   ]
  },
  {
   "cell_type": "markdown",
   "metadata": {},
   "source": [
    "Since the table has 1197 rows every row has a different transaction ID. The number of unique visitor IDs is 1031, so there's a difference of 166 from the number of rows; there are some customers with multiple orders within the one observed month."
   ]
  },
  {
   "cell_type": "code",
   "execution_count": 26,
   "metadata": {},
   "outputs": [
    {
     "name": "stdout",
     "output_type": "stream",
     "text": [
      "Earliest date in table 'orders': 2019-08-01 00:00:00\n",
      "Latest date in table 'orders': 2019-08-31 00:00:00\n"
     ]
    }
   ],
   "source": [
    "print(\"Earliest date in table 'orders':\", orders['date'].min())\n",
    "print(\"Latest date in table 'orders':\", orders['date'].max())"
   ]
  },
  {
   "cell_type": "markdown",
   "metadata": {},
   "source": [
    "All given dates in the orders table correspond to the observed month august 2019."
   ]
  },
  {
   "cell_type": "code",
   "execution_count": 27,
   "metadata": {},
   "outputs": [
    {
     "name": "stdout",
     "output_type": "stream",
     "text": [
      "Value counts of groups:\n",
      "B    640\n",
      "A    557\n",
      "Name: group, dtype: int64\n"
     ]
    }
   ],
   "source": [
    "print(\"Value counts of groups:\")\n",
    "print(orders['group'].value_counts())"
   ]
  },
  {
   "cell_type": "markdown",
   "metadata": {},
   "source": [
    "We definitely have only the expected groups A and B in the table 'orders' and have 557 orders for group A and 640 orders for group B - so the number of orders for every group doesn't differ too much."
   ]
  },
  {
   "cell_type": "code",
   "execution_count": 28,
   "metadata": {},
   "outputs": [
    {
     "name": "stdout",
     "output_type": "stream",
     "text": [
      "                  number of purchases\n",
      "date       group                     \n",
      "2019-08-01 A      24                 \n",
      "           B      21                 \n",
      "2019-08-02 A      20                 \n",
      "           B      24                 \n",
      "2019-08-03 A      24                 \n",
      "\n",
      "Maximum number of purchases on one day for one group: 31\n"
     ]
    }
   ],
   "source": [
    "number_of_purchases = orders.groupby(['date', 'group']).agg({'revenue': 'count'})\n",
    "number_of_purchases.columns = ['number of purchases']\n",
    "print(number_of_purchases.head())\n",
    "print()\n",
    "print(\"Maximum number of purchases on one day for one group:\", \\\n",
    "      number_of_purchases['number of purchases'].max())"
   ]
  },
  {
   "cell_type": "markdown",
   "metadata": {},
   "source": [
    "Since we have no more than 31 purchases per day per group, we can exclude that there's a day with more purchases than visits."
   ]
  },
  {
   "cell_type": "code",
   "execution_count": 29,
   "metadata": {},
   "outputs": [
    {
     "data": {
      "text/html": [
       "<div>\n",
       "<style scoped>\n",
       "    .dataframe tbody tr th:only-of-type {\n",
       "        vertical-align: middle;\n",
       "    }\n",
       "\n",
       "    .dataframe tbody tr th {\n",
       "        vertical-align: top;\n",
       "    }\n",
       "\n",
       "    .dataframe thead th {\n",
       "        text-align: right;\n",
       "    }\n",
       "</style>\n",
       "<table border=\"1\" class=\"dataframe\">\n",
       "  <thead>\n",
       "    <tr style=\"text-align: right;\">\n",
       "      <th></th>\n",
       "      <th>visitor_id</th>\n",
       "      <th>group</th>\n",
       "      <th>revenue</th>\n",
       "      <th>id_is_duplicated</th>\n",
       "    </tr>\n",
       "  </thead>\n",
       "  <tbody>\n",
       "    <tr>\n",
       "      <td>0</td>\n",
       "      <td>5114589</td>\n",
       "      <td>B</td>\n",
       "      <td>1</td>\n",
       "      <td>False</td>\n",
       "    </tr>\n",
       "    <tr>\n",
       "      <td>1</td>\n",
       "      <td>6958315</td>\n",
       "      <td>B</td>\n",
       "      <td>1</td>\n",
       "      <td>False</td>\n",
       "    </tr>\n",
       "    <tr>\n",
       "      <td>2</td>\n",
       "      <td>8300375</td>\n",
       "      <td>A</td>\n",
       "      <td>1</td>\n",
       "      <td>False</td>\n",
       "    </tr>\n",
       "    <tr>\n",
       "      <td>3</td>\n",
       "      <td>8300375</td>\n",
       "      <td>B</td>\n",
       "      <td>1</td>\n",
       "      <td>True</td>\n",
       "    </tr>\n",
       "    <tr>\n",
       "      <td>4</td>\n",
       "      <td>11685486</td>\n",
       "      <td>A</td>\n",
       "      <td>1</td>\n",
       "      <td>False</td>\n",
       "    </tr>\n",
       "  </tbody>\n",
       "</table>\n",
       "</div>"
      ],
      "text/plain": [
       "   visitor_id group  revenue  id_is_duplicated\n",
       "0  5114589     B     1        False           \n",
       "1  6958315     B     1        False           \n",
       "2  8300375     A     1        False           \n",
       "3  8300375     B     1        True            \n",
       "4  11685486    A     1        False           "
      ]
     },
     "execution_count": 29,
     "metadata": {},
     "output_type": "execute_result"
    }
   ],
   "source": [
    "# create a table grouping the number of orders for every visitor ID and for every group\n",
    "# if for a certain combination of visitor ID and group there's no order, this combination is not listed in the new table\n",
    "visitors_both_groups = orders.groupby(['visitor_id', 'group']).agg({'revenue': 'count'}).reset_index()\n",
    "\n",
    "# if a visitor ID is listed twice, then it has purchases for both groups, so let's add a helping column showing\n",
    "# if the visitor ID is duplicated\n",
    "visitors_both_groups['id_is_duplicated'] = visitors_both_groups['visitor_id'].duplicated()\n",
    "\n",
    "visitors_both_groups.head()"
   ]
  },
  {
   "cell_type": "code",
   "execution_count": 30,
   "metadata": {},
   "outputs": [
    {
     "data": {
      "text/plain": [
       "58"
      ]
     },
     "execution_count": 30,
     "metadata": {},
     "output_type": "execute_result"
    }
   ],
   "source": [
    "# create an empty list\n",
    "list_visitors_both_groups = []\n",
    "\n",
    "# add all visitor IDs to this list that have purchases in both groups:\n",
    "# If the visitor ID is duplicated in the grouped table 'visitors_both_groups' then the ID will be added to the list:\n",
    "\n",
    "for i in range(len(visitors_both_groups)):\n",
    "    if visitors_both_groups.loc[i, 'id_is_duplicated'] == True:\n",
    "        list_visitors_both_groups.append(visitors_both_groups.loc[i, 'visitor_id'])\n",
    "\n",
    "# number of users that are in both groups\n",
    "len(list_visitors_both_groups)"
   ]
  },
  {
   "cell_type": "code",
   "execution_count": 31,
   "metadata": {},
   "outputs": [
    {
     "name": "stdout",
     "output_type": "stream",
     "text": [
      "<class 'pandas.core.frame.DataFrame'>\n",
      "Int64Index: 1016 entries, 0 to 1196\n",
      "Data columns (total 5 columns):\n",
      "transaction_id    1016 non-null int64\n",
      "visitor_id        1016 non-null int64\n",
      "date              1016 non-null datetime64[ns]\n",
      "revenue           1016 non-null float64\n",
      "group             1016 non-null object\n",
      "dtypes: datetime64[ns](1), float64(1), int64(2), object(1)\n",
      "memory usage: 87.6+ KB\n"
     ]
    }
   ],
   "source": [
    "# save the table with all the data before cleaning it\n",
    "orders_old = orders\n",
    "\n",
    "# delete all purchases from the orders table that have visitor IDs for both groups:\n",
    "for i in range(len(orders)):\n",
    "    if orders.loc[i, 'visitor_id'] in list_visitors_both_groups:\n",
    "        orders = orders.drop([i])\n",
    "        \n",
    "orders.info()"
   ]
  },
  {
   "cell_type": "code",
   "execution_count": 32,
   "metadata": {},
   "outputs": [
    {
     "name": "stdout",
     "output_type": "stream",
     "text": [
      "Values after cleaning the table 'orders':\n",
      "\n",
      "Minimum revenue value: 5.0 dollars\n",
      "Maximum revenue value: 19920.4 dollars\n",
      "Minimum number of purchases on one day for one group: 6\n",
      "Maximum number of purchases on one day for one group: 26\n",
      "Earliest date in table 'orders': 2019-08-01 00:00:00\n",
      "Latest date in table 'orders': 2019-08-31 00:00:00\n",
      "\n",
      "Number of unique users in each group:\n",
      "Group A: 445 users\n",
      "Group B: 528 users\n",
      "\n",
      "Number of orders for every group:\n",
      "B    548\n",
      "A    468\n",
      "Name: group, dtype: int64\n"
     ]
    }
   ],
   "source": [
    "print(\"Values after cleaning the table 'orders':\")\n",
    "print()\n",
    "print(\"Minimum revenue value:\", orders['revenue'].min(), \"dollars\")\n",
    "print(\"Maximum revenue value:\", orders['revenue'].max(), \"dollars\")\n",
    "print(\"Minimum number of purchases on one day for one group:\", \\\n",
    "      orders.groupby(['date', 'group']).agg({'revenue': 'count'})['revenue'].min())\n",
    "print(\"Maximum number of purchases on one day for one group:\", \\\n",
    "      orders.groupby(['date', 'group']).agg({'revenue': 'count'})['revenue'].max())\n",
    "print(\"Earliest date in table 'orders':\", orders['date'].min())\n",
    "print(\"Latest date in table 'orders':\", orders['date'].max())\n",
    "print()\n",
    "print(\"Number of unique users in each group:\")\n",
    "print(\"Group A: {:.0f} users\".format(orders[orders['group'] == 'A']['visitor_id'].nunique()))\n",
    "print(\"Group B: {:.0f} users\".format(orders[orders['group'] == 'B']['visitor_id'].nunique()))\n",
    "print()\n",
    "print(\"Number of orders for every group:\")\n",
    "print(orders['group'].value_counts())"
   ]
  },
  {
   "cell_type": "markdown",
   "metadata": {},
   "source": [
    "##### Conclusion"
   ]
  },
  {
   "cell_type": "markdown",
   "metadata": {},
   "source": [
    "Our table 'orders' shows the purchases from the online store in august 2019 of users being part of the A/B-Test. It has 5 rows: The transaction ID is different for every single purchase and is in integer data type. The visitor ID is also in integer data type and after deleting 181 purchases with users being in both groups A and B, we have 1016 orders (and rows) in our table. The dates are given in datetime data type and range between the first and the 31th of august 2019. The revenues are given in float data type and range between 5 dollars and 19920.40 dollars. We have a column named 'group' showing whether the order is made from an user being in group A or B; this column is in object data type and overall we don't have any missing values. The maximum number of purchases on one day for one group is 26 so there are no days with more purchases than visits. The smallest number is given with 6 orders for one group on one day. From 1016 orders there are 468 orders referring to group A consisting of 445 users and 548 orders referring to group B consisting of 528 users."
   ]
  },
  {
   "cell_type": "markdown",
   "metadata": {},
   "source": [
    "<a id=\"2.2\"></a>"
   ]
  },
  {
   "cell_type": "markdown",
   "metadata": {},
   "source": [
    "### 2.2) Cumulative revenue by group"
   ]
  },
  {
   "cell_type": "code",
   "execution_count": 33,
   "metadata": {},
   "outputs": [
    {
     "name": "stdout",
     "output_type": "stream",
     "text": [
      "<class 'pandas.core.frame.DataFrame'>\n",
      "Int64Index: 62 entries, 0 to 61\n",
      "Data columns (total 6 columns):\n",
      "date              62 non-null datetime64[ns]\n",
      "group             62 non-null object\n",
      "transaction_id    62 non-null int64\n",
      "visitor_id        62 non-null int64\n",
      "revenue           62 non-null float64\n",
      "visits            62 non-null int64\n",
      "dtypes: datetime64[ns](1), float64(1), int64(3), object(1)\n",
      "memory usage: 3.4+ KB\n"
     ]
    }
   ],
   "source": [
    "# building an array with unique paired date-group values\n",
    "dates_groups = orders[['date','group']].drop_duplicates()\n",
    "\n",
    "# getting aggregated cumulative daily data on orders \n",
    "orders_aggregated = dates_groups \\\n",
    "                .apply(lambda x: orders[np.logical_and(orders['date'] <= x['date'], orders['group'] == x['group'])] \\\n",
    "                .agg({'date' : 'max', 'group' : 'max', 'transaction_id' : pd.Series.nunique, \\\n",
    "                      'visitor_id' : pd.Series.nunique, 'revenue' : 'sum'}), axis=1) \\\n",
    "                .sort_values(by=['date','group'])\n",
    "\n",
    "# getting aggregated cumulative daily data on visitors  \n",
    "visitors_aggregated = dates_groups \\\n",
    "                .apply(lambda x: visits[np.logical_and(visits['date'] <= x['date'], visits['group'] == x['group'])] \\\n",
    "                .agg({'date' : 'max', 'group' : 'max', 'visits' : 'sum'}), axis=1) \\\n",
    "                .sort_values(by=['date','group'])\n",
    "\n",
    "# merging the two tables into one\n",
    "cumul_data = orders_aggregated.merge(visitors_aggregated, left_on=['date', 'group'], right_on=['date', 'group'])\n",
    "\n",
    "cumul_data.info()"
   ]
  },
  {
   "cell_type": "code",
   "execution_count": 34,
   "metadata": {},
   "outputs": [
    {
     "data": {
      "text/html": [
       "<div>\n",
       "<style scoped>\n",
       "    .dataframe tbody tr th:only-of-type {\n",
       "        vertical-align: middle;\n",
       "    }\n",
       "\n",
       "    .dataframe tbody tr th {\n",
       "        vertical-align: top;\n",
       "    }\n",
       "\n",
       "    .dataframe thead th {\n",
       "        text-align: right;\n",
       "    }\n",
       "</style>\n",
       "<table border=\"1\" class=\"dataframe\">\n",
       "  <thead>\n",
       "    <tr style=\"text-align: right;\">\n",
       "      <th></th>\n",
       "      <th>date</th>\n",
       "      <th>group</th>\n",
       "      <th>orders</th>\n",
       "      <th>buyers</th>\n",
       "      <th>revenue</th>\n",
       "      <th>visits</th>\n",
       "    </tr>\n",
       "  </thead>\n",
       "  <tbody>\n",
       "    <tr>\n",
       "      <td>0</td>\n",
       "      <td>2019-08-01</td>\n",
       "      <td>A</td>\n",
       "      <td>23</td>\n",
       "      <td>19</td>\n",
       "      <td>2266.6</td>\n",
       "      <td>719</td>\n",
       "    </tr>\n",
       "    <tr>\n",
       "      <td>1</td>\n",
       "      <td>2019-08-01</td>\n",
       "      <td>B</td>\n",
       "      <td>17</td>\n",
       "      <td>17</td>\n",
       "      <td>967.2</td>\n",
       "      <td>713</td>\n",
       "    </tr>\n",
       "    <tr>\n",
       "      <td>2</td>\n",
       "      <td>2019-08-02</td>\n",
       "      <td>A</td>\n",
       "      <td>42</td>\n",
       "      <td>36</td>\n",
       "      <td>3734.9</td>\n",
       "      <td>1338</td>\n",
       "    </tr>\n",
       "    <tr>\n",
       "      <td>3</td>\n",
       "      <td>2019-08-02</td>\n",
       "      <td>B</td>\n",
       "      <td>40</td>\n",
       "      <td>39</td>\n",
       "      <td>3535.3</td>\n",
       "      <td>1294</td>\n",
       "    </tr>\n",
       "    <tr>\n",
       "      <td>4</td>\n",
       "      <td>2019-08-03</td>\n",
       "      <td>A</td>\n",
       "      <td>66</td>\n",
       "      <td>60</td>\n",
       "      <td>5550.1</td>\n",
       "      <td>1845</td>\n",
       "    </tr>\n",
       "  </tbody>\n",
       "</table>\n",
       "</div>"
      ],
      "text/plain": [
       "        date group  orders  buyers  revenue  visits\n",
       "0 2019-08-01  A     23      19      2266.6   719   \n",
       "1 2019-08-01  B     17      17      967.2    713   \n",
       "2 2019-08-02  A     42      36      3734.9   1338  \n",
       "3 2019-08-02  B     40      39      3535.3   1294  \n",
       "4 2019-08-03  A     66      60      5550.1   1845  "
      ]
     },
     "execution_count": 34,
     "metadata": {},
     "output_type": "execute_result"
    }
   ],
   "source": [
    "# rename columns\n",
    "cumul_data.columns = ['date', 'group', 'orders', 'buyers', 'revenue', 'visits']\n",
    "\n",
    "cumul_data.head()"
   ]
  },
  {
   "cell_type": "code",
   "execution_count": 35,
   "metadata": {},
   "outputs": [
    {
     "data": {
      "text/html": [
       "<div>\n",
       "<style scoped>\n",
       "    .dataframe tbody tr th:only-of-type {\n",
       "        vertical-align: middle;\n",
       "    }\n",
       "\n",
       "    .dataframe tbody tr th {\n",
       "        vertical-align: top;\n",
       "    }\n",
       "\n",
       "    .dataframe thead th {\n",
       "        text-align: right;\n",
       "    }\n",
       "</style>\n",
       "<table border=\"1\" class=\"dataframe\">\n",
       "  <thead>\n",
       "    <tr style=\"text-align: right;\">\n",
       "      <th></th>\n",
       "      <th>date</th>\n",
       "      <th>revenue</th>\n",
       "      <th>orders</th>\n",
       "    </tr>\n",
       "  </thead>\n",
       "  <tbody>\n",
       "    <tr>\n",
       "      <td>0</td>\n",
       "      <td>2019-08-01</td>\n",
       "      <td>2266.6</td>\n",
       "      <td>23</td>\n",
       "    </tr>\n",
       "    <tr>\n",
       "      <td>2</td>\n",
       "      <td>2019-08-02</td>\n",
       "      <td>3734.9</td>\n",
       "      <td>42</td>\n",
       "    </tr>\n",
       "    <tr>\n",
       "      <td>4</td>\n",
       "      <td>2019-08-03</td>\n",
       "      <td>5550.1</td>\n",
       "      <td>66</td>\n",
       "    </tr>\n",
       "    <tr>\n",
       "      <td>6</td>\n",
       "      <td>2019-08-04</td>\n",
       "      <td>6225.6</td>\n",
       "      <td>77</td>\n",
       "    </tr>\n",
       "    <tr>\n",
       "      <td>8</td>\n",
       "      <td>2019-08-05</td>\n",
       "      <td>7623.6</td>\n",
       "      <td>99</td>\n",
       "    </tr>\n",
       "  </tbody>\n",
       "</table>\n",
       "</div>"
      ],
      "text/plain": [
       "        date  revenue  orders\n",
       "0 2019-08-01  2266.6   23    \n",
       "2 2019-08-02  3734.9   42    \n",
       "4 2019-08-03  5550.1   66    \n",
       "6 2019-08-04  6225.6   77    \n",
       "8 2019-08-05  7623.6   99    "
      ]
     },
     "execution_count": 35,
     "metadata": {},
     "output_type": "execute_result"
    }
   ],
   "source": [
    "# Create DataFrames with cumulative orders and cumulative revenue by day, group A resp. group B\n",
    "cumul_revenue_A = cumul_data[cumul_data['group']=='A'][['date', 'revenue', 'orders']]\n",
    "cumul_revenue_B = cumul_data[cumul_data['group']=='B'][['date', 'revenue', 'orders']]\n",
    "\n",
    "# sort both tables by date\n",
    "cumul_revenue_A = cumul_revenue_A.sort_values(by='date')\n",
    "cumul_revenue_B = cumul_revenue_B.sort_values(by='date')\n",
    "\n",
    "cumul_revenue_A.head()"
   ]
  },
  {
   "cell_type": "code",
   "execution_count": 36,
   "metadata": {
    "scrolled": true
   },
   "outputs": [
    {
     "data": {
      "text/html": [
       "<div>\n",
       "<style scoped>\n",
       "    .dataframe tbody tr th:only-of-type {\n",
       "        vertical-align: middle;\n",
       "    }\n",
       "\n",
       "    .dataframe tbody tr th {\n",
       "        vertical-align: top;\n",
       "    }\n",
       "\n",
       "    .dataframe thead th {\n",
       "        text-align: right;\n",
       "    }\n",
       "</style>\n",
       "<table border=\"1\" class=\"dataframe\">\n",
       "  <thead>\n",
       "    <tr style=\"text-align: right;\">\n",
       "      <th></th>\n",
       "      <th>date</th>\n",
       "      <th>revenue</th>\n",
       "      <th>orders</th>\n",
       "    </tr>\n",
       "  </thead>\n",
       "  <tbody>\n",
       "    <tr>\n",
       "      <td>1</td>\n",
       "      <td>2019-08-01</td>\n",
       "      <td>967.2</td>\n",
       "      <td>17</td>\n",
       "    </tr>\n",
       "    <tr>\n",
       "      <td>3</td>\n",
       "      <td>2019-08-02</td>\n",
       "      <td>3535.3</td>\n",
       "      <td>40</td>\n",
       "    </tr>\n",
       "    <tr>\n",
       "      <td>5</td>\n",
       "      <td>2019-08-03</td>\n",
       "      <td>4606.9</td>\n",
       "      <td>54</td>\n",
       "    </tr>\n",
       "    <tr>\n",
       "      <td>7</td>\n",
       "      <td>2019-08-04</td>\n",
       "      <td>6138.5</td>\n",
       "      <td>68</td>\n",
       "    </tr>\n",
       "    <tr>\n",
       "      <td>9</td>\n",
       "      <td>2019-08-05</td>\n",
       "      <td>7587.8</td>\n",
       "      <td>89</td>\n",
       "    </tr>\n",
       "  </tbody>\n",
       "</table>\n",
       "</div>"
      ],
      "text/plain": [
       "        date  revenue  orders\n",
       "1 2019-08-01  967.2    17    \n",
       "3 2019-08-02  3535.3   40    \n",
       "5 2019-08-03  4606.9   54    \n",
       "7 2019-08-04  6138.5   68    \n",
       "9 2019-08-05  7587.8   89    "
      ]
     },
     "execution_count": 36,
     "metadata": {},
     "output_type": "execute_result"
    }
   ],
   "source": [
    "cumul_revenue_B.head()"
   ]
  },
  {
   "cell_type": "code",
   "execution_count": 37,
   "metadata": {},
   "outputs": [
    {
     "name": "stdout",
     "output_type": "stream",
     "text": [
      "Length of table 'cumul_revenue_A': 31\n",
      "Length of table 'cumul_revenue_B': 31\n",
      "\n",
      "Both tables have the same length.\n"
     ]
    }
   ],
   "source": [
    "print(\"Length of table 'cumul_revenue_A':\", len(cumul_revenue_A))\n",
    "print(\"Length of table 'cumul_revenue_B':\", len(cumul_revenue_B))\n",
    "print()\n",
    "print(\"Both tables have the same length.\")"
   ]
  },
  {
   "cell_type": "code",
   "execution_count": 38,
   "metadata": {},
   "outputs": [
    {
     "data": {
      "image/png": "[encoded data removed]",
      "text/plain": [
       "<Figure size 936x576 with 1 Axes>"
      ]
     },
     "metadata": {
      "needs_background": "light"
     },
     "output_type": "display_data"
    }
   ],
   "source": [
    "# Plot a diagramm showing the cumulative revenue by day for group A resp. group B\n",
    "\n",
    "# data for both graphs\n",
    "data_A = cumul_revenue_A['revenue']\n",
    "data_B = cumul_revenue_B['revenue']\n",
    "\n",
    "# x-axis as dates\n",
    "xaxis_A = cumul_revenue_A['date']\n",
    "xaxis_B = cumul_revenue_B['date']\n",
    "\n",
    "plt.figure(figsize=(13, 8))\n",
    "plt.plot(xaxis_A, data_A, label='Group A')\n",
    "plt.plot(xaxis_B, data_B, label='Group B')\n",
    "plt.ylim([0, 82000])\n",
    "plt.xlabel(\"Date\")\n",
    "plt.ylabel(\"Cumulative revenue in dollars\")\n",
    "plt.title(\"Cumulative revenue in dollars for group A and B\")\n",
    "plt.grid()\n",
    "plt.legend(prop={'size': 13})\n",
    "plt.show()"
   ]
  },
  {
   "cell_type": "markdown",
   "metadata": {},
   "source": [
    "The graph shows the cumulative revenue for both groups in the observed time period. One can observe that in the time period between the first and the 18th of august the cumulative revenue is very similar although the graph for group B is slightly above the graph for group A. From the 18th to the 19th of august the cumulative revenue fpr group B has a huge increase to more than 55000 dollars. After that jump, both graphs continue increasing with a similar gradient maintaining the distance caused by that described jump until the end of the observed time period. After one month, group A has slightly more than 52000 dollars of revenue and group B has nearly 80000 dollars of revenue."
   ]
  },
  {
   "cell_type": "code",
   "execution_count": 39,
   "metadata": {},
   "outputs": [
    {
     "name": "stdout",
     "output_type": "stream",
     "text": [
      "Cumulative revenue for group B between 17th and 20th of august:\n",
      "\n",
      "         date  revenue\n",
      "33 2019-08-17  34116.2\n",
      "35 2019-08-18  34684.7\n",
      "37 2019-08-19  56749.6\n",
      "39 2019-08-20  59074.2\n"
     ]
    }
   ],
   "source": [
    "# Take a closer look at the jump for group B between 17th and 20th of august\n",
    "\n",
    "print(\"Cumulative revenue for group B between 17th and 20th of august:\")\n",
    "print()\n",
    "print(cumul_revenue_B[(cumul_revenue_B['date'] >= '2019-08-17')&(cumul_revenue_B['date'] <= '2019-08-20')][['date', 'revenue']])"
   ]
  },
  {
   "cell_type": "markdown",
   "metadata": {},
   "source": [
    "There's a big jump between the 18th and the 19th of august from around 35000 to 57000 dollars. There is a difference of around 22000 dollars. Let's see if there's a big order on that date:"
   ]
  },
  {
   "cell_type": "code",
   "execution_count": 40,
   "metadata": {},
   "outputs": [
    {
     "data": {
      "text/html": [
       "<div>\n",
       "<style scoped>\n",
       "    .dataframe tbody tr th:only-of-type {\n",
       "        vertical-align: middle;\n",
       "    }\n",
       "\n",
       "    .dataframe tbody tr th {\n",
       "        vertical-align: top;\n",
       "    }\n",
       "\n",
       "    .dataframe thead th {\n",
       "        text-align: right;\n",
       "    }\n",
       "</style>\n",
       "<table border=\"1\" class=\"dataframe\">\n",
       "  <thead>\n",
       "    <tr style=\"text-align: right;\">\n",
       "      <th></th>\n",
       "      <th>transaction_id</th>\n",
       "      <th>visitor_id</th>\n",
       "      <th>date</th>\n",
       "      <th>revenue</th>\n",
       "      <th>group</th>\n",
       "    </tr>\n",
       "  </thead>\n",
       "  <tbody>\n",
       "    <tr>\n",
       "      <td>425</td>\n",
       "      <td>590470918</td>\n",
       "      <td>1920142716</td>\n",
       "      <td>2019-08-19</td>\n",
       "      <td>19920.4</td>\n",
       "      <td>B</td>\n",
       "    </tr>\n",
       "    <tr>\n",
       "      <td>530</td>\n",
       "      <td>3970235543</td>\n",
       "      <td>2912540959</td>\n",
       "      <td>2019-08-19</td>\n",
       "      <td>680.8</td>\n",
       "      <td>A</td>\n",
       "    </tr>\n",
       "    <tr>\n",
       "      <td>527</td>\n",
       "      <td>1570513684</td>\n",
       "      <td>2837914161</td>\n",
       "      <td>2019-08-19</td>\n",
       "      <td>515.9</td>\n",
       "      <td>B</td>\n",
       "    </tr>\n",
       "    <tr>\n",
       "      <td>421</td>\n",
       "      <td>3765974140</td>\n",
       "      <td>1357170471</td>\n",
       "      <td>2019-08-19</td>\n",
       "      <td>490.4</td>\n",
       "      <td>A</td>\n",
       "    </tr>\n",
       "    <tr>\n",
       "      <td>461</td>\n",
       "      <td>2683113224</td>\n",
       "      <td>154576532</td>\n",
       "      <td>2019-08-19</td>\n",
       "      <td>410.5</td>\n",
       "      <td>B</td>\n",
       "    </tr>\n",
       "  </tbody>\n",
       "</table>\n",
       "</div>"
      ],
      "text/plain": [
       "     transaction_id  visitor_id       date  revenue group\n",
       "425  590470918       1920142716 2019-08-19  19920.4  B   \n",
       "530  3970235543      2912540959 2019-08-19  680.8    A   \n",
       "527  1570513684      2837914161 2019-08-19  515.9    B   \n",
       "421  3765974140      1357170471 2019-08-19  490.4    A   \n",
       "461  2683113224      154576532  2019-08-19  410.5    B   "
      ]
     },
     "execution_count": 40,
     "metadata": {},
     "output_type": "execute_result"
    }
   ],
   "source": [
    "# show most expensive orders on the 19th of august\n",
    "orders[orders['date'] == '2019-08-19'].sort_values(by='revenue', ascending = False).head()"
   ]
  },
  {
   "cell_type": "code",
   "execution_count": 41,
   "metadata": {},
   "outputs": [
    {
     "data": {
      "text/plain": [
       "21"
      ]
     },
     "execution_count": 41,
     "metadata": {},
     "output_type": "execute_result"
    }
   ],
   "source": [
    "# number of orders on that date for group B\n",
    "len(orders[(orders['date'] == '2019-08-19')&(orders['group'] == 'B')])"
   ]
  },
  {
   "cell_type": "markdown",
   "metadata": {},
   "source": [
    "Looking at the table, one can see that there is a big outlier for the revenues: One order for group B on 2019-08-19 has a value of 19920 dollars. The other 20 orders for that group on that day have values lower that 600 dollars. This one order is the reason for that unexpected jump in the graph for group B. "
   ]
  },
  {
   "cell_type": "code",
   "execution_count": 42,
   "metadata": {},
   "outputs": [
    {
     "name": "stdout",
     "output_type": "stream",
     "text": [
      "Cumulative revenue on the 31th of august:\n",
      "Group A: 53212 dollars\n",
      "Group B: 79651 dollars\n"
     ]
    }
   ],
   "source": [
    "print(\"Cumulative revenue on the 31th of august:\")\n",
    "print(\"Group A: {:.0f} dollars\".format(cumul_revenue_A['revenue'].max()))\n",
    "print(\"Group B: {:.0f} dollars\".format(cumul_revenue_B['revenue'].max()))"
   ]
  },
  {
   "cell_type": "markdown",
   "metadata": {},
   "source": [
    "#### Conclusion"
   ]
  },
  {
   "cell_type": "markdown",
   "metadata": {},
   "source": [
    "Looking at the graph for the cumulative revenue, one can see that besides that huge increase on the 19th of august for group B, the cumulative revenues for both groups have similar gradient while increasing. The main reason for the big jump is one order that has an extraordinary high revenue of 19920 dollars. The revenues for the other 20 orders on 2019-08-19 for group B have values lower than 600 dollars. In the end of the observed time period we have a cumulative revenue of 53212 dollars for group A and 79651 dollars for group B."
   ]
  },
  {
   "cell_type": "markdown",
   "metadata": {},
   "source": [
    "<a id=\"2.3\"></a>"
   ]
  },
  {
   "cell_type": "markdown",
   "metadata": {},
   "source": [
    "### 2.3) Cumulative average order size by group"
   ]
  },
  {
   "cell_type": "code",
   "execution_count": 43,
   "metadata": {},
   "outputs": [
    {
     "data": {
      "image/png": "[encoded data removed]",
      "text/plain": [
       "<Figure size 936x576 with 1 Axes>"
      ]
     },
     "metadata": {
      "needs_background": "light"
     },
     "output_type": "display_data"
    }
   ],
   "source": [
    "# Plot a diagramm showing the cumulative average order size by group\n",
    "\n",
    "# data for both graphs\n",
    "data_A = cumul_revenue_A['revenue']/cumul_revenue_A['orders']\n",
    "data_B = cumul_revenue_B['revenue']/cumul_revenue_B['orders']\n",
    "\n",
    "# x-axis as dates\n",
    "xaxis_A = cumul_revenue_A['date']\n",
    "xaxis_B = cumul_revenue_B['date']\n",
    "\n",
    "plt.figure(figsize=(13, 8))\n",
    "plt.plot(xaxis_A, data_A, label='Group A')\n",
    "plt.plot(xaxis_B, data_B, label='Group B')\n",
    "plt.xlabel(\"Date\")\n",
    "plt.ylabel(\"Cumulative average order size in dollars\")\n",
    "plt.title(\"Cumulative average order size in dollars for group A and B\")\n",
    "plt.grid()\n",
    "plt.legend(prop={'size': 13})\n",
    "plt.show()"
   ]
  },
  {
   "cell_type": "markdown",
   "metadata": {},
   "source": [
    "#### Conclusion"
   ]
  },
  {
   "cell_type": "markdown",
   "metadata": {},
   "source": [
    "In the first 15 days of the observed month we have big fluctuations for the cumulative average order size. In that time, the reasons for the fluctuations may be the less number of accumulated orders and the existence of further outliers in revenues. From the 15th until the 18th of august both curves have no flucuations. As expected, the big order on the 19th of august causes a huge increase of the cumulative average order size for group B since in the calculation, the value for the revenue increases about 19000 dollars but the number of orders only increases by 1. Beginning from the 19th of august, for both groups the intensity of the fluctuations is low. From that date on, one can observe an decreasing trend for group B until the end of the month. Since after that big jump the cumulative average order size is extraordinary high (160 dollars), from the decreasing trend for group B we can't make significant conclusions. For group A a trend can be observed from the 23th of august which is a slightly increasing trend. If there are also big outliers for revenues in that time period, it may be possible that the increasing trend of group A is more visible. As it is shown in the graph above, the increasing trend for group A is not solid enough to be settled."
   ]
  },
  {
   "cell_type": "markdown",
   "metadata": {},
   "source": [
    "<a id=\"2.4\"></a>"
   ]
  },
  {
   "cell_type": "markdown",
   "metadata": {},
   "source": [
    "### 2.4) Relative difference in cumulative average order size"
   ]
  },
  {
   "cell_type": "code",
   "execution_count": 44,
   "metadata": {},
   "outputs": [
    {
     "data": {
      "image/png": "[encoded data removed]",
      "text/plain": [
       "<Figure size 936x576 with 1 Axes>"
      ]
     },
     "metadata": {
      "needs_background": "light"
     },
     "output_type": "display_data"
    }
   ],
   "source": [
    "# Plot a diagramm showing the relative difference in cumulative average order size for group B compared to group A\n",
    "\n",
    "# data for the graph\n",
    "merged_cumul_revenue = cumul_revenue_A.merge(cumul_revenue_B, left_on='date', right_on='date', how='left', suffixes=['A', 'B'])\n",
    "\n",
    "# dates on the x-axis\n",
    "xaxis = merged_cumul_revenue['date']\n",
    "\n",
    "plt.figure(figsize=(13, 8))\n",
    "plt.plot(xaxis, \\\n",
    "         (merged_cumul_revenue['revenueB']/merged_cumul_revenue['ordersB']) / \\\n",
    "         (merged_cumul_revenue['revenueA']/merged_cumul_revenue['ordersA']) - 1)\n",
    "plt.axhline(y=0, color='black', linestyle='--') \n",
    "plt.xlabel(\"Date\")\n",
    "plt.ylabel(\"Relative difference\")\n",
    "plt.title(\"Relative difference in cumulative average order size for group B compared to group A\")\n",
    "plt.grid()\n",
    "plt.show()"
   ]
  },
  {
   "cell_type": "markdown",
   "metadata": {},
   "source": [
    "#### Conclusion"
   ]
  },
  {
   "cell_type": "markdown",
   "metadata": {},
   "source": [
    "As one can see in the graph above, at several points the difference between the segments spikes. Besides the one outlier at the 19th of august there are other outliers for order revenue; for example at the 13th or the 7th of august. Beginning from the 19th of august where the maximum relative difference of nearly 50% is reached, the relative difference shows a decreasing trend. Since the extraordinary expensive purchase in group B causes a big increase in this graph, the decreasing trend of the relative difference can't give us hints for its behaviour. Later in the analysis we will treat the anomalies."
   ]
  },
  {
   "cell_type": "markdown",
   "metadata": {},
   "source": [
    "<a id=\"2.5\"></a>"
   ]
  },
  {
   "cell_type": "markdown",
   "metadata": {},
   "source": [
    "### 2.5) Conversion rate by group"
   ]
  },
  {
   "cell_type": "code",
   "execution_count": 45,
   "metadata": {},
   "outputs": [
    {
     "data": {
      "text/html": [
       "<div>\n",
       "<style scoped>\n",
       "    .dataframe tbody tr th:only-of-type {\n",
       "        vertical-align: middle;\n",
       "    }\n",
       "\n",
       "    .dataframe tbody tr th {\n",
       "        vertical-align: top;\n",
       "    }\n",
       "\n",
       "    .dataframe thead th {\n",
       "        text-align: right;\n",
       "    }\n",
       "</style>\n",
       "<table border=\"1\" class=\"dataframe\">\n",
       "  <thead>\n",
       "    <tr style=\"text-align: right;\">\n",
       "      <th></th>\n",
       "      <th>date</th>\n",
       "      <th>group</th>\n",
       "      <th>number_of_orders</th>\n",
       "    </tr>\n",
       "  </thead>\n",
       "  <tbody>\n",
       "    <tr>\n",
       "      <td>0</td>\n",
       "      <td>2019-08-01</td>\n",
       "      <td>A</td>\n",
       "      <td>23</td>\n",
       "    </tr>\n",
       "    <tr>\n",
       "      <td>1</td>\n",
       "      <td>2019-08-01</td>\n",
       "      <td>B</td>\n",
       "      <td>17</td>\n",
       "    </tr>\n",
       "    <tr>\n",
       "      <td>2</td>\n",
       "      <td>2019-08-02</td>\n",
       "      <td>A</td>\n",
       "      <td>19</td>\n",
       "    </tr>\n",
       "    <tr>\n",
       "      <td>3</td>\n",
       "      <td>2019-08-02</td>\n",
       "      <td>B</td>\n",
       "      <td>23</td>\n",
       "    </tr>\n",
       "    <tr>\n",
       "      <td>4</td>\n",
       "      <td>2019-08-03</td>\n",
       "      <td>A</td>\n",
       "      <td>24</td>\n",
       "    </tr>\n",
       "  </tbody>\n",
       "</table>\n",
       "</div>"
      ],
      "text/plain": [
       "        date group  number_of_orders\n",
       "0 2019-08-01  A     23              \n",
       "1 2019-08-01  B     17              \n",
       "2 2019-08-02  A     19              \n",
       "3 2019-08-02  B     23              \n",
       "4 2019-08-03  A     24              "
      ]
     },
     "execution_count": 45,
     "metadata": {},
     "output_type": "execute_result"
    }
   ],
   "source": [
    "# for each date-group-pair count the number of orders\n",
    "orders_count = orders.groupby(['date', 'group']).agg({'revenue': 'count'}).reset_index()\n",
    "\n",
    "# rename columns\n",
    "orders_count.columns = ['date', 'group', 'number_of_orders']\n",
    "\n",
    "orders_count.head()"
   ]
  },
  {
   "cell_type": "code",
   "execution_count": 46,
   "metadata": {},
   "outputs": [],
   "source": [
    "# add the number of visits to the table for every day and group by merging it with the table 'visits'\n",
    "df_conversion = orders_count.merge(visits, on=['date', 'group'])\n",
    "\n",
    "# rename columns\n",
    "df_conversion.columns = ['date', 'group', 'number_of_orders', 'number_of_visits']\n",
    "\n",
    "# calculate conversion rate for every day in percent\n",
    "df_conversion['conversion_rate'] = df_conversion['number_of_orders']/df_conversion['number_of_visits']*100"
   ]
  },
  {
   "cell_type": "code",
   "execution_count": 47,
   "metadata": {},
   "outputs": [],
   "source": [
    "# create a table for each group\n",
    "df_conversion_A = df_conversion[df_conversion['group'] == 'A']\n",
    "df_conversion_B = df_conversion[df_conversion['group'] == 'B']\n",
    "\n",
    "# sort values by date\n",
    "df_conversion_A = df_conversion_A.sort_values(by='date')\n",
    "df_conversion_B = df_conversion_B.sort_values(by='date')"
   ]
  },
  {
   "cell_type": "code",
   "execution_count": 48,
   "metadata": {},
   "outputs": [
    {
     "name": "stdout",
     "output_type": "stream",
     "text": [
      "<class 'pandas.core.frame.DataFrame'>\n",
      "Int64Index: 31 entries, 0 to 60\n",
      "Data columns (total 5 columns):\n",
      "date                31 non-null datetime64[ns]\n",
      "group               31 non-null object\n",
      "number_of_orders    31 non-null int64\n",
      "number_of_visits    31 non-null int64\n",
      "conversion_rate     31 non-null float64\n",
      "dtypes: datetime64[ns](1), float64(1), int64(2), object(1)\n",
      "memory usage: 1.5+ KB\n",
      "\n",
      "<class 'pandas.core.frame.DataFrame'>\n",
      "Int64Index: 31 entries, 1 to 61\n",
      "Data columns (total 5 columns):\n",
      "date                31 non-null datetime64[ns]\n",
      "group               31 non-null object\n",
      "number_of_orders    31 non-null int64\n",
      "number_of_visits    31 non-null int64\n",
      "conversion_rate     31 non-null float64\n",
      "dtypes: datetime64[ns](1), float64(1), int64(2), object(1)\n",
      "memory usage: 1.5+ KB\n"
     ]
    }
   ],
   "source": [
    "# check if the tables have exactly 31 rows\n",
    "df_conversion_A.info()\n",
    "print()\n",
    "df_conversion_B.info()"
   ]
  },
  {
   "cell_type": "code",
   "execution_count": 49,
   "metadata": {},
   "outputs": [
    {
     "name": "stdout",
     "output_type": "stream",
     "text": [
      "        date group  number_of_orders  number_of_visits  conversion_rate\n",
      "0 2019-08-01  A     23                719               3.198887       \n",
      "2 2019-08-02  A     19                619               3.069467       \n",
      "4 2019-08-03  A     24                507               4.733728       \n",
      "6 2019-08-04  A     11                717               1.534170       \n",
      "8 2019-08-05  A     22                756               2.910053       \n",
      "\n",
      "        date group  number_of_orders  number_of_visits  conversion_rate\n",
      "1 2019-08-01  B     17                713               2.384292       \n",
      "3 2019-08-02  B     23                581               3.958692       \n",
      "5 2019-08-03  B     14                509               2.750491       \n",
      "7 2019-08-04  B     14                770               1.818182       \n",
      "9 2019-08-05  B     21                707               2.970297       \n"
     ]
    }
   ],
   "source": [
    "print(df_conversion_A.head())\n",
    "print()\n",
    "print(df_conversion_B.head())"
   ]
  },
  {
   "cell_type": "code",
   "execution_count": 50,
   "metadata": {
    "scrolled": false
   },
   "outputs": [
    {
     "data": {
      "image/png": "[encoded data removed]",
      "text/plain": [
       "<Figure size 936x576 with 1 Axes>"
      ]
     },
     "metadata": {
      "needs_background": "light"
     },
     "output_type": "display_data"
    }
   ],
   "source": [
    "# plot the conversion rate for every day for each group\n",
    "\n",
    "# data for both graphs\n",
    "data_A = df_conversion_A['conversion_rate']\n",
    "data_B = df_conversion_B['conversion_rate']\n",
    "\n",
    "# dates as x-axis\n",
    "xaxis_A = df_conversion_A['date']\n",
    "xaxis_B = df_conversion_B['date']\n",
    "\n",
    "plt.figure(figsize=(13, 8))\n",
    "plt.plot(xaxis_A, data_A, label='Group A')\n",
    "plt.plot(xaxis_B, data_B, label='Group B')\n",
    "plt.ylim([0, 6.1])\n",
    "plt.xlabel(\"Date\")\n",
    "plt.ylabel(\"Conversion rate in percent\")\n",
    "plt.title(\"Daily conversion rate for each group in percent\")\n",
    "plt.grid()\n",
    "plt.legend(prop={'size': 13})\n",
    "plt.show()"
   ]
  },
  {
   "cell_type": "markdown",
   "metadata": {},
   "source": [
    "The conversion rate for every day has big fluctuations for both groups. The fluctuations are so big that one can't determine a certain trend. The conversion rates vary between 1 and 6 percent. In order to observe any trends, we need to plot the cumulative conversion rates."
   ]
  },
  {
   "cell_type": "code",
   "execution_count": 51,
   "metadata": {},
   "outputs": [
    {
     "data": {
      "text/html": [
       "<div>\n",
       "<style scoped>\n",
       "    .dataframe tbody tr th:only-of-type {\n",
       "        vertical-align: middle;\n",
       "    }\n",
       "\n",
       "    .dataframe tbody tr th {\n",
       "        vertical-align: top;\n",
       "    }\n",
       "\n",
       "    .dataframe thead th {\n",
       "        text-align: right;\n",
       "    }\n",
       "</style>\n",
       "<table border=\"1\" class=\"dataframe\">\n",
       "  <thead>\n",
       "    <tr style=\"text-align: right;\">\n",
       "      <th></th>\n",
       "      <th>date</th>\n",
       "      <th>group</th>\n",
       "      <th>orders</th>\n",
       "      <th>buyers</th>\n",
       "      <th>revenue</th>\n",
       "      <th>visits</th>\n",
       "    </tr>\n",
       "  </thead>\n",
       "  <tbody>\n",
       "    <tr>\n",
       "      <td>0</td>\n",
       "      <td>2019-08-01</td>\n",
       "      <td>A</td>\n",
       "      <td>23</td>\n",
       "      <td>19</td>\n",
       "      <td>2266.6</td>\n",
       "      <td>719</td>\n",
       "    </tr>\n",
       "    <tr>\n",
       "      <td>1</td>\n",
       "      <td>2019-08-01</td>\n",
       "      <td>B</td>\n",
       "      <td>17</td>\n",
       "      <td>17</td>\n",
       "      <td>967.2</td>\n",
       "      <td>713</td>\n",
       "    </tr>\n",
       "    <tr>\n",
       "      <td>2</td>\n",
       "      <td>2019-08-02</td>\n",
       "      <td>A</td>\n",
       "      <td>42</td>\n",
       "      <td>36</td>\n",
       "      <td>3734.9</td>\n",
       "      <td>1338</td>\n",
       "    </tr>\n",
       "    <tr>\n",
       "      <td>3</td>\n",
       "      <td>2019-08-02</td>\n",
       "      <td>B</td>\n",
       "      <td>40</td>\n",
       "      <td>39</td>\n",
       "      <td>3535.3</td>\n",
       "      <td>1294</td>\n",
       "    </tr>\n",
       "    <tr>\n",
       "      <td>4</td>\n",
       "      <td>2019-08-03</td>\n",
       "      <td>A</td>\n",
       "      <td>66</td>\n",
       "      <td>60</td>\n",
       "      <td>5550.1</td>\n",
       "      <td>1845</td>\n",
       "    </tr>\n",
       "  </tbody>\n",
       "</table>\n",
       "</div>"
      ],
      "text/plain": [
       "        date group  orders  buyers  revenue  visits\n",
       "0 2019-08-01  A     23      19      2266.6   719   \n",
       "1 2019-08-01  B     17      17      967.2    713   \n",
       "2 2019-08-02  A     42      36      3734.9   1338  \n",
       "3 2019-08-02  B     40      39      3535.3   1294  \n",
       "4 2019-08-03  A     66      60      5550.1   1845  "
      ]
     },
     "execution_count": 51,
     "metadata": {},
     "output_type": "execute_result"
    }
   ],
   "source": [
    "# see the table 'cumul_data'\n",
    "cumul_data.head()"
   ]
  },
  {
   "cell_type": "code",
   "execution_count": 52,
   "metadata": {},
   "outputs": [
    {
     "data": {
      "image/png": "[encoded data removed]",
      "text/plain": [
       "<Figure size 936x576 with 1 Axes>"
      ]
     },
     "metadata": {
      "needs_background": "light"
     },
     "output_type": "display_data"
    }
   ],
   "source": [
    "# calculate cumulative conversion in percent and plot it for each group\n",
    "cumul_data['cumul_conversion_rate'] = cumul_data['orders'] / cumul_data['visits'] * 100\n",
    "\n",
    "# selecting data on group A resp. group B\n",
    "cumul_data_A = cumul_data[cumul_data['group']=='A']\n",
    "cumul_data_B = cumul_data[cumul_data['group']=='B']\n",
    "\n",
    "# dates as x-axis\n",
    "xaxis_A = cumul_data_A['date']\n",
    "xaxis_B = cumul_data_B['date']\n",
    "\n",
    "plt.figure(figsize=(13, 8))\n",
    "plt.plot(xaxis_A, cumul_data_A['cumul_conversion_rate'], label='Group A')\n",
    "plt.plot(xaxis_B, cumul_data_B['cumul_conversion_rate'], label='Group B')\n",
    "plt.xlabel(\"Date\")\n",
    "plt.ylabel(\"Cumulative conversion rate in percent\")\n",
    "plt.title(\"Daily cumulative conversion rate for each group in percent\")\n",
    "plt.grid()\n",
    "plt.legend(prop={'size': 13})\n",
    "plt.show()"
   ]
  },
  {
   "cell_type": "markdown",
   "metadata": {},
   "source": [
    "#### Conclusion"
   ]
  },
  {
   "cell_type": "markdown",
   "metadata": {},
   "source": [
    "When summing up the daily orders and visits, one can see a evolving trend for the conversion rate. In the beginning the conversion rate for group A was higher than for group B. One can see big fluctuations for the conversion rate in the beginning, for example the big increase from the 1st to the 2nd of august in group B shown by a change from 2.4% to 3.1%. Starting from the 7th august, the situation changes and group B has a higher conversion rate until the end of the observed time period. From that date on there's an evolving trend for both groups: Group A settles its conversion rate between 2.5% and 2.6% and group B settles its conversion rate around 2.9%. That means that within the month the difference between the cumulative conversion rates for group A and B becomes more constant. One can suppose that visitors in group B have a significantly higher conversion rate than in group A."
   ]
  },
  {
   "cell_type": "markdown",
   "metadata": {},
   "source": [
    "<a id=\"2.6\"></a>"
   ]
  },
  {
   "cell_type": "markdown",
   "metadata": {},
   "source": [
    "### 2.6) Number of orders per user"
   ]
  },
  {
   "cell_type": "code",
   "execution_count": 53,
   "metadata": {},
   "outputs": [
    {
     "data": {
      "text/html": [
       "<div>\n",
       "<style scoped>\n",
       "    .dataframe tbody tr th:only-of-type {\n",
       "        vertical-align: middle;\n",
       "    }\n",
       "\n",
       "    .dataframe tbody tr th {\n",
       "        vertical-align: top;\n",
       "    }\n",
       "\n",
       "    .dataframe thead th {\n",
       "        text-align: right;\n",
       "    }\n",
       "</style>\n",
       "<table border=\"1\" class=\"dataframe\">\n",
       "  <thead>\n",
       "    <tr style=\"text-align: right;\">\n",
       "      <th></th>\n",
       "      <th>visitor_id</th>\n",
       "      <th>group</th>\n",
       "      <th>number_of_orders</th>\n",
       "    </tr>\n",
       "  </thead>\n",
       "  <tbody>\n",
       "    <tr>\n",
       "      <td>0</td>\n",
       "      <td>5114589</td>\n",
       "      <td>B</td>\n",
       "      <td>1</td>\n",
       "    </tr>\n",
       "    <tr>\n",
       "      <td>1</td>\n",
       "      <td>6958315</td>\n",
       "      <td>B</td>\n",
       "      <td>1</td>\n",
       "    </tr>\n",
       "    <tr>\n",
       "      <td>2</td>\n",
       "      <td>11685486</td>\n",
       "      <td>A</td>\n",
       "      <td>1</td>\n",
       "    </tr>\n",
       "    <tr>\n",
       "      <td>3</td>\n",
       "      <td>39475350</td>\n",
       "      <td>B</td>\n",
       "      <td>1</td>\n",
       "    </tr>\n",
       "    <tr>\n",
       "      <td>4</td>\n",
       "      <td>47206413</td>\n",
       "      <td>B</td>\n",
       "      <td>1</td>\n",
       "    </tr>\n",
       "  </tbody>\n",
       "</table>\n",
       "</div>"
      ],
      "text/plain": [
       "   visitor_id group  number_of_orders\n",
       "0  5114589     B     1               \n",
       "1  6958315     B     1               \n",
       "2  11685486    A     1               \n",
       "3  39475350    B     1               \n",
       "4  47206413    B     1               "
      ]
     },
     "execution_count": 53,
     "metadata": {},
     "output_type": "execute_result"
    }
   ],
   "source": [
    "# create a table containing the number of orders for every user and its group\n",
    "orders_per_user = orders.groupby(['visitor_id', 'group']).agg({'transaction_id':'count'}).reset_index()\n",
    "\n",
    "# rename columns\n",
    "orders_per_user.columns = ['visitor_id', 'group', 'number_of_orders']\n",
    "\n",
    "orders_per_user.head()"
   ]
  },
  {
   "cell_type": "code",
   "execution_count": 54,
   "metadata": {},
   "outputs": [
    {
     "name": "stdout",
     "output_type": "stream",
     "text": [
      "Show the number of users having certain number of orders:\n",
      "1    937\n",
      "2    29 \n",
      "3    7  \n",
      "Name: number_of_orders, dtype: int64\n",
      "\n",
      "Only for group A:\n",
      "1    427\n",
      "2    13 \n",
      "3    5  \n",
      "Name: number_of_orders, dtype: int64\n",
      "\n",
      "Only for group B:\n",
      "1    510\n",
      "2    16 \n",
      "3    2  \n",
      "Name: number_of_orders, dtype: int64\n"
     ]
    }
   ],
   "source": [
    "print(\"Show the number of users having certain number of orders:\")\n",
    "print(orders_per_user['number_of_orders'].value_counts())\n",
    "print()\n",
    "print(\"Only for group A:\")\n",
    "print(orders_per_user[orders_per_user['group'] == 'A']['number_of_orders'].value_counts())\n",
    "print()\n",
    "print(\"Only for group B:\")\n",
    "print(orders_per_user[orders_per_user['group'] == 'B']['number_of_orders'].value_counts())"
   ]
  },
  {
   "cell_type": "code",
   "execution_count": 55,
   "metadata": {},
   "outputs": [
    {
     "name": "stdout",
     "output_type": "stream",
     "text": [
      "In average, an user made 1.04 orders during august 2019.\n",
      "In total there are 973 customers who made at least one order in august 2019.\n"
     ]
    }
   ],
   "source": [
    "print(\"In average, an user made {:.2f} orders during august 2019.\".format(orders_per_user['number_of_orders'].mean()))\n",
    "print(\"In total there are {:.0f} customers who made at least one order in august 2019.\".format(len(orders_per_user)))"
   ]
  },
  {
   "cell_type": "code",
   "execution_count": 56,
   "metadata": {},
   "outputs": [
    {
     "data": {
      "image/png": "[encoded data removed]",
      "text/plain": [
       "<Figure size 432x288 with 1 Axes>"
      ]
     },
     "metadata": {
      "needs_background": "light"
     },
     "output_type": "display_data"
    }
   ],
   "source": [
    "# scatter plot for the number of orders per user\n",
    "x_values = pd.Series(range(0, len(orders_per_user['number_of_orders'])))\n",
    "\n",
    "plt.scatter(x_values, orders_per_user['number_of_orders'], s=7)\n",
    "plt.yticks([1, 2, 3])\n",
    "plt.title(\"Scatter plot for the number of orders per customer\")\n",
    "plt.ylabel(\"Number of orders\")\n",
    "plt.xlabel(\"n-th customer (n between 0 and 972)\")\n",
    "plt.show()"
   ]
  },
  {
   "cell_type": "code",
   "execution_count": 57,
   "metadata": {},
   "outputs": [
    {
     "name": "stdout",
     "output_type": "stream",
     "text": [
      "The 95th and 99th percentile for the number of orders per user:\n",
      "[1. 2.]\n"
     ]
    }
   ],
   "source": [
    "print(\"The 95th and 99th percentile for the number of orders per user:\")\n",
    "print(np.percentile(orders_per_user['number_of_orders'], [95, 99]))"
   ]
  },
  {
   "cell_type": "markdown",
   "metadata": {},
   "source": [
    "#### Conclusion"
   ]
  },
  {
   "cell_type": "markdown",
   "metadata": {},
   "source": [
    "In this task we create a scatter plot showing the number of purchases per user. This value can only take an integer between 1 and 3 as one can see in the scatter plot. We found out that the most part of the 973 customers made one order during august (937 user). This can't be seen well in the scatter plot since the dots are too big, so the number of users with multiple orders appears too huge in the plot. Only 7 users made 3 orders during august 2019. The average value is 1.04 orders per user. We can conclude that the most users who order something only do one order during one or more months. The number of orders per user for different groups show that the most part of those who made 3 orders are in group A (5 out of 7 user) although group A has less user than group B (Group A: 445 user in total, Group B: 528 user in total). <br> <br>\n",
    "We also determined the 95th and the 99th percentile for the number of orders per user. The 95th percentile is 1 and the 99th percentile is 2. Therefore I define the point of anormaly by above 2 orders per user; that means 3 orders per user counts as an anomaly."
   ]
  },
  {
   "cell_type": "markdown",
   "metadata": {},
   "source": [
    "<a id=\"2.7\"></a>"
   ]
  },
  {
   "cell_type": "markdown",
   "metadata": {},
   "source": [
    "### 2.7) Order prices"
   ]
  },
  {
   "cell_type": "code",
   "execution_count": 58,
   "metadata": {},
   "outputs": [
    {
     "data": {
      "image/png": "[encoded data removed]",
      "text/plain": [
       "<Figure size 432x288 with 1 Axes>"
      ]
     },
     "metadata": {
      "needs_background": "light"
     },
     "output_type": "display_data"
    }
   ],
   "source": [
    "# scatter plot for the order prices\n",
    "\n",
    "x_values = pd.Series(range(0, len(orders['revenue'])))\n",
    "plt.scatter(x_values, orders['revenue'], s=9)\n",
    "plt.title(\"Scatter plot for the order prices\")\n",
    "plt.ylabel(\"Price in dollars\")\n",
    "plt.xlabel(\"n-th order (n between 0 and 1015)\")\n",
    "plt.show()"
   ]
  },
  {
   "cell_type": "markdown",
   "metadata": {},
   "source": [
    "The scatter plot shows that the most order prices are below 2000 dollars. There are 2 huge outliers given by one order around 3000 dollars (one dot right) and by one order at nearly 20000 dollars (one dot at the top). In order to visualise better the other order prices, I will create a second scatter plot excluding these two orders."
   ]
  },
  {
   "cell_type": "code",
   "execution_count": 59,
   "metadata": {},
   "outputs": [
    {
     "data": {
      "text/html": [
       "<div>\n",
       "<style scoped>\n",
       "    .dataframe tbody tr th:only-of-type {\n",
       "        vertical-align: middle;\n",
       "    }\n",
       "\n",
       "    .dataframe tbody tr th {\n",
       "        vertical-align: top;\n",
       "    }\n",
       "\n",
       "    .dataframe thead th {\n",
       "        text-align: right;\n",
       "    }\n",
       "</style>\n",
       "<table border=\"1\" class=\"dataframe\">\n",
       "  <thead>\n",
       "    <tr style=\"text-align: right;\">\n",
       "      <th></th>\n",
       "      <th>date</th>\n",
       "      <th>group</th>\n",
       "      <th>revenue</th>\n",
       "    </tr>\n",
       "  </thead>\n",
       "  <tbody>\n",
       "    <tr>\n",
       "      <td>425</td>\n",
       "      <td>2019-08-19</td>\n",
       "      <td>B</td>\n",
       "      <td>19920.4</td>\n",
       "    </tr>\n",
       "    <tr>\n",
       "      <td>1196</td>\n",
       "      <td>2019-08-15</td>\n",
       "      <td>B</td>\n",
       "      <td>3120.1</td>\n",
       "    </tr>\n",
       "    <tr>\n",
       "      <td>1136</td>\n",
       "      <td>2019-08-13</td>\n",
       "      <td>A</td>\n",
       "      <td>1425.8</td>\n",
       "    </tr>\n",
       "  </tbody>\n",
       "</table>\n",
       "</div>"
      ],
      "text/plain": [
       "           date group  revenue\n",
       "425  2019-08-19  B     19920.4\n",
       "1196 2019-08-15  B     3120.1 \n",
       "1136 2019-08-13  A     1425.8 "
      ]
     },
     "execution_count": 59,
     "metadata": {},
     "output_type": "execute_result"
    }
   ],
   "source": [
    "# 3 most expensive orders\n",
    "orders.sort_values(by='revenue', ascending=False)[['date', 'group', 'revenue']].head(3)"
   ]
  },
  {
   "cell_type": "code",
   "execution_count": 60,
   "metadata": {},
   "outputs": [
    {
     "data": {
      "text/html": [
       "<div>\n",
       "<style scoped>\n",
       "    .dataframe tbody tr th:only-of-type {\n",
       "        vertical-align: middle;\n",
       "    }\n",
       "\n",
       "    .dataframe tbody tr th {\n",
       "        vertical-align: top;\n",
       "    }\n",
       "\n",
       "    .dataframe thead th {\n",
       "        text-align: right;\n",
       "    }\n",
       "</style>\n",
       "<table border=\"1\" class=\"dataframe\">\n",
       "  <thead>\n",
       "    <tr style=\"text-align: right;\">\n",
       "      <th></th>\n",
       "      <th>date</th>\n",
       "      <th>group</th>\n",
       "      <th>revenue</th>\n",
       "    </tr>\n",
       "  </thead>\n",
       "  <tbody>\n",
       "    <tr>\n",
       "      <td>1003</td>\n",
       "      <td>2019-08-08</td>\n",
       "      <td>A</td>\n",
       "      <td>5.0</td>\n",
       "    </tr>\n",
       "    <tr>\n",
       "      <td>404</td>\n",
       "      <td>2019-08-28</td>\n",
       "      <td>B</td>\n",
       "      <td>5.1</td>\n",
       "    </tr>\n",
       "    <tr>\n",
       "      <td>602</td>\n",
       "      <td>2019-08-09</td>\n",
       "      <td>A</td>\n",
       "      <td>5.1</td>\n",
       "    </tr>\n",
       "  </tbody>\n",
       "</table>\n",
       "</div>"
      ],
      "text/plain": [
       "           date group  revenue\n",
       "1003 2019-08-08  A     5.0    \n",
       "404  2019-08-28  B     5.1    \n",
       "602  2019-08-09  A     5.1    "
      ]
     },
     "execution_count": 60,
     "metadata": {},
     "output_type": "execute_result"
    }
   ],
   "source": [
    "# 3 orders with lowest revenue\n",
    "orders.sort_values(by='revenue')[['date', 'group', 'revenue']].head(3)"
   ]
  },
  {
   "cell_type": "markdown",
   "metadata": {},
   "source": [
    "We can exclude the two most expensive orders by filtering all prices above or equal 1500 dollars."
   ]
  },
  {
   "cell_type": "code",
   "execution_count": 61,
   "metadata": {},
   "outputs": [
    {
     "data": {
      "image/png": "[encoded data removed]",
      "text/plain": [
       "<Figure size 432x288 with 1 Axes>"
      ]
     },
     "metadata": {
      "needs_background": "light"
     },
     "output_type": "display_data"
    }
   ],
   "source": [
    "# filter orders that have more than or equal 1500 dollars as price\n",
    "orders_below = orders[orders['revenue'] < 1500]\n",
    "\n",
    "# scatter plot for the order prices; in the range between 0 and 1500 dollars\n",
    "\n",
    "x_values = pd.Series(range(0, len(orders_below['revenue'])))\n",
    "plt.scatter(x_values, orders_below['revenue'], s=7)\n",
    "plt.title(\"Scatter plot for the order prices (below 1500 dollars)\")\n",
    "plt.ylabel(\"Price in dollars\")\n",
    "plt.xlabel(\"n-th order (n between 0 and 1013)\")\n",
    "plt.show()"
   ]
  },
  {
   "cell_type": "code",
   "execution_count": 62,
   "metadata": {},
   "outputs": [
    {
     "name": "stdout",
     "output_type": "stream",
     "text": [
      "The 95th and 99th percentile for order prices:\n",
      "[414.275 830.3  ]\n"
     ]
    }
   ],
   "source": [
    "print(\"The 95th and 99th percentile for order prices:\")\n",
    "print(np.percentile(orders['revenue'], [95, 99]))"
   ]
  },
  {
   "cell_type": "markdown",
   "metadata": {},
   "source": [
    "#### Conclusion"
   ]
  },
  {
   "cell_type": "markdown",
   "metadata": {},
   "source": [
    "The scatter plot consisting of prices below 1500 dollars visualises that the more expensive an order the less common such an order happens. The plot inculdes 1014 order prices. There are many orders below 100 dollars, one can't even see the dots due to the amount of orders in that price segment. Between 100 and 200 dollars one can observe that increasing prices become rare very fast. Starting at 400 dollars, one can clearly see the dots seperately. In the scatter plot we can also see orders costing more than 1000 dollars but also orders for less than 10 dollars. That means the big online store offers from a various range of things with a wide range for prices. Even though one can find things for less than 10 dollars the most users only had one order in august. <br> <br> The 95th percentile for order prices is given by 414 dollars and the 99th percentile by 830 dollars. Therefore, since 400 dollars is the limit of seeing the dots seperately in the scatter plot and since the 95th percentile of 414 dollars is close to it, I define all order prices above 400 dollars as anormalies."
   ]
  },
  {
   "cell_type": "markdown",
   "metadata": {},
   "source": [
    "<a id=\"2.8\"></a>"
   ]
  },
  {
   "cell_type": "markdown",
   "metadata": {},
   "source": [
    "### 2.8) Statistical significance: Difference in conversion rate (unfiltered data)"
   ]
  },
  {
   "cell_type": "code",
   "execution_count": 63,
   "metadata": {},
   "outputs": [],
   "source": [
    "# For each group, store the columns 'visitor_id' and 'orders'.\n",
    "# For visitors with at least one order, we'll indicate the number of orders made\n",
    "\n",
    "orders_by_users_A = orders[orders['group']=='A'].groupby('visitor_id', as_index=False) \\\n",
    "            .agg({'transaction_id' : pd.Series.nunique})\n",
    "\n",
    "orders_by_users_B = orders[orders['group']=='B'].groupby('visitor_id', as_index=False) \\\n",
    "            .agg({'transaction_id' : pd.Series.nunique})\n",
    "\n",
    "# rename columns\n",
    "\n",
    "orders_by_users_A.columns = ['visitor_id', 'orders']\n",
    "orders_by_users_B.columns = ['visitor_id', 'orders'] \n",
    "\n",
    "# We need to prepare for the Mann-Whitney-U-Test, so we create zeroes for visitors who didn't order anything.\n",
    "# Their number is the difference between the total number of visitors and the number of records on orders.\n",
    "# We concatenate these zeros with the list of the number of orders for each user\n",
    "\n",
    "# (Based on the given data I can't consider multiple visits from one certain visitor, so I have to assume that every visit\n",
    "# is from another visitor )\n",
    "\n",
    "sample_A = pd.concat([orders_by_users_A['orders'], pd.Series(0, index=np.arange(visits[visits['group']=='A']['visits'].sum() \\\n",
    "            -len(orders_by_users_A['orders'])), name='orders')], axis=0)\n",
    "\n",
    "sample_B = pd.concat([orders_by_users_B['orders'], pd.Series(0, index=np.arange(visits[visits['group']=='B']['visits'].sum() \\\n",
    "            - len(orders_by_users_A['orders'])), name='orders')], axis=0)"
   ]
  },
  {
   "cell_type": "code",
   "execution_count": 64,
   "metadata": {},
   "outputs": [
    {
     "data": {
      "text/plain": [
       "0    18291\n",
       "1    427  \n",
       "2    13   \n",
       "3    5    \n",
       "Name: orders, dtype: int64"
      ]
     },
     "execution_count": 64,
     "metadata": {},
     "output_type": "execute_result"
    }
   ],
   "source": [
    "sample_A.value_counts()"
   ]
  },
  {
   "cell_type": "code",
   "execution_count": 65,
   "metadata": {},
   "outputs": [
    {
     "data": {
      "text/plain": [
       "0    18471\n",
       "1    510  \n",
       "2    16   \n",
       "3    2    \n",
       "Name: orders, dtype: int64"
      ]
     },
     "execution_count": 65,
     "metadata": {},
     "output_type": "execute_result"
    }
   ],
   "source": [
    "sample_B.value_counts()"
   ]
  },
  {
   "cell_type": "markdown",
   "metadata": {},
   "source": [
    "Obviously both samples don't show any normality in their distributions, we use the Mann-Whitney-U-Test:"
   ]
  },
  {
   "cell_type": "code",
   "execution_count": 66,
   "metadata": {},
   "outputs": [
    {
     "name": "stdout",
     "output_type": "stream",
     "text": [
      "Null hypothesis: There's not a statistically significant difference in conversion between the groups A and B.\n",
      "Alternative hypothesis: There's a statistically significant difference in conversion between the groups A and B.\n",
      "\n",
      "Results from the Mann-Whitney-U-Test based on the unfiltered data:\n",
      "\n",
      "p-value: 0.7%\n",
      "\n",
      "The p-value is lower or equal 5%, so we reject the null hypothesis and adopt the alternative hypothesis which assumes a statistically significant difference\n",
      "in conversion between the groups.\n",
      "\n",
      "Relative conversion gain for group B: 15.5%\n"
     ]
    }
   ],
   "source": [
    "print(\"Null hypothesis: There's not a statistically significant difference in conversion between the groups A and B.\")\n",
    "print(\"Alternative hypothesis: There's a statistically significant difference in conversion between the groups A and B.\")\n",
    "print()\n",
    "print(\"Results from the Mann-Whitney-U-Test based on the unfiltered data:\")\n",
    "print()\n",
    "print(\"p-value: {:.1%}\".format(stats.mannwhitneyu(sample_A, sample_B)[1]))\n",
    "print()\n",
    "if stats.mannwhitneyu(sample_A, sample_B)[1] > 0.05:\n",
    "    print(\"The p-value is higher than 5%, So we accept the null hypothesis that there's not a statistically\")\n",
    "    print(\"significant difference in conversion between the groups.\")\n",
    "else:\n",
    "    print(\"The p-value is lower or equal 5%, so we reject the null hypothesis and adopt the alternative hypothesis which assumes a statistically significant difference\")\n",
    "    print(\"in conversion between the groups.\")\n",
    "print()\n",
    "print(\"Relative conversion gain for group B: {0:.1%}\".format(sample_B.mean()/sample_A.mean()-1)) "
   ]
  },
  {
   "cell_type": "markdown",
   "metadata": {},
   "source": [
    "#### Conclusion"
   ]
  },
  {
   "cell_type": "markdown",
   "metadata": {},
   "source": [
    "We have visitors with 0, 1, 2 or 3 orders within august 2019. Since the samples don't show any normality, we use the Mann-Whitney-U-Test for determining wheter the difference in conversion is statistically significant. Our test resulted in rejecting the null hypothesis, so we can assume a statistically significance in conversion between the groups. The relative conversion gain for group B compared to group A is 15.5%. The graph \"Daily cumulative conversion rate for each group in percent\" in section 'Conversion rate by group' also suggested that result since the graph for group B settled above the one for group A."
   ]
  },
  {
   "cell_type": "markdown",
   "metadata": {},
   "source": [
    "<a id=\"2.9\"></a>"
   ]
  },
  {
   "cell_type": "markdown",
   "metadata": {},
   "source": [
    "### 2.9) Statistical significance: Difference in average order size (unfiltered data)"
   ]
  },
  {
   "cell_type": "code",
   "execution_count": 67,
   "metadata": {},
   "outputs": [
    {
     "name": "stdout",
     "output_type": "stream",
     "text": [
      "Shapiro normality test:\n",
      "\n",
      "Null hypothesis: There's no normality in our sample.\n",
      "Alternative hypothesis: We can assume normality in our sample.\n",
      "\n",
      "p-value:  2.7709587438572045e-31\n",
      "Null hypothesis rejected: We can't assume normality in our sample.\n"
     ]
    }
   ],
   "source": [
    "# At first we test if we can assume normality for our test\n",
    "\n",
    "alpha = .05 # significance level\n",
    "\n",
    "results = stats.shapiro(orders[orders['group']=='A']['revenue'])\n",
    "p_value = results[1] # the second value in the array of results (with index 1) - the p-value\n",
    "\n",
    "print(\"Shapiro normality test:\")\n",
    "print()\n",
    "print(\"Null hypothesis: There's no normality in our sample.\")\n",
    "print(\"Alternative hypothesis: We can assume normality in our sample.\")\n",
    "print()\n",
    "print('p-value: ', p_value)\n",
    "\n",
    "if (p_value < alpha):\n",
    "    print(\"Null hypothesis rejected: We can't assume normality in our sample.\")\n",
    "else:\n",
    "    print(\"Failed to reject the null hypothesis: We can assume normality in our sample.\") "
   ]
  },
  {
   "cell_type": "markdown",
   "metadata": {},
   "source": [
    "Based on that result we use the Mann-Whitney-U-Test:"
   ]
  },
  {
   "cell_type": "code",
   "execution_count": 68,
   "metadata": {},
   "outputs": [
    {
     "name": "stdout",
     "output_type": "stream",
     "text": [
      "Null hypothesis: There's not a statistically significant difference in average order size between the groups A and B.\n",
      "Alternative hypothesis: There's a statistically significant difference in average order size between the groups A and B.\n",
      "\n",
      "Results from the Mann-Whitney-U-Test based on the unfiltered data:\n",
      "\n",
      "p-value: 43.1%\n",
      "\n",
      "The p-value is higher than 5%, So we accept the null hypothesis that there's not a statistically\n",
      "significant difference in average order size between the groups.\n",
      "\n",
      "Relative gain in average order size for group B: 27.8%\n"
     ]
    }
   ],
   "source": [
    "print(\"Null hypothesis: There's not a statistically significant difference in average order size between the groups A and B.\")\n",
    "print(\"Alternative hypothesis: There's a statistically significant difference in average order size between the groups A and B.\")\n",
    "print()\n",
    "print(\"Results from the Mann-Whitney-U-Test based on the unfiltered data:\")\n",
    "print()\n",
    "print(\"p-value: {:.1%}\".format(stats.mannwhitneyu(orders[orders['group']=='A']['revenue'], \\\n",
    "                                                   orders[orders['group']=='B']['revenue'])[1]))\n",
    "print()\n",
    "if stats.mannwhitneyu(orders[orders['group']=='A']['revenue'], \\\n",
    "                      orders[orders['group']=='B']['revenue'])[1] > 0.05:\n",
    "    print(\"The p-value is higher than 5%, So we accept the null hypothesis that there's not a statistically\")\n",
    "    print(\"significant difference in average order size between the groups.\")\n",
    "else:\n",
    "    print(\"The p-value is lower or equal 5%, so we reject the null hypothesis and adopt the alternative hypothesis which assumes a statistically significant difference\")\n",
    "    print(\"in average order size between the groups.\")\n",
    "print()\n",
    "print(\"Relative gain in average order size for group B: {0:.1%}\".format(orders[orders['group']=='B']['revenue'].mean() \\\n",
    "                                                                      / orders[orders['group']=='A']['revenue'].mean() - 1)) "
   ]
  },
  {
   "cell_type": "markdown",
   "metadata": {},
   "source": [
    "#### Conclusion"
   ]
  },
  {
   "cell_type": "markdown",
   "metadata": {},
   "source": [
    "The distribution for order costs is not normal as we have seen in the Shapiro test. Using the Mann-Whitney-U-Test we found out that we accept the null hypothesis; that means we couldn't find a statistically significant difference in average order size between the groups. The relative  gain in average order size for group B compared to group A was also very high with 27.8%. Since we already know about the huge outliers for revenue values, we will compare that result with the test made on the filtered data."
   ]
  },
  {
   "cell_type": "markdown",
   "metadata": {},
   "source": [
    "<a id=\"2.10\"></a>"
   ]
  },
  {
   "cell_type": "markdown",
   "metadata": {},
   "source": [
    "### 2.10) Statistical significance: Difference in conversion rate (filtered data)"
   ]
  },
  {
   "cell_type": "code",
   "execution_count": 69,
   "metadata": {},
   "outputs": [
    {
     "name": "stdout",
     "output_type": "stream",
     "text": [
      "568     113298937\n",
      "1099    148427295\n",
      "461     154576532\n",
      "928     204675465\n",
      "33      249864742\n",
      "Name: visitor_id, dtype: int64\n",
      "\n",
      "The list containing the IDs we will filter contains 63 unique IDs.\n"
     ]
    }
   ],
   "source": [
    "# From the section where we used the unfiltered data we have the tables 'orders_by_users_A' and 'orders_by_users_B'.\n",
    "\n",
    "# We create a list containing all visitor IDs from customers that made more than 2 orders - that was \n",
    "# the defined lower border for anormalies.\n",
    "# We set a condition and concatenate both tables:\n",
    "ids_multiple_orders = pd.concat([orders_by_users_A[orders_by_users_A['orders'] > 2]['visitor_id'], \\\n",
    "                                 orders_by_users_B[orders_by_users_B['orders'] > 2]['visitor_id']], axis = 0)\n",
    "\n",
    "# We make a second list containing all visitor IDs from customers that made purchases costing more than 400 dollars.\n",
    "ids_expensive_orders = orders[orders['revenue'] > 400]['visitor_id']\n",
    "\n",
    "# Let's concatenate these two lists to have one list containing all visitor IDs we need to filter from the table 'orders'\n",
    "ids_to_filter = pd.concat([ids_multiple_orders, ids_expensive_orders], axis = 0).drop_duplicates().sort_values()\n",
    "\n",
    "print(ids_to_filter.head(5))\n",
    "print()\n",
    "print(\"The list containing the IDs we will filter contains {:.0f} unique IDs.\".format(ids_to_filter.shape[0]))"
   ]
  },
  {
   "cell_type": "code",
   "execution_count": 70,
   "metadata": {},
   "outputs": [],
   "source": [
    "# We create again samples for the significance test, but with the filtered data (for each group).\n",
    "# We use the list 'ids_to_filter' to filter the data.\n",
    "\n",
    "sample_A_filtered = pd.concat([orders_by_users_A[np.logical_not(orders_by_users_A['visitor_id'].isin(ids_to_filter))]['orders']\\\n",
    "                              ,pd.Series(0, index=np.arange(visits[visits['group']=='A']['visits'].sum() \\\n",
    "                                                           - len(orders_by_users_A['orders'])), name='orders')], axis=0)\n",
    "\n",
    "sample_B_filtered = pd.concat([orders_by_users_B[np.logical_not(orders_by_users_B['visitor_id'].isin(ids_to_filter))]['orders']\\\n",
    "                              ,pd.Series(0, index=np.arange(visits[visits['group']=='B']['visits'].sum() \\\n",
    "                                                           - len(orders_by_users_B['orders'])), name='orders')], axis=0)"
   ]
  },
  {
   "cell_type": "code",
   "execution_count": 71,
   "metadata": {},
   "outputs": [
    {
     "name": "stdout",
     "output_type": "stream",
     "text": [
      "Null hypothesis: There's not a statistically significant difference in conversion between the groups A and B.\n",
      "Alternative hypothesis: There's a statistically significant difference in conversion between the groups A and B.\n",
      "\n",
      "Results from the Mann-Whitney-U-Test based on the filtered data:\n",
      "\n",
      "p-value: 0.8%\n",
      "\n",
      "The p-value is lower or equal 5%, so we reject the null hypothesis and adopt the alternative hypothesis which assumes a statistically significant difference\n",
      "in conversion between the groups.\n",
      "\n",
      "Relative conversion gain for group B: 17.6%\n"
     ]
    }
   ],
   "source": [
    "print(\"Null hypothesis: There's not a statistically significant difference in conversion between the groups A and B.\")\n",
    "print(\"Alternative hypothesis: There's a statistically significant difference in conversion between the groups A and B.\")\n",
    "print()\n",
    "print(\"Results from the Mann-Whitney-U-Test based on the filtered data:\")\n",
    "print()\n",
    "print(\"p-value: {:.1%}\".format(stats.mannwhitneyu(sample_A_filtered, sample_B_filtered)[1]))\n",
    "print()\n",
    "if stats.mannwhitneyu(sample_A_filtered, sample_B_filtered)[1] > 0.05:\n",
    "    print(\"The p-value is higher than 5%, So we accept the null hypothesis that there's not a statistically\")\n",
    "    print(\"significant difference in conversion between the groups.\")\n",
    "else:\n",
    "    print(\"The p-value is lower or equal 5%, so we reject the null hypothesis and adopt the alternative hypothesis which assumes a statistically significant difference\")\n",
    "    print(\"in conversion between the groups.\")\n",
    "print()\n",
    "print(\"Relative conversion gain for group B: {0:.1%}\".format(sample_B_filtered.mean()/sample_A_filtered.mean()-1)) "
   ]
  },
  {
   "cell_type": "markdown",
   "metadata": {},
   "source": [
    "#### Conclusion"
   ]
  },
  {
   "cell_type": "markdown",
   "metadata": {},
   "source": [
    "Now we can compare the results of the Mann-Whitney-U-Test with the filtered and the unfiltered data: <br> <br>\n",
    "Unfiltered orders: Null hypothesis rejected, relative conversion gain for group B: 15.5% <br>\n",
    "Filtered orders: Null hypothesis rejected, relative conversion gain for group B: 17.6% <br> <br>\n",
    "As we calculated using the unfiltered data, we still have a statistical significance in the difference\n",
    "in conversion between the groups using the filtered data. The filtered data has an impact to the relative conversion gain for group B since it increased slightly from 15.5% to 17.6%. That means the unfiltered data didn't have anormalies with a significant impact on conversion rates; the graph in section 'Conversion rate by group' already visualised the significance between both groups."
   ]
  },
  {
   "cell_type": "markdown",
   "metadata": {},
   "source": [
    "<a id=\"2.11\"></a>"
   ]
  },
  {
   "cell_type": "markdown",
   "metadata": {},
   "source": [
    "### 2.11) Statistical significance: Difference in average order size (filtered data)"
   ]
  },
  {
   "cell_type": "code",
   "execution_count": 72,
   "metadata": {},
   "outputs": [],
   "source": [
    "# create filtered samples for average order size:\n",
    "\n",
    "sample_A_avg_order_size_filtered = orders[np.logical_and(orders['group']=='A', \\\n",
    "                                          np.logical_not(orders['visitor_id'].isin(ids_to_filter)))]['revenue']\n",
    "\n",
    "sample_B_avg_order_size_filtered = orders[np.logical_and(orders['group']=='B', \\\n",
    "                                          np.logical_not(orders['visitor_id'].isin(ids_to_filter)))]['revenue']"
   ]
  },
  {
   "cell_type": "code",
   "execution_count": 73,
   "metadata": {},
   "outputs": [
    {
     "name": "stdout",
     "output_type": "stream",
     "text": [
      "Null hypothesis: There's not a statistically significant difference in average order size between the groups A and B.\n",
      "Alternative hypothesis: There's a statistically significant difference in average order size between the groups A and B.\n",
      "\n",
      "Results from the Mann-Whitney-U-Test based on the filtered data:\n",
      "\n",
      "p-value: 28.7%\n",
      "\n",
      "The p-value is higher than 5%, So we accept the null hypothesis that there's not a statistically\n",
      "significant difference in average order size between the groups.\n",
      "\n",
      "Relative gain in average order size for group B: -7.0%\n"
     ]
    }
   ],
   "source": [
    "print(\"Null hypothesis: There's not a statistically significant difference in average order size between the groups A and B.\")\n",
    "print(\"Alternative hypothesis: There's a statistically significant difference in average order size between the groups A and B.\")\n",
    "print()\n",
    "print(\"Results from the Mann-Whitney-U-Test based on the filtered data:\")\n",
    "print()\n",
    "print(\"p-value: {:.1%}\".format(stats.mannwhitneyu(sample_A_avg_order_size_filtered, sample_B_avg_order_size_filtered)[1]))\n",
    "print()\n",
    "if stats.mannwhitneyu(sample_A_avg_order_size_filtered, sample_B_avg_order_size_filtered)[1] > 0.05:\n",
    "    print(\"The p-value is higher than 5%, So we accept the null hypothesis that there's not a statistically\")\n",
    "    print(\"significant difference in average order size between the groups.\")\n",
    "else:\n",
    "    print(\"The p-value is lower or equal 5%, so we reject the null hypothesis and adopt the alternative hypothesis which assumes a statistically significant difference\")\n",
    "    print(\"in average order size between the groups.\")\n",
    "print()\n",
    "print(\"Relative gain in average order size for group B: {0:.1%}\".format(sample_B_avg_order_size_filtered.mean() \\\n",
    "                                                                      / sample_A_avg_order_size_filtered.mean() - 1)) "
   ]
  },
  {
   "cell_type": "markdown",
   "metadata": {},
   "source": [
    "#### Conclusion"
   ]
  },
  {
   "cell_type": "markdown",
   "metadata": {},
   "source": [
    "See the differences in the Mann-Whitney-U-Test between the filtered and the unfiltered data: <br> <br>\n",
    "Unfiltered orders: Null hypothesis accepted, relative gain in average order size for group B: 27.8% <br>\n",
    "Filtered orders: Null hypothesis accepted, relative gain in average order size for group B: -7.0% <br> <br>\n",
    "For both, the filtered and the unfiltered data, there's no statistical significance in the difference for average order size between the groups. It is no surprise that the relative gain in average order size for group B changed from 27.8% to -7.0% since there was the one huge order with a price of over 19000 dollars. This order significantly affected the graph we have in section 'Cumulative average order size by group'. After filtering the data, we now see that group B gives us a loss in average order size, but our test doesn't allow to set this loss as statistically significant."
   ]
  },
  {
   "cell_type": "markdown",
   "metadata": {},
   "source": [
    "<a id=\"2.12\"></a>"
   ]
  },
  {
   "cell_type": "markdown",
   "metadata": {},
   "source": [
    "### 2.12) Decision for A/B Test"
   ]
  },
  {
   "cell_type": "markdown",
   "metadata": {},
   "source": [
    "Since we couldn't see a trend in the graph for average order size due to outliers in revenue, we create again a graph showing the relative difference in cumulative average order size using filtered data; the methods we use are analogue to these in section 'Relative difference in cumulative average order size'. Since the table 'visits' has summed up values for every day and every group, I can't substract the filtered visitor IDs from that table. Regarding the amount of visits the difference wouldn't be significant anyway."
   ]
  },
  {
   "cell_type": "code",
   "execution_count": 74,
   "metadata": {},
   "outputs": [
    {
     "name": "stdout",
     "output_type": "stream",
     "text": [
      "<class 'pandas.core.frame.DataFrame'>\n",
      "Int64Index: 62 entries, 0 to 61\n",
      "Data columns (total 6 columns):\n",
      "date              62 non-null datetime64[ns]\n",
      "group             62 non-null object\n",
      "transaction_id    62 non-null int64\n",
      "visitor_id        62 non-null int64\n",
      "revenue           62 non-null float64\n",
      "visits            62 non-null int64\n",
      "dtypes: datetime64[ns](1), float64(1), int64(3), object(1)\n",
      "memory usage: 3.4+ KB\n"
     ]
    }
   ],
   "source": [
    "# Filter the orders\n",
    "orders_cleaned = orders[np.logical_not(orders['visitor_id'].isin(ids_to_filter))]\n",
    "\n",
    "# building an array with unique paired date-group values\n",
    "dates_groups_new = orders_cleaned[['date','group']].drop_duplicates()\n",
    "\n",
    "# getting aggregated cumulative daily data on orders \n",
    "orders_aggregated_new = dates_groups_new \\\n",
    "                .apply(lambda x: orders_cleaned[np.logical_and(orders_cleaned['date'] <= x['date'], orders_cleaned['group'] == x['group'])] \\\n",
    "                .agg({'date' : 'max', 'group' : 'max', 'transaction_id' : pd.Series.nunique, \\\n",
    "                      'visitor_id' : pd.Series.nunique, 'revenue' : 'sum'}), axis=1) \\\n",
    "                .sort_values(by=['date','group'])\n",
    "\n",
    "# getting aggregated cumulative daily data on visitors  \n",
    "visitors_aggregated_new = dates_groups_new \\\n",
    "                .apply(lambda x: visits[np.logical_and(visits['date'] <= x['date'], visits['group'] == x['group'])] \\\n",
    "                .agg({'date' : 'max', 'group' : 'max', 'visits' : 'sum'}), axis=1) \\\n",
    "                .sort_values(by=['date','group'])\n",
    "\n",
    "# merging the two tables into one\n",
    "cumul_data_new = orders_aggregated_new.merge(visitors_aggregated_new, left_on=['date', 'group'], right_on=['date', 'group'])\n",
    "\n",
    "cumul_data_new.info()"
   ]
  },
  {
   "cell_type": "code",
   "execution_count": 75,
   "metadata": {},
   "outputs": [
    {
     "data": {
      "text/html": [
       "<div>\n",
       "<style scoped>\n",
       "    .dataframe tbody tr th:only-of-type {\n",
       "        vertical-align: middle;\n",
       "    }\n",
       "\n",
       "    .dataframe tbody tr th {\n",
       "        vertical-align: top;\n",
       "    }\n",
       "\n",
       "    .dataframe thead th {\n",
       "        text-align: right;\n",
       "    }\n",
       "</style>\n",
       "<table border=\"1\" class=\"dataframe\">\n",
       "  <thead>\n",
       "    <tr style=\"text-align: right;\">\n",
       "      <th></th>\n",
       "      <th>date</th>\n",
       "      <th>group</th>\n",
       "      <th>orders</th>\n",
       "      <th>buyers</th>\n",
       "      <th>revenue</th>\n",
       "      <th>visits</th>\n",
       "    </tr>\n",
       "  </thead>\n",
       "  <tbody>\n",
       "    <tr>\n",
       "      <td>0</td>\n",
       "      <td>2019-08-01</td>\n",
       "      <td>A</td>\n",
       "      <td>16</td>\n",
       "      <td>15</td>\n",
       "      <td>883.2</td>\n",
       "      <td>719</td>\n",
       "    </tr>\n",
       "    <tr>\n",
       "      <td>1</td>\n",
       "      <td>2019-08-01</td>\n",
       "      <td>B</td>\n",
       "      <td>17</td>\n",
       "      <td>17</td>\n",
       "      <td>967.2</td>\n",
       "      <td>713</td>\n",
       "    </tr>\n",
       "    <tr>\n",
       "      <td>2</td>\n",
       "      <td>2019-08-02</td>\n",
       "      <td>A</td>\n",
       "      <td>34</td>\n",
       "      <td>32</td>\n",
       "      <td>2321.5</td>\n",
       "      <td>1338</td>\n",
       "    </tr>\n",
       "    <tr>\n",
       "      <td>3</td>\n",
       "      <td>2019-08-02</td>\n",
       "      <td>B</td>\n",
       "      <td>38</td>\n",
       "      <td>37</td>\n",
       "      <td>2469.7</td>\n",
       "      <td>1294</td>\n",
       "    </tr>\n",
       "    <tr>\n",
       "      <td>4</td>\n",
       "      <td>2019-08-03</td>\n",
       "      <td>A</td>\n",
       "      <td>58</td>\n",
       "      <td>56</td>\n",
       "      <td>4136.7</td>\n",
       "      <td>1845</td>\n",
       "    </tr>\n",
       "  </tbody>\n",
       "</table>\n",
       "</div>"
      ],
      "text/plain": [
       "        date group  orders  buyers  revenue  visits\n",
       "0 2019-08-01  A     16      15      883.2    719   \n",
       "1 2019-08-01  B     17      17      967.2    713   \n",
       "2 2019-08-02  A     34      32      2321.5   1338  \n",
       "3 2019-08-02  B     38      37      2469.7   1294  \n",
       "4 2019-08-03  A     58      56      4136.7   1845  "
      ]
     },
     "execution_count": 75,
     "metadata": {},
     "output_type": "execute_result"
    }
   ],
   "source": [
    "# rename columns\n",
    "cumul_data_new.columns = ['date', 'group', 'orders', 'buyers', 'revenue', 'visits']\n",
    "\n",
    "cumul_data_new.head()"
   ]
  },
  {
   "cell_type": "code",
   "execution_count": 76,
   "metadata": {},
   "outputs": [],
   "source": [
    "# Create DataFrames with cumulative orders and cumulative revenue by day, group A resp. group B\n",
    "cumul_revenue_A_new = cumul_data_new[cumul_data_new['group']=='A'][['date', 'revenue', 'orders']]\n",
    "cumul_revenue_B_new = cumul_data_new[cumul_data_new['group']=='B'][['date', 'revenue', 'orders']]\n",
    "\n",
    "# sort both tables by date\n",
    "cumul_revenue_A_new = cumul_revenue_A_new.sort_values(by='date')\n",
    "cumul_revenue_B_new = cumul_revenue_B_new.sort_values(by='date')"
   ]
  },
  {
   "cell_type": "code",
   "execution_count": 77,
   "metadata": {},
   "outputs": [
    {
     "data": {
      "image/png": "[encoded data removed]",
      "text/plain": [
       "<Figure size 936x576 with 1 Axes>"
      ]
     },
     "metadata": {
      "needs_background": "light"
     },
     "output_type": "display_data"
    }
   ],
   "source": [
    "# Plot a diagramm showing the relative difference in cumulative average order size for group B compared to group A\n",
    "# using filtered data\n",
    "\n",
    "# data for the graph\n",
    "merged_cumul_revenue_new = cumul_revenue_A_new.merge(cumul_revenue_B_new, left_on='date', \\\n",
    "                                                     right_on='date', how='left', suffixes=['A', 'B'])\n",
    "\n",
    "# dates on the x-axis\n",
    "xaxis = merged_cumul_revenue_new['date']\n",
    "\n",
    "plt.figure(figsize=(13, 8))\n",
    "plt.plot(xaxis, \\\n",
    "         (merged_cumul_revenue_new['revenueB']/merged_cumul_revenue_new['ordersB']) / \\\n",
    "         (merged_cumul_revenue_new['revenueA']/merged_cumul_revenue_new['ordersA']) - 1)\n",
    "plt.axhline(y=0, color='black', linestyle='--') \n",
    "plt.xlabel(\"Date\")\n",
    "plt.ylabel(\"Relative difference\")\n",
    "plt.title(\"Relative difference in cumulative average order size for group B compared to group A - filtered data\")\n",
    "plt.grid()\n",
    "plt.show()"
   ]
  },
  {
   "cell_type": "markdown",
   "metadata": {},
   "source": [
    "This graph with filtered data visualises that until the end of the month there a big fluctuations. At the end we have the estimated relative loss in average order size for group B given by -7.0%. This value isn't significant and this can't only be seen in the significance test but also in the graph. Starting from the 8th of august, the graph always is below the 0% line."
   ]
  },
  {
   "cell_type": "markdown",
   "metadata": {},
   "source": [
    "#### Conclusion"
   ]
  },
  {
   "cell_type": "markdown",
   "metadata": {},
   "source": [
    "We found out that the relative gain for group B in conversion given by 17.6% is statistically significant; even considering unfiltered data the conversion gain of 15.5% for group B is statistically significant. We also found out that the relative loss for group B in average order size given by 7.0% is not statistically significant. In the graph above we can see that the relative gain for group B is negative with the filtered data since the 8th of august but has still big fluctuations. It is very likely that the relative gain for group B will have a negative result when continuing the test. This result will likely be between -15% and 0% since the graph shows negative values from 2019-08-08 and since the most negative value in that month is -15% on 2019-08-13. <br> <br>\n",
    "We estimated a relative gain for group B of 17.6% resp. 15.5% for the conversion metric and estimated a relative loss for group B in average order size in the area of 0% and -15% which are still smaller absolute values than 15.5% resp. 17.6% from the conversion metric. These are the reasons why I decide to stop the test and consider group B as the leader group in the A/B Test."
   ]
  },
  {
   "cell_type": "code",
   "execution_count": null,
   "metadata": {},
   "outputs": [],
   "source": []
  }
 ],
 "metadata": {
  "ExecuteTimeLog": [
   {
    "duration": 904,
    "start_time": "2021-09-02T08:38:50.174Z"
   },
   {
    "duration": 20,
    "start_time": "2021-09-02T08:39:59.289Z"
   },
   {
    "duration": 86,
    "start_time": "2021-09-02T08:40:25.942Z"
   },
   {
    "duration": 18,
    "start_time": "2021-09-02T08:40:54.814Z"
   },
   {
    "duration": 14,
    "start_time": "2021-09-02T08:41:11.012Z"
   },
   {
    "duration": 8,
    "start_time": "2021-09-02T08:41:17.445Z"
   },
   {
    "duration": 14,
    "start_time": "2021-09-02T08:41:20.805Z"
   },
   {
    "duration": 7,
    "start_time": "2021-09-02T08:41:26.796Z"
   },
   {
    "duration": 10,
    "start_time": "2021-09-02T08:41:30.652Z"
   },
   {
    "duration": 7,
    "start_time": "2021-09-02T08:41:38.519Z"
   },
   {
    "duration": 5,
    "start_time": "2021-09-02T08:42:30.266Z"
   },
   {
    "duration": 17,
    "start_time": "2021-09-02T08:43:22.200Z"
   },
   {
    "duration": 42,
    "start_time": "2021-09-02T08:43:23.680Z"
   },
   {
    "duration": 19,
    "start_time": "2021-09-02T08:43:24.022Z"
   },
   {
    "duration": 5,
    "start_time": "2021-09-02T08:43:24.512Z"
   },
   {
    "duration": 343,
    "start_time": "2021-09-03T22:03:36.031Z"
   },
   {
    "duration": 696,
    "start_time": "2021-09-03T22:03:40.407Z"
   },
   {
    "duration": 17,
    "start_time": "2021-09-03T22:03:41.105Z"
   },
   {
    "duration": 49,
    "start_time": "2021-09-03T22:03:41.314Z"
   },
   {
    "duration": 17,
    "start_time": "2021-09-03T22:03:41.890Z"
   },
   {
    "duration": 18,
    "start_time": "2021-09-03T22:03:43.167Z"
   },
   {
    "duration": 8,
    "start_time": "2021-09-03T22:03:48.962Z"
   },
   {
    "duration": 17,
    "start_time": "2021-09-03T22:03:49.402Z"
   },
   {
    "duration": 9,
    "start_time": "2021-09-03T22:03:49.883Z"
   },
   {
    "duration": 13,
    "start_time": "2021-09-03T22:03:50.578Z"
   },
   {
    "duration": 7,
    "start_time": "2021-09-03T22:03:51.170Z"
   },
   {
    "duration": 6248,
    "start_time": "2021-09-03T22:04:07.336Z"
   },
   {
    "duration": 6,
    "start_time": "2021-09-03T22:04:22.749Z"
   },
   {
    "duration": 4,
    "start_time": "2021-09-03T22:06:36.945Z"
   },
   {
    "duration": 9,
    "start_time": "2021-09-03T22:06:42.177Z"
   },
   {
    "duration": 4,
    "start_time": "2021-09-03T22:19:25.041Z"
   },
   {
    "duration": 15,
    "start_time": "2021-09-03T22:19:31.251Z"
   },
   {
    "duration": 8,
    "start_time": "2021-09-03T22:20:53.022Z"
   },
   {
    "duration": 287,
    "start_time": "2021-09-03T22:25:35.586Z"
   },
   {
    "duration": 7,
    "start_time": "2021-09-03T22:25:54.155Z"
   },
   {
    "duration": 5,
    "start_time": "2021-09-03T22:26:36.777Z"
   },
   {
    "duration": 7,
    "start_time": "2021-09-03T22:26:43.022Z"
   },
   {
    "duration": 234,
    "start_time": "2021-09-03T22:27:33.477Z"
   },
   {
    "duration": 6,
    "start_time": "2021-09-03T22:28:12.542Z"
   },
   {
    "duration": 219,
    "start_time": "2021-09-03T22:28:28.235Z"
   },
   {
    "duration": 6,
    "start_time": "2021-09-03T22:30:06.671Z"
   },
   {
    "duration": 9,
    "start_time": "2021-09-03T22:33:12.290Z"
   },
   {
    "duration": 251,
    "start_time": "2021-09-03T22:34:17.121Z"
   },
   {
    "duration": 291,
    "start_time": "2021-09-03T22:35:43.109Z"
   },
   {
    "duration": 285,
    "start_time": "2021-09-03T22:36:16.011Z"
   },
   {
    "duration": 9,
    "start_time": "2021-09-03T22:36:27.720Z"
   },
   {
    "duration": 19,
    "start_time": "2021-09-03T22:37:38.686Z"
   },
   {
    "duration": 17,
    "start_time": "2021-09-03T22:37:53.545Z"
   },
   {
    "duration": 17,
    "start_time": "2021-09-03T22:38:33.776Z"
   },
   {
    "duration": 12,
    "start_time": "2021-09-03T22:38:38.669Z"
   },
   {
    "duration": 8,
    "start_time": "2021-09-03T22:39:34.271Z"
   },
   {
    "duration": 9,
    "start_time": "2021-09-03T22:42:48.168Z"
   },
   {
    "duration": 9,
    "start_time": "2021-09-03T22:42:56.715Z"
   },
   {
    "duration": 9,
    "start_time": "2021-09-03T22:43:19.094Z"
   },
   {
    "duration": 8,
    "start_time": "2021-09-03T22:43:20.453Z"
   },
   {
    "duration": 4,
    "start_time": "2021-09-03T22:44:53.846Z"
   },
   {
    "duration": 15,
    "start_time": "2021-09-03T22:44:54.659Z"
   },
   {
    "duration": 9,
    "start_time": "2021-09-03T22:44:55.267Z"
   },
   {
    "duration": 18,
    "start_time": "2021-09-03T22:51:30.150Z"
   },
   {
    "duration": 9,
    "start_time": "2021-09-03T22:51:54.510Z"
   },
   {
    "duration": 9,
    "start_time": "2021-09-03T22:51:55.126Z"
   },
   {
    "duration": 9,
    "start_time": "2021-09-03T22:51:56.030Z"
   },
   {
    "duration": 239,
    "start_time": "2021-09-03T23:06:13.063Z"
   },
   {
    "duration": 4,
    "start_time": "2021-09-03T23:06:17.712Z"
   },
   {
    "duration": 20,
    "start_time": "2021-09-03T23:06:17.719Z"
   },
   {
    "duration": 11,
    "start_time": "2021-09-03T23:06:17.742Z"
   },
   {
    "duration": 25,
    "start_time": "2021-09-03T23:06:17.755Z"
   },
   {
    "duration": 227,
    "start_time": "2021-09-03T23:06:17.789Z"
   },
   {
    "duration": -322,
    "start_time": "2021-09-03T23:06:18.341Z"
   },
   {
    "duration": -322,
    "start_time": "2021-09-03T23:06:18.343Z"
   },
   {
    "duration": -324,
    "start_time": "2021-09-03T23:06:18.346Z"
   },
   {
    "duration": -325,
    "start_time": "2021-09-03T23:06:18.349Z"
   },
   {
    "duration": 6353,
    "start_time": "2021-09-03T23:06:22.365Z"
   },
   {
    "duration": 6736,
    "start_time": "2021-09-03T23:06:37.854Z"
   },
   {
    "duration": 4,
    "start_time": "2021-09-03T23:07:08.184Z"
   },
   {
    "duration": 19,
    "start_time": "2021-09-03T23:07:08.190Z"
   },
   {
    "duration": 10,
    "start_time": "2021-09-03T23:07:08.212Z"
   },
   {
    "duration": 9,
    "start_time": "2021-09-03T23:07:08.225Z"
   },
   {
    "duration": 19,
    "start_time": "2021-09-03T23:07:08.236Z"
   },
   {
    "duration": 30,
    "start_time": "2021-09-03T23:07:08.258Z"
   },
   {
    "duration": 10,
    "start_time": "2021-09-03T23:07:08.291Z"
   },
   {
    "duration": 16,
    "start_time": "2021-09-03T23:07:08.303Z"
   },
   {
    "duration": 6764,
    "start_time": "2021-09-03T23:07:08.322Z"
   },
   {
    "duration": 15,
    "start_time": "2021-09-03T23:07:21.511Z"
   },
   {
    "duration": 735,
    "start_time": "2021-09-03T23:07:37.422Z"
   },
   {
    "duration": 17,
    "start_time": "2021-09-03T23:07:38.160Z"
   },
   {
    "duration": 20,
    "start_time": "2021-09-03T23:07:38.180Z"
   },
   {
    "duration": 23,
    "start_time": "2021-09-03T23:07:38.203Z"
   },
   {
    "duration": 37,
    "start_time": "2021-09-03T23:07:38.228Z"
   },
   {
    "duration": 10,
    "start_time": "2021-09-03T23:07:38.267Z"
   },
   {
    "duration": 11,
    "start_time": "2021-09-03T23:07:38.279Z"
   },
   {
    "duration": 9,
    "start_time": "2021-09-03T23:07:38.292Z"
   },
   {
    "duration": 16,
    "start_time": "2021-09-03T23:07:38.305Z"
   },
   {
    "duration": 661,
    "start_time": "2021-09-03T23:09:24.516Z"
   },
   {
    "duration": 16,
    "start_time": "2021-09-03T23:09:25.182Z"
   },
   {
    "duration": 21,
    "start_time": "2021-09-03T23:09:25.202Z"
   },
   {
    "duration": 8,
    "start_time": "2021-09-03T23:09:25.225Z"
   },
   {
    "duration": 18,
    "start_time": "2021-09-03T23:09:25.235Z"
   },
   {
    "duration": 29,
    "start_time": "2021-09-03T23:09:25.255Z"
   },
   {
    "duration": 11,
    "start_time": "2021-09-03T23:09:25.286Z"
   },
   {
    "duration": 10,
    "start_time": "2021-09-03T23:09:25.299Z"
   },
   {
    "duration": 19,
    "start_time": "2021-09-03T23:09:25.312Z"
   },
   {
    "duration": 697,
    "start_time": "2021-09-03T23:12:18.009Z"
   },
   {
    "duration": 16,
    "start_time": "2021-09-03T23:12:18.709Z"
   },
   {
    "duration": 19,
    "start_time": "2021-09-03T23:12:18.728Z"
   },
   {
    "duration": 6,
    "start_time": "2021-09-03T23:12:18.750Z"
   },
   {
    "duration": 32,
    "start_time": "2021-09-03T23:12:18.759Z"
   },
   {
    "duration": 11,
    "start_time": "2021-09-03T23:12:18.793Z"
   },
   {
    "duration": 9,
    "start_time": "2021-09-03T23:12:18.807Z"
   },
   {
    "duration": 11,
    "start_time": "2021-09-03T23:12:18.818Z"
   },
   {
    "duration": 14,
    "start_time": "2021-09-03T23:12:18.832Z"
   },
   {
    "duration": 15,
    "start_time": "2021-09-03T23:12:18.883Z"
   },
   {
    "duration": 14,
    "start_time": "2021-09-03T23:13:22.374Z"
   },
   {
    "duration": 14,
    "start_time": "2021-09-03T23:13:26.171Z"
   },
   {
    "duration": 5,
    "start_time": "2021-09-03T23:15:34.742Z"
   },
   {
    "duration": 332,
    "start_time": "2021-09-03T23:15:46.077Z"
   },
   {
    "duration": 287,
    "start_time": "2021-09-03T23:16:00.518Z"
   },
   {
    "duration": 5,
    "start_time": "2021-09-03T23:16:07.949Z"
   },
   {
    "duration": 6,
    "start_time": "2021-09-03T23:16:49.555Z"
   },
   {
    "duration": 6,
    "start_time": "2021-09-03T23:17:07.131Z"
   },
   {
    "duration": 756,
    "start_time": "2021-09-13T11:37:03.560Z"
   },
   {
    "duration": 19,
    "start_time": "2021-09-13T11:37:04.319Z"
   },
   {
    "duration": 26,
    "start_time": "2021-09-13T11:37:04.341Z"
   },
   {
    "duration": 8,
    "start_time": "2021-09-13T11:37:04.369Z"
   },
   {
    "duration": 20,
    "start_time": "2021-09-13T11:37:04.379Z"
   },
   {
    "duration": 7,
    "start_time": "2021-09-13T11:37:04.416Z"
   },
   {
    "duration": 10,
    "start_time": "2021-09-13T11:37:04.425Z"
   },
   {
    "duration": 18,
    "start_time": "2021-09-13T11:37:04.438Z"
   },
   {
    "duration": 27,
    "start_time": "2021-09-13T11:37:04.458Z"
   },
   {
    "duration": 33,
    "start_time": "2021-09-13T11:37:04.487Z"
   },
   {
    "duration": 5,
    "start_time": "2021-09-13T11:37:04.523Z"
   },
   {
    "duration": 6,
    "start_time": "2021-09-13T11:37:20.670Z"
   },
   {
    "duration": 674,
    "start_time": "2021-09-15T23:54:12.730Z"
   },
   {
    "duration": 18,
    "start_time": "2021-09-15T23:54:13.407Z"
   },
   {
    "duration": 38,
    "start_time": "2021-09-15T23:54:13.427Z"
   },
   {
    "duration": 8,
    "start_time": "2021-09-15T23:54:13.467Z"
   },
   {
    "duration": 18,
    "start_time": "2021-09-15T23:54:13.477Z"
   },
   {
    "duration": 29,
    "start_time": "2021-09-15T23:54:13.497Z"
   },
   {
    "duration": 31,
    "start_time": "2021-09-15T23:54:13.528Z"
   },
   {
    "duration": 9,
    "start_time": "2021-09-15T23:54:13.563Z"
   },
   {
    "duration": 32,
    "start_time": "2021-09-15T23:54:13.574Z"
   },
   {
    "duration": 15,
    "start_time": "2021-09-15T23:54:13.608Z"
   },
   {
    "duration": 23,
    "start_time": "2021-09-15T23:54:13.625Z"
   },
   {
    "duration": 13,
    "start_time": "2021-09-16T00:11:57.140Z"
   },
   {
    "duration": 16,
    "start_time": "2021-09-16T00:13:33.871Z"
   },
   {
    "duration": 6,
    "start_time": "2021-09-16T00:16:43.253Z"
   },
   {
    "duration": 385,
    "start_time": "2021-09-16T00:21:06.604Z"
   },
   {
    "duration": 593,
    "start_time": "2021-09-16T00:21:15.003Z"
   },
   {
    "duration": 6,
    "start_time": "2021-09-16T00:21:22.612Z"
   },
   {
    "duration": 6,
    "start_time": "2021-09-16T00:21:33.997Z"
   },
   {
    "duration": 6,
    "start_time": "2021-09-16T00:21:42.939Z"
   },
   {
    "duration": 588,
    "start_time": "2021-09-17T23:34:27.227Z"
   },
   {
    "duration": 38,
    "start_time": "2021-09-17T23:34:27.817Z"
   },
   {
    "duration": 11,
    "start_time": "2021-09-17T23:34:27.857Z"
   },
   {
    "duration": 7,
    "start_time": "2021-09-17T23:34:27.869Z"
   },
   {
    "duration": 12,
    "start_time": "2021-09-17T23:34:27.877Z"
   },
   {
    "duration": 7,
    "start_time": "2021-09-17T23:34:27.890Z"
   },
   {
    "duration": 6,
    "start_time": "2021-09-17T23:34:27.899Z"
   },
   {
    "duration": 7,
    "start_time": "2021-09-17T23:34:27.907Z"
   },
   {
    "duration": 29,
    "start_time": "2021-09-17T23:34:27.916Z"
   },
   {
    "duration": 10,
    "start_time": "2021-09-17T23:34:27.947Z"
   },
   {
    "duration": 13,
    "start_time": "2021-09-17T23:34:27.958Z"
   },
   {
    "duration": 7,
    "start_time": "2021-09-17T23:34:27.973Z"
   },
   {
    "duration": 2,
    "start_time": "2021-09-17T23:35:25.889Z"
   },
   {
    "duration": 15,
    "start_time": "2021-09-17T23:35:25.896Z"
   },
   {
    "duration": 7,
    "start_time": "2021-09-17T23:35:25.913Z"
   },
   {
    "duration": 5,
    "start_time": "2021-09-17T23:35:25.922Z"
   },
   {
    "duration": 11,
    "start_time": "2021-09-17T23:35:25.930Z"
   },
   {
    "duration": 9,
    "start_time": "2021-09-17T23:35:25.943Z"
   },
   {
    "duration": 6,
    "start_time": "2021-09-17T23:35:25.954Z"
   },
   {
    "duration": 9,
    "start_time": "2021-09-17T23:35:25.962Z"
   },
   {
    "duration": 10,
    "start_time": "2021-09-17T23:35:25.972Z"
   },
   {
    "duration": 10,
    "start_time": "2021-09-17T23:35:25.984Z"
   },
   {
    "duration": 8,
    "start_time": "2021-09-17T23:35:25.996Z"
   },
   {
    "duration": 6,
    "start_time": "2021-09-17T23:35:26.006Z"
   },
   {
    "duration": 785,
    "start_time": "2021-09-20T23:56:44.822Z"
   },
   {
    "duration": 17,
    "start_time": "2021-09-20T23:56:45.610Z"
   },
   {
    "duration": 29,
    "start_time": "2021-09-20T23:56:45.631Z"
   },
   {
    "duration": 15,
    "start_time": "2021-09-20T23:56:45.662Z"
   },
   {
    "duration": 34,
    "start_time": "2021-09-20T23:56:45.680Z"
   },
   {
    "duration": 13,
    "start_time": "2021-09-20T23:56:45.717Z"
   },
   {
    "duration": 19,
    "start_time": "2021-09-20T23:56:45.733Z"
   },
   {
    "duration": 17,
    "start_time": "2021-09-20T23:56:45.755Z"
   },
   {
    "duration": 19,
    "start_time": "2021-09-20T23:56:45.776Z"
   },
   {
    "duration": 17,
    "start_time": "2021-09-20T23:56:45.797Z"
   },
   {
    "duration": 30,
    "start_time": "2021-09-20T23:56:45.816Z"
   },
   {
    "duration": 11,
    "start_time": "2021-09-20T23:56:45.867Z"
   },
   {
    "duration": 593,
    "start_time": "2021-09-27T18:40:21.152Z"
   },
   {
    "duration": 18,
    "start_time": "2021-09-27T18:40:21.747Z"
   },
   {
    "duration": 17,
    "start_time": "2021-09-27T18:40:21.768Z"
   },
   {
    "duration": 8,
    "start_time": "2021-09-27T18:40:21.787Z"
   },
   {
    "duration": 14,
    "start_time": "2021-09-27T18:40:21.796Z"
   },
   {
    "duration": 13,
    "start_time": "2021-09-27T18:40:21.811Z"
   },
   {
    "duration": 13,
    "start_time": "2021-09-27T18:40:21.825Z"
   },
   {
    "duration": 9,
    "start_time": "2021-09-27T18:40:21.840Z"
   },
   {
    "duration": 28,
    "start_time": "2021-09-27T18:40:21.852Z"
   },
   {
    "duration": 11,
    "start_time": "2021-09-27T18:40:21.883Z"
   },
   {
    "duration": 11,
    "start_time": "2021-09-27T18:40:21.895Z"
   },
   {
    "duration": 7,
    "start_time": "2021-09-27T18:40:21.908Z"
   },
   {
    "duration": 351,
    "start_time": "2021-09-28T19:08:16.584Z"
   },
   {
    "duration": 637,
    "start_time": "2021-09-28T19:08:21.606Z"
   },
   {
    "duration": 18,
    "start_time": "2021-09-28T19:08:22.245Z"
   },
   {
    "duration": 17,
    "start_time": "2021-09-28T19:08:22.265Z"
   },
   {
    "duration": 9,
    "start_time": "2021-09-28T19:08:22.283Z"
   },
   {
    "duration": 16,
    "start_time": "2021-09-28T19:08:22.294Z"
   },
   {
    "duration": 9,
    "start_time": "2021-09-28T19:08:22.312Z"
   },
   {
    "duration": 22,
    "start_time": "2021-09-28T19:08:22.322Z"
   },
   {
    "duration": 21,
    "start_time": "2021-09-28T19:08:22.346Z"
   },
   {
    "duration": 21,
    "start_time": "2021-09-28T19:08:22.370Z"
   },
   {
    "duration": 12,
    "start_time": "2021-09-28T19:08:22.393Z"
   },
   {
    "duration": 15,
    "start_time": "2021-09-28T19:08:22.407Z"
   },
   {
    "duration": 15,
    "start_time": "2021-09-28T19:08:22.424Z"
   },
   {
    "duration": 55,
    "start_time": "2021-09-28T19:13:55.737Z"
   },
   {
    "duration": 55,
    "start_time": "2021-09-28T19:14:07.616Z"
   },
   {
    "duration": 8,
    "start_time": "2021-09-28T19:14:21.180Z"
   },
   {
    "duration": 6,
    "start_time": "2021-09-28T19:14:29.949Z"
   },
   {
    "duration": 5,
    "start_time": "2021-09-28T19:16:18.317Z"
   },
   {
    "duration": 2,
    "start_time": "2021-09-28T21:55:43.792Z"
   },
   {
    "duration": 19,
    "start_time": "2021-09-28T21:55:43.798Z"
   },
   {
    "duration": 8,
    "start_time": "2021-09-28T21:55:43.819Z"
   },
   {
    "duration": 6,
    "start_time": "2021-09-28T21:55:43.829Z"
   },
   {
    "duration": 12,
    "start_time": "2021-09-28T21:55:43.837Z"
   },
   {
    "duration": 9,
    "start_time": "2021-09-28T21:55:43.850Z"
   },
   {
    "duration": 7,
    "start_time": "2021-09-28T21:55:43.861Z"
   },
   {
    "duration": 13,
    "start_time": "2021-09-28T21:55:43.869Z"
   },
   {
    "duration": 20,
    "start_time": "2021-09-28T21:55:43.883Z"
   },
   {
    "duration": 10,
    "start_time": "2021-09-28T21:55:43.905Z"
   },
   {
    "duration": 11,
    "start_time": "2021-09-28T21:55:43.916Z"
   },
   {
    "duration": 17,
    "start_time": "2021-09-28T21:55:43.929Z"
   },
   {
    "duration": 55,
    "start_time": "2021-09-28T21:55:43.948Z"
   },
   {
    "duration": 8,
    "start_time": "2021-09-28T21:55:44.004Z"
   },
   {
    "duration": 11,
    "start_time": "2021-09-28T21:55:44.014Z"
   },
   {
    "duration": 8,
    "start_time": "2021-09-28T21:55:44.026Z"
   },
   {
    "duration": 7,
    "start_time": "2021-09-28T21:55:44.035Z"
   },
   {
    "duration": 5,
    "start_time": "2021-09-28T21:56:51.689Z"
   },
   {
    "duration": 286,
    "start_time": "2021-09-28T21:57:19.327Z"
   },
   {
    "duration": 6,
    "start_time": "2021-09-28T21:57:30.288Z"
   },
   {
    "duration": 4,
    "start_time": "2021-09-28T21:58:56.466Z"
   },
   {
    "duration": 4,
    "start_time": "2021-09-28T21:59:10.240Z"
   },
   {
    "duration": 5,
    "start_time": "2021-09-28T21:59:51.953Z"
   },
   {
    "duration": 38,
    "start_time": "2021-09-28T22:00:14.348Z"
   },
   {
    "duration": 11,
    "start_time": "2021-09-28T22:00:56.108Z"
   },
   {
    "duration": 6,
    "start_time": "2021-09-28T22:01:05.639Z"
   },
   {
    "duration": 7,
    "start_time": "2021-09-28T22:09:34.803Z"
   },
   {
    "duration": 6,
    "start_time": "2021-09-28T22:10:18.690Z"
   },
   {
    "duration": 4,
    "start_time": "2021-09-28T22:10:28.928Z"
   },
   {
    "duration": 4,
    "start_time": "2021-09-28T22:10:55.136Z"
   },
   {
    "duration": 4,
    "start_time": "2021-09-28T22:16:10.557Z"
   },
   {
    "duration": 7,
    "start_time": "2021-09-28T22:16:25.238Z"
   },
   {
    "duration": 6,
    "start_time": "2021-09-28T22:16:40.988Z"
   },
   {
    "duration": 5,
    "start_time": "2021-09-28T22:18:46.059Z"
   },
   {
    "duration": 5,
    "start_time": "2021-09-28T22:19:32.390Z"
   },
   {
    "duration": 7,
    "start_time": "2021-09-28T22:23:01.295Z"
   },
   {
    "duration": 6,
    "start_time": "2021-09-28T22:23:30.637Z"
   },
   {
    "duration": 8,
    "start_time": "2021-09-28T22:25:05.180Z"
   },
   {
    "duration": 3,
    "start_time": "2021-09-28T22:43:02.146Z"
   },
   {
    "duration": 7,
    "start_time": "2021-09-28T22:43:08.090Z"
   },
   {
    "duration": 5,
    "start_time": "2021-09-28T22:43:48.717Z"
   },
   {
    "duration": 6,
    "start_time": "2021-09-28T22:44:19.519Z"
   },
   {
    "duration": 5,
    "start_time": "2021-09-28T22:47:25.121Z"
   },
   {
    "duration": 4,
    "start_time": "2021-09-28T22:52:14.726Z"
   },
   {
    "duration": 4,
    "start_time": "2021-09-28T22:54:35.934Z"
   },
   {
    "duration": 242,
    "start_time": "2021-09-28T22:55:17.166Z"
   },
   {
    "duration": 9,
    "start_time": "2021-09-28T22:56:06.678Z"
   },
   {
    "duration": 9,
    "start_time": "2021-09-28T22:56:18.837Z"
   },
   {
    "duration": 10,
    "start_time": "2021-09-28T22:56:28.972Z"
   },
   {
    "duration": 9,
    "start_time": "2021-09-28T22:57:42.607Z"
   },
   {
    "duration": 10,
    "start_time": "2021-09-28T22:57:48.479Z"
   },
   {
    "duration": 10,
    "start_time": "2021-09-28T22:58:17.033Z"
   },
   {
    "duration": 10,
    "start_time": "2021-09-28T22:58:52.254Z"
   },
   {
    "duration": 11,
    "start_time": "2021-09-28T22:59:43.922Z"
   },
   {
    "duration": 10,
    "start_time": "2021-09-28T22:59:45.973Z"
   },
   {
    "duration": 12,
    "start_time": "2021-09-28T23:00:11.169Z"
   },
   {
    "duration": 11,
    "start_time": "2021-09-28T23:00:48.312Z"
   },
   {
    "duration": 11,
    "start_time": "2021-09-28T23:00:50.549Z"
   },
   {
    "duration": 5,
    "start_time": "2021-09-28T23:12:48.269Z"
   },
   {
    "duration": 260,
    "start_time": "2021-09-28T23:16:53.716Z"
   },
   {
    "duration": 16,
    "start_time": "2021-09-28T23:17:20.900Z"
   },
   {
    "duration": 13,
    "start_time": "2021-09-28T23:17:35.564Z"
   },
   {
    "duration": 277,
    "start_time": "2021-09-28T23:18:05.728Z"
   },
   {
    "duration": 270,
    "start_time": "2021-09-28T23:18:25.424Z"
   },
   {
    "duration": 8,
    "start_time": "2021-09-28T23:19:39.374Z"
   },
   {
    "duration": 10,
    "start_time": "2021-09-28T23:19:48.074Z"
   },
   {
    "duration": 11,
    "start_time": "2021-09-28T23:19:59.892Z"
   },
   {
    "duration": 10,
    "start_time": "2021-09-28T23:21:02.180Z"
   },
   {
    "duration": 220,
    "start_time": "2021-09-28T23:21:27.256Z"
   },
   {
    "duration": 269,
    "start_time": "2021-09-28T23:21:31.879Z"
   },
   {
    "duration": 12,
    "start_time": "2021-09-28T23:21:54.976Z"
   },
   {
    "duration": 14,
    "start_time": "2021-09-28T23:22:34.925Z"
   },
   {
    "duration": 13,
    "start_time": "2021-09-28T23:22:49.901Z"
   },
   {
    "duration": 13,
    "start_time": "2021-09-28T23:24:32.481Z"
   },
   {
    "duration": 12,
    "start_time": "2021-09-28T23:24:57.137Z"
   },
   {
    "duration": 13,
    "start_time": "2021-09-28T23:25:10.007Z"
   },
   {
    "duration": 10,
    "start_time": "2021-09-28T23:26:01.775Z"
   },
   {
    "duration": 5,
    "start_time": "2021-09-28T23:30:41.629Z"
   },
   {
    "duration": 4,
    "start_time": "2021-09-28T23:30:48.207Z"
   },
   {
    "duration": 12,
    "start_time": "2021-09-28T23:32:37.777Z"
   },
   {
    "duration": 15,
    "start_time": "2021-09-28T23:39:38.271Z"
   },
   {
    "duration": 5,
    "start_time": "2021-09-28T23:40:02.850Z"
   },
   {
    "duration": 11,
    "start_time": "2021-09-28T23:40:12.740Z"
   },
   {
    "duration": 13,
    "start_time": "2021-09-28T23:40:20.235Z"
   },
   {
    "duration": 13,
    "start_time": "2021-09-28T23:41:56.950Z"
   },
   {
    "duration": 4,
    "start_time": "2021-09-28T23:42:42.914Z"
   },
   {
    "duration": 12,
    "start_time": "2021-09-28T23:42:48.044Z"
   },
   {
    "duration": 12,
    "start_time": "2021-09-28T23:44:46.737Z"
   },
   {
    "duration": 14,
    "start_time": "2021-09-28T23:45:45.435Z"
   },
   {
    "duration": 5,
    "start_time": "2021-09-28T23:48:08.649Z"
   },
   {
    "duration": 4,
    "start_time": "2021-09-28T23:48:18.751Z"
   },
   {
    "duration": 266,
    "start_time": "2021-09-29T00:13:42.032Z"
   },
   {
    "duration": 15,
    "start_time": "2021-09-29T00:13:52.717Z"
   },
   {
    "duration": 95,
    "start_time": "2021-09-29T00:19:06.090Z"
   },
   {
    "duration": 91,
    "start_time": "2021-09-29T00:19:25.690Z"
   },
   {
    "duration": 16,
    "start_time": "2021-09-29T00:19:36.957Z"
   },
   {
    "duration": 15,
    "start_time": "2021-09-29T00:19:57.324Z"
   },
   {
    "duration": 792,
    "start_time": "2021-09-29T12:21:49.596Z"
   },
   {
    "duration": 21,
    "start_time": "2021-09-29T12:21:50.391Z"
   },
   {
    "duration": 25,
    "start_time": "2021-09-29T12:21:50.416Z"
   },
   {
    "duration": 31,
    "start_time": "2021-09-29T12:21:50.444Z"
   },
   {
    "duration": 50,
    "start_time": "2021-09-29T12:21:50.478Z"
   },
   {
    "duration": 30,
    "start_time": "2021-09-29T12:21:50.531Z"
   },
   {
    "duration": 30,
    "start_time": "2021-09-29T12:21:50.564Z"
   },
   {
    "duration": 34,
    "start_time": "2021-09-29T12:21:50.597Z"
   },
   {
    "duration": 50,
    "start_time": "2021-09-29T12:21:50.636Z"
   },
   {
    "duration": 30,
    "start_time": "2021-09-29T12:21:50.690Z"
   },
   {
    "duration": 35,
    "start_time": "2021-09-29T12:21:50.723Z"
   },
   {
    "duration": 18,
    "start_time": "2021-09-29T12:21:50.761Z"
   },
   {
    "duration": 53,
    "start_time": "2021-09-29T12:21:50.781Z"
   },
   {
    "duration": 10,
    "start_time": "2021-09-29T12:21:50.837Z"
   },
   {
    "duration": 24,
    "start_time": "2021-09-29T12:21:50.849Z"
   },
   {
    "duration": 21,
    "start_time": "2021-09-29T12:21:50.876Z"
   },
   {
    "duration": 33,
    "start_time": "2021-09-29T12:21:50.899Z"
   },
   {
    "duration": 44,
    "start_time": "2021-09-29T12:21:50.935Z"
   },
   {
    "duration": 19,
    "start_time": "2021-09-29T12:21:50.982Z"
   },
   {
    "duration": 41,
    "start_time": "2021-09-29T12:21:51.004Z"
   },
   {
    "duration": 23,
    "start_time": "2021-09-29T12:21:51.048Z"
   },
   {
    "duration": 79,
    "start_time": "2021-09-29T12:21:51.074Z"
   },
   {
    "duration": 36,
    "start_time": "2021-09-29T12:21:51.156Z"
   },
   {
    "duration": 22,
    "start_time": "2021-09-29T12:21:51.194Z"
   },
   {
    "duration": 31,
    "start_time": "2021-09-29T12:21:51.218Z"
   },
   {
    "duration": 26,
    "start_time": "2021-09-29T12:21:51.251Z"
   },
   {
    "duration": 41,
    "start_time": "2021-09-29T12:21:51.282Z"
   },
   {
    "duration": 36,
    "start_time": "2021-09-29T12:21:51.325Z"
   },
   {
    "duration": 20,
    "start_time": "2021-09-29T12:21:51.363Z"
   },
   {
    "duration": 37,
    "start_time": "2021-09-29T12:21:51.385Z"
   },
   {
    "duration": 32,
    "start_time": "2021-09-29T12:21:51.424Z"
   },
   {
    "duration": 6,
    "start_time": "2021-09-29T12:21:51.459Z"
   },
   {
    "duration": 36,
    "start_time": "2021-09-29T12:21:51.468Z"
   },
   {
    "duration": 3,
    "start_time": "2021-09-29T16:57:16.616Z"
   },
   {
    "duration": 18,
    "start_time": "2021-09-29T16:57:16.625Z"
   },
   {
    "duration": 18,
    "start_time": "2021-09-29T16:57:16.646Z"
   },
   {
    "duration": 16,
    "start_time": "2021-09-29T16:57:16.667Z"
   },
   {
    "duration": 24,
    "start_time": "2021-09-29T16:57:16.685Z"
   },
   {
    "duration": 22,
    "start_time": "2021-09-29T16:57:16.711Z"
   },
   {
    "duration": 24,
    "start_time": "2021-09-29T16:57:16.735Z"
   },
   {
    "duration": 13,
    "start_time": "2021-09-29T16:57:16.761Z"
   },
   {
    "duration": 24,
    "start_time": "2021-09-29T16:57:16.777Z"
   },
   {
    "duration": 28,
    "start_time": "2021-09-29T16:57:16.804Z"
   },
   {
    "duration": 32,
    "start_time": "2021-09-29T16:57:16.835Z"
   },
   {
    "duration": 6,
    "start_time": "2021-09-29T16:57:16.871Z"
   },
   {
    "duration": 53,
    "start_time": "2021-09-29T16:57:16.880Z"
   },
   {
    "duration": 12,
    "start_time": "2021-09-29T16:57:16.936Z"
   },
   {
    "duration": 10,
    "start_time": "2021-09-29T16:57:16.951Z"
   },
   {
    "duration": 9,
    "start_time": "2021-09-29T16:57:16.964Z"
   },
   {
    "duration": 13,
    "start_time": "2021-09-29T16:57:16.976Z"
   },
   {
    "duration": 19,
    "start_time": "2021-09-29T16:57:16.992Z"
   },
   {
    "duration": 16,
    "start_time": "2021-09-29T16:57:17.014Z"
   },
   {
    "duration": 27,
    "start_time": "2021-09-29T16:57:17.033Z"
   },
   {
    "duration": 14,
    "start_time": "2021-09-29T16:57:17.063Z"
   },
   {
    "duration": 42,
    "start_time": "2021-09-29T16:57:17.080Z"
   },
   {
    "duration": 25,
    "start_time": "2021-09-29T16:57:17.125Z"
   },
   {
    "duration": 16,
    "start_time": "2021-09-29T16:57:17.157Z"
   },
   {
    "duration": 33,
    "start_time": "2021-09-29T16:57:17.176Z"
   },
   {
    "duration": 25,
    "start_time": "2021-09-29T16:57:17.211Z"
   },
   {
    "duration": 46,
    "start_time": "2021-09-29T16:57:17.238Z"
   },
   {
    "duration": 27,
    "start_time": "2021-09-29T16:57:17.286Z"
   },
   {
    "duration": 27,
    "start_time": "2021-09-29T16:57:17.316Z"
   },
   {
    "duration": 31,
    "start_time": "2021-09-29T16:57:17.346Z"
   },
   {
    "duration": 16,
    "start_time": "2021-09-29T16:57:17.380Z"
   },
   {
    "duration": 27,
    "start_time": "2021-09-29T16:57:17.398Z"
   },
   {
    "duration": 29,
    "start_time": "2021-09-29T16:57:17.428Z"
   },
   {
    "duration": 4,
    "start_time": "2021-09-29T17:04:06.376Z"
   },
   {
    "duration": 23,
    "start_time": "2021-09-29T17:04:06.385Z"
   },
   {
    "duration": 17,
    "start_time": "2021-09-29T17:04:06.411Z"
   },
   {
    "duration": 10,
    "start_time": "2021-09-29T17:04:06.432Z"
   },
   {
    "duration": 27,
    "start_time": "2021-09-29T17:04:06.445Z"
   },
   {
    "duration": 10,
    "start_time": "2021-09-29T17:04:06.475Z"
   },
   {
    "duration": 10,
    "start_time": "2021-09-29T17:04:06.487Z"
   },
   {
    "duration": 18,
    "start_time": "2021-09-29T17:04:06.500Z"
   },
   {
    "duration": 39,
    "start_time": "2021-09-29T17:04:06.521Z"
   },
   {
    "duration": 17,
    "start_time": "2021-09-29T17:04:06.565Z"
   },
   {
    "duration": 23,
    "start_time": "2021-09-29T17:04:06.585Z"
   },
   {
    "duration": 8,
    "start_time": "2021-09-29T17:04:06.610Z"
   },
   {
    "duration": 41,
    "start_time": "2021-09-29T17:04:06.620Z"
   },
   {
    "duration": 25,
    "start_time": "2021-09-29T17:04:06.663Z"
   },
   {
    "duration": 15,
    "start_time": "2021-09-29T17:04:06.691Z"
   },
   {
    "duration": 13,
    "start_time": "2021-09-29T17:04:06.709Z"
   },
   {
    "duration": 14,
    "start_time": "2021-09-29T17:04:06.724Z"
   },
   {
    "duration": 9,
    "start_time": "2021-09-29T17:04:06.740Z"
   },
   {
    "duration": 7,
    "start_time": "2021-09-29T17:04:06.758Z"
   },
   {
    "duration": 12,
    "start_time": "2021-09-29T17:04:06.767Z"
   },
   {
    "duration": 12,
    "start_time": "2021-09-29T17:04:06.782Z"
   },
   {
    "duration": 45,
    "start_time": "2021-09-29T17:04:06.796Z"
   },
   {
    "duration": 23,
    "start_time": "2021-09-29T17:04:06.843Z"
   },
   {
    "duration": 12,
    "start_time": "2021-09-29T17:04:06.868Z"
   },
   {
    "duration": 24,
    "start_time": "2021-09-29T17:04:06.882Z"
   },
   {
    "duration": 10,
    "start_time": "2021-09-29T17:04:06.908Z"
   },
   {
    "duration": 16,
    "start_time": "2021-09-29T17:04:06.920Z"
   },
   {
    "duration": 14,
    "start_time": "2021-09-29T17:04:06.941Z"
   },
   {
    "duration": 11,
    "start_time": "2021-09-29T17:04:06.957Z"
   },
   {
    "duration": 25,
    "start_time": "2021-09-29T17:04:06.970Z"
   },
   {
    "duration": 17,
    "start_time": "2021-09-29T17:04:06.997Z"
   },
   {
    "duration": 12,
    "start_time": "2021-09-29T17:04:07.016Z"
   },
   {
    "duration": 32,
    "start_time": "2021-09-29T17:04:07.030Z"
   },
   {
    "duration": 16,
    "start_time": "2021-09-29T17:08:08.500Z"
   },
   {
    "duration": 23,
    "start_time": "2021-09-29T17:08:10.968Z"
   },
   {
    "duration": 22,
    "start_time": "2021-09-29T17:08:13.484Z"
   },
   {
    "duration": 217,
    "start_time": "2021-09-29T17:12:09.483Z"
   },
   {
    "duration": 18,
    "start_time": "2021-09-29T17:14:11.575Z"
   },
   {
    "duration": 14,
    "start_time": "2021-09-29T17:14:22.086Z"
   },
   {
    "duration": 18,
    "start_time": "2021-09-29T17:16:14.449Z"
   },
   {
    "duration": 15,
    "start_time": "2021-09-29T17:16:49.739Z"
   },
   {
    "duration": 20,
    "start_time": "2021-09-29T17:16:54.361Z"
   },
   {
    "duration": 23,
    "start_time": "2021-09-29T17:17:06.578Z"
   },
   {
    "duration": 12,
    "start_time": "2021-09-29T17:19:05.620Z"
   },
   {
    "duration": 4,
    "start_time": "2021-09-29T17:19:23.451Z"
   },
   {
    "duration": 18,
    "start_time": "2021-09-29T17:19:23.540Z"
   },
   {
    "duration": 19,
    "start_time": "2021-09-29T17:19:23.560Z"
   },
   {
    "duration": 11,
    "start_time": "2021-09-29T17:19:23.582Z"
   },
   {
    "duration": 18,
    "start_time": "2021-09-29T17:19:23.596Z"
   },
   {
    "duration": 9,
    "start_time": "2021-09-29T17:19:23.616Z"
   },
   {
    "duration": 38,
    "start_time": "2021-09-29T17:19:23.627Z"
   },
   {
    "duration": 12,
    "start_time": "2021-09-29T17:19:23.668Z"
   },
   {
    "duration": 23,
    "start_time": "2021-09-29T17:19:23.683Z"
   },
   {
    "duration": 17,
    "start_time": "2021-09-29T17:19:23.710Z"
   },
   {
    "duration": 41,
    "start_time": "2021-09-29T17:19:23.730Z"
   },
   {
    "duration": 18,
    "start_time": "2021-09-29T17:19:23.773Z"
   },
   {
    "duration": 20,
    "start_time": "2021-09-29T17:19:23.793Z"
   },
   {
    "duration": 14,
    "start_time": "2021-09-29T17:19:23.816Z"
   },
   {
    "duration": 13,
    "start_time": "2021-09-29T17:19:23.833Z"
   },
   {
    "duration": 12,
    "start_time": "2021-09-29T17:19:23.849Z"
   },
   {
    "duration": 20,
    "start_time": "2021-09-29T17:19:23.863Z"
   },
   {
    "duration": 12,
    "start_time": "2021-09-29T17:19:23.886Z"
   },
   {
    "duration": 9,
    "start_time": "2021-09-29T17:19:23.900Z"
   },
   {
    "duration": 12,
    "start_time": "2021-09-29T17:19:23.911Z"
   },
   {
    "duration": 35,
    "start_time": "2021-09-29T17:19:23.925Z"
   },
   {
    "duration": 49,
    "start_time": "2021-09-29T17:19:23.962Z"
   },
   {
    "duration": 21,
    "start_time": "2021-09-29T17:19:24.013Z"
   },
   {
    "duration": 10,
    "start_time": "2021-09-29T17:19:24.037Z"
   },
   {
    "duration": 17,
    "start_time": "2021-09-29T17:19:24.049Z"
   },
   {
    "duration": 7,
    "start_time": "2021-09-29T17:19:24.068Z"
   },
   {
    "duration": 22,
    "start_time": "2021-09-29T17:19:24.077Z"
   },
   {
    "duration": 9,
    "start_time": "2021-09-29T17:19:24.106Z"
   },
   {
    "duration": 7,
    "start_time": "2021-09-29T17:19:24.118Z"
   },
   {
    "duration": 32,
    "start_time": "2021-09-29T17:19:24.128Z"
   },
   {
    "duration": 16,
    "start_time": "2021-09-29T17:19:24.164Z"
   },
   {
    "duration": 9,
    "start_time": "2021-09-29T17:19:24.183Z"
   },
   {
    "duration": 16,
    "start_time": "2021-09-29T17:19:24.195Z"
   },
   {
    "duration": 26,
    "start_time": "2021-09-29T17:19:24.259Z"
   },
   {
    "duration": 24,
    "start_time": "2021-09-29T17:19:24.288Z"
   },
   {
    "duration": 259,
    "start_time": "2021-09-29T17:19:24.315Z"
   },
   {
    "duration": 12,
    "start_time": "2021-09-29T17:19:27.930Z"
   },
   {
    "duration": 4,
    "start_time": "2021-09-29T17:20:10.347Z"
   },
   {
    "duration": 22,
    "start_time": "2021-09-29T17:20:10.354Z"
   },
   {
    "duration": 19,
    "start_time": "2021-09-29T17:20:10.380Z"
   },
   {
    "duration": 11,
    "start_time": "2021-09-29T17:20:10.402Z"
   },
   {
    "duration": 43,
    "start_time": "2021-09-29T17:20:10.416Z"
   },
   {
    "duration": 11,
    "start_time": "2021-09-29T17:20:10.463Z"
   },
   {
    "duration": 14,
    "start_time": "2021-09-29T17:20:10.477Z"
   },
   {
    "duration": 25,
    "start_time": "2021-09-29T17:20:10.496Z"
   },
   {
    "duration": 40,
    "start_time": "2021-09-29T17:20:10.525Z"
   },
   {
    "duration": 18,
    "start_time": "2021-09-29T17:20:10.568Z"
   },
   {
    "duration": 17,
    "start_time": "2021-09-29T17:20:10.589Z"
   },
   {
    "duration": 49,
    "start_time": "2021-09-29T17:20:10.609Z"
   },
   {
    "duration": 19,
    "start_time": "2021-09-29T17:20:10.661Z"
   },
   {
    "duration": 14,
    "start_time": "2021-09-29T17:20:10.682Z"
   },
   {
    "duration": 14,
    "start_time": "2021-09-29T17:20:10.699Z"
   },
   {
    "duration": 9,
    "start_time": "2021-09-29T17:20:10.716Z"
   },
   {
    "duration": 32,
    "start_time": "2021-09-29T17:20:10.727Z"
   },
   {
    "duration": 10,
    "start_time": "2021-09-29T17:20:10.762Z"
   },
   {
    "duration": 9,
    "start_time": "2021-09-29T17:20:10.775Z"
   },
   {
    "duration": 12,
    "start_time": "2021-09-29T17:20:10.787Z"
   },
   {
    "duration": 12,
    "start_time": "2021-09-29T17:20:10.802Z"
   },
   {
    "duration": 42,
    "start_time": "2021-09-29T17:20:10.859Z"
   },
   {
    "duration": 11,
    "start_time": "2021-09-29T17:20:10.908Z"
   },
   {
    "duration": 6,
    "start_time": "2021-09-29T17:20:10.921Z"
   },
   {
    "duration": 10,
    "start_time": "2021-09-29T17:20:10.929Z"
   },
   {
    "duration": 19,
    "start_time": "2021-09-29T17:20:10.941Z"
   },
   {
    "duration": 9,
    "start_time": "2021-09-29T17:20:10.962Z"
   },
   {
    "duration": 6,
    "start_time": "2021-09-29T17:20:10.973Z"
   },
   {
    "duration": 8,
    "start_time": "2021-09-29T17:20:10.981Z"
   },
   {
    "duration": 19,
    "start_time": "2021-09-29T17:20:10.991Z"
   },
   {
    "duration": 52,
    "start_time": "2021-09-29T17:20:11.012Z"
   },
   {
    "duration": 7,
    "start_time": "2021-09-29T17:20:11.067Z"
   },
   {
    "duration": 17,
    "start_time": "2021-09-29T17:20:11.076Z"
   },
   {
    "duration": 23,
    "start_time": "2021-09-29T17:20:11.096Z"
   },
   {
    "duration": 22,
    "start_time": "2021-09-29T17:20:11.158Z"
   },
   {
    "duration": 237,
    "start_time": "2021-09-29T17:20:11.182Z"
   },
   {
    "duration": 12,
    "start_time": "2021-09-29T17:20:11.422Z"
   },
   {
    "duration": 3,
    "start_time": "2021-09-29T17:20:52.142Z"
   },
   {
    "duration": 27,
    "start_time": "2021-09-29T17:20:52.151Z"
   },
   {
    "duration": 27,
    "start_time": "2021-09-29T17:20:52.181Z"
   },
   {
    "duration": 12,
    "start_time": "2021-09-29T17:20:52.212Z"
   },
   {
    "duration": 34,
    "start_time": "2021-09-29T17:20:52.227Z"
   },
   {
    "duration": 26,
    "start_time": "2021-09-29T17:20:52.264Z"
   },
   {
    "duration": 25,
    "start_time": "2021-09-29T17:20:52.293Z"
   },
   {
    "duration": 28,
    "start_time": "2021-09-29T17:20:52.320Z"
   },
   {
    "duration": 21,
    "start_time": "2021-09-29T17:20:52.352Z"
   },
   {
    "duration": 20,
    "start_time": "2021-09-29T17:20:52.378Z"
   },
   {
    "duration": 25,
    "start_time": "2021-09-29T17:20:52.401Z"
   },
   {
    "duration": 26,
    "start_time": "2021-09-29T17:20:52.428Z"
   },
   {
    "duration": 33,
    "start_time": "2021-09-29T17:20:52.457Z"
   },
   {
    "duration": 35,
    "start_time": "2021-09-29T17:20:52.493Z"
   },
   {
    "duration": 26,
    "start_time": "2021-09-29T17:20:52.530Z"
   },
   {
    "duration": 21,
    "start_time": "2021-09-29T17:20:52.559Z"
   },
   {
    "duration": 27,
    "start_time": "2021-09-29T17:20:52.582Z"
   },
   {
    "duration": 28,
    "start_time": "2021-09-29T17:20:52.612Z"
   },
   {
    "duration": 20,
    "start_time": "2021-09-29T17:20:52.643Z"
   },
   {
    "duration": 26,
    "start_time": "2021-09-29T17:20:52.665Z"
   },
   {
    "duration": 23,
    "start_time": "2021-09-29T17:20:52.693Z"
   },
   {
    "duration": 56,
    "start_time": "2021-09-29T17:20:52.718Z"
   },
   {
    "duration": 21,
    "start_time": "2021-09-29T17:20:52.776Z"
   },
   {
    "duration": 15,
    "start_time": "2021-09-29T17:20:52.799Z"
   },
   {
    "duration": 32,
    "start_time": "2021-09-29T17:20:52.816Z"
   },
   {
    "duration": 32,
    "start_time": "2021-09-29T17:20:52.850Z"
   },
   {
    "duration": 26,
    "start_time": "2021-09-29T17:20:52.884Z"
   },
   {
    "duration": 14,
    "start_time": "2021-09-29T17:20:52.915Z"
   },
   {
    "duration": 21,
    "start_time": "2021-09-29T17:20:52.932Z"
   },
   {
    "duration": 31,
    "start_time": "2021-09-29T17:20:52.956Z"
   },
   {
    "duration": 13,
    "start_time": "2021-09-29T17:20:52.990Z"
   },
   {
    "duration": 8,
    "start_time": "2021-09-29T17:20:53.006Z"
   },
   {
    "duration": 34,
    "start_time": "2021-09-29T17:20:53.017Z"
   },
   {
    "duration": 30,
    "start_time": "2021-09-29T17:20:53.054Z"
   },
   {
    "duration": 21,
    "start_time": "2021-09-29T17:20:53.087Z"
   },
   {
    "duration": 225,
    "start_time": "2021-09-29T17:20:53.111Z"
   },
   {
    "duration": 31,
    "start_time": "2021-09-29T17:20:53.338Z"
   },
   {
    "duration": 22,
    "start_time": "2021-09-29T17:21:17.238Z"
   },
   {
    "duration": 19,
    "start_time": "2021-09-29T17:21:33.781Z"
   },
   {
    "duration": 14,
    "start_time": "2021-09-29T17:25:41.807Z"
   },
   {
    "duration": 5,
    "start_time": "2021-09-29T17:25:57.861Z"
   },
   {
    "duration": 23,
    "start_time": "2021-09-29T17:25:57.868Z"
   },
   {
    "duration": 11,
    "start_time": "2021-09-29T17:25:57.894Z"
   },
   {
    "duration": 13,
    "start_time": "2021-09-29T17:25:57.908Z"
   },
   {
    "duration": 52,
    "start_time": "2021-09-29T17:25:57.923Z"
   },
   {
    "duration": 12,
    "start_time": "2021-09-29T17:25:57.978Z"
   },
   {
    "duration": 12,
    "start_time": "2021-09-29T17:25:57.993Z"
   },
   {
    "duration": 12,
    "start_time": "2021-09-29T17:25:58.007Z"
   },
   {
    "duration": 43,
    "start_time": "2021-09-29T17:25:58.022Z"
   },
   {
    "duration": 17,
    "start_time": "2021-09-29T17:25:58.068Z"
   },
   {
    "duration": 18,
    "start_time": "2021-09-29T17:25:58.087Z"
   },
   {
    "duration": 7,
    "start_time": "2021-09-29T17:25:58.108Z"
   },
   {
    "duration": 40,
    "start_time": "2021-09-29T17:25:58.117Z"
   },
   {
    "duration": 9,
    "start_time": "2021-09-29T17:25:58.160Z"
   },
   {
    "duration": 19,
    "start_time": "2021-09-29T17:25:58.171Z"
   },
   {
    "duration": 9,
    "start_time": "2021-09-29T17:25:58.192Z"
   },
   {
    "duration": 11,
    "start_time": "2021-09-29T17:25:58.203Z"
   },
   {
    "duration": 8,
    "start_time": "2021-09-29T17:25:58.216Z"
   },
   {
    "duration": 33,
    "start_time": "2021-09-29T17:25:58.226Z"
   },
   {
    "duration": 11,
    "start_time": "2021-09-29T17:25:58.262Z"
   },
   {
    "duration": 11,
    "start_time": "2021-09-29T17:25:58.276Z"
   },
   {
    "duration": 43,
    "start_time": "2021-09-29T17:25:58.289Z"
   },
   {
    "duration": 11,
    "start_time": "2021-09-29T17:25:58.335Z"
   },
   {
    "duration": 8,
    "start_time": "2021-09-29T17:25:58.348Z"
   },
   {
    "duration": 13,
    "start_time": "2021-09-29T17:25:58.359Z"
   },
   {
    "duration": 12,
    "start_time": "2021-09-29T17:25:58.374Z"
   },
   {
    "duration": 13,
    "start_time": "2021-09-29T17:25:58.391Z"
   },
   {
    "duration": 9,
    "start_time": "2021-09-29T17:25:58.407Z"
   },
   {
    "duration": 9,
    "start_time": "2021-09-29T17:25:58.418Z"
   },
   {
    "duration": 14,
    "start_time": "2021-09-29T17:25:58.458Z"
   },
   {
    "duration": 14,
    "start_time": "2021-09-29T17:25:58.474Z"
   },
   {
    "duration": 7,
    "start_time": "2021-09-29T17:25:58.490Z"
   },
   {
    "duration": 16,
    "start_time": "2021-09-29T17:25:58.500Z"
   },
   {
    "duration": 13,
    "start_time": "2021-09-29T17:26:00.955Z"
   },
   {
    "duration": 21,
    "start_time": "2021-09-29T17:26:07.293Z"
   },
   {
    "duration": 218,
    "start_time": "2021-09-29T17:26:07.722Z"
   },
   {
    "duration": 14,
    "start_time": "2021-09-29T17:26:08.039Z"
   },
   {
    "duration": 25,
    "start_time": "2021-09-29T17:26:28.612Z"
   },
   {
    "duration": 4,
    "start_time": "2021-09-29T17:27:25.885Z"
   },
   {
    "duration": 21,
    "start_time": "2021-09-29T17:27:25.894Z"
   },
   {
    "duration": 13,
    "start_time": "2021-09-29T17:27:25.917Z"
   },
   {
    "duration": 8,
    "start_time": "2021-09-29T17:27:25.933Z"
   },
   {
    "duration": 19,
    "start_time": "2021-09-29T17:27:25.944Z"
   },
   {
    "duration": 15,
    "start_time": "2021-09-29T17:27:25.966Z"
   },
   {
    "duration": 13,
    "start_time": "2021-09-29T17:27:25.983Z"
   },
   {
    "duration": 11,
    "start_time": "2021-09-29T17:27:25.998Z"
   },
   {
    "duration": 20,
    "start_time": "2021-09-29T17:27:26.012Z"
   },
   {
    "duration": 18,
    "start_time": "2021-09-29T17:27:26.063Z"
   },
   {
    "duration": 19,
    "start_time": "2021-09-29T17:27:26.085Z"
   },
   {
    "duration": 13,
    "start_time": "2021-09-29T17:27:26.107Z"
   },
   {
    "duration": 37,
    "start_time": "2021-09-29T17:27:26.123Z"
   },
   {
    "duration": 16,
    "start_time": "2021-09-29T17:27:26.162Z"
   },
   {
    "duration": 10,
    "start_time": "2021-09-29T17:27:26.180Z"
   },
   {
    "duration": 8,
    "start_time": "2021-09-29T17:27:26.193Z"
   },
   {
    "duration": 12,
    "start_time": "2021-09-29T17:27:26.203Z"
   },
   {
    "duration": 40,
    "start_time": "2021-09-29T17:27:26.218Z"
   },
   {
    "duration": 6,
    "start_time": "2021-09-29T17:27:26.260Z"
   },
   {
    "duration": 13,
    "start_time": "2021-09-29T17:27:26.268Z"
   },
   {
    "duration": 15,
    "start_time": "2021-09-29T17:27:26.284Z"
   },
   {
    "duration": 41,
    "start_time": "2021-09-29T17:27:26.302Z"
   },
   {
    "duration": 15,
    "start_time": "2021-09-29T17:27:26.346Z"
   },
   {
    "duration": 11,
    "start_time": "2021-09-29T17:27:26.363Z"
   },
   {
    "duration": 13,
    "start_time": "2021-09-29T17:27:26.376Z"
   },
   {
    "duration": 12,
    "start_time": "2021-09-29T17:27:26.391Z"
   },
   {
    "duration": 21,
    "start_time": "2021-09-29T17:27:26.405Z"
   },
   {
    "duration": 5,
    "start_time": "2021-09-29T17:27:26.431Z"
   },
   {
    "duration": 5,
    "start_time": "2021-09-29T17:27:26.458Z"
   },
   {
    "duration": 21,
    "start_time": "2021-09-29T17:27:26.465Z"
   },
   {
    "duration": 13,
    "start_time": "2021-09-29T17:27:26.489Z"
   },
   {
    "duration": 6,
    "start_time": "2021-09-29T17:27:26.504Z"
   },
   {
    "duration": 46,
    "start_time": "2021-09-29T17:27:26.513Z"
   },
   {
    "duration": 23,
    "start_time": "2021-09-29T17:27:26.562Z"
   },
   {
    "duration": 23,
    "start_time": "2021-09-29T17:27:26.587Z"
   },
   {
    "duration": 215,
    "start_time": "2021-09-29T17:27:28.450Z"
   },
   {
    "duration": 7,
    "start_time": "2021-09-29T17:27:31.970Z"
   },
   {
    "duration": 7,
    "start_time": "2021-09-29T17:35:44.179Z"
   },
   {
    "duration": 7,
    "start_time": "2021-09-29T17:38:32.343Z"
   },
   {
    "duration": 16,
    "start_time": "2021-09-29T17:43:56.458Z"
   },
   {
    "duration": 21,
    "start_time": "2021-09-29T17:44:46.608Z"
   },
   {
    "duration": 29,
    "start_time": "2021-09-29T17:49:40.193Z"
   },
   {
    "duration": 28,
    "start_time": "2021-09-29T17:49:56.445Z"
   },
   {
    "duration": 3,
    "start_time": "2021-09-29T20:39:24.519Z"
   },
   {
    "duration": 20,
    "start_time": "2021-09-29T20:39:24.525Z"
   },
   {
    "duration": 11,
    "start_time": "2021-09-29T20:39:24.548Z"
   },
   {
    "duration": 11,
    "start_time": "2021-09-29T20:39:24.561Z"
   },
   {
    "duration": 21,
    "start_time": "2021-09-29T20:39:24.574Z"
   },
   {
    "duration": 13,
    "start_time": "2021-09-29T20:39:24.598Z"
   },
   {
    "duration": 11,
    "start_time": "2021-09-29T20:39:24.614Z"
   },
   {
    "duration": 10,
    "start_time": "2021-09-29T20:39:24.659Z"
   },
   {
    "duration": 20,
    "start_time": "2021-09-29T20:39:24.675Z"
   },
   {
    "duration": 71,
    "start_time": "2021-09-29T20:39:24.698Z"
   },
   {
    "duration": 24,
    "start_time": "2021-09-29T20:39:24.773Z"
   },
   {
    "duration": 11,
    "start_time": "2021-09-29T20:39:24.799Z"
   },
   {
    "duration": 22,
    "start_time": "2021-09-29T20:39:24.813Z"
   },
   {
    "duration": 24,
    "start_time": "2021-09-29T20:39:24.838Z"
   },
   {
    "duration": 15,
    "start_time": "2021-09-29T20:39:24.864Z"
   },
   {
    "duration": 10,
    "start_time": "2021-09-29T20:39:24.882Z"
   },
   {
    "duration": 12,
    "start_time": "2021-09-29T20:39:24.895Z"
   },
   {
    "duration": 52,
    "start_time": "2021-09-29T20:39:24.910Z"
   },
   {
    "duration": 8,
    "start_time": "2021-09-29T20:39:24.965Z"
   },
   {
    "duration": 11,
    "start_time": "2021-09-29T20:39:24.976Z"
   },
   {
    "duration": 10,
    "start_time": "2021-09-29T20:39:24.990Z"
   },
   {
    "duration": 59,
    "start_time": "2021-09-29T20:39:25.003Z"
   },
   {
    "duration": 24,
    "start_time": "2021-09-29T20:39:25.065Z"
   },
   {
    "duration": 8,
    "start_time": "2021-09-29T20:39:25.092Z"
   },
   {
    "duration": 22,
    "start_time": "2021-09-29T20:39:25.102Z"
   },
   {
    "duration": 30,
    "start_time": "2021-09-29T20:39:25.127Z"
   },
   {
    "duration": 9,
    "start_time": "2021-09-29T20:39:25.162Z"
   },
   {
    "duration": 15,
    "start_time": "2021-09-29T20:39:25.174Z"
   },
   {
    "duration": 13,
    "start_time": "2021-09-29T20:39:25.192Z"
   },
   {
    "duration": 19,
    "start_time": "2021-09-29T20:39:25.207Z"
   },
   {
    "duration": 42,
    "start_time": "2021-09-29T20:39:25.229Z"
   },
   {
    "duration": 22,
    "start_time": "2021-09-29T20:39:25.273Z"
   },
   {
    "duration": 16,
    "start_time": "2021-09-29T20:39:25.298Z"
   },
   {
    "duration": 54,
    "start_time": "2021-09-29T20:39:25.316Z"
   },
   {
    "duration": 23,
    "start_time": "2021-09-29T20:39:25.373Z"
   },
   {
    "duration": 499,
    "start_time": "2021-09-29T20:39:25.399Z"
   },
   {
    "duration": -3588,
    "start_time": "2021-09-29T20:39:29.488Z"
   },
   {
    "duration": 4,
    "start_time": "2021-09-29T20:39:55.447Z"
   },
   {
    "duration": 21,
    "start_time": "2021-09-29T20:39:55.457Z"
   },
   {
    "duration": 11,
    "start_time": "2021-09-29T20:39:55.481Z"
   },
   {
    "duration": 10,
    "start_time": "2021-09-29T20:39:55.495Z"
   },
   {
    "duration": 64,
    "start_time": "2021-09-29T20:39:55.507Z"
   },
   {
    "duration": 10,
    "start_time": "2021-09-29T20:39:55.574Z"
   },
   {
    "duration": 11,
    "start_time": "2021-09-29T20:39:55.587Z"
   },
   {
    "duration": 59,
    "start_time": "2021-09-29T20:39:55.600Z"
   },
   {
    "duration": 21,
    "start_time": "2021-09-29T20:39:55.662Z"
   },
   {
    "duration": 16,
    "start_time": "2021-09-29T20:39:55.687Z"
   },
   {
    "duration": 55,
    "start_time": "2021-09-29T20:39:55.706Z"
   },
   {
    "duration": 9,
    "start_time": "2021-09-29T20:39:55.764Z"
   },
   {
    "duration": 25,
    "start_time": "2021-09-29T20:39:55.776Z"
   },
   {
    "duration": 16,
    "start_time": "2021-09-29T20:39:55.805Z"
   },
   {
    "duration": 36,
    "start_time": "2021-09-29T20:39:55.825Z"
   },
   {
    "duration": 9,
    "start_time": "2021-09-29T20:39:55.865Z"
   },
   {
    "duration": 25,
    "start_time": "2021-09-29T20:39:55.878Z"
   },
   {
    "duration": 19,
    "start_time": "2021-09-29T20:39:55.906Z"
   },
   {
    "duration": 31,
    "start_time": "2021-09-29T20:39:55.928Z"
   },
   {
    "duration": 14,
    "start_time": "2021-09-29T20:39:55.963Z"
   },
   {
    "duration": 10,
    "start_time": "2021-09-29T20:39:55.980Z"
   },
   {
    "duration": 46,
    "start_time": "2021-09-29T20:39:55.992Z"
   },
   {
    "duration": 14,
    "start_time": "2021-09-29T20:39:56.041Z"
   },
   {
    "duration": 6,
    "start_time": "2021-09-29T20:39:56.058Z"
   },
   {
    "duration": 13,
    "start_time": "2021-09-29T20:39:56.066Z"
   },
   {
    "duration": 10,
    "start_time": "2021-09-29T20:39:56.081Z"
   },
   {
    "duration": 10,
    "start_time": "2021-09-29T20:39:56.093Z"
   },
   {
    "duration": 6,
    "start_time": "2021-09-29T20:39:56.108Z"
   },
   {
    "duration": 43,
    "start_time": "2021-09-29T20:39:56.117Z"
   },
   {
    "duration": 18,
    "start_time": "2021-09-29T20:39:56.163Z"
   },
   {
    "duration": 18,
    "start_time": "2021-09-29T20:39:56.184Z"
   },
   {
    "duration": 6,
    "start_time": "2021-09-29T20:39:56.205Z"
   },
   {
    "duration": 49,
    "start_time": "2021-09-29T20:39:56.214Z"
   },
   {
    "duration": 25,
    "start_time": "2021-09-29T20:39:56.265Z"
   },
   {
    "duration": 21,
    "start_time": "2021-09-29T20:39:56.293Z"
   },
   {
    "duration": 262,
    "start_time": "2021-09-29T20:39:56.317Z"
   },
   {
    "duration": 30,
    "start_time": "2021-09-29T20:39:56.581Z"
   },
   {
    "duration": 16,
    "start_time": "2021-09-29T20:44:15.887Z"
   },
   {
    "duration": 494,
    "start_time": "2021-09-29T20:47:23.305Z"
   },
   {
    "duration": -1004,
    "start_time": "2021-09-29T20:47:24.807Z"
   },
   {
    "duration": -1036,
    "start_time": "2021-09-29T20:47:24.840Z"
   },
   {
    "duration": -1044,
    "start_time": "2021-09-29T20:47:24.850Z"
   },
   {
    "duration": -1205,
    "start_time": "2021-09-29T20:47:25.012Z"
   },
   {
    "duration": -1208,
    "start_time": "2021-09-29T20:47:25.017Z"
   },
   {
    "duration": -1209,
    "start_time": "2021-09-29T20:47:25.019Z"
   },
   {
    "duration": -1214,
    "start_time": "2021-09-29T20:47:25.025Z"
   },
   {
    "duration": -1253,
    "start_time": "2021-09-29T20:47:25.065Z"
   },
   {
    "duration": -1281,
    "start_time": "2021-09-29T20:47:25.094Z"
   },
   {
    "duration": -1367,
    "start_time": "2021-09-29T20:47:25.182Z"
   },
   {
    "duration": -1370,
    "start_time": "2021-09-29T20:47:25.186Z"
   },
   {
    "duration": -1372,
    "start_time": "2021-09-29T20:47:25.189Z"
   },
   {
    "duration": -1453,
    "start_time": "2021-09-29T20:47:25.271Z"
   },
   {
    "duration": -1457,
    "start_time": "2021-09-29T20:47:25.276Z"
   },
   {
    "duration": -1495,
    "start_time": "2021-09-29T20:47:25.316Z"
   },
   {
    "duration": -1540,
    "start_time": "2021-09-29T20:47:25.362Z"
   },
   {
    "duration": -1543,
    "start_time": "2021-09-29T20:47:25.366Z"
   },
   {
    "duration": -1619,
    "start_time": "2021-09-29T20:47:25.444Z"
   },
   {
    "duration": -1620,
    "start_time": "2021-09-29T20:47:25.448Z"
   },
   {
    "duration": -1623,
    "start_time": "2021-09-29T20:47:25.452Z"
   },
   {
    "duration": -1701,
    "start_time": "2021-09-29T20:47:25.532Z"
   },
   {
    "duration": -1703,
    "start_time": "2021-09-29T20:47:25.536Z"
   },
   {
    "duration": -1732,
    "start_time": "2021-09-29T20:47:25.567Z"
   },
   {
    "duration": -1732,
    "start_time": "2021-09-29T20:47:25.569Z"
   },
   {
    "duration": -1784,
    "start_time": "2021-09-29T20:47:25.623Z"
   },
   {
    "duration": -1789,
    "start_time": "2021-09-29T20:47:25.629Z"
   },
   {
    "duration": 4,
    "start_time": "2021-09-29T20:47:48.692Z"
   },
   {
    "duration": 19,
    "start_time": "2021-09-29T20:47:48.700Z"
   },
   {
    "duration": 12,
    "start_time": "2021-09-29T20:47:48.722Z"
   },
   {
    "duration": 10,
    "start_time": "2021-09-29T20:47:48.738Z"
   },
   {
    "duration": 26,
    "start_time": "2021-09-29T20:47:48.751Z"
   },
   {
    "duration": 9,
    "start_time": "2021-09-29T20:47:48.780Z"
   },
   {
    "duration": 11,
    "start_time": "2021-09-29T20:47:48.792Z"
   },
   {
    "duration": 24,
    "start_time": "2021-09-29T20:47:48.805Z"
   },
   {
    "duration": 37,
    "start_time": "2021-09-29T20:47:48.832Z"
   },
   {
    "duration": 17,
    "start_time": "2021-09-29T20:47:48.874Z"
   },
   {
    "duration": 16,
    "start_time": "2021-09-29T20:47:48.894Z"
   },
   {
    "duration": 49,
    "start_time": "2021-09-29T20:47:48.913Z"
   },
   {
    "duration": 25,
    "start_time": "2021-09-29T20:47:48.966Z"
   },
   {
    "duration": 28,
    "start_time": "2021-09-29T20:47:48.993Z"
   },
   {
    "duration": 18,
    "start_time": "2021-09-29T20:47:49.023Z"
   },
   {
    "duration": 14,
    "start_time": "2021-09-29T20:47:49.044Z"
   },
   {
    "duration": 23,
    "start_time": "2021-09-29T20:47:49.060Z"
   },
   {
    "duration": 11,
    "start_time": "2021-09-29T20:47:49.086Z"
   },
   {
    "duration": 9,
    "start_time": "2021-09-29T20:47:49.100Z"
   },
   {
    "duration": 13,
    "start_time": "2021-09-29T20:47:49.112Z"
   },
   {
    "duration": 9,
    "start_time": "2021-09-29T20:47:49.159Z"
   },
   {
    "duration": 41,
    "start_time": "2021-09-29T20:47:49.171Z"
   },
   {
    "duration": 18,
    "start_time": "2021-09-29T20:47:49.214Z"
   },
   {
    "duration": 10,
    "start_time": "2021-09-29T20:47:49.235Z"
   },
   {
    "duration": 14,
    "start_time": "2021-09-29T20:47:49.248Z"
   },
   {
    "duration": 6,
    "start_time": "2021-09-29T20:47:49.265Z"
   },
   {
    "duration": 26,
    "start_time": "2021-09-29T20:47:49.274Z"
   },
   {
    "duration": 12,
    "start_time": "2021-09-29T20:48:00.260Z"
   },
   {
    "duration": 4,
    "start_time": "2021-09-29T20:48:40.756Z"
   },
   {
    "duration": 19,
    "start_time": "2021-09-29T20:48:40.767Z"
   },
   {
    "duration": 11,
    "start_time": "2021-09-29T20:48:40.789Z"
   },
   {
    "duration": 10,
    "start_time": "2021-09-29T20:48:40.803Z"
   },
   {
    "duration": 43,
    "start_time": "2021-09-29T20:48:40.817Z"
   },
   {
    "duration": 11,
    "start_time": "2021-09-29T20:48:40.863Z"
   },
   {
    "duration": 14,
    "start_time": "2021-09-29T20:48:40.877Z"
   },
   {
    "duration": 12,
    "start_time": "2021-09-29T20:48:40.893Z"
   },
   {
    "duration": 63,
    "start_time": "2021-09-29T20:48:40.908Z"
   },
   {
    "duration": 17,
    "start_time": "2021-09-29T20:48:40.976Z"
   },
   {
    "duration": 18,
    "start_time": "2021-09-29T20:48:40.997Z"
   },
   {
    "duration": 7,
    "start_time": "2021-09-29T20:48:41.058Z"
   },
   {
    "duration": 21,
    "start_time": "2021-09-29T20:48:41.068Z"
   },
   {
    "duration": 15,
    "start_time": "2021-09-29T20:48:41.092Z"
   },
   {
    "duration": 10,
    "start_time": "2021-09-29T20:48:41.110Z"
   },
   {
    "duration": 7,
    "start_time": "2021-09-29T20:48:41.123Z"
   },
   {
    "duration": 37,
    "start_time": "2021-09-29T20:48:41.133Z"
   },
   {
    "duration": 19,
    "start_time": "2021-09-29T20:48:41.174Z"
   },
   {
    "duration": 8,
    "start_time": "2021-09-29T20:48:41.197Z"
   },
   {
    "duration": 51,
    "start_time": "2021-09-29T20:48:41.207Z"
   },
   {
    "duration": 12,
    "start_time": "2021-09-29T20:48:41.261Z"
   },
   {
    "duration": 42,
    "start_time": "2021-09-29T20:48:41.275Z"
   },
   {
    "duration": 14,
    "start_time": "2021-09-29T20:48:41.320Z"
   },
   {
    "duration": 5,
    "start_time": "2021-09-29T20:48:41.337Z"
   },
   {
    "duration": 20,
    "start_time": "2021-09-29T20:48:41.345Z"
   },
   {
    "duration": 10,
    "start_time": "2021-09-29T20:48:41.368Z"
   },
   {
    "duration": 13,
    "start_time": "2021-09-29T20:48:41.381Z"
   },
   {
    "duration": 7,
    "start_time": "2021-09-29T20:48:41.400Z"
   },
   {
    "duration": 51,
    "start_time": "2021-09-29T20:48:41.410Z"
   },
   {
    "duration": 19,
    "start_time": "2021-09-29T20:48:41.464Z"
   },
   {
    "duration": 16,
    "start_time": "2021-09-29T20:48:41.485Z"
   },
   {
    "duration": 7,
    "start_time": "2021-09-29T20:48:41.504Z"
   },
   {
    "duration": 54,
    "start_time": "2021-09-29T20:48:41.513Z"
   },
   {
    "duration": 23,
    "start_time": "2021-09-29T20:48:41.570Z"
   },
   {
    "duration": 21,
    "start_time": "2021-09-29T20:48:41.596Z"
   },
   {
    "duration": 381,
    "start_time": "2021-09-29T20:48:41.620Z"
   },
   {
    "duration": 54,
    "start_time": "2021-09-29T20:48:42.004Z"
   },
   {
    "duration": 5,
    "start_time": "2021-09-29T20:49:27.546Z"
   },
   {
    "duration": 125,
    "start_time": "2021-09-29T20:53:53.619Z"
   },
   {
    "duration": 4,
    "start_time": "2021-09-29T20:54:03.655Z"
   },
   {
    "duration": 4,
    "start_time": "2021-09-29T20:58:27.328Z"
   },
   {
    "duration": 638,
    "start_time": "2021-09-29T21:06:07.292Z"
   },
   {
    "duration": 4,
    "start_time": "2021-09-29T21:06:22.361Z"
   },
   {
    "duration": 606,
    "start_time": "2021-09-29T21:06:26.282Z"
   },
   {
    "duration": 625,
    "start_time": "2021-09-29T21:07:04.923Z"
   },
   {
    "duration": 17,
    "start_time": "2021-09-29T21:08:38.635Z"
   },
   {
    "duration": 22,
    "start_time": "2021-09-29T21:09:00.360Z"
   },
   {
    "duration": 141,
    "start_time": "2021-09-29T21:09:32.165Z"
   },
   {
    "duration": 5469,
    "start_time": "2021-09-29T21:10:20.091Z"
   },
   {
    "duration": 6239,
    "start_time": "2021-09-29T21:23:47.678Z"
   },
   {
    "duration": 14,
    "start_time": "2021-09-29T21:26:35.869Z"
   },
   {
    "duration": 18,
    "start_time": "2021-09-29T21:26:48.221Z"
   },
   {
    "duration": 375,
    "start_time": "2021-09-29T21:27:23.061Z"
   },
   {
    "duration": 11,
    "start_time": "2021-09-29T21:27:50.618Z"
   },
   {
    "duration": 369,
    "start_time": "2021-09-29T21:27:51.137Z"
   },
   {
    "duration": 655,
    "start_time": "2021-09-29T21:29:05.661Z"
   },
   {
    "duration": 128,
    "start_time": "2021-09-29T21:29:49.813Z"
   },
   {
    "duration": 118,
    "start_time": "2021-09-29T21:30:05.438Z"
   },
   {
    "duration": 8479,
    "start_time": "2021-09-29T21:30:47.553Z"
   },
   {
    "duration": 6,
    "start_time": "2021-09-29T21:56:23.256Z"
   },
   {
    "duration": 23,
    "start_time": "2021-09-29T21:56:23.265Z"
   },
   {
    "duration": 13,
    "start_time": "2021-09-29T21:56:23.291Z"
   },
   {
    "duration": 11,
    "start_time": "2021-09-29T21:56:23.307Z"
   },
   {
    "duration": 61,
    "start_time": "2021-09-29T21:56:23.321Z"
   },
   {
    "duration": 15,
    "start_time": "2021-09-29T21:56:23.386Z"
   },
   {
    "duration": 10,
    "start_time": "2021-09-29T21:56:23.404Z"
   },
   {
    "duration": 42,
    "start_time": "2021-09-29T21:56:23.418Z"
   },
   {
    "duration": 19,
    "start_time": "2021-09-29T21:56:23.463Z"
   },
   {
    "duration": 20,
    "start_time": "2021-09-29T21:56:23.485Z"
   },
   {
    "duration": 17,
    "start_time": "2021-09-29T21:56:23.508Z"
   },
   {
    "duration": 37,
    "start_time": "2021-09-29T21:56:23.528Z"
   },
   {
    "duration": 21,
    "start_time": "2021-09-29T21:56:23.567Z"
   },
   {
    "duration": 15,
    "start_time": "2021-09-29T21:56:23.590Z"
   },
   {
    "duration": 8,
    "start_time": "2021-09-29T21:56:23.608Z"
   },
   {
    "duration": 39,
    "start_time": "2021-09-29T21:56:23.619Z"
   },
   {
    "duration": 15,
    "start_time": "2021-09-29T21:56:23.660Z"
   },
   {
    "duration": 12,
    "start_time": "2021-09-29T21:56:23.678Z"
   },
   {
    "duration": 13,
    "start_time": "2021-09-29T21:56:23.693Z"
   },
   {
    "duration": 24,
    "start_time": "2021-09-29T21:56:23.709Z"
   },
   {
    "duration": 25,
    "start_time": "2021-09-29T21:56:23.736Z"
   },
   {
    "duration": 49,
    "start_time": "2021-09-29T21:56:23.764Z"
   },
   {
    "duration": 15,
    "start_time": "2021-09-29T21:56:23.818Z"
   },
   {
    "duration": 7,
    "start_time": "2021-09-29T21:56:23.836Z"
   },
   {
    "duration": 18,
    "start_time": "2021-09-29T21:56:23.846Z"
   },
   {
    "duration": 13,
    "start_time": "2021-09-29T21:56:23.867Z"
   },
   {
    "duration": 11,
    "start_time": "2021-09-29T21:56:23.883Z"
   },
   {
    "duration": 7,
    "start_time": "2021-09-29T21:56:23.897Z"
   },
   {
    "duration": 9,
    "start_time": "2021-09-29T21:56:23.907Z"
   },
   {
    "duration": 50,
    "start_time": "2021-09-29T21:56:23.918Z"
   },
   {
    "duration": 14,
    "start_time": "2021-09-29T21:56:23.971Z"
   },
   {
    "duration": 8,
    "start_time": "2021-09-29T21:56:23.988Z"
   },
   {
    "duration": 18,
    "start_time": "2021-09-29T21:56:23.999Z"
   },
   {
    "duration": 14,
    "start_time": "2021-09-29T22:00:20.593Z"
   },
   {
    "duration": 4,
    "start_time": "2021-09-29T22:02:07.652Z"
   },
   {
    "duration": 27,
    "start_time": "2021-09-29T22:02:07.663Z"
   },
   {
    "duration": 26,
    "start_time": "2021-09-29T22:02:07.693Z"
   },
   {
    "duration": 19,
    "start_time": "2021-09-29T22:02:07.723Z"
   },
   {
    "duration": 35,
    "start_time": "2021-09-29T22:02:07.747Z"
   },
   {
    "duration": 24,
    "start_time": "2021-09-29T22:02:07.786Z"
   },
   {
    "duration": 22,
    "start_time": "2021-09-29T22:02:07.814Z"
   },
   {
    "duration": 22,
    "start_time": "2021-09-29T22:02:07.839Z"
   },
   {
    "duration": 22,
    "start_time": "2021-09-29T22:02:07.867Z"
   },
   {
    "duration": 26,
    "start_time": "2021-09-29T22:02:07.893Z"
   },
   {
    "duration": 54,
    "start_time": "2021-09-29T22:02:07.923Z"
   },
   {
    "duration": 21,
    "start_time": "2021-09-29T22:02:07.980Z"
   },
   {
    "duration": 32,
    "start_time": "2021-09-29T22:02:08.004Z"
   },
   {
    "duration": 34,
    "start_time": "2021-09-29T22:02:08.040Z"
   },
   {
    "duration": 21,
    "start_time": "2021-09-29T22:02:08.077Z"
   },
   {
    "duration": 21,
    "start_time": "2021-09-29T22:02:08.101Z"
   },
   {
    "duration": 26,
    "start_time": "2021-09-29T22:02:08.126Z"
   },
   {
    "duration": 25,
    "start_time": "2021-09-29T22:02:08.155Z"
   },
   {
    "duration": 29,
    "start_time": "2021-09-29T22:02:08.184Z"
   },
   {
    "duration": 36,
    "start_time": "2021-09-29T22:02:08.216Z"
   },
   {
    "duration": 30,
    "start_time": "2021-09-29T22:02:08.256Z"
   },
   {
    "duration": 58,
    "start_time": "2021-09-29T22:02:08.289Z"
   },
   {
    "duration": 33,
    "start_time": "2021-09-29T22:02:08.350Z"
   },
   {
    "duration": 10,
    "start_time": "2021-09-29T22:02:08.392Z"
   },
   {
    "duration": 27,
    "start_time": "2021-09-29T22:02:08.407Z"
   },
   {
    "duration": 18,
    "start_time": "2021-09-29T22:02:08.438Z"
   },
   {
    "duration": 22,
    "start_time": "2021-09-29T22:02:08.460Z"
   },
   {
    "duration": 20,
    "start_time": "2021-09-29T22:02:08.485Z"
   },
   {
    "duration": 23,
    "start_time": "2021-09-29T22:02:08.509Z"
   },
   {
    "duration": 29,
    "start_time": "2021-09-29T22:02:08.536Z"
   },
   {
    "duration": 23,
    "start_time": "2021-09-29T22:02:08.569Z"
   },
   {
    "duration": 10,
    "start_time": "2021-09-29T22:02:08.595Z"
   },
   {
    "duration": 56,
    "start_time": "2021-09-29T22:02:08.609Z"
   },
   {
    "duration": 41,
    "start_time": "2021-09-29T22:02:08.669Z"
   },
   {
    "duration": 66,
    "start_time": "2021-09-29T22:02:08.714Z"
   },
   {
    "duration": 397,
    "start_time": "2021-09-29T22:02:08.784Z"
   },
   {
    "duration": 40,
    "start_time": "2021-09-29T22:02:09.185Z"
   },
   {
    "duration": 1053,
    "start_time": "2021-09-29T22:02:09.229Z"
   },
   {
    "duration": 596,
    "start_time": "2021-09-29T22:04:54.606Z"
   },
   {
    "duration": 601,
    "start_time": "2021-09-29T22:05:07.309Z"
   },
   {
    "duration": 599,
    "start_time": "2021-09-29T22:05:29.073Z"
   },
   {
    "duration": 22,
    "start_time": "2021-09-29T22:05:30.894Z"
   },
   {
    "duration": 595,
    "start_time": "2021-09-29T22:05:44.045Z"
   },
   {
    "duration": 14,
    "start_time": "2021-09-29T22:05:53.252Z"
   },
   {
    "duration": 607,
    "start_time": "2021-09-29T22:11:13.185Z"
   },
   {
    "duration": 14,
    "start_time": "2021-09-29T22:11:18.208Z"
   },
   {
    "duration": 340,
    "start_time": "2021-09-29T22:12:58.389Z"
   },
   {
    "duration": 5,
    "start_time": "2021-09-29T22:14:08.682Z"
   },
   {
    "duration": 335,
    "start_time": "2021-09-29T22:14:12.938Z"
   },
   {
    "duration": 375,
    "start_time": "2021-09-29T22:15:54.407Z"
   },
   {
    "duration": 394,
    "start_time": "2021-09-29T22:16:03.943Z"
   },
   {
    "duration": 380,
    "start_time": "2021-09-29T22:16:10.890Z"
   },
   {
    "duration": 875,
    "start_time": "2021-09-29T22:16:35.371Z"
   },
   {
    "duration": 643,
    "start_time": "2021-09-29T22:17:04.878Z"
   },
   {
    "duration": 10,
    "start_time": "2021-09-29T22:19:30.151Z"
   },
   {
    "duration": 14,
    "start_time": "2021-09-29T22:20:42.260Z"
   },
   {
    "duration": 14,
    "start_time": "2021-09-29T22:20:43.009Z"
   },
   {
    "duration": 12,
    "start_time": "2021-09-29T22:20:53.693Z"
   },
   {
    "duration": 11,
    "start_time": "2021-09-29T22:20:59.109Z"
   },
   {
    "duration": 13,
    "start_time": "2021-09-29T22:21:58.465Z"
   },
   {
    "duration": 12,
    "start_time": "2021-09-29T22:21:59.111Z"
   },
   {
    "duration": 12,
    "start_time": "2021-09-29T22:21:59.528Z"
   },
   {
    "duration": 5,
    "start_time": "2021-09-29T22:22:18.696Z"
   },
   {
    "duration": 5,
    "start_time": "2021-09-29T22:22:24.958Z"
   },
   {
    "duration": 6,
    "start_time": "2021-09-29T22:23:31.357Z"
   },
   {
    "duration": 21,
    "start_time": "2021-09-29T22:23:46.666Z"
   },
   {
    "duration": 11,
    "start_time": "2021-09-29T22:23:52.783Z"
   },
   {
    "duration": 6,
    "start_time": "2021-09-29T22:24:27.553Z"
   },
   {
    "duration": 564,
    "start_time": "2021-09-29T22:26:18.158Z"
   },
   {
    "duration": 442,
    "start_time": "2021-09-29T22:27:43.428Z"
   },
   {
    "duration": 413,
    "start_time": "2021-09-29T22:27:51.505Z"
   },
   {
    "duration": 399,
    "start_time": "2021-09-29T22:27:58.171Z"
   },
   {
    "duration": 406,
    "start_time": "2021-09-29T22:28:03.490Z"
   },
   {
    "duration": 462,
    "start_time": "2021-09-29T22:28:18.795Z"
   },
   {
    "duration": 484,
    "start_time": "2021-09-29T22:28:33.977Z"
   },
   {
    "duration": 487,
    "start_time": "2021-09-29T22:28:45.322Z"
   },
   {
    "duration": 489,
    "start_time": "2021-09-29T22:30:06.279Z"
   },
   {
    "duration": 14,
    "start_time": "2021-09-29T22:33:51.477Z"
   },
   {
    "duration": 15,
    "start_time": "2021-09-29T22:34:34.245Z"
   },
   {
    "duration": 11,
    "start_time": "2021-09-29T22:35:40.682Z"
   },
   {
    "duration": 12,
    "start_time": "2021-09-29T22:36:31.777Z"
   },
   {
    "duration": 12,
    "start_time": "2021-09-29T22:37:00.845Z"
   },
   {
    "duration": 27,
    "start_time": "2021-09-29T22:39:08.842Z"
   },
   {
    "duration": 14,
    "start_time": "2021-09-29T22:39:54.567Z"
   },
   {
    "duration": 8,
    "start_time": "2021-09-29T22:49:06.364Z"
   },
   {
    "duration": 12,
    "start_time": "2021-09-29T22:49:17.114Z"
   },
   {
    "duration": 4,
    "start_time": "2021-09-30T00:07:52.746Z"
   },
   {
    "duration": 22,
    "start_time": "2021-09-30T00:07:52.753Z"
   },
   {
    "duration": 15,
    "start_time": "2021-09-30T00:07:52.778Z"
   },
   {
    "duration": 7,
    "start_time": "2021-09-30T00:07:52.822Z"
   },
   {
    "duration": 18,
    "start_time": "2021-09-30T00:07:52.832Z"
   },
   {
    "duration": 14,
    "start_time": "2021-09-30T00:07:52.853Z"
   },
   {
    "duration": 10,
    "start_time": "2021-09-30T00:07:52.898Z"
   },
   {
    "duration": 13,
    "start_time": "2021-09-30T00:07:52.910Z"
   },
   {
    "duration": 15,
    "start_time": "2021-09-30T00:07:52.926Z"
   },
   {
    "duration": 23,
    "start_time": "2021-09-30T00:07:52.943Z"
   },
   {
    "duration": 16,
    "start_time": "2021-09-30T00:07:52.968Z"
   },
   {
    "duration": 7,
    "start_time": "2021-09-30T00:07:52.987Z"
   },
   {
    "duration": 19,
    "start_time": "2021-09-30T00:07:52.997Z"
   },
   {
    "duration": 38,
    "start_time": "2021-09-30T00:07:53.019Z"
   },
   {
    "duration": 9,
    "start_time": "2021-09-30T00:07:53.060Z"
   },
   {
    "duration": 8,
    "start_time": "2021-09-30T00:07:53.071Z"
   },
   {
    "duration": 12,
    "start_time": "2021-09-30T00:07:53.082Z"
   },
   {
    "duration": 9,
    "start_time": "2021-09-30T00:07:53.096Z"
   },
   {
    "duration": 51,
    "start_time": "2021-09-30T00:07:53.109Z"
   },
   {
    "duration": 20,
    "start_time": "2021-09-30T00:07:53.163Z"
   },
   {
    "duration": 22,
    "start_time": "2021-09-30T00:07:53.186Z"
   },
   {
    "duration": 58,
    "start_time": "2021-09-30T00:07:53.210Z"
   },
   {
    "duration": 24,
    "start_time": "2021-09-30T00:07:53.270Z"
   },
   {
    "duration": 22,
    "start_time": "2021-09-30T00:07:53.297Z"
   },
   {
    "duration": 36,
    "start_time": "2021-09-30T00:07:53.321Z"
   },
   {
    "duration": 12,
    "start_time": "2021-09-30T00:07:53.360Z"
   },
   {
    "duration": 16,
    "start_time": "2021-09-30T00:07:53.374Z"
   },
   {
    "duration": 9,
    "start_time": "2021-09-30T00:07:53.392Z"
   },
   {
    "duration": 12,
    "start_time": "2021-09-30T00:07:53.403Z"
   },
   {
    "duration": 7,
    "start_time": "2021-09-30T00:07:53.417Z"
   },
   {
    "duration": 43,
    "start_time": "2021-09-30T00:07:53.426Z"
   },
   {
    "duration": 23,
    "start_time": "2021-09-30T00:07:53.472Z"
   },
   {
    "duration": 21,
    "start_time": "2021-09-30T00:07:53.497Z"
   },
   {
    "duration": 251,
    "start_time": "2021-09-30T00:07:53.521Z"
   },
   {
    "duration": 9,
    "start_time": "2021-09-30T00:07:53.777Z"
   },
   {
    "duration": 27,
    "start_time": "2021-09-30T00:07:53.789Z"
   },
   {
    "duration": 613,
    "start_time": "2021-09-30T00:07:53.818Z"
   },
   {
    "duration": 26,
    "start_time": "2021-09-30T00:07:54.434Z"
   },
   {
    "duration": 20,
    "start_time": "2021-09-30T00:07:54.462Z"
   },
   {
    "duration": 10,
    "start_time": "2021-09-30T00:07:54.484Z"
   },
   {
    "duration": 8,
    "start_time": "2021-09-30T00:07:54.497Z"
   },
   {
    "duration": 637,
    "start_time": "2021-09-30T00:07:54.507Z"
   },
   {
    "duration": 18,
    "start_time": "2021-09-30T00:07:55.147Z"
   },
   {
    "duration": 31,
    "start_time": "2021-09-30T00:11:45.941Z"
   },
   {
    "duration": 33,
    "start_time": "2021-09-30T00:12:30.004Z"
   },
   {
    "duration": 360,
    "start_time": "2021-09-30T00:31:13.477Z"
   },
   {
    "duration": 14,
    "start_time": "2021-09-30T00:31:26.101Z"
   },
   {
    "duration": 1032,
    "start_time": "2021-09-30T19:20:53.929Z"
   },
   {
    "duration": 20,
    "start_time": "2021-09-30T19:20:54.964Z"
   },
   {
    "duration": 20,
    "start_time": "2021-09-30T19:20:54.987Z"
   },
   {
    "duration": 11,
    "start_time": "2021-09-30T19:20:55.010Z"
   },
   {
    "duration": 51,
    "start_time": "2021-09-30T19:20:55.024Z"
   },
   {
    "duration": 11,
    "start_time": "2021-09-30T19:20:55.078Z"
   },
   {
    "duration": 14,
    "start_time": "2021-09-30T19:20:55.092Z"
   },
   {
    "duration": 13,
    "start_time": "2021-09-30T19:20:55.111Z"
   },
   {
    "duration": 29,
    "start_time": "2021-09-30T19:20:55.157Z"
   },
   {
    "duration": 23,
    "start_time": "2021-09-30T19:20:55.190Z"
   },
   {
    "duration": 46,
    "start_time": "2021-09-30T19:20:55.216Z"
   },
   {
    "duration": 8,
    "start_time": "2021-09-30T19:20:55.265Z"
   },
   {
    "duration": 21,
    "start_time": "2021-09-30T19:20:55.276Z"
   },
   {
    "duration": 13,
    "start_time": "2021-09-30T19:20:55.300Z"
   },
   {
    "duration": 9,
    "start_time": "2021-09-30T19:20:55.316Z"
   },
   {
    "duration": 9,
    "start_time": "2021-09-30T19:20:55.360Z"
   },
   {
    "duration": 12,
    "start_time": "2021-09-30T19:20:55.372Z"
   },
   {
    "duration": 10,
    "start_time": "2021-09-30T19:20:55.387Z"
   },
   {
    "duration": 8,
    "start_time": "2021-09-30T19:20:55.399Z"
   },
   {
    "duration": 55,
    "start_time": "2021-09-30T19:20:55.409Z"
   },
   {
    "duration": 14,
    "start_time": "2021-09-30T19:20:55.466Z"
   },
   {
    "duration": 43,
    "start_time": "2021-09-30T19:20:55.482Z"
   },
   {
    "duration": 11,
    "start_time": "2021-09-30T19:20:55.531Z"
   },
   {
    "duration": 5,
    "start_time": "2021-09-30T19:20:55.545Z"
   },
   {
    "duration": 18,
    "start_time": "2021-09-30T19:20:55.556Z"
   },
   {
    "duration": 12,
    "start_time": "2021-09-30T19:20:55.576Z"
   },
   {
    "duration": 10,
    "start_time": "2021-09-30T19:20:55.591Z"
   },
   {
    "duration": 6,
    "start_time": "2021-09-30T19:20:55.604Z"
   },
   {
    "duration": 6,
    "start_time": "2021-09-30T19:20:55.612Z"
   },
   {
    "duration": 37,
    "start_time": "2021-09-30T19:20:55.621Z"
   },
   {
    "duration": 15,
    "start_time": "2021-09-30T19:20:55.660Z"
   },
   {
    "duration": 23,
    "start_time": "2021-09-30T19:20:55.678Z"
   },
   {
    "duration": 58,
    "start_time": "2021-09-30T19:20:55.704Z"
   },
   {
    "duration": 237,
    "start_time": "2021-09-30T19:20:55.764Z"
   },
   {
    "duration": 32,
    "start_time": "2021-09-30T19:20:56.003Z"
   },
   {
    "duration": 615,
    "start_time": "2021-09-30T19:20:56.037Z"
   },
   {
    "duration": 14,
    "start_time": "2021-09-30T19:20:56.655Z"
   },
   {
    "duration": 23,
    "start_time": "2021-09-30T19:20:56.672Z"
   },
   {
    "duration": 24,
    "start_time": "2021-09-30T19:20:56.697Z"
   },
   {
    "duration": 7,
    "start_time": "2021-09-30T19:20:56.757Z"
   },
   {
    "duration": 514,
    "start_time": "2021-09-30T19:20:56.767Z"
   },
   {
    "duration": 12,
    "start_time": "2021-09-30T19:20:57.285Z"
   },
   {
    "duration": 18,
    "start_time": "2021-09-30T19:20:57.300Z"
   },
   {
    "duration": 4,
    "start_time": "2021-09-30T20:07:17.582Z"
   },
   {
    "duration": 27,
    "start_time": "2021-09-30T20:07:17.592Z"
   },
   {
    "duration": 14,
    "start_time": "2021-09-30T20:07:17.622Z"
   },
   {
    "duration": 22,
    "start_time": "2021-09-30T20:07:17.639Z"
   },
   {
    "duration": 30,
    "start_time": "2021-09-30T20:07:17.664Z"
   },
   {
    "duration": 28,
    "start_time": "2021-09-30T20:07:17.695Z"
   },
   {
    "duration": 18,
    "start_time": "2021-09-30T20:07:17.725Z"
   },
   {
    "duration": 15,
    "start_time": "2021-09-30T20:07:17.745Z"
   },
   {
    "duration": 30,
    "start_time": "2021-09-30T20:07:17.762Z"
   },
   {
    "duration": 15,
    "start_time": "2021-09-30T20:07:17.796Z"
   },
   {
    "duration": 36,
    "start_time": "2021-09-30T20:07:17.814Z"
   },
   {
    "duration": 16,
    "start_time": "2021-09-30T20:07:17.852Z"
   },
   {
    "duration": 25,
    "start_time": "2021-09-30T20:07:17.871Z"
   },
   {
    "duration": 15,
    "start_time": "2021-09-30T20:07:17.898Z"
   },
   {
    "duration": 20,
    "start_time": "2021-09-30T20:07:17.915Z"
   },
   {
    "duration": 12,
    "start_time": "2021-09-30T20:07:17.938Z"
   },
   {
    "duration": 9,
    "start_time": "2021-09-30T20:07:17.952Z"
   },
   {
    "duration": 15,
    "start_time": "2021-09-30T20:07:17.963Z"
   },
   {
    "duration": 15,
    "start_time": "2021-09-30T20:07:17.981Z"
   },
   {
    "duration": 9,
    "start_time": "2021-09-30T20:07:17.998Z"
   },
   {
    "duration": 18,
    "start_time": "2021-09-30T20:07:18.009Z"
   },
   {
    "duration": 56,
    "start_time": "2021-09-30T20:07:18.029Z"
   },
   {
    "duration": 17,
    "start_time": "2021-09-30T20:07:18.087Z"
   },
   {
    "duration": 7,
    "start_time": "2021-09-30T20:07:18.106Z"
   },
   {
    "duration": 15,
    "start_time": "2021-09-30T20:07:18.115Z"
   },
   {
    "duration": 13,
    "start_time": "2021-09-30T20:07:18.132Z"
   },
   {
    "duration": 14,
    "start_time": "2021-09-30T20:07:18.148Z"
   },
   {
    "duration": 12,
    "start_time": "2021-09-30T20:07:18.169Z"
   },
   {
    "duration": 21,
    "start_time": "2021-09-30T20:07:18.185Z"
   },
   {
    "duration": 10,
    "start_time": "2021-09-30T20:07:18.209Z"
   },
   {
    "duration": 38,
    "start_time": "2021-09-30T20:07:18.221Z"
   },
   {
    "duration": 27,
    "start_time": "2021-09-30T20:07:18.261Z"
   },
   {
    "duration": 23,
    "start_time": "2021-09-30T20:07:18.291Z"
   },
   {
    "duration": 273,
    "start_time": "2021-09-30T20:07:18.317Z"
   },
   {
    "duration": 32,
    "start_time": "2021-09-30T20:07:18.592Z"
   },
   {
    "duration": 611,
    "start_time": "2021-09-30T20:07:18.626Z"
   },
   {
    "duration": 19,
    "start_time": "2021-09-30T20:07:19.240Z"
   },
   {
    "duration": 21,
    "start_time": "2021-09-30T20:07:19.262Z"
   },
   {
    "duration": 16,
    "start_time": "2021-09-30T20:07:19.285Z"
   },
   {
    "duration": 7,
    "start_time": "2021-09-30T20:07:19.304Z"
   },
   {
    "duration": 514,
    "start_time": "2021-09-30T20:07:19.313Z"
   },
   {
    "duration": 12,
    "start_time": "2021-09-30T20:07:19.829Z"
   },
   {
    "duration": 14,
    "start_time": "2021-09-30T20:07:19.858Z"
   },
   {
    "duration": 17,
    "start_time": "2021-09-30T20:15:27.363Z"
   },
   {
    "duration": 9,
    "start_time": "2021-09-30T20:17:05.112Z"
   },
   {
    "duration": 7,
    "start_time": "2021-09-30T20:28:19.230Z"
   },
   {
    "duration": 6,
    "start_time": "2021-09-30T20:29:06.836Z"
   },
   {
    "duration": 6,
    "start_time": "2021-09-30T20:29:23.399Z"
   },
   {
    "duration": 6,
    "start_time": "2021-09-30T20:29:31.422Z"
   },
   {
    "duration": 466,
    "start_time": "2021-09-30T20:36:57.483Z"
   },
   {
    "duration": 25,
    "start_time": "2021-09-30T21:06:38.965Z"
   },
   {
    "duration": 19,
    "start_time": "2021-09-30T21:07:02.417Z"
   },
   {
    "duration": 514,
    "start_time": "2021-09-30T21:16:38.309Z"
   },
   {
    "duration": 551,
    "start_time": "2021-09-30T21:17:06.347Z"
   },
   {
    "duration": 561,
    "start_time": "2021-09-30T21:17:21.954Z"
   },
   {
    "duration": 559,
    "start_time": "2021-09-30T21:17:52.804Z"
   },
   {
    "duration": 574,
    "start_time": "2021-09-30T21:19:27.652Z"
   },
   {
    "duration": 690,
    "start_time": "2021-10-01T00:01:26.498Z"
   },
   {
    "duration": 17,
    "start_time": "2021-10-01T00:01:27.190Z"
   },
   {
    "duration": 31,
    "start_time": "2021-10-01T00:01:27.210Z"
   },
   {
    "duration": 7,
    "start_time": "2021-10-01T00:01:27.244Z"
   },
   {
    "duration": 20,
    "start_time": "2021-10-01T00:01:27.253Z"
   },
   {
    "duration": 13,
    "start_time": "2021-10-01T00:01:27.275Z"
   },
   {
    "duration": 8,
    "start_time": "2021-10-01T00:01:27.290Z"
   },
   {
    "duration": 10,
    "start_time": "2021-10-01T00:01:27.301Z"
   },
   {
    "duration": 24,
    "start_time": "2021-10-01T00:01:27.313Z"
   },
   {
    "duration": 12,
    "start_time": "2021-10-01T00:01:27.339Z"
   },
   {
    "duration": 25,
    "start_time": "2021-10-01T00:01:27.353Z"
   },
   {
    "duration": 4,
    "start_time": "2021-10-01T00:01:27.380Z"
   },
   {
    "duration": 24,
    "start_time": "2021-10-01T00:01:27.386Z"
   },
   {
    "duration": 26,
    "start_time": "2021-10-01T00:01:27.412Z"
   },
   {
    "duration": 13,
    "start_time": "2021-10-01T00:01:27.440Z"
   },
   {
    "duration": 6,
    "start_time": "2021-10-01T00:01:27.454Z"
   },
   {
    "duration": 8,
    "start_time": "2021-10-01T00:01:27.462Z"
   },
   {
    "duration": 9,
    "start_time": "2021-10-01T00:01:27.471Z"
   },
   {
    "duration": 6,
    "start_time": "2021-10-01T00:01:27.481Z"
   },
   {
    "duration": 6,
    "start_time": "2021-10-01T00:01:27.488Z"
   },
   {
    "duration": 9,
    "start_time": "2021-10-01T00:01:27.496Z"
   },
   {
    "duration": 37,
    "start_time": "2021-10-01T00:01:27.506Z"
   },
   {
    "duration": 7,
    "start_time": "2021-10-01T00:01:27.547Z"
   },
   {
    "duration": 5,
    "start_time": "2021-10-01T00:01:27.556Z"
   },
   {
    "duration": 10,
    "start_time": "2021-10-01T00:01:27.563Z"
   },
   {
    "duration": 5,
    "start_time": "2021-10-01T00:01:27.575Z"
   },
   {
    "duration": 10,
    "start_time": "2021-10-01T00:01:27.582Z"
   },
   {
    "duration": 6,
    "start_time": "2021-10-01T00:01:27.593Z"
   },
   {
    "duration": 7,
    "start_time": "2021-10-01T00:01:27.600Z"
   },
   {
    "duration": 9,
    "start_time": "2021-10-01T00:01:27.608Z"
   },
   {
    "duration": 12,
    "start_time": "2021-10-01T00:01:27.618Z"
   },
   {
    "duration": 15,
    "start_time": "2021-10-01T00:01:27.632Z"
   },
   {
    "duration": 33,
    "start_time": "2021-10-01T00:01:27.649Z"
   },
   {
    "duration": 141,
    "start_time": "2021-10-01T00:01:27.683Z"
   },
   {
    "duration": 22,
    "start_time": "2021-10-01T00:01:27.826Z"
   },
   {
    "duration": 363,
    "start_time": "2021-10-01T00:01:27.849Z"
   },
   {
    "duration": 8,
    "start_time": "2021-10-01T00:01:28.214Z"
   },
   {
    "duration": 14,
    "start_time": "2021-10-01T00:01:28.224Z"
   },
   {
    "duration": 9,
    "start_time": "2021-10-01T00:01:28.239Z"
   },
   {
    "duration": 8,
    "start_time": "2021-10-01T00:01:28.249Z"
   },
   {
    "duration": 315,
    "start_time": "2021-10-01T00:01:28.277Z"
   },
   {
    "duration": 8,
    "start_time": "2021-10-01T00:01:28.593Z"
   },
   {
    "duration": 15,
    "start_time": "2021-10-01T00:01:28.603Z"
   },
   {
    "duration": 19,
    "start_time": "2021-10-01T00:01:28.620Z"
   },
   {
    "duration": 7,
    "start_time": "2021-10-01T00:01:28.641Z"
   },
   {
    "duration": 294,
    "start_time": "2021-10-01T00:01:28.650Z"
   },
   {
    "duration": 420,
    "start_time": "2021-10-01T00:01:28.946Z"
   },
   {
    "duration": 902,
    "start_time": "2021-10-01T06:05:20.249Z"
   },
   {
    "duration": 16,
    "start_time": "2021-10-01T06:05:21.153Z"
   },
   {
    "duration": 20,
    "start_time": "2021-10-01T06:05:21.172Z"
   },
   {
    "duration": 7,
    "start_time": "2021-10-01T06:05:21.195Z"
   },
   {
    "duration": 27,
    "start_time": "2021-10-01T06:05:21.205Z"
   },
   {
    "duration": 33,
    "start_time": "2021-10-01T06:05:21.234Z"
   },
   {
    "duration": 12,
    "start_time": "2021-10-01T06:05:21.270Z"
   },
   {
    "duration": 10,
    "start_time": "2021-10-01T06:05:21.286Z"
   },
   {
    "duration": 24,
    "start_time": "2021-10-01T06:05:21.299Z"
   },
   {
    "duration": 48,
    "start_time": "2021-10-01T06:05:21.325Z"
   },
   {
    "duration": 16,
    "start_time": "2021-10-01T06:05:21.376Z"
   },
   {
    "duration": 8,
    "start_time": "2021-10-01T06:05:21.396Z"
   },
   {
    "duration": 54,
    "start_time": "2021-10-01T06:05:21.408Z"
   },
   {
    "duration": 14,
    "start_time": "2021-10-01T06:05:21.465Z"
   },
   {
    "duration": 12,
    "start_time": "2021-10-01T06:05:21.482Z"
   },
   {
    "duration": 11,
    "start_time": "2021-10-01T06:05:21.496Z"
   },
   {
    "duration": 11,
    "start_time": "2021-10-01T06:05:21.510Z"
   },
   {
    "duration": 45,
    "start_time": "2021-10-01T06:05:21.523Z"
   },
   {
    "duration": 8,
    "start_time": "2021-10-01T06:05:21.570Z"
   },
   {
    "duration": 9,
    "start_time": "2021-10-01T06:05:21.581Z"
   },
   {
    "duration": 11,
    "start_time": "2021-10-01T06:05:21.593Z"
   },
   {
    "duration": 34,
    "start_time": "2021-10-01T06:05:21.607Z"
   },
   {
    "duration": 25,
    "start_time": "2021-10-01T06:05:21.646Z"
   },
   {
    "duration": 5,
    "start_time": "2021-10-01T06:05:21.675Z"
   },
   {
    "duration": 15,
    "start_time": "2021-10-01T06:05:21.682Z"
   },
   {
    "duration": 10,
    "start_time": "2021-10-01T06:05:21.699Z"
   },
   {
    "duration": 10,
    "start_time": "2021-10-01T06:05:21.712Z"
   },
   {
    "duration": 39,
    "start_time": "2021-10-01T06:05:21.725Z"
   },
   {
    "duration": 6,
    "start_time": "2021-10-01T06:05:21.767Z"
   },
   {
    "duration": 9,
    "start_time": "2021-10-01T06:05:21.775Z"
   },
   {
    "duration": 15,
    "start_time": "2021-10-01T06:05:21.786Z"
   },
   {
    "duration": 70,
    "start_time": "2021-10-01T06:05:21.804Z"
   },
   {
    "duration": 22,
    "start_time": "2021-10-01T06:05:21.877Z"
   },
   {
    "duration": 250,
    "start_time": "2021-10-01T06:05:21.901Z"
   },
   {
    "duration": 38,
    "start_time": "2021-10-01T06:05:22.154Z"
   },
   {
    "duration": 632,
    "start_time": "2021-10-01T06:05:22.194Z"
   },
   {
    "duration": 14,
    "start_time": "2021-10-01T06:05:22.828Z"
   },
   {
    "duration": 21,
    "start_time": "2021-10-01T06:05:22.862Z"
   },
   {
    "duration": 12,
    "start_time": "2021-10-01T06:05:22.886Z"
   },
   {
    "duration": 8,
    "start_time": "2021-10-01T06:05:22.901Z"
   },
   {
    "duration": 555,
    "start_time": "2021-10-01T06:05:22.912Z"
   },
   {
    "duration": 11,
    "start_time": "2021-10-01T06:05:23.469Z"
   },
   {
    "duration": 37,
    "start_time": "2021-10-01T06:05:23.482Z"
   },
   {
    "duration": 16,
    "start_time": "2021-10-01T06:05:23.521Z"
   },
   {
    "duration": 23,
    "start_time": "2021-10-01T06:05:23.540Z"
   },
   {
    "duration": 497,
    "start_time": "2021-10-01T06:05:23.565Z"
   },
   {
    "duration": 571,
    "start_time": "2021-10-01T06:05:24.064Z"
   },
   {
    "duration": 17,
    "start_time": "2021-10-01T08:09:00.236Z"
   },
   {
    "duration": 26,
    "start_time": "2021-10-01T08:11:18.156Z"
   },
   {
    "duration": 27,
    "start_time": "2021-10-01T08:11:26.714Z"
   },
   {
    "duration": 16,
    "start_time": "2021-10-01T08:12:37.750Z"
   },
   {
    "duration": 29,
    "start_time": "2021-10-01T08:13:40.527Z"
   },
   {
    "duration": 23,
    "start_time": "2021-10-01T08:15:46.263Z"
   },
   {
    "duration": 13,
    "start_time": "2021-10-01T08:16:38.270Z"
   },
   {
    "duration": 6,
    "start_time": "2021-10-01T08:16:51.259Z"
   },
   {
    "duration": 77,
    "start_time": "2021-10-01T08:18:12.622Z"
   },
   {
    "duration": 15,
    "start_time": "2021-10-01T08:18:25.306Z"
   },
   {
    "duration": 25,
    "start_time": "2021-10-01T08:19:49.823Z"
   },
   {
    "duration": 5,
    "start_time": "2021-10-01T08:21:06.290Z"
   },
   {
    "duration": 25,
    "start_time": "2021-10-01T08:23:32.608Z"
   },
   {
    "duration": 13,
    "start_time": "2021-10-01T08:24:21.556Z"
   },
   {
    "duration": 24,
    "start_time": "2021-10-01T08:26:01.583Z"
   },
   {
    "duration": 17,
    "start_time": "2021-10-01T08:26:15.711Z"
   },
   {
    "duration": 511,
    "start_time": "2021-10-01T08:29:34.435Z"
   },
   {
    "duration": 25,
    "start_time": "2021-10-01T08:29:39.990Z"
   },
   {
    "duration": 12,
    "start_time": "2021-10-01T08:29:40.493Z"
   },
   {
    "duration": 21,
    "start_time": "2021-10-01T08:29:40.933Z"
   },
   {
    "duration": 514,
    "start_time": "2021-10-01T08:29:41.653Z"
   },
   {
    "duration": 506,
    "start_time": "2021-10-01T08:30:32.021Z"
   },
   {
    "duration": 495,
    "start_time": "2021-10-01T08:30:39.108Z"
   },
   {
    "duration": 14,
    "start_time": "2021-10-01T08:34:30.099Z"
   },
   {
    "duration": 17,
    "start_time": "2021-10-01T08:34:42.078Z"
   },
   {
    "duration": 11,
    "start_time": "2021-10-01T08:35:25.515Z"
   },
   {
    "duration": 20,
    "start_time": "2021-10-01T08:35:28.835Z"
   },
   {
    "duration": 16,
    "start_time": "2021-10-01T08:35:35.731Z"
   },
   {
    "duration": 13,
    "start_time": "2021-10-01T08:36:13.438Z"
   },
   {
    "duration": 24,
    "start_time": "2021-10-01T10:15:22.637Z"
   },
   {
    "duration": 11,
    "start_time": "2021-10-01T10:17:51.297Z"
   },
   {
    "duration": 511,
    "start_time": "2021-10-01T10:19:55.189Z"
   },
   {
    "duration": 14,
    "start_time": "2021-10-01T10:20:11.413Z"
   },
   {
    "duration": 510,
    "start_time": "2021-10-01T10:21:34.297Z"
   },
   {
    "duration": 627,
    "start_time": "2021-10-01T10:22:23.455Z"
   },
   {
    "duration": 529,
    "start_time": "2021-10-01T10:23:05.884Z"
   },
   {
    "duration": 18,
    "start_time": "2021-10-01T10:23:41.730Z"
   },
   {
    "duration": 5,
    "start_time": "2021-10-01T10:23:57.770Z"
   },
   {
    "duration": 23,
    "start_time": "2021-10-01T10:23:57.781Z"
   },
   {
    "duration": 19,
    "start_time": "2021-10-01T10:23:57.808Z"
   },
   {
    "duration": 10,
    "start_time": "2021-10-01T10:23:57.832Z"
   },
   {
    "duration": 25,
    "start_time": "2021-10-01T10:23:57.863Z"
   },
   {
    "duration": 12,
    "start_time": "2021-10-01T10:23:57.892Z"
   },
   {
    "duration": 56,
    "start_time": "2021-10-01T10:23:57.907Z"
   },
   {
    "duration": 13,
    "start_time": "2021-10-01T10:23:57.966Z"
   },
   {
    "duration": 37,
    "start_time": "2021-10-01T10:23:57.983Z"
   },
   {
    "duration": 21,
    "start_time": "2021-10-01T10:23:58.023Z"
   },
   {
    "duration": 16,
    "start_time": "2021-10-01T10:23:58.062Z"
   },
   {
    "duration": 16,
    "start_time": "2021-10-01T10:23:58.081Z"
   },
   {
    "duration": 21,
    "start_time": "2021-10-01T10:23:58.100Z"
   },
   {
    "duration": 14,
    "start_time": "2021-10-01T10:23:58.124Z"
   },
   {
    "duration": 27,
    "start_time": "2021-10-01T10:23:58.140Z"
   },
   {
    "duration": 7,
    "start_time": "2021-10-01T10:23:58.170Z"
   },
   {
    "duration": 16,
    "start_time": "2021-10-01T10:23:58.180Z"
   },
   {
    "duration": 18,
    "start_time": "2021-10-01T10:23:58.198Z"
   },
   {
    "duration": 9,
    "start_time": "2021-10-01T10:23:58.218Z"
   },
   {
    "duration": 38,
    "start_time": "2021-10-01T10:23:58.230Z"
   },
   {
    "duration": 12,
    "start_time": "2021-10-01T10:23:58.271Z"
   },
   {
    "duration": 52,
    "start_time": "2021-10-01T10:23:58.285Z"
   },
   {
    "duration": 16,
    "start_time": "2021-10-01T10:23:58.340Z"
   },
   {
    "duration": 11,
    "start_time": "2021-10-01T10:23:58.361Z"
   },
   {
    "duration": 21,
    "start_time": "2021-10-01T10:23:58.376Z"
   },
   {
    "duration": 7,
    "start_time": "2021-10-01T10:23:58.401Z"
   },
   {
    "duration": 10,
    "start_time": "2021-10-01T10:23:58.411Z"
   },
   {
    "duration": 9,
    "start_time": "2021-10-01T10:23:58.423Z"
   },
   {
    "duration": 33,
    "start_time": "2021-10-01T10:23:58.434Z"
   },
   {
    "duration": 11,
    "start_time": "2021-10-01T10:23:58.470Z"
   },
   {
    "duration": 17,
    "start_time": "2021-10-01T10:23:58.484Z"
   },
   {
    "duration": 61,
    "start_time": "2021-10-01T10:23:58.503Z"
   },
   {
    "duration": 24,
    "start_time": "2021-10-01T10:23:58.567Z"
   },
   {
    "duration": 252,
    "start_time": "2021-10-01T10:23:58.593Z"
   },
   {
    "duration": 41,
    "start_time": "2021-10-01T10:23:58.847Z"
   },
   {
    "duration": 730,
    "start_time": "2021-10-01T10:23:58.890Z"
   },
   {
    "duration": 14,
    "start_time": "2021-10-01T10:23:59.622Z"
   },
   {
    "duration": 43,
    "start_time": "2021-10-01T10:23:59.638Z"
   },
   {
    "duration": 10,
    "start_time": "2021-10-01T10:23:59.684Z"
   },
   {
    "duration": 8,
    "start_time": "2021-10-01T10:23:59.697Z"
   },
   {
    "duration": 644,
    "start_time": "2021-10-01T10:23:59.707Z"
   },
   {
    "duration": 18,
    "start_time": "2021-10-01T10:24:00.353Z"
   },
   {
    "duration": 24,
    "start_time": "2021-10-01T10:24:00.373Z"
   },
   {
    "duration": 35,
    "start_time": "2021-10-01T10:24:00.400Z"
   },
   {
    "duration": 21,
    "start_time": "2021-10-01T10:24:00.438Z"
   },
   {
    "duration": 515,
    "start_time": "2021-10-01T10:24:00.462Z"
   },
   {
    "duration": 701,
    "start_time": "2021-10-01T10:24:00.980Z"
   },
   {
    "duration": 28,
    "start_time": "2021-10-01T10:24:01.684Z"
   },
   {
    "duration": 25,
    "start_time": "2021-10-01T10:24:01.715Z"
   },
   {
    "duration": 46,
    "start_time": "2021-10-01T10:24:01.743Z"
   },
   {
    "duration": 38,
    "start_time": "2021-10-01T10:24:01.792Z"
   },
   {
    "duration": 23,
    "start_time": "2021-10-01T10:24:01.833Z"
   },
   {
    "duration": 517,
    "start_time": "2021-10-01T10:24:01.859Z"
   },
   {
    "duration": 15,
    "start_time": "2021-10-01T10:24:05.097Z"
   },
   {
    "duration": 492,
    "start_time": "2021-10-01T10:27:31.975Z"
   },
   {
    "duration": 492,
    "start_time": "2021-10-01T10:27:50.753Z"
   },
   {
    "duration": 486,
    "start_time": "2021-10-01T10:36:03.575Z"
   },
   {
    "duration": 569,
    "start_time": "2021-10-01T10:36:35.830Z"
   },
   {
    "duration": 508,
    "start_time": "2021-10-01T10:36:58.445Z"
   },
   {
    "duration": 18,
    "start_time": "2021-10-01T11:43:51.463Z"
   },
   {
    "duration": 15,
    "start_time": "2021-10-01T11:44:24.399Z"
   },
   {
    "duration": 333,
    "start_time": "2021-10-01T11:46:03.864Z"
   },
   {
    "duration": 17,
    "start_time": "2021-10-01T11:46:13.760Z"
   },
   {
    "duration": 281,
    "start_time": "2021-10-01T11:46:35.425Z"
   },
   {
    "duration": 239,
    "start_time": "2021-10-01T11:46:47.124Z"
   },
   {
    "duration": 18,
    "start_time": "2021-10-01T11:47:11.533Z"
   },
   {
    "duration": 424,
    "start_time": "2021-10-01T11:48:50.331Z"
   },
   {
    "duration": 264,
    "start_time": "2021-10-01T11:50:48.516Z"
   },
   {
    "duration": 3309,
    "start_time": "2021-10-01T11:51:03.094Z"
   },
   {
    "duration": 17023,
    "start_time": "2021-10-01T11:51:55.187Z"
   },
   {
    "duration": 18,
    "start_time": "2021-10-01T11:52:54.196Z"
   },
   {
    "duration": 404,
    "start_time": "2021-10-01T11:52:57.032Z"
   },
   {
    "duration": 602,
    "start_time": "2021-10-01T11:54:21.596Z"
   },
   {
    "duration": 405,
    "start_time": "2021-10-01T11:54:28.091Z"
   },
   {
    "duration": 503,
    "start_time": "2021-10-01T11:54:35.203Z"
   },
   {
    "duration": 551,
    "start_time": "2021-10-01T11:55:07.948Z"
   },
   {
    "duration": 385,
    "start_time": "2021-10-01T11:55:13.765Z"
   },
   {
    "duration": 340,
    "start_time": "2021-10-01T11:56:22.938Z"
   },
   {
    "duration": 343,
    "start_time": "2021-10-01T11:58:03.254Z"
   },
   {
    "duration": 513,
    "start_time": "2021-10-01T11:58:17.351Z"
   },
   {
    "duration": 336,
    "start_time": "2021-10-01T11:58:24.070Z"
   },
   {
    "duration": 8,
    "start_time": "2021-10-01T11:59:00.412Z"
   },
   {
    "duration": 351,
    "start_time": "2021-10-01T12:00:27.478Z"
   },
   {
    "duration": 325,
    "start_time": "2021-10-01T12:00:38.304Z"
   },
   {
    "duration": 6,
    "start_time": "2021-10-01T12:03:01.883Z"
   },
   {
    "duration": 262,
    "start_time": "2021-10-01T12:03:50.050Z"
   },
   {
    "duration": 4,
    "start_time": "2021-10-01T12:04:28.071Z"
   },
   {
    "duration": 5,
    "start_time": "2021-10-01T12:04:37.903Z"
   },
   {
    "duration": 5,
    "start_time": "2021-10-01T12:05:58.707Z"
   },
   {
    "duration": 5,
    "start_time": "2021-10-01T12:06:09.986Z"
   },
   {
    "duration": 9,
    "start_time": "2021-10-01T12:06:49.482Z"
   },
   {
    "duration": 9,
    "start_time": "2021-10-01T12:09:23.165Z"
   },
   {
    "duration": 9,
    "start_time": "2021-10-01T12:09:53.155Z"
   },
   {
    "duration": 8,
    "start_time": "2021-10-01T12:10:03.506Z"
   },
   {
    "duration": 26,
    "start_time": "2021-10-01T12:19:29.671Z"
   },
   {
    "duration": 100,
    "start_time": "2021-10-01T12:20:52.033Z"
   },
   {
    "duration": 8,
    "start_time": "2021-10-01T12:20:55.532Z"
   },
   {
    "duration": 340,
    "start_time": "2021-10-01T12:20:58.020Z"
   },
   {
    "duration": 6,
    "start_time": "2021-10-01T12:21:14.627Z"
   },
   {
    "duration": 18,
    "start_time": "2021-10-01T12:22:11.946Z"
   },
   {
    "duration": 366,
    "start_time": "2021-10-01T12:27:06.245Z"
   },
   {
    "duration": 310,
    "start_time": "2021-10-01T12:27:11.498Z"
   },
   {
    "duration": 367,
    "start_time": "2021-10-01T12:27:17.843Z"
   },
   {
    "duration": 345,
    "start_time": "2021-10-01T12:27:23.525Z"
   },
   {
    "duration": 245,
    "start_time": "2021-10-01T13:14:34.696Z"
   },
   {
    "duration": 8,
    "start_time": "2021-10-01T13:15:28.911Z"
   },
   {
    "duration": 279,
    "start_time": "2021-10-01T13:15:57.245Z"
   },
   {
    "duration": 7,
    "start_time": "2021-10-01T13:16:06.654Z"
   },
   {
    "duration": 7,
    "start_time": "2021-10-01T13:16:34.252Z"
   },
   {
    "duration": 6,
    "start_time": "2021-10-01T13:17:01.570Z"
   },
   {
    "duration": 25,
    "start_time": "2021-10-01T13:28:11.227Z"
   },
   {
    "duration": 19,
    "start_time": "2021-10-01T13:28:12.568Z"
   },
   {
    "duration": 6,
    "start_time": "2021-10-01T13:28:13.261Z"
   },
   {
    "duration": 6,
    "start_time": "2021-10-01T13:28:21.042Z"
   },
   {
    "duration": 485,
    "start_time": "2021-10-01T13:28:26.697Z"
   },
   {
    "duration": 5,
    "start_time": "2021-10-01T13:30:51.458Z"
   },
   {
    "duration": 21,
    "start_time": "2021-10-01T13:30:51.466Z"
   },
   {
    "duration": 14,
    "start_time": "2021-10-01T13:30:51.490Z"
   },
   {
    "duration": 12,
    "start_time": "2021-10-01T13:30:51.507Z"
   },
   {
    "duration": 45,
    "start_time": "2021-10-01T13:30:51.521Z"
   },
   {
    "duration": 11,
    "start_time": "2021-10-01T13:30:51.569Z"
   },
   {
    "duration": 13,
    "start_time": "2021-10-01T13:30:51.583Z"
   },
   {
    "duration": 18,
    "start_time": "2021-10-01T13:30:51.600Z"
   },
   {
    "duration": 53,
    "start_time": "2021-10-01T13:30:51.621Z"
   },
   {
    "duration": 20,
    "start_time": "2021-10-01T13:30:51.677Z"
   },
   {
    "duration": 21,
    "start_time": "2021-10-01T13:30:51.699Z"
   },
   {
    "duration": 40,
    "start_time": "2021-10-01T13:30:51.722Z"
   },
   {
    "duration": 20,
    "start_time": "2021-10-01T13:30:51.765Z"
   },
   {
    "duration": 12,
    "start_time": "2021-10-01T13:30:51.788Z"
   },
   {
    "duration": 17,
    "start_time": "2021-10-01T13:30:51.802Z"
   },
   {
    "duration": 11,
    "start_time": "2021-10-01T13:30:51.822Z"
   },
   {
    "duration": 38,
    "start_time": "2021-10-01T13:30:51.835Z"
   },
   {
    "duration": 9,
    "start_time": "2021-10-01T13:30:51.876Z"
   },
   {
    "duration": 8,
    "start_time": "2021-10-01T13:30:51.887Z"
   },
   {
    "duration": 13,
    "start_time": "2021-10-01T13:30:51.898Z"
   },
   {
    "duration": 16,
    "start_time": "2021-10-01T13:30:51.914Z"
   },
   {
    "duration": 58,
    "start_time": "2021-10-01T13:30:51.932Z"
   },
   {
    "duration": 13,
    "start_time": "2021-10-01T13:30:51.996Z"
   },
   {
    "duration": 7,
    "start_time": "2021-10-01T13:30:52.012Z"
   },
   {
    "duration": 15,
    "start_time": "2021-10-01T13:30:52.022Z"
   },
   {
    "duration": 8,
    "start_time": "2021-10-01T13:30:52.040Z"
   },
   {
    "duration": 15,
    "start_time": "2021-10-01T13:30:52.051Z"
   },
   {
    "duration": 8,
    "start_time": "2021-10-01T13:30:52.069Z"
   },
   {
    "duration": 11,
    "start_time": "2021-10-01T13:30:52.079Z"
   },
   {
    "duration": 14,
    "start_time": "2021-10-01T13:30:52.093Z"
   },
   {
    "duration": 54,
    "start_time": "2021-10-01T13:30:52.109Z"
   },
   {
    "duration": 27,
    "start_time": "2021-10-01T13:30:52.165Z"
   },
   {
    "duration": 23,
    "start_time": "2021-10-01T13:30:52.194Z"
   },
   {
    "duration": 261,
    "start_time": "2021-10-01T13:30:52.220Z"
   },
   {
    "duration": 33,
    "start_time": "2021-10-01T13:30:52.484Z"
   },
   {
    "duration": 649,
    "start_time": "2021-10-01T13:30:52.520Z"
   },
   {
    "duration": 14,
    "start_time": "2021-10-01T13:30:53.171Z"
   },
   {
    "duration": 27,
    "start_time": "2021-10-01T13:30:53.187Z"
   },
   {
    "duration": 24,
    "start_time": "2021-10-01T13:30:53.217Z"
   },
   {
    "duration": 22,
    "start_time": "2021-10-01T13:30:53.243Z"
   },
   {
    "duration": 531,
    "start_time": "2021-10-01T13:30:53.267Z"
   },
   {
    "duration": 14,
    "start_time": "2021-10-01T13:30:53.800Z"
   },
   {
    "duration": 39,
    "start_time": "2021-10-01T13:30:53.816Z"
   },
   {
    "duration": 9,
    "start_time": "2021-10-01T13:30:53.861Z"
   },
   {
    "duration": 6,
    "start_time": "2021-10-01T13:30:53.873Z"
   },
   {
    "duration": 512,
    "start_time": "2021-10-01T13:30:53.882Z"
   },
   {
    "duration": 562,
    "start_time": "2021-10-01T13:30:54.397Z"
   },
   {
    "duration": 27,
    "start_time": "2021-10-01T13:30:54.962Z"
   },
   {
    "duration": 18,
    "start_time": "2021-10-01T13:30:54.991Z"
   },
   {
    "duration": 16,
    "start_time": "2021-10-01T13:30:55.012Z"
   },
   {
    "duration": 46,
    "start_time": "2021-10-01T13:30:55.031Z"
   },
   {
    "duration": 17,
    "start_time": "2021-10-01T13:30:55.079Z"
   },
   {
    "duration": 524,
    "start_time": "2021-10-01T13:30:55.099Z"
   },
   {
    "duration": 13,
    "start_time": "2021-10-01T13:30:55.625Z"
   },
   {
    "duration": 577,
    "start_time": "2021-10-01T13:30:55.641Z"
   },
   {
    "duration": 23,
    "start_time": "2021-10-01T13:30:56.221Z"
   },
   {
    "duration": 18,
    "start_time": "2021-10-01T13:30:56.261Z"
   },
   {
    "duration": 5,
    "start_time": "2021-10-01T13:30:56.282Z"
   },
   {
    "duration": 8,
    "start_time": "2021-10-01T13:30:56.290Z"
   },
   {
    "duration": 461,
    "start_time": "2021-10-01T13:30:56.301Z"
   },
   {
    "duration": 6,
    "start_time": "2021-10-01T13:36:52.205Z"
   },
   {
    "duration": 7,
    "start_time": "2021-10-01T13:36:59.429Z"
   },
   {
    "duration": 7,
    "start_time": "2021-10-01T13:37:46.152Z"
   },
   {
    "duration": 6,
    "start_time": "2021-10-01T13:38:32.892Z"
   },
   {
    "duration": 6,
    "start_time": "2021-10-01T13:44:35.215Z"
   },
   {
    "duration": 374,
    "start_time": "2021-10-01T13:44:53.651Z"
   },
   {
    "duration": 6,
    "start_time": "2021-10-01T13:44:56.131Z"
   },
   {
    "duration": 7,
    "start_time": "2021-10-01T13:45:42.183Z"
   },
   {
    "duration": 366,
    "start_time": "2021-10-01T13:47:54.917Z"
   },
   {
    "duration": 361,
    "start_time": "2021-10-01T13:48:15.466Z"
   },
   {
    "duration": 256,
    "start_time": "2021-10-01T13:48:29.053Z"
   },
   {
    "duration": 21,
    "start_time": "2021-10-01T13:48:32.283Z"
   },
   {
    "duration": 427,
    "start_time": "2021-10-01T13:48:48.144Z"
   },
   {
    "duration": 404,
    "start_time": "2021-10-01T13:49:11.488Z"
   },
   {
    "duration": 469,
    "start_time": "2021-10-01T13:53:20.033Z"
   },
   {
    "duration": 418,
    "start_time": "2021-10-01T13:53:52.322Z"
   },
   {
    "duration": 409,
    "start_time": "2021-10-01T13:54:24.077Z"
   },
   {
    "duration": 6,
    "start_time": "2021-10-01T13:54:35.181Z"
   },
   {
    "duration": 15,
    "start_time": "2021-10-01T13:59:18.218Z"
   },
   {
    "duration": 17,
    "start_time": "2021-10-01T14:10:34.657Z"
   },
   {
    "duration": 17,
    "start_time": "2021-10-01T14:10:41.376Z"
   },
   {
    "duration": 19,
    "start_time": "2021-10-01T14:10:46.866Z"
   },
   {
    "duration": 21,
    "start_time": "2021-10-01T14:12:02.224Z"
   },
   {
    "duration": 29,
    "start_time": "2021-10-01T14:15:31.759Z"
   },
   {
    "duration": 6,
    "start_time": "2021-10-01T14:15:40.805Z"
   },
   {
    "duration": 6,
    "start_time": "2021-10-01T14:16:03.283Z"
   },
   {
    "duration": 592,
    "start_time": "2021-10-01T14:17:47.735Z"
   },
   {
    "duration": 410,
    "start_time": "2021-10-01T14:19:26.072Z"
   },
   {
    "duration": 6,
    "start_time": "2021-10-01T14:19:30.781Z"
   },
   {
    "duration": 5,
    "start_time": "2021-10-01T14:19:43.585Z"
   },
   {
    "duration": 18,
    "start_time": "2021-10-01T14:19:43.593Z"
   },
   {
    "duration": 15,
    "start_time": "2021-10-01T14:19:43.614Z"
   },
   {
    "duration": 10,
    "start_time": "2021-10-01T14:19:43.632Z"
   },
   {
    "duration": 27,
    "start_time": "2021-10-01T14:19:43.645Z"
   },
   {
    "duration": 11,
    "start_time": "2021-10-01T14:19:43.674Z"
   },
   {
    "duration": 10,
    "start_time": "2021-10-01T14:19:43.688Z"
   },
   {
    "duration": 23,
    "start_time": "2021-10-01T14:19:43.702Z"
   },
   {
    "duration": 17,
    "start_time": "2021-10-01T14:19:43.763Z"
   },
   {
    "duration": 30,
    "start_time": "2021-10-01T14:19:43.782Z"
   },
   {
    "duration": 49,
    "start_time": "2021-10-01T14:19:43.815Z"
   },
   {
    "duration": 23,
    "start_time": "2021-10-01T14:19:43.867Z"
   },
   {
    "duration": 24,
    "start_time": "2021-10-01T14:19:43.892Z"
   },
   {
    "duration": 31,
    "start_time": "2021-10-01T14:19:43.918Z"
   },
   {
    "duration": 26,
    "start_time": "2021-10-01T14:19:43.952Z"
   },
   {
    "duration": 20,
    "start_time": "2021-10-01T14:19:43.980Z"
   },
   {
    "duration": 31,
    "start_time": "2021-10-01T14:19:44.002Z"
   },
   {
    "duration": 18,
    "start_time": "2021-10-01T14:19:44.036Z"
   },
   {
    "duration": 18,
    "start_time": "2021-10-01T14:19:44.057Z"
   },
   {
    "duration": 20,
    "start_time": "2021-10-01T14:19:44.078Z"
   },
   {
    "duration": 25,
    "start_time": "2021-10-01T14:19:44.100Z"
   },
   {
    "duration": 33,
    "start_time": "2021-10-01T14:19:44.127Z"
   },
   {
    "duration": 12,
    "start_time": "2021-10-01T14:19:44.166Z"
   },
   {
    "duration": 22,
    "start_time": "2021-10-01T14:19:44.183Z"
   },
   {
    "duration": 18,
    "start_time": "2021-10-01T14:19:44.209Z"
   },
   {
    "duration": 8,
    "start_time": "2021-10-01T14:19:44.230Z"
   },
   {
    "duration": 12,
    "start_time": "2021-10-01T14:19:44.241Z"
   },
   {
    "duration": 9,
    "start_time": "2021-10-01T14:19:44.256Z"
   },
   {
    "duration": 13,
    "start_time": "2021-10-01T14:19:44.268Z"
   },
   {
    "duration": 10,
    "start_time": "2021-10-01T14:19:44.283Z"
   },
   {
    "duration": 38,
    "start_time": "2021-10-01T14:19:44.297Z"
   },
   {
    "duration": 37,
    "start_time": "2021-10-01T14:19:44.339Z"
   },
   {
    "duration": 37,
    "start_time": "2021-10-01T14:19:44.379Z"
   },
   {
    "duration": 260,
    "start_time": "2021-10-01T14:19:44.424Z"
   },
   {
    "duration": 31,
    "start_time": "2021-10-01T14:19:44.687Z"
   },
   {
    "duration": 778,
    "start_time": "2021-10-01T14:19:44.721Z"
   },
   {
    "duration": 14,
    "start_time": "2021-10-01T14:19:45.502Z"
   },
   {
    "duration": 22,
    "start_time": "2021-10-01T14:19:45.519Z"
   },
   {
    "duration": 21,
    "start_time": "2021-10-01T14:19:45.543Z"
   },
   {
    "duration": 12,
    "start_time": "2021-10-01T14:19:45.567Z"
   },
   {
    "duration": 742,
    "start_time": "2021-10-01T14:19:45.581Z"
   },
   {
    "duration": 13,
    "start_time": "2021-10-01T14:19:46.326Z"
   },
   {
    "duration": 39,
    "start_time": "2021-10-01T14:19:46.342Z"
   },
   {
    "duration": 18,
    "start_time": "2021-10-01T14:19:46.384Z"
   },
   {
    "duration": 15,
    "start_time": "2021-10-01T14:19:46.405Z"
   },
   {
    "duration": 508,
    "start_time": "2021-10-01T14:19:46.423Z"
   },
   {
    "duration": 587,
    "start_time": "2021-10-01T14:19:46.934Z"
   },
   {
    "duration": 45,
    "start_time": "2021-10-01T14:19:47.525Z"
   },
   {
    "duration": 12,
    "start_time": "2021-10-01T14:19:47.573Z"
   },
   {
    "duration": 13,
    "start_time": "2021-10-01T14:19:47.587Z"
   },
   {
    "duration": 15,
    "start_time": "2021-10-01T14:19:47.602Z"
   },
   {
    "duration": 48,
    "start_time": "2021-10-01T14:19:47.620Z"
   },
   {
    "duration": 502,
    "start_time": "2021-10-01T14:19:47.670Z"
   },
   {
    "duration": 14,
    "start_time": "2021-10-01T14:19:48.174Z"
   },
   {
    "duration": 528,
    "start_time": "2021-10-01T14:19:48.191Z"
   },
   {
    "duration": 41,
    "start_time": "2021-10-01T14:19:48.722Z"
   },
   {
    "duration": 23,
    "start_time": "2021-10-01T14:19:48.766Z"
   },
   {
    "duration": 5,
    "start_time": "2021-10-01T14:19:48.791Z"
   },
   {
    "duration": 348,
    "start_time": "2021-10-01T14:19:48.799Z"
   },
   {
    "duration": 15,
    "start_time": "2021-10-01T14:19:49.151Z"
   },
   {
    "duration": 409,
    "start_time": "2021-10-01T14:19:49.169Z"
   },
   {
    "duration": 15,
    "start_time": "2021-10-01T14:19:49.581Z"
   },
   {
    "duration": 398,
    "start_time": "2021-10-01T14:19:49.599Z"
   },
   {
    "duration": 7,
    "start_time": "2021-10-01T14:19:50.000Z"
   },
   {
    "duration": 125,
    "start_time": "2021-10-01T14:19:50.009Z"
   },
   {
    "duration": 109,
    "start_time": "2021-10-01T14:19:50.137Z"
   },
   {
    "duration": 24,
    "start_time": "2021-10-01T14:21:27.921Z"
   },
   {
    "duration": 19,
    "start_time": "2021-10-01T14:21:35.623Z"
   },
   {
    "duration": 27,
    "start_time": "2021-10-01T14:21:51.191Z"
   },
   {
    "duration": 897,
    "start_time": "2021-10-01T14:23:47.780Z"
   },
   {
    "duration": 17,
    "start_time": "2021-10-01T14:23:48.680Z"
   },
   {
    "duration": 16,
    "start_time": "2021-10-01T14:23:48.700Z"
   },
   {
    "duration": 13,
    "start_time": "2021-10-01T14:23:48.719Z"
   },
   {
    "duration": 39,
    "start_time": "2021-10-01T14:23:48.735Z"
   },
   {
    "duration": 11,
    "start_time": "2021-10-01T14:23:48.776Z"
   },
   {
    "duration": 13,
    "start_time": "2021-10-01T14:23:48.790Z"
   },
   {
    "duration": 13,
    "start_time": "2021-10-01T14:23:48.807Z"
   },
   {
    "duration": 20,
    "start_time": "2021-10-01T14:23:48.863Z"
   },
   {
    "duration": 15,
    "start_time": "2021-10-01T14:23:48.886Z"
   },
   {
    "duration": 18,
    "start_time": "2021-10-01T14:23:48.903Z"
   },
   {
    "duration": 41,
    "start_time": "2021-10-01T14:23:48.923Z"
   },
   {
    "duration": 27,
    "start_time": "2021-10-01T14:23:48.967Z"
   },
   {
    "duration": 18,
    "start_time": "2021-10-01T14:23:48.997Z"
   },
   {
    "duration": 17,
    "start_time": "2021-10-01T14:23:49.017Z"
   },
   {
    "duration": 19,
    "start_time": "2021-10-01T14:23:49.036Z"
   },
   {
    "duration": 24,
    "start_time": "2021-10-01T14:23:49.057Z"
   },
   {
    "duration": 17,
    "start_time": "2021-10-01T14:23:49.084Z"
   },
   {
    "duration": 10,
    "start_time": "2021-10-01T14:23:49.105Z"
   },
   {
    "duration": 18,
    "start_time": "2021-10-01T14:23:49.117Z"
   },
   {
    "duration": 29,
    "start_time": "2021-10-01T14:23:49.137Z"
   },
   {
    "duration": 45,
    "start_time": "2021-10-01T14:23:49.168Z"
   },
   {
    "duration": 15,
    "start_time": "2021-10-01T14:23:49.220Z"
   },
   {
    "duration": 13,
    "start_time": "2021-10-01T14:23:49.239Z"
   },
   {
    "duration": 22,
    "start_time": "2021-10-01T14:23:49.255Z"
   },
   {
    "duration": 12,
    "start_time": "2021-10-01T14:23:49.280Z"
   },
   {
    "duration": 28,
    "start_time": "2021-10-01T14:23:49.294Z"
   },
   {
    "duration": 14,
    "start_time": "2021-10-01T14:23:49.325Z"
   },
   {
    "duration": 17,
    "start_time": "2021-10-01T14:23:49.342Z"
   },
   {
    "duration": 19,
    "start_time": "2021-10-01T14:23:49.362Z"
   },
   {
    "duration": 28,
    "start_time": "2021-10-01T14:23:49.383Z"
   },
   {
    "duration": 30,
    "start_time": "2021-10-01T14:23:49.413Z"
   },
   {
    "duration": 35,
    "start_time": "2021-10-01T14:23:49.446Z"
   },
   {
    "duration": 254,
    "start_time": "2021-10-01T14:23:49.484Z"
   },
   {
    "duration": 43,
    "start_time": "2021-10-01T14:23:49.741Z"
   },
   {
    "duration": 615,
    "start_time": "2021-10-01T14:23:49.787Z"
   },
   {
    "duration": 13,
    "start_time": "2021-10-01T14:23:50.404Z"
   },
   {
    "duration": 49,
    "start_time": "2021-10-01T14:23:50.420Z"
   },
   {
    "duration": 35,
    "start_time": "2021-10-01T14:23:50.472Z"
   },
   {
    "duration": 37,
    "start_time": "2021-10-01T14:23:50.510Z"
   },
   {
    "duration": 533,
    "start_time": "2021-10-01T14:23:50.550Z"
   },
   {
    "duration": 13,
    "start_time": "2021-10-01T14:23:51.086Z"
   },
   {
    "duration": 30,
    "start_time": "2021-10-01T14:23:51.102Z"
   },
   {
    "duration": 33,
    "start_time": "2021-10-01T14:23:51.135Z"
   },
   {
    "duration": 24,
    "start_time": "2021-10-01T14:23:51.172Z"
   },
   {
    "duration": 773,
    "start_time": "2021-10-01T14:23:51.200Z"
   },
   {
    "duration": 834,
    "start_time": "2021-10-01T14:23:51.976Z"
   },
   {
    "duration": 52,
    "start_time": "2021-10-01T14:23:52.813Z"
   },
   {
    "duration": 11,
    "start_time": "2021-10-01T14:23:52.868Z"
   },
   {
    "duration": 25,
    "start_time": "2021-10-01T14:23:52.881Z"
   },
   {
    "duration": 20,
    "start_time": "2021-10-01T14:23:52.909Z"
   },
   {
    "duration": 43,
    "start_time": "2021-10-01T14:23:52.932Z"
   },
   {
    "duration": 662,
    "start_time": "2021-10-01T14:23:52.979Z"
   },
   {
    "duration": 29,
    "start_time": "2021-10-01T14:23:53.645Z"
   },
   {
    "duration": 506,
    "start_time": "2021-10-01T14:23:53.676Z"
   },
   {
    "duration": 24,
    "start_time": "2021-10-01T14:23:54.184Z"
   },
   {
    "duration": 51,
    "start_time": "2021-10-01T14:23:54.210Z"
   },
   {
    "duration": 5,
    "start_time": "2021-10-01T14:23:54.265Z"
   },
   {
    "duration": 372,
    "start_time": "2021-10-01T14:23:54.273Z"
   },
   {
    "duration": 6,
    "start_time": "2021-10-01T14:23:54.647Z"
   },
   {
    "duration": 436,
    "start_time": "2021-10-01T14:23:54.663Z"
   },
   {
    "duration": 14,
    "start_time": "2021-10-01T14:23:55.102Z"
   },
   {
    "duration": 482,
    "start_time": "2021-10-01T14:23:55.118Z"
   },
   {
    "duration": 6,
    "start_time": "2021-10-01T14:23:55.602Z"
   },
   {
    "duration": 39,
    "start_time": "2021-10-01T14:23:55.611Z"
   },
   {
    "duration": 34,
    "start_time": "2021-10-01T14:23:55.652Z"
   },
   {
    "duration": 18,
    "start_time": "2021-10-01T14:23:55.688Z"
   },
   {
    "duration": 51,
    "start_time": "2021-10-01T14:23:55.714Z"
   },
   {
    "duration": 5,
    "start_time": "2021-10-01T14:24:54.097Z"
   },
   {
    "duration": 21,
    "start_time": "2021-10-01T14:24:54.105Z"
   },
   {
    "duration": 11,
    "start_time": "2021-10-01T14:24:54.129Z"
   },
   {
    "duration": 10,
    "start_time": "2021-10-01T14:24:54.143Z"
   },
   {
    "duration": 24,
    "start_time": "2021-10-01T14:24:54.155Z"
   },
   {
    "duration": 12,
    "start_time": "2021-10-01T14:24:54.181Z"
   },
   {
    "duration": 14,
    "start_time": "2021-10-01T14:24:54.197Z"
   },
   {
    "duration": 51,
    "start_time": "2021-10-01T14:24:54.215Z"
   },
   {
    "duration": 22,
    "start_time": "2021-10-01T14:24:54.269Z"
   },
   {
    "duration": 20,
    "start_time": "2021-10-01T14:24:54.293Z"
   },
   {
    "duration": 58,
    "start_time": "2021-10-01T14:24:54.316Z"
   },
   {
    "duration": 7,
    "start_time": "2021-10-01T14:24:54.376Z"
   },
   {
    "duration": 46,
    "start_time": "2021-10-01T14:24:54.386Z"
   },
   {
    "duration": 14,
    "start_time": "2021-10-01T14:24:54.434Z"
   },
   {
    "duration": 12,
    "start_time": "2021-10-01T14:24:54.451Z"
   },
   {
    "duration": 6,
    "start_time": "2021-10-01T14:24:54.466Z"
   },
   {
    "duration": 10,
    "start_time": "2021-10-01T14:24:54.474Z"
   },
   {
    "duration": 23,
    "start_time": "2021-10-01T14:24:54.486Z"
   },
   {
    "duration": 10,
    "start_time": "2021-10-01T14:24:54.512Z"
   },
   {
    "duration": 38,
    "start_time": "2021-10-01T14:24:54.525Z"
   },
   {
    "duration": 13,
    "start_time": "2021-10-01T14:24:54.566Z"
   },
   {
    "duration": 40,
    "start_time": "2021-10-01T14:24:54.582Z"
   },
   {
    "duration": 13,
    "start_time": "2021-10-01T14:24:54.628Z"
   },
   {
    "duration": 6,
    "start_time": "2021-10-01T14:24:54.646Z"
   },
   {
    "duration": 14,
    "start_time": "2021-10-01T14:24:54.655Z"
   },
   {
    "duration": 9,
    "start_time": "2021-10-01T14:24:54.672Z"
   },
   {
    "duration": 11,
    "start_time": "2021-10-01T14:24:54.684Z"
   },
   {
    "duration": 17,
    "start_time": "2021-10-01T14:24:54.698Z"
   },
   {
    "duration": 7,
    "start_time": "2021-10-01T14:24:54.718Z"
   },
   {
    "duration": 42,
    "start_time": "2021-10-01T14:24:54.728Z"
   },
   {
    "duration": 23,
    "start_time": "2021-10-01T14:24:54.773Z"
   },
   {
    "duration": 25,
    "start_time": "2021-10-01T14:24:54.799Z"
   },
   {
    "duration": 21,
    "start_time": "2021-10-01T14:24:54.862Z"
   },
   {
    "duration": 239,
    "start_time": "2021-10-01T14:24:54.886Z"
   },
   {
    "duration": 46,
    "start_time": "2021-10-01T14:24:55.128Z"
   },
   {
    "duration": 636,
    "start_time": "2021-10-01T14:24:55.176Z"
   },
   {
    "duration": 14,
    "start_time": "2021-10-01T14:24:55.815Z"
   },
   {
    "duration": 45,
    "start_time": "2021-10-01T14:24:55.831Z"
   },
   {
    "duration": 15,
    "start_time": "2021-10-01T14:24:55.879Z"
   },
   {
    "duration": 8,
    "start_time": "2021-10-01T14:24:55.896Z"
   },
   {
    "duration": 541,
    "start_time": "2021-10-01T14:24:55.906Z"
   },
   {
    "duration": 21,
    "start_time": "2021-10-01T14:24:56.450Z"
   },
   {
    "duration": 24,
    "start_time": "2021-10-01T14:24:56.475Z"
   },
   {
    "duration": 21,
    "start_time": "2021-10-01T14:24:56.503Z"
   },
   {
    "duration": 14,
    "start_time": "2021-10-01T14:24:56.526Z"
   },
   {
    "duration": 510,
    "start_time": "2021-10-01T14:24:56.563Z"
   },
   {
    "duration": 590,
    "start_time": "2021-10-01T14:24:57.075Z"
   },
   {
    "duration": 29,
    "start_time": "2021-10-01T14:24:57.667Z"
   },
   {
    "duration": 13,
    "start_time": "2021-10-01T14:24:57.699Z"
   },
   {
    "duration": 25,
    "start_time": "2021-10-01T14:24:57.715Z"
   },
   {
    "duration": 13,
    "start_time": "2021-10-01T14:24:57.762Z"
   },
   {
    "duration": 16,
    "start_time": "2021-10-01T14:24:57.778Z"
   },
   {
    "duration": 517,
    "start_time": "2021-10-01T14:24:57.797Z"
   },
   {
    "duration": 12,
    "start_time": "2021-10-01T14:24:58.317Z"
   },
   {
    "duration": 516,
    "start_time": "2021-10-01T14:24:58.332Z"
   },
   {
    "duration": 30,
    "start_time": "2021-10-01T14:24:58.850Z"
   },
   {
    "duration": 18,
    "start_time": "2021-10-01T14:24:58.883Z"
   },
   {
    "duration": 13,
    "start_time": "2021-10-01T14:24:58.904Z"
   },
   {
    "duration": 473,
    "start_time": "2021-10-01T14:24:58.920Z"
   },
   {
    "duration": 7,
    "start_time": "2021-10-01T14:24:59.396Z"
   },
   {
    "duration": 465,
    "start_time": "2021-10-01T14:24:59.406Z"
   },
   {
    "duration": 15,
    "start_time": "2021-10-01T14:24:59.874Z"
   },
   {
    "duration": 415,
    "start_time": "2021-10-01T14:24:59.891Z"
   },
   {
    "duration": 7,
    "start_time": "2021-10-01T14:25:00.308Z"
   },
   {
    "duration": 28,
    "start_time": "2021-10-01T14:25:00.318Z"
   },
   {
    "duration": 38,
    "start_time": "2021-10-01T14:25:00.348Z"
   },
   {
    "duration": 34,
    "start_time": "2021-10-01T14:25:00.390Z"
   },
   {
    "duration": 44,
    "start_time": "2021-10-01T14:25:00.437Z"
   },
   {
    "duration": 5,
    "start_time": "2021-10-01T14:25:51.320Z"
   },
   {
    "duration": 24,
    "start_time": "2021-10-01T14:25:51.328Z"
   },
   {
    "duration": 16,
    "start_time": "2021-10-01T14:25:51.355Z"
   },
   {
    "duration": 19,
    "start_time": "2021-10-01T14:25:51.375Z"
   },
   {
    "duration": 23,
    "start_time": "2021-10-01T14:25:51.396Z"
   },
   {
    "duration": 44,
    "start_time": "2021-10-01T14:25:51.421Z"
   },
   {
    "duration": 24,
    "start_time": "2021-10-01T14:25:51.467Z"
   },
   {
    "duration": 31,
    "start_time": "2021-10-01T14:25:51.495Z"
   },
   {
    "duration": 32,
    "start_time": "2021-10-01T14:25:51.529Z"
   },
   {
    "duration": 43,
    "start_time": "2021-10-01T14:25:51.564Z"
   },
   {
    "duration": 41,
    "start_time": "2021-10-01T14:25:51.609Z"
   },
   {
    "duration": 19,
    "start_time": "2021-10-01T14:25:51.653Z"
   },
   {
    "duration": 34,
    "start_time": "2021-10-01T14:25:51.675Z"
   },
   {
    "duration": 38,
    "start_time": "2021-10-01T14:25:51.712Z"
   },
   {
    "duration": 25,
    "start_time": "2021-10-01T14:25:51.753Z"
   },
   {
    "duration": 20,
    "start_time": "2021-10-01T14:25:51.781Z"
   },
   {
    "duration": 40,
    "start_time": "2021-10-01T14:25:51.804Z"
   },
   {
    "duration": 25,
    "start_time": "2021-10-01T14:25:51.847Z"
   },
   {
    "duration": 28,
    "start_time": "2021-10-01T14:25:51.875Z"
   },
   {
    "duration": 29,
    "start_time": "2021-10-01T14:25:51.905Z"
   },
   {
    "duration": 33,
    "start_time": "2021-10-01T14:25:51.936Z"
   },
   {
    "duration": 39,
    "start_time": "2021-10-01T14:25:51.971Z"
   },
   {
    "duration": 16,
    "start_time": "2021-10-01T14:25:52.016Z"
   },
   {
    "duration": 29,
    "start_time": "2021-10-01T14:25:52.036Z"
   },
   {
    "duration": 24,
    "start_time": "2021-10-01T14:25:52.068Z"
   },
   {
    "duration": 8,
    "start_time": "2021-10-01T14:25:52.095Z"
   },
   {
    "duration": 13,
    "start_time": "2021-10-01T14:25:52.106Z"
   },
   {
    "duration": 17,
    "start_time": "2021-10-01T14:25:52.121Z"
   },
   {
    "duration": 9,
    "start_time": "2021-10-01T14:25:52.140Z"
   },
   {
    "duration": 12,
    "start_time": "2021-10-01T14:25:52.163Z"
   },
   {
    "duration": 41,
    "start_time": "2021-10-01T14:25:52.177Z"
   },
   {
    "duration": 25,
    "start_time": "2021-10-01T14:25:52.221Z"
   },
   {
    "duration": 27,
    "start_time": "2021-10-01T14:25:52.248Z"
   },
   {
    "duration": 243,
    "start_time": "2021-10-01T14:25:52.277Z"
   },
   {
    "duration": 51,
    "start_time": "2021-10-01T14:25:52.522Z"
   },
   {
    "duration": 625,
    "start_time": "2021-10-01T14:25:52.576Z"
   },
   {
    "duration": 15,
    "start_time": "2021-10-01T14:25:53.203Z"
   },
   {
    "duration": 42,
    "start_time": "2021-10-01T14:25:53.221Z"
   },
   {
    "duration": 21,
    "start_time": "2021-10-01T14:25:53.266Z"
   },
   {
    "duration": 23,
    "start_time": "2021-10-01T14:25:53.290Z"
   },
   {
    "duration": 516,
    "start_time": "2021-10-01T14:25:53.316Z"
   },
   {
    "duration": 27,
    "start_time": "2021-10-01T14:25:53.835Z"
   },
   {
    "duration": 27,
    "start_time": "2021-10-01T14:25:53.865Z"
   },
   {
    "duration": 19,
    "start_time": "2021-10-01T14:25:53.895Z"
   },
   {
    "duration": 14,
    "start_time": "2021-10-01T14:25:53.917Z"
   },
   {
    "duration": 516,
    "start_time": "2021-10-01T14:25:53.935Z"
   },
   {
    "duration": 588,
    "start_time": "2021-10-01T14:25:54.453Z"
   },
   {
    "duration": 34,
    "start_time": "2021-10-01T14:25:55.043Z"
   },
   {
    "duration": 12,
    "start_time": "2021-10-01T14:25:55.079Z"
   },
   {
    "duration": 28,
    "start_time": "2021-10-01T14:25:55.094Z"
   },
   {
    "duration": 25,
    "start_time": "2021-10-01T14:25:55.124Z"
   },
   {
    "duration": 18,
    "start_time": "2021-10-01T14:25:55.161Z"
   },
   {
    "duration": 509,
    "start_time": "2021-10-01T14:25:55.182Z"
   },
   {
    "duration": 13,
    "start_time": "2021-10-01T14:25:55.694Z"
   },
   {
    "duration": 516,
    "start_time": "2021-10-01T14:25:55.710Z"
   },
   {
    "duration": 38,
    "start_time": "2021-10-01T14:25:56.229Z"
   },
   {
    "duration": 18,
    "start_time": "2021-10-01T14:25:56.270Z"
   },
   {
    "duration": 7,
    "start_time": "2021-10-01T14:25:56.291Z"
   },
   {
    "duration": 400,
    "start_time": "2021-10-01T14:25:56.301Z"
   },
   {
    "duration": 7,
    "start_time": "2021-10-01T14:25:56.704Z"
   },
   {
    "duration": 453,
    "start_time": "2021-10-01T14:25:56.714Z"
   },
   {
    "duration": 15,
    "start_time": "2021-10-01T14:25:57.169Z"
   },
   {
    "duration": 507,
    "start_time": "2021-10-01T14:25:57.187Z"
   },
   {
    "duration": 6,
    "start_time": "2021-10-01T14:25:57.697Z"
   },
   {
    "duration": 19,
    "start_time": "2021-10-01T14:25:57.706Z"
   },
   {
    "duration": 55,
    "start_time": "2021-10-01T14:25:57.727Z"
   },
   {
    "duration": 18,
    "start_time": "2021-10-01T14:25:57.784Z"
   },
   {
    "duration": 17,
    "start_time": "2021-10-01T14:25:57.810Z"
   },
   {
    "duration": 13,
    "start_time": "2021-10-01T14:29:10.219Z"
   },
   {
    "duration": 9,
    "start_time": "2021-10-01T14:30:20.830Z"
   },
   {
    "duration": 8,
    "start_time": "2021-10-01T14:30:41.038Z"
   },
   {
    "duration": 22,
    "start_time": "2021-10-01T14:33:17.833Z"
   },
   {
    "duration": 19,
    "start_time": "2021-10-01T14:33:22.001Z"
   },
   {
    "duration": 6,
    "start_time": "2021-10-01T14:33:26.353Z"
   },
   {
    "duration": 489,
    "start_time": "2021-10-01T14:33:28.928Z"
   },
   {
    "duration": 13,
    "start_time": "2021-10-01T14:33:31.482Z"
   },
   {
    "duration": 17,
    "start_time": "2021-10-01T14:34:46.117Z"
   },
   {
    "duration": 24,
    "start_time": "2021-10-01T14:34:59.070Z"
   },
   {
    "duration": 18,
    "start_time": "2021-10-01T14:35:02.532Z"
   },
   {
    "duration": 18,
    "start_time": "2021-10-01T14:35:04.982Z"
   },
   {
    "duration": 5,
    "start_time": "2021-10-01T14:36:46.160Z"
   },
   {
    "duration": 21,
    "start_time": "2021-10-01T14:36:46.170Z"
   },
   {
    "duration": 15,
    "start_time": "2021-10-01T14:36:46.194Z"
   },
   {
    "duration": 14,
    "start_time": "2021-10-01T14:36:46.213Z"
   },
   {
    "duration": 44,
    "start_time": "2021-10-01T14:36:46.230Z"
   },
   {
    "duration": 19,
    "start_time": "2021-10-01T14:36:46.276Z"
   },
   {
    "duration": 16,
    "start_time": "2021-10-01T14:36:46.298Z"
   },
   {
    "duration": 15,
    "start_time": "2021-10-01T14:36:46.317Z"
   },
   {
    "duration": 16,
    "start_time": "2021-10-01T14:36:46.364Z"
   },
   {
    "duration": 22,
    "start_time": "2021-10-01T14:36:46.382Z"
   },
   {
    "duration": 22,
    "start_time": "2021-10-01T14:36:46.408Z"
   },
   {
    "duration": 35,
    "start_time": "2021-10-01T14:36:46.432Z"
   },
   {
    "duration": 29,
    "start_time": "2021-10-01T14:36:46.470Z"
   },
   {
    "duration": 25,
    "start_time": "2021-10-01T14:36:46.502Z"
   },
   {
    "duration": 22,
    "start_time": "2021-10-01T14:36:46.530Z"
   },
   {
    "duration": 16,
    "start_time": "2021-10-01T14:36:46.555Z"
   },
   {
    "duration": 17,
    "start_time": "2021-10-01T14:36:46.573Z"
   },
   {
    "duration": 18,
    "start_time": "2021-10-01T14:36:46.593Z"
   },
   {
    "duration": 16,
    "start_time": "2021-10-01T14:36:46.614Z"
   },
   {
    "duration": 19,
    "start_time": "2021-10-01T14:36:46.632Z"
   },
   {
    "duration": 21,
    "start_time": "2021-10-01T14:36:46.653Z"
   },
   {
    "duration": 46,
    "start_time": "2021-10-01T14:36:46.677Z"
   },
   {
    "duration": 20,
    "start_time": "2021-10-01T14:36:46.726Z"
   },
   {
    "duration": 14,
    "start_time": "2021-10-01T14:36:46.753Z"
   },
   {
    "duration": 39,
    "start_time": "2021-10-01T14:36:46.770Z"
   },
   {
    "duration": 23,
    "start_time": "2021-10-01T14:36:46.811Z"
   },
   {
    "duration": 31,
    "start_time": "2021-10-01T14:36:46.837Z"
   },
   {
    "duration": 22,
    "start_time": "2021-10-01T14:36:46.870Z"
   },
   {
    "duration": 26,
    "start_time": "2021-10-01T14:36:46.895Z"
   },
   {
    "duration": 26,
    "start_time": "2021-10-01T14:36:46.924Z"
   },
   {
    "duration": 20,
    "start_time": "2021-10-01T14:36:46.952Z"
   },
   {
    "duration": 32,
    "start_time": "2021-10-01T14:36:46.974Z"
   },
   {
    "duration": 21,
    "start_time": "2021-10-01T14:36:47.008Z"
   },
   {
    "duration": 249,
    "start_time": "2021-10-01T14:36:47.032Z"
   },
   {
    "duration": 35,
    "start_time": "2021-10-01T14:36:47.283Z"
   },
   {
    "duration": 689,
    "start_time": "2021-10-01T14:36:47.320Z"
   },
   {
    "duration": 15,
    "start_time": "2021-10-01T14:36:48.011Z"
   },
   {
    "duration": 24,
    "start_time": "2021-10-01T14:36:48.028Z"
   },
   {
    "duration": 17,
    "start_time": "2021-10-01T14:36:48.054Z"
   },
   {
    "duration": 9,
    "start_time": "2021-10-01T14:36:48.073Z"
   },
   {
    "duration": 561,
    "start_time": "2021-10-01T14:36:48.084Z"
   },
   {
    "duration": 15,
    "start_time": "2021-10-01T14:36:48.647Z"
   },
   {
    "duration": 23,
    "start_time": "2021-10-01T14:36:48.665Z"
   },
   {
    "duration": 12,
    "start_time": "2021-10-01T14:36:48.691Z"
   },
   {
    "duration": 8,
    "start_time": "2021-10-01T14:36:48.706Z"
   },
   {
    "duration": 749,
    "start_time": "2021-10-01T14:36:48.717Z"
   },
   {
    "duration": 596,
    "start_time": "2021-10-01T14:36:49.469Z"
   },
   {
    "duration": 25,
    "start_time": "2021-10-01T14:36:50.068Z"
   },
   {
    "duration": 10,
    "start_time": "2021-10-01T14:36:50.095Z"
   },
   {
    "duration": 23,
    "start_time": "2021-10-01T14:36:50.107Z"
   },
   {
    "duration": 35,
    "start_time": "2021-10-01T14:36:50.133Z"
   },
   {
    "duration": 12,
    "start_time": "2021-10-01T14:36:50.170Z"
   },
   {
    "duration": 500,
    "start_time": "2021-10-01T14:36:50.184Z"
   },
   {
    "duration": 13,
    "start_time": "2021-10-01T14:36:50.686Z"
   },
   {
    "duration": 510,
    "start_time": "2021-10-01T14:36:50.702Z"
   },
   {
    "duration": 23,
    "start_time": "2021-10-01T14:36:51.215Z"
   },
   {
    "duration": 34,
    "start_time": "2021-10-01T14:36:51.241Z"
   },
   {
    "duration": 13,
    "start_time": "2021-10-01T14:36:51.277Z"
   },
   {
    "duration": 352,
    "start_time": "2021-10-01T14:36:51.293Z"
   },
   {
    "duration": 15,
    "start_time": "2021-10-01T14:36:51.647Z"
   },
   {
    "duration": 415,
    "start_time": "2021-10-01T14:36:51.664Z"
   },
   {
    "duration": 16,
    "start_time": "2021-10-01T14:36:52.082Z"
   },
   {
    "duration": 448,
    "start_time": "2021-10-01T14:36:52.101Z"
   },
   {
    "duration": 9,
    "start_time": "2021-10-01T14:36:52.552Z"
   },
   {
    "duration": 104,
    "start_time": "2021-10-01T14:36:52.564Z"
   },
   {
    "duration": 24,
    "start_time": "2021-10-01T14:36:52.671Z"
   },
   {
    "duration": 15,
    "start_time": "2021-10-01T14:41:42.036Z"
   },
   {
    "duration": 911,
    "start_time": "2021-10-01T16:29:47.227Z"
   },
   {
    "duration": 19,
    "start_time": "2021-10-01T16:29:48.140Z"
   },
   {
    "duration": 44,
    "start_time": "2021-10-01T16:29:48.162Z"
   },
   {
    "duration": 30,
    "start_time": "2021-10-01T16:29:48.208Z"
   },
   {
    "duration": 31,
    "start_time": "2021-10-01T16:29:48.240Z"
   },
   {
    "duration": 38,
    "start_time": "2021-10-01T16:29:48.273Z"
   },
   {
    "duration": 38,
    "start_time": "2021-10-01T16:29:48.314Z"
   },
   {
    "duration": 29,
    "start_time": "2021-10-01T16:29:48.356Z"
   },
   {
    "duration": 33,
    "start_time": "2021-10-01T16:29:48.388Z"
   },
   {
    "duration": 26,
    "start_time": "2021-10-01T16:29:48.423Z"
   },
   {
    "duration": 43,
    "start_time": "2021-10-01T16:29:48.451Z"
   },
   {
    "duration": 17,
    "start_time": "2021-10-01T16:29:48.497Z"
   },
   {
    "duration": 29,
    "start_time": "2021-10-01T16:29:48.516Z"
   },
   {
    "duration": 21,
    "start_time": "2021-10-01T16:29:48.547Z"
   },
   {
    "duration": 38,
    "start_time": "2021-10-01T16:29:48.570Z"
   },
   {
    "duration": 30,
    "start_time": "2021-10-01T16:29:48.610Z"
   },
   {
    "duration": 23,
    "start_time": "2021-10-01T16:29:48.643Z"
   },
   {
    "duration": 33,
    "start_time": "2021-10-01T16:29:48.669Z"
   },
   {
    "duration": 33,
    "start_time": "2021-10-01T16:29:48.704Z"
   },
   {
    "duration": 32,
    "start_time": "2021-10-01T16:29:48.740Z"
   },
   {
    "duration": 36,
    "start_time": "2021-10-01T16:29:48.775Z"
   },
   {
    "duration": 66,
    "start_time": "2021-10-01T16:29:48.813Z"
   },
   {
    "duration": 14,
    "start_time": "2021-10-01T16:29:48.885Z"
   },
   {
    "duration": 35,
    "start_time": "2021-10-01T16:29:48.903Z"
   },
   {
    "duration": 41,
    "start_time": "2021-10-01T16:29:48.941Z"
   },
   {
    "duration": 28,
    "start_time": "2021-10-01T16:29:48.984Z"
   },
   {
    "duration": 35,
    "start_time": "2021-10-01T16:29:49.014Z"
   },
   {
    "duration": 24,
    "start_time": "2021-10-01T16:29:49.052Z"
   },
   {
    "duration": 12,
    "start_time": "2021-10-01T16:29:49.079Z"
   },
   {
    "duration": 15,
    "start_time": "2021-10-01T16:29:49.094Z"
   },
   {
    "duration": 24,
    "start_time": "2021-10-01T16:29:49.112Z"
   },
   {
    "duration": 30,
    "start_time": "2021-10-01T16:29:49.140Z"
   },
   {
    "duration": 25,
    "start_time": "2021-10-01T16:29:49.173Z"
   },
   {
    "duration": 231,
    "start_time": "2021-10-01T16:29:49.200Z"
   },
   {
    "duration": 30,
    "start_time": "2021-10-01T16:29:49.434Z"
   },
   {
    "duration": 627,
    "start_time": "2021-10-01T16:29:49.467Z"
   },
   {
    "duration": 25,
    "start_time": "2021-10-01T16:29:50.097Z"
   },
   {
    "duration": 33,
    "start_time": "2021-10-01T16:29:50.124Z"
   },
   {
    "duration": 37,
    "start_time": "2021-10-01T16:29:50.159Z"
   },
   {
    "duration": 36,
    "start_time": "2021-10-01T16:29:50.198Z"
   },
   {
    "duration": 506,
    "start_time": "2021-10-01T16:29:50.236Z"
   },
   {
    "duration": 12,
    "start_time": "2021-10-01T16:29:50.744Z"
   },
   {
    "duration": 35,
    "start_time": "2021-10-01T16:29:50.759Z"
   },
   {
    "duration": 27,
    "start_time": "2021-10-01T16:29:50.796Z"
   },
   {
    "duration": 6,
    "start_time": "2021-10-01T16:29:50.826Z"
   },
   {
    "duration": 496,
    "start_time": "2021-10-01T16:29:50.834Z"
   },
   {
    "duration": 577,
    "start_time": "2021-10-01T16:29:51.333Z"
   },
   {
    "duration": 25,
    "start_time": "2021-10-01T16:29:51.913Z"
   },
   {
    "duration": 11,
    "start_time": "2021-10-01T16:29:51.941Z"
   },
   {
    "duration": 35,
    "start_time": "2021-10-01T16:29:51.955Z"
   },
   {
    "duration": 65,
    "start_time": "2021-10-01T16:29:51.993Z"
   },
   {
    "duration": 23,
    "start_time": "2021-10-01T16:29:52.060Z"
   },
   {
    "duration": 575,
    "start_time": "2021-10-01T16:29:52.085Z"
   },
   {
    "duration": 13,
    "start_time": "2021-10-01T16:29:52.663Z"
   },
   {
    "duration": 680,
    "start_time": "2021-10-01T16:29:52.679Z"
   },
   {
    "duration": 74,
    "start_time": "2021-10-01T16:29:53.361Z"
   },
   {
    "duration": 16,
    "start_time": "2021-10-01T16:29:53.437Z"
   },
   {
    "duration": 68,
    "start_time": "2021-10-01T16:29:53.455Z"
   },
   {
    "duration": 452,
    "start_time": "2021-10-01T16:29:53.526Z"
   },
   {
    "duration": 6,
    "start_time": "2021-10-01T16:29:53.980Z"
   },
   {
    "duration": 440,
    "start_time": "2021-10-01T16:29:53.989Z"
   },
   {
    "duration": 15,
    "start_time": "2021-10-01T16:29:54.431Z"
   },
   {
    "duration": 21,
    "start_time": "2021-10-01T16:29:54.449Z"
   },
   {
    "duration": 446,
    "start_time": "2021-10-01T16:29:54.472Z"
   },
   {
    "duration": 7,
    "start_time": "2021-10-01T16:29:54.921Z"
   },
   {
    "duration": 35,
    "start_time": "2021-10-01T16:29:54.930Z"
   },
   {
    "duration": 25,
    "start_time": "2021-10-01T16:29:54.968Z"
   },
   {
    "duration": 493,
    "start_time": "2021-10-01T16:30:53.838Z"
   },
   {
    "duration": 221,
    "start_time": "2021-10-01T16:46:21.588Z"
   },
   {
    "duration": 7,
    "start_time": "2021-10-01T16:47:06.474Z"
   },
   {
    "duration": 7,
    "start_time": "2021-10-01T16:47:15.192Z"
   },
   {
    "duration": 7,
    "start_time": "2021-10-01T16:47:18.667Z"
   },
   {
    "duration": 7,
    "start_time": "2021-10-01T16:47:21.098Z"
   },
   {
    "duration": 178,
    "start_time": "2021-10-01T16:48:12.071Z"
   },
   {
    "duration": 9,
    "start_time": "2021-10-01T16:48:15.838Z"
   },
   {
    "duration": 7,
    "start_time": "2021-10-01T16:48:22.733Z"
   },
   {
    "duration": 1185,
    "start_time": "2021-10-01T22:46:03.623Z"
   },
   {
    "duration": 17,
    "start_time": "2021-10-01T22:46:04.810Z"
   },
   {
    "duration": 12,
    "start_time": "2021-10-01T22:46:04.830Z"
   },
   {
    "duration": 7,
    "start_time": "2021-10-01T22:46:04.845Z"
   },
   {
    "duration": 26,
    "start_time": "2021-10-01T22:46:04.854Z"
   },
   {
    "duration": 17,
    "start_time": "2021-10-01T22:46:04.882Z"
   },
   {
    "duration": 13,
    "start_time": "2021-10-01T22:46:04.901Z"
   },
   {
    "duration": 12,
    "start_time": "2021-10-01T22:46:04.917Z"
   },
   {
    "duration": 46,
    "start_time": "2021-10-01T22:46:04.932Z"
   },
   {
    "duration": 20,
    "start_time": "2021-10-01T22:46:04.982Z"
   },
   {
    "duration": 17,
    "start_time": "2021-10-01T22:46:05.004Z"
   },
   {
    "duration": 5,
    "start_time": "2021-10-01T22:46:05.023Z"
   },
   {
    "duration": 21,
    "start_time": "2021-10-01T22:46:05.029Z"
   },
   {
    "duration": 29,
    "start_time": "2021-10-01T22:46:05.052Z"
   },
   {
    "duration": 10,
    "start_time": "2021-10-01T22:46:05.083Z"
   },
   {
    "duration": 8,
    "start_time": "2021-10-01T22:46:05.095Z"
   },
   {
    "duration": 11,
    "start_time": "2021-10-01T22:46:05.105Z"
   },
   {
    "duration": 16,
    "start_time": "2021-10-01T22:46:05.118Z"
   },
   {
    "duration": 9,
    "start_time": "2021-10-01T22:46:05.136Z"
   },
   {
    "duration": 30,
    "start_time": "2021-10-01T22:46:05.147Z"
   },
   {
    "duration": 7,
    "start_time": "2021-10-01T22:46:05.179Z"
   },
   {
    "duration": 43,
    "start_time": "2021-10-01T22:46:05.188Z"
   },
   {
    "duration": 36,
    "start_time": "2021-10-01T22:46:05.236Z"
   },
   {
    "duration": 3,
    "start_time": "2021-10-01T22:46:05.275Z"
   },
   {
    "duration": 20,
    "start_time": "2021-10-01T22:46:05.280Z"
   },
   {
    "duration": 12,
    "start_time": "2021-10-01T22:46:05.302Z"
   },
   {
    "duration": 13,
    "start_time": "2021-10-01T22:46:05.316Z"
   },
   {
    "duration": 9,
    "start_time": "2021-10-01T22:46:05.331Z"
   },
   {
    "duration": 6,
    "start_time": "2021-10-01T22:46:05.343Z"
   },
   {
    "duration": 7,
    "start_time": "2021-10-01T22:46:05.351Z"
   },
   {
    "duration": 28,
    "start_time": "2021-10-01T22:46:05.360Z"
   },
   {
    "duration": 21,
    "start_time": "2021-10-01T22:46:05.390Z"
   },
   {
    "duration": 16,
    "start_time": "2021-10-01T22:46:05.413Z"
   },
   {
    "duration": 169,
    "start_time": "2021-10-01T22:46:05.431Z"
   },
   {
    "duration": 24,
    "start_time": "2021-10-01T22:46:05.603Z"
   },
   {
    "duration": 389,
    "start_time": "2021-10-01T22:46:05.629Z"
   },
   {
    "duration": 9,
    "start_time": "2021-10-01T22:46:06.020Z"
   },
   {
    "duration": 19,
    "start_time": "2021-10-01T22:46:06.031Z"
   },
   {
    "duration": 26,
    "start_time": "2021-10-01T22:46:06.052Z"
   },
   {
    "duration": 4,
    "start_time": "2021-10-01T22:46:06.080Z"
   },
   {
    "duration": 342,
    "start_time": "2021-10-01T22:46:06.086Z"
   },
   {
    "duration": 9,
    "start_time": "2021-10-01T22:46:06.429Z"
   },
   {
    "duration": 13,
    "start_time": "2021-10-01T22:46:06.440Z"
   },
   {
    "duration": 23,
    "start_time": "2021-10-01T22:46:06.455Z"
   },
   {
    "duration": 8,
    "start_time": "2021-10-01T22:46:06.480Z"
   },
   {
    "duration": 330,
    "start_time": "2021-10-01T22:46:06.490Z"
   },
   {
    "duration": 398,
    "start_time": "2021-10-01T22:46:06.822Z"
   },
   {
    "duration": 17,
    "start_time": "2021-10-01T22:46:07.222Z"
   },
   {
    "duration": 8,
    "start_time": "2021-10-01T22:46:07.241Z"
   },
   {
    "duration": 31,
    "start_time": "2021-10-01T22:46:07.251Z"
   },
   {
    "duration": 12,
    "start_time": "2021-10-01T22:46:07.284Z"
   },
   {
    "duration": 14,
    "start_time": "2021-10-01T22:46:07.299Z"
   },
   {
    "duration": 342,
    "start_time": "2021-10-01T22:46:07.315Z"
   },
   {
    "duration": 18,
    "start_time": "2021-10-01T22:46:07.659Z"
   },
   {
    "duration": 335,
    "start_time": "2021-10-01T22:46:07.679Z"
   },
   {
    "duration": 17,
    "start_time": "2021-10-01T22:46:08.015Z"
   },
   {
    "duration": 12,
    "start_time": "2021-10-01T22:46:08.034Z"
   },
   {
    "duration": 28,
    "start_time": "2021-10-01T22:46:08.048Z"
   },
   {
    "duration": 289,
    "start_time": "2021-10-01T22:46:08.079Z"
   },
   {
    "duration": 10,
    "start_time": "2021-10-01T22:46:08.369Z"
   },
   {
    "duration": 331,
    "start_time": "2021-10-01T22:46:08.381Z"
   },
   {
    "duration": 11,
    "start_time": "2021-10-01T22:46:08.715Z"
   },
   {
    "duration": 10,
    "start_time": "2021-10-01T22:46:08.728Z"
   },
   {
    "duration": 372,
    "start_time": "2021-10-01T22:46:08.740Z"
   },
   {
    "duration": 4,
    "start_time": "2021-10-01T22:46:09.114Z"
   },
   {
    "duration": 204,
    "start_time": "2021-10-01T22:46:09.120Z"
   },
   {
    "duration": 6,
    "start_time": "2021-10-01T22:46:09.326Z"
   },
   {
    "duration": 12,
    "start_time": "2021-10-01T22:46:09.337Z"
   },
   {
    "duration": 36,
    "start_time": "2021-10-01T22:46:09.351Z"
   },
   {
    "duration": 136,
    "start_time": "2021-10-01T22:53:13.964Z"
   },
   {
    "duration": 6,
    "start_time": "2021-10-01T22:53:40.197Z"
   },
   {
    "duration": 10,
    "start_time": "2021-10-01T22:53:47.191Z"
   },
   {
    "duration": 9,
    "start_time": "2021-10-01T22:54:41.631Z"
   },
   {
    "duration": 13,
    "start_time": "2021-10-01T22:54:56.350Z"
   },
   {
    "duration": 123,
    "start_time": "2021-10-01T22:57:30.874Z"
   },
   {
    "duration": 5,
    "start_time": "2021-10-01T22:58:08.734Z"
   },
   {
    "duration": 7,
    "start_time": "2021-10-01T22:58:24.033Z"
   },
   {
    "duration": 9,
    "start_time": "2021-10-01T22:58:56.142Z"
   },
   {
    "duration": 6,
    "start_time": "2021-10-01T22:59:19.500Z"
   },
   {
    "duration": 6,
    "start_time": "2021-10-01T23:00:22.762Z"
   },
   {
    "duration": 4,
    "start_time": "2021-10-01T23:01:38.733Z"
   },
   {
    "duration": 11,
    "start_time": "2021-10-01T23:06:30.261Z"
   },
   {
    "duration": 17,
    "start_time": "2021-10-01T23:06:31.200Z"
   },
   {
    "duration": 776,
    "start_time": "2021-10-01T23:10:50.740Z"
   },
   {
    "duration": 15,
    "start_time": "2021-10-01T23:11:04.724Z"
   },
   {
    "duration": 374,
    "start_time": "2021-10-01T23:12:03.081Z"
   },
   {
    "duration": 11,
    "start_time": "2021-10-01T23:12:14.568Z"
   },
   {
    "duration": 11,
    "start_time": "2021-10-01T23:12:51.485Z"
   },
   {
    "duration": 913,
    "start_time": "2021-10-01T23:12:59.828Z"
   },
   {
    "duration": 5,
    "start_time": "2021-10-01T23:13:36.697Z"
   },
   {
    "duration": 17,
    "start_time": "2021-10-01T23:13:36.705Z"
   },
   {
    "duration": 9,
    "start_time": "2021-10-01T23:13:36.725Z"
   },
   {
    "duration": 9,
    "start_time": "2021-10-01T23:13:36.736Z"
   },
   {
    "duration": 35,
    "start_time": "2021-10-01T23:13:36.747Z"
   },
   {
    "duration": 9,
    "start_time": "2021-10-01T23:13:36.785Z"
   },
   {
    "duration": 9,
    "start_time": "2021-10-01T23:13:36.796Z"
   },
   {
    "duration": 9,
    "start_time": "2021-10-01T23:13:36.807Z"
   },
   {
    "duration": 11,
    "start_time": "2021-10-01T23:13:36.820Z"
   },
   {
    "duration": 45,
    "start_time": "2021-10-01T23:13:36.834Z"
   },
   {
    "duration": 14,
    "start_time": "2021-10-01T23:13:36.881Z"
   },
   {
    "duration": 6,
    "start_time": "2021-10-01T23:13:36.897Z"
   },
   {
    "duration": 18,
    "start_time": "2021-10-01T23:13:36.905Z"
   },
   {
    "duration": 9,
    "start_time": "2021-10-01T23:13:36.925Z"
   },
   {
    "duration": 9,
    "start_time": "2021-10-01T23:13:36.937Z"
   },
   {
    "duration": 32,
    "start_time": "2021-10-01T23:13:36.948Z"
   },
   {
    "duration": 15,
    "start_time": "2021-10-01T23:13:36.982Z"
   },
   {
    "duration": 11,
    "start_time": "2021-10-01T23:13:37.000Z"
   },
   {
    "duration": 10,
    "start_time": "2021-10-01T23:13:37.013Z"
   },
   {
    "duration": 9,
    "start_time": "2021-10-01T23:13:37.025Z"
   },
   {
    "duration": 25,
    "start_time": "2021-10-01T23:13:37.036Z"
   },
   {
    "duration": 40,
    "start_time": "2021-10-01T23:13:37.077Z"
   },
   {
    "duration": 11,
    "start_time": "2021-10-01T23:13:37.118Z"
   },
   {
    "duration": 11,
    "start_time": "2021-10-01T23:13:37.131Z"
   },
   {
    "duration": 14,
    "start_time": "2021-10-01T23:13:37.144Z"
   },
   {
    "duration": 7,
    "start_time": "2021-10-01T23:13:37.161Z"
   },
   {
    "duration": 11,
    "start_time": "2021-10-01T23:13:37.172Z"
   },
   {
    "duration": 7,
    "start_time": "2021-10-01T23:13:37.186Z"
   },
   {
    "duration": 7,
    "start_time": "2021-10-01T23:13:37.196Z"
   },
   {
    "duration": 11,
    "start_time": "2021-10-01T23:13:37.205Z"
   },
   {
    "duration": 14,
    "start_time": "2021-10-01T23:13:37.218Z"
   },
   {
    "duration": 17,
    "start_time": "2021-10-01T23:15:20.182Z"
   },
   {
    "duration": 11,
    "start_time": "2021-10-01T23:15:59.830Z"
   },
   {
    "duration": 417,
    "start_time": "2021-10-01T23:16:13.661Z"
   },
   {
    "duration": 5,
    "start_time": "2021-10-01T23:16:37.494Z"
   },
   {
    "duration": 18,
    "start_time": "2021-10-01T23:16:37.502Z"
   },
   {
    "duration": 10,
    "start_time": "2021-10-01T23:16:37.524Z"
   },
   {
    "duration": 9,
    "start_time": "2021-10-01T23:16:37.537Z"
   },
   {
    "duration": 28,
    "start_time": "2021-10-01T23:16:37.549Z"
   },
   {
    "duration": 7,
    "start_time": "2021-10-01T23:16:37.580Z"
   },
   {
    "duration": 9,
    "start_time": "2021-10-01T23:16:37.589Z"
   },
   {
    "duration": 11,
    "start_time": "2021-10-01T23:16:37.603Z"
   },
   {
    "duration": 19,
    "start_time": "2021-10-01T23:16:37.618Z"
   },
   {
    "duration": 21,
    "start_time": "2021-10-01T23:16:37.676Z"
   },
   {
    "duration": 19,
    "start_time": "2021-10-01T23:16:37.699Z"
   },
   {
    "duration": 5,
    "start_time": "2021-10-01T23:16:37.721Z"
   },
   {
    "duration": 19,
    "start_time": "2021-10-01T23:16:37.728Z"
   },
   {
    "duration": 33,
    "start_time": "2021-10-01T23:16:37.750Z"
   },
   {
    "duration": 10,
    "start_time": "2021-10-01T23:16:37.785Z"
   },
   {
    "duration": 6,
    "start_time": "2021-10-01T23:16:37.798Z"
   },
   {
    "duration": 10,
    "start_time": "2021-10-01T23:16:37.807Z"
   },
   {
    "duration": 8,
    "start_time": "2021-10-01T23:16:37.820Z"
   },
   {
    "duration": 7,
    "start_time": "2021-10-01T23:16:37.830Z"
   },
   {
    "duration": 45,
    "start_time": "2021-10-01T23:16:37.840Z"
   },
   {
    "duration": 11,
    "start_time": "2021-10-01T23:16:37.888Z"
   },
   {
    "duration": 40,
    "start_time": "2021-10-01T23:16:37.902Z"
   },
   {
    "duration": 14,
    "start_time": "2021-10-01T23:16:37.948Z"
   },
   {
    "duration": 5,
    "start_time": "2021-10-01T23:16:37.964Z"
   },
   {
    "duration": 11,
    "start_time": "2021-10-01T23:16:37.976Z"
   },
   {
    "duration": 9,
    "start_time": "2021-10-01T23:16:37.990Z"
   },
   {
    "duration": 12,
    "start_time": "2021-10-01T23:16:38.002Z"
   },
   {
    "duration": 8,
    "start_time": "2021-10-01T23:16:38.017Z"
   },
   {
    "duration": 6,
    "start_time": "2021-10-01T23:16:38.027Z"
   },
   {
    "duration": 43,
    "start_time": "2021-10-01T23:16:38.035Z"
   },
   {
    "duration": 12,
    "start_time": "2021-10-01T23:16:38.080Z"
   },
   {
    "duration": 28,
    "start_time": "2021-10-01T23:17:11.250Z"
   },
   {
    "duration": 6,
    "start_time": "2021-10-01T23:18:46.458Z"
   },
   {
    "duration": 19,
    "start_time": "2021-10-01T23:18:46.470Z"
   },
   {
    "duration": 9,
    "start_time": "2021-10-01T23:18:46.492Z"
   },
   {
    "duration": 9,
    "start_time": "2021-10-01T23:18:46.505Z"
   },
   {
    "duration": 23,
    "start_time": "2021-10-01T23:18:46.518Z"
   },
   {
    "duration": 37,
    "start_time": "2021-10-01T23:18:46.544Z"
   },
   {
    "duration": 12,
    "start_time": "2021-10-01T23:18:46.584Z"
   },
   {
    "duration": 17,
    "start_time": "2021-10-01T23:18:46.599Z"
   },
   {
    "duration": 18,
    "start_time": "2021-10-01T23:18:46.619Z"
   },
   {
    "duration": 47,
    "start_time": "2021-10-01T23:18:46.643Z"
   },
   {
    "duration": 20,
    "start_time": "2021-10-01T23:18:46.694Z"
   },
   {
    "duration": 11,
    "start_time": "2021-10-01T23:18:46.717Z"
   },
   {
    "duration": 20,
    "start_time": "2021-10-01T23:18:46.730Z"
   },
   {
    "duration": 33,
    "start_time": "2021-10-01T23:18:46.753Z"
   },
   {
    "duration": 9,
    "start_time": "2021-10-01T23:18:46.789Z"
   },
   {
    "duration": 9,
    "start_time": "2021-10-01T23:18:46.800Z"
   },
   {
    "duration": 15,
    "start_time": "2021-10-01T23:18:46.811Z"
   },
   {
    "duration": 13,
    "start_time": "2021-10-01T23:18:46.828Z"
   },
   {
    "duration": 10,
    "start_time": "2021-10-01T23:18:46.843Z"
   },
   {
    "duration": 27,
    "start_time": "2021-10-01T23:18:46.855Z"
   },
   {
    "duration": 11,
    "start_time": "2021-10-01T23:18:46.884Z"
   },
   {
    "duration": 42,
    "start_time": "2021-10-01T23:18:46.897Z"
   },
   {
    "duration": 10,
    "start_time": "2021-10-01T23:18:46.941Z"
   },
   {
    "duration": 4,
    "start_time": "2021-10-01T23:18:46.953Z"
   },
   {
    "duration": 9,
    "start_time": "2021-10-01T23:18:46.958Z"
   },
   {
    "duration": 11,
    "start_time": "2021-10-01T23:18:46.969Z"
   },
   {
    "duration": 9,
    "start_time": "2021-10-01T23:18:46.982Z"
   },
   {
    "duration": 6,
    "start_time": "2021-10-01T23:18:46.996Z"
   },
   {
    "duration": 10,
    "start_time": "2021-10-01T23:18:47.005Z"
   },
   {
    "duration": 11,
    "start_time": "2021-10-01T23:18:47.017Z"
   },
   {
    "duration": 48,
    "start_time": "2021-10-01T23:18:47.031Z"
   },
   {
    "duration": 19,
    "start_time": "2021-10-01T23:18:52.799Z"
   },
   {
    "duration": 16,
    "start_time": "2021-10-01T23:18:54.694Z"
   },
   {
    "duration": 14,
    "start_time": "2021-10-01T23:19:11.687Z"
   },
   {
    "duration": 10,
    "start_time": "2021-10-01T23:19:41.492Z"
   },
   {
    "duration": 6,
    "start_time": "2021-10-01T23:19:45.525Z"
   },
   {
    "duration": 4,
    "start_time": "2021-10-01T23:19:57.839Z"
   },
   {
    "duration": 12,
    "start_time": "2021-10-01T23:20:11.950Z"
   },
   {
    "duration": 3,
    "start_time": "2021-10-01T23:21:41.338Z"
   },
   {
    "duration": 18,
    "start_time": "2021-10-01T23:21:41.346Z"
   },
   {
    "duration": 9,
    "start_time": "2021-10-01T23:21:41.366Z"
   },
   {
    "duration": 9,
    "start_time": "2021-10-01T23:21:41.378Z"
   },
   {
    "duration": 14,
    "start_time": "2021-10-01T23:21:41.389Z"
   },
   {
    "duration": 8,
    "start_time": "2021-10-01T23:21:41.405Z"
   },
   {
    "duration": 8,
    "start_time": "2021-10-01T23:21:41.415Z"
   },
   {
    "duration": 10,
    "start_time": "2021-10-01T23:21:41.425Z"
   },
   {
    "duration": 47,
    "start_time": "2021-10-01T23:21:41.438Z"
   },
   {
    "duration": 14,
    "start_time": "2021-10-01T23:21:41.488Z"
   },
   {
    "duration": 18,
    "start_time": "2021-10-01T23:21:41.504Z"
   },
   {
    "duration": 5,
    "start_time": "2021-10-01T23:21:41.524Z"
   },
   {
    "duration": 46,
    "start_time": "2021-10-01T23:21:41.531Z"
   },
   {
    "duration": 10,
    "start_time": "2021-10-01T23:21:41.579Z"
   },
   {
    "duration": 9,
    "start_time": "2021-10-01T23:21:41.591Z"
   },
   {
    "duration": 8,
    "start_time": "2021-10-01T23:21:41.602Z"
   },
   {
    "duration": 10,
    "start_time": "2021-10-01T23:21:41.612Z"
   },
   {
    "duration": 7,
    "start_time": "2021-10-01T23:21:41.623Z"
   },
   {
    "duration": 6,
    "start_time": "2021-10-01T23:21:41.632Z"
   },
   {
    "duration": 40,
    "start_time": "2021-10-01T23:21:41.640Z"
   },
   {
    "duration": 10,
    "start_time": "2021-10-01T23:21:41.683Z"
   },
   {
    "duration": 40,
    "start_time": "2021-10-01T23:21:41.696Z"
   },
   {
    "duration": 13,
    "start_time": "2021-10-01T23:21:41.738Z"
   },
   {
    "duration": 7,
    "start_time": "2021-10-01T23:21:41.756Z"
   },
   {
    "duration": 11,
    "start_time": "2021-10-01T23:21:41.765Z"
   },
   {
    "duration": 16,
    "start_time": "2021-10-01T23:21:41.778Z"
   },
   {
    "duration": 13,
    "start_time": "2021-10-01T23:21:41.796Z"
   },
   {
    "duration": 14,
    "start_time": "2021-10-01T23:21:41.811Z"
   },
   {
    "duration": 12,
    "start_time": "2021-10-01T23:21:41.827Z"
   },
   {
    "duration": 16,
    "start_time": "2021-10-01T23:21:41.841Z"
   },
   {
    "duration": 25,
    "start_time": "2021-10-01T23:21:41.859Z"
   },
   {
    "duration": 22,
    "start_time": "2021-10-01T23:21:41.886Z"
   },
   {
    "duration": 15,
    "start_time": "2021-10-01T23:21:41.910Z"
   },
   {
    "duration": 156,
    "start_time": "2021-10-01T23:21:41.926Z"
   },
   {
    "duration": 27,
    "start_time": "2021-10-01T23:21:42.084Z"
   },
   {
    "duration": 422,
    "start_time": "2021-10-01T23:21:42.113Z"
   },
   {
    "duration": 12,
    "start_time": "2021-10-01T23:21:42.538Z"
   },
   {
    "duration": 33,
    "start_time": "2021-10-01T23:21:42.552Z"
   },
   {
    "duration": 9,
    "start_time": "2021-10-01T23:21:42.588Z"
   },
   {
    "duration": 6,
    "start_time": "2021-10-01T23:21:42.600Z"
   },
   {
    "duration": 371,
    "start_time": "2021-10-01T23:21:42.608Z"
   },
   {
    "duration": 10,
    "start_time": "2021-10-01T23:21:42.981Z"
   },
   {
    "duration": 16,
    "start_time": "2021-10-01T23:21:42.993Z"
   },
   {
    "duration": 8,
    "start_time": "2021-10-01T23:21:43.011Z"
   },
   {
    "duration": 15,
    "start_time": "2021-10-01T23:21:43.021Z"
   },
   {
    "duration": 355,
    "start_time": "2021-10-01T23:21:43.038Z"
   },
   {
    "duration": 422,
    "start_time": "2021-10-01T23:21:43.395Z"
   },
   {
    "duration": 19,
    "start_time": "2021-10-01T23:21:43.819Z"
   },
   {
    "duration": 14,
    "start_time": "2021-10-01T23:21:43.839Z"
   },
   {
    "duration": 28,
    "start_time": "2021-10-01T23:21:43.854Z"
   },
   {
    "duration": 16,
    "start_time": "2021-10-01T23:21:43.885Z"
   },
   {
    "duration": 11,
    "start_time": "2021-10-01T23:21:43.903Z"
   },
   {
    "duration": 364,
    "start_time": "2021-10-01T23:21:43.916Z"
   },
   {
    "duration": 10,
    "start_time": "2021-10-01T23:21:44.282Z"
   },
   {
    "duration": 331,
    "start_time": "2021-10-01T23:21:44.294Z"
   },
   {
    "duration": 17,
    "start_time": "2021-10-01T23:21:44.627Z"
   },
   {
    "duration": 39,
    "start_time": "2021-10-01T23:21:44.646Z"
   },
   {
    "duration": 4,
    "start_time": "2021-10-01T23:21:44.687Z"
   },
   {
    "duration": 263,
    "start_time": "2021-10-01T23:21:44.693Z"
   },
   {
    "duration": 19,
    "start_time": "2021-10-01T23:21:44.958Z"
   },
   {
    "duration": 339,
    "start_time": "2021-10-01T23:21:44.979Z"
   },
   {
    "duration": 17,
    "start_time": "2021-10-01T23:21:45.321Z"
   },
   {
    "duration": 36,
    "start_time": "2021-10-01T23:21:45.341Z"
   },
   {
    "duration": 481,
    "start_time": "2021-10-01T23:21:45.380Z"
   },
   {
    "duration": 12,
    "start_time": "2021-10-01T23:21:45.864Z"
   },
   {
    "duration": 21,
    "start_time": "2021-10-01T23:22:39.237Z"
   },
   {
    "duration": 17,
    "start_time": "2021-10-01T23:22:40.476Z"
   },
   {
    "duration": 10,
    "start_time": "2021-10-01T23:22:47.405Z"
   },
   {
    "duration": 17,
    "start_time": "2021-10-01T23:22:47.724Z"
   },
   {
    "duration": 135,
    "start_time": "2021-10-01T23:23:19.369Z"
   },
   {
    "duration": 7,
    "start_time": "2021-10-01T23:23:32.621Z"
   },
   {
    "duration": 7,
    "start_time": "2021-10-01T23:23:37.851Z"
   },
   {
    "duration": 8,
    "start_time": "2021-10-01T23:23:45.196Z"
   },
   {
    "duration": 7,
    "start_time": "2021-10-01T23:24:11.707Z"
   },
   {
    "duration": 360,
    "start_time": "2021-10-01T23:26:13.902Z"
   },
   {
    "duration": 5,
    "start_time": "2021-10-01T23:27:00.456Z"
   },
   {
    "duration": 22,
    "start_time": "2021-10-01T23:27:00.464Z"
   },
   {
    "duration": 11,
    "start_time": "2021-10-01T23:27:00.488Z"
   },
   {
    "duration": 9,
    "start_time": "2021-10-01T23:27:00.502Z"
   },
   {
    "duration": 14,
    "start_time": "2021-10-01T23:27:00.514Z"
   },
   {
    "duration": 14,
    "start_time": "2021-10-01T23:27:00.531Z"
   },
   {
    "duration": 41,
    "start_time": "2021-10-01T23:27:00.548Z"
   },
   {
    "duration": 29,
    "start_time": "2021-10-01T23:27:00.591Z"
   },
   {
    "duration": 31,
    "start_time": "2021-10-01T23:27:00.623Z"
   },
   {
    "duration": 34,
    "start_time": "2021-10-01T23:27:00.660Z"
   },
   {
    "duration": 18,
    "start_time": "2021-10-01T23:27:00.697Z"
   },
   {
    "duration": 24,
    "start_time": "2021-10-01T23:27:00.717Z"
   },
   {
    "duration": 34,
    "start_time": "2021-10-01T23:27:00.743Z"
   },
   {
    "duration": 13,
    "start_time": "2021-10-01T23:27:00.779Z"
   },
   {
    "duration": 14,
    "start_time": "2021-10-01T23:27:00.794Z"
   },
   {
    "duration": 19,
    "start_time": "2021-10-01T23:27:00.810Z"
   },
   {
    "duration": 23,
    "start_time": "2021-10-01T23:27:00.831Z"
   },
   {
    "duration": 21,
    "start_time": "2021-10-01T23:27:00.856Z"
   },
   {
    "duration": 16,
    "start_time": "2021-10-01T23:27:00.879Z"
   },
   {
    "duration": 23,
    "start_time": "2021-10-01T23:27:00.897Z"
   },
   {
    "duration": 17,
    "start_time": "2021-10-01T23:27:00.922Z"
   },
   {
    "duration": 41,
    "start_time": "2021-10-01T23:27:00.941Z"
   },
   {
    "duration": 21,
    "start_time": "2021-10-01T23:27:00.985Z"
   },
   {
    "duration": 18,
    "start_time": "2021-10-01T23:27:01.008Z"
   },
   {
    "duration": 20,
    "start_time": "2021-10-01T23:27:01.028Z"
   },
   {
    "duration": 14,
    "start_time": "2021-10-01T23:27:01.050Z"
   },
   {
    "duration": 23,
    "start_time": "2021-10-01T23:27:01.066Z"
   },
   {
    "duration": 15,
    "start_time": "2021-10-01T23:27:01.094Z"
   },
   {
    "duration": 15,
    "start_time": "2021-10-01T23:27:01.112Z"
   },
   {
    "duration": 23,
    "start_time": "2021-10-01T23:27:01.129Z"
   },
   {
    "duration": 34,
    "start_time": "2021-10-01T23:27:01.155Z"
   },
   {
    "duration": 32,
    "start_time": "2021-10-01T23:27:01.191Z"
   },
   {
    "duration": 57,
    "start_time": "2021-10-01T23:27:01.225Z"
   },
   {
    "duration": 190,
    "start_time": "2021-10-01T23:27:01.284Z"
   },
   {
    "duration": 24,
    "start_time": "2021-10-01T23:27:01.476Z"
   },
   {
    "duration": 400,
    "start_time": "2021-10-01T23:27:01.502Z"
   },
   {
    "duration": 11,
    "start_time": "2021-10-01T23:27:01.904Z"
   },
   {
    "duration": 20,
    "start_time": "2021-10-01T23:27:01.917Z"
   },
   {
    "duration": 24,
    "start_time": "2021-10-01T23:27:01.939Z"
   },
   {
    "duration": 27,
    "start_time": "2021-10-01T23:27:01.965Z"
   },
   {
    "duration": 603,
    "start_time": "2021-10-01T23:27:01.994Z"
   },
   {
    "duration": 15,
    "start_time": "2021-10-01T23:27:02.600Z"
   },
   {
    "duration": 24,
    "start_time": "2021-10-01T23:27:02.618Z"
   },
   {
    "duration": 34,
    "start_time": "2021-10-01T23:27:02.645Z"
   },
   {
    "duration": 12,
    "start_time": "2021-10-01T23:27:02.682Z"
   },
   {
    "duration": 694,
    "start_time": "2021-10-01T23:27:02.696Z"
   },
   {
    "duration": 612,
    "start_time": "2021-10-01T23:27:03.393Z"
   },
   {
    "duration": 28,
    "start_time": "2021-10-01T23:27:04.008Z"
   },
   {
    "duration": 15,
    "start_time": "2021-10-01T23:27:04.039Z"
   },
   {
    "duration": 31,
    "start_time": "2021-10-01T23:27:04.057Z"
   },
   {
    "duration": 21,
    "start_time": "2021-10-01T23:27:04.091Z"
   },
   {
    "duration": 27,
    "start_time": "2021-10-01T23:27:04.115Z"
   },
   {
    "duration": 573,
    "start_time": "2021-10-01T23:27:04.145Z"
   },
   {
    "duration": 10,
    "start_time": "2021-10-01T23:27:04.721Z"
   },
   {
    "duration": 321,
    "start_time": "2021-10-01T23:27:04.733Z"
   },
   {
    "duration": 30,
    "start_time": "2021-10-01T23:27:05.056Z"
   },
   {
    "duration": 13,
    "start_time": "2021-10-01T23:27:05.087Z"
   },
   {
    "duration": 4,
    "start_time": "2021-10-01T23:27:05.102Z"
   },
   {
    "duration": 275,
    "start_time": "2021-10-01T23:27:05.108Z"
   },
   {
    "duration": 5,
    "start_time": "2021-10-01T23:27:05.385Z"
   },
   {
    "duration": 330,
    "start_time": "2021-10-01T23:27:05.392Z"
   },
   {
    "duration": 12,
    "start_time": "2021-10-01T23:27:05.724Z"
   },
   {
    "duration": 16,
    "start_time": "2021-10-01T23:27:05.737Z"
   },
   {
    "duration": 360,
    "start_time": "2021-10-01T23:27:05.755Z"
   },
   {
    "duration": 5,
    "start_time": "2021-10-01T23:27:06.118Z"
   },
   {
    "duration": 134,
    "start_time": "2021-10-01T23:27:06.125Z"
   },
   {
    "duration": 17,
    "start_time": "2021-10-01T23:27:06.261Z"
   },
   {
    "duration": 11,
    "start_time": "2021-10-01T23:27:06.280Z"
   },
   {
    "duration": 19,
    "start_time": "2021-10-01T23:27:06.293Z"
   },
   {
    "duration": 12,
    "start_time": "2021-10-01T23:36:01.812Z"
   },
   {
    "duration": 16,
    "start_time": "2021-10-01T23:36:16.883Z"
   },
   {
    "duration": 14,
    "start_time": "2021-10-01T23:36:45.235Z"
   },
   {
    "duration": 14,
    "start_time": "2021-10-01T23:38:18.850Z"
   },
   {
    "duration": 13,
    "start_time": "2021-10-01T23:38:37.128Z"
   },
   {
    "duration": 15,
    "start_time": "2021-10-01T23:38:47.527Z"
   },
   {
    "duration": 113,
    "start_time": "2021-10-01T23:39:31.231Z"
   },
   {
    "duration": 12,
    "start_time": "2021-10-01T23:39:33.663Z"
   },
   {
    "duration": 100,
    "start_time": "2021-10-01T23:40:00.809Z"
   },
   {
    "duration": 13,
    "start_time": "2021-10-01T23:40:01.286Z"
   },
   {
    "duration": 7,
    "start_time": "2021-10-01T23:40:35.632Z"
   },
   {
    "duration": 7,
    "start_time": "2021-10-01T23:40:45.005Z"
   },
   {
    "duration": 18,
    "start_time": "2021-10-01T23:54:12.557Z"
   },
   {
    "duration": 10,
    "start_time": "2021-10-02T00:14:08.918Z"
   },
   {
    "duration": 10,
    "start_time": "2021-10-02T00:15:49.775Z"
   },
   {
    "duration": 17,
    "start_time": "2021-10-02T00:18:05.686Z"
   },
   {
    "duration": 123,
    "start_time": "2021-10-02T00:19:44.333Z"
   },
   {
    "duration": 27,
    "start_time": "2021-10-02T00:20:17.802Z"
   },
   {
    "duration": 7,
    "start_time": "2021-10-02T00:20:59.938Z"
   },
   {
    "duration": 10,
    "start_time": "2021-10-02T00:21:45.777Z"
   },
   {
    "duration": 19,
    "start_time": "2021-10-02T00:28:43.611Z"
   },
   {
    "duration": 5,
    "start_time": "2021-10-02T00:28:47.053Z"
   },
   {
    "duration": 20,
    "start_time": "2021-10-02T00:28:47.061Z"
   },
   {
    "duration": 11,
    "start_time": "2021-10-02T00:28:47.085Z"
   },
   {
    "duration": 9,
    "start_time": "2021-10-02T00:28:47.099Z"
   },
   {
    "duration": 23,
    "start_time": "2021-10-02T00:28:47.111Z"
   },
   {
    "duration": 44,
    "start_time": "2021-10-02T00:28:47.137Z"
   },
   {
    "duration": 12,
    "start_time": "2021-10-02T00:28:47.185Z"
   },
   {
    "duration": 9,
    "start_time": "2021-10-02T00:28:47.201Z"
   },
   {
    "duration": 12,
    "start_time": "2021-10-02T00:28:47.212Z"
   },
   {
    "duration": 52,
    "start_time": "2021-10-02T00:28:47.226Z"
   },
   {
    "duration": 12,
    "start_time": "2021-10-02T00:28:47.280Z"
   },
   {
    "duration": 28,
    "start_time": "2021-10-02T00:28:47.294Z"
   },
   {
    "duration": 18,
    "start_time": "2021-10-02T00:28:47.325Z"
   },
   {
    "duration": 9,
    "start_time": "2021-10-02T00:28:47.345Z"
   },
   {
    "duration": 25,
    "start_time": "2021-10-02T00:28:47.356Z"
   },
   {
    "duration": 5,
    "start_time": "2021-10-02T00:28:47.383Z"
   },
   {
    "duration": 10,
    "start_time": "2021-10-02T00:28:47.390Z"
   },
   {
    "duration": 16,
    "start_time": "2021-10-02T00:28:47.402Z"
   },
   {
    "duration": 18,
    "start_time": "2021-10-02T00:28:47.422Z"
   },
   {
    "duration": 16,
    "start_time": "2021-10-02T00:28:47.442Z"
   },
   {
    "duration": 7,
    "start_time": "2021-10-02T00:28:47.460Z"
   },
   {
    "duration": 45,
    "start_time": "2021-10-02T00:28:47.468Z"
   },
   {
    "duration": 10,
    "start_time": "2021-10-02T00:28:47.515Z"
   },
   {
    "duration": 7,
    "start_time": "2021-10-02T00:28:47.527Z"
   },
   {
    "duration": 13,
    "start_time": "2021-10-02T00:28:47.536Z"
   },
   {
    "duration": 14,
    "start_time": "2021-10-02T00:28:47.552Z"
   },
   {
    "duration": 15,
    "start_time": "2021-10-02T00:28:47.568Z"
   },
   {
    "duration": 17,
    "start_time": "2021-10-02T00:28:47.585Z"
   },
   {
    "duration": 10,
    "start_time": "2021-10-02T00:28:47.604Z"
   },
   {
    "duration": 17,
    "start_time": "2021-10-02T00:28:47.616Z"
   },
   {
    "duration": 23,
    "start_time": "2021-10-02T00:28:47.635Z"
   },
   {
    "duration": 24,
    "start_time": "2021-10-02T00:28:47.660Z"
   },
   {
    "duration": 16,
    "start_time": "2021-10-02T00:28:47.685Z"
   },
   {
    "duration": 293,
    "start_time": "2021-10-02T00:28:47.704Z"
   },
   {
    "duration": 40,
    "start_time": "2021-10-02T00:28:48.000Z"
   },
   {
    "duration": 825,
    "start_time": "2021-10-02T00:28:48.043Z"
   },
   {
    "duration": 15,
    "start_time": "2021-10-02T00:28:48.870Z"
   },
   {
    "duration": 17,
    "start_time": "2021-10-02T00:28:48.887Z"
   },
   {
    "duration": 10,
    "start_time": "2021-10-02T00:28:48.905Z"
   },
   {
    "duration": 9,
    "start_time": "2021-10-02T00:28:48.916Z"
   },
   {
    "duration": 361,
    "start_time": "2021-10-02T00:28:48.927Z"
   },
   {
    "duration": 8,
    "start_time": "2021-10-02T00:28:49.290Z"
   },
   {
    "duration": 18,
    "start_time": "2021-10-02T00:28:49.300Z"
   },
   {
    "duration": 8,
    "start_time": "2021-10-02T00:28:49.319Z"
   },
   {
    "duration": 6,
    "start_time": "2021-10-02T00:28:49.329Z"
   },
   {
    "duration": 344,
    "start_time": "2021-10-02T00:28:49.336Z"
   },
   {
    "duration": 397,
    "start_time": "2021-10-02T00:28:49.682Z"
   },
   {
    "duration": 17,
    "start_time": "2021-10-02T00:28:50.081Z"
   },
   {
    "duration": 9,
    "start_time": "2021-10-02T00:28:50.100Z"
   },
   {
    "duration": 11,
    "start_time": "2021-10-02T00:28:50.111Z"
   },
   {
    "duration": 11,
    "start_time": "2021-10-02T00:28:50.124Z"
   },
   {
    "duration": 47,
    "start_time": "2021-10-02T00:28:50.137Z"
   },
   {
    "duration": 409,
    "start_time": "2021-10-02T00:28:50.186Z"
   },
   {
    "duration": 10,
    "start_time": "2021-10-02T00:28:50.597Z"
   },
   {
    "duration": 339,
    "start_time": "2021-10-02T00:28:50.612Z"
   },
   {
    "duration": 27,
    "start_time": "2021-10-02T00:28:50.953Z"
   },
   {
    "duration": 15,
    "start_time": "2021-10-02T00:28:50.982Z"
   },
   {
    "duration": 6,
    "start_time": "2021-10-02T00:28:50.999Z"
   },
   {
    "duration": 280,
    "start_time": "2021-10-02T00:28:51.006Z"
   },
   {
    "duration": 5,
    "start_time": "2021-10-02T00:28:51.288Z"
   },
   {
    "duration": 308,
    "start_time": "2021-10-02T00:28:51.296Z"
   },
   {
    "duration": 12,
    "start_time": "2021-10-02T00:28:51.606Z"
   },
   {
    "duration": 12,
    "start_time": "2021-10-02T00:28:51.620Z"
   },
   {
    "duration": 350,
    "start_time": "2021-10-02T00:28:51.634Z"
   },
   {
    "duration": 6,
    "start_time": "2021-10-02T00:28:51.987Z"
   },
   {
    "duration": 280,
    "start_time": "2021-10-02T00:28:51.996Z"
   },
   {
    "duration": 10,
    "start_time": "2021-10-02T00:28:52.279Z"
   },
   {
    "duration": 12,
    "start_time": "2021-10-02T00:28:52.291Z"
   },
   {
    "duration": 13,
    "start_time": "2021-10-02T00:28:52.305Z"
   },
   {
    "duration": 9,
    "start_time": "2021-10-02T00:28:52.320Z"
   },
   {
    "duration": 57,
    "start_time": "2021-10-02T00:28:52.331Z"
   },
   {
    "duration": 11,
    "start_time": "2021-10-02T00:30:19.734Z"
   },
   {
    "duration": 17,
    "start_time": "2021-10-02T00:30:20.090Z"
   },
   {
    "duration": 790,
    "start_time": "2021-10-02T06:13:43.024Z"
   },
   {
    "duration": 1070,
    "start_time": "2021-10-02T06:13:49.206Z"
   },
   {
    "duration": 17,
    "start_time": "2021-10-02T06:13:50.278Z"
   },
   {
    "duration": 12,
    "start_time": "2021-10-02T06:13:50.297Z"
   },
   {
    "duration": 5,
    "start_time": "2021-10-02T06:13:50.311Z"
   },
   {
    "duration": 13,
    "start_time": "2021-10-02T06:13:50.318Z"
   },
   {
    "duration": 10,
    "start_time": "2021-10-02T06:13:50.332Z"
   },
   {
    "duration": 8,
    "start_time": "2021-10-02T06:13:50.344Z"
   },
   {
    "duration": 7,
    "start_time": "2021-10-02T06:13:50.377Z"
   },
   {
    "duration": 12,
    "start_time": "2021-10-02T06:13:50.388Z"
   },
   {
    "duration": 13,
    "start_time": "2021-10-02T06:13:50.403Z"
   },
   {
    "duration": 13,
    "start_time": "2021-10-02T06:13:50.418Z"
   },
   {
    "duration": 43,
    "start_time": "2021-10-02T06:13:50.434Z"
   },
   {
    "duration": 18,
    "start_time": "2021-10-02T06:13:50.479Z"
   },
   {
    "duration": 9,
    "start_time": "2021-10-02T06:13:50.499Z"
   },
   {
    "duration": 7,
    "start_time": "2021-10-02T06:13:50.510Z"
   },
   {
    "duration": 6,
    "start_time": "2021-10-02T06:13:50.519Z"
   },
   {
    "duration": 8,
    "start_time": "2021-10-02T06:13:50.527Z"
   },
   {
    "duration": 40,
    "start_time": "2021-10-02T06:13:50.537Z"
   },
   {
    "duration": 5,
    "start_time": "2021-10-02T06:13:50.579Z"
   },
   {
    "duration": 13,
    "start_time": "2021-10-02T06:13:50.586Z"
   },
   {
    "duration": 7,
    "start_time": "2021-10-02T06:13:50.601Z"
   },
   {
    "duration": 52,
    "start_time": "2021-10-02T06:13:50.611Z"
   },
   {
    "duration": 8,
    "start_time": "2021-10-02T06:13:50.665Z"
   },
   {
    "duration": 5,
    "start_time": "2021-10-02T06:13:50.675Z"
   },
   {
    "duration": 11,
    "start_time": "2021-10-02T06:13:50.682Z"
   },
   {
    "duration": 8,
    "start_time": "2021-10-02T06:13:50.695Z"
   },
   {
    "duration": 6,
    "start_time": "2021-10-02T06:13:50.707Z"
   },
   {
    "duration": 7,
    "start_time": "2021-10-02T06:13:50.716Z"
   },
   {
    "duration": 9,
    "start_time": "2021-10-02T06:13:50.725Z"
   },
   {
    "duration": 7,
    "start_time": "2021-10-02T06:13:50.736Z"
   },
   {
    "duration": 39,
    "start_time": "2021-10-02T06:13:50.744Z"
   },
   {
    "duration": 17,
    "start_time": "2021-10-02T06:13:50.785Z"
   },
   {
    "duration": 15,
    "start_time": "2021-10-02T06:13:50.804Z"
   },
   {
    "duration": 151,
    "start_time": "2021-10-02T06:13:50.820Z"
   },
   {
    "duration": 23,
    "start_time": "2021-10-02T06:13:50.976Z"
   },
   {
    "duration": 390,
    "start_time": "2021-10-02T06:13:51.001Z"
   },
   {
    "duration": 11,
    "start_time": "2021-10-02T06:13:51.393Z"
   },
   {
    "duration": 16,
    "start_time": "2021-10-02T06:13:51.406Z"
   },
   {
    "duration": 10,
    "start_time": "2021-10-02T06:13:51.424Z"
   },
   {
    "duration": 6,
    "start_time": "2021-10-02T06:13:51.436Z"
   },
   {
    "duration": 324,
    "start_time": "2021-10-02T06:13:51.477Z"
   },
   {
    "duration": 10,
    "start_time": "2021-10-02T06:13:51.803Z"
   },
   {
    "duration": 13,
    "start_time": "2021-10-02T06:13:51.815Z"
   },
   {
    "duration": 7,
    "start_time": "2021-10-02T06:13:51.830Z"
   },
   {
    "duration": 40,
    "start_time": "2021-10-02T06:13:51.839Z"
   },
   {
    "duration": 301,
    "start_time": "2021-10-02T06:13:51.881Z"
   },
   {
    "duration": 401,
    "start_time": "2021-10-02T06:13:52.183Z"
   },
   {
    "duration": 17,
    "start_time": "2021-10-02T06:13:52.585Z"
   },
   {
    "duration": 8,
    "start_time": "2021-10-02T06:13:52.603Z"
   },
   {
    "duration": 12,
    "start_time": "2021-10-02T06:13:52.613Z"
   },
   {
    "duration": 10,
    "start_time": "2021-10-02T06:13:52.627Z"
   },
   {
    "duration": 9,
    "start_time": "2021-10-02T06:13:52.639Z"
   },
   {
    "duration": 338,
    "start_time": "2021-10-02T06:13:52.649Z"
   },
   {
    "duration": 9,
    "start_time": "2021-10-02T06:13:52.989Z"
   },
   {
    "duration": 419,
    "start_time": "2021-10-02T06:13:53.000Z"
   },
   {
    "duration": 17,
    "start_time": "2021-10-02T06:13:53.420Z"
   },
   {
    "duration": 13,
    "start_time": "2021-10-02T06:13:53.438Z"
   },
   {
    "duration": 25,
    "start_time": "2021-10-02T06:13:53.453Z"
   },
   {
    "duration": 284,
    "start_time": "2021-10-02T06:13:53.479Z"
   },
   {
    "duration": 15,
    "start_time": "2021-10-02T06:13:53.764Z"
   },
   {
    "duration": 336,
    "start_time": "2021-10-02T06:13:53.780Z"
   },
   {
    "duration": 12,
    "start_time": "2021-10-02T06:13:54.118Z"
   },
   {
    "duration": 12,
    "start_time": "2021-10-02T06:13:54.133Z"
   },
   {
    "duration": 359,
    "start_time": "2021-10-02T06:13:54.148Z"
   },
   {
    "duration": 4,
    "start_time": "2021-10-02T06:13:54.508Z"
   },
   {
    "duration": 206,
    "start_time": "2021-10-02T06:13:54.514Z"
   },
   {
    "duration": 5,
    "start_time": "2021-10-02T06:13:54.722Z"
   },
   {
    "duration": 8,
    "start_time": "2021-10-02T06:13:54.729Z"
   },
   {
    "duration": 13,
    "start_time": "2021-10-02T06:13:54.739Z"
   },
   {
    "duration": 27,
    "start_time": "2021-10-02T06:13:54.754Z"
   },
   {
    "duration": 16,
    "start_time": "2021-10-02T06:13:54.783Z"
   },
   {
    "duration": 10,
    "start_time": "2021-10-02T06:13:55.986Z"
   },
   {
    "duration": 5,
    "start_time": "2021-10-02T06:14:33.959Z"
   },
   {
    "duration": 4,
    "start_time": "2021-10-02T06:15:28.666Z"
   },
   {
    "duration": 12,
    "start_time": "2021-10-02T06:15:49.151Z"
   },
   {
    "duration": 11,
    "start_time": "2021-10-02T06:16:34.923Z"
   },
   {
    "duration": 11,
    "start_time": "2021-10-02T06:16:43.738Z"
   },
   {
    "duration": 10,
    "start_time": "2021-10-02T06:16:49.083Z"
   },
   {
    "duration": 11,
    "start_time": "2021-10-02T06:16:54.425Z"
   },
   {
    "duration": 413,
    "start_time": "2021-10-02T06:20:47.091Z"
   },
   {
    "duration": 14,
    "start_time": "2021-10-02T06:21:15.774Z"
   },
   {
    "duration": 8,
    "start_time": "2021-10-02T06:22:10.349Z"
   },
   {
    "duration": 10,
    "start_time": "2021-10-02T06:22:30.870Z"
   },
   {
    "duration": 391,
    "start_time": "2021-10-02T06:22:41.972Z"
   },
   {
    "duration": 10,
    "start_time": "2021-10-02T06:22:48.899Z"
   },
   {
    "duration": 10,
    "start_time": "2021-10-02T06:23:06.660Z"
   },
   {
    "duration": 6,
    "start_time": "2021-10-02T06:23:16.978Z"
   },
   {
    "duration": 10,
    "start_time": "2021-10-02T06:23:28.535Z"
   },
   {
    "duration": 10,
    "start_time": "2021-10-02T06:23:47.874Z"
   },
   {
    "duration": 696,
    "start_time": "2021-10-02T06:27:01.476Z"
   },
   {
    "duration": 12,
    "start_time": "2021-10-02T06:27:07.917Z"
   },
   {
    "duration": 13,
    "start_time": "2021-10-02T06:41:33.055Z"
   },
   {
    "duration": 11,
    "start_time": "2021-10-02T06:41:54.712Z"
   },
   {
    "duration": 10,
    "start_time": "2021-10-02T06:45:58.875Z"
   },
   {
    "duration": 10,
    "start_time": "2021-10-02T06:46:35.018Z"
   },
   {
    "duration": 125,
    "start_time": "2021-10-02T06:48:01.930Z"
   },
   {
    "duration": 118,
    "start_time": "2021-10-02T06:48:16.771Z"
   },
   {
    "duration": 6,
    "start_time": "2021-10-02T06:48:49.436Z"
   },
   {
    "duration": 5,
    "start_time": "2021-10-02T06:48:59.065Z"
   },
   {
    "duration": 10,
    "start_time": "2021-10-02T06:49:27.502Z"
   },
   {
    "duration": 8,
    "start_time": "2021-10-02T06:50:14.043Z"
   },
   {
    "duration": 4,
    "start_time": "2021-10-02T07:16:53.904Z"
   },
   {
    "duration": 16,
    "start_time": "2021-10-02T07:16:53.912Z"
   },
   {
    "duration": 8,
    "start_time": "2021-10-02T07:16:53.930Z"
   },
   {
    "duration": 7,
    "start_time": "2021-10-02T07:16:53.940Z"
   },
   {
    "duration": 13,
    "start_time": "2021-10-02T07:16:53.949Z"
   },
   {
    "duration": 10,
    "start_time": "2021-10-02T07:16:53.964Z"
   },
   {
    "duration": 8,
    "start_time": "2021-10-02T07:16:53.975Z"
   },
   {
    "duration": 7,
    "start_time": "2021-10-02T07:16:53.985Z"
   },
   {
    "duration": 14,
    "start_time": "2021-10-02T07:16:53.995Z"
   },
   {
    "duration": 12,
    "start_time": "2021-10-02T07:16:54.011Z"
   },
   {
    "duration": 12,
    "start_time": "2021-10-02T07:16:54.025Z"
   },
   {
    "duration": 39,
    "start_time": "2021-10-02T07:16:54.039Z"
   },
   {
    "duration": 17,
    "start_time": "2021-10-02T07:16:54.080Z"
   },
   {
    "duration": 12,
    "start_time": "2021-10-02T07:16:54.099Z"
   },
   {
    "duration": 6,
    "start_time": "2021-10-02T07:16:54.113Z"
   },
   {
    "duration": 6,
    "start_time": "2021-10-02T07:16:54.121Z"
   },
   {
    "duration": 7,
    "start_time": "2021-10-02T07:16:54.129Z"
   },
   {
    "duration": 5,
    "start_time": "2021-10-02T07:16:54.138Z"
   },
   {
    "duration": 33,
    "start_time": "2021-10-02T07:16:54.145Z"
   },
   {
    "duration": 8,
    "start_time": "2021-10-02T07:16:54.180Z"
   },
   {
    "duration": 6,
    "start_time": "2021-10-02T07:16:54.190Z"
   },
   {
    "duration": 39,
    "start_time": "2021-10-02T07:16:54.197Z"
   },
   {
    "duration": 9,
    "start_time": "2021-10-02T07:16:54.238Z"
   },
   {
    "duration": 3,
    "start_time": "2021-10-02T07:16:54.250Z"
   },
   {
    "duration": 10,
    "start_time": "2021-10-02T07:16:54.255Z"
   },
   {
    "duration": 9,
    "start_time": "2021-10-02T07:16:54.267Z"
   },
   {
    "duration": 6,
    "start_time": "2021-10-02T07:16:54.279Z"
   },
   {
    "duration": 5,
    "start_time": "2021-10-02T07:16:54.287Z"
   },
   {
    "duration": 7,
    "start_time": "2021-10-02T07:16:54.293Z"
   },
   {
    "duration": 6,
    "start_time": "2021-10-02T07:16:54.302Z"
   },
   {
    "duration": 11,
    "start_time": "2021-10-02T07:16:54.309Z"
   },
   {
    "duration": 16,
    "start_time": "2021-10-02T07:16:54.321Z"
   },
   {
    "duration": 50,
    "start_time": "2021-10-02T07:16:54.339Z"
   },
   {
    "duration": 144,
    "start_time": "2021-10-02T07:16:54.391Z"
   },
   {
    "duration": 21,
    "start_time": "2021-10-02T07:16:54.537Z"
   },
   {
    "duration": 374,
    "start_time": "2021-10-02T07:16:54.560Z"
   },
   {
    "duration": 9,
    "start_time": "2021-10-02T07:16:54.936Z"
   },
   {
    "duration": 15,
    "start_time": "2021-10-02T07:16:54.946Z"
   },
   {
    "duration": 20,
    "start_time": "2021-10-02T07:16:54.962Z"
   },
   {
    "duration": 3,
    "start_time": "2021-10-02T07:16:54.984Z"
   },
   {
    "duration": 316,
    "start_time": "2021-10-02T07:16:54.989Z"
   },
   {
    "duration": 8,
    "start_time": "2021-10-02T07:16:55.306Z"
   },
   {
    "duration": 11,
    "start_time": "2021-10-02T07:16:55.316Z"
   },
   {
    "duration": 7,
    "start_time": "2021-10-02T07:16:55.328Z"
   },
   {
    "duration": 4,
    "start_time": "2021-10-02T07:16:55.337Z"
   },
   {
    "duration": 317,
    "start_time": "2021-10-02T07:16:55.342Z"
   },
   {
    "duration": 424,
    "start_time": "2021-10-02T07:16:58.164Z"
   },
   {
    "duration": 4,
    "start_time": "2021-10-02T07:21:07.742Z"
   },
   {
    "duration": 18,
    "start_time": "2021-10-02T07:21:07.748Z"
   },
   {
    "duration": 8,
    "start_time": "2021-10-02T07:21:07.768Z"
   },
   {
    "duration": 5,
    "start_time": "2021-10-02T07:21:07.778Z"
   },
   {
    "duration": 14,
    "start_time": "2021-10-02T07:21:07.785Z"
   },
   {
    "duration": 7,
    "start_time": "2021-10-02T07:21:07.801Z"
   },
   {
    "duration": 7,
    "start_time": "2021-10-02T07:21:07.810Z"
   },
   {
    "duration": 9,
    "start_time": "2021-10-02T07:21:07.820Z"
   },
   {
    "duration": 11,
    "start_time": "2021-10-02T07:21:07.832Z"
   },
   {
    "duration": 11,
    "start_time": "2021-10-02T07:21:07.878Z"
   },
   {
    "duration": 12,
    "start_time": "2021-10-02T07:21:07.890Z"
   },
   {
    "duration": 4,
    "start_time": "2021-10-02T07:21:07.904Z"
   },
   {
    "duration": 17,
    "start_time": "2021-10-02T07:21:07.910Z"
   },
   {
    "duration": 9,
    "start_time": "2021-10-02T07:21:07.929Z"
   },
   {
    "duration": 9,
    "start_time": "2021-10-02T07:21:07.940Z"
   },
   {
    "duration": 4,
    "start_time": "2021-10-02T07:21:07.977Z"
   },
   {
    "duration": 11,
    "start_time": "2021-10-02T07:21:07.983Z"
   },
   {
    "duration": 7,
    "start_time": "2021-10-02T07:21:07.996Z"
   },
   {
    "duration": 5,
    "start_time": "2021-10-02T07:21:08.004Z"
   },
   {
    "duration": 8,
    "start_time": "2021-10-02T07:21:08.010Z"
   },
   {
    "duration": 8,
    "start_time": "2021-10-02T07:21:08.020Z"
   },
   {
    "duration": 39,
    "start_time": "2021-10-02T07:21:08.030Z"
   },
   {
    "duration": 9,
    "start_time": "2021-10-02T07:21:08.077Z"
   },
   {
    "duration": 5,
    "start_time": "2021-10-02T07:21:08.088Z"
   },
   {
    "duration": 8,
    "start_time": "2021-10-02T07:21:08.095Z"
   },
   {
    "duration": 6,
    "start_time": "2021-10-02T07:21:08.105Z"
   },
   {
    "duration": 8,
    "start_time": "2021-10-02T07:21:08.113Z"
   },
   {
    "duration": 8,
    "start_time": "2021-10-02T07:21:08.123Z"
   },
   {
    "duration": 12,
    "start_time": "2021-10-02T07:21:08.132Z"
   },
   {
    "duration": 33,
    "start_time": "2021-10-02T07:21:08.146Z"
   },
   {
    "duration": 11,
    "start_time": "2021-10-02T07:21:08.181Z"
   },
   {
    "duration": 17,
    "start_time": "2021-10-02T07:21:08.193Z"
   },
   {
    "duration": 14,
    "start_time": "2021-10-02T07:21:08.212Z"
   },
   {
    "duration": 164,
    "start_time": "2021-10-02T07:21:08.228Z"
   },
   {
    "duration": 23,
    "start_time": "2021-10-02T07:21:08.394Z"
   },
   {
    "duration": 375,
    "start_time": "2021-10-02T07:21:08.419Z"
   },
   {
    "duration": 9,
    "start_time": "2021-10-02T07:21:08.796Z"
   },
   {
    "duration": 16,
    "start_time": "2021-10-02T07:21:08.807Z"
   },
   {
    "duration": 7,
    "start_time": "2021-10-02T07:21:08.825Z"
   },
   {
    "duration": 9,
    "start_time": "2021-10-02T07:21:08.833Z"
   },
   {
    "duration": 329,
    "start_time": "2021-10-02T07:21:08.844Z"
   },
   {
    "duration": 9,
    "start_time": "2021-10-02T07:21:09.176Z"
   },
   {
    "duration": 20,
    "start_time": "2021-10-02T07:21:09.186Z"
   },
   {
    "duration": 10,
    "start_time": "2021-10-02T07:21:09.208Z"
   },
   {
    "duration": 14,
    "start_time": "2021-10-02T07:21:09.219Z"
   },
   {
    "duration": 289,
    "start_time": "2021-10-02T07:21:10.147Z"
   },
   {
    "duration": 404,
    "start_time": "2021-10-02T07:21:34.289Z"
   },
   {
    "duration": 4,
    "start_time": "2021-10-02T07:23:03.311Z"
   },
   {
    "duration": 19,
    "start_time": "2021-10-02T07:23:03.317Z"
   },
   {
    "duration": 11,
    "start_time": "2021-10-02T07:23:03.339Z"
   },
   {
    "duration": 8,
    "start_time": "2021-10-02T07:23:03.353Z"
   },
   {
    "duration": 18,
    "start_time": "2021-10-02T07:23:03.363Z"
   },
   {
    "duration": 13,
    "start_time": "2021-10-02T07:23:03.383Z"
   },
   {
    "duration": 12,
    "start_time": "2021-10-02T07:23:03.399Z"
   },
   {
    "duration": 11,
    "start_time": "2021-10-02T07:23:03.414Z"
   },
   {
    "duration": 20,
    "start_time": "2021-10-02T07:23:03.427Z"
   },
   {
    "duration": 44,
    "start_time": "2021-10-02T07:23:03.449Z"
   },
   {
    "duration": 13,
    "start_time": "2021-10-02T07:23:03.496Z"
   },
   {
    "duration": 5,
    "start_time": "2021-10-02T07:23:03.512Z"
   },
   {
    "duration": 28,
    "start_time": "2021-10-02T07:23:03.518Z"
   },
   {
    "duration": 29,
    "start_time": "2021-10-02T07:23:03.549Z"
   },
   {
    "duration": 18,
    "start_time": "2021-10-02T07:23:03.580Z"
   },
   {
    "duration": 7,
    "start_time": "2021-10-02T07:23:03.600Z"
   },
   {
    "duration": 23,
    "start_time": "2021-10-02T07:23:03.609Z"
   },
   {
    "duration": 14,
    "start_time": "2021-10-02T07:23:03.634Z"
   },
   {
    "duration": 14,
    "start_time": "2021-10-02T07:23:03.653Z"
   },
   {
    "duration": 11,
    "start_time": "2021-10-02T07:23:03.670Z"
   },
   {
    "duration": 16,
    "start_time": "2021-10-02T07:23:03.684Z"
   },
   {
    "duration": 41,
    "start_time": "2021-10-02T07:23:03.702Z"
   },
   {
    "duration": 9,
    "start_time": "2021-10-02T07:23:03.745Z"
   },
   {
    "duration": 5,
    "start_time": "2021-10-02T07:23:03.756Z"
   },
   {
    "duration": 10,
    "start_time": "2021-10-02T07:23:03.763Z"
   },
   {
    "duration": 6,
    "start_time": "2021-10-02T07:23:03.774Z"
   },
   {
    "duration": 9,
    "start_time": "2021-10-02T07:23:03.782Z"
   },
   {
    "duration": 5,
    "start_time": "2021-10-02T07:23:03.793Z"
   },
   {
    "duration": 5,
    "start_time": "2021-10-02T07:23:03.800Z"
   },
   {
    "duration": 7,
    "start_time": "2021-10-02T07:23:03.807Z"
   },
   {
    "duration": 12,
    "start_time": "2021-10-02T07:23:03.815Z"
   },
   {
    "duration": 51,
    "start_time": "2021-10-02T07:23:03.829Z"
   },
   {
    "duration": 15,
    "start_time": "2021-10-02T07:23:03.881Z"
   },
   {
    "duration": 152,
    "start_time": "2021-10-02T07:23:03.897Z"
   },
   {
    "duration": 34,
    "start_time": "2021-10-02T07:23:04.051Z"
   },
   {
    "duration": 381,
    "start_time": "2021-10-02T07:23:04.086Z"
   },
   {
    "duration": 15,
    "start_time": "2021-10-02T07:23:04.469Z"
   },
   {
    "duration": 16,
    "start_time": "2021-10-02T07:23:04.486Z"
   },
   {
    "duration": 8,
    "start_time": "2021-10-02T07:23:04.504Z"
   },
   {
    "duration": 6,
    "start_time": "2021-10-02T07:23:04.513Z"
   },
   {
    "duration": 344,
    "start_time": "2021-10-02T07:23:04.520Z"
   },
   {
    "duration": 12,
    "start_time": "2021-10-02T07:23:04.866Z"
   },
   {
    "duration": 21,
    "start_time": "2021-10-02T07:23:04.879Z"
   },
   {
    "duration": 15,
    "start_time": "2021-10-02T07:23:04.902Z"
   },
   {
    "duration": 13,
    "start_time": "2021-10-02T07:23:04.919Z"
   },
   {
    "duration": 316,
    "start_time": "2021-10-02T07:23:04.934Z"
   },
   {
    "duration": 469,
    "start_time": "2021-10-02T07:23:05.252Z"
   },
   {
    "duration": 17,
    "start_time": "2021-10-02T07:23:05.723Z"
   },
   {
    "duration": 9,
    "start_time": "2021-10-02T07:23:05.742Z"
   },
   {
    "duration": 32,
    "start_time": "2021-10-02T07:23:05.753Z"
   },
   {
    "duration": 11,
    "start_time": "2021-10-02T07:23:05.787Z"
   },
   {
    "duration": 12,
    "start_time": "2021-10-02T07:23:05.800Z"
   },
   {
    "duration": 330,
    "start_time": "2021-10-02T07:23:05.814Z"
   },
   {
    "duration": 9,
    "start_time": "2021-10-02T07:23:06.146Z"
   },
   {
    "duration": 322,
    "start_time": "2021-10-02T07:23:06.161Z"
   },
   {
    "duration": 16,
    "start_time": "2021-10-02T07:23:06.485Z"
   },
   {
    "duration": 12,
    "start_time": "2021-10-02T07:23:06.503Z"
   },
   {
    "duration": 5,
    "start_time": "2021-10-02T07:23:06.517Z"
   },
   {
    "duration": 241,
    "start_time": "2021-10-02T07:23:06.524Z"
   },
   {
    "duration": 13,
    "start_time": "2021-10-02T07:23:06.767Z"
   },
   {
    "duration": 327,
    "start_time": "2021-10-02T07:23:06.781Z"
   },
   {
    "duration": 11,
    "start_time": "2021-10-02T07:23:07.110Z"
   },
   {
    "duration": 12,
    "start_time": "2021-10-02T07:23:07.122Z"
   },
   {
    "duration": 347,
    "start_time": "2021-10-02T07:23:07.135Z"
   },
   {
    "duration": 5,
    "start_time": "2021-10-02T07:23:07.484Z"
   },
   {
    "duration": 125,
    "start_time": "2021-10-02T07:23:07.491Z"
   },
   {
    "duration": 6,
    "start_time": "2021-10-02T07:23:07.617Z"
   },
   {
    "duration": 9,
    "start_time": "2021-10-02T07:23:07.624Z"
   },
   {
    "duration": 16,
    "start_time": "2021-10-02T07:23:07.634Z"
   },
   {
    "duration": 28,
    "start_time": "2021-10-02T07:23:07.651Z"
   },
   {
    "duration": 16,
    "start_time": "2021-10-02T07:23:07.681Z"
   },
   {
    "duration": 9,
    "start_time": "2021-10-02T07:23:07.698Z"
   },
   {
    "duration": 10,
    "start_time": "2021-10-02T07:23:07.709Z"
   },
   {
    "duration": 12,
    "start_time": "2021-10-02T07:23:07.721Z"
   },
   {
    "duration": 49,
    "start_time": "2021-10-02T07:23:07.734Z"
   },
   {
    "duration": 9,
    "start_time": "2021-10-02T07:23:07.785Z"
   },
   {
    "duration": 15,
    "start_time": "2021-10-02T07:38:28.576Z"
   },
   {
    "duration": 14,
    "start_time": "2021-10-02T07:38:34.266Z"
   },
   {
    "duration": 7,
    "start_time": "2021-10-02T07:38:51.463Z"
   },
   {
    "duration": 377,
    "start_time": "2021-10-02T07:39:27.864Z"
   },
   {
    "duration": 10,
    "start_time": "2021-10-02T07:39:46.454Z"
   },
   {
    "duration": 362,
    "start_time": "2021-10-02T07:44:54.510Z"
   },
   {
    "duration": 10,
    "start_time": "2021-10-02T07:44:55.885Z"
   },
   {
    "duration": 10,
    "start_time": "2021-10-02T07:45:01.730Z"
   },
   {
    "duration": 9,
    "start_time": "2021-10-02T07:46:54.959Z"
   },
   {
    "duration": 4,
    "start_time": "2021-10-02T07:48:46.138Z"
   },
   {
    "duration": 22,
    "start_time": "2021-10-02T07:48:46.146Z"
   },
   {
    "duration": 10,
    "start_time": "2021-10-02T07:48:46.170Z"
   },
   {
    "duration": 7,
    "start_time": "2021-10-02T07:48:46.182Z"
   },
   {
    "duration": 15,
    "start_time": "2021-10-02T07:48:46.191Z"
   },
   {
    "duration": 9,
    "start_time": "2021-10-02T07:48:46.208Z"
   },
   {
    "duration": 11,
    "start_time": "2021-10-02T07:48:46.218Z"
   },
   {
    "duration": 16,
    "start_time": "2021-10-02T07:48:46.230Z"
   },
   {
    "duration": 41,
    "start_time": "2021-10-02T07:48:46.249Z"
   },
   {
    "duration": 19,
    "start_time": "2021-10-02T07:48:46.292Z"
   },
   {
    "duration": 12,
    "start_time": "2021-10-02T07:48:46.313Z"
   },
   {
    "duration": 8,
    "start_time": "2021-10-02T07:48:46.327Z"
   },
   {
    "duration": 19,
    "start_time": "2021-10-02T07:48:46.337Z"
   },
   {
    "duration": 24,
    "start_time": "2021-10-02T07:48:46.358Z"
   },
   {
    "duration": 6,
    "start_time": "2021-10-02T07:48:46.384Z"
   },
   {
    "duration": 7,
    "start_time": "2021-10-02T07:48:46.392Z"
   },
   {
    "duration": 12,
    "start_time": "2021-10-02T07:48:46.401Z"
   },
   {
    "duration": 8,
    "start_time": "2021-10-02T07:48:46.415Z"
   },
   {
    "duration": 5,
    "start_time": "2021-10-02T07:48:46.425Z"
   },
   {
    "duration": 48,
    "start_time": "2021-10-02T07:48:46.432Z"
   },
   {
    "duration": 6,
    "start_time": "2021-10-02T07:48:46.482Z"
   },
   {
    "duration": 40,
    "start_time": "2021-10-02T07:48:46.490Z"
   },
   {
    "duration": 9,
    "start_time": "2021-10-02T07:48:46.531Z"
   },
   {
    "duration": 3,
    "start_time": "2021-10-02T07:48:46.544Z"
   },
   {
    "duration": 8,
    "start_time": "2021-10-02T07:48:46.549Z"
   },
   {
    "duration": 5,
    "start_time": "2021-10-02T07:48:46.559Z"
   },
   {
    "duration": 14,
    "start_time": "2021-10-02T07:48:46.566Z"
   },
   {
    "duration": 5,
    "start_time": "2021-10-02T07:48:46.581Z"
   },
   {
    "duration": 5,
    "start_time": "2021-10-02T07:48:46.588Z"
   },
   {
    "duration": 8,
    "start_time": "2021-10-02T07:48:46.595Z"
   },
   {
    "duration": 17,
    "start_time": "2021-10-02T07:48:46.604Z"
   },
   {
    "duration": 17,
    "start_time": "2021-10-02T07:48:46.623Z"
   },
   {
    "duration": 41,
    "start_time": "2021-10-02T07:48:46.642Z"
   },
   {
    "duration": 148,
    "start_time": "2021-10-02T07:48:46.685Z"
   },
   {
    "duration": 23,
    "start_time": "2021-10-02T07:48:46.835Z"
   },
   {
    "duration": 390,
    "start_time": "2021-10-02T07:48:46.860Z"
   },
   {
    "duration": 10,
    "start_time": "2021-10-02T07:48:47.251Z"
   },
   {
    "duration": 28,
    "start_time": "2021-10-02T07:48:47.262Z"
   },
   {
    "duration": 14,
    "start_time": "2021-10-02T07:48:47.292Z"
   },
   {
    "duration": 10,
    "start_time": "2021-10-02T07:48:47.309Z"
   },
   {
    "duration": 389,
    "start_time": "2021-10-02T07:48:47.322Z"
   },
   {
    "duration": 8,
    "start_time": "2021-10-02T07:48:47.713Z"
   },
   {
    "duration": 12,
    "start_time": "2021-10-02T07:48:47.722Z"
   },
   {
    "duration": 6,
    "start_time": "2021-10-02T07:48:47.736Z"
   },
   {
    "duration": 5,
    "start_time": "2021-10-02T07:48:47.743Z"
   },
   {
    "duration": 318,
    "start_time": "2021-10-02T07:48:47.750Z"
   },
   {
    "duration": 425,
    "start_time": "2021-10-02T07:48:48.069Z"
   },
   {
    "duration": 16,
    "start_time": "2021-10-02T07:48:48.496Z"
   },
   {
    "duration": 8,
    "start_time": "2021-10-02T07:48:48.514Z"
   },
   {
    "duration": 10,
    "start_time": "2021-10-02T07:48:48.524Z"
   },
   {
    "duration": 11,
    "start_time": "2021-10-02T07:48:48.536Z"
   },
   {
    "duration": 37,
    "start_time": "2021-10-02T07:48:48.549Z"
   },
   {
    "duration": 312,
    "start_time": "2021-10-02T07:48:48.588Z"
   },
   {
    "duration": 10,
    "start_time": "2021-10-02T07:48:48.901Z"
   },
   {
    "duration": 516,
    "start_time": "2021-10-02T07:48:48.912Z"
   },
   {
    "duration": 21,
    "start_time": "2021-10-02T07:48:49.430Z"
   },
   {
    "duration": 32,
    "start_time": "2021-10-02T07:48:49.453Z"
   },
   {
    "duration": 10,
    "start_time": "2021-10-02T07:48:49.487Z"
   },
   {
    "duration": 262,
    "start_time": "2021-10-02T07:48:49.499Z"
   },
   {
    "duration": 13,
    "start_time": "2021-10-02T07:48:49.763Z"
   },
   {
    "duration": 329,
    "start_time": "2021-10-02T07:48:49.779Z"
   },
   {
    "duration": 13,
    "start_time": "2021-10-02T07:48:50.110Z"
   },
   {
    "duration": 12,
    "start_time": "2021-10-02T07:48:50.125Z"
   },
   {
    "duration": 371,
    "start_time": "2021-10-02T07:48:50.139Z"
   },
   {
    "duration": 5,
    "start_time": "2021-10-02T07:48:50.512Z"
   },
   {
    "duration": 116,
    "start_time": "2021-10-02T07:48:50.519Z"
   },
   {
    "duration": 6,
    "start_time": "2021-10-02T07:48:50.636Z"
   },
   {
    "duration": 11,
    "start_time": "2021-10-02T07:48:50.643Z"
   },
   {
    "duration": 23,
    "start_time": "2021-10-02T07:48:50.659Z"
   },
   {
    "duration": 6,
    "start_time": "2021-10-02T07:48:50.684Z"
   },
   {
    "duration": 16,
    "start_time": "2021-10-02T07:48:50.691Z"
   },
   {
    "duration": 9,
    "start_time": "2021-10-02T07:48:50.709Z"
   },
   {
    "duration": 12,
    "start_time": "2021-10-02T07:48:50.720Z"
   },
   {
    "duration": 49,
    "start_time": "2021-10-02T07:48:50.734Z"
   },
   {
    "duration": 7,
    "start_time": "2021-10-02T07:48:50.785Z"
   },
   {
    "duration": 8,
    "start_time": "2021-10-02T07:48:50.793Z"
   },
   {
    "duration": 552,
    "start_time": "2021-10-02T07:48:50.802Z"
   },
   {
    "duration": 19,
    "start_time": "2021-10-02T07:48:51.357Z"
   },
   {
    "duration": 10,
    "start_time": "2021-10-02T07:48:51.379Z"
   },
   {
    "duration": 411,
    "start_time": "2021-10-02T07:48:51.391Z"
   },
   {
    "duration": 1276,
    "start_time": "2021-10-02T08:39:10.692Z"
   },
   {
    "duration": 17,
    "start_time": "2021-10-02T08:39:11.970Z"
   },
   {
    "duration": 13,
    "start_time": "2021-10-02T08:39:11.989Z"
   },
   {
    "duration": 9,
    "start_time": "2021-10-02T08:39:12.004Z"
   },
   {
    "duration": 13,
    "start_time": "2021-10-02T08:39:12.015Z"
   },
   {
    "duration": 9,
    "start_time": "2021-10-02T08:39:12.029Z"
   },
   {
    "duration": 9,
    "start_time": "2021-10-02T08:39:12.040Z"
   },
   {
    "duration": 28,
    "start_time": "2021-10-02T08:39:12.051Z"
   },
   {
    "duration": 11,
    "start_time": "2021-10-02T08:39:12.082Z"
   },
   {
    "duration": 10,
    "start_time": "2021-10-02T08:39:12.095Z"
   },
   {
    "duration": 17,
    "start_time": "2021-10-02T08:39:12.106Z"
   },
   {
    "duration": 6,
    "start_time": "2021-10-02T08:39:12.124Z"
   },
   {
    "duration": 18,
    "start_time": "2021-10-02T08:39:12.132Z"
   },
   {
    "duration": 29,
    "start_time": "2021-10-02T08:39:12.152Z"
   },
   {
    "duration": 10,
    "start_time": "2021-10-02T08:39:12.182Z"
   },
   {
    "duration": 9,
    "start_time": "2021-10-02T08:39:12.193Z"
   },
   {
    "duration": 10,
    "start_time": "2021-10-02T08:39:12.204Z"
   },
   {
    "duration": 6,
    "start_time": "2021-10-02T08:39:12.216Z"
   },
   {
    "duration": 7,
    "start_time": "2021-10-02T08:39:12.224Z"
   },
   {
    "duration": 7,
    "start_time": "2021-10-02T08:39:12.233Z"
   },
   {
    "duration": 10,
    "start_time": "2021-10-02T08:39:12.241Z"
   },
   {
    "duration": 57,
    "start_time": "2021-10-02T08:39:12.253Z"
   },
   {
    "duration": 17,
    "start_time": "2021-10-02T08:39:12.315Z"
   },
   {
    "duration": 4,
    "start_time": "2021-10-02T08:39:12.335Z"
   },
   {
    "duration": 11,
    "start_time": "2021-10-02T08:39:12.341Z"
   },
   {
    "duration": 8,
    "start_time": "2021-10-02T08:39:12.354Z"
   },
   {
    "duration": 10,
    "start_time": "2021-10-02T08:39:12.363Z"
   },
   {
    "duration": 5,
    "start_time": "2021-10-02T08:39:12.374Z"
   },
   {
    "duration": 8,
    "start_time": "2021-10-02T08:39:12.380Z"
   },
   {
    "duration": 7,
    "start_time": "2021-10-02T08:39:12.390Z"
   },
   {
    "duration": 17,
    "start_time": "2021-10-02T08:39:12.399Z"
   },
   {
    "duration": 16,
    "start_time": "2021-10-02T08:39:12.418Z"
   },
   {
    "duration": 44,
    "start_time": "2021-10-02T08:39:12.436Z"
   },
   {
    "duration": 142,
    "start_time": "2021-10-02T08:39:12.482Z"
   },
   {
    "duration": 24,
    "start_time": "2021-10-02T08:39:12.626Z"
   },
   {
    "duration": 383,
    "start_time": "2021-10-02T08:39:12.652Z"
   },
   {
    "duration": 9,
    "start_time": "2021-10-02T08:39:13.037Z"
   },
   {
    "duration": 32,
    "start_time": "2021-10-02T08:39:13.048Z"
   },
   {
    "duration": 8,
    "start_time": "2021-10-02T08:39:13.083Z"
   },
   {
    "duration": 7,
    "start_time": "2021-10-02T08:39:13.093Z"
   },
   {
    "duration": 332,
    "start_time": "2021-10-02T08:39:13.102Z"
   },
   {
    "duration": 9,
    "start_time": "2021-10-02T08:39:13.436Z"
   },
   {
    "duration": 29,
    "start_time": "2021-10-02T08:39:13.448Z"
   },
   {
    "duration": 7,
    "start_time": "2021-10-02T08:39:13.479Z"
   },
   {
    "duration": 7,
    "start_time": "2021-10-02T08:39:13.488Z"
   },
   {
    "duration": 313,
    "start_time": "2021-10-02T08:39:13.497Z"
   },
   {
    "duration": 387,
    "start_time": "2021-10-02T08:39:13.813Z"
   },
   {
    "duration": 17,
    "start_time": "2021-10-02T08:39:14.203Z"
   },
   {
    "duration": 8,
    "start_time": "2021-10-02T08:39:14.222Z"
   },
   {
    "duration": 11,
    "start_time": "2021-10-02T08:39:14.232Z"
   },
   {
    "duration": 33,
    "start_time": "2021-10-02T08:39:14.245Z"
   },
   {
    "duration": 9,
    "start_time": "2021-10-02T08:39:14.280Z"
   },
   {
    "duration": 330,
    "start_time": "2021-10-02T08:39:14.291Z"
   },
   {
    "duration": 10,
    "start_time": "2021-10-02T08:39:14.622Z"
   },
   {
    "duration": 313,
    "start_time": "2021-10-02T08:39:14.634Z"
   },
   {
    "duration": 29,
    "start_time": "2021-10-02T08:39:14.949Z"
   },
   {
    "duration": 13,
    "start_time": "2021-10-02T08:39:14.981Z"
   },
   {
    "duration": 4,
    "start_time": "2021-10-02T08:39:14.996Z"
   },
   {
    "duration": 257,
    "start_time": "2021-10-02T08:39:15.002Z"
   },
   {
    "duration": 4,
    "start_time": "2021-10-02T08:39:15.261Z"
   },
   {
    "duration": 306,
    "start_time": "2021-10-02T08:39:15.277Z"
   },
   {
    "duration": 11,
    "start_time": "2021-10-02T08:39:15.585Z"
   },
   {
    "duration": 11,
    "start_time": "2021-10-02T08:39:15.597Z"
   },
   {
    "duration": 292,
    "start_time": "2021-10-02T08:39:15.610Z"
   },
   {
    "duration": 5,
    "start_time": "2021-10-02T08:39:15.903Z"
   },
   {
    "duration": 184,
    "start_time": "2021-10-02T08:39:15.909Z"
   },
   {
    "duration": 5,
    "start_time": "2021-10-02T08:39:16.095Z"
   },
   {
    "duration": 5,
    "start_time": "2021-10-02T08:39:16.105Z"
   },
   {
    "duration": 14,
    "start_time": "2021-10-02T08:39:16.112Z"
   },
   {
    "duration": 5,
    "start_time": "2021-10-02T08:39:16.128Z"
   },
   {
    "duration": 49,
    "start_time": "2021-10-02T08:39:16.135Z"
   },
   {
    "duration": 10,
    "start_time": "2021-10-02T08:39:16.185Z"
   },
   {
    "duration": 15,
    "start_time": "2021-10-02T08:39:16.196Z"
   },
   {
    "duration": 13,
    "start_time": "2021-10-02T08:39:16.213Z"
   },
   {
    "duration": 7,
    "start_time": "2021-10-02T08:39:16.228Z"
   },
   {
    "duration": 9,
    "start_time": "2021-10-02T08:39:16.237Z"
   },
   {
    "duration": 372,
    "start_time": "2021-10-02T08:39:16.276Z"
   },
   {
    "duration": 9,
    "start_time": "2021-10-02T08:39:16.650Z"
   },
   {
    "duration": 17,
    "start_time": "2021-10-02T08:39:16.661Z"
   },
   {
    "duration": 393,
    "start_time": "2021-10-02T08:39:16.679Z"
   },
   {
    "duration": 1402,
    "start_time": "2021-10-03T05:40:38.781Z"
   },
   {
    "duration": 19,
    "start_time": "2021-10-03T05:40:40.186Z"
   },
   {
    "duration": 37,
    "start_time": "2021-10-03T05:40:40.208Z"
   },
   {
    "duration": 16,
    "start_time": "2021-10-03T05:40:40.248Z"
   },
   {
    "duration": 21,
    "start_time": "2021-10-03T05:40:40.267Z"
   },
   {
    "duration": 11,
    "start_time": "2021-10-03T05:40:40.291Z"
   },
   {
    "duration": 20,
    "start_time": "2021-10-03T05:40:40.304Z"
   },
   {
    "duration": 12,
    "start_time": "2021-10-03T05:40:40.328Z"
   },
   {
    "duration": 18,
    "start_time": "2021-10-03T05:40:40.343Z"
   },
   {
    "duration": 15,
    "start_time": "2021-10-03T05:40:40.363Z"
   },
   {
    "duration": 44,
    "start_time": "2021-10-03T05:40:40.381Z"
   },
   {
    "duration": 11,
    "start_time": "2021-10-03T05:40:40.427Z"
   },
   {
    "duration": 22,
    "start_time": "2021-10-03T05:40:40.440Z"
   },
   {
    "duration": 12,
    "start_time": "2021-10-03T05:40:40.464Z"
   },
   {
    "duration": 8,
    "start_time": "2021-10-03T05:40:40.478Z"
   },
   {
    "duration": 35,
    "start_time": "2021-10-03T05:40:40.489Z"
   },
   {
    "duration": 11,
    "start_time": "2021-10-03T05:40:40.526Z"
   },
   {
    "duration": 9,
    "start_time": "2021-10-03T05:40:40.540Z"
   },
   {
    "duration": 7,
    "start_time": "2021-10-03T05:40:40.551Z"
   },
   {
    "duration": 10,
    "start_time": "2021-10-03T05:40:40.560Z"
   },
   {
    "duration": 11,
    "start_time": "2021-10-03T05:40:40.572Z"
   },
   {
    "duration": 40,
    "start_time": "2021-10-03T05:40:40.623Z"
   },
   {
    "duration": 11,
    "start_time": "2021-10-03T05:40:40.669Z"
   },
   {
    "duration": 4,
    "start_time": "2021-10-03T05:40:40.684Z"
   },
   {
    "duration": 11,
    "start_time": "2021-10-03T05:40:40.690Z"
   },
   {
    "duration": 21,
    "start_time": "2021-10-03T05:40:40.704Z"
   },
   {
    "duration": 11,
    "start_time": "2021-10-03T05:40:40.728Z"
   },
   {
    "duration": 7,
    "start_time": "2021-10-03T05:40:40.741Z"
   },
   {
    "duration": 17,
    "start_time": "2021-10-03T05:40:40.750Z"
   },
   {
    "duration": 9,
    "start_time": "2021-10-03T05:40:40.770Z"
   },
   {
    "duration": 41,
    "start_time": "2021-10-03T05:40:40.781Z"
   },
   {
    "duration": 26,
    "start_time": "2021-10-03T05:40:40.825Z"
   },
   {
    "duration": 23,
    "start_time": "2021-10-03T05:40:40.853Z"
   },
   {
    "duration": 269,
    "start_time": "2021-10-03T05:40:40.879Z"
   },
   {
    "duration": 35,
    "start_time": "2021-10-03T05:40:41.151Z"
   },
   {
    "duration": 635,
    "start_time": "2021-10-03T05:40:41.188Z"
   },
   {
    "duration": 13,
    "start_time": "2021-10-03T05:40:41.825Z"
   },
   {
    "duration": 24,
    "start_time": "2021-10-03T05:40:41.840Z"
   },
   {
    "duration": 30,
    "start_time": "2021-10-03T05:40:41.866Z"
   },
   {
    "duration": 6,
    "start_time": "2021-10-03T05:40:41.899Z"
   },
   {
    "duration": 503,
    "start_time": "2021-10-03T05:40:41.922Z"
   },
   {
    "duration": 11,
    "start_time": "2021-10-03T05:40:42.428Z"
   },
   {
    "duration": 35,
    "start_time": "2021-10-03T05:40:42.441Z"
   },
   {
    "duration": 12,
    "start_time": "2021-10-03T05:40:42.479Z"
   },
   {
    "duration": 16,
    "start_time": "2021-10-03T05:40:42.493Z"
   },
   {
    "duration": 473,
    "start_time": "2021-10-03T05:40:42.511Z"
   },
   {
    "duration": 571,
    "start_time": "2021-10-03T05:40:42.987Z"
   },
   {
    "duration": 23,
    "start_time": "2021-10-03T05:40:43.560Z"
   },
   {
    "duration": 11,
    "start_time": "2021-10-03T05:40:43.586Z"
   },
   {
    "duration": 11,
    "start_time": "2021-10-03T05:40:43.623Z"
   },
   {
    "duration": 27,
    "start_time": "2021-10-03T05:40:43.636Z"
   },
   {
    "duration": 28,
    "start_time": "2021-10-03T05:40:43.665Z"
   },
   {
    "duration": 477,
    "start_time": "2021-10-03T05:40:43.696Z"
   },
   {
    "duration": 13,
    "start_time": "2021-10-03T05:40:44.176Z"
   },
   {
    "duration": 488,
    "start_time": "2021-10-03T05:40:44.191Z"
   },
   {
    "duration": 22,
    "start_time": "2021-10-03T05:40:44.681Z"
   },
   {
    "duration": 17,
    "start_time": "2021-10-03T05:40:44.722Z"
   },
   {
    "duration": 16,
    "start_time": "2021-10-03T05:40:44.742Z"
   },
   {
    "duration": 322,
    "start_time": "2021-10-03T05:40:44.760Z"
   },
   {
    "duration": 6,
    "start_time": "2021-10-03T05:40:45.085Z"
   },
   {
    "duration": 420,
    "start_time": "2021-10-03T05:40:45.094Z"
   },
   {
    "duration": 19,
    "start_time": "2021-10-03T05:40:45.517Z"
   },
   {
    "duration": 26,
    "start_time": "2021-10-03T05:40:45.539Z"
   },
   {
    "duration": 418,
    "start_time": "2021-10-03T05:40:45.568Z"
   },
   {
    "duration": 7,
    "start_time": "2021-10-03T05:40:45.989Z"
   },
   {
    "duration": 314,
    "start_time": "2021-10-03T05:40:45.998Z"
   },
   {
    "duration": 7,
    "start_time": "2021-10-03T05:40:46.323Z"
   },
   {
    "duration": 20,
    "start_time": "2021-10-03T05:40:46.337Z"
   },
   {
    "duration": 23,
    "start_time": "2021-10-03T05:40:46.360Z"
   },
   {
    "duration": 8,
    "start_time": "2021-10-03T05:40:46.385Z"
   },
   {
    "duration": 41,
    "start_time": "2021-10-03T05:40:46.395Z"
   },
   {
    "duration": 17,
    "start_time": "2021-10-03T05:40:46.439Z"
   },
   {
    "duration": 28,
    "start_time": "2021-10-03T05:40:46.459Z"
   },
   {
    "duration": 33,
    "start_time": "2021-10-03T05:40:46.490Z"
   },
   {
    "duration": 19,
    "start_time": "2021-10-03T05:40:46.525Z"
   },
   {
    "duration": 25,
    "start_time": "2021-10-03T05:40:46.547Z"
   },
   {
    "duration": 629,
    "start_time": "2021-10-03T05:40:46.575Z"
   },
   {
    "duration": 22,
    "start_time": "2021-10-03T05:40:47.207Z"
   },
   {
    "duration": 24,
    "start_time": "2021-10-03T05:40:47.231Z"
   },
   {
    "duration": 608,
    "start_time": "2021-10-03T05:40:47.257Z"
   },
   {
    "duration": 1379,
    "start_time": "2021-10-03T10:39:12.076Z"
   },
   {
    "duration": 19,
    "start_time": "2021-10-03T10:39:13.457Z"
   },
   {
    "duration": 19,
    "start_time": "2021-10-03T10:39:13.479Z"
   },
   {
    "duration": 8,
    "start_time": "2021-10-03T10:39:13.501Z"
   },
   {
    "duration": 27,
    "start_time": "2021-10-03T10:39:13.511Z"
   },
   {
    "duration": 9,
    "start_time": "2021-10-03T10:39:13.541Z"
   },
   {
    "duration": 11,
    "start_time": "2021-10-03T10:39:13.553Z"
   },
   {
    "duration": 9,
    "start_time": "2021-10-03T10:39:13.568Z"
   },
   {
    "duration": 55,
    "start_time": "2021-10-03T10:39:13.580Z"
   },
   {
    "duration": 17,
    "start_time": "2021-10-03T10:39:13.637Z"
   },
   {
    "duration": 22,
    "start_time": "2021-10-03T10:39:13.656Z"
   },
   {
    "duration": 9,
    "start_time": "2021-10-03T10:39:13.680Z"
   },
   {
    "duration": 46,
    "start_time": "2021-10-03T10:39:13.692Z"
   },
   {
    "duration": 12,
    "start_time": "2021-10-03T10:39:13.741Z"
   },
   {
    "duration": 17,
    "start_time": "2021-10-03T10:39:13.756Z"
   },
   {
    "duration": 7,
    "start_time": "2021-10-03T10:39:13.775Z"
   },
   {
    "duration": 10,
    "start_time": "2021-10-03T10:39:13.785Z"
   },
   {
    "duration": 24,
    "start_time": "2021-10-03T10:39:13.798Z"
   },
   {
    "duration": 7,
    "start_time": "2021-10-03T10:39:13.825Z"
   },
   {
    "duration": 13,
    "start_time": "2021-10-03T10:39:13.834Z"
   },
   {
    "duration": 10,
    "start_time": "2021-10-03T10:39:13.850Z"
   },
   {
    "duration": 41,
    "start_time": "2021-10-03T10:39:13.862Z"
   },
   {
    "duration": 15,
    "start_time": "2021-10-03T10:39:13.922Z"
   },
   {
    "duration": 5,
    "start_time": "2021-10-03T10:39:13.941Z"
   },
   {
    "duration": 12,
    "start_time": "2021-10-03T10:39:13.948Z"
   },
   {
    "duration": 11,
    "start_time": "2021-10-03T10:39:13.963Z"
   },
   {
    "duration": 12,
    "start_time": "2021-10-03T10:39:13.977Z"
   },
   {
    "duration": 34,
    "start_time": "2021-10-03T10:39:13.992Z"
   },
   {
    "duration": 6,
    "start_time": "2021-10-03T10:39:14.029Z"
   },
   {
    "duration": 11,
    "start_time": "2021-10-03T10:39:14.038Z"
   },
   {
    "duration": 18,
    "start_time": "2021-10-03T10:39:14.052Z"
   },
   {
    "duration": 70,
    "start_time": "2021-10-03T10:39:14.073Z"
   },
   {
    "duration": 22,
    "start_time": "2021-10-03T10:39:14.146Z"
   },
   {
    "duration": 239,
    "start_time": "2021-10-03T10:39:14.170Z"
   },
   {
    "duration": 37,
    "start_time": "2021-10-03T10:39:14.412Z"
   },
   {
    "duration": 604,
    "start_time": "2021-10-03T10:39:14.452Z"
   },
   {
    "duration": 13,
    "start_time": "2021-10-03T10:39:15.059Z"
   },
   {
    "duration": 23,
    "start_time": "2021-10-03T10:39:15.074Z"
   },
   {
    "duration": 12,
    "start_time": "2021-10-03T10:39:15.123Z"
   },
   {
    "duration": 24,
    "start_time": "2021-10-03T10:39:15.137Z"
   },
   {
    "duration": 525,
    "start_time": "2021-10-03T10:39:15.163Z"
   },
   {
    "duration": 12,
    "start_time": "2021-10-03T10:39:15.691Z"
   },
   {
    "duration": 32,
    "start_time": "2021-10-03T10:39:15.705Z"
   },
   {
    "duration": 16,
    "start_time": "2021-10-03T10:39:15.739Z"
   },
   {
    "duration": 26,
    "start_time": "2021-10-03T10:39:15.758Z"
   },
   {
    "duration": 485,
    "start_time": "2021-10-03T10:39:15.786Z"
   },
   {
    "duration": 606,
    "start_time": "2021-10-03T10:39:16.274Z"
   },
   {
    "duration": 24,
    "start_time": "2021-10-03T10:39:16.883Z"
   },
   {
    "duration": 11,
    "start_time": "2021-10-03T10:39:16.922Z"
   },
   {
    "duration": 33,
    "start_time": "2021-10-03T10:39:16.935Z"
   },
   {
    "duration": 28,
    "start_time": "2021-10-03T10:39:16.971Z"
   },
   {
    "duration": 42,
    "start_time": "2021-10-03T10:39:17.002Z"
   },
   {
    "duration": 499,
    "start_time": "2021-10-03T10:39:17.047Z"
   },
   {
    "duration": 15,
    "start_time": "2021-10-03T10:39:17.549Z"
   },
   {
    "duration": 508,
    "start_time": "2021-10-03T10:39:17.567Z"
   },
   {
    "duration": 27,
    "start_time": "2021-10-03T10:39:18.077Z"
   },
   {
    "duration": 33,
    "start_time": "2021-10-03T10:39:18.106Z"
   },
   {
    "duration": 38,
    "start_time": "2021-10-03T10:39:18.141Z"
   },
   {
    "duration": 486,
    "start_time": "2021-10-03T10:39:18.182Z"
   },
   {
    "duration": 8,
    "start_time": "2021-10-03T10:39:18.671Z"
   },
   {
    "duration": 500,
    "start_time": "2021-10-03T10:39:18.682Z"
   },
   {
    "duration": 14,
    "start_time": "2021-10-03T10:39:19.184Z"
   },
   {
    "duration": 34,
    "start_time": "2021-10-03T10:39:19.201Z"
   },
   {
    "duration": 421,
    "start_time": "2021-10-03T10:39:19.237Z"
   },
   {
    "duration": 7,
    "start_time": "2021-10-03T10:39:19.661Z"
   },
   {
    "duration": 330,
    "start_time": "2021-10-03T10:39:19.671Z"
   },
   {
    "duration": 20,
    "start_time": "2021-10-03T10:39:20.004Z"
   },
   {
    "duration": 16,
    "start_time": "2021-10-03T10:39:20.037Z"
   },
   {
    "duration": 33,
    "start_time": "2021-10-03T10:39:20.056Z"
   },
   {
    "duration": 22,
    "start_time": "2021-10-03T10:39:20.092Z"
   },
   {
    "duration": 24,
    "start_time": "2021-10-03T10:39:20.121Z"
   },
   {
    "duration": 32,
    "start_time": "2021-10-03T10:39:20.148Z"
   },
   {
    "duration": 48,
    "start_time": "2021-10-03T10:39:20.182Z"
   },
   {
    "duration": 56,
    "start_time": "2021-10-03T10:39:20.233Z"
   },
   {
    "duration": 27,
    "start_time": "2021-10-03T10:39:20.307Z"
   },
   {
    "duration": 34,
    "start_time": "2021-10-03T10:39:20.351Z"
   },
   {
    "duration": 933,
    "start_time": "2021-10-03T10:39:20.395Z"
   },
   {
    "duration": 14,
    "start_time": "2021-10-03T10:39:21.331Z"
   },
   {
    "duration": 17,
    "start_time": "2021-10-03T10:39:21.348Z"
   },
   {
    "duration": 657,
    "start_time": "2021-10-03T10:39:21.369Z"
   },
   {
    "duration": 19,
    "start_time": "2021-10-03T11:01:08.359Z"
   },
   {
    "duration": 9,
    "start_time": "2021-10-03T11:01:09.886Z"
   },
   {
    "duration": 19,
    "start_time": "2021-10-03T11:01:14.864Z"
   },
   {
    "duration": 11,
    "start_time": "2021-10-03T11:01:15.487Z"
   },
   {
    "duration": 18,
    "start_time": "2021-10-03T11:01:24.423Z"
   },
   {
    "duration": 201,
    "start_time": "2021-10-03T16:05:13.065Z"
   },
   {
    "duration": 1033,
    "start_time": "2021-10-03T16:05:17.582Z"
   },
   {
    "duration": 16,
    "start_time": "2021-10-03T16:05:18.616Z"
   },
   {
    "duration": 11,
    "start_time": "2021-10-03T16:05:18.634Z"
   },
   {
    "duration": 8,
    "start_time": "2021-10-03T16:05:18.647Z"
   },
   {
    "duration": 11,
    "start_time": "2021-10-03T16:05:18.657Z"
   },
   {
    "duration": 7,
    "start_time": "2021-10-03T16:05:18.670Z"
   },
   {
    "duration": 21,
    "start_time": "2021-10-03T16:05:18.679Z"
   },
   {
    "duration": 9,
    "start_time": "2021-10-03T16:05:18.702Z"
   },
   {
    "duration": 12,
    "start_time": "2021-10-03T16:05:18.712Z"
   },
   {
    "duration": 9,
    "start_time": "2021-10-03T16:05:18.726Z"
   },
   {
    "duration": 17,
    "start_time": "2021-10-03T16:05:18.737Z"
   },
   {
    "duration": 4,
    "start_time": "2021-10-03T16:05:18.756Z"
   },
   {
    "duration": 592,
    "start_time": "2021-10-03T16:05:26.054Z"
   },
   {
    "duration": 8,
    "start_time": "2021-10-03T16:05:40.107Z"
   },
   {
    "duration": 10,
    "start_time": "2021-10-03T16:06:16.718Z"
   },
   {
    "duration": 9,
    "start_time": "2021-10-03T16:07:24.232Z"
   },
   {
    "duration": 3,
    "start_time": "2021-10-03T16:09:26.772Z"
   },
   {
    "duration": 42,
    "start_time": "2021-10-03T16:09:26.776Z"
   },
   {
    "duration": 35,
    "start_time": "2021-10-03T16:09:26.820Z"
   },
   {
    "duration": 24,
    "start_time": "2021-10-03T16:09:26.857Z"
   },
   {
    "duration": 33,
    "start_time": "2021-10-03T16:09:26.882Z"
   },
   {
    "duration": 6,
    "start_time": "2021-10-03T16:09:27.077Z"
   },
   {
    "duration": 9,
    "start_time": "2021-10-03T16:09:27.085Z"
   },
   {
    "duration": 11,
    "start_time": "2021-10-03T16:09:27.095Z"
   },
   {
    "duration": 13,
    "start_time": "2021-10-03T16:09:27.108Z"
   },
   {
    "duration": 10,
    "start_time": "2021-10-03T16:09:27.123Z"
   },
   {
    "duration": 10,
    "start_time": "2021-10-03T16:09:27.135Z"
   },
   {
    "duration": 6,
    "start_time": "2021-10-03T16:09:27.146Z"
   },
   {
    "duration": 392,
    "start_time": "2021-10-03T16:16:41.828Z"
   },
   {
    "duration": 269,
    "start_time": "2021-10-03T16:17:35.441Z"
   },
   {
    "duration": 259,
    "start_time": "2021-10-03T16:19:01.070Z"
   },
   {
    "duration": 263,
    "start_time": "2021-10-03T16:21:34.302Z"
   },
   {
    "duration": 254,
    "start_time": "2021-10-03T16:21:53.327Z"
   },
   {
    "duration": 257,
    "start_time": "2021-10-03T16:22:03.743Z"
   },
   {
    "duration": 261,
    "start_time": "2021-10-03T16:22:14.559Z"
   },
   {
    "duration": 277,
    "start_time": "2021-10-03T16:22:33.050Z"
   },
   {
    "duration": 275,
    "start_time": "2021-10-03T16:23:06.149Z"
   },
   {
    "duration": 320,
    "start_time": "2021-10-03T16:23:12.321Z"
   },
   {
    "duration": 479,
    "start_time": "2021-10-03T16:23:38.764Z"
   },
   {
    "duration": 297,
    "start_time": "2021-10-03T16:24:58.364Z"
   },
   {
    "duration": 982,
    "start_time": "2021-10-03T16:37:16.892Z"
   },
   {
    "duration": 16,
    "start_time": "2021-10-03T16:37:17.876Z"
   },
   {
    "duration": 12,
    "start_time": "2021-10-03T16:37:17.894Z"
   },
   {
    "duration": 18,
    "start_time": "2021-10-03T16:37:17.908Z"
   },
   {
    "duration": 18,
    "start_time": "2021-10-03T16:37:17.928Z"
   },
   {
    "duration": 22,
    "start_time": "2021-10-03T16:37:17.948Z"
   },
   {
    "duration": 13,
    "start_time": "2021-10-03T16:37:17.971Z"
   },
   {
    "duration": 23,
    "start_time": "2021-10-03T16:37:17.986Z"
   },
   {
    "duration": 29,
    "start_time": "2021-10-03T16:37:18.011Z"
   },
   {
    "duration": 11,
    "start_time": "2021-10-03T16:37:18.041Z"
   },
   {
    "duration": 20,
    "start_time": "2021-10-03T16:37:18.054Z"
   },
   {
    "duration": 16,
    "start_time": "2021-10-03T16:37:18.076Z"
   },
   {
    "duration": 31,
    "start_time": "2021-10-03T16:37:18.094Z"
   },
   {
    "duration": 17,
    "start_time": "2021-10-03T16:37:18.126Z"
   },
   {
    "duration": 20,
    "start_time": "2021-10-03T16:37:18.144Z"
   },
   {
    "duration": 14,
    "start_time": "2021-10-03T16:37:18.165Z"
   },
   {
    "duration": 9,
    "start_time": "2021-10-03T16:37:18.180Z"
   },
   {
    "duration": 13,
    "start_time": "2021-10-03T16:37:18.190Z"
   },
   {
    "duration": 10,
    "start_time": "2021-10-03T16:37:18.204Z"
   },
   {
    "duration": 13,
    "start_time": "2021-10-03T16:37:18.215Z"
   },
   {
    "duration": 12,
    "start_time": "2021-10-03T16:37:18.229Z"
   },
   {
    "duration": 42,
    "start_time": "2021-10-03T16:37:18.243Z"
   },
   {
    "duration": 13,
    "start_time": "2021-10-03T16:37:18.289Z"
   },
   {
    "duration": 10,
    "start_time": "2021-10-03T16:37:18.304Z"
   },
   {
    "duration": 26,
    "start_time": "2021-10-03T16:37:18.315Z"
   },
   {
    "duration": 16,
    "start_time": "2021-10-03T16:37:18.343Z"
   },
   {
    "duration": 17,
    "start_time": "2021-10-03T16:37:18.360Z"
   },
   {
    "duration": 13,
    "start_time": "2021-10-03T16:37:18.378Z"
   },
   {
    "duration": 13,
    "start_time": "2021-10-03T16:37:18.392Z"
   },
   {
    "duration": 17,
    "start_time": "2021-10-03T16:37:18.406Z"
   },
   {
    "duration": 18,
    "start_time": "2021-10-03T16:37:18.424Z"
   },
   {
    "duration": 16,
    "start_time": "2021-10-03T16:37:18.444Z"
   },
   {
    "duration": 13,
    "start_time": "2021-10-03T16:37:18.462Z"
   },
   {
    "duration": 137,
    "start_time": "2021-10-03T16:37:18.477Z"
   },
   {
    "duration": 21,
    "start_time": "2021-10-03T16:37:18.616Z"
   },
   {
    "duration": 366,
    "start_time": "2021-10-03T16:37:18.639Z"
   },
   {
    "duration": 9,
    "start_time": "2021-10-03T16:37:19.006Z"
   },
   {
    "duration": 18,
    "start_time": "2021-10-03T16:37:19.016Z"
   },
   {
    "duration": 11,
    "start_time": "2021-10-03T16:37:19.036Z"
   },
   {
    "duration": 11,
    "start_time": "2021-10-03T16:37:19.049Z"
   },
   {
    "duration": 321,
    "start_time": "2021-10-03T16:37:19.061Z"
   },
   {
    "duration": 16,
    "start_time": "2021-10-03T16:37:19.383Z"
   },
   {
    "duration": 16,
    "start_time": "2021-10-03T16:37:19.401Z"
   },
   {
    "duration": 15,
    "start_time": "2021-10-03T16:37:19.418Z"
   },
   {
    "duration": 11,
    "start_time": "2021-10-03T16:37:19.434Z"
   },
   {
    "duration": 311,
    "start_time": "2021-10-03T16:37:19.447Z"
   },
   {
    "duration": 401,
    "start_time": "2021-10-03T16:37:19.760Z"
   },
   {
    "duration": 15,
    "start_time": "2021-10-03T16:37:20.163Z"
   },
   {
    "duration": 25,
    "start_time": "2021-10-03T16:37:20.180Z"
   },
   {
    "duration": 21,
    "start_time": "2021-10-03T16:37:20.207Z"
   },
   {
    "duration": 18,
    "start_time": "2021-10-03T16:37:20.230Z"
   },
   {
    "duration": 15,
    "start_time": "2021-10-03T16:37:20.250Z"
   },
   {
    "duration": 288,
    "start_time": "2021-10-03T16:37:20.267Z"
   },
   {
    "duration": 9,
    "start_time": "2021-10-03T16:37:20.557Z"
   },
   {
    "duration": 310,
    "start_time": "2021-10-03T16:37:20.568Z"
   },
   {
    "duration": 22,
    "start_time": "2021-10-03T16:37:20.880Z"
   },
   {
    "duration": 11,
    "start_time": "2021-10-03T16:37:20.904Z"
   },
   {
    "duration": 26,
    "start_time": "2021-10-03T16:37:20.917Z"
   },
   {
    "duration": 233,
    "start_time": "2021-10-03T16:37:20.945Z"
   },
   {
    "duration": 4,
    "start_time": "2021-10-03T16:37:21.180Z"
   },
   {
    "duration": 310,
    "start_time": "2021-10-03T16:37:21.200Z"
   },
   {
    "duration": 9,
    "start_time": "2021-10-03T16:37:21.512Z"
   },
   {
    "duration": 18,
    "start_time": "2021-10-03T16:37:21.522Z"
   },
   {
    "duration": 288,
    "start_time": "2021-10-03T16:37:21.541Z"
   },
   {
    "duration": 3,
    "start_time": "2021-10-03T16:37:21.831Z"
   },
   {
    "duration": 189,
    "start_time": "2021-10-03T16:37:21.836Z"
   },
   {
    "duration": 5,
    "start_time": "2021-10-03T16:37:22.026Z"
   },
   {
    "duration": 25,
    "start_time": "2021-10-03T16:37:22.036Z"
   },
   {
    "duration": 21,
    "start_time": "2021-10-03T16:37:22.063Z"
   },
   {
    "duration": 7,
    "start_time": "2021-10-03T16:37:22.086Z"
   },
   {
    "duration": 26,
    "start_time": "2021-10-03T16:37:22.094Z"
   },
   {
    "duration": 17,
    "start_time": "2021-10-03T16:37:22.122Z"
   },
   {
    "duration": 28,
    "start_time": "2021-10-03T16:37:22.141Z"
   },
   {
    "duration": 22,
    "start_time": "2021-10-03T16:37:22.171Z"
   },
   {
    "duration": 12,
    "start_time": "2021-10-03T16:37:22.195Z"
   },
   {
    "duration": 12,
    "start_time": "2021-10-03T16:37:22.208Z"
   },
   {
    "duration": 355,
    "start_time": "2021-10-03T16:37:22.222Z"
   },
   {
    "duration": 9,
    "start_time": "2021-10-03T16:37:22.579Z"
   },
   {
    "duration": 20,
    "start_time": "2021-10-03T16:37:22.590Z"
   },
   {
    "duration": 392,
    "start_time": "2021-10-03T16:37:22.611Z"
   },
   {
    "duration": 1091,
    "start_time": "2021-10-04T09:09:34.980Z"
   },
   {
    "duration": 18,
    "start_time": "2021-10-04T09:09:36.072Z"
   },
   {
    "duration": 11,
    "start_time": "2021-10-04T09:09:36.092Z"
   },
   {
    "duration": 5,
    "start_time": "2021-10-04T09:09:36.104Z"
   },
   {
    "duration": 12,
    "start_time": "2021-10-04T09:09:36.111Z"
   },
   {
    "duration": 6,
    "start_time": "2021-10-04T09:09:36.124Z"
   },
   {
    "duration": 8,
    "start_time": "2021-10-04T09:09:36.132Z"
   },
   {
    "duration": 8,
    "start_time": "2021-10-04T09:09:36.141Z"
   },
   {
    "duration": 14,
    "start_time": "2021-10-04T09:09:36.151Z"
   },
   {
    "duration": 33,
    "start_time": "2021-10-04T09:09:36.167Z"
   },
   {
    "duration": 10,
    "start_time": "2021-10-04T09:09:36.202Z"
   },
   {
    "duration": 5,
    "start_time": "2021-10-04T09:09:36.214Z"
   },
   {
    "duration": 18,
    "start_time": "2021-10-04T09:09:36.220Z"
   },
   {
    "duration": 10,
    "start_time": "2021-10-04T09:09:36.240Z"
   },
   {
    "duration": 6,
    "start_time": "2021-10-04T09:09:36.252Z"
   },
   {
    "duration": 6,
    "start_time": "2021-10-04T09:09:36.259Z"
   },
   {
    "duration": 9,
    "start_time": "2021-10-04T09:09:36.266Z"
   },
   {
    "duration": 25,
    "start_time": "2021-10-04T09:09:36.276Z"
   },
   {
    "duration": 7,
    "start_time": "2021-10-04T09:09:36.303Z"
   },
   {
    "duration": 7,
    "start_time": "2021-10-04T09:09:36.311Z"
   },
   {
    "duration": 8,
    "start_time": "2021-10-04T09:09:36.320Z"
   },
   {
    "duration": 38,
    "start_time": "2021-10-04T09:09:36.329Z"
   },
   {
    "duration": 11,
    "start_time": "2021-10-04T09:09:36.368Z"
   },
   {
    "duration": 4,
    "start_time": "2021-10-04T09:09:36.381Z"
   },
   {
    "duration": 10,
    "start_time": "2021-10-04T09:09:36.386Z"
   },
   {
    "duration": 7,
    "start_time": "2021-10-04T09:09:36.398Z"
   },
   {
    "duration": 4,
    "start_time": "2021-10-04T09:09:36.409Z"
   },
   {
    "duration": 4,
    "start_time": "2021-10-04T09:09:36.416Z"
   },
   {
    "duration": 4,
    "start_time": "2021-10-04T09:09:36.422Z"
   },
   {
    "duration": 7,
    "start_time": "2021-10-04T09:09:36.427Z"
   },
   {
    "duration": 15,
    "start_time": "2021-10-04T09:09:36.435Z"
   },
   {
    "duration": 14,
    "start_time": "2021-10-04T09:09:36.451Z"
   },
   {
    "duration": 13,
    "start_time": "2021-10-04T09:09:36.500Z"
   },
   {
    "duration": 137,
    "start_time": "2021-10-04T09:09:36.514Z"
   },
   {
    "duration": 20,
    "start_time": "2021-10-04T09:09:36.653Z"
   },
   {
    "duration": 345,
    "start_time": "2021-10-04T09:09:36.675Z"
   },
   {
    "duration": 9,
    "start_time": "2021-10-04T09:09:37.021Z"
   },
   {
    "duration": 21,
    "start_time": "2021-10-04T09:09:37.032Z"
   },
   {
    "duration": 7,
    "start_time": "2021-10-04T09:09:37.055Z"
   },
   {
    "duration": 5,
    "start_time": "2021-10-04T09:09:37.063Z"
   },
   {
    "duration": 337,
    "start_time": "2021-10-04T09:09:37.070Z"
   },
   {
    "duration": 8,
    "start_time": "2021-10-04T09:09:37.408Z"
   },
   {
    "duration": 13,
    "start_time": "2021-10-04T09:09:37.417Z"
   },
   {
    "duration": 8,
    "start_time": "2021-10-04T09:09:37.432Z"
   },
   {
    "duration": 11,
    "start_time": "2021-10-04T09:09:37.441Z"
   },
   {
    "duration": 320,
    "start_time": "2021-10-04T09:09:37.454Z"
   },
   {
    "duration": 432,
    "start_time": "2021-10-04T09:09:37.777Z"
   },
   {
    "duration": 16,
    "start_time": "2021-10-04T09:09:38.211Z"
   },
   {
    "duration": 7,
    "start_time": "2021-10-04T09:09:38.228Z"
   },
   {
    "duration": 10,
    "start_time": "2021-10-04T09:09:38.236Z"
   },
   {
    "duration": 11,
    "start_time": "2021-10-04T09:09:38.247Z"
   },
   {
    "duration": 14,
    "start_time": "2021-10-04T09:09:38.260Z"
   },
   {
    "duration": 300,
    "start_time": "2021-10-04T09:09:38.300Z"
   },
   {
    "duration": 9,
    "start_time": "2021-10-04T09:09:38.601Z"
   },
   {
    "duration": 303,
    "start_time": "2021-10-04T09:09:38.612Z"
   },
   {
    "duration": 14,
    "start_time": "2021-10-04T09:09:38.917Z"
   },
   {
    "duration": 10,
    "start_time": "2021-10-04T09:09:38.932Z"
   },
   {
    "duration": 6,
    "start_time": "2021-10-04T09:09:38.943Z"
   },
   {
    "duration": 302,
    "start_time": "2021-10-04T09:09:38.950Z"
   },
   {
    "duration": 4,
    "start_time": "2021-10-04T09:09:39.254Z"
   },
   {
    "duration": 292,
    "start_time": "2021-10-04T09:09:39.260Z"
   },
   {
    "duration": 9,
    "start_time": "2021-10-04T09:09:39.554Z"
   },
   {
    "duration": 12,
    "start_time": "2021-10-04T09:09:39.564Z"
   },
   {
    "duration": 333,
    "start_time": "2021-10-04T09:09:39.577Z"
   },
   {
    "duration": 4,
    "start_time": "2021-10-04T09:09:39.912Z"
   },
   {
    "duration": 208,
    "start_time": "2021-10-04T09:09:39.917Z"
   },
   {
    "duration": 5,
    "start_time": "2021-10-04T09:09:40.126Z"
   },
   {
    "duration": 12,
    "start_time": "2021-10-04T09:09:40.133Z"
   },
   {
    "duration": 19,
    "start_time": "2021-10-04T09:09:40.147Z"
   },
   {
    "duration": 7,
    "start_time": "2021-10-04T09:09:40.167Z"
   },
   {
    "duration": 30,
    "start_time": "2021-10-04T09:09:40.175Z"
   },
   {
    "duration": 8,
    "start_time": "2021-10-04T09:09:40.206Z"
   },
   {
    "duration": 13,
    "start_time": "2021-10-04T09:09:40.216Z"
   },
   {
    "duration": 17,
    "start_time": "2021-10-04T09:09:40.231Z"
   },
   {
    "duration": 6,
    "start_time": "2021-10-04T09:09:40.250Z"
   },
   {
    "duration": 13,
    "start_time": "2021-10-04T09:09:40.258Z"
   },
   {
    "duration": 346,
    "start_time": "2021-10-04T09:09:40.272Z"
   },
   {
    "duration": 9,
    "start_time": "2021-10-04T09:09:40.619Z"
   },
   {
    "duration": 13,
    "start_time": "2021-10-04T09:09:40.630Z"
   },
   {
    "duration": 378,
    "start_time": "2021-10-04T09:09:40.645Z"
   },
   {
    "duration": 1066,
    "start_time": "2021-10-04T11:42:02.595Z"
   },
   {
    "duration": 17,
    "start_time": "2021-10-04T11:42:03.662Z"
   },
   {
    "duration": 16,
    "start_time": "2021-10-04T11:42:03.681Z"
   },
   {
    "duration": 9,
    "start_time": "2021-10-04T11:42:03.700Z"
   },
   {
    "duration": 15,
    "start_time": "2021-10-04T11:42:03.711Z"
   },
   {
    "duration": 14,
    "start_time": "2021-10-04T11:42:03.728Z"
   },
   {
    "duration": 14,
    "start_time": "2021-10-04T11:42:03.744Z"
   },
   {
    "duration": 13,
    "start_time": "2021-10-04T11:42:03.760Z"
   },
   {
    "duration": 12,
    "start_time": "2021-10-04T11:42:03.776Z"
   },
   {
    "duration": 20,
    "start_time": "2021-10-04T11:42:03.789Z"
   },
   {
    "duration": 15,
    "start_time": "2021-10-04T11:42:03.811Z"
   },
   {
    "duration": 9,
    "start_time": "2021-10-04T11:42:03.828Z"
   },
   {
    "duration": 25,
    "start_time": "2021-10-04T11:42:03.839Z"
   },
   {
    "duration": 14,
    "start_time": "2021-10-04T11:42:03.865Z"
   },
   {
    "duration": 17,
    "start_time": "2021-10-04T11:42:03.881Z"
   },
   {
    "duration": 15,
    "start_time": "2021-10-04T11:42:03.901Z"
   },
   {
    "duration": 15,
    "start_time": "2021-10-04T11:42:03.917Z"
   },
   {
    "duration": 7,
    "start_time": "2021-10-04T11:42:03.934Z"
   },
   {
    "duration": 11,
    "start_time": "2021-10-04T11:42:03.942Z"
   },
   {
    "duration": 8,
    "start_time": "2021-10-04T11:42:03.955Z"
   },
   {
    "duration": 12,
    "start_time": "2021-10-04T11:42:03.965Z"
   },
   {
    "duration": 60,
    "start_time": "2021-10-04T11:42:03.978Z"
   },
   {
    "duration": 15,
    "start_time": "2021-10-04T11:42:04.042Z"
   },
   {
    "duration": 14,
    "start_time": "2021-10-04T11:42:04.060Z"
   },
   {
    "duration": 28,
    "start_time": "2021-10-04T11:42:04.075Z"
   },
   {
    "duration": 17,
    "start_time": "2021-10-04T11:42:04.104Z"
   },
   {
    "duration": 16,
    "start_time": "2021-10-04T11:42:04.122Z"
   },
   {
    "duration": 17,
    "start_time": "2021-10-04T11:42:04.140Z"
   },
   {
    "duration": 17,
    "start_time": "2021-10-04T11:42:04.159Z"
   },
   {
    "duration": 14,
    "start_time": "2021-10-04T11:42:04.178Z"
   },
   {
    "duration": 16,
    "start_time": "2021-10-04T11:42:04.193Z"
   },
   {
    "duration": 19,
    "start_time": "2021-10-04T11:42:04.210Z"
   },
   {
    "duration": 19,
    "start_time": "2021-10-04T11:42:04.231Z"
   },
   {
    "duration": 132,
    "start_time": "2021-10-04T11:42:04.251Z"
   },
   {
    "duration": 29,
    "start_time": "2021-10-04T11:42:04.384Z"
   },
   {
    "duration": 352,
    "start_time": "2021-10-04T11:42:04.414Z"
   },
   {
    "duration": 9,
    "start_time": "2021-10-04T11:42:04.767Z"
   },
   {
    "duration": 28,
    "start_time": "2021-10-04T11:42:04.777Z"
   },
   {
    "duration": 7,
    "start_time": "2021-10-04T11:42:04.807Z"
   },
   {
    "duration": 6,
    "start_time": "2021-10-04T11:42:04.815Z"
   },
   {
    "duration": 338,
    "start_time": "2021-10-04T11:42:04.822Z"
   },
   {
    "duration": 8,
    "start_time": "2021-10-04T11:42:05.161Z"
   },
   {
    "duration": 27,
    "start_time": "2021-10-04T11:42:05.170Z"
   },
   {
    "duration": 16,
    "start_time": "2021-10-04T11:42:05.199Z"
   },
   {
    "duration": 12,
    "start_time": "2021-10-04T11:42:05.217Z"
   },
   {
    "duration": 312,
    "start_time": "2021-10-04T11:42:05.231Z"
   },
   {
    "duration": 364,
    "start_time": "2021-10-04T11:42:05.544Z"
   },
   {
    "duration": 16,
    "start_time": "2021-10-04T11:42:05.910Z"
   },
   {
    "duration": 9,
    "start_time": "2021-10-04T11:42:05.927Z"
   },
   {
    "duration": 13,
    "start_time": "2021-10-04T11:42:05.938Z"
   },
   {
    "duration": 16,
    "start_time": "2021-10-04T11:42:05.953Z"
   },
   {
    "duration": 8,
    "start_time": "2021-10-04T11:42:05.970Z"
   },
   {
    "duration": 307,
    "start_time": "2021-10-04T11:42:05.979Z"
   },
   {
    "duration": 13,
    "start_time": "2021-10-04T11:42:06.287Z"
   },
   {
    "duration": 305,
    "start_time": "2021-10-04T11:42:06.302Z"
   },
   {
    "duration": 15,
    "start_time": "2021-10-04T11:42:06.609Z"
   },
   {
    "duration": 12,
    "start_time": "2021-10-04T11:42:06.625Z"
   },
   {
    "duration": 6,
    "start_time": "2021-10-04T11:42:06.638Z"
   },
   {
    "duration": 268,
    "start_time": "2021-10-04T11:42:06.646Z"
   },
   {
    "duration": 4,
    "start_time": "2021-10-04T11:42:06.916Z"
   },
   {
    "duration": 298,
    "start_time": "2021-10-04T11:42:06.921Z"
   },
   {
    "duration": 10,
    "start_time": "2021-10-04T11:42:07.221Z"
   },
   {
    "duration": 15,
    "start_time": "2021-10-04T11:42:07.232Z"
   },
   {
    "duration": 286,
    "start_time": "2021-10-04T11:42:07.248Z"
   },
   {
    "duration": 3,
    "start_time": "2021-10-04T11:42:07.536Z"
   },
   {
    "duration": 181,
    "start_time": "2021-10-04T11:42:07.540Z"
   },
   {
    "duration": 4,
    "start_time": "2021-10-04T11:42:07.723Z"
   },
   {
    "duration": 5,
    "start_time": "2021-10-04T11:42:07.732Z"
   },
   {
    "duration": 11,
    "start_time": "2021-10-04T11:42:07.738Z"
   },
   {
    "duration": 6,
    "start_time": "2021-10-04T11:42:07.750Z"
   },
   {
    "duration": 45,
    "start_time": "2021-10-04T11:42:07.757Z"
   },
   {
    "duration": 8,
    "start_time": "2021-10-04T11:42:07.804Z"
   },
   {
    "duration": 30,
    "start_time": "2021-10-04T11:42:07.814Z"
   },
   {
    "duration": 17,
    "start_time": "2021-10-04T11:42:07.846Z"
   },
   {
    "duration": 10,
    "start_time": "2021-10-04T11:42:07.866Z"
   },
   {
    "duration": 21,
    "start_time": "2021-10-04T11:42:07.877Z"
   },
   {
    "duration": 344,
    "start_time": "2021-10-04T11:42:07.900Z"
   },
   {
    "duration": 8,
    "start_time": "2021-10-04T11:42:08.246Z"
   },
   {
    "duration": 9,
    "start_time": "2021-10-04T11:42:08.256Z"
   },
   {
    "duration": 424,
    "start_time": "2021-10-04T11:42:08.266Z"
   }
  ],
  "kernelspec": {
   "display_name": "Python 3",
   "language": "python",
   "name": "python3"
  },
  "language_info": {
   "codemirror_mode": {
    "name": "ipython",
    "version": 3
   },
   "file_extension": ".py",
   "mimetype": "text/x-python",
   "name": "python",
   "nbconvert_exporter": "python",
   "pygments_lexer": "ipython3",
   "version": "3.7.9"
  },
  "toc": {
   "base_numbering": 1,
   "nav_menu": {},
   "number_sections": true,
   "sideBar": true,
   "skip_h1_title": true,
   "title_cell": "Table of Contents",
   "title_sidebar": "Contents",
   "toc_cell": false,
   "toc_position": {
    "height": "calc(100% - 180px)",
    "left": "10px",
    "top": "150px",
    "width": "352px"
   },
   "toc_section_display": true,
   "toc_window_display": true
  },
  "varInspector": {
   "cols": {
    "lenName": 16,
    "lenType": 16,
    "lenVar": 40
   },
   "kernels_config": {
    "python": {
     "delete_cmd_postfix": "",
     "delete_cmd_prefix": "del ",
     "library": "var_list.py",
     "varRefreshCmd": "print(var_dic_list())"
    },
    "r": {
     "delete_cmd_postfix": ") ",
     "delete_cmd_prefix": "rm(",
     "library": "var_list.r",
     "varRefreshCmd": "cat(var_dic_list()) "
    }
   },
   "types_to_exclude": [
    "module",
    "function",
    "builtin_function_or_method",
    "instance",
    "_Feature"
   ],
   "window_display": false
  }
 },
 "nbformat": 4,
 "nbformat_minor": 2
}
